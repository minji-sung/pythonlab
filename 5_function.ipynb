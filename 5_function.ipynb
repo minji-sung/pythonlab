{
  "nbformat": 4,
  "nbformat_minor": 0,
  "metadata": {
    "colab": {
      "name": "20210602_4팀_성민지.ipynb",
      "provenance": [],
      "include_colab_link": true
    },
    "kernelspec": {
      "name": "python3",
      "display_name": "Python 3"
    },
    "language_info": {
      "name": "python"
    }
  },
  "cells": [
    {
      "cell_type": "markdown",
      "metadata": {
        "id": "view-in-github",
        "colab_type": "text"
      },
      "source": [
        "<a href=\"https://colab.research.google.com/github/minji-sung/pythonlab/blob/main/5_function.ipynb\" target=\"_parent\"><img src=\"https://colab.research.google.com/assets/colab-badge.svg\" alt=\"Open In Colab\"/></a>"
      ]
    },
    {
      "cell_type": "markdown",
      "metadata": {
        "id": "X0MotxPp4RM5"
      },
      "source": [
        "20210602"
      ]
    },
    {
      "cell_type": "code",
      "metadata": {
        "colab": {
          "base_uri": "https://localhost:8080/"
        },
        "id": "y5B3JpfJ4TsE",
        "outputId": "8d331d69-0992-49cb-a3ec-d546a4ec82f5"
      },
      "source": [
        "#횟수제어반복: for 구조\n",
        "#range(): 시작값~(끝값-1)\n",
        "#while; 조건식의 결과가 True인 동안 반복된다. False가 되면 반복 벗어나\n",
        "#while 조건식:\n",
        "    #명령블록"
      ],
      "execution_count": null,
      "outputs": [
        {
          "output_type": "execute_result",
          "data": {
            "text/plain": [
              "range(0, 5)"
            ]
          },
          "metadata": {
            "tags": []
          },
          "execution_count": 1
        }
      ]
    },
    {
      "cell_type": "code",
      "metadata": {
        "id": "0dnyf_mV5wj9"
      },
      "source": [
        "#all about list\n",
        "#list1 = [a, b, c]\n",
        "#list2 = list(range(start, end, step))\n",
        "#요소 추출: list1[index]"
      ],
      "execution_count": null,
      "outputs": []
    },
    {
      "cell_type": "code",
      "metadata": {
        "id": "ZDRILaWy6g6g"
      },
      "source": [
        "#튜플: ()\n",
        "# 정의후 변경 불가 (요소 변경 불가)\n",
        "# 요소가 1개일때의 튜플은 마지막에 콤마,를 붙여준다. "
      ],
      "execution_count": null,
      "outputs": []
    },
    {
      "cell_type": "code",
      "metadata": {
        "id": "0OUXC9pi6pRJ"
      },
      "source": [
        "#딕셔너리: 딕셔너리명 = {key1:value1, key2:value2,...}\n",
        "#추가, 수정 가능 -> key 값을 통해서 밸류를 할당하기 \n",
        "#keys & values = items\n",
        "#length -> len()\n",
        "#sorted(name.keys()) "
      ],
      "execution_count": null,
      "outputs": []
    },
    {
      "cell_type": "code",
      "metadata": {
        "id": "loSBJWK-7Fug"
      },
      "source": [
        "#집합: 집합명 = {a, b, c, ...n}\n",
        "#Index 개념 없어 -> 요소로만 "
      ],
      "execution_count": null,
      "outputs": []
    },
    {
      "cell_type": "code",
      "metadata": {
        "id": "Y8vc_Hfe7fBX"
      },
      "source": [
        "#함수: 내장함수, 외장함수, 사용자정의 함수\n",
        "dir(__builtins__)"
      ],
      "execution_count": null,
      "outputs": []
    },
    {
      "cell_type": "code",
      "metadata": {
        "colab": {
          "base_uri": "https://localhost:8080/"
        },
        "id": "oOcQkI1I9TUj",
        "outputId": "232dc28d-c706-46f9-e4a3-153a121aa02e"
      },
      "source": [
        "import calendar\n",
        "print(calendar.month(2021,5))"
      ],
      "execution_count": null,
      "outputs": [
        {
          "output_type": "stream",
          "text": [
            "      May 2021\n",
            "Mo Tu We Th Fr Sa Su\n",
            "                1  2\n",
            " 3  4  5  6  7  8  9\n",
            "10 11 12 13 14 15 16\n",
            "17 18 19 20 21 22 23\n",
            "24 25 26 27 28 29 30\n",
            "31\n",
            "\n"
          ],
          "name": "stdout"
        }
      ]
    },
    {
      "cell_type": "code",
      "metadata": {
        "colab": {
          "base_uri": "https://localhost:8080/"
        },
        "id": "EE7ELCP69ZR4",
        "outputId": "4b60e3f0-7040-497f-ea52-47596abffd72"
      },
      "source": [
        "from calendar import month\n",
        "print(month(2021,5))"
      ],
      "execution_count": null,
      "outputs": [
        {
          "output_type": "stream",
          "text": [
            "      May 2021\n",
            "Mo Tu We Th Fr Sa Su\n",
            "                1  2\n",
            " 3  4  5  6  7  8  9\n",
            "10 11 12 13 14 15 16\n",
            "17 18 19 20 21 22 23\n",
            "24 25 26 27 28 29 30\n",
            "31\n",
            "\n"
          ],
          "name": "stdout"
        }
      ]
    },
    {
      "cell_type": "code",
      "metadata": {
        "colab": {
          "base_uri": "https://localhost:8080/"
        },
        "id": "r2VFFkwM9fsV",
        "outputId": "4f2c0388-3978-472c-b085-39f06e9ef8c9"
      },
      "source": [
        "import random\n",
        "list_data = [1, 2, 3, 4, 5]\n",
        "random.choice(list_data)"
      ],
      "execution_count": null,
      "outputs": [
        {
          "output_type": "execute_result",
          "data": {
            "text/plain": [
              "5"
            ]
          },
          "metadata": {
            "tags": []
          },
          "execution_count": 7
        }
      ]
    },
    {
      "cell_type": "code",
      "metadata": {
        "colab": {
          "base_uri": "https://localhost:8080/"
        },
        "id": "vhhchHuU-AYd",
        "outputId": "9f96ee48-8fb0-4a43-f3ab-9aa4d2a46baf"
      },
      "source": [
        "time()\n",
        "sleep()"
      ],
      "execution_count": null,
      "outputs": [
        {
          "output_type": "stream",
          "text": [
            "CPU times: user 3 µs, sys: 1e+03 ns, total: 4 µs\n",
            "Wall time: 7.63 µs\n"
          ],
          "name": "stdout"
        },
        {
          "output_type": "execute_result",
          "data": {
            "text/plain": [
              "()"
            ]
          },
          "metadata": {
            "tags": []
          },
          "execution_count": 10
        }
      ]
    },
    {
      "cell_type": "code",
      "metadata": {
        "colab": {
          "base_uri": "https://localhost:8080/"
        },
        "id": "dRr65Qqu-RTm",
        "outputId": "3cdd5fb7-c921-4d68-f6ad-b3f0bc5afb7c"
      },
      "source": [
        "#오늘 날짜 구하기\n",
        "\n",
        "import datetime\n",
        "\n",
        "date1 = datetime.date.today()\n",
        "date2 = datetime.date(1991,6,5)\n",
        "print(date1-date2)"
      ],
      "execution_count": null,
      "outputs": [
        {
          "output_type": "stream",
          "text": [
            "10955 days, 0:00:00\n"
          ],
          "name": "stdout"
        }
      ]
    },
    {
      "cell_type": "code",
      "metadata": {
        "colab": {
          "base_uri": "https://localhost:8080/"
        },
        "id": "sVBnfIsV-0Pl",
        "outputId": "00a2cccb-7cdb-461f-938c-8c9aa9afd667"
      },
      "source": [
        "import random\n",
        "\n",
        "\n",
        "a = random.random()             #random float x, 0 <= x <1.0\n",
        "b = random.uniform(1, 10)       #random float x, 0 <= x <10\n",
        "c = random.randint(1, 10)       #random int\n",
        "d = random.randrange(0, 101, 2)\n",
        "e = random.choice('abcdefghij')\n",
        "f = random.choice(['가위', '바위', '보'])\n",
        "\n",
        "mylist = [\"apple\", \"banana\", \"cherry\"]\n",
        "random.shuffle(mylist)\n",
        "print(mylist)\n",
        "\n",
        "print(a, b, c, d, e, f)"
      ],
      "execution_count": null,
      "outputs": [
        {
          "output_type": "stream",
          "text": [
            "['apple', 'banana', 'cherry']\n",
            "0.9380933929156149 9.778461443392462 2 88 h 가위\n"
          ],
          "name": "stdout"
        }
      ]
    },
    {
      "cell_type": "code",
      "metadata": {
        "colab": {
          "base_uri": "https://localhost:8080/"
        },
        "id": "CdQDXmTVBGOV",
        "outputId": "8e524f06-45c7-4453-d8aa-92c6df86f455"
      },
      "source": [
        "#사용자정의 함수\n",
        "# def 함수명(매개변수):\n",
        "    #함수기능\n",
        "    #return 반환값 \n",
        "#function name \n",
        "#arguent value : 매개변수\n",
        "#return value\n",
        "\n",
        "def sum1(a, b):\n",
        "    c = a + b\n",
        "    return c\n",
        "\n",
        "sum1(4, 5)"
      ],
      "execution_count": null,
      "outputs": [
        {
          "output_type": "execute_result",
          "data": {
            "text/plain": [
              "9"
            ]
          },
          "metadata": {
            "tags": []
          },
          "execution_count": 24
        }
      ]
    },
    {
      "cell_type": "code",
      "metadata": {
        "colab": {
          "base_uri": "https://localhost:8080/"
        },
        "id": "cRr66cz3CBP9",
        "outputId": "a727f525-e481-414b-e128-bfaebb90921b"
      },
      "source": [
        "#예제: 환영 메시지 출력\n",
        "\n",
        "def say_hello():\n",
        "    print('안녕하세요')\n",
        "    print('환영합니다')\n",
        "    print('즐거운시간되세요')\n",
        "say_hello()\n",
        "\n",
        "for i in range(3):\n",
        "    say_hello()"
      ],
      "execution_count": null,
      "outputs": [
        {
          "output_type": "stream",
          "text": [
            "안녕하세요\n",
            "환영합니다\n",
            "즐거운시간되세요\n",
            "안녕하세요\n",
            "환영합니다\n",
            "즐거운시간되세요\n",
            "안녕하세요\n",
            "환영합니다\n",
            "즐거운시간되세요\n",
            "안녕하세요\n",
            "환영합니다\n",
            "즐거운시간되세요\n"
          ],
          "name": "stdout"
        }
      ]
    },
    {
      "cell_type": "code",
      "metadata": {
        "colab": {
          "base_uri": "https://localhost:8080/"
        },
        "id": "g9jMl-0FCQTy",
        "outputId": "ddb1ab00-7a61-4c07-c5b8-850ac4912b6f"
      },
      "source": [
        "def say_hello(name1, name2):\n",
        "    print(f'안녕하세요, {name1}님')\n",
        "    print(f'환영합니다, {name2}님')\n",
        "    print('즐거운시간되세요')\n",
        "\n",
        "say_hello('홍길동', '홍자매')"
      ],
      "execution_count": null,
      "outputs": [
        {
          "output_type": "stream",
          "text": [
            "안녕하세요, 홍길동님\n",
            "환영합니다, 홍자매님\n",
            "즐거운시간되세요\n"
          ],
          "name": "stdout"
        }
      ]
    },
    {
      "cell_type": "code",
      "metadata": {
        "colab": {
          "base_uri": "https://localhost:8080/"
        },
        "id": "bSyX8C5VGThS",
        "outputId": "ef8a38c2-07a5-41d2-ef42-694c277eccc7"
      },
      "source": [
        "#예제: 원의 넓이 구하기\n",
        "\n",
        "def circle_area(radius):\n",
        "    area = 3.14*radius**2\n",
        "    return area\n",
        "\n",
        "circle_area(5)"
      ],
      "execution_count": null,
      "outputs": [
        {
          "output_type": "execute_result",
          "data": {
            "text/plain": [
              "78.5"
            ]
          },
          "metadata": {
            "tags": []
          },
          "execution_count": 31
        }
      ]
    },
    {
      "cell_type": "code",
      "metadata": {
        "colab": {
          "base_uri": "https://localhost:8080/"
        },
        "id": "iEyzvm_kHYfC",
        "outputId": "5c6aadd0-01e7-42b0-bd71-676e382fa213"
      },
      "source": [
        "#예제: 사칙연산\n",
        "\n",
        "def get_plus(num1, num2):\n",
        "    result = num1 + num2\n",
        "    return result\n",
        "get_plus(1, 2)\n",
        "\n",
        "def get_subs(num1, num2):\n",
        "    result = num1 - num2\n",
        "    return result\n",
        "get_subs(2, 3)\n",
        "\n",
        "def get_multi(num1, num2):\n",
        "    result = num1*num2\n",
        "    return result\n",
        "get_multi(3, 4)\n",
        "\n",
        "def get_div(num1, num2):\n",
        "   # result = 'None'\n",
        "    if num2 == 0:\n",
        "            print('다른 수 입력하세요')\n",
        "    else:\n",
        "        result = num1/num2\n",
        "        return result\n",
        "\n",
        "get_div(2, 2)\n",
        "    "
      ],
      "execution_count": null,
      "outputs": [
        {
          "output_type": "execute_result",
          "data": {
            "text/plain": [
              "1.0"
            ]
          },
          "metadata": {
            "tags": []
          },
          "execution_count": 50
        }
      ]
    },
    {
      "cell_type": "code",
      "metadata": {
        "colab": {
          "base_uri": "https://localhost:8080/",
          "height": 198
        },
        "id": "22VrvKE7LuAr",
        "outputId": "db1f7f31-96ac-4adf-c89e-e6afbd2b4e8f"
      },
      "source": [
        "# 지역변수? 전역변수? \n",
        "# 함수 내에서 생성한 변수가 지역변수 / 함수 밖은 전역변수\n",
        "\n",
        "def get_plus_minus(num1, num2):\n",
        "    plus = num1 + num2\n",
        "    minus = num1 - num2\n",
        "    return plus, minus\n",
        "#print (plus, minus)"
      ],
      "execution_count": null,
      "outputs": [
        {
          "output_type": "error",
          "ename": "NameError",
          "evalue": "ignored",
          "traceback": [
            "\u001b[0;31m---------------------------------------------------------------------------\u001b[0m",
            "\u001b[0;31mNameError\u001b[0m                                 Traceback (most recent call last)",
            "\u001b[0;32m<ipython-input-51-57604a234068>\u001b[0m in \u001b[0;36m<module>\u001b[0;34m()\u001b[0m\n\u001b[1;32m      6\u001b[0m     \u001b[0mminus\u001b[0m \u001b[0;34m=\u001b[0m \u001b[0mnum1\u001b[0m \u001b[0;34m-\u001b[0m \u001b[0mnum2\u001b[0m\u001b[0;34m\u001b[0m\u001b[0;34m\u001b[0m\u001b[0m\n\u001b[1;32m      7\u001b[0m     \u001b[0;32mreturn\u001b[0m \u001b[0mplus\u001b[0m\u001b[0;34m,\u001b[0m \u001b[0mminus\u001b[0m\u001b[0;34m\u001b[0m\u001b[0;34m\u001b[0m\u001b[0m\n\u001b[0;32m----> 8\u001b[0;31m \u001b[0mprint\u001b[0m \u001b[0;34m(\u001b[0m\u001b[0mplus\u001b[0m\u001b[0;34m,\u001b[0m \u001b[0mminus\u001b[0m\u001b[0;34m)\u001b[0m\u001b[0;34m\u001b[0m\u001b[0;34m\u001b[0m\u001b[0m\n\u001b[0m",
            "\u001b[0;31mNameError\u001b[0m: name 'plus' is not defined"
          ]
        }
      ]
    },
    {
      "cell_type": "code",
      "metadata": {
        "colab": {
          "base_uri": "https://localhost:8080/"
        },
        "id": "JEVpsYbbMAry",
        "outputId": "2260d791-46da-4f42-edde-2b4bb0758132"
      },
      "source": [
        "def circle_area():\n",
        "    area = 3.14*radius**2\n",
        "    return area\n",
        "\n",
        "radius = float(input('반지름:'))\n",
        "circle_area()"
      ],
      "execution_count": null,
      "outputs": [
        {
          "output_type": "stream",
          "text": [
            "반지름:3\n"
          ],
          "name": "stdout"
        },
        {
          "output_type": "execute_result",
          "data": {
            "text/plain": [
              "28.26"
            ]
          },
          "metadata": {
            "tags": []
          },
          "execution_count": 53
        }
      ]
    },
    {
      "cell_type": "code",
      "metadata": {
        "colab": {
          "base_uri": "https://localhost:8080/"
        },
        "id": "egSJBLsGMzu6",
        "outputId": "3d9ab1a3-e820-499c-af55-6117b23535d8"
      },
      "source": [
        "#함수 안에서 전역변수 값 변경하기\n",
        "\n",
        "def circle_area():\n",
        "    area = 3.14*radius**2\n",
        "    return area\n",
        "\n",
        "area = 0        #함수 밖에서 선언함\n",
        "radius = float(input('반지름:'))\n",
        "print('원 넒이:',circle_area())\n",
        "print(area)\n",
        "\n",
        "#return 값으로 생성된 값은 소멸돼. 밖에서 area 가 정의됨"
      ],
      "execution_count": null,
      "outputs": [
        {
          "output_type": "stream",
          "text": [
            "반지름:8\n",
            "원 넒이: 200.96\n",
            "0\n"
          ],
          "name": "stdout"
        }
      ]
    },
    {
      "cell_type": "code",
      "metadata": {
        "colab": {
          "base_uri": "https://localhost:8080/"
        },
        "id": "LFd1-q4pNX57",
        "outputId": "58385c53-ec85-410c-8d9d-b84d82e4a47e"
      },
      "source": [
        "def circle_area():\n",
        "    global area\n",
        "    area = 3.14*radius**2\n",
        "    return area\n",
        "\n",
        "area = 0       #초기값을 준거나 다름 없음 \n",
        "radius = float(input('반지름:'))\n",
        "print('원 넒이:',circle_area())\n",
        "print(area)"
      ],
      "execution_count": null,
      "outputs": [
        {
          "output_type": "stream",
          "text": [
            "반지름:2\n",
            "원 넒이: 12.56\n",
            "12.56\n"
          ],
          "name": "stdout"
        }
      ]
    },
    {
      "cell_type": "code",
      "metadata": {
        "colab": {
          "base_uri": "https://localhost:8080/"
        },
        "id": "UXk4TAz_OvEx",
        "outputId": "f0b99f9c-ec3f-4f6e-d2ab-c954b7e6ebc5"
      },
      "source": [
        "#default 인수\n",
        "\n",
        "def greet(name, msg):\n",
        "    print(f'안녕 {name}, {msg}')\n",
        "\n",
        "greet('철수','좋은아침!')\n"
      ],
      "execution_count": null,
      "outputs": [
        {
          "output_type": "stream",
          "text": [
            "안녕 철수, 좋은아침!\n"
          ],
          "name": "stdout"
        }
      ]
    },
    {
      "cell_type": "code",
      "metadata": {
        "colab": {
          "base_uri": "https://localhost:8080/"
        },
        "id": "iWw8fFSlO7O_",
        "outputId": "ddc0c260-58fd-4375-c84c-21b9d9d8422f"
      },
      "source": [
        "def greet(name = '친구', msg = '잘 지내니?'):\n",
        "    print(f'안녕 {name}, {msg}')\n",
        "\n",
        "greet('철수')\n",
        "\n",
        "# 기본으로 붙어있어서 변수 없어도 출력 ㅇㅇ\n",
        "\n",
        "greet()"
      ],
      "execution_count": null,
      "outputs": [
        {
          "output_type": "stream",
          "text": [
            "안녕 철수, 잘 지내니?\n",
            "안녕 친구, 잘 지내니?\n"
          ],
          "name": "stdout"
        }
      ]
    },
    {
      "cell_type": "code",
      "metadata": {
        "colab": {
          "base_uri": "https://localhost:8080/"
        },
        "id": "7rv2HvYbP82D",
        "outputId": "a36ac119-ef6b-4080-f949-d8bd341e5aa6"
      },
      "source": [
        "#키워드 인수\n",
        "#위치인수와 키워드인수 혼합 사용/ 처음인수엔 그 자리껏\n",
        "\n",
        "def calc(x, y, z):\n",
        "    result = x+y-z\n",
        "    return result\n",
        "\n",
        "calc(1, z=5, y=3)\n",
        "#calc(x=1, 4, 5) #이건 에러\n",
        "calc(4, 2, 3)"
      ],
      "execution_count": null,
      "outputs": [
        {
          "output_type": "execute_result",
          "data": {
            "text/plain": [
              "3"
            ]
          },
          "metadata": {
            "tags": []
          },
          "execution_count": 62
        }
      ]
    },
    {
      "cell_type": "code",
      "metadata": {
        "colab": {
          "base_uri": "https://localhost:8080/"
        },
        "id": "X4Yy887EUFII",
        "outputId": "0a7bc377-bbf0-4471-eebc-579525a50e6c"
      },
      "source": [
        "#multiple arguments\n",
        "# 매개변수의 개수가 가변적일때 사용 \n",
        "\n",
        "def average(*args):         #*하나면 튜플형\n",
        "    print(args)\n",
        "    avrg1 = sum(args)/len(args)\n",
        "    return avrg1\n",
        "\n",
        "print(average(1, 2, 3))\n",
        "print(average(1, 2, 3, 4, 5))\n"
      ],
      "execution_count": null,
      "outputs": [
        {
          "output_type": "stream",
          "text": [
            "(1, 2, 3)\n",
            "2.0\n",
            "(1, 2, 3, 4, 5)\n",
            "3.0\n"
          ],
          "name": "stdout"
        }
      ]
    },
    {
      "cell_type": "code",
      "metadata": {
        "colab": {
          "base_uri": "https://localhost:8080/"
        },
        "id": "zep3xSnQVm8l",
        "outputId": "de634064-4ad1-486e-a8f5-dd76f96cef33"
      },
      "source": [
        "def average(*a):         #*하나면 튜플형\n",
        "    avrg1 = sum(a)/len(a)\n",
        "    return avrg1\n",
        "\n",
        "print(average(1, 2, 3))\n",
        "print(average(1, 2, 3, 4, 5))\n"
      ],
      "execution_count": null,
      "outputs": [
        {
          "output_type": "stream",
          "text": [
            "2.0\n",
            "3.0\n"
          ],
          "name": "stdout"
        }
      ]
    },
    {
      "cell_type": "code",
      "metadata": {
        "colab": {
          "base_uri": "https://localhost:8080/"
        },
        "id": "DqB0gthPV94o",
        "outputId": "cb106cc0-2baa-4efa-8db9-37b240f338da"
      },
      "source": [
        "# Different types of tuples\n",
        "\n",
        "# Empty tuple\n",
        "my_tuple = ()\n",
        "print(my_tuple)\n",
        "\n",
        "# Tuple having integers\n",
        "my_tuple = (1, 2, 3)\n",
        "print(my_tuple)\n",
        "\n",
        "# tuple with mixed datatypes\n",
        "my_tuple = (1, \"Hello\", 3.4)\n",
        "print(my_tuple)\n",
        "\n",
        "# nested tuple\n",
        "my_tuple = (\"mouse\", [8, 4, 6], (1, 2, 3))\n",
        "print(my_tuple)"
      ],
      "execution_count": null,
      "outputs": [
        {
          "output_type": "stream",
          "text": [
            "()\n",
            "(1, 2, 3)\n",
            "(1, 'Hello', 3.4)\n",
            "('mouse', [8, 4, 6], (1, 2, 3))\n"
          ],
          "name": "stdout"
        }
      ]
    },
    {
      "cell_type": "code",
      "metadata": {
        "colab": {
          "base_uri": "https://localhost:8080/"
        },
        "id": "vr6pW23vWFiL",
        "outputId": "8d2f0b59-5ed2-4170-8a29-32edaa737193"
      },
      "source": [
        "my_tuple = 3, 4.6, \"dog\"\n",
        "print(my_tuple)\n",
        "\n",
        "# tuple unpacking is also possible\n",
        "a, b, c = my_tuple\n",
        "\n",
        "print(a)      # 3\n",
        "print(b)      # 4.6\n",
        "print(c)      # dog"
      ],
      "execution_count": null,
      "outputs": [
        {
          "output_type": "stream",
          "text": [
            "(3, 4.6, 'dog')\n",
            "3\n",
            "4.6\n",
            "dog\n"
          ],
          "name": "stdout"
        }
      ]
    },
    {
      "cell_type": "code",
      "metadata": {
        "colab": {
          "base_uri": "https://localhost:8080/"
        },
        "id": "Drk3jq-MWj_7",
        "outputId": "8a739cde-4c10-4a94-8c28-a9e1642f3023"
      },
      "source": [
        "#예제: 소수 여부 판단하기\n",
        "\n",
        "# 소수 여부를 판단해서 리턴해야해\n",
        "# 소수면 True 아니면 False \n",
        "\n",
        "def is_prime(num):\n",
        "    if num <2:\n",
        "        return False\n",
        "    for i in range (2, num):\n",
        "        if num % i == 0:\n",
        "            return False\n",
        "    return True\n",
        "\n",
        "input_num = int(input('숫자:'))\n",
        "if is_prime(input_num):\n",
        "    print('소수입니다')\n",
        "else:\n",
        "    print('소수가 아닙니다')"
      ],
      "execution_count": null,
      "outputs": [
        {
          "output_type": "stream",
          "text": [
            "숫자:89\n",
            "소수입니다\n"
          ],
          "name": "stdout"
        }
      ]
    },
    {
      "cell_type": "code",
      "metadata": {
        "colab": {
          "base_uri": "https://localhost:8080/"
        },
        "id": "IHlrDJ0JXezt",
        "outputId": "0fd044a3-ae0e-4bba-ac0f-08232da335e7"
      },
      "source": [
        "#짝수 여부 판단\n",
        "\n",
        "def is_even(num):\n",
        "    if num%2 == 0:\n",
        "        return True\n",
        "\n",
        "input_num = int(input('숫자:'))\n",
        "if is_even(input_num):\n",
        "    print('짝수입니다')\n",
        "else:\n",
        "    print('짝수가 아닙니다')"
      ],
      "execution_count": null,
      "outputs": [
        {
          "output_type": "stream",
          "text": [
            "숫자:3\n",
            "짝수가 아닙니다\n"
          ],
          "name": "stdout"
        }
      ]
    },
    {
      "cell_type": "code",
      "metadata": {
        "colab": {
          "base_uri": "https://localhost:8080/"
        },
        "id": "6txAiPacY9vR",
        "outputId": "b8c6152d-986b-41df-f9a2-3e5a03c94174"
      },
      "source": [
        "#0이 합격 / 1이 불합격\n",
        "\n",
        "def is_accepted(num):\n",
        "    if num == 0:\n",
        "        return True\n",
        "\n",
        "import random\n",
        "input_num = random.randint(0, 1)\n",
        "print(input_num)\n",
        "if is_accepted(input_num):\n",
        "    print('합격입니다')\n",
        "else:\n",
        "    print('불합격입니다') "
      ],
      "execution_count": null,
      "outputs": [
        {
          "output_type": "stream",
          "text": [
            "0\n",
            "합격입니다\n"
          ],
          "name": "stdout"
        }
      ]
    },
    {
      "cell_type": "code",
      "metadata": {
        "colab": {
          "base_uri": "https://localhost:8080/"
        },
        "id": "_p55Vd9-aTXz",
        "outputId": "790caa89-ca5d-4fd5-9647-e776805dbbb7"
      },
      "source": [
        "# 70점 기준\n",
        "\n",
        "def is_accepted(num):\n",
        "    if num >= 70:\n",
        "        return True\n",
        "    else:\n",
        "        return False\n",
        "\n",
        "import random\n",
        "input_num = random.randint(0, 100)\n",
        "print(input_num)\n",
        "if is_accepted(input_num):\n",
        "    print('합격입니다')\n",
        "else:\n",
        "    print('불합격입니다') "
      ],
      "execution_count": null,
      "outputs": [
        {
          "output_type": "stream",
          "text": [
            "39\n",
            "불합격입니다\n"
          ],
          "name": "stdout"
        }
      ]
    },
    {
      "cell_type": "code",
      "metadata": {
        "colab": {
          "base_uri": "https://localhost:8080/"
        },
        "id": "cJ_ro4c5cxbr",
        "outputId": "9b54073a-d665-4f18-9516-d99b794fb129"
      },
      "source": [
        "# 70점 기준\n",
        "\n",
        "def is_accepted(num):\n",
        "    if num >= 70:\n",
        "        return True\n",
        "    else:\n",
        "        return False\n",
        "\n",
        "input_num = int(input('점수를 입력하시오:'))\n",
        "# print(is_accepted(input_num))\n",
        "if is_accepted(input_num):\n",
        "    print('합격입니다')\n",
        "else:\n",
        "    print('불합격입니다')"
      ],
      "execution_count": null,
      "outputs": [
        {
          "output_type": "stream",
          "text": [
            "점수를 입력하시오:69\n",
            "불합격입니다\n"
          ],
          "name": "stdout"
        }
      ]
    },
    {
      "cell_type": "code",
      "metadata": {
        "colab": {
          "base_uri": "https://localhost:8080/",
          "height": 52
        },
        "id": "yGDgxYOCdN6G",
        "outputId": "d8cd9ac1-7d25-4434-8a1e-846869893aa2"
      },
      "source": [
        "#예제: 오늘의 메뉴\n",
        "\n",
        "def today_menu(*a):\n",
        "    a = random.choice(a)\n",
        "    return a\n",
        "\n",
        "print('오늘의 메뉴')\n",
        "today_menu('김밥','떡볶이','오뎅')\n"
      ],
      "execution_count": null,
      "outputs": [
        {
          "output_type": "stream",
          "text": [
            "오늘의 메뉴\n"
          ],
          "name": "stdout"
        },
        {
          "output_type": "execute_result",
          "data": {
            "application/vnd.google.colaboratory.intrinsic+json": {
              "type": "string"
            },
            "text/plain": [
              "'떡볶이'"
            ]
          },
          "metadata": {
            "tags": []
          },
          "execution_count": 117
        }
      ]
    },
    {
      "cell_type": "code",
      "metadata": {
        "colab": {
          "base_uri": "https://localhost:8080/"
        },
        "id": "BJ22gmqklEpF",
        "outputId": "c2422a10-5a8c-419c-a7be-8730a88a7d41"
      },
      "source": [
        "#매개변수가 주어지지 않았을때!\n",
        "\n",
        "def today_menu(*a):\n",
        "    for i in a:\n",
        "        print(i)\n",
        "print('==오늘의 메뉴==')\n",
        "today_menu('김밥','떡볶이','오뎅')\n"
      ],
      "execution_count": null,
      "outputs": [
        {
          "output_type": "stream",
          "text": [
            "오늘의 메뉴\n",
            "김밥\n",
            "떡볶이\n",
            "오뎅\n"
          ],
          "name": "stdout"
        }
      ]
    },
    {
      "cell_type": "code",
      "metadata": {
        "colab": {
          "base_uri": "https://localhost:8080/"
        },
        "id": "DEr6pujXlQ0t",
        "outputId": "8d9e29ff-9cdf-4af2-9915-7f114cb08570"
      },
      "source": [
        "def today_menu(*a):\n",
        "    for i in range(len(a)):\n",
        "        print(a[i])\n",
        "print('==오늘의 메뉴==')\n",
        "today_menu('김밥','떡볶이','오뎅')\n"
      ],
      "execution_count": null,
      "outputs": [
        {
          "output_type": "stream",
          "text": [
            "오늘의 메뉴\n",
            "김밥\n",
            "떡볶이\n",
            "오뎅\n"
          ],
          "name": "stdout"
        }
      ]
    },
    {
      "cell_type": "code",
      "metadata": {
        "colab": {
          "base_uri": "https://localhost:8080/"
        },
        "id": "LlmK-oEYl8Ag",
        "outputId": "0f855c4a-6268-44e0-dcc4-1bad312f7e03"
      },
      "source": [
        "# lambda() 함수: 한줄로 간단하게 만들어준대\n",
        "\n",
        "def plus(a, b):\n",
        "    result = a+b\n",
        "    return result\n",
        "print(plus(1, 2))\n",
        "\n",
        "plus = lambda a, b: a+b\n",
        "print(plus(1, 2))"
      ],
      "execution_count": null,
      "outputs": [
        {
          "output_type": "stream",
          "text": [
            "3\n",
            "3\n"
          ],
          "name": "stdout"
        }
      ]
    },
    {
      "cell_type": "code",
      "metadata": {
        "colab": {
          "base_uri": "https://localhost:8080/"
        },
        "id": "DOUUT5eVmNqo",
        "outputId": "e1bf9359-d2ce-4cce-a022-733b66ea1ab9"
      },
      "source": [
        "circle_a = lambda a: 3.14*a**2\n",
        "print(circle_a(4))"
      ],
      "execution_count": null,
      "outputs": [
        {
          "output_type": "stream",
          "text": [
            "50.24\n"
          ],
          "name": "stdout"
        }
      ]
    },
    {
      "cell_type": "code",
      "metadata": {
        "colab": {
          "base_uri": "https://localhost:8080/"
        },
        "id": "IoRTBPg_mrhF",
        "outputId": "465c6c66-4d4f-499f-bfe8-fea9a4f0e0e2"
      },
      "source": [
        "def circle_area(radius):\n",
        "    global area\n",
        "    area = 3.14*radius**2\n",
        "    return area\n",
        "\n",
        "print(circle_area(4))"
      ],
      "execution_count": null,
      "outputs": [
        {
          "output_type": "stream",
          "text": [
            "50.24\n"
          ],
          "name": "stdout"
        }
      ]
    },
    {
      "cell_type": "code",
      "metadata": {
        "colab": {
          "base_uri": "https://localhost:8080/"
        },
        "id": "NcVGzHkCnFnn",
        "outputId": "866cf3fc-9190-46ef-bca5-666d6c551619"
      },
      "source": [
        "# map()\n",
        "# 두개의 인자를 갖는 함수로 순서가 있는 자료형에 사용\n",
        "# 첫번째 인자는 함수명, 두번째 인자는 순서있는 자료형\n",
        "\n",
        "mylist = [1, 2, 3, 4, 5]\n",
        "plus10 = lambda num: num+10\n",
        "circle_a = lambda a: 3.14*a**2\n",
        "\n",
        "mylist1 = list(map(plus10, mylist))\n",
        "print(mylist1)\n",
        "\n",
        "mylist2 = list(map(circle_a, mylist))\n",
        "print(mylist2)\n"
      ],
      "execution_count": null,
      "outputs": [
        {
          "output_type": "stream",
          "text": [
            "[11, 12, 13, 14, 15]\n",
            "[3.14, 12.56, 28.26, 50.24, 78.5]\n"
          ],
          "name": "stdout"
        }
      ]
    },
    {
      "cell_type": "code",
      "metadata": {
        "colab": {
          "base_uri": "https://localhost:8080/"
        },
        "id": "cg5S5uCEo8KD",
        "outputId": "cbb65cc3-0e79-4b08-dbf5-5f4209e76606"
      },
      "source": [
        "#재귀함수: 함수 안에서 함수 자기 자신 호출\n",
        "#무한반복의 소지가 다분해\n",
        "\n",
        "def hello(count):\n",
        "    if count == 0:              #종료 조건 = count 가 0이면 끝\n",
        "        return\n",
        "\n",
        "    print('hello, world', count)\n",
        "\n",
        "    count -= 1                  #count 1감소시킨뒤\n",
        "    hello(count)                #다시 함수에 넣음 \n",
        "\n",
        "hello (3)"
      ],
      "execution_count": null,
      "outputs": [
        {
          "output_type": "stream",
          "text": [
            "hello, world 3\n",
            "hello, world 2\n",
            "hello, world 1\n"
          ],
          "name": "stdout"
        }
      ]
    },
    {
      "cell_type": "code",
      "metadata": {
        "colab": {
          "base_uri": "https://localhost:8080/"
        },
        "id": "Uc_R-2m0p7Af",
        "outputId": "ba3ba3f5-c82c-420d-9a9b-fce3016cef6d"
      },
      "source": [
        "def factorial(n):\n",
        "    if n == 1:\n",
        "        return 1\n",
        "    \n",
        "    return n*factorial(n-1)\n",
        "\n",
        "print(factorial(3))\n"
      ],
      "execution_count": null,
      "outputs": [
        {
          "output_type": "stream",
          "text": [
            "6\n"
          ],
          "name": "stdout"
        }
      ]
    },
    {
      "cell_type": "code",
      "metadata": {
        "colab": {
          "base_uri": "https://localhost:8080/"
        },
        "id": "sBkSFF02r7le",
        "outputId": "6ecd1ff7-1ae0-4ca1-f5e2-35a13734ef93"
      },
      "source": [
        "#딕셔너리 요소 추출\n",
        "dict_scores = {\n",
        "    'a':80,\n",
        "    'b':90,\n",
        "    'c':100\n",
        "}\n",
        "\n",
        "dict_scores.get('a')"
      ],
      "execution_count": null,
      "outputs": [
        {
          "output_type": "execute_result",
          "data": {
            "text/plain": [
              "80"
            ]
          },
          "metadata": {
            "tags": []
          },
          "execution_count": 131
        }
      ]
    },
    {
      "cell_type": "code",
      "metadata": {
        "id": "MlnSCva6saOb"
      },
      "source": [
        "#예제: 편의점 재고관리 시스템\n",
        "#프로그램에는 세개의 메뉴: 재고등록, 물건판매, 재고조회\n",
        "\n",
        "while True:\n",
        "    print('''\n",
        "    =======재고관리 시스템======\n",
        "    1:재고등록, 2:제품판매, 3:재고확인, 0: 프로그램종료\n",
        "    ''')\n",
        "\n",
        "    menu = input('메뉴 선택하세요:')\n",
        "    if menu == '0':\n",
        "        break\n",
        "    elif menu == '1':\n",
        "\n",
        "\n",
        "\n",
        "\n"
      ],
      "execution_count": null,
      "outputs": []
    },
    {
      "cell_type": "code",
      "metadata": {
        "id": "jS91OtMywICy"
      },
      "source": [
        "while True:\n",
        "    print('''\n",
        "    ==== 재고관리 시스템 ====\n",
        "    1:재고등록, 2:제품판매, 3:재고확인, 0:프로그램 종료\n",
        "    ''')\n",
        "\n",
        "    menu = input('메뉴를 선택하세요:')\n",
        "    if menu == '0':\n",
        "        break\n",
        "    elif menu == '1':\n",
        "        print('재고등록')\n",
        "        a={'삼각김밥':10,'커피우유':10}\n",
        "        while True:\n",
        "            product = input('물건이름: ')\n",
        "            if product =='':\n",
        "                break\n",
        "            num = int(input('개수: '))\n",
        "            if product in a.keys():\n",
        "                a[product] += num\n",
        "            else:\n",
        "                a[product] = num\n",
        "        print('_'*50)\n",
        "        for key,value in sorted(a.items()):\n",
        "            print(key, value)\n",
        "\n",
        "\n",
        "    elif menu == '2':\n",
        "        print('제품판매')\n",
        "        while True:\n",
        "            product = input('상품명: ')\n",
        "            if product == '':\n",
        "                break\n",
        "            num = int(input('개수: '))\n",
        "            if product in a.keys():\n",
        "                a[product] -=num\n",
        "                print(f'{a}개 남았습니다')\n",
        "            else:\n",
        "                print('재고가 부족합니다.')\n",
        "        \n",
        "    elif menu == '3':\n",
        "        print('재고확인')\n"
      ],
      "execution_count": null,
      "outputs": []
    }
  ]
}