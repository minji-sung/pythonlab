{
  "nbformat": 4,
  "nbformat_minor": 0,
  "metadata": {
    "colab": {
      "name": "20210524_4팀_성민지.ipynb",
      "provenance": [],
      "include_colab_link": true
    },
    "kernelspec": {
      "name": "python3",
      "display_name": "Python 3"
    },
    "language_info": {
      "name": "python"
    }
  },
  "cells": [
    {
      "cell_type": "markdown",
      "metadata": {
        "id": "view-in-github",
        "colab_type": "text"
      },
      "source": [
        "<a href=\"https://colab.research.google.com/github/minji-sung/pythonlab/blob/main/1_basic%20understanding.ipynb\" target=\"_parent\"><img src=\"https://colab.research.google.com/assets/colab-badge.svg\" alt=\"Open In Colab\"/></a>"
      ]
    },
    {
      "cell_type": "code",
      "metadata": {
        "id": "p3IfwxQZBLho",
        "colab": {
          "base_uri": "https://localhost:8080/",
          "height": 168
        },
        "outputId": "2c3e320f-8db7-4bc1-b046-d873f918e1b9"
      },
      "source": [
        "안녕하세요 "
      ],
      "execution_count": null,
      "outputs": [
        {
          "output_type": "error",
          "ename": "NameError",
          "evalue": "ignored",
          "traceback": [
            "\u001b[0;31m---------------------------------------------------------------------------\u001b[0m",
            "\u001b[0;31mNameError\u001b[0m                                 Traceback (most recent call last)",
            "\u001b[0;32m<ipython-input-1-dda14ce0046f>\u001b[0m in \u001b[0;36m<module>\u001b[0;34m()\u001b[0m\n\u001b[0;32m----> 1\u001b[0;31m \u001b[0m안녕하세요\u001b[0m\u001b[0;34m\u001b[0m\u001b[0;34m\u001b[0m\u001b[0m\n\u001b[0m",
            "\u001b[0;31mNameError\u001b[0m: name '안녕하세요' is not defined"
          ]
        }
      ]
    },
    {
      "cell_type": "code",
      "metadata": {
        "colab": {
          "base_uri": "https://localhost:8080/",
          "height": 35
        },
        "id": "H6F-wY9ODbRQ",
        "outputId": "e6705221-5e38-4790-e37b-1639809f625a"
      },
      "source": [
        "'Test'"
      ],
      "execution_count": null,
      "outputs": [
        {
          "output_type": "execute_result",
          "data": {
            "application/vnd.google.colaboratory.intrinsic+json": {
              "type": "string"
            },
            "text/plain": [
              "'Test'"
            ]
          },
          "metadata": {
            "tags": []
          },
          "execution_count": 2
        }
      ]
    },
    {
      "cell_type": "code",
      "metadata": {
        "colab": {
          "base_uri": "https://localhost:8080/"
        },
        "id": "iILU7zZhDtE2",
        "outputId": "59119b3a-0faa-44e2-c8c1-1062ea380c0e"
      },
      "source": [
        "# 객체의 자료형 확인 type()\n",
        "a= 5 #정수\n",
        "b= 3.14 #실수\n",
        "c= '3.14' #스트링 (문자열)\n",
        "d= \"3.14\"\n",
        "e= -3.14\n",
        "f= 'abcd' + '가나다라'\n",
        "g= '123'*3\n",
        "print(type(a), type(b), type(c), type(d), type(e), type(f), type(g))\n",
        "print(a, b, c, d, e, f, g)\n"
      ],
      "execution_count": null,
      "outputs": [
        {
          "output_type": "stream",
          "text": [
            "<class 'int'> <class 'float'> <class 'str'> <class 'str'> <class 'float'> <class 'str'> <class 'str'>\n",
            "5 3.14 3.14 3.14 -3.14 abcd가나다라 123123123\n",
            "<built-in function all>\n"
          ],
          "name": "stdout"
        }
      ]
    },
    {
      "cell_type": "code",
      "metadata": {
        "colab": {
          "base_uri": "https://localhost:8080/",
          "height": 133
        },
        "id": "sj0z-zJkGgCZ",
        "outputId": "e92485d8-7ff9-463b-97df-b2f8aa52c527"
      },
      "source": [
        "# 변수명 에러 유형\n",
        "1st= '첫번째' #숫자\n",
        "f**t = '첫번째' #특수문자\n",
        "f^st = '첫번재' #특수문자\n",
        "Temp = 1000 #명령어\n",
        "print(temp)\n",
        "print('출력합니다') #한글\n",
        "print(print) #명령어"
      ],
      "execution_count": null,
      "outputs": [
        {
          "output_type": "error",
          "ename": "SyntaxError",
          "evalue": "ignored",
          "traceback": [
            "\u001b[0;36m  File \u001b[0;32m\"<ipython-input-9-94fea425c759>\"\u001b[0;36m, line \u001b[0;32m2\u001b[0m\n\u001b[0;31m    1st= '첫번째' #숫자\u001b[0m\n\u001b[0m      ^\u001b[0m\n\u001b[0;31mSyntaxError\u001b[0m\u001b[0;31m:\u001b[0m invalid syntax\n"
          ]
        }
      ]
    },
    {
      "cell_type": "code",
      "metadata": {
        "colab": {
          "base_uri": "https://localhost:8080/"
        },
        "id": "xePQ7QkWNFY7",
        "outputId": "2cb53f0f-0ea5-41c4-fd40-e32ee344c54f"
      },
      "source": [
        "print(100+200)\n",
        "print(\"hello world!\")"
      ],
      "execution_count": null,
      "outputs": [
        {
          "output_type": "stream",
          "text": [
            "300\n",
            "hello world!\n"
          ],
          "name": "stdout"
        }
      ]
    },
    {
      "cell_type": "code",
      "metadata": {
        "colab": {
          "base_uri": "https://localhost:8080/"
        },
        "id": "1JtVs_AhNN5D",
        "outputId": "05ab95d1-0eef-4c90-9700-141db5ae29fd"
      },
      "source": [
        "temp = 100 #temp 라는 변수 만들어 그 공간에 100 넣기\n",
        "temp #or print(temp)"
      ],
      "execution_count": null,
      "outputs": [
        {
          "output_type": "execute_result",
          "data": {
            "text/plain": [
              "100"
            ]
          },
          "metadata": {
            "tags": []
          },
          "execution_count": 11
        }
      ]
    },
    {
      "cell_type": "code",
      "metadata": {
        "colab": {
          "base_uri": "https://localhost:8080/"
        },
        "id": "BXs5_q0ENV70",
        "outputId": "35dd25d0-2372-4ac2-cb1c-5502926d0b48"
      },
      "source": [
        "temp2 = 200\n",
        "temp2"
      ],
      "execution_count": null,
      "outputs": [
        {
          "output_type": "execute_result",
          "data": {
            "text/plain": [
              "200"
            ]
          },
          "metadata": {
            "tags": []
          },
          "execution_count": 12
        }
      ]
    },
    {
      "cell_type": "code",
      "metadata": {
        "colab": {
          "base_uri": "https://localhost:8080/"
        },
        "id": "GknH0_LpNbDq",
        "outputId": "0391e900-06bf-4304-9aab-e66c3640f76d"
      },
      "source": [
        "temp3 = temp + temp2\n",
        "temp3"
      ],
      "execution_count": null,
      "outputs": [
        {
          "output_type": "execute_result",
          "data": {
            "text/plain": [
              "300"
            ]
          },
          "metadata": {
            "tags": []
          },
          "execution_count": 13
        }
      ]
    },
    {
      "cell_type": "markdown",
      "metadata": {
        "id": "fGVVIQ_BNm1m"
      },
      "source": [
        "str4 = '100'\n",
        "type(str4)\n",
        "int(str4)"
      ]
    },
    {
      "cell_type": "code",
      "metadata": {
        "id": "1OEbTr_EOmV1"
      },
      "source": [
        "# 리스트 자료형은 []로 선언\n",
        "# 배열의 가장 앞 원소 값은 1이 아닌 0\n",
        "# 배열 원서 접근 []안에 배열 순서값 적용\n",
        "# 마지막 원소는 [-1]\n",
        "# 배열은 여러 개의 값을 하나의 리스트로 사용하는 것 "
      ],
      "execution_count": null,
      "outputs": []
    },
    {
      "cell_type": "code",
      "metadata": {
        "colab": {
          "base_uri": "https://localhost:8080/"
        },
        "id": "koWP1TsxO9GC",
        "outputId": "5cc528e5-73ba-4aeb-9ca9-4bb443cc8e0e"
      },
      "source": [
        "list1 = [1, 2, 3, 4, 5, 6, 7, 8, 9, 10]\n",
        "print(list1)"
      ],
      "execution_count": null,
      "outputs": [
        {
          "output_type": "stream",
          "text": [
            "[1, 2, 3, 4, 5, 6, 7, 8, 9, 10]\n"
          ],
          "name": "stdout"
        }
      ]
    },
    {
      "cell_type": "code",
      "metadata": {
        "colab": {
          "base_uri": "https://localhost:8080/"
        },
        "id": "AYR1GfwpPTZM",
        "outputId": "0efb2152-ad5a-43b4-9441-885fda094ee2"
      },
      "source": [
        "len(list1) #list1 배열 원소값 요청, 문자열의 길이 구하기"
      ],
      "execution_count": null,
      "outputs": [
        {
          "output_type": "execute_result",
          "data": {
            "text/plain": [
              "10"
            ]
          },
          "metadata": {
            "tags": []
          },
          "execution_count": 18
        }
      ]
    },
    {
      "cell_type": "code",
      "metadata": {
        "colab": {
          "base_uri": "https://localhost:8080/"
        },
        "id": "NUFKgUauPbiN",
        "outputId": "9cf603e5-8eab-405a-a7db-d29c356b9270"
      },
      "source": [
        "print(list1[0]) #list1의 첫번째 원소값 출력\n",
        "print(list1[-1]) #마지막 원소값 출력\n",
        "print('list1 배열의 마지막 원소값은 '+ str(list1[-1]) +'입니다.')"
      ],
      "execution_count": null,
      "outputs": [
        {
          "output_type": "stream",
          "text": [
            "1\n",
            "10\n",
            "list1 배열의 마지막 원소값은 10입니다.\n"
          ],
          "name": "stdout"
        }
      ]
    },
    {
      "cell_type": "code",
      "metadata": {
        "colab": {
          "base_uri": "https://localhost:8080/"
        },
        "id": "UL2bDRGpQWkZ",
        "outputId": "7a55d806-631b-4935-c403-86fcf61c14e0"
      },
      "source": [
        "# 슬라이싱: 배열원소의 일정 부분만 가져오기 \n",
        "print(list1[2:6]) #list1 배열의 인덱스 2번 (세번째 원소)부터 6번 앞 (6번 제외)까지의 데이터 출력 요청\n",
        "print(list1[2:])\n",
        "print(list1[:6])\n",
        "print(list1[:-1]) #마지막 데이터 앞까지 (마지막 데이터 불포함)"
      ],
      "execution_count": null,
      "outputs": [
        {
          "output_type": "stream",
          "text": [
            "[3, 4, 5, 6]\n",
            "[3, 4, 5, 6, 7, 8, 9, 10]\n",
            "[1, 2, 3, 4, 5, 6]\n",
            "[1, 2, 3, 4, 5, 6, 7, 8, 9]\n"
          ],
          "name": "stdout"
        }
      ]
    },
    {
      "cell_type": "code",
      "metadata": {
        "id": "LFqrP9MPRQmH"
      },
      "source": [
        "#range 이용해서 리스트 만들기 \n",
        "# 리스트 = list(range(횟수))\n",
        "# 리스트 = list(range(시작, 끝))\n",
        "# 리스트 = list(range(시작, 끝, 증가폭))"
      ],
      "execution_count": null,
      "outputs": []
    },
    {
      "cell_type": "code",
      "metadata": {
        "colab": {
          "base_uri": "https://localhost:8080/"
        },
        "id": "DPo31MvlReC1",
        "outputId": "9cce033c-c51c-4152-820b-7e5fe48127e0"
      },
      "source": [
        "list_rg1 = list(range(11))\n",
        "list_rg2 = list(range(5, 12))\n",
        "list_rg3 = list(range(-4, 5, 2))\n",
        "list_rg4 = list(range(20, -1, -1))\n",
        "list_rg5 = list('hello world')\n",
        "\n",
        "print(\"list_rg1은 \", list_rg1, \"입니다\")\n",
        "print(\"list_rg2은 \", list_rg2, \"입니다\")\n",
        "print(\"list_rg3은 \", list_rg3, \"입니다\")\n",
        "print(\"list_rg4은 \", list_rg4, \"입니다\")\n",
        "print(\"list_rg5은 \", list_rg5, \"입니다\")\n"
      ],
      "execution_count": null,
      "outputs": [
        {
          "output_type": "stream",
          "text": [
            "list_rg1은  [0, 1, 2, 3, 4, 5, 6, 7, 8, 9, 10] 입니다\n",
            "list_rg2은  [5, 6, 7, 8, 9, 10, 11] 입니다\n",
            "list_rg3은  [-4, -2, 0, 2, 4] 입니다\n",
            "list_rg4은  [20, 19, 18, 17, 16, 15, 14, 13, 12, 11, 10, 9, 8, 7, 6, 5, 4, 3, 2, 1, 0] 입니다\n",
            "list_rg5은  ['h', 'e', 'l', 'l', 'o', ' ', 'w', 'o', 'r', 'l', 'd'] 입니다\n"
          ],
          "name": "stdout"
        }
      ]
    },
    {
      "cell_type": "code",
      "metadata": {
        "colab": {
          "base_uri": "https://localhost:8080/"
        },
        "id": "QBYpjdF0SVOB",
        "outputId": "8936386c-cc74-4039-91ff-79a1cb5c6438"
      },
      "source": [
        "# 요소의 값 할당하기 및 삭제하기\n",
        "list_rg5\n",
        "list_rg5[0] = 'H'\n",
        "\n",
        "print(\"list_rg_5의 0번째 요소 대문자로 수정 \", list_rg5)\n",
        "\n",
        "del list_rg5[5]\n",
        "print(\"list_rg_5의 5번째 요소 삭제 \", list_rg5)"
      ],
      "execution_count": null,
      "outputs": [
        {
          "output_type": "stream",
          "text": [
            "list_rg_5의 0번째 요소 대문자로 수정  ['H', 'e', 'l', 'l', 'o', 'o', 'r', 'l', 'd']\n",
            "list_rg_5의 5번째 요소 삭제  ['H', 'e', 'l', 'l', 'o', 'r', 'l', 'd']\n"
          ],
          "name": "stdout"
        }
      ]
    },
    {
      "cell_type": "code",
      "metadata": {
        "id": "_GgkA_6ITQgB"
      },
      "source": [
        "# 요소를 수정하지 못하는 튜플\n",
        "# 튜플은 리스트와 같이 요소를 일렬로 저장하지만, 요소를 변경 추가 및 삭제 불가\n",
        "# 튜플은 읽기 전용 리스트\n",
        "\n",
        "# 딕셔너리는 연관된 값을 묶어서 저장\n",
        "# {} 중괄호 안게 키:값 형식으로 저장 "
      ],
      "execution_count": null,
      "outputs": []
    },
    {
      "cell_type": "code",
      "metadata": {
        "colab": {
          "base_uri": "https://localhost:8080/"
        },
        "id": "CVYgV4kiT0a2",
        "outputId": "fe92835f-9100-4108-ba89-0abd9bd8021e"
      },
      "source": [
        "#for\n",
        "# for 변수 in range(시작값, 끝값+1, 증가값) :\n",
        "    # 이 부분을 반복\n",
        "\n",
        "# range()\n",
        "for i in range(0, 3, 1) :\n",
        "    print(\"안녕하세요? for 문을 공부 중입니다. ^^\")\n",
        "# 0, 1, 2 세 번을 반복하는 것. 0부터 3-1 값까지\n"
      ],
      "execution_count": null,
      "outputs": [
        {
          "output_type": "stream",
          "text": [
            "안녕하세요? for 문을 공부 중입니다. ^^\n",
            "안녕하세요? for 문을 공부 중입니다. ^^\n",
            "안녕하세요? for 문을 공부 중입니다. ^^\n"
          ],
          "name": "stdout"
        }
      ]
    },
    {
      "cell_type": "code",
      "metadata": {
        "colab": {
          "base_uri": "https://localhost:8080/"
        },
        "id": "eZWNZZgbUR_u",
        "outputId": "e1787d29-59b1-48f4-d90b-5de3838efa85"
      },
      "source": [
        "# intent \n",
        "# 반복문, 조건문, 함수 등 코드 블록으로 표시\n",
        "# 들여쓰기는 2칸 혹은 4칸 \n",
        "# 반복블럭 정하는 부분의 끝은 콜론 :\n",
        "\n",
        "for x in range(0,3,1) :\n",
        "    print('안녕하세요')"
      ],
      "execution_count": null,
      "outputs": [
        {
          "output_type": "stream",
          "text": [
            "안녕하세요\n",
            "안녕하세요\n",
            "안녕하세요\n"
          ],
          "name": "stdout"
        }
      ]
    },
    {
      "cell_type": "code",
      "metadata": {
        "colab": {
          "base_uri": "https://localhost:8080/"
        },
        "id": "62hQtGOYUlXG",
        "outputId": "1ea38fa2-58f1-4583-a9a4-d60b142ad49c"
      },
      "source": [
        "for x in range(5):\n",
        "    print(x) #range(5)는 0, 1, 2, 3, 4 이므로 다섯번"
      ],
      "execution_count": null,
      "outputs": [
        {
          "output_type": "stream",
          "text": [
            "0\n",
            "1\n",
            "2\n",
            "3\n",
            "4\n"
          ],
          "name": "stdout"
        }
      ]
    },
    {
      "cell_type": "code",
      "metadata": {
        "colab": {
          "base_uri": "https://localhost:8080/"
        },
        "id": "18IBokpNUw1b",
        "outputId": "79737e40-6f56-4d39-9079-90cd6e1388e1"
      },
      "source": [
        "for x in range(2, 4):\n",
        "    print(x)"
      ],
      "execution_count": null,
      "outputs": [
        {
          "output_type": "stream",
          "text": [
            "2\n",
            "3\n"
          ],
          "name": "stdout"
        }
      ]
    },
    {
      "cell_type": "code",
      "metadata": {
        "colab": {
          "base_uri": "https://localhost:8080/"
        },
        "id": "86UNg9M4U6rT",
        "outputId": "a7012b5e-eb44-4507-dc4a-06b2e942899f"
      },
      "source": [
        "# 합계구하기\n",
        "x_sum = 0\n",
        "a = 1\n",
        "b = 11\n",
        "\n",
        "for x in range(a, b):\n",
        "    x_sum += x\n",
        "    print(\"x:\", x, \"sum:\", x_sum)\n",
        "\n",
        "print(a,'부터 ', b-1, \"까지 더한 총합은\", x_sum, \"입니다\")\n",
        "\n"
      ],
      "execution_count": null,
      "outputs": [
        {
          "output_type": "stream",
          "text": [
            "x: 1 sum: 1\n",
            "x: 2 sum: 3\n",
            "x: 3 sum: 6\n",
            "x: 4 sum: 10\n",
            "x: 5 sum: 15\n",
            "x: 6 sum: 21\n",
            "x: 7 sum: 28\n",
            "x: 8 sum: 36\n",
            "x: 9 sum: 45\n",
            "x: 10 sum: 55\n",
            "1 부터  10 까지 더한 총합은 55 입니다\n"
          ],
          "name": "stdout"
        }
      ]
    },
    {
      "cell_type": "code",
      "metadata": {
        "id": "6earm-XWZdbw"
      },
      "source": [
        "# for vs while"
      ],
      "execution_count": null,
      "outputs": []
    },
    {
      "cell_type": "code",
      "metadata": {
        "colab": {
          "base_uri": "https://localhost:8080/"
        },
        "id": "PgjZzALOZhRp",
        "outputId": "5a5fe706-ec70-415b-933d-b2ed5bb37f83"
      },
      "source": [
        "# if 조건문\n",
        "a=102\n",
        "if a<100:\n",
        "    print(\"100보다 작군요.\")\n",
        "else:\n",
        "    print(\"100보다 크군요.\")"
      ],
      "execution_count": null,
      "outputs": [
        {
          "output_type": "stream",
          "text": [
            "100보다 크군요.\n"
          ],
          "name": "stdout"
        }
      ]
    },
    {
      "cell_type": "code",
      "metadata": {
        "colab": {
          "base_uri": "https://localhost:8080/"
        },
        "id": "5fNha3sJaPrL",
        "outputId": "2c9819d7-f3ed-494b-f16d-131e50f557b0"
      },
      "source": [
        "import random #random 무작위 수를 발생시키는 모듈\n",
        "for x in range(3):\n",
        "\n",
        "    test_num1 = random.randint(1, 15)\n",
        "    if test_num1 > 10:\n",
        "        print(test_num1, ' 은 10보다 큽니다')\n",
        "    else:\n",
        "        print(test_num1, ' 은 10보다 작거나 같습니다.')"
      ],
      "execution_count": null,
      "outputs": [
        {
          "output_type": "stream",
          "text": [
            "14  은 10보다 큽니다\n",
            "13  은 10보다 큽니다\n",
            "3  은 10보다 작거나 같습니다.\n"
          ],
          "name": "stdout"
        }
      ]
    },
    {
      "cell_type": "code",
      "metadata": {
        "id": "5sXaV966a2fc"
      },
      "source": [
        "# 조건문\n",
        "# == 같다 != 같지않다"
      ],
      "execution_count": null,
      "outputs": []
    },
    {
      "cell_type": "code",
      "metadata": {
        "colab": {
          "base_uri": "https://localhost:8080/"
        },
        "id": "rovFKUt-bNxQ",
        "outputId": "c87ea29b-a3b3-4a89-ea76-257e659f6d2a"
      },
      "source": [
        "# 함수 만들기\n",
        "def sum(a, b):\n",
        "    c = a+b\n",
        "    return c\n",
        "\n",
        "sum(4, 5)"
      ],
      "execution_count": null,
      "outputs": [
        {
          "output_type": "execute_result",
          "data": {
            "text/plain": [
              "9"
            ]
          },
          "metadata": {
            "tags": []
          },
          "execution_count": 64
        }
      ]
    },
    {
      "cell_type": "code",
      "metadata": {
        "colab": {
          "base_uri": "https://localhost:8080/"
        },
        "id": "0RB8CXs0bY3O",
        "outputId": "097807ec-0d48-41d8-9f7c-dda33887e491"
      },
      "source": [
        "# exercise\n",
        "import random\n",
        "\n",
        "list_04 = ['딸기', '토마토', '망고', '바나나', '감귤', '메론', '수박']\n",
        "\n",
        "for x in range(1):\n",
        "    test_num2 = random.randint(0, 6)\n",
        "    print(list_04[test_num2])\n"
      ],
      "execution_count": null,
      "outputs": [
        {
          "output_type": "stream",
          "text": [
            "수박\n"
          ],
          "name": "stdout"
        }
      ]
    },
    {
      "cell_type": "code",
      "metadata": {
        "colab": {
          "base_uri": "https://localhost:8080/"
        },
        "id": "lH66qmhNi9UL",
        "outputId": "292b6b9d-29a5-41c8-e23a-73aa84d398fc"
      },
      "source": [
        "import random\n",
        "li = ['민초','아봉','사빠딸','바닐라','뉴치케','그린티','자아']\n",
        "choicelist = random.choice(li)\n",
        "print(choicelist)"
      ],
      "execution_count": null,
      "outputs": [
        {
          "output_type": "stream",
          "text": [
            "사빠딸\n"
          ],
          "name": "stdout"
        }
      ]
    },
    {
      "cell_type": "code",
      "metadata": {
        "colab": {
          "base_uri": "https://localhost:8080/"
        },
        "id": "UpZxi0CjjEn6",
        "outputId": "6ba52b81-e924-460c-dc7f-c2cd5447c564"
      },
      "source": [
        "import random\n",
        "list=['강다솔', '김보연', '남지인', '유승한', '윤혜선', '이예빈']\n",
        "x=random.randint(0, len(list)-1)\n",
        "print(list[x])"
      ],
      "execution_count": null,
      "outputs": [
        {
          "output_type": "stream",
          "text": [
            "김보연\n"
          ],
          "name": "stdout"
        }
      ]
    },
    {
      "cell_type": "code",
      "metadata": {
        "colab": {
          "base_uri": "https://localhost:8080/"
        },
        "id": "vvdjLYzCjLt-",
        "outputId": "6f108069-0665-4644-bebf-4922bf1a61d3"
      },
      "source": [
        "list2 = ['토마토','수박', '바나나', '감귤', '딸기', '메론']\n",
        "for x in range(1):\n",
        "    test_num2 = random.randint(0,6)\n",
        "    print(list2[test_num2],'가/이 발표자입니다')"
      ],
      "execution_count": null,
      "outputs": [
        {
          "output_type": "stream",
          "text": [
            "메론 가/이 발표자입니다\n"
          ],
          "name": "stdout"
        }
      ]
    },
    {
      "cell_type": "code",
      "metadata": {
        "colab": {
          "base_uri": "https://localhost:8080/"
        },
        "id": "Pv_79nJIjg0j",
        "outputId": "f62920cf-c63c-4a7b-d1d3-085e87545150"
      },
      "source": [
        "import random\n",
        "list_DT = [\"종엽\",\"지순\",\"승아\",\"윤희\",\"동빈\",\"유진\",\"찬민\"]\n",
        "rand_num = random.randint(0,6)\n",
        "print(\"발표자는 \"+list_DT[rand_num]+\"입니다\")"
      ],
      "execution_count": null,
      "outputs": [
        {
          "output_type": "stream",
          "text": [
            "발표자는 찬민입니다\n"
          ],
          "name": "stdout"
        }
      ]
    },
    {
      "cell_type": "code",
      "metadata": {
        "id": "bM4sNA0CksRx",
        "colab": {
          "base_uri": "https://localhost:8080/"
        },
        "outputId": "47f3eba3-45dc-47f4-f61d-5d0b1a568d57"
      },
      "source": [
        "from random import sample\n",
        "\n",
        "list_member=['Alex','Sophie','Annie','Zoey','Sunny','Paul']\n",
        "\n",
        "print('발표자는', sample(list_member,2),'입니다')"
      ],
      "execution_count": null,
      "outputs": [
        {
          "output_type": "stream",
          "text": [
            "발표자는 ['Paul', 'Sunny'] 입니다\n"
          ],
          "name": "stdout"
        }
      ]
    }
  ]
}