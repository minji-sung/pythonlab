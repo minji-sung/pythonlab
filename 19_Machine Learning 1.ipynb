{
  "nbformat": 4,
  "nbformat_minor": 0,
  "metadata": {
    "colab": {
      "name": "20210713_4팀_성민지_머신러닝.ipynb",
      "provenance": [],
      "authorship_tag": "ABX9TyNV9K0yrD0Lx9M8H1QjYkxv"
    },
    "kernelspec": {
      "name": "python3",
      "display_name": "Python 3"
    },
    "language_info": {
      "name": "python"
    }
  },
  "cells": [
    {
      "cell_type": "markdown",
      "metadata": {
        "id": "5TbiVF03ItBo"
      },
      "source": [
        "## 머신러닝"
      ]
    },
    {
      "cell_type": "code",
      "metadata": {
        "id": "Hewk6jvEF4Nj"
      },
      "source": [
        "# 도미의 특성(feature) : 길이, 무게 데이터\n",
        "bream_length = [25.4, 26.3, 26.5, 29.0, 29.0, 29.7, 29.7, 30.0, 30.0, 30.7, \n",
        "                31.0, 31.0, 31.5, 32.0, 32.0, 32.0, 33.0, 33.0, 33.5, 33.5, \n",
        "                34.0, 34.0, 34.5, 35.0, 35.0, 35.0, 35.0, 36.0, 36.0, 37.0, \n",
        "                38.5, 38.5, 39.5, 41.0, 41.0]\n",
        "bream_weight = [242.0, 290.0, 340.0, 363.0, 430.0, 450.0, 500.0, 390.0, 450.0, 500.0, \n",
        "                475.0, 500.0, 500.0, 340.0, 600.0, 600.0, 700.0, 700.0, 610.0, 650.0, \n",
        "                575.0, 685.0, 620.0, 680.0, 700.0, 725.0, 720.0, 714.0, 850.0, 1000.0, \n",
        "                920.0, 955.0, 925.0, 975.0, 950.0]"
      ],
      "execution_count": null,
      "outputs": []
    },
    {
      "cell_type": "code",
      "metadata": {
        "id": "eoT4HxNqH0jB"
      },
      "source": [
        "# 빙어 데이터\n",
        "smelt_length = [9.8, 10.5, 10.6, 11.0, 11.2, 11.3, 11.8, 11.8, 12.0, 12.2, 12.4, 13.0, 14.3, 15.0]\n",
        "smelt_weight = [6.7, 7.5, 7.0, 9.7, 9.8, 8.7, 10.0, 9.9, 9.8, 12.2, 13.4, 12.2, 19.7, 19.9]"
      ],
      "execution_count": null,
      "outputs": []
    },
    {
      "cell_type": "code",
      "metadata": {
        "colab": {
          "base_uri": "https://localhost:8080/"
        },
        "id": "_n1sqfyDH5u6",
        "outputId": "f5b3c348-e1cc-4750-bd7e-4c40d7947f9b"
      },
      "source": [
        "print(len(bream_length))\n",
        "print(len(bream_weight))"
      ],
      "execution_count": null,
      "outputs": [
        {
          "output_type": "stream",
          "text": [
            "35\n",
            "35\n"
          ],
          "name": "stdout"
        }
      ]
    },
    {
      "cell_type": "code",
      "metadata": {
        "colab": {
          "base_uri": "https://localhost:8080/"
        },
        "id": "COfRn8ACH-r2",
        "outputId": "ea542953-84c2-4c23-f960-9ebffff66003"
      },
      "source": [
        "print(len(smelt_length))\n",
        "print(len(smelt_weight))"
      ],
      "execution_count": null,
      "outputs": [
        {
          "output_type": "stream",
          "text": [
            "14\n",
            "14\n"
          ],
          "name": "stdout"
        }
      ]
    },
    {
      "cell_type": "code",
      "metadata": {
        "id": "2W63t-EwIyp4"
      },
      "source": [
        "import matplotlib.pyplot as plt\n"
      ],
      "execution_count": null,
      "outputs": []
    },
    {
      "cell_type": "code",
      "metadata": {
        "colab": {
          "base_uri": "https://localhost:8080/",
          "height": 279
        },
        "id": "8N3gE_R1I2uo",
        "outputId": "135c0d17-911f-4b7e-eedc-41832bb36122"
      },
      "source": [
        "plt.scatter(bream_length, bream_weight)\n",
        "plt.scatter(smelt_length, smelt_weight)\n",
        "\n",
        "plt.xlabel('length')\n",
        "plt.ylabel('weight')\n",
        "plt.show()"
      ],
      "execution_count": null,
      "outputs": [
        {
          "output_type": "display_data",
          "data": {
            "image/png": "[encoded data removed]",
            "text/plain": [
              "<Figure size 432x288 with 1 Axes>"
            ]
          },
          "metadata": {
            "tags": [],
            "needs_background": "light"
          }
        }
      ]
    },
    {
      "cell_type": "code",
      "metadata": {
        "id": "zIrbrPvqJqYr"
      },
      "source": [
        "length = bream_length + smelt_length\n",
        "weight = bream_weight + smelt_weight\n",
        "\n"
      ],
      "execution_count": null,
      "outputs": []
    },
    {
      "cell_type": "code",
      "metadata": {
        "colab": {
          "base_uri": "https://localhost:8080/"
        },
        "id": "JsCqfosIM2fW",
        "outputId": "ccdb4e9a-7e22-4607-b78d-4caa11b0ff8b"
      },
      "source": [
        "fish_target = [1]*35 + [0]*14\n",
        "print(fish_target)"
      ],
      "execution_count": null,
      "outputs": [
        {
          "output_type": "stream",
          "text": [
            "[1, 1, 1, 1, 1, 1, 1, 1, 1, 1, 1, 1, 1, 1, 1, 1, 1, 1, 1, 1, 1, 1, 1, 1, 1, 1, 1, 1, 1, 1, 1, 1, 1, 1, 1, 0, 0, 0, 0, 0, 0, 0, 0, 0, 0, 0, 0, 0, 0]\n"
          ],
          "name": "stdout"
        }
      ]
    },
    {
      "cell_type": "code",
      "metadata": {
        "colab": {
          "base_uri": "https://localhost:8080/"
        },
        "id": "85fdZ70KQH-l",
        "outputId": "7af8e7dc-784b-4955-9600-55b032c2b31d"
      },
      "source": [
        "len(fish_target)"
      ],
      "execution_count": null,
      "outputs": [
        {
          "output_type": "execute_result",
          "data": {
            "text/plain": [
              "49"
            ]
          },
          "metadata": {
            "tags": []
          },
          "execution_count": 12
        }
      ]
    },
    {
      "cell_type": "code",
      "metadata": {
        "colab": {
          "base_uri": "https://localhost:8080/"
        },
        "id": "HkGDjVn1QUkw",
        "outputId": "48c820d1-f7c1-4466-cf5f-fdfb51d4e428"
      },
      "source": [
        "fish_data = []\n",
        "\n",
        "for l, w in zip(length, weight):\n",
        "    fish_data.append([l,w])\n",
        "\n",
        "print(fish_data)"
      ],
      "execution_count": null,
      "outputs": [
        {
          "output_type": "stream",
          "text": [
            "[[25.4, 242.0], [26.3, 290.0], [26.5, 340.0], [29.0, 363.0], [29.0, 430.0], [29.7, 450.0], [29.7, 500.0], [30.0, 390.0], [30.0, 450.0], [30.7, 500.0], [31.0, 475.0], [31.0, 500.0], [31.5, 500.0], [32.0, 340.0], [32.0, 600.0], [32.0, 600.0], [33.0, 700.0], [33.0, 700.0], [33.5, 610.0], [33.5, 650.0], [34.0, 575.0], [34.0, 685.0], [34.5, 620.0], [35.0, 680.0], [35.0, 700.0], [35.0, 725.0], [35.0, 720.0], [36.0, 714.0], [36.0, 850.0], [37.0, 1000.0], [38.5, 920.0], [38.5, 955.0], [39.5, 925.0], [41.0, 975.0], [41.0, 950.0], [9.8, 6.7], [10.5, 7.5], [10.6, 7.0], [11.0, 9.7], [11.2, 9.8], [11.3, 8.7], [11.8, 10.0], [11.8, 9.9], [12.0, 9.8], [12.2, 12.2], [12.4, 13.4], [13.0, 12.2], [14.3, 19.7], [15.0, 19.9]]\n"
          ],
          "name": "stdout"
        }
      ]
    },
    {
      "cell_type": "code",
      "metadata": {
        "colab": {
          "base_uri": "https://localhost:8080/"
        },
        "id": "ys5yCnD0QlTq",
        "outputId": "8576d57a-dc59-4aa1-a477-aa2fc0b4c90c"
      },
      "source": [
        "fish_data = [[l,w] for l, w in zip(length, weight)]\n",
        "print(fish_data)"
      ],
      "execution_count": null,
      "outputs": [
        {
          "output_type": "stream",
          "text": [
            "[[25.4, 242.0], [26.3, 290.0], [26.5, 340.0], [29.0, 363.0], [29.0, 430.0], [29.7, 450.0], [29.7, 500.0], [30.0, 390.0], [30.0, 450.0], [30.7, 500.0], [31.0, 475.0], [31.0, 500.0], [31.5, 500.0], [32.0, 340.0], [32.0, 600.0], [32.0, 600.0], [33.0, 700.0], [33.0, 700.0], [33.5, 610.0], [33.5, 650.0], [34.0, 575.0], [34.0, 685.0], [34.5, 620.0], [35.0, 680.0], [35.0, 700.0], [35.0, 725.0], [35.0, 720.0], [36.0, 714.0], [36.0, 850.0], [37.0, 1000.0], [38.5, 920.0], [38.5, 955.0], [39.5, 925.0], [41.0, 975.0], [41.0, 950.0], [9.8, 6.7], [10.5, 7.5], [10.6, 7.0], [11.0, 9.7], [11.2, 9.8], [11.3, 8.7], [11.8, 10.0], [11.8, 9.9], [12.0, 9.8], [12.2, 12.2], [12.4, 13.4], [13.0, 12.2], [14.3, 19.7], [15.0, 19.9]]\n"
          ],
          "name": "stdout"
        }
      ]
    },
    {
      "cell_type": "code",
      "metadata": {
        "colab": {
          "base_uri": "https://localhost:8080/"
        },
        "id": "W0hCspT7RFCF",
        "outputId": "f465e6a2-9e56-4434-b750-0a81ed1ff9ea"
      },
      "source": [
        "len(fish_data)"
      ],
      "execution_count": null,
      "outputs": [
        {
          "output_type": "execute_result",
          "data": {
            "text/plain": [
              "49"
            ]
          },
          "metadata": {
            "tags": []
          },
          "execution_count": 16
        }
      ]
    },
    {
      "cell_type": "code",
      "metadata": {
        "id": "O21tCkIFZRpa"
      },
      "source": [
        "import sklearn"
      ],
      "execution_count": null,
      "outputs": []
    },
    {
      "cell_type": "code",
      "metadata": {
        "id": "Ta0fjBq-RN_T"
      },
      "source": [
        "from sklearn.neighbors import KNeighborsClassifier \n",
        "\n",
        "kn = KNeighborsClassifier()\n"
      ],
      "execution_count": null,
      "outputs": []
    },
    {
      "cell_type": "code",
      "metadata": {
        "colab": {
          "base_uri": "https://localhost:8080/"
        },
        "id": "hVvhVWFbSLvG",
        "outputId": "a5ebfd47-33f4-4ba3-8b26-4683a0f2eb53"
      },
      "source": [
        "kn.fit(fish_data, fish_target) #kn.fit(input = fish_data, target data)\n"
      ],
      "execution_count": null,
      "outputs": [
        {
          "output_type": "execute_result",
          "data": {
            "text/plain": [
              "KNeighborsClassifier(algorithm='auto', leaf_size=30, metric='minkowski',\n",
              "                     metric_params=None, n_jobs=None, n_neighbors=5, p=2,\n",
              "                     weights='uniform')"
            ]
          },
          "metadata": {
            "tags": []
          },
          "execution_count": 102
        }
      ]
    },
    {
      "cell_type": "code",
      "metadata": {
        "colab": {
          "base_uri": "https://localhost:8080/"
        },
        "id": "u31HOxWAUNKR",
        "outputId": "f2be473d-b675-4e11-cfe8-07fe03916040"
      },
      "source": [
        "kn.score(fish_data, fish_target) #성능 측정"
      ],
      "execution_count": null,
      "outputs": [
        {
          "output_type": "execute_result",
          "data": {
            "text/plain": [
              "1.0"
            ]
          },
          "metadata": {
            "tags": []
          },
          "execution_count": 103
        }
      ]
    },
    {
      "cell_type": "code",
      "metadata": {
        "colab": {
          "base_uri": "https://localhost:8080/"
        },
        "id": "_pjrpAuYURKr",
        "outputId": "a4314608-5113-4514-ac4c-6a330b58ca9d"
      },
      "source": [
        "kn.predict([[30, 600]]) #1이면 도미 #0이면 도미가 아니다"
      ],
      "execution_count": null,
      "outputs": [
        {
          "output_type": "execute_result",
          "data": {
            "text/plain": [
              "array([1])"
            ]
          },
          "metadata": {
            "tags": []
          },
          "execution_count": 104
        }
      ]
    },
    {
      "cell_type": "code",
      "metadata": {
        "colab": {
          "base_uri": "https://localhost:8080/"
        },
        "id": "JYmCbhHLVtal",
        "outputId": "cb7343b6-c856-4e5f-8438-1c1d9fc1103d"
      },
      "source": [
        "kn49 = KNeighborsClassifier(n_neighbors=49)\n",
        "kn49.fit(fish_data, fish_target)\n",
        "kn49.score(fish_data, fish_target)"
      ],
      "execution_count": null,
      "outputs": [
        {
          "output_type": "execute_result",
          "data": {
            "text/plain": [
              "0.7142857142857143"
            ]
          },
          "metadata": {
            "tags": []
          },
          "execution_count": 105
        }
      ]
    },
    {
      "cell_type": "code",
      "metadata": {
        "colab": {
          "base_uri": "https://localhost:8080/"
        },
        "id": "Cot-qYoRWhbi",
        "outputId": "56fbf248-08b0-48a0-8e90-c06a1d16128f"
      },
      "source": [
        "print(35/49)"
      ],
      "execution_count": null,
      "outputs": [
        {
          "output_type": "stream",
          "text": [
            "0.7142857142857143\n"
          ],
          "name": "stdout"
        }
      ]
    },
    {
      "cell_type": "code",
      "metadata": {
        "colab": {
          "base_uri": "https://localhost:8080/"
        },
        "id": "jBVlolCcWki2",
        "outputId": "ef420ad4-acf4-46ad-88f1-bd432d826fe1"
      },
      "source": [
        "kn = KNeighborsClassifier()\n",
        "kn.fit(fish_data, fish_target)  #데이터를 넣었다\n",
        "\n",
        "for n in range(5, 50):  \n",
        "    kn.n_neighbors = n\n",
        "    score = kn.score(fish_data, fish_target)    #예측가능성\n",
        "\n",
        "    if score < 1:\n",
        "        print(n, ',', score)\n",
        "        break\n",
        "\n",
        "# 1-17은 필요가 없고, 18부터 알고리즘이 효용이 있다 \n"
      ],
      "execution_count": null,
      "outputs": [
        {
          "output_type": "stream",
          "text": [
            "18 , 0.9795918367346939\n"
          ],
          "name": "stdout"
        }
      ]
    },
    {
      "cell_type": "code",
      "metadata": {
        "colab": {
          "base_uri": "https://localhost:8080/"
        },
        "id": "klsZqyxAYQvr",
        "outputId": "2f4e1ace-fa12-438d-eec0-6dc1ce907716"
      },
      "source": [
        "train_input = fish_data[:35]    #train set vs test set = 35:15\n",
        "train_target = fish_target[:35]\n",
        "\n",
        "test_input = fish_data[35:]\n",
        "test_target = fish_target[35:]\n",
        "\n",
        "print(train_input)"
      ],
      "execution_count": null,
      "outputs": [
        {
          "output_type": "stream",
          "text": [
            "[[25.4, 242.0], [26.3, 290.0], [26.5, 340.0], [29.0, 363.0], [29.0, 430.0], [29.7, 450.0], [29.7, 500.0], [30.0, 390.0], [30.0, 450.0], [30.7, 500.0], [31.0, 475.0], [31.0, 500.0], [31.5, 500.0], [32.0, 340.0], [32.0, 600.0], [32.0, 600.0], [33.0, 700.0], [33.0, 700.0], [33.5, 610.0], [33.5, 650.0], [34.0, 575.0], [34.0, 685.0], [34.5, 620.0], [35.0, 680.0], [35.0, 700.0], [35.0, 725.0], [35.0, 720.0], [36.0, 714.0], [36.0, 850.0], [37.0, 1000.0], [38.5, 920.0], [38.5, 955.0], [39.5, 925.0], [41.0, 975.0], [41.0, 950.0]]\n"
          ],
          "name": "stdout"
        }
      ]
    },
    {
      "cell_type": "code",
      "metadata": {
        "colab": {
          "base_uri": "https://localhost:8080/"
        },
        "id": "YebJJYCCYeAm",
        "outputId": "01b98eee-0716-4df1-eae1-bbdfe13f8131"
      },
      "source": [
        "print(train_target)"
      ],
      "execution_count": null,
      "outputs": [
        {
          "output_type": "stream",
          "text": [
            "[1, 1, 1, 1, 1, 1, 1, 1, 1, 1, 1, 1, 1, 1, 1, 1, 1, 1, 1, 1, 1, 1, 1, 1, 1, 1, 1, 1, 1, 1, 1, 1, 1, 1, 1]\n"
          ],
          "name": "stdout"
        }
      ]
    },
    {
      "cell_type": "code",
      "metadata": {
        "colab": {
          "base_uri": "https://localhost:8080/"
        },
        "id": "R8UYHMesZKSM",
        "outputId": "8e41064c-b881-436c-ebd7-4237612b2f0d"
      },
      "source": [
        "kn.fit(train_input, train_target)\n",
        "kn.score(test_input, test_target)"
      ],
      "execution_count": null,
      "outputs": [
        {
          "output_type": "execute_result",
          "data": {
            "text/plain": [
              "0.0"
            ]
          },
          "metadata": {
            "tags": []
          },
          "execution_count": 110
        }
      ]
    },
    {
      "cell_type": "code",
      "metadata": {
        "id": "Lef50g3oaGfk"
      },
      "source": [
        "import numpy as np"
      ],
      "execution_count": null,
      "outputs": []
    },
    {
      "cell_type": "code",
      "metadata": {
        "colab": {
          "base_uri": "https://localhost:8080/"
        },
        "id": "HuV_oDIAaKI-",
        "outputId": "509de0cf-c693-4a74-8630-b96640edadc8"
      },
      "source": [
        "print(fish_target)"
      ],
      "execution_count": null,
      "outputs": [
        {
          "output_type": "stream",
          "text": [
            "[1, 1, 1, 1, 1, 1, 1, 1, 1, 1, 1, 1, 1, 1, 1, 1, 1, 1, 1, 1, 1, 1, 1, 1, 1, 1, 1, 1, 1, 1, 1, 1, 1, 1, 1, 0, 0, 0, 0, 0, 0, 0, 0, 0, 0, 0, 0, 0, 0]\n"
          ],
          "name": "stdout"
        }
      ]
    },
    {
      "cell_type": "code",
      "metadata": {
        "id": "klZ3dIcZaME5"
      },
      "source": [
        "input_arr = np.array(fish_data)\n",
        "target_arr = np.array(fish_target)"
      ],
      "execution_count": null,
      "outputs": []
    },
    {
      "cell_type": "code",
      "metadata": {
        "colab": {
          "base_uri": "https://localhost:8080/"
        },
        "id": "2wvCnssQat-i",
        "outputId": "614503c4-bf6b-4fe6-b7f6-3d9929728f06"
      },
      "source": [
        "print(input_arr)"
      ],
      "execution_count": null,
      "outputs": [
        {
          "output_type": "stream",
          "text": [
            "[[  25.4  242. ]\n",
            " [  26.3  290. ]\n",
            " [  26.5  340. ]\n",
            " [  29.   363. ]\n",
            " [  29.   430. ]\n",
            " [  29.7  450. ]\n",
            " [  29.7  500. ]\n",
            " [  30.   390. ]\n",
            " [  30.   450. ]\n",
            " [  30.7  500. ]\n",
            " [  31.   475. ]\n",
            " [  31.   500. ]\n",
            " [  31.5  500. ]\n",
            " [  32.   340. ]\n",
            " [  32.   600. ]\n",
            " [  32.   600. ]\n",
            " [  33.   700. ]\n",
            " [  33.   700. ]\n",
            " [  33.5  610. ]\n",
            " [  33.5  650. ]\n",
            " [  34.   575. ]\n",
            " [  34.   685. ]\n",
            " [  34.5  620. ]\n",
            " [  35.   680. ]\n",
            " [  35.   700. ]\n",
            " [  35.   725. ]\n",
            " [  35.   720. ]\n",
            " [  36.   714. ]\n",
            " [  36.   850. ]\n",
            " [  37.  1000. ]\n",
            " [  38.5  920. ]\n",
            " [  38.5  955. ]\n",
            " [  39.5  925. ]\n",
            " [  41.   975. ]\n",
            " [  41.   950. ]\n",
            " [   9.8    6.7]\n",
            " [  10.5    7.5]\n",
            " [  10.6    7. ]\n",
            " [  11.     9.7]\n",
            " [  11.2    9.8]\n",
            " [  11.3    8.7]\n",
            " [  11.8   10. ]\n",
            " [  11.8    9.9]\n",
            " [  12.     9.8]\n",
            " [  12.2   12.2]\n",
            " [  12.4   13.4]\n",
            " [  13.    12.2]\n",
            " [  14.3   19.7]\n",
            " [  15.    19.9]]\n"
          ],
          "name": "stdout"
        }
      ]
    },
    {
      "cell_type": "code",
      "metadata": {
        "colab": {
          "base_uri": "https://localhost:8080/"
        },
        "id": "-zCW7GTNfprd",
        "outputId": "2bf3416f-6664-479a-c1c2-3f1fcfcfab5c"
      },
      "source": [
        "np.random.seed(49)  #순서 섞으려고\n",
        "index = np.arange(49)\n",
        "np.random.shuffle(index)\n",
        "print(index)"
      ],
      "execution_count": null,
      "outputs": [
        {
          "output_type": "stream",
          "text": [
            "[14 27 24 16 17 41  0 19 31  2 21 10 30 22 38 23 11 34 20  1 13  7 43 25\n",
            " 46  4  9 29  3  8 39 28 15 37 33  6 26 35 48 32 47 36 18 44  5 12 40 45\n",
            " 42]\n"
          ],
          "name": "stdout"
        }
      ]
    },
    {
      "cell_type": "code",
      "metadata": {
        "colab": {
          "base_uri": "https://localhost:8080/"
        },
        "id": "3HKokG6Hgsfl",
        "outputId": "ea413072-4a82-40d3-83e0-d7a3ad7e24d0"
      },
      "source": [
        "index[:35]"
      ],
      "execution_count": null,
      "outputs": [
        {
          "output_type": "execute_result",
          "data": {
            "text/plain": [
              "array([14, 27, 24, 16, 17, 41,  0, 19, 31,  2, 21, 10, 30, 22, 38, 23, 11,\n",
              "       34, 20,  1, 13,  7, 43, 25, 46,  4,  9, 29,  3,  8, 39, 28, 15, 37,\n",
              "       33])"
            ]
          },
          "metadata": {
            "tags": []
          },
          "execution_count": 115
        }
      ]
    },
    {
      "cell_type": "code",
      "metadata": {
        "id": "-TpNFCKgdX8P"
      },
      "source": [
        "# generating a train set\n",
        "train_input = input_arr[index[:35]]\n",
        "train_target = target_arr[index[:35]]\n",
        "\n",
        "# generating a test set\n",
        "test_input = input_arr[index[35:]]\n",
        "test_target = target_arr[index[35:]]"
      ],
      "execution_count": null,
      "outputs": []
    },
    {
      "cell_type": "code",
      "metadata": {
        "colab": {
          "base_uri": "https://localhost:8080/"
        },
        "id": "lxazn3eiiXW1",
        "outputId": "1bbbe910-882a-4b85-9f8a-21ad5999c994"
      },
      "source": [
        "train_target"
      ],
      "execution_count": null,
      "outputs": [
        {
          "output_type": "execute_result",
          "data": {
            "text/plain": [
              "array([1, 1, 1, 1, 1, 0, 1, 1, 1, 1, 1, 1, 1, 1, 0, 1, 1, 1, 1, 1, 1, 1,\n",
              "       0, 1, 0, 1, 1, 1, 1, 1, 0, 1, 1, 0, 1])"
            ]
          },
          "metadata": {
            "tags": []
          },
          "execution_count": 117
        }
      ]
    },
    {
      "cell_type": "code",
      "metadata": {
        "colab": {
          "base_uri": "https://localhost:8080/"
        },
        "id": "DONC5wO6ik1p",
        "outputId": "366cf831-76f0-47e0-acee-2db91a1ace51"
      },
      "source": [
        "import matplotlib.pyplot as plt\n",
        "train_input[:, 0] #앞에 열 (첫번째 열)"
      ],
      "execution_count": null,
      "outputs": [
        {
          "output_type": "execute_result",
          "data": {
            "text/plain": [
              "array([32. , 36. , 35. , 33. , 33. , 11.8, 25.4, 33.5, 38.5, 26.5, 34. ,\n",
              "       31. , 38.5, 34.5, 11. , 35. , 31. , 41. , 34. , 26.3, 32. , 30. ,\n",
              "       12. , 35. , 13. , 29. , 30.7, 37. , 29. , 30. , 11.2, 36. , 32. ,\n",
              "       10.6, 41. ])"
            ]
          },
          "metadata": {
            "tags": []
          },
          "execution_count": 118
        }
      ]
    },
    {
      "cell_type": "code",
      "metadata": {
        "colab": {
          "base_uri": "https://localhost:8080/"
        },
        "id": "Q3fgUAtOi38H",
        "outputId": "2cfde66c-cf91-45b3-c25e-8553d7dbd41e"
      },
      "source": [
        "train_input[:, 1]"
      ],
      "execution_count": null,
      "outputs": [
        {
          "output_type": "execute_result",
          "data": {
            "text/plain": [
              "array([ 600. ,  714. ,  700. ,  700. ,  700. ,   10. ,  242. ,  650. ,\n",
              "        955. ,  340. ,  685. ,  475. ,  920. ,  620. ,    9.7,  680. ,\n",
              "        500. ,  950. ,  575. ,  290. ,  340. ,  390. ,    9.8,  725. ,\n",
              "         12.2,  430. ,  500. , 1000. ,  363. ,  450. ,    9.8,  850. ,\n",
              "        600. ,    7. ,  975. ])"
            ]
          },
          "metadata": {
            "tags": []
          },
          "execution_count": 119
        }
      ]
    },
    {
      "cell_type": "code",
      "metadata": {
        "colab": {
          "base_uri": "https://localhost:8080/"
        },
        "id": "go3aNGDcjcSY",
        "outputId": "66d5d477-0f7e-4b10-fb24-01fdc3906114"
      },
      "source": [
        "test_input"
      ],
      "execution_count": null,
      "outputs": [
        {
          "output_type": "execute_result",
          "data": {
            "text/plain": [
              "array([[ 29.7, 500. ],\n",
              "       [ 35. , 720. ],\n",
              "       [  9.8,   6.7],\n",
              "       [ 15. ,  19.9],\n",
              "       [ 39.5, 925. ],\n",
              "       [ 14.3,  19.7],\n",
              "       [ 10.5,   7.5],\n",
              "       [ 33.5, 610. ],\n",
              "       [ 12.2,  12.2],\n",
              "       [ 29.7, 450. ],\n",
              "       [ 31.5, 500. ],\n",
              "       [ 11.3,   8.7],\n",
              "       [ 12.4,  13.4],\n",
              "       [ 11.8,   9.9]])"
            ]
          },
          "metadata": {
            "tags": []
          },
          "execution_count": 51
        }
      ]
    },
    {
      "cell_type": "code",
      "metadata": {
        "colab": {
          "base_uri": "https://localhost:8080/",
          "height": 279
        },
        "id": "yy-GRqa4i8EP",
        "outputId": "41417a6f-0ad5-47ca-c387-b3bd8a7881f2"
      },
      "source": [
        "plt.scatter(train_input[:, 0], train_input[:, 1])\n",
        "plt.scatter(test_input[:, 0], test_input[:, 1])\n",
        "plt.xlabel('length')\n",
        "plt.ylabel('weight')\n",
        "plt.show()"
      ],
      "execution_count": null,
      "outputs": [
        {
          "output_type": "display_data",
          "data": {
            "image/png": "[encoded data removed]",
            "text/plain": [
              "<Figure size 432x288 with 1 Axes>"
            ]
          },
          "metadata": {
            "tags": [],
            "needs_background": "light"
          }
        }
      ]
    },
    {
      "cell_type": "code",
      "metadata": {
        "colab": {
          "base_uri": "https://localhost:8080/"
        },
        "id": "oC28YgDjkH29",
        "outputId": "0eb9ae16-b59b-4d26-e7fc-049726743caa"
      },
      "source": [
        "kn.fit(train_input, train_target)"
      ],
      "execution_count": null,
      "outputs": [
        {
          "output_type": "execute_result",
          "data": {
            "text/plain": [
              "KNeighborsClassifier(algorithm='auto', leaf_size=30, metric='minkowski',\n",
              "                     metric_params=None, n_jobs=None, n_neighbors=5, p=2,\n",
              "                     weights='uniform')"
            ]
          },
          "metadata": {
            "tags": []
          },
          "execution_count": 135
        }
      ]
    },
    {
      "cell_type": "code",
      "metadata": {
        "colab": {
          "base_uri": "https://localhost:8080/"
        },
        "id": "HgaDuBzvkNxS",
        "outputId": "690b6e1f-2fad-4ba5-9917-ef4b544d66f9"
      },
      "source": [
        "kn.n_neighbors = 5\n",
        "kn.score(train_input, train_target)"
      ],
      "execution_count": null,
      "outputs": [
        {
          "output_type": "execute_result",
          "data": {
            "text/plain": [
              "1.0"
            ]
          },
          "metadata": {
            "tags": []
          },
          "execution_count": 134
        }
      ]
    },
    {
      "cell_type": "code",
      "metadata": {
        "colab": {
          "base_uri": "https://localhost:8080/"
        },
        "id": "Yjbp7Bomi7dj",
        "outputId": "967e7715-57c9-4533-8a80-c1f3ba444532"
      },
      "source": [
        "kn.predict(test_input)"
      ],
      "execution_count": null,
      "outputs": [
        {
          "output_type": "execute_result",
          "data": {
            "text/plain": [
              "array([1, 1, 0, 0, 1, 0, 0, 1, 0, 1, 1, 0, 0, 0])"
            ]
          },
          "metadata": {
            "tags": []
          },
          "execution_count": 58
        }
      ]
    },
    {
      "cell_type": "code",
      "metadata": {
        "colab": {
          "base_uri": "https://localhost:8080/"
        },
        "id": "lN6JHRRGkveq",
        "outputId": "cfae7073-0be0-4cde-e3b3-b4000b20f73e"
      },
      "source": [
        "test_target"
      ],
      "execution_count": null,
      "outputs": [
        {
          "output_type": "execute_result",
          "data": {
            "text/plain": [
              "array([1, 1, 0, 0, 1, 0, 0, 1, 0, 1, 1, 0, 0, 0])"
            ]
          },
          "metadata": {
            "tags": []
          },
          "execution_count": 59
        }
      ]
    },
    {
      "cell_type": "code",
      "metadata": {
        "colab": {
          "base_uri": "https://localhost:8080/"
        },
        "id": "eM4-iIE3kx8q",
        "outputId": "fcce0c78-9650-4740-9b3a-27d374cc5352"
      },
      "source": [
        "kn.predict([[25, 150]]) #0이니까 도미가 아니다 "
      ],
      "execution_count": null,
      "outputs": [
        {
          "output_type": "execute_result",
          "data": {
            "text/plain": [
              "array([0])"
            ]
          },
          "metadata": {
            "tags": []
          },
          "execution_count": 123
        }
      ]
    },
    {
      "cell_type": "code",
      "metadata": {
        "id": "Bt6FZmUIk3t4"
      },
      "source": [
        "kn.predict()"
      ],
      "execution_count": null,
      "outputs": []
    },
    {
      "cell_type": "code",
      "metadata": {
        "colab": {
          "base_uri": "https://localhost:8080/",
          "height": 279
        },
        "id": "-jbyPGKjmr1-",
        "outputId": "977384ae-e4d8-4d24-a3a0-2d2aaacb924f"
      },
      "source": [
        "plt.scatter(train_input[:, 0], train_input[:, 1])\n",
        "plt.scatter(25, 150, marker = '^')\n",
        "plt.xlabel('length')\n",
        "plt.ylabel('weight')\n",
        "plt.show()"
      ],
      "execution_count": null,
      "outputs": [
        {
          "output_type": "display_data",
          "data": {
            "image/png": "[encoded data removed]",
            "text/plain": [
              "<Figure size 432x288 with 1 Axes>"
            ]
          },
          "metadata": {
            "tags": [],
            "needs_background": "light"
          }
        }
      ]
    },
    {
      "cell_type": "code",
      "metadata": {
        "id": "66JYahp8nJFK"
      },
      "source": [
        "# 근접 이웃 찾기\n",
        "distances, indexs = kn.kneighbors([[25, 150]])\n",
        "# index = array 로 있는 np의 행번호에 대한 index\n"
      ],
      "execution_count": null,
      "outputs": []
    },
    {
      "cell_type": "code",
      "metadata": {
        "colab": {
          "base_uri": "https://localhost:8080/"
        },
        "id": "R6rUQspn6wSn",
        "outputId": "6f0a3318-b1f1-4c6c-a567-a91c1a9fed70"
      },
      "source": [
        "kn.kneighbors([[25, 150]])\n"
      ],
      "execution_count": null,
      "outputs": [
        {
          "output_type": "execute_result",
          "data": {
            "text/plain": [
              "(array([[ 92.00086956, 138.32150953, 140.00603558, 140.62090883,\n",
              "         140.80142045]]), array([[ 6, 24, 19,  5, 22]]))"
            ]
          },
          "metadata": {
            "tags": []
          },
          "execution_count": 138
        }
      ]
    },
    {
      "cell_type": "code",
      "metadata": {
        "colab": {
          "base_uri": "https://localhost:8080/"
        },
        "id": "7R8uquGa9Dh_",
        "outputId": "9d0b079e-3e1d-4dc7-8b87-b67e7614fa36"
      },
      "source": [
        "indexs"
      ],
      "execution_count": null,
      "outputs": [
        {
          "output_type": "execute_result",
          "data": {
            "text/plain": [
              "array([[ 6, 24, 19,  5, 22]])"
            ]
          },
          "metadata": {
            "tags": []
          },
          "execution_count": 127
        }
      ]
    },
    {
      "cell_type": "code",
      "metadata": {
        "colab": {
          "base_uri": "https://localhost:8080/",
          "height": 279
        },
        "id": "ABrzm2bUna7f",
        "outputId": "3ee60623-c9d1-446f-a8db-02a0dd557fdc"
      },
      "source": [
        "plt.scatter(train_input[:, 0], train_input[:, 1])\n",
        "plt.scatter(25, 150, marker = '^')\n",
        "plt.scatter(train_input[indexs, 0], train_input[indexs, 1], marker='D')\n",
        "plt.xlabel('length')\n",
        "plt.ylabel('weight')\n",
        "plt.show()"
      ],
      "execution_count": null,
      "outputs": [
        {
          "output_type": "display_data",
          "data": {
            "image/png": "[encoded data removed]",
            "text/plain": [
              "<Figure size 432x288 with 1 Axes>"
            ]
          },
          "metadata": {
            "tags": [],
            "needs_background": "light"
          }
        }
      ]
    },
    {
      "cell_type": "code",
      "metadata": {
        "colab": {
          "base_uri": "https://localhost:8080/"
        },
        "id": "ItKtJ-6T8Pfb",
        "outputId": "9de0575b-11a7-43cb-bf61-0e697f7df37d"
      },
      "source": [
        "train_input[:, 0]"
      ],
      "execution_count": null,
      "outputs": [
        {
          "output_type": "execute_result",
          "data": {
            "text/plain": [
              "array([32. , 36. , 35. , 33. , 33. , 11.8, 25.4, 33.5, 38.5, 26.5, 34. ,\n",
              "       31. , 38.5, 34.5, 11. , 35. , 31. , 41. , 34. , 26.3, 32. , 30. ,\n",
              "       12. , 35. , 13. , 29. , 30.7, 37. , 29. , 30. , 11.2, 36. , 32. ,\n",
              "       10.6, 41. ])"
            ]
          },
          "metadata": {
            "tags": []
          },
          "execution_count": 129
        }
      ]
    },
    {
      "cell_type": "code",
      "metadata": {
        "colab": {
          "base_uri": "https://localhost:8080/"
        },
        "id": "2FJlz_H6uI-I",
        "outputId": "6f1953a3-7c54-45e4-c55b-25d470437d6c"
      },
      "source": [
        "train_input"
      ],
      "execution_count": null,
      "outputs": [
        {
          "output_type": "execute_result",
          "data": {
            "text/plain": [
              "array([[  32. ,  600. ],\n",
              "       [  36. ,  714. ],\n",
              "       [  35. ,  700. ],\n",
              "       [  33. ,  700. ],\n",
              "       [  33. ,  700. ],\n",
              "       [  11.8,   10. ],\n",
              "       [  25.4,  242. ],\n",
              "       [  33.5,  650. ],\n",
              "       [  38.5,  955. ],\n",
              "       [  26.5,  340. ],\n",
              "       [  34. ,  685. ],\n",
              "       [  31. ,  475. ],\n",
              "       [  38.5,  920. ],\n",
              "       [  34.5,  620. ],\n",
              "       [  11. ,    9.7],\n",
              "       [  35. ,  680. ],\n",
              "       [  31. ,  500. ],\n",
              "       [  41. ,  950. ],\n",
              "       [  34. ,  575. ],\n",
              "       [  26.3,  290. ],\n",
              "       [  32. ,  340. ],\n",
              "       [  30. ,  390. ],\n",
              "       [  12. ,    9.8],\n",
              "       [  35. ,  725. ],\n",
              "       [  13. ,   12.2],\n",
              "       [  29. ,  430. ],\n",
              "       [  30.7,  500. ],\n",
              "       [  37. , 1000. ],\n",
              "       [  29. ,  363. ],\n",
              "       [  30. ,  450. ],\n",
              "       [  11.2,    9.8],\n",
              "       [  36. ,  850. ],\n",
              "       [  32. ,  600. ],\n",
              "       [  10.6,    7. ],\n",
              "       [  41. ,  975. ]])"
            ]
          },
          "metadata": {
            "tags": []
          },
          "execution_count": 87
        }
      ]
    },
    {
      "cell_type": "code",
      "metadata": {
        "colab": {
          "base_uri": "https://localhost:8080/"
        },
        "id": "rP9dxawI7ozU",
        "outputId": "39baa700-1ef1-46d0-b451-ef5471316d9d"
      },
      "source": [
        "train_input[indexs, 0]"
      ],
      "execution_count": null,
      "outputs": [
        {
          "output_type": "execute_result",
          "data": {
            "text/plain": [
              "array([[37. , 41. , 41. , 38.5, 38.5]])"
            ]
          },
          "metadata": {
            "tags": []
          },
          "execution_count": 92
        }
      ]
    },
    {
      "cell_type": "code",
      "metadata": {
        "colab": {
          "base_uri": "https://localhost:8080/"
        },
        "id": "0vDPErNLuW3T",
        "outputId": "3b6c3b7e-7920-43bc-85e8-02a763557f5d"
      },
      "source": [
        "distances"
      ],
      "execution_count": null,
      "outputs": [
        {
          "output_type": "execute_result",
          "data": {
            "text/plain": [
              "array([[ 92.00086956, 138.32150953, 140.00603558, 140.62090883,\n",
              "        140.80142045]])"
            ]
          },
          "metadata": {
            "tags": []
          },
          "execution_count": 68
        }
      ]
    },
    {
      "cell_type": "code",
      "metadata": {
        "colab": {
          "base_uri": "https://localhost:8080/"
        },
        "id": "F_2b37n0vIra",
        "outputId": "71c7515c-cb9f-4d55-f65c-7f793618a4c3"
      },
      "source": [
        "# 위에것들이 x축, y축 기준이 다 별로니\n",
        "# 평균과 표준편차를 이용해서 x-value 를 구해서 보자\n",
        "\n",
        "mean = np.mean(train_input, axis = 0)\n",
        "sd = np.std(train_input, axis = 0)\n",
        "\n",
        "print(mean, ',', sd)\n"
      ],
      "execution_count": null,
      "outputs": [
        {
          "output_type": "stream",
          "text": [
            "[ 29.41428571 513.64285714] , [  8.86666769 300.7584957 ]\n"
          ],
          "name": "stdout"
        }
      ]
    },
    {
      "cell_type": "code",
      "metadata": {
        "colab": {
          "base_uri": "https://localhost:8080/"
        },
        "id": "hPWebaObvaty",
        "outputId": "2c1c0853-de0b-4dee-ff60-0a9673937c61"
      },
      "source": [
        "train_scaled = (train_input - mean)/sd\n",
        "train_scaled"
      ],
      "execution_count": null,
      "outputs": [
        {
          "output_type": "execute_result",
          "data": {
            "text/plain": [
              "array([[ 0.29162188,  0.28713118],\n",
              "       [ 0.74274965,  0.66617285],\n",
              "       [ 0.6299677 ,  0.61962387],\n",
              "       [ 0.40440382,  0.61962387],\n",
              "       [ 0.40440382,  0.61962387],\n",
              "       [-1.98657335, -1.67457566],\n",
              "       [-0.45273894, -0.90319263],\n",
              "       [ 0.46079479,  0.45337753],\n",
              "       [ 1.0247045 ,  1.46748022],\n",
              "       [-0.3286788 , -0.5773498 ],\n",
              "       [ 0.51718576,  0.56974997],\n",
              "       [ 0.17883994, -0.12848467],\n",
              "       [ 1.0247045 ,  1.35110778],\n",
              "       [ 0.57357673,  0.35362972],\n",
              "       [-2.0767989 , -1.67557314],\n",
              "       [ 0.6299677 ,  0.55312533],\n",
              "       [ 0.17883994, -0.0453615 ],\n",
              "       [ 1.30665936,  1.45085558],\n",
              "       [ 0.51718576,  0.20400801],\n",
              "       [-0.35123519, -0.74359614],\n",
              "       [ 0.29162188, -0.5773498 ],\n",
              "       [ 0.06605799, -0.41110346],\n",
              "       [-1.96401696, -1.67524065],\n",
              "       [ 0.6299677 ,  0.70274704],\n",
              "       [-1.85123502, -1.66726082],\n",
              "       [-0.04672395, -0.27810638],\n",
              "       [ 0.14500535, -0.0453615 ],\n",
              "       [ 0.85553159,  1.61710193],\n",
              "       [-0.04672395, -0.50087648],\n",
              "       [ 0.06605799, -0.21160785],\n",
              "       [-2.05424251, -1.67524065],\n",
              "       [ 0.74274965,  1.1183629 ],\n",
              "       [ 0.29162188,  0.28713118],\n",
              "       [-2.12191168, -1.68455044],\n",
              "       [ 1.30665936,  1.53397876]])"
            ]
          },
          "metadata": {
            "tags": []
          },
          "execution_count": 74
        }
      ]
    },
    {
      "cell_type": "code",
      "metadata": {
        "colab": {
          "base_uri": "https://localhost:8080/",
          "height": 279
        },
        "id": "K7yAbnKRwidk",
        "outputId": "61f373f1-3e03-4393-e707-ba27ab835925"
      },
      "source": [
        "new_sample = ([25, 150] - mean)/sd\n",
        "\n",
        "plt.scatter(train_scaled[:, 0], train_scaled[:, 1])\n",
        "plt.scatter(new_sample[0], new_sample[1], marker = '^')\n",
        "plt.xlabel('length')\n",
        "plt.ylabel('weight')\n",
        "plt.show()"
      ],
      "execution_count": null,
      "outputs": [
        {
          "output_type": "display_data",
          "data": {
            "image/png": "[encoded data removed]",
            "text/plain": [
              "<Figure size 432x288 with 1 Axes>"
            ]
          },
          "metadata": {
            "tags": [],
            "needs_background": "light"
          }
        }
      ]
    },
    {
      "cell_type": "code",
      "metadata": {
        "colab": {
          "base_uri": "https://localhost:8080/"
        },
        "id": "ktA44WhyxcDf",
        "outputId": "b9956f43-dbe7-44de-c33d-b90d4dccd4cf"
      },
      "source": [
        "kn.fit(train_scaled, train_target)"
      ],
      "execution_count": null,
      "outputs": [
        {
          "output_type": "execute_result",
          "data": {
            "text/plain": [
              "KNeighborsClassifier(algorithm='auto', leaf_size=30, metric='minkowski',\n",
              "                     metric_params=None, n_jobs=None, n_neighbors=5, p=2,\n",
              "                     weights='uniform')"
            ]
          },
          "metadata": {
            "tags": []
          },
          "execution_count": 77
        }
      ]
    },
    {
      "cell_type": "code",
      "metadata": {
        "id": "XKef2-T-xopi"
      },
      "source": [
        "test_scaled = (test_input - mean)/sd"
      ],
      "execution_count": null,
      "outputs": []
    },
    {
      "cell_type": "code",
      "metadata": {
        "colab": {
          "base_uri": "https://localhost:8080/"
        },
        "id": "bucotCEwxyeo",
        "outputId": "90e545ae-47e4-47bd-dc2b-433bc9f75f01"
      },
      "source": [
        "kn.score(test_scaled, test_target)"
      ],
      "execution_count": null,
      "outputs": [
        {
          "output_type": "execute_result",
          "data": {
            "text/plain": [
              "1.0"
            ]
          },
          "metadata": {
            "tags": []
          },
          "execution_count": 79
        }
      ]
    },
    {
      "cell_type": "code",
      "metadata": {
        "colab": {
          "base_uri": "https://localhost:8080/",
          "height": 279
        },
        "id": "JpQzr3zoyjYn",
        "outputId": "69f44053-deec-4e79-9055-9784ee237d68"
      },
      "source": [
        "distances, indexs = kn.kneighbors([new_sample])\n",
        "\n",
        "plt.scatter(train_scaled[:, 0], train_scaled[:, 1])\n",
        "plt.scatter(new_sample[0], new_sample[1], marker = '^')\n",
        "plt.scatter(train_scaled[indexs, 0], train_scaled[indexs, 1], marker='D')\n",
        "plt.xlabel('length')\n",
        "plt.ylabel('weight')\n",
        "plt.show()"
      ],
      "execution_count": null,
      "outputs": [
        {
          "output_type": "display_data",
          "data": {
            "image/png": "[encoded data removed]",
            "text/plain": [
              "<Figure size 432x288 with 1 Axes>"
            ]
          },
          "metadata": {
            "tags": [],
            "needs_background": "light"
          }
        }
      ]
    }
  ]
}