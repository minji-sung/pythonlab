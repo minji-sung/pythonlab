{
  "nbformat": 4,
  "nbformat_minor": 0,
  "metadata": {
    "colab": {
      "name": "20210531_4팀_성민지.ipynb",
      "provenance": [],
      "collapsed_sections": [],
      "authorship_tag": "ABX9TyMYb49lYHFxNeVt64pVy8Bd",
      "include_colab_link": true
    },
    "kernelspec": {
      "name": "python3",
      "display_name": "Python 3"
    },
    "language_info": {
      "name": "python"
    }
  },
  "cells": [
    {
      "cell_type": "markdown",
      "metadata": {
        "id": "view-in-github",
        "colab_type": "text"
      },
      "source": [
        "<a href=\"https://colab.research.google.com/github/minji-sung/pythonlab/blob/main/2_dictionary.ipynb\" target=\"_parent\"><img src=\"https://colab.research.google.com/assets/colab-badge.svg\" alt=\"Open In Colab\"/></a>"
      ]
    },
    {
      "cell_type": "markdown",
      "metadata": {
        "id": "8ZNrWyPumxzn"
      },
      "source": [
        "20210531"
      ]
    },
    {
      "cell_type": "markdown",
      "metadata": {
        "id": "MhzdRxVmoEd4"
      },
      "source": [
        "딕셔너리는 대응 관계를 나타내는 자료형"
      ]
    },
    {
      "cell_type": "code",
      "metadata": {
        "colab": {
          "base_uri": "https://localhost:8080/"
        },
        "id": "yZatwFLzoB0S",
        "outputId": "d83aa1e9-612f-42c4-edf9-0769602e061e"
      },
      "source": [
        "#딕셔너리는 key가 인덱스와 같은 역할인데 순서는 무작위\n",
        "#key 존재 확인\n",
        "d_scores = {\n",
        "    'a':100,\n",
        "    'b':200,\n",
        "    'c':300\n",
        "}\n",
        "print(d_scores.keys())\n",
        "print(list(d_scores.keys()))\n",
        "li1 = list(d_scores.keys())\n",
        "li1"
      ],
      "execution_count": null,
      "outputs": [
        {
          "output_type": "stream",
          "text": [
            "dict_keys(['a', 'b', 'c'])\n",
            "['a', 'b', 'c']\n"
          ],
          "name": "stdout"
        },
        {
          "output_type": "execute_result",
          "data": {
            "text/plain": [
              "['a', 'b', 'c']"
            ]
          },
          "metadata": {
            "tags": []
          },
          "execution_count": 4
        }
      ]
    },
    {
      "cell_type": "code",
      "metadata": {
        "id": "w_j-iBc6ozU4"
      },
      "source": [
        "#key sort 해서 튜플로 받기\n",
        "#단어장 만들기"
      ],
      "execution_count": null,
      "outputs": []
    },
    {
      "cell_type": "code",
      "metadata": {
        "id": "vNpfHtHDqGH1"
      },
      "source": [
        "d_li = {}\n",
        "while True:\n",
        "    name = input('조원명:')\n",
        "    if name  == '':\n",
        "        break\n",
        "    nickname = input('nickname:')\n",
        "    d_li[name] = nickname\n",
        "d_li"
      ],
      "execution_count": null,
      "outputs": []
    },
    {
      "cell_type": "code",
      "metadata": {
        "id": "vcloJej8qIe7"
      },
      "source": [
        "score = 0\n",
        "for i in d_li.keys():\n",
        "    name = input(i+':')\n",
        "    if name == d_li[i]:\n",
        "        score += 1\n",
        "print(f'맞은개수/전체단어수: { score} / {len(d_li)}')"
      ],
      "execution_count": null,
      "outputs": []
    },
    {
      "cell_type": "markdown",
      "metadata": {
        "id": "7MLzAEKHpLSC"
      },
      "source": [
        "**편의점 재고 관리**\n",
        "\n",
        "엔터를 입력할 때까지 반복하여 (while문으로 반복) 사용자로부터 물건이름과 개수를 입력받는다. (쌍을 이루니까 딕셔너리, key를 물건이름으로)\n",
        "\n",
        "만약 물건 이름이 존재하지 않으면 추가하고 (in), 존재하면 물건 개수를 더한다. (if-else 구조 사용)\n",
        "\n",
        "입력이 끝나면 재고현황을 물건이름의 오름차순으로 정렬하여 출력한다. (딕셔너리 전체를 물건 이름으로 정렬해서 for 문으로 출력) "
      ]
    },
    {
      "cell_type": "code",
      "metadata": {
        "colab": {
          "base_uri": "https://localhost:8080/"
        },
        "id": "HT4Qh_Iuo6mw",
        "outputId": "2913430a-9d6f-4c8e-b997-3b1123089b00"
      },
      "source": [
        "#편의점 재고관리 \n",
        "#물건이름:product, 개수:Number\n",
        "\n",
        "p_li={} #재고관리 리스트 생성\n",
        "while True:\n",
        "    product = input('물건이름:')\n",
        "    if product=='':\n",
        "        break  #null 이면 break\n",
        "    number = int(input('개수:'))\n",
        "    p_li[product] = number\n",
        "p_li \n"
      ],
      "execution_count": null,
      "outputs": [
        {
          "output_type": "stream",
          "text": [
            "물건이름:수박\n",
            "개수:1\n",
            "물건이름:\n"
          ],
          "name": "stdout"
        },
        {
          "output_type": "execute_result",
          "data": {
            "text/plain": [
              "{'수박': 1}"
            ]
          },
          "metadata": {
            "tags": []
          },
          "execution_count": 5
        }
      ]
    },
    {
      "cell_type": "code",
      "metadata": {
        "colab": {
          "base_uri": "https://localhost:8080/"
        },
        "id": "m2mLlgXGsOC_",
        "outputId": "d038f93f-d98c-48dc-9ee1-d877fd1d8794"
      },
      "source": [
        "p_li={} #재고관리 리스트 생성\n",
        "while True:\n",
        "    product = input('물건이름:')\n",
        "    if product=='':\n",
        "        break  #null 이면 break\n",
        "    number = int(input('개수:'))\n",
        "    if product in p_li.keys():  #조건추가, 물건 이름이 값에 있으면 if-name-in-keys\n",
        "        p_li[product] += number\n",
        "    else:\n",
        "        p_li[product] = number\n",
        "\n",
        "print(p_li)\n",
        "\n",
        "#오름차순정렬\n",
        "for key, value in sorted(p_li.items()): #sorting item or keys\n",
        "    print(key, value, end='')"
      ],
      "execution_count": null,
      "outputs": [
        {
          "output_type": "stream",
          "text": [
            "물건이름:수박\n",
            "개수:2\n",
            "물건이름:자몽\n",
            "개수:4\n",
            "물건이름:\n",
            "{'수박': 2, '자몽': 4}\n",
            "수박 2자몽 4"
          ],
          "name": "stdout"
        }
      ]
    },
    {
      "cell_type": "code",
      "metadata": {
        "colab": {
          "base_uri": "https://localhost:8080/"
        },
        "id": "tiq9lo4ct8hl",
        "outputId": "83ff76be-96a7-424f-ec00-2136a8890f41"
      },
      "source": [
        "#오름차순 정렬\n",
        "#데이터 정렬시엔 key를 정렬 혹은 item을 정렬\n",
        "\n",
        "d_scores = {\n",
        "    '홍길동':100,\n",
        "    '아버지':200,\n",
        "    '어머니':300 \n",
        "}\n",
        "# key sort하여 리스트로 받음\n",
        "s_keys = sorted(d_scores.keys())\n",
        "s_value = sorted(d_scores.values())\n",
        "print(s_keys)\n",
        "print(d_scores)\n",
        "print(s_value)\n",
        "\n",
        "# 정렬된 키 리스트 순서로 반복\n",
        "for i in s_keys: \n",
        "    print(i, d_scores[i])\n",
        "\n",
        "# key sort 해서 튜플로 받음\n",
        "s_items = sorted(d_scores.items())\n",
        "print(s_items)\n",
        "\n",
        "for i, value in s_items:\n",
        "    print(i, value)"
      ],
      "execution_count": null,
      "outputs": [
        {
          "output_type": "stream",
          "text": [
            "['아버지', '어머니', '홍길동']\n",
            "{'홍길동': 100, '아버지': 200, '어머니': 300}\n",
            "[100, 200, 300]\n",
            "아버지 200\n",
            "어머니 300\n",
            "홍길동 100\n",
            "[('아버지', 200), ('어머니', 300), ('홍길동', 100)]\n",
            "아버지 200\n",
            "어머니 300\n",
            "홍길동 100\n"
          ],
          "name": "stdout"
        }
      ]
    },
    {
      "cell_type": "code",
      "metadata": {
        "colab": {
          "base_uri": "https://localhost:8080/"
        },
        "id": "AmCqo9CHvNEj",
        "outputId": "06fb55e0-896f-4804-d858-84c7afea23b0"
      },
      "source": [
        "#집합(set) 생성\n",
        "set_wish = set(['a','b','c','b','d','a'])\n",
        "set_wish\n",
        "\n",
        "set_2 = {'a','b','c','a'}\n",
        "set_2\n",
        "\n",
        "set_hello = set(\"Hello\")\n",
        "set_hello"
      ],
      "execution_count": null,
      "outputs": [
        {
          "output_type": "execute_result",
          "data": {
            "text/plain": [
              "{'H', 'e', 'l', 'o'}"
            ]
          },
          "metadata": {
            "tags": []
          },
          "execution_count": 23
        }
      ]
    },
    {
      "cell_type": "code",
      "metadata": {
        "colab": {
          "base_uri": "https://localhost:8080/"
        },
        "id": "j7g0LSeI18Hb",
        "outputId": "473da147-f22c-4e9b-ff26-d89123bac65d"
      },
      "source": [
        "#집합 요소 추출 -> 순서가 없기에 인덱스로 값 못얻음\n",
        "#집합을 인덱싱으로 접근하려면 리스트나 튜플로 변환 후 사용\n",
        "\n",
        "set_wish = set(['a','b','c','b','d','a'])\n",
        "list_swish = list(set_wish)\n",
        "print(list_swish)\n",
        "print(list_swish[2])\n",
        "\n",
        "set_wish = set(['a','b','c','b','d','a'])\n",
        "list_swish2 = tuple(set_wish)\n",
        "print(list_swish2)\n",
        "print(list_swish2[2])"
      ],
      "execution_count": null,
      "outputs": [
        {
          "output_type": "stream",
          "text": [
            "['c', 'b', 'a', 'd']\n",
            "a\n",
            "('c', 'b', 'a', 'd')\n",
            "a\n"
          ],
          "name": "stdout"
        }
      ]
    },
    {
      "cell_type": "code",
      "metadata": {
        "colab": {
          "base_uri": "https://localhost:8080/"
        },
        "id": "7iDOcIFz3alI",
        "outputId": "2516b9e1-c8be-4bd3-8313-043956a57e19"
      },
      "source": [
        "#집합 연산 \n",
        "#합집합 a.union(b) a|b\n",
        "#교집합 a.intersection(b) a&b\n",
        "#차집합 a.difference(b) a-b\n",
        "\n",
        "sweety = {\"빼빼로\", \"칸초\", \"허니버터\"}\n",
        "salty = {\"허니버터\", '포카칩', '새우깡'}\n",
        "\n",
        "print(sweety.union(salty))\n",
        "print(sweety|salty)\n",
        "\n",
        "print(sweety.intersection(salty))\n",
        "print(sweety&salty)\n",
        "\n",
        "print(sweety.difference(salty))\n",
        "print(sweety-salty)\n",
        "print(salty-sweety)\n"
      ],
      "execution_count": null,
      "outputs": [
        {
          "output_type": "stream",
          "text": [
            "{'허니버터', '포카칩', '새우깡', '빼빼로', '칸초'}\n",
            "{'허니버터', '포카칩', '새우깡', '빼빼로', '칸초'}\n",
            "{'허니버터'}\n",
            "{'허니버터'}\n",
            "{'빼빼로', '칸초'}\n",
            "{'빼빼로', '칸초'}\n",
            "{'새우깡', '포카칩'}\n"
          ],
          "name": "stdout"
        }
      ]
    },
    {
      "cell_type": "code",
      "metadata": {
        "colab": {
          "base_uri": "https://localhost:8080/"
        },
        "id": "DR6aKaGT4i3_",
        "outputId": "c2f1a780-0607-4296-a4fc-5d9b5506ae91"
      },
      "source": [
        "#집합 요소 추가\n",
        "#집합명.add(요소) .update(리스트)\n",
        "\n",
        "sweety = {\"빼빼로\", \"칸초\", \"허니버터\"}\n",
        "sweety.add(\"뽀또\")\n",
        "print(sweety)\n",
        "\n",
        "sweety.update([\"오감자\", \"새우깡\"])\n",
        "print(sweety)\n",
        "\n",
        "#인덱스가 없으니까 슬라이싱 안돼!\n",
        "\n",
        "sweety.remove(\"뽀또\")\n",
        "sweety\n",
        "\n",
        "if '새우깡' in list(sweety): \n",
        "    sweety.remove('새우깡')\n",
        "sweety"
      ],
      "execution_count": null,
      "outputs": [
        {
          "output_type": "stream",
          "text": [
            "{'허니버터', '뽀또', '빼빼로', '칸초'}\n",
            "{'새우깡', '허니버터', '뽀또', '오감자', '빼빼로', '칸초'}\n"
          ],
          "name": "stdout"
        },
        {
          "output_type": "execute_result",
          "data": {
            "text/plain": [
              "{'빼빼로', '오감자', '칸초', '허니버터'}"
            ]
          },
          "metadata": {
            "tags": []
          },
          "execution_count": 37
        }
      ]
    },
    {
      "cell_type": "code",
      "metadata": {
        "id": "Uge-vb9o64fI"
      },
      "source": [
        "#조건문\n",
        "#순차구조: 명령어들이 순차적으로 실행됨\n",
        "#선택구조: 조건에 따라 명령을 선택하여 실행\n",
        "#반복구조: 동일한 명령이 반복되면서 실행\n",
        "\n",
        "if condition:\n",
        "    do this\n",
        "\n",
        "if condition:\n",
        "    do this\n",
        "else: \n",
        "    do that\n",
        "\n",
        "if condition:\n",
        "    do 1\n",
        "elif condition:\n",
        "    do 2\n",
        "else:\n",
        "    do 3\n",
        "\n",
        "if condition:\n",
        "    do 1\n",
        "    if condition2:\n",
        "        do2\n",
        "else: \n",
        "    do3\n"
      ],
      "execution_count": null,
      "outputs": []
    },
    {
      "cell_type": "code",
      "metadata": {
        "colab": {
          "base_uri": "https://localhost:8080/"
        },
        "id": "9lvPQGNhBMXI",
        "outputId": "37c90d59-a26b-4fba-c800-9a006f9d6a33"
      },
      "source": [
        "a = 1\n",
        "if a<0:\n",
        "    print('a는 0보다 작다')\n",
        "    print('a는 음수이다.')\n",
        "print('끝') #조건이 걸리지 않은거"
      ],
      "execution_count": null,
      "outputs": [
        {
          "output_type": "stream",
          "text": [
            "끝\n"
          ],
          "name": "stdout"
        }
      ]
    },
    {
      "cell_type": "code",
      "metadata": {
        "colab": {
          "base_uri": "https://localhost:8080/"
        },
        "id": "FvbP6Jg1CU5J",
        "outputId": "a708d909-0976-4931-ab10-0bfdd644b368"
      },
      "source": [
        "a = 1\n",
        "if a<0:\n",
        "    print('a는 0보다 작다')\n",
        "print('a는 음수이다.')\n",
        "print('끝')"
      ],
      "execution_count": null,
      "outputs": [
        {
          "output_type": "stream",
          "text": [
            "a는 음수이다.\n",
            "끝\n"
          ],
          "name": "stdout"
        }
      ]
    },
    {
      "cell_type": "code",
      "metadata": {
        "colab": {
          "base_uri": "https://localhost:8080/"
        },
        "id": "3INqt8JxCs_m",
        "outputId": "c365b4ed-06cb-40b9-898b-cd4e34f14063"
      },
      "source": [
        "temp = float(input('체온: '))\n",
        "if temp > 37.5:\n",
        "    print('등교불가')\n",
        "else: \n",
        "    print('등교가능')"
      ],
      "execution_count": null,
      "outputs": [
        {
          "output_type": "stream",
          "text": [
            "체온: 36\n",
            "등교가능\n"
          ],
          "name": "stdout"
        }
      ]
    },
    {
      "cell_type": "code",
      "metadata": {
        "colab": {
          "base_uri": "https://localhost:8080/"
        },
        "id": "Rap1eR_nDHAl",
        "outputId": "751879da-a866-4ec2-fa93-b5aae4a084a0"
      },
      "source": [
        "a = 5\n",
        "b = 4\n",
        "if a%b == 0:\n",
        "    print(f'{a}는 {b}로 나누어 떨어집니다')\n",
        "else:\n",
        "    print(f'{a}는 {b}로 나누면 나머지가 {a % b}입니다')"
      ],
      "execution_count": null,
      "outputs": [
        {
          "output_type": "stream",
          "text": [
            "5는 4로 나누면 나머지가 1입니다\n"
          ],
          "name": "stdout"
        }
      ]
    },
    {
      "cell_type": "code",
      "metadata": {
        "colab": {
          "base_uri": "https://localhost:8080/"
        },
        "id": "Nr33R_vbDvnF",
        "outputId": "7f2e4186-9b3e-42f1-cab2-b3f9d5eaa03b"
      },
      "source": [
        "#예제\n",
        "\n",
        "print('체온, 검사결과대기여부, 자가격리여부를 통해 등교가능여부 출력')\n",
        "\n",
        "temp = float(input('체온: '))\n",
        "waiting = str(input('검사대기여부: '))\n",
        "quarantine = str(input('자가격리여부: '))\n",
        "\n",
        "if temp > 37.5:\n",
        "    print('발열기준초과: 등교불가')\n",
        "elif waiting == 'y': \n",
        "    print('검사대기 중 등교불가')\n",
        "elif quarantine == 'y':\n",
        "    print('자가격리 중 등교불가')\n",
        "else:\n",
        "    print('등교가능')"
      ],
      "execution_count": null,
      "outputs": [
        {
          "output_type": "stream",
          "text": [
            "체온, 검사결과대기여부, 자가격리여부를 통해 등교가능여부 출력\n",
            "체온: 36\n",
            "검사대기여부: n\n",
            "자가격리여부: n\n",
            "등교가능\n"
          ],
          "name": "stdout"
        }
      ]
    },
    {
      "cell_type": "code",
      "metadata": {
        "colab": {
          "base_uri": "https://localhost:8080/"
        },
        "id": "YCt-qp3AFq1P",
        "outputId": "0a556d66-2e65-4072-8d73-2215d5fda63f"
      },
      "source": [
        "#예제2 점수에 따른 등급 출력하기\n",
        "#점수 입력 받고/ 점수범위에 따라 / 등급을 출력\n",
        "\n",
        "score = float(input('점수: '))\n",
        "if score >= 90:\n",
        "    grade = \"A\"\n",
        "elif score >= 80:\n",
        "    grade = \"B\"\n",
        "elif score >= 70:\n",
        "    grade = \"C\"\n",
        "elif score >= 60:\n",
        "    grade = \"D\"\n",
        "else:\n",
        "    grade = \"F\"\n",
        "    print(f'등급: {grade}')"
      ],
      "execution_count": null,
      "outputs": [
        {
          "output_type": "stream",
          "text": [
            "점수: 50\n",
            "등급: F\n"
          ],
          "name": "stdout"
        }
      ]
    },
    {
      "cell_type": "code",
      "metadata": {
        "colab": {
          "base_uri": "https://localhost:8080/"
        },
        "id": "O1OnEdhZHLIU",
        "outputId": "a3e33bac-ddfd-4465-d871-f9946b8c2e89"
      },
      "source": [
        "#예제3 금액에 따른 할인율\n",
        "\n",
        "price = int(input('물건 구매가를 입력하세요: '))\n",
        "if price >= 100000:\n",
        "    discount = 0.1\n",
        "elif price >= 50000:\n",
        "    discount = 0.075\n",
        "elif price >= 10000:\n",
        "    discount = 0.005\n",
        "else:\n",
        "    discount = 0\n",
        "print(f'구매가: {price}원')\n",
        "print(f'할인율: {discount*100}%')\n",
        "print(f'할인금액: {price*discount}원')\n",
        "print(f'지불금액: {price-price*discount}원')"
      ],
      "execution_count": null,
      "outputs": [
        {
          "output_type": "stream",
          "text": [
            "물건 구매가를 입력하세요: 60000\n",
            "구매가: 60000원\n",
            "할인율: 7.5%\n",
            "할인금액: 4500.0원\n",
            "지불금액: 55500.0원\n"
          ],
          "name": "stdout"
        }
      ]
    },
    {
      "cell_type": "code",
      "metadata": {
        "colab": {
          "base_uri": "https://localhost:8080/"
        },
        "id": "28-9REEfPOK8",
        "outputId": "0843bce7-ba71-4883-a8b6-2c030d051681"
      },
      "source": [
        "#예제 최소값구하기 (elif 안되구 if, if)\n",
        "num1 = int(input('숫자 1: '))\n",
        "num2 = int(input('숫자 2: '))\n",
        "num3 = int(input('숫자 3: '))\n",
        "\n",
        "min1 = num1\n",
        "\n",
        "if num1 >= num2:\n",
        "    min1 = num2\n",
        "\n",
        "if num2 >= num3:\n",
        "    min1 = num3\n",
        "\n",
        "print('가장 작은 수: ', min1)\n",
        "\n"
      ],
      "execution_count": null,
      "outputs": [
        {
          "output_type": "stream",
          "text": [
            "숫자 1: 3\n",
            "숫자 2: 1\n",
            "숫자 3: 6\n",
            "가장 작은 수:  1\n"
          ],
          "name": "stdout"
        }
      ]
    },
    {
      "cell_type": "code",
      "metadata": {
        "colab": {
          "base_uri": "https://localhost:8080/"
        },
        "id": "rhcKqgYCQ8GK",
        "outputId": "273f2822-810c-4e26-fa94-8a001b68d80b"
      },
      "source": [
        "num1 = int(input('숫자 1: '))\n",
        "num2 = int(input('숫자 2: '))\n",
        "num3 = int(input('숫자 3: '))\n",
        "\n",
        "min_n = min(num1, num2, num3)\n",
        "\n",
        "print(min_n)"
      ],
      "execution_count": null,
      "outputs": [
        {
          "output_type": "stream",
          "text": [
            "숫자 1: 2\n",
            "숫자 2: 4\n",
            "숫자 3: 3\n",
            "2\n"
          ],
          "name": "stdout"
        }
      ]
    },
    {
      "cell_type": "code",
      "metadata": {
        "colab": {
          "base_uri": "https://localhost:8080/"
        },
        "id": "FobUEt6rQ3Md",
        "outputId": "545d5632-9c7a-4d49-b941-e04a9c6539eb"
      },
      "source": [
        "#논리연산자\n",
        "# 논리 연산자(Logical operator)\n",
        "# and, or, not\n",
        "print(True and True)\n",
        "print(True and False)\n",
        "print(False and True)\n",
        "print(False and False)\n",
        "print()\n",
        "print(True or True)\n",
        "print(True or False)\n",
        "print(False or True)\n",
        "print(False or False)\n",
        "print()\n",
        "print(not True)\n",
        "print(not False)"
      ],
      "execution_count": null,
      "outputs": [
        {
          "output_type": "stream",
          "text": [
            "True\n",
            "False\n",
            "False\n",
            "False\n",
            "\n",
            "True\n",
            "True\n",
            "True\n",
            "False\n",
            "\n",
            "False\n",
            "True\n"
          ],
          "name": "stdout"
        }
      ]
    },
    {
      "cell_type": "code",
      "metadata": {
        "colab": {
          "base_uri": "https://localhost:8080/"
        },
        "id": "F4xp4WA_TEB1",
        "outputId": "d61277a3-e44f-4a83-a492-444b594afbde"
      },
      "source": [
        "1 in [1, 2, 3]\n"
      ],
      "execution_count": null,
      "outputs": [
        {
          "output_type": "execute_result",
          "data": {
            "text/plain": [
              "True"
            ]
          },
          "metadata": {
            "tags": []
          },
          "execution_count": 75
        }
      ]
    },
    {
      "cell_type": "code",
      "metadata": {
        "colab": {
          "base_uri": "https://localhost:8080/"
        },
        "id": "mXASNJr5TLXZ",
        "outputId": "28e7039f-0ee7-43e7-fabd-04d559fc4d42"
      },
      "source": [
        "'a' in ('a', 'b', 'c')"
      ],
      "execution_count": null,
      "outputs": [
        {
          "output_type": "execute_result",
          "data": {
            "text/plain": [
              "True"
            ]
          },
          "metadata": {
            "tags": []
          },
          "execution_count": 76
        }
      ]
    },
    {
      "cell_type": "code",
      "metadata": {
        "colab": {
          "base_uri": "https://localhost:8080/"
        },
        "id": "AgyhoZRYTMUt",
        "outputId": "49402ea7-fae9-48aa-db2a-1f0d1cdde35c"
      },
      "source": [
        "'j' not in 'python'"
      ],
      "execution_count": null,
      "outputs": [
        {
          "output_type": "execute_result",
          "data": {
            "text/plain": [
              "True"
            ]
          },
          "metadata": {
            "tags": []
          },
          "execution_count": 77
        }
      ]
    },
    {
      "cell_type": "code",
      "metadata": {
        "colab": {
          "base_uri": "https://localhost:8080/"
        },
        "id": "nY9ob3CYTdoV",
        "outputId": "572016b0-58b7-40f5-95ff-4a533dc48c63"
      },
      "source": [
        "#예제: 국립공원 입장료 계산\n",
        "\n",
        "age = int(input('나이를 입력하세요: '))\n",
        "price = 3000\n",
        "if age>=65 or age<=7:\n",
        "    price = 0\n",
        "elif age <=18:\n",
        "    price = 1000\n",
        "\n",
        "print(f'{price}원 입니다')\n",
        "\n"
      ],
      "execution_count": null,
      "outputs": [
        {
          "output_type": "stream",
          "text": [
            "나이를 입력하세요: 24\n",
            "3000원 입니다\n"
          ],
          "name": "stdout"
        }
      ]
    },
    {
      "cell_type": "code",
      "metadata": {
        "colab": {
          "base_uri": "https://localhost:8080/"
        },
        "id": "PdPQrPSaWMXD",
        "outputId": "1af66976-e708-431a-e5cd-7084768cda03"
      },
      "source": [
        "#예제: 로그인 프로그램\n",
        "\n",
        "user_id = 'ID1234'\n",
        "user_pw = 'PWD1234'\n",
        "\n",
        "id = input('아이디: ')\n",
        "pw = input('패스워드: ')\n",
        "\n",
        "if id != user_id or pw != user_pw:\n",
        "    print('로그인 실패')\n",
        "else:\n",
        "    print('로그인 성공')"
      ],
      "execution_count": null,
      "outputs": [
        {
          "output_type": "stream",
          "text": [
            "아이디: ID1234\n",
            "패스워드: PWD1234\n",
            "로그인 성공\n"
          ],
          "name": "stdout"
        }
      ]
    },
    {
      "cell_type": "code",
      "metadata": {
        "colab": {
          "base_uri": "https://localhost:8080/"
        },
        "id": "GWD9hXFEX1JI",
        "outputId": "0b7d6a48-b776-483a-a842-b0cad93cc3f3"
      },
      "source": [
        "user_id = 'ID1234'\n",
        "user_pw = 'PWD1234'\n",
        "\n",
        "id = input('아이디: ')\n",
        "pw = input('패스워드: ')\n",
        "\n",
        "if id == user_id and pw == user_pw:\n",
        "    print('로그인 성공')\n",
        "else:\n",
        "    print('로그인 실패')"
      ],
      "execution_count": null,
      "outputs": [
        {
          "output_type": "stream",
          "text": [
            "아이디: 123\n",
            "패스워드: 445\n",
            "로그인 실패\n"
          ],
          "name": "stdout"
        }
      ]
    },
    {
      "cell_type": "code",
      "metadata": {
        "colab": {
          "base_uri": "https://localhost:8080/"
        },
        "id": "nl06VK7ZYbyK",
        "outputId": "c3971d02-0fda-49e9-fa78-0f4f1657f68a"
      },
      "source": [
        "#예제 사칙연산 프로그램\n",
        "\n",
        "num1 = int(input('숫자1: '))\n",
        "num2 = int(input('숫자2: '))\n",
        "oper = input('+, -, *, /: ')\n",
        "\n",
        "if oper == '+':\n",
        "    print(num1+num2)\n",
        "elif oper == '-':\n",
        "    print(num1-num2)\n",
        "elif oper == '*':\n",
        "    print(num1*num2)\n",
        "else:\n",
        "    if num2 != 0:\n",
        "        print(float(num1/num2))\n",
        "    else: \n",
        "        print(\"불가능합니다.\")\n"
      ],
      "execution_count": null,
      "outputs": [
        {
          "output_type": "stream",
          "text": [
            "숫자1: 4\n",
            "숫자2: 5\n",
            "+, -, *, /: *\n",
            "20\n"
          ],
          "name": "stdout"
        }
      ]
    },
    {
      "cell_type": "code",
      "metadata": {
        "colab": {
          "base_uri": "https://localhost:8080/"
        },
        "id": "j0tKf1chfDaj",
        "outputId": "20a0e48c-ceca-4ebc-899f-2800c5885a5f"
      },
      "source": [
        "#random\n",
        "import random\n",
        "num1 = random.randint(1,6)\n",
        "num2 = random.randint(1,6)\n",
        "\n",
        "print(f'주사위1: {num1}')\n",
        "print(f'주사위2: {num2}')\n",
        "\n",
        "min1 = min(num1, num2)\n",
        "\n",
        "print('가장 작은 수: ', min1)\n",
        "\n"
      ],
      "execution_count": null,
      "outputs": [
        {
          "output_type": "stream",
          "text": [
            "주사위1: 6\n",
            "주사위2: 1\n",
            "가장 작은 수:  1\n"
          ],
          "name": "stdout"
        }
      ]
    },
    {
      "cell_type": "code",
      "metadata": {
        "colab": {
          "base_uri": "https://localhost:8080/"
        },
        "id": "9On0U3N3h3QK",
        "outputId": "90cbc274-c865-4ba7-c83a-61494ad1eb32"
      },
      "source": [
        "import random\n",
        "dice1 = random.randint(1,6)\n",
        "dice2 = random.randint(1,6)\n",
        "\n",
        "print('주사위1:', dice1)\n",
        "print('주사위2:', dice2)\n",
        "if dice1 > dice2:\n",
        "    print('주사위1가 이겼습니다.')\n",
        "elif dice1 < dice2:\n",
        "    print('주사위2가 이겼습니다.')\n",
        "elif dice1 == dice2:\n",
        "    print('같은 수가 나왔습니다.')"
      ],
      "execution_count": null,
      "outputs": [
        {
          "output_type": "stream",
          "text": [
            "주사위1: 6\n",
            "주사위2: 5\n",
            "주사위1가 이겼습니다.\n"
          ],
          "name": "stdout"
        }
      ]
    },
    {
      "cell_type": "code",
      "metadata": {
        "id": "ZeimVxkopVs5",
        "colab": {
          "base_uri": "https://localhost:8080/"
        },
        "outputId": "591a463a-e9e4-4e2c-8177-cadb291840e5"
      },
      "source": [
        "import random\n",
        "again='y'  \n",
        "while again == 'y': \n",
        "    print(\"-\"*30)\n",
        "    print('주사위를 던집니다.') \n",
        "    dice1 = random.randint(1,6)\n",
        "    dice2 = random.randint(1,6)\n",
        "    print('주사위1:', dice1)\n",
        "    print('주사위2:', dice2)\n",
        "    if dice1 > dice2:\n",
        "        print('주사위1 이 이겼습니다.')\n",
        "    elif dice1 < dice2:\n",
        "        print('주사위2가 이겼습니다.')\n",
        "    elif dice1 == dice2:\n",
        "        print('같은 수가 나왔습니다.')\n",
        "    again=input('계속하려면 y를 입력하세요')"
      ],
      "execution_count": null,
      "outputs": [
        {
          "output_type": "stream",
          "text": [
            "------------------------------\n",
            "주사위를 던집니다.\n",
            "주사위1: 2\n",
            "주사위2: 2\n",
            "같은 수가 나왔습니다.\n",
            "계속하려면 y를 입력하세요2\n"
          ],
          "name": "stdout"
        }
      ]
    }
  ]
}