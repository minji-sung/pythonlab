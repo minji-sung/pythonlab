{
  "nbformat": 4,
  "nbformat_minor": 0,
  "metadata": {
    "colab": {
      "name": "20210609_4팀_성민지.ipynb",
      "provenance": [],
      "authorship_tag": "ABX9TyN63baTENVgXt6oLjx0b4t7",
      "include_colab_link": true
    },
    "kernelspec": {
      "name": "python3",
      "display_name": "Python 3"
    },
    "language_info": {
      "name": "python"
    }
  },
  "cells": [
    {
      "cell_type": "markdown",
      "metadata": {
        "id": "view-in-github",
        "colab_type": "text"
      },
      "source": [
        "<a href=\"https://colab.research.google.com/github/minji-sung/pythonlab/blob/main/8_pandas.ipynb\" target=\"_parent\"><img src=\"https://colab.research.google.com/assets/colab-badge.svg\" alt=\"Open In Colab\"/></a>"
      ]
    },
    {
      "cell_type": "markdown",
      "metadata": {
        "id": "_ePYswigZ9Qd"
      },
      "source": [
        "# pandas\n",
        "\n",
        "## 데이터 분석과 관련된 다양한 기능을 제공하는 파이썬 패키지  \n",
        "\n",
        "* 엑셀의 기능을 제공하는 파이썬 모듈이라고 생각하면 이해가 쉽습니다.\n",
        "* 표 형태의 데이터를 다루기 위한 시리즈(Series)와 데이터프레임(DataFrame) 클래스 제공  합니다.  \n",
        "\n",
        "    * `Series` : 1차원 자료구조를 표현(벡터)  \n",
        "    * `DataFrame` : 행렬의 표를 표현  "
      ]
    },
    {
      "cell_type": "code",
      "metadata": {
        "id": "E9megApJaO2V"
      },
      "source": [
        "from google.colab import files\n",
        "file_upload = files.upload()\n"
      ],
      "execution_count": null,
      "outputs": []
    },
    {
      "cell_type": "code",
      "metadata": {
        "colab": {
          "base_uri": "https://localhost:8080/"
        },
        "id": "Avnd9_gJZ_rf",
        "outputId": "39aeed52-ab29-45c7-fbb9-af263e283356"
      },
      "source": [
        "from google.colab import drive\n",
        "drive.mount('/content/drive')"
      ],
      "execution_count": null,
      "outputs": [
        {
          "output_type": "stream",
          "text": [
            "Mounted at /content/drive\n"
          ],
          "name": "stdout"
        }
      ]
    },
    {
      "cell_type": "code",
      "metadata": {
        "colab": {
          "base_uri": "https://localhost:8080/"
        },
        "id": "c1QXM5g1aJTb",
        "outputId": "e5e529bf-6480-4169-ab3c-300d853cf6c7"
      },
      "source": [
        "% cd /content/drive/MyDrive/Colab Notebooks\n"
      ],
      "execution_count": null,
      "outputs": [
        {
          "output_type": "stream",
          "text": [
            "/content/drive/MyDrive/Colab Notebooks\n"
          ],
          "name": "stdout"
        }
      ]
    },
    {
      "cell_type": "code",
      "metadata": {
        "colab": {
          "base_uri": "https://localhost:8080/",
          "height": 235
        },
        "id": "T5_XVml8aKjl",
        "outputId": "d2011509-a14c-4c8f-b0d4-2a2e64b954b7"
      },
      "source": [
        "import pandas as pd\n",
        "df = pd.read_csv('friends1.csv')\n",
        "df"
      ],
      "execution_count": null,
      "outputs": [
        {
          "output_type": "execute_result",
          "data": {
            "text/html": [
              "<div>\n",
              "<style scoped>\n",
              "    .dataframe tbody tr th:only-of-type {\n",
              "        vertical-align: middle;\n",
              "    }\n",
              "\n",
              "    .dataframe tbody tr th {\n",
              "        vertical-align: top;\n",
              "    }\n",
              "\n",
              "    .dataframe thead th {\n",
              "        text-align: right;\n",
              "    }\n",
              "</style>\n",
              "<table border=\"1\" class=\"dataframe\">\n",
              "  <thead>\n",
              "    <tr style=\"text-align: right;\">\n",
              "      <th></th>\n",
              "      <th>이름</th>\n",
              "      <th>나이</th>\n",
              "      <th>직업</th>\n",
              "    </tr>\n",
              "  </thead>\n",
              "  <tbody>\n",
              "    <tr>\n",
              "      <th>0</th>\n",
              "      <td>수현</td>\n",
              "      <td>20</td>\n",
              "      <td>학생</td>\n",
              "    </tr>\n",
              "    <tr>\n",
              "      <th>1</th>\n",
              "      <td>헨리</td>\n",
              "      <td>30</td>\n",
              "      <td>가수</td>\n",
              "    </tr>\n",
              "    <tr>\n",
              "      <th>2</th>\n",
              "      <td>박정현</td>\n",
              "      <td>25</td>\n",
              "      <td>축구선수</td>\n",
              "    </tr>\n",
              "    <tr>\n",
              "      <th>3</th>\n",
              "      <td>이소라</td>\n",
              "      <td>27</td>\n",
              "      <td>프로그래머</td>\n",
              "    </tr>\n",
              "    <tr>\n",
              "      <th>4</th>\n",
              "      <td>폴킴</td>\n",
              "      <td>33</td>\n",
              "      <td>유튜버</td>\n",
              "    </tr>\n",
              "    <tr>\n",
              "      <th>5</th>\n",
              "      <td>정승환</td>\n",
              "      <td>25</td>\n",
              "      <td>백수</td>\n",
              "    </tr>\n",
              "  </tbody>\n",
              "</table>\n",
              "</div>"
            ],
            "text/plain": [
              "    이름  나이     직업\n",
              "0   수현  20     학생\n",
              "1   헨리  30     가수\n",
              "2  박정현  25   축구선수\n",
              "3  이소라  27  프로그래머\n",
              "4   폴킴  33    유튜버\n",
              "5  정승환  25     백수"
            ]
          },
          "metadata": {
            "tags": []
          },
          "execution_count": 3
        }
      ]
    },
    {
      "cell_type": "code",
      "metadata": {
        "colab": {
          "base_uri": "https://localhost:8080/",
          "height": 204
        },
        "id": "o98bFCa7aUrK",
        "outputId": "ce6be593-fc06-4038-e1fd-29b0ae68114b"
      },
      "source": [
        "df.head()"
      ],
      "execution_count": null,
      "outputs": [
        {
          "output_type": "execute_result",
          "data": {
            "text/html": [
              "<div>\n",
              "<style scoped>\n",
              "    .dataframe tbody tr th:only-of-type {\n",
              "        vertical-align: middle;\n",
              "    }\n",
              "\n",
              "    .dataframe tbody tr th {\n",
              "        vertical-align: top;\n",
              "    }\n",
              "\n",
              "    .dataframe thead th {\n",
              "        text-align: right;\n",
              "    }\n",
              "</style>\n",
              "<table border=\"1\" class=\"dataframe\">\n",
              "  <thead>\n",
              "    <tr style=\"text-align: right;\">\n",
              "      <th></th>\n",
              "      <th>이름</th>\n",
              "      <th>나이</th>\n",
              "      <th>직업</th>\n",
              "    </tr>\n",
              "  </thead>\n",
              "  <tbody>\n",
              "    <tr>\n",
              "      <th>0</th>\n",
              "      <td>수현</td>\n",
              "      <td>20</td>\n",
              "      <td>학생</td>\n",
              "    </tr>\n",
              "    <tr>\n",
              "      <th>1</th>\n",
              "      <td>헨리</td>\n",
              "      <td>30</td>\n",
              "      <td>가수</td>\n",
              "    </tr>\n",
              "    <tr>\n",
              "      <th>2</th>\n",
              "      <td>박정현</td>\n",
              "      <td>25</td>\n",
              "      <td>축구선수</td>\n",
              "    </tr>\n",
              "    <tr>\n",
              "      <th>3</th>\n",
              "      <td>이소라</td>\n",
              "      <td>27</td>\n",
              "      <td>프로그래머</td>\n",
              "    </tr>\n",
              "    <tr>\n",
              "      <th>4</th>\n",
              "      <td>폴킴</td>\n",
              "      <td>33</td>\n",
              "      <td>유튜버</td>\n",
              "    </tr>\n",
              "  </tbody>\n",
              "</table>\n",
              "</div>"
            ],
            "text/plain": [
              "    이름  나이     직업\n",
              "0   수현  20     학생\n",
              "1   헨리  30     가수\n",
              "2  박정현  25   축구선수\n",
              "3  이소라  27  프로그래머\n",
              "4   폴킴  33    유튜버"
            ]
          },
          "metadata": {
            "tags": []
          },
          "execution_count": 4
        }
      ]
    },
    {
      "cell_type": "code",
      "metadata": {
        "colab": {
          "base_uri": "https://localhost:8080/",
          "height": 142
        },
        "id": "NZtfm5a8aVzJ",
        "outputId": "9b8041ab-9017-4b2e-a5f2-a6e79f81eccd"
      },
      "source": [
        "df.head(3)"
      ],
      "execution_count": null,
      "outputs": [
        {
          "output_type": "execute_result",
          "data": {
            "text/html": [
              "<div>\n",
              "<style scoped>\n",
              "    .dataframe tbody tr th:only-of-type {\n",
              "        vertical-align: middle;\n",
              "    }\n",
              "\n",
              "    .dataframe tbody tr th {\n",
              "        vertical-align: top;\n",
              "    }\n",
              "\n",
              "    .dataframe thead th {\n",
              "        text-align: right;\n",
              "    }\n",
              "</style>\n",
              "<table border=\"1\" class=\"dataframe\">\n",
              "  <thead>\n",
              "    <tr style=\"text-align: right;\">\n",
              "      <th></th>\n",
              "      <th>이름</th>\n",
              "      <th>나이</th>\n",
              "      <th>직업</th>\n",
              "    </tr>\n",
              "  </thead>\n",
              "  <tbody>\n",
              "    <tr>\n",
              "      <th>0</th>\n",
              "      <td>수현</td>\n",
              "      <td>20</td>\n",
              "      <td>학생</td>\n",
              "    </tr>\n",
              "    <tr>\n",
              "      <th>1</th>\n",
              "      <td>헨리</td>\n",
              "      <td>30</td>\n",
              "      <td>가수</td>\n",
              "    </tr>\n",
              "    <tr>\n",
              "      <th>2</th>\n",
              "      <td>박정현</td>\n",
              "      <td>25</td>\n",
              "      <td>축구선수</td>\n",
              "    </tr>\n",
              "  </tbody>\n",
              "</table>\n",
              "</div>"
            ],
            "text/plain": [
              "    이름  나이    직업\n",
              "0   수현  20    학생\n",
              "1   헨리  30    가수\n",
              "2  박정현  25  축구선수"
            ]
          },
          "metadata": {
            "tags": []
          },
          "execution_count": 5
        }
      ]
    },
    {
      "cell_type": "code",
      "metadata": {
        "colab": {
          "base_uri": "https://localhost:8080/",
          "height": 204
        },
        "id": "RKY5u7lUaW1Q",
        "outputId": "78fcfe13-2ace-44d2-eacd-2d4840e9b70d"
      },
      "source": [
        "df.tail()"
      ],
      "execution_count": null,
      "outputs": [
        {
          "output_type": "execute_result",
          "data": {
            "text/html": [
              "<div>\n",
              "<style scoped>\n",
              "    .dataframe tbody tr th:only-of-type {\n",
              "        vertical-align: middle;\n",
              "    }\n",
              "\n",
              "    .dataframe tbody tr th {\n",
              "        vertical-align: top;\n",
              "    }\n",
              "\n",
              "    .dataframe thead th {\n",
              "        text-align: right;\n",
              "    }\n",
              "</style>\n",
              "<table border=\"1\" class=\"dataframe\">\n",
              "  <thead>\n",
              "    <tr style=\"text-align: right;\">\n",
              "      <th></th>\n",
              "      <th>이름</th>\n",
              "      <th>나이</th>\n",
              "      <th>직업</th>\n",
              "    </tr>\n",
              "  </thead>\n",
              "  <tbody>\n",
              "    <tr>\n",
              "      <th>1</th>\n",
              "      <td>헨리</td>\n",
              "      <td>30</td>\n",
              "      <td>가수</td>\n",
              "    </tr>\n",
              "    <tr>\n",
              "      <th>2</th>\n",
              "      <td>박정현</td>\n",
              "      <td>25</td>\n",
              "      <td>축구선수</td>\n",
              "    </tr>\n",
              "    <tr>\n",
              "      <th>3</th>\n",
              "      <td>이소라</td>\n",
              "      <td>27</td>\n",
              "      <td>프로그래머</td>\n",
              "    </tr>\n",
              "    <tr>\n",
              "      <th>4</th>\n",
              "      <td>폴킴</td>\n",
              "      <td>33</td>\n",
              "      <td>유튜버</td>\n",
              "    </tr>\n",
              "    <tr>\n",
              "      <th>5</th>\n",
              "      <td>정승환</td>\n",
              "      <td>25</td>\n",
              "      <td>백수</td>\n",
              "    </tr>\n",
              "  </tbody>\n",
              "</table>\n",
              "</div>"
            ],
            "text/plain": [
              "    이름  나이     직업\n",
              "1   헨리  30     가수\n",
              "2  박정현  25   축구선수\n",
              "3  이소라  27  프로그래머\n",
              "4   폴킴  33    유튜버\n",
              "5  정승환  25     백수"
            ]
          },
          "metadata": {
            "tags": []
          },
          "execution_count": 6
        }
      ]
    },
    {
      "cell_type": "code",
      "metadata": {
        "colab": {
          "base_uri": "https://localhost:8080/",
          "height": 235
        },
        "id": "nz5YlJ9RaX8O",
        "outputId": "b7d372fe-9ac5-4c81-b2e3-2dcee6cbbca0"
      },
      "source": [
        "df[['이름','나이']]"
      ],
      "execution_count": null,
      "outputs": [
        {
          "output_type": "execute_result",
          "data": {
            "text/html": [
              "<div>\n",
              "<style scoped>\n",
              "    .dataframe tbody tr th:only-of-type {\n",
              "        vertical-align: middle;\n",
              "    }\n",
              "\n",
              "    .dataframe tbody tr th {\n",
              "        vertical-align: top;\n",
              "    }\n",
              "\n",
              "    .dataframe thead th {\n",
              "        text-align: right;\n",
              "    }\n",
              "</style>\n",
              "<table border=\"1\" class=\"dataframe\">\n",
              "  <thead>\n",
              "    <tr style=\"text-align: right;\">\n",
              "      <th></th>\n",
              "      <th>이름</th>\n",
              "      <th>나이</th>\n",
              "    </tr>\n",
              "  </thead>\n",
              "  <tbody>\n",
              "    <tr>\n",
              "      <th>0</th>\n",
              "      <td>수현</td>\n",
              "      <td>20</td>\n",
              "    </tr>\n",
              "    <tr>\n",
              "      <th>1</th>\n",
              "      <td>헨리</td>\n",
              "      <td>30</td>\n",
              "    </tr>\n",
              "    <tr>\n",
              "      <th>2</th>\n",
              "      <td>박정현</td>\n",
              "      <td>25</td>\n",
              "    </tr>\n",
              "    <tr>\n",
              "      <th>3</th>\n",
              "      <td>이소라</td>\n",
              "      <td>27</td>\n",
              "    </tr>\n",
              "    <tr>\n",
              "      <th>4</th>\n",
              "      <td>폴킴</td>\n",
              "      <td>33</td>\n",
              "    </tr>\n",
              "    <tr>\n",
              "      <th>5</th>\n",
              "      <td>정승환</td>\n",
              "      <td>25</td>\n",
              "    </tr>\n",
              "  </tbody>\n",
              "</table>\n",
              "</div>"
            ],
            "text/plain": [
              "    이름  나이\n",
              "0   수현  20\n",
              "1   헨리  30\n",
              "2  박정현  25\n",
              "3  이소라  27\n",
              "4   폴킴  33\n",
              "5  정승환  25"
            ]
          },
          "metadata": {
            "tags": []
          },
          "execution_count": 7
        }
      ]
    },
    {
      "cell_type": "code",
      "metadata": {
        "colab": {
          "base_uri": "https://localhost:8080/",
          "height": 235
        },
        "id": "4ghWmgwXdK6Q",
        "outputId": "08a312ce-046b-4fa3-eadb-44ac58f71464"
      },
      "source": [
        "df[['이름', '나이']]    #[[시리즈]]"
      ],
      "execution_count": null,
      "outputs": [
        {
          "output_type": "execute_result",
          "data": {
            "text/html": [
              "<div>\n",
              "<style scoped>\n",
              "    .dataframe tbody tr th:only-of-type {\n",
              "        vertical-align: middle;\n",
              "    }\n",
              "\n",
              "    .dataframe tbody tr th {\n",
              "        vertical-align: top;\n",
              "    }\n",
              "\n",
              "    .dataframe thead th {\n",
              "        text-align: right;\n",
              "    }\n",
              "</style>\n",
              "<table border=\"1\" class=\"dataframe\">\n",
              "  <thead>\n",
              "    <tr style=\"text-align: right;\">\n",
              "      <th></th>\n",
              "      <th>이름</th>\n",
              "      <th>나이</th>\n",
              "    </tr>\n",
              "  </thead>\n",
              "  <tbody>\n",
              "    <tr>\n",
              "      <th>0</th>\n",
              "      <td>수현</td>\n",
              "      <td>20</td>\n",
              "    </tr>\n",
              "    <tr>\n",
              "      <th>1</th>\n",
              "      <td>헨리</td>\n",
              "      <td>30</td>\n",
              "    </tr>\n",
              "    <tr>\n",
              "      <th>2</th>\n",
              "      <td>박정현</td>\n",
              "      <td>25</td>\n",
              "    </tr>\n",
              "    <tr>\n",
              "      <th>3</th>\n",
              "      <td>이소라</td>\n",
              "      <td>27</td>\n",
              "    </tr>\n",
              "    <tr>\n",
              "      <th>4</th>\n",
              "      <td>폴킴</td>\n",
              "      <td>33</td>\n",
              "    </tr>\n",
              "    <tr>\n",
              "      <th>5</th>\n",
              "      <td>정승환</td>\n",
              "      <td>25</td>\n",
              "    </tr>\n",
              "  </tbody>\n",
              "</table>\n",
              "</div>"
            ],
            "text/plain": [
              "    이름  나이\n",
              "0   수현  20\n",
              "1   헨리  30\n",
              "2  박정현  25\n",
              "3  이소라  27\n",
              "4   폴킴  33\n",
              "5  정승환  25"
            ]
          },
          "metadata": {
            "tags": []
          },
          "execution_count": 15
        }
      ]
    },
    {
      "cell_type": "code",
      "metadata": {
        "colab": {
          "base_uri": "https://localhost:8080/"
        },
        "id": "0Tnghskdaazx",
        "outputId": "ad781587-d97f-4fd8-bc20-9965eef0dc8a"
      },
      "source": [
        "df['나이'] > 25"
      ],
      "execution_count": null,
      "outputs": [
        {
          "output_type": "execute_result",
          "data": {
            "text/plain": [
              "0    False\n",
              "1     True\n",
              "2    False\n",
              "3     True\n",
              "4     True\n",
              "5    False\n",
              "Name: 나이, dtype: bool"
            ]
          },
          "metadata": {
            "tags": []
          },
          "execution_count": 8
        }
      ]
    },
    {
      "cell_type": "code",
      "metadata": {
        "colab": {
          "base_uri": "https://localhost:8080/"
        },
        "id": "snwqvOdde4PB",
        "outputId": "fe8a7dae-2809-402b-f5cb-08043b78f5b4"
      },
      "source": [
        "sum(df['나이'] > 25)    #개수 세기"
      ],
      "execution_count": null,
      "outputs": [
        {
          "output_type": "execute_result",
          "data": {
            "text/plain": [
              "3"
            ]
          },
          "metadata": {
            "tags": []
          },
          "execution_count": 18
        }
      ]
    },
    {
      "cell_type": "code",
      "metadata": {
        "colab": {
          "base_uri": "https://localhost:8080/",
          "height": 142
        },
        "id": "MGAGAvapact4",
        "outputId": "f2708970-b5bc-4a35-acd8-f723e9e83957"
      },
      "source": [
        "df[df['나이'] > 25]"
      ],
      "execution_count": null,
      "outputs": [
        {
          "output_type": "execute_result",
          "data": {
            "text/html": [
              "<div>\n",
              "<style scoped>\n",
              "    .dataframe tbody tr th:only-of-type {\n",
              "        vertical-align: middle;\n",
              "    }\n",
              "\n",
              "    .dataframe tbody tr th {\n",
              "        vertical-align: top;\n",
              "    }\n",
              "\n",
              "    .dataframe thead th {\n",
              "        text-align: right;\n",
              "    }\n",
              "</style>\n",
              "<table border=\"1\" class=\"dataframe\">\n",
              "  <thead>\n",
              "    <tr style=\"text-align: right;\">\n",
              "      <th></th>\n",
              "      <th>이름</th>\n",
              "      <th>나이</th>\n",
              "      <th>직업</th>\n",
              "    </tr>\n",
              "  </thead>\n",
              "  <tbody>\n",
              "    <tr>\n",
              "      <th>1</th>\n",
              "      <td>헨리</td>\n",
              "      <td>30</td>\n",
              "      <td>가수</td>\n",
              "    </tr>\n",
              "    <tr>\n",
              "      <th>3</th>\n",
              "      <td>이소라</td>\n",
              "      <td>27</td>\n",
              "      <td>프로그래머</td>\n",
              "    </tr>\n",
              "    <tr>\n",
              "      <th>4</th>\n",
              "      <td>폴킴</td>\n",
              "      <td>33</td>\n",
              "      <td>유튜버</td>\n",
              "    </tr>\n",
              "  </tbody>\n",
              "</table>\n",
              "</div>"
            ],
            "text/plain": [
              "    이름  나이     직업\n",
              "1   헨리  30     가수\n",
              "3  이소라  27  프로그래머\n",
              "4   폴킴  33    유튜버"
            ]
          },
          "metadata": {
            "tags": []
          },
          "execution_count": 9
        }
      ]
    },
    {
      "cell_type": "code",
      "metadata": {
        "colab": {
          "base_uri": "https://localhost:8080/",
          "height": 80
        },
        "id": "hHAtnRQ9eMeW",
        "outputId": "5452b56d-cd54-4be1-c948-176942abadd1"
      },
      "source": [
        "df[df['직업'] == '가수']"
      ],
      "execution_count": null,
      "outputs": [
        {
          "output_type": "execute_result",
          "data": {
            "text/html": [
              "<div>\n",
              "<style scoped>\n",
              "    .dataframe tbody tr th:only-of-type {\n",
              "        vertical-align: middle;\n",
              "    }\n",
              "\n",
              "    .dataframe tbody tr th {\n",
              "        vertical-align: top;\n",
              "    }\n",
              "\n",
              "    .dataframe thead th {\n",
              "        text-align: right;\n",
              "    }\n",
              "</style>\n",
              "<table border=\"1\" class=\"dataframe\">\n",
              "  <thead>\n",
              "    <tr style=\"text-align: right;\">\n",
              "      <th></th>\n",
              "      <th>이름</th>\n",
              "      <th>나이</th>\n",
              "      <th>직업</th>\n",
              "    </tr>\n",
              "  </thead>\n",
              "  <tbody>\n",
              "    <tr>\n",
              "      <th>1</th>\n",
              "      <td>헨리</td>\n",
              "      <td>30</td>\n",
              "      <td>가수</td>\n",
              "    </tr>\n",
              "  </tbody>\n",
              "</table>\n",
              "</div>"
            ],
            "text/plain": [
              "   이름  나이  직업\n",
              "1  헨리  30  가수"
            ]
          },
          "metadata": {
            "tags": []
          },
          "execution_count": 17
        }
      ]
    },
    {
      "cell_type": "code",
      "metadata": {
        "colab": {
          "base_uri": "https://localhost:8080/",
          "height": 235
        },
        "id": "2MpcJsXgfEQ9",
        "outputId": "6c257c0d-d386-4a27-cf20-0e6dc2f0e08a"
      },
      "source": [
        "df.sort_values(by=['나이'])"
      ],
      "execution_count": null,
      "outputs": [
        {
          "output_type": "execute_result",
          "data": {
            "text/html": [
              "<div>\n",
              "<style scoped>\n",
              "    .dataframe tbody tr th:only-of-type {\n",
              "        vertical-align: middle;\n",
              "    }\n",
              "\n",
              "    .dataframe tbody tr th {\n",
              "        vertical-align: top;\n",
              "    }\n",
              "\n",
              "    .dataframe thead th {\n",
              "        text-align: right;\n",
              "    }\n",
              "</style>\n",
              "<table border=\"1\" class=\"dataframe\">\n",
              "  <thead>\n",
              "    <tr style=\"text-align: right;\">\n",
              "      <th></th>\n",
              "      <th>이름</th>\n",
              "      <th>나이</th>\n",
              "      <th>직업</th>\n",
              "    </tr>\n",
              "  </thead>\n",
              "  <tbody>\n",
              "    <tr>\n",
              "      <th>0</th>\n",
              "      <td>수현</td>\n",
              "      <td>20</td>\n",
              "      <td>학생</td>\n",
              "    </tr>\n",
              "    <tr>\n",
              "      <th>2</th>\n",
              "      <td>박정현</td>\n",
              "      <td>25</td>\n",
              "      <td>축구선수</td>\n",
              "    </tr>\n",
              "    <tr>\n",
              "      <th>5</th>\n",
              "      <td>정승환</td>\n",
              "      <td>25</td>\n",
              "      <td>백수</td>\n",
              "    </tr>\n",
              "    <tr>\n",
              "      <th>3</th>\n",
              "      <td>이소라</td>\n",
              "      <td>27</td>\n",
              "      <td>프로그래머</td>\n",
              "    </tr>\n",
              "    <tr>\n",
              "      <th>1</th>\n",
              "      <td>헨리</td>\n",
              "      <td>30</td>\n",
              "      <td>가수</td>\n",
              "    </tr>\n",
              "    <tr>\n",
              "      <th>4</th>\n",
              "      <td>폴킴</td>\n",
              "      <td>33</td>\n",
              "      <td>유튜버</td>\n",
              "    </tr>\n",
              "  </tbody>\n",
              "</table>\n",
              "</div>"
            ],
            "text/plain": [
              "    이름  나이     직업\n",
              "0   수현  20     학생\n",
              "2  박정현  25   축구선수\n",
              "5  정승환  25     백수\n",
              "3  이소라  27  프로그래머\n",
              "1   헨리  30     가수\n",
              "4   폴킴  33    유튜버"
            ]
          },
          "metadata": {
            "tags": []
          },
          "execution_count": 21
        }
      ]
    },
    {
      "cell_type": "code",
      "metadata": {
        "colab": {
          "base_uri": "https://localhost:8080/",
          "height": 142
        },
        "id": "pWgcFIRnadLY",
        "outputId": "d0e2cd8d-268f-4566-d62d-cad5d1893671"
      },
      "source": [
        "df[(df['나이'] > 20) & (df['나이'] < 30)]\n",
        "\n",
        "#df.sort_values(by=['Open Issues', 'Stars'],\n",
        "#        ascending=[False, True]).head(10)"
      ],
      "execution_count": null,
      "outputs": [
        {
          "output_type": "execute_result",
          "data": {
            "text/html": [
              "<div>\n",
              "<style scoped>\n",
              "    .dataframe tbody tr th:only-of-type {\n",
              "        vertical-align: middle;\n",
              "    }\n",
              "\n",
              "    .dataframe tbody tr th {\n",
              "        vertical-align: top;\n",
              "    }\n",
              "\n",
              "    .dataframe thead th {\n",
              "        text-align: right;\n",
              "    }\n",
              "</style>\n",
              "<table border=\"1\" class=\"dataframe\">\n",
              "  <thead>\n",
              "    <tr style=\"text-align: right;\">\n",
              "      <th></th>\n",
              "      <th>이름</th>\n",
              "      <th>나이</th>\n",
              "      <th>직업</th>\n",
              "    </tr>\n",
              "  </thead>\n",
              "  <tbody>\n",
              "    <tr>\n",
              "      <th>2</th>\n",
              "      <td>박정현</td>\n",
              "      <td>25</td>\n",
              "      <td>축구선수</td>\n",
              "    </tr>\n",
              "    <tr>\n",
              "      <th>3</th>\n",
              "      <td>이소라</td>\n",
              "      <td>27</td>\n",
              "      <td>프로그래머</td>\n",
              "    </tr>\n",
              "    <tr>\n",
              "      <th>5</th>\n",
              "      <td>정승환</td>\n",
              "      <td>25</td>\n",
              "      <td>백수</td>\n",
              "    </tr>\n",
              "  </tbody>\n",
              "</table>\n",
              "</div>"
            ],
            "text/plain": [
              "    이름  나이     직업\n",
              "2  박정현  25   축구선수\n",
              "3  이소라  27  프로그래머\n",
              "5  정승환  25     백수"
            ]
          },
          "metadata": {
            "tags": []
          },
          "execution_count": 22
        }
      ]
    },
    {
      "cell_type": "code",
      "metadata": {
        "colab": {
          "base_uri": "https://localhost:8080/",
          "height": 297
        },
        "id": "2JtebvGFaeck",
        "outputId": "f2cc5576-b14b-4855-d4c2-019c8bf90441"
      },
      "source": [
        "df.describe()"
      ],
      "execution_count": null,
      "outputs": [
        {
          "output_type": "execute_result",
          "data": {
            "text/html": [
              "<div>\n",
              "<style scoped>\n",
              "    .dataframe tbody tr th:only-of-type {\n",
              "        vertical-align: middle;\n",
              "    }\n",
              "\n",
              "    .dataframe tbody tr th {\n",
              "        vertical-align: top;\n",
              "    }\n",
              "\n",
              "    .dataframe thead th {\n",
              "        text-align: right;\n",
              "    }\n",
              "</style>\n",
              "<table border=\"1\" class=\"dataframe\">\n",
              "  <thead>\n",
              "    <tr style=\"text-align: right;\">\n",
              "      <th></th>\n",
              "      <th>나이</th>\n",
              "    </tr>\n",
              "  </thead>\n",
              "  <tbody>\n",
              "    <tr>\n",
              "      <th>count</th>\n",
              "      <td>6.000000</td>\n",
              "    </tr>\n",
              "    <tr>\n",
              "      <th>mean</th>\n",
              "      <td>26.666667</td>\n",
              "    </tr>\n",
              "    <tr>\n",
              "      <th>std</th>\n",
              "      <td>4.501851</td>\n",
              "    </tr>\n",
              "    <tr>\n",
              "      <th>min</th>\n",
              "      <td>20.000000</td>\n",
              "    </tr>\n",
              "    <tr>\n",
              "      <th>25%</th>\n",
              "      <td>25.000000</td>\n",
              "    </tr>\n",
              "    <tr>\n",
              "      <th>50%</th>\n",
              "      <td>26.000000</td>\n",
              "    </tr>\n",
              "    <tr>\n",
              "      <th>75%</th>\n",
              "      <td>29.250000</td>\n",
              "    </tr>\n",
              "    <tr>\n",
              "      <th>max</th>\n",
              "      <td>33.000000</td>\n",
              "    </tr>\n",
              "  </tbody>\n",
              "</table>\n",
              "</div>"
            ],
            "text/plain": [
              "              나이\n",
              "count   6.000000\n",
              "mean   26.666667\n",
              "std     4.501851\n",
              "min    20.000000\n",
              "25%    25.000000\n",
              "50%    26.000000\n",
              "75%    29.250000\n",
              "max    33.000000"
            ]
          },
          "metadata": {
            "tags": []
          },
          "execution_count": 11
        }
      ]
    },
    {
      "cell_type": "markdown",
      "metadata": {
        "id": "SYutwOXlahrA"
      },
      "source": [
        "### 데이터 정보 - \n",
        "행 열의 크기,컬럼명,컬럼 구성값의 자료형 출력"
      ]
    },
    {
      "cell_type": "code",
      "metadata": {
        "colab": {
          "base_uri": "https://localhost:8080/"
        },
        "id": "VVJuvzhiajgc",
        "outputId": "76828cfd-5a29-48da-8556-8a7663879155"
      },
      "source": [
        "df.info()"
      ],
      "execution_count": null,
      "outputs": [
        {
          "output_type": "stream",
          "text": [
            "<class 'pandas.core.frame.DataFrame'>\n",
            "RangeIndex: 6 entries, 0 to 5\n",
            "Data columns (total 3 columns):\n",
            " #   Column  Non-Null Count  Dtype \n",
            "---  ------  --------------  ----- \n",
            " 0   이름      6 non-null      object\n",
            " 1   나이      6 non-null      int64 \n",
            " 2   직업      6 non-null      object\n",
            "dtypes: int64(1), object(2)\n",
            "memory usage: 272.0+ bytes\n"
          ],
          "name": "stdout"
        }
      ]
    },
    {
      "cell_type": "markdown",
      "metadata": {
        "id": "HfKCrgkjamCJ"
      },
      "source": [
        "### 결측치"
      ]
    },
    {
      "cell_type": "code",
      "metadata": {
        "colab": {
          "base_uri": "https://localhost:8080/",
          "height": 235
        },
        "id": "KkzZqpqCaqM7",
        "outputId": "af97595e-4653-4ed8-f05e-0b7a30f68bae"
      },
      "source": [
        "df.isnull() #빈값찾기"
      ],
      "execution_count": null,
      "outputs": [
        {
          "output_type": "execute_result",
          "data": {
            "text/html": [
              "<div>\n",
              "<style scoped>\n",
              "    .dataframe tbody tr th:only-of-type {\n",
              "        vertical-align: middle;\n",
              "    }\n",
              "\n",
              "    .dataframe tbody tr th {\n",
              "        vertical-align: top;\n",
              "    }\n",
              "\n",
              "    .dataframe thead th {\n",
              "        text-align: right;\n",
              "    }\n",
              "</style>\n",
              "<table border=\"1\" class=\"dataframe\">\n",
              "  <thead>\n",
              "    <tr style=\"text-align: right;\">\n",
              "      <th></th>\n",
              "      <th>이름</th>\n",
              "      <th>나이</th>\n",
              "      <th>직업</th>\n",
              "    </tr>\n",
              "  </thead>\n",
              "  <tbody>\n",
              "    <tr>\n",
              "      <th>0</th>\n",
              "      <td>False</td>\n",
              "      <td>False</td>\n",
              "      <td>False</td>\n",
              "    </tr>\n",
              "    <tr>\n",
              "      <th>1</th>\n",
              "      <td>False</td>\n",
              "      <td>False</td>\n",
              "      <td>False</td>\n",
              "    </tr>\n",
              "    <tr>\n",
              "      <th>2</th>\n",
              "      <td>False</td>\n",
              "      <td>False</td>\n",
              "      <td>False</td>\n",
              "    </tr>\n",
              "    <tr>\n",
              "      <th>3</th>\n",
              "      <td>False</td>\n",
              "      <td>False</td>\n",
              "      <td>False</td>\n",
              "    </tr>\n",
              "    <tr>\n",
              "      <th>4</th>\n",
              "      <td>False</td>\n",
              "      <td>False</td>\n",
              "      <td>False</td>\n",
              "    </tr>\n",
              "    <tr>\n",
              "      <th>5</th>\n",
              "      <td>False</td>\n",
              "      <td>False</td>\n",
              "      <td>False</td>\n",
              "    </tr>\n",
              "  </tbody>\n",
              "</table>\n",
              "</div>"
            ],
            "text/plain": [
              "      이름     나이     직업\n",
              "0  False  False  False\n",
              "1  False  False  False\n",
              "2  False  False  False\n",
              "3  False  False  False\n",
              "4  False  False  False\n",
              "5  False  False  False"
            ]
          },
          "metadata": {
            "tags": []
          },
          "execution_count": 24
        }
      ]
    },
    {
      "cell_type": "code",
      "metadata": {
        "colab": {
          "base_uri": "https://localhost:8080/"
        },
        "id": "BnAaEPWFarby",
        "outputId": "d8c38d48-1bd7-4186-8f10-6829b8c8531f"
      },
      "source": [
        "df.isnull().count()"
      ],
      "execution_count": null,
      "outputs": [
        {
          "output_type": "execute_result",
          "data": {
            "text/plain": [
              "이름    6\n",
              "나이    6\n",
              "직업    6\n",
              "dtype: int64"
            ]
          },
          "metadata": {
            "tags": []
          },
          "execution_count": 25
        }
      ]
    },
    {
      "cell_type": "code",
      "metadata": {
        "colab": {
          "base_uri": "https://localhost:8080/",
          "height": 164
        },
        "id": "R84wKeSVnND-",
        "outputId": "6504ac77-6ed1-4494-b9ad-60c06597f3b1"
      },
      "source": [
        "sum(df.isnull())"
      ],
      "execution_count": null,
      "outputs": [
        {
          "output_type": "error",
          "ename": "TypeError",
          "evalue": "ignored",
          "traceback": [
            "\u001b[0;31m---------------------------------------------------------------------------\u001b[0m",
            "\u001b[0;31mTypeError\u001b[0m                                 Traceback (most recent call last)",
            "\u001b[0;32m<ipython-input-27-499dd131a172>\u001b[0m in \u001b[0;36m<module>\u001b[0;34m()\u001b[0m\n\u001b[0;32m----> 1\u001b[0;31m \u001b[0msum\u001b[0m\u001b[0;34m(\u001b[0m\u001b[0mdf\u001b[0m\u001b[0;34m.\u001b[0m\u001b[0misnull\u001b[0m\u001b[0;34m(\u001b[0m\u001b[0;34m)\u001b[0m\u001b[0;34m)\u001b[0m\u001b[0;34m\u001b[0m\u001b[0;34m\u001b[0m\u001b[0m\n\u001b[0m",
            "\u001b[0;31mTypeError\u001b[0m: unsupported operand type(s) for +: 'int' and 'str'"
          ]
        }
      ]
    },
    {
      "cell_type": "code",
      "metadata": {
        "colab": {
          "base_uri": "https://localhost:8080/"
        },
        "id": "EPSnfGHFnSfc",
        "outputId": "691bafae-e795-4a01-ac71-096526ff1dfd"
      },
      "source": [
        "df.isnull().sum()"
      ],
      "execution_count": null,
      "outputs": [
        {
          "output_type": "execute_result",
          "data": {
            "text/plain": [
              "성명     0\n",
              "연령     0\n",
              "하는일    0\n",
              "dtype: int64"
            ]
          },
          "metadata": {
            "tags": []
          },
          "execution_count": 28
        }
      ]
    },
    {
      "cell_type": "code",
      "metadata": {
        "colab": {
          "base_uri": "https://localhost:8080/",
          "height": 235
        },
        "id": "5fZ6eiJNatPd",
        "outputId": "0314cccd-858d-460c-ff89-f7ed621e6d50"
      },
      "source": [
        "df.columns = ['성명','연령','하는일']\n",
        "df"
      ],
      "execution_count": null,
      "outputs": [
        {
          "output_type": "execute_result",
          "data": {
            "text/html": [
              "<div>\n",
              "<style scoped>\n",
              "    .dataframe tbody tr th:only-of-type {\n",
              "        vertical-align: middle;\n",
              "    }\n",
              "\n",
              "    .dataframe tbody tr th {\n",
              "        vertical-align: top;\n",
              "    }\n",
              "\n",
              "    .dataframe thead th {\n",
              "        text-align: right;\n",
              "    }\n",
              "</style>\n",
              "<table border=\"1\" class=\"dataframe\">\n",
              "  <thead>\n",
              "    <tr style=\"text-align: right;\">\n",
              "      <th></th>\n",
              "      <th>성명</th>\n",
              "      <th>연령</th>\n",
              "      <th>하는일</th>\n",
              "    </tr>\n",
              "  </thead>\n",
              "  <tbody>\n",
              "    <tr>\n",
              "      <th>0</th>\n",
              "      <td>수현</td>\n",
              "      <td>20</td>\n",
              "      <td>학생</td>\n",
              "    </tr>\n",
              "    <tr>\n",
              "      <th>1</th>\n",
              "      <td>헨리</td>\n",
              "      <td>30</td>\n",
              "      <td>가수</td>\n",
              "    </tr>\n",
              "    <tr>\n",
              "      <th>2</th>\n",
              "      <td>박정현</td>\n",
              "      <td>25</td>\n",
              "      <td>축구선수</td>\n",
              "    </tr>\n",
              "    <tr>\n",
              "      <th>3</th>\n",
              "      <td>이소라</td>\n",
              "      <td>27</td>\n",
              "      <td>프로그래머</td>\n",
              "    </tr>\n",
              "    <tr>\n",
              "      <th>4</th>\n",
              "      <td>폴킴</td>\n",
              "      <td>33</td>\n",
              "      <td>유튜버</td>\n",
              "    </tr>\n",
              "    <tr>\n",
              "      <th>5</th>\n",
              "      <td>정승환</td>\n",
              "      <td>25</td>\n",
              "      <td>백수</td>\n",
              "    </tr>\n",
              "  </tbody>\n",
              "</table>\n",
              "</div>"
            ],
            "text/plain": [
              "    성명  연령    하는일\n",
              "0   수현  20     학생\n",
              "1   헨리  30     가수\n",
              "2  박정현  25   축구선수\n",
              "3  이소라  27  프로그래머\n",
              "4   폴킴  33    유튜버\n",
              "5  정승환  25     백수"
            ]
          },
          "metadata": {
            "tags": []
          },
          "execution_count": 31
        }
      ]
    },
    {
      "cell_type": "code",
      "metadata": {
        "colab": {
          "base_uri": "https://localhost:8080/",
          "height": 235
        },
        "id": "3VJKD0r5oEov",
        "outputId": "22210fa9-8229-48e3-acc6-f512e6790d5f"
      },
      "source": [
        "df"
      ],
      "execution_count": null,
      "outputs": [
        {
          "output_type": "execute_result",
          "data": {
            "text/html": [
              "<div>\n",
              "<style scoped>\n",
              "    .dataframe tbody tr th:only-of-type {\n",
              "        vertical-align: middle;\n",
              "    }\n",
              "\n",
              "    .dataframe tbody tr th {\n",
              "        vertical-align: top;\n",
              "    }\n",
              "\n",
              "    .dataframe thead th {\n",
              "        text-align: right;\n",
              "    }\n",
              "</style>\n",
              "<table border=\"1\" class=\"dataframe\">\n",
              "  <thead>\n",
              "    <tr style=\"text-align: right;\">\n",
              "      <th></th>\n",
              "      <th>성명</th>\n",
              "      <th>연령</th>\n",
              "      <th>하는일</th>\n",
              "    </tr>\n",
              "  </thead>\n",
              "  <tbody>\n",
              "    <tr>\n",
              "      <th>0</th>\n",
              "      <td>수현</td>\n",
              "      <td>20</td>\n",
              "      <td>학생</td>\n",
              "    </tr>\n",
              "    <tr>\n",
              "      <th>1</th>\n",
              "      <td>헨리</td>\n",
              "      <td>30</td>\n",
              "      <td>가수</td>\n",
              "    </tr>\n",
              "    <tr>\n",
              "      <th>2</th>\n",
              "      <td>박정현</td>\n",
              "      <td>25</td>\n",
              "      <td>축구선수</td>\n",
              "    </tr>\n",
              "    <tr>\n",
              "      <th>3</th>\n",
              "      <td>이소라</td>\n",
              "      <td>27</td>\n",
              "      <td>프로그래머</td>\n",
              "    </tr>\n",
              "    <tr>\n",
              "      <th>4</th>\n",
              "      <td>폴킴</td>\n",
              "      <td>33</td>\n",
              "      <td>유튜버</td>\n",
              "    </tr>\n",
              "    <tr>\n",
              "      <th>5</th>\n",
              "      <td>정승환</td>\n",
              "      <td>25</td>\n",
              "      <td>백수</td>\n",
              "    </tr>\n",
              "  </tbody>\n",
              "</table>\n",
              "</div>"
            ],
            "text/plain": [
              "    성명  연령    하는일\n",
              "0   수현  20     학생\n",
              "1   헨리  30     가수\n",
              "2  박정현  25   축구선수\n",
              "3  이소라  27  프로그래머\n",
              "4   폴킴  33    유튜버\n",
              "5  정승환  25     백수"
            ]
          },
          "metadata": {
            "tags": []
          },
          "execution_count": 32
        }
      ]
    },
    {
      "cell_type": "code",
      "metadata": {
        "colab": {
          "base_uri": "https://localhost:8080/",
          "height": 235
        },
        "id": "nRPGE4DpoJBX",
        "outputId": "e2a05e0c-c0d9-49d8-9773-3a04a8e345b2"
      },
      "source": [
        "df.sort_values(by=['연령'])"
      ],
      "execution_count": null,
      "outputs": [
        {
          "output_type": "execute_result",
          "data": {
            "text/html": [
              "<div>\n",
              "<style scoped>\n",
              "    .dataframe tbody tr th:only-of-type {\n",
              "        vertical-align: middle;\n",
              "    }\n",
              "\n",
              "    .dataframe tbody tr th {\n",
              "        vertical-align: top;\n",
              "    }\n",
              "\n",
              "    .dataframe thead th {\n",
              "        text-align: right;\n",
              "    }\n",
              "</style>\n",
              "<table border=\"1\" class=\"dataframe\">\n",
              "  <thead>\n",
              "    <tr style=\"text-align: right;\">\n",
              "      <th></th>\n",
              "      <th>성명</th>\n",
              "      <th>연령</th>\n",
              "      <th>하는일</th>\n",
              "    </tr>\n",
              "  </thead>\n",
              "  <tbody>\n",
              "    <tr>\n",
              "      <th>0</th>\n",
              "      <td>수현</td>\n",
              "      <td>20</td>\n",
              "      <td>학생</td>\n",
              "    </tr>\n",
              "    <tr>\n",
              "      <th>2</th>\n",
              "      <td>박정현</td>\n",
              "      <td>25</td>\n",
              "      <td>축구선수</td>\n",
              "    </tr>\n",
              "    <tr>\n",
              "      <th>5</th>\n",
              "      <td>정승환</td>\n",
              "      <td>25</td>\n",
              "      <td>백수</td>\n",
              "    </tr>\n",
              "    <tr>\n",
              "      <th>3</th>\n",
              "      <td>이소라</td>\n",
              "      <td>27</td>\n",
              "      <td>프로그래머</td>\n",
              "    </tr>\n",
              "    <tr>\n",
              "      <th>1</th>\n",
              "      <td>헨리</td>\n",
              "      <td>30</td>\n",
              "      <td>가수</td>\n",
              "    </tr>\n",
              "    <tr>\n",
              "      <th>4</th>\n",
              "      <td>폴킴</td>\n",
              "      <td>33</td>\n",
              "      <td>유튜버</td>\n",
              "    </tr>\n",
              "  </tbody>\n",
              "</table>\n",
              "</div>"
            ],
            "text/plain": [
              "    성명  연령    하는일\n",
              "0   수현  20     학생\n",
              "2  박정현  25   축구선수\n",
              "5  정승환  25     백수\n",
              "3  이소라  27  프로그래머\n",
              "1   헨리  30     가수\n",
              "4   폴킴  33    유튜버"
            ]
          },
          "metadata": {
            "tags": []
          },
          "execution_count": 33
        }
      ]
    },
    {
      "cell_type": "code",
      "metadata": {
        "colab": {
          "base_uri": "https://localhost:8080/",
          "height": 142
        },
        "id": "6jqEJ5t-oPja",
        "outputId": "0fade22e-f9b8-4d2a-f388-c69f70a3f4db"
      },
      "source": [
        "df[df['연령'] > 25]"
      ],
      "execution_count": null,
      "outputs": [
        {
          "output_type": "execute_result",
          "data": {
            "text/html": [
              "<div>\n",
              "<style scoped>\n",
              "    .dataframe tbody tr th:only-of-type {\n",
              "        vertical-align: middle;\n",
              "    }\n",
              "\n",
              "    .dataframe tbody tr th {\n",
              "        vertical-align: top;\n",
              "    }\n",
              "\n",
              "    .dataframe thead th {\n",
              "        text-align: right;\n",
              "    }\n",
              "</style>\n",
              "<table border=\"1\" class=\"dataframe\">\n",
              "  <thead>\n",
              "    <tr style=\"text-align: right;\">\n",
              "      <th></th>\n",
              "      <th>성명</th>\n",
              "      <th>연령</th>\n",
              "      <th>하는일</th>\n",
              "    </tr>\n",
              "  </thead>\n",
              "  <tbody>\n",
              "    <tr>\n",
              "      <th>1</th>\n",
              "      <td>헨리</td>\n",
              "      <td>30</td>\n",
              "      <td>가수</td>\n",
              "    </tr>\n",
              "    <tr>\n",
              "      <th>3</th>\n",
              "      <td>이소라</td>\n",
              "      <td>27</td>\n",
              "      <td>프로그래머</td>\n",
              "    </tr>\n",
              "    <tr>\n",
              "      <th>4</th>\n",
              "      <td>폴킴</td>\n",
              "      <td>33</td>\n",
              "      <td>유튜버</td>\n",
              "    </tr>\n",
              "  </tbody>\n",
              "</table>\n",
              "</div>"
            ],
            "text/plain": [
              "    성명  연령    하는일\n",
              "1   헨리  30     가수\n",
              "3  이소라  27  프로그래머\n",
              "4   폴킴  33    유튜버"
            ]
          },
          "metadata": {
            "tags": []
          },
          "execution_count": 34
        }
      ]
    },
    {
      "cell_type": "code",
      "metadata": {
        "colab": {
          "base_uri": "https://localhost:8080/",
          "height": 235
        },
        "id": "Oz9n-eOZauiA",
        "outputId": "3e2a1c18-2b9d-4344-e341-cb2dcded07ff"
      },
      "source": [
        "df.rename(columns = {'성명':'이름','연령':'나이'}, inplace=True)\n",
        "df"
      ],
      "execution_count": null,
      "outputs": [
        {
          "output_type": "execute_result",
          "data": {
            "text/html": [
              "<div>\n",
              "<style scoped>\n",
              "    .dataframe tbody tr th:only-of-type {\n",
              "        vertical-align: middle;\n",
              "    }\n",
              "\n",
              "    .dataframe tbody tr th {\n",
              "        vertical-align: top;\n",
              "    }\n",
              "\n",
              "    .dataframe thead th {\n",
              "        text-align: right;\n",
              "    }\n",
              "</style>\n",
              "<table border=\"1\" class=\"dataframe\">\n",
              "  <thead>\n",
              "    <tr style=\"text-align: right;\">\n",
              "      <th></th>\n",
              "      <th>이름</th>\n",
              "      <th>나이</th>\n",
              "      <th>하는일</th>\n",
              "    </tr>\n",
              "  </thead>\n",
              "  <tbody>\n",
              "    <tr>\n",
              "      <th>0</th>\n",
              "      <td>수현</td>\n",
              "      <td>20</td>\n",
              "      <td>학생</td>\n",
              "    </tr>\n",
              "    <tr>\n",
              "      <th>1</th>\n",
              "      <td>헨리</td>\n",
              "      <td>30</td>\n",
              "      <td>가수</td>\n",
              "    </tr>\n",
              "    <tr>\n",
              "      <th>2</th>\n",
              "      <td>박정현</td>\n",
              "      <td>25</td>\n",
              "      <td>축구선수</td>\n",
              "    </tr>\n",
              "    <tr>\n",
              "      <th>3</th>\n",
              "      <td>이소라</td>\n",
              "      <td>27</td>\n",
              "      <td>프로그래머</td>\n",
              "    </tr>\n",
              "    <tr>\n",
              "      <th>4</th>\n",
              "      <td>폴킴</td>\n",
              "      <td>33</td>\n",
              "      <td>유튜버</td>\n",
              "    </tr>\n",
              "    <tr>\n",
              "      <th>5</th>\n",
              "      <td>정승환</td>\n",
              "      <td>25</td>\n",
              "      <td>백수</td>\n",
              "    </tr>\n",
              "  </tbody>\n",
              "</table>\n",
              "</div>"
            ],
            "text/plain": [
              "    이름  나이    하는일\n",
              "0   수현  20     학생\n",
              "1   헨리  30     가수\n",
              "2  박정현  25   축구선수\n",
              "3  이소라  27  프로그래머\n",
              "4   폴킴  33    유튜버\n",
              "5  정승환  25     백수"
            ]
          },
          "metadata": {
            "tags": []
          },
          "execution_count": 29
        }
      ]
    },
    {
      "cell_type": "code",
      "metadata": {
        "colab": {
          "base_uri": "https://localhost:8080/",
          "height": 235
        },
        "id": "AFhb0_s5n4kY",
        "outputId": "13c8b744-9f16-49a3-9621-c35047f63a60"
      },
      "source": [
        "df"
      ],
      "execution_count": null,
      "outputs": [
        {
          "output_type": "execute_result",
          "data": {
            "text/html": [
              "<div>\n",
              "<style scoped>\n",
              "    .dataframe tbody tr th:only-of-type {\n",
              "        vertical-align: middle;\n",
              "    }\n",
              "\n",
              "    .dataframe tbody tr th {\n",
              "        vertical-align: top;\n",
              "    }\n",
              "\n",
              "    .dataframe thead th {\n",
              "        text-align: right;\n",
              "    }\n",
              "</style>\n",
              "<table border=\"1\" class=\"dataframe\">\n",
              "  <thead>\n",
              "    <tr style=\"text-align: right;\">\n",
              "      <th></th>\n",
              "      <th>이름</th>\n",
              "      <th>나이</th>\n",
              "      <th>하는일</th>\n",
              "    </tr>\n",
              "  </thead>\n",
              "  <tbody>\n",
              "    <tr>\n",
              "      <th>0</th>\n",
              "      <td>수현</td>\n",
              "      <td>20</td>\n",
              "      <td>학생</td>\n",
              "    </tr>\n",
              "    <tr>\n",
              "      <th>1</th>\n",
              "      <td>헨리</td>\n",
              "      <td>30</td>\n",
              "      <td>가수</td>\n",
              "    </tr>\n",
              "    <tr>\n",
              "      <th>2</th>\n",
              "      <td>박정현</td>\n",
              "      <td>25</td>\n",
              "      <td>축구선수</td>\n",
              "    </tr>\n",
              "    <tr>\n",
              "      <th>3</th>\n",
              "      <td>이소라</td>\n",
              "      <td>27</td>\n",
              "      <td>프로그래머</td>\n",
              "    </tr>\n",
              "    <tr>\n",
              "      <th>4</th>\n",
              "      <td>폴킴</td>\n",
              "      <td>33</td>\n",
              "      <td>유튜버</td>\n",
              "    </tr>\n",
              "    <tr>\n",
              "      <th>5</th>\n",
              "      <td>정승환</td>\n",
              "      <td>25</td>\n",
              "      <td>백수</td>\n",
              "    </tr>\n",
              "  </tbody>\n",
              "</table>\n",
              "</div>"
            ],
            "text/plain": [
              "    이름  나이    하는일\n",
              "0   수현  20     학생\n",
              "1   헨리  30     가수\n",
              "2  박정현  25   축구선수\n",
              "3  이소라  27  프로그래머\n",
              "4   폴킴  33    유튜버\n",
              "5  정승환  25     백수"
            ]
          },
          "metadata": {
            "tags": []
          },
          "execution_count": 30
        }
      ]
    },
    {
      "cell_type": "code",
      "metadata": {
        "id": "C1cNJftAoo4x"
      },
      "source": [
        ""
      ],
      "execution_count": null,
      "outputs": []
    },
    {
      "cell_type": "markdown",
      "metadata": {
        "id": "RQgS4JJ3opgD"
      },
      "source": [
        "# matplotlib\n",
        " matplotlib은 다양한 데이터를 많은 방법으로 도식화 할 수 있도록 하는 파이썬 라이브러리\n",
        "\n",
        "matplotlib을 이용하면 우리가 이전에 알아본 numpy나 pandas에서 사용되는 자료구조를 쉽게 시각화 할 수 있습니다."
      ]
    },
    {
      "cell_type": "code",
      "metadata": {
        "colab": {
          "base_uri": "https://localhost:8080/"
        },
        "id": "G2I9a3g3ot7k",
        "outputId": "abaf33b6-7a1d-4042-9ba6-9bc2937bf044"
      },
      "source": [
        "import matplotlib as mpl\n",
        "import matplotlib.pyplot as plt\n",
        " \n",
        "%config InlineBackend.figure_format = 'retina'\n",
        " \n",
        "!apt -qq -y install fonts-nanum\n",
        " \n",
        "import matplotlib.font_manager as fm\n",
        "fontpath = '/usr/share/fonts/truetype/nanum/NanumBarunGothic.ttf'\n",
        "font = fm.FontProperties(fname=fontpath, size=9)\n",
        "plt.rc('font', family='NanumBarunGothic') \n",
        "mpl.font_manager._rebuild()\n"
      ],
      "execution_count": null,
      "outputs": [
        {
          "output_type": "stream",
          "text": [
            "fonts-nanum is already the newest version (20170925-1).\n",
            "0 upgraded, 0 newly installed, 0 to remove and 39 not upgraded.\n"
          ],
          "name": "stdout"
        }
      ]
    },
    {
      "cell_type": "code",
      "metadata": {
        "colab": {
          "base_uri": "https://localhost:8080/",
          "height": 321
        },
        "id": "hGIl-p1-pC2X",
        "outputId": "0f785085-a4c2-4b5c-dfda-c7c9a39cd4ee"
      },
      "source": [
        "plt.figure(figsize=(5,5))\n",
        "plt.plot([0,1], [0,1], label='한글테스트용')\n",
        "plt.legend()\n",
        "plt.show()"
      ],
      "execution_count": null,
      "outputs": [
        {
          "output_type": "display_data",
          "data": {
            "image/png": "[encoded data removed]",
            "text/plain": [
              "<Figure size 360x360 with 1 Axes>"
            ]
          },
          "metadata": {
            "tags": [],
            "image/png": {
              "width": 315,
              "height": 304
            },
            "needs_background": "light"
          }
        }
      ]
    },
    {
      "cell_type": "code",
      "metadata": {
        "colab": {
          "base_uri": "https://localhost:8080/"
        },
        "id": "A8HQ3ikopLUP",
        "outputId": "f8c82da4-cd2a-452e-caf6-5cd1d3fe3f9f"
      },
      "source": [
        "# 현재 설정되어 있는 폰트 사이즈와 글꼴을 알아보자\n",
        "!python --version\n",
        "def current_font():\n",
        "  print(f\"설정 폰트 글꼴: {plt.rcParams['font.family']}, 설정 폰트 사이즈: {plt.rcParams['font.size']}\")  # 파이썬 3.6 이상 사용가능하다\n",
        "        \n",
        "current_font()"
      ],
      "execution_count": null,
      "outputs": [
        {
          "output_type": "stream",
          "text": [
            "Python 3.7.10\n",
            "설정 폰트 글꼴: ['NanumBarunGothic'], 설정 폰트 사이즈: 10.0\n"
          ],
          "name": "stdout"
        }
      ]
    },
    {
      "cell_type": "code",
      "metadata": {
        "colab": {
          "base_uri": "https://localhost:8080/",
          "height": 283
        },
        "id": "vpW4cVWTpM79",
        "outputId": "57b61463-704a-497c-8dba-a5715f840910"
      },
      "source": [
        "x= [1,2,3,4]\n",
        "y= [10,20,30,40]\n",
        "plt.plot(x,y)\n",
        "plt.show"
      ],
      "execution_count": null,
      "outputs": [
        {
          "output_type": "execute_result",
          "data": {
            "text/plain": [
              "<function matplotlib.pyplot.show>"
            ]
          },
          "metadata": {
            "tags": []
          },
          "execution_count": 5
        },
        {
          "output_type": "display_data",
          "data": {
            "image/png": "[encoded data removed]",
            "text/plain": [
              "<Figure size 432x288 with 1 Axes>"
            ]
          },
          "metadata": {
            "tags": [],
            "image/png": {
              "width": 367,
              "height": 249
            },
            "needs_background": "light"
          }
        }
      ]
    },
    {
      "cell_type": "markdown",
      "metadata": {
        "id": "7hwglLfopQuP"
      },
      "source": [
        "###제목"
      ]
    },
    {
      "cell_type": "code",
      "metadata": {
        "colab": {
          "base_uri": "https://localhost:8080/",
          "height": 299
        },
        "id": "CIQPyD2DpPs4",
        "outputId": "c4dab92d-718b-4003-e0df-33fda50cacc9"
      },
      "source": [
        "x= [1,2,3,4]\n",
        "y= [10,20,30,40]\n",
        "plt.plot(x,y)\n",
        "plt.title('x, y 차트')\n",
        "plt.show"
      ],
      "execution_count": null,
      "outputs": [
        {
          "output_type": "execute_result",
          "data": {
            "text/plain": [
              "<function matplotlib.pyplot.show>"
            ]
          },
          "metadata": {
            "tags": []
          },
          "execution_count": 8
        },
        {
          "output_type": "display_data",
          "data": {
            "image/png": "[encoded data removed]",
            "text/plain": [
              "<Figure size 432x288 with 1 Axes>"
            ]
          },
          "metadata": {
            "tags": [],
            "image/png": {
              "width": 367,
              "height": 265
            },
            "needs_background": "light"
          }
        }
      ]
    },
    {
      "cell_type": "markdown",
      "metadata": {
        "id": "_22Rc0IbpVv5"
      },
      "source": [
        "### 그래프 추가\n"
      ]
    },
    {
      "cell_type": "code",
      "metadata": {
        "colab": {
          "base_uri": "https://localhost:8080/",
          "height": 299
        },
        "id": "egJwP0e7pXLJ",
        "outputId": "474e4b66-b489-4ce9-afda-b2868c20f3a9"
      },
      "source": [
        "x= [1,2,3,4]\n",
        "y= [10,20,30,40]\n",
        "plt.plot(x,y)\n",
        "x1= [1,2,3,4]\n",
        "y1= [5,30,20,25]\n",
        "plt.plot(x1,y1)\n",
        "plt.title('x,y chart')\n",
        "plt.show"
      ],
      "execution_count": null,
      "outputs": [
        {
          "output_type": "execute_result",
          "data": {
            "text/plain": [
              "<function matplotlib.pyplot.show>"
            ]
          },
          "metadata": {
            "tags": []
          },
          "execution_count": 7
        },
        {
          "output_type": "display_data",
          "data": {
            "image/png": "[encoded data removed]",
            "text/plain": [
              "<Figure size 432x288 with 1 Axes>"
            ]
          },
          "metadata": {
            "tags": [],
            "image/png": {
              "width": 367,
              "height": 265
            },
            "needs_background": "light"
          }
        }
      ]
    },
    {
      "cell_type": "markdown",
      "metadata": {
        "id": "zcoH6u-jqQ6i"
      },
      "source": [
        "### x축,y축 라벨 표시"
      ]
    },
    {
      "cell_type": "code",
      "metadata": {
        "colab": {
          "base_uri": "https://localhost:8080/",
          "height": 314
        },
        "id": "j2mUNsVaqSDB",
        "outputId": "7f550c21-a0bd-4623-e418-7c286c713e69"
      },
      "source": [
        "x= [1,2,3,4]\n",
        "y= [10,20,30,40]\n",
        "plt.plot(x,y)\n",
        "x1= [1,2,3,4]\n",
        "y1= [5,30,20,25]\n",
        "plt.plot(x1,y1)\n",
        "plt.title('기본 차트')\n",
        "plt.xlabel('x축')\n",
        "plt.ylabel('y축')\n",
        "plt.show"
      ],
      "execution_count": null,
      "outputs": [
        {
          "output_type": "execute_result",
          "data": {
            "text/plain": [
              "<function matplotlib.pyplot.show>"
            ]
          },
          "metadata": {
            "tags": []
          },
          "execution_count": 11
        },
        {
          "output_type": "display_data",
          "data": {
            "image/png": "[encoded data removed]",
            "text/plain": [
              "<Figure size 432x288 with 1 Axes>"
            ]
          },
          "metadata": {
            "tags": [],
            "image/png": {
              "width": 382,
              "height": 280
            },
            "needs_background": "light"
          }
        }
      ]
    },
    {
      "cell_type": "markdown",
      "metadata": {
        "id": "ryKL0dgHqUrP"
      },
      "source": [
        "### 범례 위치"
      ]
    },
    {
      "cell_type": "code",
      "metadata": {
        "colab": {
          "base_uri": "https://localhost:8080/",
          "height": 314
        },
        "id": "NHIZJDNTqX9r",
        "outputId": "f34bed53-e6bb-4eb9-d74d-42b246dce3a2"
      },
      "source": [
        "x= [1,2,3,4]\n",
        "y= [10,20,30,40]\n",
        "plt.plot(x,y,label='그래프 1', color = 'green')\n",
        "\n",
        "x1= [1,2,3,4]\n",
        "y1= [5,30,20,25]\n",
        "plt.plot(x1,y1,label='그래프 2', color = 'red')\n",
        "\n",
        "a = [1, 2, 3, 4]\n",
        "b = [30, 20, 40, 10]\n",
        "plt.plot(a, b,label='그래프 3', color = 'blue')\n",
        "\n",
        "plt.title('기본 차트')\n",
        "plt.xlabel('x 축')\n",
        "plt.ylabel('y 축')\n",
        "plt.legend(loc=2)       #범례\n",
        "plt.show"
      ],
      "execution_count": null,
      "outputs": [
        {
          "output_type": "execute_result",
          "data": {
            "text/plain": [
              "<function matplotlib.pyplot.show>"
            ]
          },
          "metadata": {
            "tags": []
          },
          "execution_count": 26
        },
        {
          "output_type": "display_data",
          "data": {
            "image/png": "[encoded data removed]",
            "text/plain": [
              "<Figure size 432x288 with 1 Axes>"
            ]
          },
          "metadata": {
            "tags": [],
            "image/png": {
              "width": 382,
              "height": 280
            },
            "needs_background": "light"
          }
        }
      ]
    },
    {
      "cell_type": "markdown",
      "metadata": {
        "id": "QOHjpHRmqcDl"
      },
      "source": [
        "### 그래프 색상 바꾸기"
      ]
    },
    {
      "cell_type": "code",
      "metadata": {
        "colab": {
          "base_uri": "https://localhost:8080/",
          "height": 314
        },
        "id": "2Pmy1O6zqdPK",
        "outputId": "da93091b-06d6-426d-da32-20204a828d42"
      },
      "source": [
        "x= [1,2,3,4]\n",
        "y= [10,20,30,40]\n",
        "\n",
        "plt.plot(x,y,label='graph1',color = 'skyblue')\n",
        "x1= [1,2,3,4]\n",
        "y1= [5,30,20,25]\n",
        "\n",
        "plt.plot(x1,y1,label='graph2', color = 'pink')\n",
        "plt.title('x,y chart')\n",
        "plt.xlabel('x-axid')\n",
        "plt.ylabel('y-axid')\n",
        "plt.legend(loc=4)\n",
        "plt.show"
      ],
      "execution_count": null,
      "outputs": [
        {
          "output_type": "execute_result",
          "data": {
            "text/plain": [
              "<function matplotlib.pyplot.show>"
            ]
          },
          "metadata": {
            "tags": []
          },
          "execution_count": 22
        },
        {
          "output_type": "display_data",
          "data": {
            "image/png": "[encoded data removed]",
            "text/plain": [
              "<Figure size 432x288 with 1 Axes>"
            ]
          },
          "metadata": {
            "tags": [],
            "image/png": {
              "width": 382,
              "height": 280
            },
            "needs_background": "light"
          }
        }
      ]
    },
    {
      "cell_type": "code",
      "metadata": {
        "colab": {
          "base_uri": "https://localhost:8080/",
          "height": 314
        },
        "id": "ROyW9d6Qqe6H",
        "outputId": "354dc559-5d5c-45fb-e1d2-4e433d8089a6"
      },
      "source": [
        "x= [1,2,3,4]\n",
        "y= [10,20,30,40]\n",
        "\n",
        "plt.plot(x,y,label='graph1',color = 'r',linestyle= '--')\n",
        "x1= [1,2,3,4]\n",
        "y1= [5,30,20,25]\n",
        "\n",
        "plt.plot(x1,y1,label='graph2', color = 'g',linestyle= ':')\n",
        "plt.title('x,y chart')\n",
        "plt.xlabel('x-axid')\n",
        "plt.ylabel('y-axid')\n",
        "plt.legend(loc=4)\n",
        "plt.show"
      ],
      "execution_count": null,
      "outputs": [
        {
          "output_type": "execute_result",
          "data": {
            "text/plain": [
              "<function matplotlib.pyplot.show>"
            ]
          },
          "metadata": {
            "tags": []
          },
          "execution_count": 23
        },
        {
          "output_type": "display_data",
          "data": {
            "image/png": "[encoded data removed]",
            "text/plain": [
              "<Figure size 432x288 with 1 Axes>"
            ]
          },
          "metadata": {
            "tags": [],
            "image/png": {
              "width": 382,
              "height": 280
            },
            "needs_background": "light"
          }
        }
      ]
    },
    {
      "cell_type": "markdown",
      "metadata": {
        "id": "UgU6aRZhtBv-"
      },
      "source": [
        "### 마커추가"
      ]
    },
    {
      "cell_type": "code",
      "metadata": {
        "colab": {
          "base_uri": "https://localhost:8080/",
          "height": 314
        },
        "id": "7TFbiFw1tC9h",
        "outputId": "662618fa-012c-4d9a-cbc3-ad583a45cb3f"
      },
      "source": [
        "x= [1,2,3,4]\n",
        "y= [10,20,30,40]\n",
        "\n",
        "plt.plot(x,y,label='graph1',color = 'r',marker= '^')\n",
        "x1= [1,2,3,4]\n",
        "y1= [5,30,20,25]\n",
        "\n",
        "plt.plot(x1,y1,label='graph2', color = 'g',marker= '.')\n",
        "plt.title('x,y chart')\n",
        "plt.xlabel('x-axid')\n",
        "plt.ylabel('y-axid')\n",
        "plt.legend(loc=4)\n",
        "plt.show"
      ],
      "execution_count": null,
      "outputs": [
        {
          "output_type": "execute_result",
          "data": {
            "text/plain": [
              "<function matplotlib.pyplot.show>"
            ]
          },
          "metadata": {
            "tags": []
          },
          "execution_count": 27
        },
        {
          "output_type": "display_data",
          "data": {
            "image/png": "[encoded data removed]",
            "text/plain": [
              "<Figure size 432x288 with 1 Axes>"
            ]
          },
          "metadata": {
            "tags": [],
            "image/png": {
              "width": 382,
              "height": 280
            },
            "needs_background": "light"
          }
        }
      ]
    },
    {
      "cell_type": "markdown",
      "metadata": {
        "id": "IqHmf8oGtHFW"
      },
      "source": [
        "### 산점도"
      ]
    },
    {
      "cell_type": "code",
      "metadata": {
        "colab": {
          "base_uri": "https://localhost:8080/",
          "height": 314
        },
        "id": "f6wlbj4ltJOj",
        "outputId": "6842c2d9-7e02-45b5-c2c8-38e01d2f309a"
      },
      "source": [
        "x= [1,2,3,4]\n",
        "y= [10,20,30,40]\n",
        "\n",
        "plt.scatter(x,y,label='graph1',color = 'r',marker= '^')\n",
        "x1= [1,2,3,4]\n",
        "y1= [5,30,20,25]\n",
        "\n",
        "plt.scatter(x1,y1,label='graph2', color = 'g',marker= '.')\n",
        "plt.title('x,y chart')\n",
        "plt.xlabel('x-axid')\n",
        "plt.ylabel('y-axid')\n",
        "plt.legend(loc=4)\n",
        "plt.show"
      ],
      "execution_count": null,
      "outputs": [
        {
          "output_type": "execute_result",
          "data": {
            "text/plain": [
              "<function matplotlib.pyplot.show>"
            ]
          },
          "metadata": {
            "tags": []
          },
          "execution_count": 28
        },
        {
          "output_type": "display_data",
          "data": {
            "image/png": "[encoded data removed]",
            "text/plain": [
              "<Figure size 432x288 with 1 Axes>"
            ]
          },
          "metadata": {
            "tags": [],
            "image/png": {
              "width": 382,
              "height": 280
            },
            "needs_background": "light"
          }
        }
      ]
    },
    {
      "cell_type": "code",
      "metadata": {
        "id": "3EL9dg6OtLUm"
      },
      "source": [
        "# 한글폰트 사용 in colab\n",
        "%matplotlib inline  \n",
        "\n",
        "import matplotlib as mpl \n",
        "import matplotlib.pyplot as plt \n",
        "import matplotlib.font_manager as fm  \n",
        "\n",
        "!apt-get update -qq\n",
        "!apt-get install fonts-nanum* -qq\n",
        "\n",
        "path = '/usr/share/fonts/truetype/nanum/NanumBarunGothic.ttf' \n",
        "font_name = fm.FontProperties(fname=path, size=10).get_name()\n",
        "print(font_name)\n",
        "plt.rc('font', family=font_name)\n",
        "\n",
        "fm._rebuild()\n",
        "mpl.rcParams['axes.unicode_minus'] = False"
      ],
      "execution_count": null,
      "outputs": []
    }
  ]
}