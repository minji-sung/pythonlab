{
  "nbformat": 4,
  "nbformat_minor": 0,
  "metadata": {
    "colab": {
      "name": "20210601_4팀_성민지.ipynb",
      "provenance": [],
      "collapsed_sections": [],
      "authorship_tag": "ABX9TyMTnSYHvU5/npT+F6MniwDX",
      "include_colab_link": true
    },
    "kernelspec": {
      "name": "python3",
      "display_name": "Python 3"
    },
    "language_info": {
      "name": "python"
    }
  },
  "cells": [
    {
      "cell_type": "markdown",
      "metadata": {
        "id": "view-in-github",
        "colab_type": "text"
      },
      "source": [
        "<a href=\"https://colab.research.google.com/github/minji-sung/pythonlab/blob/main/4_for%20loop.ipynb\" target=\"_parent\"><img src=\"https://colab.research.google.com/assets/colab-badge.svg\" alt=\"Open In Colab\"/></a>"
      ]
    },
    {
      "cell_type": "markdown",
      "metadata": {
        "id": "bC9bEqAYtx6N"
      },
      "source": [
        "20210601\n"
      ]
    },
    {
      "cell_type": "code",
      "metadata": {
        "colab": {
          "base_uri": "https://localhost:8080/"
        },
        "id": "TOnq3Xbctz9X",
        "outputId": "0f3b75d1-6b90-4864-8cb2-bba1205377d6"
      },
      "source": [
        "#반복구조\n",
        "#for: 반복이 시작되기 전, 반복 횟수 지정 -> 무한루프에 안빠져\n",
        "#while: 반복횟수는 조건에 따라 달라서 무한루프에 빠질 수 있다\n",
        "\n",
        "#for 제어변수 in 시퀀스:\n",
        "    #명령문\n",
        "\n",
        "for i in [1, 2, 3, 4, 5]: #list = sequence\n",
        "    print(i)\n",
        "\n",
        "for j in \"python\": #string\n",
        "    print(j)\n",
        "\n",
        "for k in range(5): #range\n",
        "    print(k)"
      ],
      "execution_count": null,
      "outputs": [
        {
          "output_type": "stream",
          "text": [
            "1\n",
            "2\n",
            "3\n",
            "4\n",
            "5\n",
            "p\n",
            "y\n",
            "t\n",
            "h\n",
            "o\n",
            "n\n",
            "0\n",
            "1\n",
            "2\n",
            "3\n",
            "4\n"
          ],
          "name": "stdout"
        }
      ]
    },
    {
      "cell_type": "code",
      "metadata": {
        "colab": {
          "base_uri": "https://localhost:8080/"
        },
        "id": "bYQLpy_Zz4oR",
        "outputId": "acb73e92-f6ef-430a-e1b6-d81c0a38255b"
      },
      "source": [
        "for i in range(1,6):\n",
        "    print(i) #i = 제어변수"
      ],
      "execution_count": null,
      "outputs": [
        {
          "output_type": "stream",
          "text": [
            "1\n",
            "2\n",
            "3\n",
            "4\n",
            "5\n"
          ],
          "name": "stdout"
        }
      ]
    },
    {
      "cell_type": "code",
      "metadata": {
        "colab": {
          "base_uri": "https://localhost:8080/"
        },
        "id": "eNGEziyz0rH5",
        "outputId": "85eddf29-2e8a-4d2c-a2c4-01e22a331822"
      },
      "source": [
        "#range(): integer \n",
        "#range([initial_value, ] final_value[, step]\n",
        "\n",
        "for i in range(5):\n",
        "    print(i, end = ' ') #end=''는 줄바꿈 없이 한 줄로 출력, 공백만큼 출력"
      ],
      "execution_count": null,
      "outputs": [
        {
          "output_type": "stream",
          "text": [
            "0 1 2 3 4 "
          ],
          "name": "stdout"
        }
      ]
    },
    {
      "cell_type": "code",
      "metadata": {
        "colab": {
          "base_uri": "https://localhost:8080/"
        },
        "id": "N6v_wtCC1Olx",
        "outputId": "ae5d9644-6aaa-4c44-89f4-06b247615169"
      },
      "source": [
        "for i in range(1,10,2):\n",
        "    print(i, end = '\\t') #\\t는 탭간격"
      ],
      "execution_count": null,
      "outputs": [
        {
          "output_type": "stream",
          "text": [
            "1\t3\t5\t7\t9\t"
          ],
          "name": "stdout"
        }
      ]
    },
    {
      "cell_type": "code",
      "metadata": {
        "colab": {
          "base_uri": "https://localhost:8080/"
        },
        "id": "VGG-64HA1fDB",
        "outputId": "7c1baf01-35cc-4971-c024-01fd6d2aed40"
      },
      "source": [
        "for i in range(20, 1, -3):\n",
        "    print(i, end=' ')"
      ],
      "execution_count": null,
      "outputs": [
        {
          "output_type": "stream",
          "text": [
            "20 17 14 11 8 5 2 "
          ],
          "name": "stdout"
        }
      ]
    },
    {
      "cell_type": "code",
      "metadata": {
        "id": "c4J1turC17JL"
      },
      "source": [
        "for i in range(100):\n",
        "    print('hello world!')"
      ],
      "execution_count": null,
      "outputs": []
    },
    {
      "cell_type": "code",
      "metadata": {
        "colab": {
          "base_uri": "https://localhost:8080/"
        },
        "id": "tOmd9ipw207I",
        "outputId": "2faf9d20-5bf2-4968-dfc7-7a64de8285d8"
      },
      "source": [
        "#while: conditional phrase 조건식의 결과가 true인 동안 반복 \n",
        "#false가 되면 빠져나옴\n",
        "#while 조건식:\n",
        "#   명령블록\n",
        "\n",
        "i=1\n",
        "while i<=5:\n",
        "    print(i, end=' ')\n",
        "    i = i+1\n",
        "\n"
      ],
      "execution_count": null,
      "outputs": [
        {
          "output_type": "stream",
          "text": [
            "1 2 3 4 5 "
          ],
          "name": "stdout"
        }
      ]
    },
    {
      "cell_type": "code",
      "metadata": {
        "colab": {
          "base_uri": "https://localhost:8080/"
        },
        "id": "oMthMOzn3p-1",
        "outputId": "00068236-a3c3-461b-b761-89239ffcb0c4"
      },
      "source": [
        "for i in range(1,6):\n",
        "    print(i, end=' ')\n",
        "\n",
        "j=1\n",
        "while j<=5:\n",
        "    print(j, end=' ')\n",
        "    j = j+1\n",
        "    \n",
        "#무한루프생기면 큰일이야!"
      ],
      "execution_count": null,
      "outputs": [
        {
          "output_type": "stream",
          "text": [
            "1 2 3 4 5 1 2 3 4 5 "
          ],
          "name": "stdout"
        }
      ]
    },
    {
      "cell_type": "code",
      "metadata": {
        "colab": {
          "base_uri": "https://localhost:8080/"
        },
        "id": "-anNVOPI9iC2",
        "outputId": "264cbe9d-b4f0-4c8d-9071-a3a89f0aa4ce"
      },
      "source": [
        "#예제: q를 입력할 때까지 반복하여 이름 입력받기 \n",
        "\n",
        "name = ' '\n",
        "while name != 'q':\n",
        "    name = input('이름을 입력하세요:')\n",
        "    print(name)"
      ],
      "execution_count": null,
      "outputs": [
        {
          "output_type": "stream",
          "text": [
            "이름을 입력하세요:df\n",
            "df\n",
            "이름을 입력하세요:q\n",
            "q\n"
          ],
          "name": "stdout"
        }
      ]
    },
    {
      "cell_type": "code",
      "metadata": {
        "colab": {
          "base_uri": "https://localhost:8080/"
        },
        "id": "sQMmeVGQ9_ar",
        "outputId": "798c9cf0-77d9-48f8-92fb-1a91b70c8b20"
      },
      "source": [
        "num = ' '\n",
        "while num != '10':\n",
        "    num = input('숫자를 입력하세요:')\n",
        "    print(num)"
      ],
      "execution_count": null,
      "outputs": [
        {
          "output_type": "stream",
          "text": [
            "숫자를 입력하세요:2\n",
            "2\n",
            "숫자를 입력하세요:10\n",
            "10\n"
          ],
          "name": "stdout"
        }
      ]
    },
    {
      "cell_type": "code",
      "metadata": {
        "colab": {
          "base_uri": "https://localhost:8080/"
        },
        "id": "UzdIFiFp-Ks-",
        "outputId": "745b70fd-1e75-4749-d1af-a2537f37baa7"
      },
      "source": [
        "id = ' '\n",
        "while id != 'minji':\n",
        "    id = input('옳은 아이디를 입력하세요:')\n",
        "    print(id)"
      ],
      "execution_count": null,
      "outputs": [
        {
          "output_type": "stream",
          "text": [
            "옳은 아이디를 입력하세요:dd\n",
            "dd\n",
            "옳은 아이디를 입력하세요:minji\n",
            "minji\n"
          ],
          "name": "stdout"
        }
      ]
    },
    {
      "cell_type": "code",
      "metadata": {
        "colab": {
          "base_uri": "https://localhost:8080/"
        },
        "id": "BTVSwxBR-3vu",
        "outputId": "16c4e144-a290-446d-8c10-504e957aea7c"
      },
      "source": [
        "num1 = 0\n",
        "sum1 = 0\n",
        "while num1 != 99:\n",
        "    num1 = int(input('숫자: '))\n",
        "    sum1 += num1\n",
        "    print(sum1)\n"
      ],
      "execution_count": null,
      "outputs": [
        {
          "output_type": "stream",
          "text": [
            "숫자: 3\n",
            "3\n",
            "숫자: 4\n",
            "7\n",
            "숫자: 99\n",
            "106\n"
          ],
          "name": "stdout"
        }
      ]
    },
    {
      "cell_type": "code",
      "metadata": {
        "colab": {
          "base_uri": "https://localhost:8080/"
        },
        "id": "fg_9lR_F_3P8",
        "outputId": "5dfa7316-5e5a-4655-b6aa-1560cfccd2f9"
      },
      "source": [
        "name = ' '\n",
        "while name != 'q':\n",
        "    name = input('이름입력:')\n",
        "    if name != 'q':\n",
        "        print(name)"
      ],
      "execution_count": null,
      "outputs": [
        {
          "output_type": "stream",
          "text": [
            "이름입력:2\n",
            "2\n",
            "이름입력:q\n"
          ],
          "name": "stdout"
        }
      ]
    },
    {
      "cell_type": "code",
      "metadata": {
        "colab": {
          "base_uri": "https://localhost:8080/"
        },
        "id": "4LkV_Uh7ABdB",
        "outputId": "98e13eb5-0a34-42c2-c47a-432b52e003a8"
      },
      "source": [
        "#예제: 5개 정수 입력받아 합계 구하기\n",
        "\n",
        "sum = 0                           #합계 초기화\n",
        "for i in range(5):                #5번 반복\n",
        "    num = int(input('정수입력:')) #입력\n",
        "    sum += num                    #입력한 정수를 합계에 누적하여 더하기\n",
        "print('합계출력:', sum)           #합계출력"
      ],
      "execution_count": null,
      "outputs": [
        {
          "output_type": "stream",
          "text": [
            "정수입력:2\n",
            "정수입력:3\n",
            "정수입력:5\n",
            "정수입력:6\n",
            "정수입력:2\n",
            "합계출력: 18\n"
          ],
          "name": "stdout"
        }
      ]
    },
    {
      "cell_type": "code",
      "metadata": {
        "colab": {
          "base_uri": "https://localhost:8080/"
        },
        "id": "C_l-0KnGAiMQ",
        "outputId": "9da74fa4-e924-44be-f8cb-ae51bb4c4530"
      },
      "source": [
        "#while \n",
        "\n",
        "num1 = 0\n",
        "sum1 = 0\n",
        "\n",
        "i = 1\n",
        "while i <= 5:\n",
        "    num1 = int(input('정수입력:'))\n",
        "    sum1 += num1\n",
        "    i = i+1\n",
        "print(sum1)\n"
      ],
      "execution_count": null,
      "outputs": [
        {
          "output_type": "stream",
          "text": [
            "정수입력:2\n",
            "정수입력:3\n",
            "정수입력:5\n",
            "정수입력:7\n",
            "정수입력:2\n",
            "19\n"
          ],
          "name": "stdout"
        }
      ]
    },
    {
      "cell_type": "code",
      "metadata": {
        "colab": {
          "base_uri": "https://localhost:8080/"
        },
        "id": "PJYu3nHSCZxn",
        "outputId": "c28187fe-d7e2-48b1-dc8e-0b059e475ae2"
      },
      "source": [
        "#예제: n개의 정수 입력받아 합계 구하기\n",
        "#n을 입력받고, n개의 정수를 입력받아, 합계 구하여 출력\n",
        "#반복횟수가 정해지면 for-range 가 편해\n",
        "\n",
        "n = int(input('몇 개의 숫자를 더할까요? '))\n",
        "sum1 = 0\n",
        "\n",
        "for i in range(n):\n",
        "    num = int(input('정수입력:'))\n",
        "    sum1 += num\n",
        "print('합계출력:', sum1)\n"
      ],
      "execution_count": null,
      "outputs": [
        {
          "output_type": "stream",
          "text": [
            "몇 개의 숫자를 더할까요? 2\n",
            "정수입력:1\n",
            "정수입력:3\n",
            "합계출력: 4\n"
          ],
          "name": "stdout"
        }
      ]
    },
    {
      "cell_type": "code",
      "metadata": {
        "colab": {
          "base_uri": "https://localhost:8080/"
        },
        "id": "5X_CAmqgDSQl",
        "outputId": "0ec22647-e5bf-42df-ffbf-bf1e3604bda7"
      },
      "source": [
        "\n",
        "i = 0\n",
        "sum1 = 0\n",
        "n = int(input('몇 개의 숫자를 구할까요?:'))\n",
        "\n",
        "while i < n:\n",
        "    num = int(input('정수입력: '))\n",
        "    i += 1\n",
        "    sum1 += num\n",
        "print(f'합계는 {sum1}입니다')"
      ],
      "execution_count": null,
      "outputs": [
        {
          "output_type": "stream",
          "text": [
            "몇 개의 숫자를 구할까요?:2\n",
            "정수입력: 1\n",
            "정수입력: 3\n",
            "정수입력: 4\n",
            "합계는 8입니다\n"
          ],
          "name": "stdout"
        }
      ]
    },
    {
      "cell_type": "code",
      "metadata": {
        "colab": {
          "base_uri": "https://localhost:8080/"
        },
        "id": "ABGL-HPXEl5r",
        "outputId": "a7c8f58f-56a0-4a5c-9d78-dbf289f5dfc3"
      },
      "source": [
        "#n개의 정수 받아서 짝수의 합계 구하기\n",
        "\n",
        "sum1 = 0\n",
        "n = int(input('몇 개의 숫자?'))\n",
        "for i in range(n):\n",
        "    num = int(input('정수입력:'))\n",
        "    if num % 2 == 0:    #짝수구하기는 2로 나누어서 나머지가 0\n",
        "        sum1 += num\n",
        "print('합계:', sum1)"
      ],
      "execution_count": null,
      "outputs": [
        {
          "output_type": "stream",
          "text": [
            "몇 개의 숫자?5\n",
            "정수입력:3\n",
            "정수입력:5\n",
            "정수입력:2\n",
            "정수입력:2\n",
            "정수입력:45\n",
            "합계: 4\n"
          ],
          "name": "stdout"
        }
      ]
    },
    {
      "cell_type": "code",
      "metadata": {
        "colab": {
          "base_uri": "https://localhost:8080/"
        },
        "id": "zZ2c_il_C76A",
        "outputId": "3d99f418-d844-4b04-86c2-57c9d2f26fda"
      },
      "source": [
        "#홀수\n",
        "sum1 = 0\n",
        "n = int(input('몇 개의 숫자?'))\n",
        "for i in range(n):\n",
        "    num = int(input('정수입력:'))\n",
        "    if num % 2 != 0:    #홀수구하기는 2로 나누어서 나머지가 0이 아님\n",
        "        sum1 += num\n",
        "print('합계:', sum1)"
      ],
      "execution_count": null,
      "outputs": [
        {
          "output_type": "stream",
          "text": [
            "몇 개의 숫자?3\n",
            "정수입력:2\n",
            "정수입력:4\n",
            "정수입력:5\n",
            "합계: 5\n"
          ],
          "name": "stdout"
        }
      ]
    },
    {
      "cell_type": "code",
      "metadata": {
        "colab": {
          "base_uri": "https://localhost:8080/"
        },
        "id": "u1V7MlhYFd8i",
        "outputId": "be62b5d9-36b8-405c-a6b3-cd48439b42c5"
      },
      "source": [
        "\n",
        "i = 0\n",
        "sum1 = 0\n",
        "n = int(input('몇 개의 숫자를 구할까요?:'))\n",
        "\n",
        "while i < n:\n",
        "    num = int(input('정수입력: '))\n",
        "    i += 1\n",
        "    if num % 2 == 0:\n",
        "        sum1 += num\n",
        "print(f'합계는 {sum1}입니다')"
      ],
      "execution_count": null,
      "outputs": [
        {
          "output_type": "stream",
          "text": [
            "몇 개의 숫자를 구할까요?:4\n",
            "정수입력: 3\n",
            "정수입력: 4\n",
            "정수입력: 4\n",
            "정수입력: 5\n",
            "합계는 8입니다\n"
          ],
          "name": "stdout"
        }
      ]
    },
    {
      "cell_type": "code",
      "metadata": {
        "colab": {
          "base_uri": "https://localhost:8080/"
        },
        "id": "oBSV_wcQF8dh",
        "outputId": "ffb51b0e-be52-4b80-a326-3656db976311"
      },
      "source": [
        "#0이 입력될때까지 숫자 입력받아 합계구하기\n",
        "sum1 = 0\n",
        "num = int(input('number:'))\n",
        "while num !=0:\n",
        "    sum1 += num\n",
        "    num = int(input('number:'))   #0이 나올때까지 더하기\n",
        "print('sum', sum)"
      ],
      "execution_count": null,
      "outputs": [
        {
          "output_type": "stream",
          "text": [
            "number:3\n",
            "number:2\n",
            "number:3\n",
            "number:4\n",
            "number:5\n",
            "number:6\n",
            "number:0\n",
            "sum 7\n"
          ],
          "name": "stdout"
        }
      ]
    },
    {
      "cell_type": "code",
      "metadata": {
        "colab": {
          "base_uri": "https://localhost:8080/"
        },
        "id": "x7eMfvEBGwUV",
        "outputId": "96b5d650-7025-466d-a3cf-b74286569da2"
      },
      "source": [
        "#0이 입력될때까지 숫자 입력받아 합계구하기 + 초기값 정해짐\n",
        "sum1 = 0\n",
        "num1 = 3\n",
        "num = int(input('number:'))\n",
        "while num != num1:\n",
        "    sum1 += num\n",
        "    num = int(input('number:'))   #0이 나올때까지 더하기\n",
        "print('sum', sum)"
      ],
      "execution_count": null,
      "outputs": [
        {
          "output_type": "stream",
          "text": [
            "number:2\n",
            "number:4\n",
            "number:3\n",
            "sum 7\n"
          ],
          "name": "stdout"
        }
      ]
    },
    {
      "cell_type": "code",
      "metadata": {
        "colab": {
          "base_uri": "https://localhost:8080/"
        },
        "id": "0p2_4kq0HGGD",
        "outputId": "48602b5e-f5c0-4ba9-ac7a-96be84853541"
      },
      "source": [
        "#0이 입력될때까지 숫자 입력받아 합계구하기\n",
        "sum1 = 0\n",
        "num = ' '  #초기값을 미리 주는 것 \n",
        "while num != 0:\n",
        "    num = int(input('number:'))   #0이 나올때까지 더하기\n",
        "    sum1 += num\n",
        "print('sum', sum1)\n"
      ],
      "execution_count": null,
      "outputs": [
        {
          "output_type": "stream",
          "text": [
            "number:2\n",
            "number:1\n",
            "number:0\n",
            "sum 3\n"
          ],
          "name": "stdout"
        }
      ]
    },
    {
      "cell_type": "code",
      "metadata": {
        "colab": {
          "base_uri": "https://localhost:8080/"
        },
        "id": "Ufh-lnjjHiKC",
        "outputId": "9aa46807-a5db-4d80-d7ce-80eff3d1aeff"
      },
      "source": [
        "#예제: 1~n 까지 더하는 프로그램\n",
        "\n",
        "sum1 = 0\n",
        "n = int(input('1부터 몇까지 더할까요? '))\n",
        "\n",
        "for i in range(1,n+1):  \n",
        "    sum1 += i\n",
        "    print(i)\n",
        "print(f'합계는 {sum1}입니다')\n"
      ],
      "execution_count": null,
      "outputs": [
        {
          "output_type": "stream",
          "text": [
            "1부터 몇까지 더할까요? 3\n",
            "1\n",
            "2\n",
            "3\n",
            "합계는 6입니다\n"
          ],
          "name": "stdout"
        }
      ]
    },
    {
      "cell_type": "code",
      "metadata": {
        "colab": {
          "base_uri": "https://localhost:8080/"
        },
        "id": "Fkn9FQusOnDt",
        "outputId": "21eee53b-cc29-4223-fb18-74b798473963"
      },
      "source": [
        "sum1 = 0\n",
        "n = int(input('1부터 몇까지 더할까요? '))\n",
        "i = 1\n",
        "while i<=n:\n",
        "    sum1 += i\n",
        "    i +=1\n",
        "    print(i-1)\n",
        "print(f'합계는 {sum1}입니다')"
      ],
      "execution_count": null,
      "outputs": [
        {
          "output_type": "stream",
          "text": [
            "1부터 몇까지 더할까요? 3\n",
            "1\n",
            "2\n",
            "3\n",
            "합계는 6입니다\n"
          ],
          "name": "stdout"
        }
      ]
    },
    {
      "cell_type": "code",
      "metadata": {
        "colab": {
          "base_uri": "https://localhost:8080/"
        },
        "id": "dbGs7bPwNgMu",
        "outputId": "787a37bd-511d-47ef-f338-29f491e764b4"
      },
      "source": [
        "#예제: n1-n2 까지 더하는 프로그램\n",
        "sum1 = 0\n",
        "n1 = int(input('몇부터 더할까요? '))\n",
        "n2 = int(input('몇까지 더할까요? '))\n",
        "\n",
        "for i in range(n1,n2+1):  \n",
        "    sum1 += i\n",
        "    print(i)\n",
        "print(f'합계는 {sum1}입니다')"
      ],
      "execution_count": null,
      "outputs": [
        {
          "output_type": "stream",
          "text": [
            "몇부터 더할까요? 3\n",
            "몇까지 더할까요? 5\n",
            "3\n",
            "4\n",
            "5\n",
            "합계는 12입니다\n"
          ],
          "name": "stdout"
        }
      ]
    },
    {
      "cell_type": "code",
      "metadata": {
        "colab": {
          "base_uri": "https://localhost:8080/"
        },
        "id": "iMdUqJSEbyHT",
        "outputId": "52b63cac-bbf9-4846-f1f0-af2bb9fb2ea1"
      },
      "source": [
        "#예제: 임의의 개수 숫자의 평균 구하기 \n",
        "\n",
        "sum1 = 0\n",
        "n = int(input('입력받을 정수의 개수: '))\n",
        "\n",
        "for i in range(n):\n",
        "    num = int(input('정수:'))\n",
        "    sum1 += num\n",
        "if n == 0:\n",
        "    print('0개의 정수를 입력했습니다.')\n",
        "else: \n",
        "    print(f'평균: {sum1/n}')\n",
        "    "
      ],
      "execution_count": null,
      "outputs": [
        {
          "output_type": "stream",
          "text": [
            "입력받을 정수의 개수: 4\n",
            "정수:3\n",
            "정수:2\n",
            "정수:6\n",
            "정수:5\n",
            "평균: 4.0\n"
          ],
          "name": "stdout"
        }
      ]
    },
    {
      "cell_type": "code",
      "metadata": {
        "colab": {
          "base_uri": "https://localhost:8080/"
        },
        "id": "0TJIjJLifS-q",
        "outputId": "8f76969e-1c19-485a-f1cd-448e75733006"
      },
      "source": [
        "#예제: 팩토리얼 계산\n",
        "n = int(input('몇 팩토리얼? '))\n",
        "factorial = 1\n",
        "for i in range(n, 0, -1):\n",
        "    factorial *= i\n",
        "    print(i, factorial)\n",
        "print(f'{n}! = {factorial}')\n"
      ],
      "execution_count": null,
      "outputs": [
        {
          "output_type": "stream",
          "text": [
            "몇 팩토리얼? 10\n",
            "10 10\n",
            "9 90\n",
            "8 720\n",
            "7 5040\n",
            "6 30240\n",
            "5 151200\n",
            "4 604800\n",
            "3 1814400\n",
            "2 3628800\n",
            "1 3628800\n",
            "10! = 3628800\n"
          ],
          "name": "stdout"
        }
      ]
    },
    {
      "cell_type": "code",
      "metadata": {
        "colab": {
          "base_uri": "https://localhost:8080/"
        },
        "id": "Bd4Uta1Dh58H",
        "outputId": "33dc5310-73ea-407a-8eb5-9525653137bc"
      },
      "source": [
        "#예제: 구구단\n",
        "\n",
        "n = int(input('구구단 몇단? '))\n",
        "num1 = 0\n",
        "for i in range (1, 10):\n",
        "    num1 = n*i\n",
        "    print(f'{n} x {i} = {num1}')"
      ],
      "execution_count": null,
      "outputs": [
        {
          "output_type": "stream",
          "text": [
            "구구단 몇단? 5\n",
            "5 x 1 = 5\n",
            "5 x 2 = 10\n",
            "5 x 3 = 15\n",
            "5 x 4 = 20\n",
            "5 x 5 = 25\n",
            "5 x 6 = 30\n",
            "5 x 7 = 35\n",
            "5 x 8 = 40\n",
            "5 x 9 = 45\n"
          ],
          "name": "stdout"
        }
      ]
    },
    {
      "cell_type": "code",
      "metadata": {
        "colab": {
          "base_uri": "https://localhost:8080/"
        },
        "id": "g0PgNh2OiuSv",
        "outputId": "65ec05f0-49bf-40bf-b4ce-b0ba7934c30e"
      },
      "source": [
        "n = int(input('구구단 몇단? '))\n",
        "for i in range (1, 10):\n",
        "    print(f'{n} x {i} = {n*i}')\n",
        "\n",
        "# 훨씬 짧게 만들수 있어!! "
      ],
      "execution_count": null,
      "outputs": [
        {
          "output_type": "stream",
          "text": [
            "구구단 몇단? 5\n",
            "5 x 1 = 5\n",
            "5 x 2 = 10\n",
            "5 x 3 = 15\n",
            "5 x 4 = 20\n",
            "5 x 5 = 25\n",
            "5 x 6 = 30\n",
            "5 x 7 = 35\n",
            "5 x 8 = 40\n",
            "5 x 9 = 45\n"
          ],
          "name": "stdout"
        }
      ]
    },
    {
      "cell_type": "code",
      "metadata": {
        "colab": {
          "base_uri": "https://localhost:8080/"
        },
        "id": "3eaBevhMl-ZD",
        "outputId": "e253cbd4-8858-46e4-a3eb-180f93a1130b"
      },
      "source": [
        "# 중첩반복구조\n",
        "\n",
        "for i in range(5):\n",
        "    for j in range(3):  #내부문을 외부문의 시퀀스만큼 반복한다.\n",
        "        print(i, j)\n",
        "\n",
        "# i는 range 5: 0, 1, 2, 3, 4 의 범위 수행\n",
        "# i가 0일때, j는 0, 1, 2가 반복되는 것\n"
      ],
      "execution_count": null,
      "outputs": [
        {
          "output_type": "stream",
          "text": [
            "0 0\n",
            "0 1\n",
            "0 2\n",
            "1 0\n",
            "1 1\n",
            "1 2\n",
            "2 0\n",
            "2 1\n",
            "2 2\n",
            "3 0\n",
            "3 1\n",
            "3 2\n",
            "4 0\n",
            "4 1\n",
            "4 2\n"
          ],
          "name": "stdout"
        }
      ]
    },
    {
      "cell_type": "code",
      "metadata": {
        "colab": {
          "base_uri": "https://localhost:8080/"
        },
        "id": "ECEjNI7imnC2",
        "outputId": "64c79653-7fcd-4853-9f48-9c0badca29ba"
      },
      "source": [
        "for i in range(3):          #0, 1, 2\n",
        "    for j in range(5):      #0, 1, 2, 3, 4\n",
        "        print(i, j)"
      ],
      "execution_count": null,
      "outputs": [
        {
          "output_type": "stream",
          "text": [
            "0 0\n",
            "0 1\n",
            "0 2\n",
            "0 3\n",
            "0 4\n",
            "1 0\n",
            "1 1\n",
            "1 2\n",
            "1 3\n",
            "1 4\n",
            "2 0\n",
            "2 1\n",
            "2 2\n",
            "2 3\n",
            "2 4\n"
          ],
          "name": "stdout"
        }
      ]
    },
    {
      "cell_type": "code",
      "metadata": {
        "colab": {
          "base_uri": "https://localhost:8080/"
        },
        "id": "mViIpm7xm1rR",
        "outputId": "15bf0562-91d5-4030-8f56-3ad33a890a15"
      },
      "source": [
        "for i in range(1,5,2):\n",
        "    for j in range(1, 5):\n",
        "        print(i, j)"
      ],
      "execution_count": null,
      "outputs": [
        {
          "output_type": "stream",
          "text": [
            "1 1\n",
            "1 2\n",
            "1 3\n",
            "1 4\n",
            "3 1\n",
            "3 2\n",
            "3 3\n",
            "3 4\n"
          ],
          "name": "stdout"
        }
      ]
    },
    {
      "cell_type": "code",
      "metadata": {
        "colab": {
          "base_uri": "https://localhost:8080/"
        },
        "id": "dlMBXijfnWjl",
        "outputId": "a7f8373f-f944-4d71-fe9a-cd84ac7e7c23"
      },
      "source": [
        "#구구단을 중첩반복문으로 출력\n",
        "\n",
        "for i in range(1,10):\n",
        "    for j in range(2,10):\n",
        "        print(f'{j}x{i}={i*j}', end = '\\t')\n",
        "    print()     #안에가 끝나면 비어있는 프린트: 왜? 한 줄 건너뛰기"
      ],
      "execution_count": null,
      "outputs": [
        {
          "output_type": "stream",
          "text": [
            "2x1=2\t3x1=3\t4x1=4\t5x1=5\t6x1=6\t7x1=7\t8x1=8\t9x1=9\t\n",
            "2x2=4\t3x2=6\t4x2=8\t5x2=10\t6x2=12\t7x2=14\t8x2=16\t9x2=18\t\n",
            "2x3=6\t3x3=9\t4x3=12\t5x3=15\t6x3=18\t7x3=21\t8x3=24\t9x3=27\t\n",
            "2x4=8\t3x4=12\t4x4=16\t5x4=20\t6x4=24\t7x4=28\t8x4=32\t9x4=36\t\n",
            "2x5=10\t3x5=15\t4x5=20\t5x5=25\t6x5=30\t7x5=35\t8x5=40\t9x5=45\t\n",
            "2x6=12\t3x6=18\t4x6=24\t5x6=30\t6x6=36\t7x6=42\t8x6=48\t9x6=54\t\n",
            "2x7=14\t3x7=21\t4x7=28\t5x7=35\t6x7=42\t7x7=49\t8x7=56\t9x7=63\t\n",
            "2x8=16\t3x8=24\t4x8=32\t5x8=40\t6x8=48\t7x8=56\t8x8=64\t9x8=72\t\n",
            "2x9=18\t3x9=27\t4x9=36\t5x9=45\t6x9=54\t7x9=63\t8x9=72\t9x9=81\t\n"
          ],
          "name": "stdout"
        }
      ]
    },
    {
      "cell_type": "code",
      "metadata": {
        "colab": {
          "base_uri": "https://localhost:8080/"
        },
        "id": "0fVtR5Diqbci",
        "outputId": "93251ddf-9d6b-4b00-f89a-4085ab8b9e91"
      },
      "source": [
        "#반복 벗어나기: break\n",
        "#문장에서 해당 문자를 찾으면 반복을 종료한다.\n",
        "\n",
        "text = 'I have a dream'\n",
        "letter = input('찾을 문자:')\n",
        "\n",
        "for i in text:\n",
        "    print(i, end = ' ')\n",
        "    if i == letter:\n",
        "        break\n"
      ],
      "execution_count": null,
      "outputs": [
        {
          "output_type": "stream",
          "text": [
            "찾을 문자:1\n",
            "I   h a v e   a   d r e a m "
          ],
          "name": "stdout"
        }
      ]
    },
    {
      "cell_type": "code",
      "metadata": {
        "colab": {
          "base_uri": "https://localhost:8080/"
        },
        "id": "WYXUjR4crtwJ",
        "outputId": "2ee45e66-759a-4741-deb5-43a33f8a9f6f"
      },
      "source": [
        "#예제: up&down 게임\n",
        "# 1-100 사이의 정답숫자를 랜덤으로 정하고\n",
        "# 정답 숫자 맞출 때까지 숫자 입력\n",
        "# 내가 입력한 숫자보다 정답이 작으면 'DOWN', 크면 'UP'을 출력하고 \n",
        "# 다시 숫자 입력받기 \n",
        "# 정답 맞추면 '정답!'이라고 출력\n",
        "\n",
        "import random\n",
        "n = random.randint(1,100)\n",
        "\n",
        "num1 = int(input('예상 숫자: '))\n",
        "\n",
        "while num1 != n:\n",
        "    if num1 < n:\n",
        "        print('DOWN')\n",
        "        num1 = \n",
        "\n",
        "\n",
        "    print('정답!')\n",
        "    if num1 < n:\n",
        "        print('DOWN')\n",
        "        num1 = int(input('예상 숫자: '))\n",
        "    elif num1 > n:\n",
        "        print('UP')\n",
        "        num1 = int(input('예상 숫자: '))\n",
        "\n"
      ],
      "execution_count": null,
      "outputs": [
        {
          "output_type": "stream",
          "text": [
            "예상 숫자: 45\n"
          ],
          "name": "stdout"
        }
      ]
    },
    {
      "cell_type": "code",
      "metadata": {
        "colab": {
          "base_uri": "https://localhost:8080/",
          "height": 130
        },
        "id": "oOe5ye-cvQvl",
        "outputId": "46ff0ccf-1c45-439a-9828-050bc22aa39f"
      },
      "source": [
        "import random\n",
        "n = random.randint(1,100)\n",
        "answer = int(input('예상 숫자:'))\n",
        "while n != answer:\n",
        "    if answer > n:\n",
        "        print('DOWN')\n",
        "        answer = int(input('예상 숫자:'))\n",
        "    elif answer < n:\n",
        "        print('UP')\n",
        "        answer = int(input('예상 숫자:'))\n",
        "    else:\n",
        "        print('정답!')\n"
      ],
      "execution_count": null,
      "outputs": [
        {
          "output_type": "error",
          "ename": "IndentationError",
          "evalue": "ignored",
          "traceback": [
            "\u001b[0;36m  File \u001b[0;32m\"<ipython-input-106-4c11f067ef25>\"\u001b[0;36m, line \u001b[0;32m12\u001b[0m\n\u001b[0;31m    print('정답!')\u001b[0m\n\u001b[0m        ^\u001b[0m\n\u001b[0;31mIndentationError\u001b[0m\u001b[0;31m:\u001b[0m expected an indented block\n"
          ]
        }
      ]
    },
    {
      "cell_type": "code",
      "metadata": {
        "id": "SsSPSQREvq4z"
      },
      "source": [
        "import random\n",
        "n_answer = random.randint(1,100)\n",
        "n_inserted = int(input('숫자 입력: '))\n",
        "\n",
        "while n_inserted != n_answer: \n",
        "    if n_inserted > n_answer:\n",
        "        print(\"DOWN\")\n",
        "        n_inserted = int(input('숫자 입력: '))\n",
        "    elif n_inserted < n_answer:\n",
        "        print(\"UP\")\n",
        "        n_inserted = int(input('숫자 입력: '))\n",
        "    \n",
        "        \n",
        "print(n_answer, \"정답!\")"
      ],
      "execution_count": null,
      "outputs": []
    }
  ]
}