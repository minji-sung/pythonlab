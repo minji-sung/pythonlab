{
  "nbformat": 4,
  "nbformat_minor": 0,
  "metadata": {
    "colab": {
      "name": "4팀_미니공모전_이승은.ipynb",
      "provenance": [],
      "collapsed_sections": []
    },
    "kernelspec": {
      "name": "python3",
      "display_name": "Python 3"
    },
    "language_info": {
      "name": "python"
    }
  },
  "cells": [
    {
      "cell_type": "code",
      "metadata": {
        "colab": {
          "base_uri": "https://localhost:8080/"
        },
        "id": "gvvm26ngiSvU",
        "outputId": "02d4df96-79de-4e0c-af8d-2c335c377154"
      },
      "source": [
        "import matplotlib as mpl\n",
        "\n",
        "# %config InlineBackend.figure_format = 'retina'\n",
        " \n",
        "!apt -qq -y install fonts-nanum\n",
        "mpl.font_manager._rebuild()\n",
        "#[메뉴] - [런타임] - [런타임 다시 시작] 후 아래 셀부터 실행"
      ],
      "execution_count": null,
      "outputs": [
        {
          "output_type": "stream",
          "text": [
            "The following NEW packages will be installed:\n",
            "  fonts-nanum\n",
            "0 upgraded, 1 newly installed, 0 to remove and 39 not upgraded.\n",
            "Need to get 9,604 kB of archives.\n",
            "After this operation, 29.5 MB of additional disk space will be used.\n",
            "Selecting previously unselected package fonts-nanum.\n",
            "(Reading database ... 160772 files and directories currently installed.)\n",
            "Preparing to unpack .../fonts-nanum_20170925-1_all.deb ...\n",
            "Unpacking fonts-nanum (20170925-1) ...\n",
            "Setting up fonts-nanum (20170925-1) ...\n",
            "Processing triggers for fontconfig (2.12.6-0ubuntu2) ...\n"
          ],
          "name": "stdout"
        }
      ]
    },
    {
      "cell_type": "code",
      "metadata": {
        "id": "rhNykse4iU7I"
      },
      "source": [
        "import matplotlib.font_manager as fm\n",
        "import matplotlib as mpl\n",
        "import matplotlib.pyplot as plt\n",
        "\n",
        "fontpath = '/usr/share/fonts/truetype/nanum/NanumBarunGothic.ttf'\n",
        "font = fm.FontProperties(fname=fontpath, size=9)\n",
        "plt.rc('font', family='NanumBarunGothic')"
      ],
      "execution_count": null,
      "outputs": []
    },
    {
      "cell_type": "code",
      "metadata": {
        "colab": {
          "base_uri": "https://localhost:8080/"
        },
        "id": "P_wpe-thibSP",
        "outputId": "f592fab9-0112-40c1-c1bd-acbd9505918f"
      },
      "source": [
        "from google.colab import drive\n",
        "drive.mount('/content/drive')"
      ],
      "execution_count": null,
      "outputs": [
        {
          "output_type": "stream",
          "text": [
            "Drive already mounted at /content/drive; to attempt to forcibly remount, call drive.mount(\"/content/drive\", force_remount=True).\n"
          ],
          "name": "stdout"
        }
      ]
    },
    {
      "cell_type": "code",
      "metadata": {
        "colab": {
          "base_uri": "https://localhost:8080/",
          "height": 202
        },
        "id": "NAOClmZTidLJ",
        "outputId": "df2dedbe-7a9b-4c41-c2ca-40643736b562"
      },
      "source": [
        "#출처 : KOSIS 국가 통계포털\n",
        "import pandas as pd\n",
        "df = pd.read_csv('/content/drive/MyDrive/Colab Notebooks/수업 정리용/학생 공유/3주차_4팀/20210610/20210610.csv')\n",
        "df.head()"
      ],
      "execution_count": null,
      "outputs": [
        {
          "output_type": "execute_result",
          "data": {
            "text/html": [
              "<div>\n",
              "<style scoped>\n",
              "    .dataframe tbody tr th:only-of-type {\n",
              "        vertical-align: middle;\n",
              "    }\n",
              "\n",
              "    .dataframe tbody tr th {\n",
              "        vertical-align: top;\n",
              "    }\n",
              "\n",
              "    .dataframe thead th {\n",
              "        text-align: right;\n",
              "    }\n",
              "</style>\n",
              "<table border=\"1\" class=\"dataframe\">\n",
              "  <thead>\n",
              "    <tr style=\"text-align: right;\">\n",
              "      <th></th>\n",
              "      <th>연도</th>\n",
              "      <th>계</th>\n",
              "      <th>남자</th>\n",
              "      <th>여자</th>\n",
              "    </tr>\n",
              "  </thead>\n",
              "  <tbody>\n",
              "    <tr>\n",
              "      <th>0</th>\n",
              "      <td>2000</td>\n",
              "      <td>58.5</td>\n",
              "      <td>70.8</td>\n",
              "      <td>47.0</td>\n",
              "    </tr>\n",
              "    <tr>\n",
              "      <th>1</th>\n",
              "      <td>2001</td>\n",
              "      <td>59.0</td>\n",
              "      <td>71.1</td>\n",
              "      <td>47.7</td>\n",
              "    </tr>\n",
              "    <tr>\n",
              "      <th>2</th>\n",
              "      <td>2002</td>\n",
              "      <td>60.1</td>\n",
              "      <td>72.3</td>\n",
              "      <td>48.5</td>\n",
              "    </tr>\n",
              "    <tr>\n",
              "      <th>3</th>\n",
              "      <td>2003</td>\n",
              "      <td>59.4</td>\n",
              "      <td>72.1</td>\n",
              "      <td>47.4</td>\n",
              "    </tr>\n",
              "    <tr>\n",
              "      <th>4</th>\n",
              "      <td>2004</td>\n",
              "      <td>60.0</td>\n",
              "      <td>72.3</td>\n",
              "      <td>48.5</td>\n",
              "    </tr>\n",
              "  </tbody>\n",
              "</table>\n",
              "</div>"
            ],
            "text/plain": [
              "     연도     계    남자    여자\n",
              "0  2000  58.5  70.8  47.0\n",
              "1  2001  59.0  71.1  47.7\n",
              "2  2002  60.1  72.3  48.5\n",
              "3  2003  59.4  72.1  47.4\n",
              "4  2004  60.0  72.3  48.5"
            ]
          },
          "metadata": {
            "tags": []
          },
          "execution_count": 38
        }
      ]
    },
    {
      "cell_type": "code",
      "metadata": {
        "colab": {
          "base_uri": "https://localhost:8080/"
        },
        "id": "qf4AY_zBkNyM",
        "outputId": "f9d14dee-eed0-4597-cb4a-70b28f400dcd"
      },
      "source": [
        "df.isnull().sum()"
      ],
      "execution_count": null,
      "outputs": [
        {
          "output_type": "execute_result",
          "data": {
            "text/plain": [
              "연도    0\n",
              "계     0\n",
              "남자    0\n",
              "여자    0\n",
              "dtype: int64"
            ]
          },
          "metadata": {
            "tags": []
          },
          "execution_count": 39
        }
      ]
    },
    {
      "cell_type": "code",
      "metadata": {
        "id": "cz0aAdav8iLd",
        "colab": {
          "base_uri": "https://localhost:8080/",
          "height": 294
        },
        "outputId": "2f374e03-79fc-43f1-f816-1f17dcfab647"
      },
      "source": [
        "df.describe()"
      ],
      "execution_count": null,
      "outputs": [
        {
          "output_type": "execute_result",
          "data": {
            "text/html": [
              "<div>\n",
              "<style scoped>\n",
              "    .dataframe tbody tr th:only-of-type {\n",
              "        vertical-align: middle;\n",
              "    }\n",
              "\n",
              "    .dataframe tbody tr th {\n",
              "        vertical-align: top;\n",
              "    }\n",
              "\n",
              "    .dataframe thead th {\n",
              "        text-align: right;\n",
              "    }\n",
              "</style>\n",
              "<table border=\"1\" class=\"dataframe\">\n",
              "  <thead>\n",
              "    <tr style=\"text-align: right;\">\n",
              "      <th></th>\n",
              "      <th>연도</th>\n",
              "      <th>계</th>\n",
              "      <th>남자</th>\n",
              "      <th>여자</th>\n",
              "      <th>남여 고용률 차이</th>\n",
              "    </tr>\n",
              "  </thead>\n",
              "  <tbody>\n",
              "    <tr>\n",
              "      <th>count</th>\n",
              "      <td>21.000000</td>\n",
              "      <td>21.000000</td>\n",
              "      <td>21.000000</td>\n",
              "      <td>21.000000</td>\n",
              "      <td>21.000000</td>\n",
              "    </tr>\n",
              "    <tr>\n",
              "      <th>mean</th>\n",
              "      <td>2010.000000</td>\n",
              "      <td>59.871429</td>\n",
              "      <td>71.200000</td>\n",
              "      <td>49.061905</td>\n",
              "      <td>22.138095</td>\n",
              "    </tr>\n",
              "    <tr>\n",
              "      <th>std</th>\n",
              "      <td>6.204837</td>\n",
              "      <td>0.688580</td>\n",
              "      <td>0.672309</td>\n",
              "      <td>1.265889</td>\n",
              "      <td>1.538336</td>\n",
              "    </tr>\n",
              "    <tr>\n",
              "      <th>min</th>\n",
              "      <td>2000.000000</td>\n",
              "      <td>58.500000</td>\n",
              "      <td>69.800000</td>\n",
              "      <td>47.000000</td>\n",
              "      <td>19.100000</td>\n",
              "    </tr>\n",
              "    <tr>\n",
              "      <th>25%</th>\n",
              "      <td>2005.000000</td>\n",
              "      <td>59.400000</td>\n",
              "      <td>70.800000</td>\n",
              "      <td>48.300000</td>\n",
              "      <td>21.300000</td>\n",
              "    </tr>\n",
              "    <tr>\n",
              "      <th>50%</th>\n",
              "      <td>2010.000000</td>\n",
              "      <td>60.000000</td>\n",
              "      <td>71.200000</td>\n",
              "      <td>48.900000</td>\n",
              "      <td>22.400000</td>\n",
              "    </tr>\n",
              "    <tr>\n",
              "      <th>75%</th>\n",
              "      <td>2015.000000</td>\n",
              "      <td>60.500000</td>\n",
              "      <td>71.700000</td>\n",
              "      <td>50.100000</td>\n",
              "      <td>23.300000</td>\n",
              "    </tr>\n",
              "    <tr>\n",
              "      <th>max</th>\n",
              "      <td>2020.000000</td>\n",
              "      <td>60.900000</td>\n",
              "      <td>72.300000</td>\n",
              "      <td>51.600000</td>\n",
              "      <td>24.700000</td>\n",
              "    </tr>\n",
              "  </tbody>\n",
              "</table>\n",
              "</div>"
            ],
            "text/plain": [
              "                연도          계         남자         여자  남여 고용률 차이\n",
              "count    21.000000  21.000000  21.000000  21.000000  21.000000\n",
              "mean   2010.000000  59.871429  71.200000  49.061905  22.138095\n",
              "std       6.204837   0.688580   0.672309   1.265889   1.538336\n",
              "min    2000.000000  58.500000  69.800000  47.000000  19.100000\n",
              "25%    2005.000000  59.400000  70.800000  48.300000  21.300000\n",
              "50%    2010.000000  60.000000  71.200000  48.900000  22.400000\n",
              "75%    2015.000000  60.500000  71.700000  50.100000  23.300000\n",
              "max    2020.000000  60.900000  72.300000  51.600000  24.700000"
            ]
          },
          "metadata": {
            "tags": []
          },
          "execution_count": 66
        }
      ]
    },
    {
      "cell_type": "code",
      "metadata": {
        "colab": {
          "base_uri": "https://localhost:8080/",
          "height": 308
        },
        "id": "6zp9KgWE4lPa",
        "outputId": "57baf87a-94be-4aca-f588-24c4ac01c327"
      },
      "source": [
        "import numpy as np\n",
        "import matplotlib.pyplot as plt\n",
        "import warnings\n",
        "warnings.filterwarnings(action='ignore')\n",
        "plt.xlabel('연도')\n",
        "plt.ylabel('고용율')\n",
        "plt.title('남자 고용률')\n",
        "plt.plot(df['연도'],df['남자'],label='남자 고용율')\n",
        "plt.legend()\n",
        "plt.xticks(np.arange(2000, 2021, step=1), rotation=45)\n",
        "plt.show()"
      ],
      "execution_count": null,
      "outputs": [
        {
          "output_type": "display_data",
          "data": {
            "image/png": "[encoded data removed]",
            "text/plain": [
              "<Figure size 432x288 with 1 Axes>"
            ]
          },
          "metadata": {
            "tags": [],
            "needs_background": "light"
          }
        }
      ]
    },
    {
      "cell_type": "code",
      "metadata": {
        "colab": {
          "base_uri": "https://localhost:8080/",
          "height": 308
        },
        "id": "x1MM05nD47Bg",
        "outputId": "a1ff0d43-6ddb-4c78-8c26-19200577cf73"
      },
      "source": [
        "import numpy as np\n",
        "import matplotlib.pyplot as plt\n",
        "import warnings\n",
        "warnings.filterwarnings(action='ignore')\n",
        "plt.xlabel('연도')\n",
        "plt.ylabel('고용율')\n",
        "plt.title('여자 고용률')\n",
        "plt.plot(df['연도'],df['여자'],label='여자 고용율',color = 'r')\n",
        "plt.legend()\n",
        "plt.xticks(np.arange(2000, 2021, step=1), rotation=45)\n",
        "plt.show()"
      ],
      "execution_count": null,
      "outputs": [
        {
          "output_type": "display_data",
          "data": {
            "image/png": "[encoded data removed]",
            "text/plain": [
              "<Figure size 432x288 with 1 Axes>"
            ]
          },
          "metadata": {
            "tags": [],
            "needs_background": "light"
          }
        }
      ]
    },
    {
      "cell_type": "code",
      "metadata": {
        "colab": {
          "base_uri": "https://localhost:8080/",
          "height": 308
        },
        "id": "NoIbV0hNl-qL",
        "outputId": "02bd3dcc-bdbd-43d3-f7cf-66f0a42da493"
      },
      "source": [
        "import numpy as np\n",
        "import matplotlib.pyplot as plt\n",
        "import warnings\n",
        "warnings.filterwarnings(action='ignore')\n",
        "plt.xlabel('연도')\n",
        "plt.ylabel('고용률')\n",
        "x = df['연도']\n",
        "y = df['남자']\n",
        "y2 = df['여자']\n",
        "y3 = df['계']\n",
        "\n",
        "plt.title('고용률')\n",
        "plt.plot(x,y,label='남자')\n",
        "plt.plot(x,y2,label='여자',color='r')\n",
        "plt.plot(x,y3,label='계',color='g')\n",
        "plt.legend(loc=2)\n",
        "plt.xticks(np.arange(2000, 2021, step=1), rotation=45)\n",
        "plt.show()\n"
      ],
      "execution_count": null,
      "outputs": [
        {
          "output_type": "display_data",
          "data": {
            "image/png": "[encoded data removed]",
            "text/plain": [
              "<Figure size 432x288 with 1 Axes>"
            ]
          },
          "metadata": {
            "tags": [],
            "needs_background": "light"
          }
        }
      ]
    },
    {
      "cell_type": "code",
      "metadata": {
        "colab": {
          "base_uri": "https://localhost:8080/",
          "height": 692
        },
        "id": "pkrKy2_ivHGm",
        "outputId": "41b8df2c-ac63-44c4-e5d8-823507aae0ad"
      },
      "source": [
        "df['남여 고용률 차이'] = df['남자'] - df['여자'] \n",
        "df"
      ],
      "execution_count": null,
      "outputs": [
        {
          "output_type": "execute_result",
          "data": {
            "text/html": [
              "<div>\n",
              "<style scoped>\n",
              "    .dataframe tbody tr th:only-of-type {\n",
              "        vertical-align: middle;\n",
              "    }\n",
              "\n",
              "    .dataframe tbody tr th {\n",
              "        vertical-align: top;\n",
              "    }\n",
              "\n",
              "    .dataframe thead th {\n",
              "        text-align: right;\n",
              "    }\n",
              "</style>\n",
              "<table border=\"1\" class=\"dataframe\">\n",
              "  <thead>\n",
              "    <tr style=\"text-align: right;\">\n",
              "      <th></th>\n",
              "      <th>연도</th>\n",
              "      <th>계</th>\n",
              "      <th>남자</th>\n",
              "      <th>여자</th>\n",
              "      <th>남여 고용률 차이</th>\n",
              "    </tr>\n",
              "  </thead>\n",
              "  <tbody>\n",
              "    <tr>\n",
              "      <th>0</th>\n",
              "      <td>2000</td>\n",
              "      <td>58.5</td>\n",
              "      <td>70.8</td>\n",
              "      <td>47.0</td>\n",
              "      <td>23.8</td>\n",
              "    </tr>\n",
              "    <tr>\n",
              "      <th>1</th>\n",
              "      <td>2001</td>\n",
              "      <td>59.0</td>\n",
              "      <td>71.1</td>\n",
              "      <td>47.7</td>\n",
              "      <td>23.4</td>\n",
              "    </tr>\n",
              "    <tr>\n",
              "      <th>2</th>\n",
              "      <td>2002</td>\n",
              "      <td>60.1</td>\n",
              "      <td>72.3</td>\n",
              "      <td>48.5</td>\n",
              "      <td>23.8</td>\n",
              "    </tr>\n",
              "    <tr>\n",
              "      <th>3</th>\n",
              "      <td>2003</td>\n",
              "      <td>59.4</td>\n",
              "      <td>72.1</td>\n",
              "      <td>47.4</td>\n",
              "      <td>24.7</td>\n",
              "    </tr>\n",
              "    <tr>\n",
              "      <th>4</th>\n",
              "      <td>2004</td>\n",
              "      <td>60.0</td>\n",
              "      <td>72.3</td>\n",
              "      <td>48.5</td>\n",
              "      <td>23.8</td>\n",
              "    </tr>\n",
              "    <tr>\n",
              "      <th>5</th>\n",
              "      <td>2005</td>\n",
              "      <td>59.9</td>\n",
              "      <td>71.9</td>\n",
              "      <td>48.6</td>\n",
              "      <td>23.3</td>\n",
              "    </tr>\n",
              "    <tr>\n",
              "      <th>6</th>\n",
              "      <td>2006</td>\n",
              "      <td>60.0</td>\n",
              "      <td>71.6</td>\n",
              "      <td>49.0</td>\n",
              "      <td>22.6</td>\n",
              "    </tr>\n",
              "    <tr>\n",
              "      <th>7</th>\n",
              "      <td>2007</td>\n",
              "      <td>60.1</td>\n",
              "      <td>71.7</td>\n",
              "      <td>49.1</td>\n",
              "      <td>22.6</td>\n",
              "    </tr>\n",
              "    <tr>\n",
              "      <th>8</th>\n",
              "      <td>2008</td>\n",
              "      <td>59.8</td>\n",
              "      <td>71.2</td>\n",
              "      <td>48.9</td>\n",
              "      <td>22.3</td>\n",
              "    </tr>\n",
              "    <tr>\n",
              "      <th>9</th>\n",
              "      <td>2009</td>\n",
              "      <td>58.8</td>\n",
              "      <td>70.2</td>\n",
              "      <td>47.8</td>\n",
              "      <td>22.4</td>\n",
              "    </tr>\n",
              "    <tr>\n",
              "      <th>10</th>\n",
              "      <td>2010</td>\n",
              "      <td>58.9</td>\n",
              "      <td>70.3</td>\n",
              "      <td>47.9</td>\n",
              "      <td>22.4</td>\n",
              "    </tr>\n",
              "    <tr>\n",
              "      <th>11</th>\n",
              "      <td>2011</td>\n",
              "      <td>59.3</td>\n",
              "      <td>70.7</td>\n",
              "      <td>48.3</td>\n",
              "      <td>22.4</td>\n",
              "    </tr>\n",
              "    <tr>\n",
              "      <th>12</th>\n",
              "      <td>2012</td>\n",
              "      <td>59.6</td>\n",
              "      <td>71.1</td>\n",
              "      <td>48.6</td>\n",
              "      <td>22.5</td>\n",
              "    </tr>\n",
              "    <tr>\n",
              "      <th>13</th>\n",
              "      <td>2013</td>\n",
              "      <td>59.8</td>\n",
              "      <td>71.1</td>\n",
              "      <td>48.9</td>\n",
              "      <td>22.2</td>\n",
              "    </tr>\n",
              "    <tr>\n",
              "      <th>14</th>\n",
              "      <td>2014</td>\n",
              "      <td>60.5</td>\n",
              "      <td>71.7</td>\n",
              "      <td>49.7</td>\n",
              "      <td>22.0</td>\n",
              "    </tr>\n",
              "    <tr>\n",
              "      <th>15</th>\n",
              "      <td>2015</td>\n",
              "      <td>60.5</td>\n",
              "      <td>71.4</td>\n",
              "      <td>50.1</td>\n",
              "      <td>21.3</td>\n",
              "    </tr>\n",
              "    <tr>\n",
              "      <th>16</th>\n",
              "      <td>2016</td>\n",
              "      <td>60.6</td>\n",
              "      <td>71.2</td>\n",
              "      <td>50.3</td>\n",
              "      <td>20.9</td>\n",
              "    </tr>\n",
              "    <tr>\n",
              "      <th>17</th>\n",
              "      <td>2017</td>\n",
              "      <td>60.8</td>\n",
              "      <td>71.2</td>\n",
              "      <td>50.8</td>\n",
              "      <td>20.4</td>\n",
              "    </tr>\n",
              "    <tr>\n",
              "      <th>18</th>\n",
              "      <td>2018</td>\n",
              "      <td>60.7</td>\n",
              "      <td>70.8</td>\n",
              "      <td>50.9</td>\n",
              "      <td>19.9</td>\n",
              "    </tr>\n",
              "    <tr>\n",
              "      <th>19</th>\n",
              "      <td>2019</td>\n",
              "      <td>60.9</td>\n",
              "      <td>70.7</td>\n",
              "      <td>51.6</td>\n",
              "      <td>19.1</td>\n",
              "    </tr>\n",
              "    <tr>\n",
              "      <th>20</th>\n",
              "      <td>2020</td>\n",
              "      <td>60.1</td>\n",
              "      <td>69.8</td>\n",
              "      <td>50.7</td>\n",
              "      <td>19.1</td>\n",
              "    </tr>\n",
              "  </tbody>\n",
              "</table>\n",
              "</div>"
            ],
            "text/plain": [
              "      연도     계    남자    여자  남여 고용률 차이\n",
              "0   2000  58.5  70.8  47.0       23.8\n",
              "1   2001  59.0  71.1  47.7       23.4\n",
              "2   2002  60.1  72.3  48.5       23.8\n",
              "3   2003  59.4  72.1  47.4       24.7\n",
              "4   2004  60.0  72.3  48.5       23.8\n",
              "5   2005  59.9  71.9  48.6       23.3\n",
              "6   2006  60.0  71.6  49.0       22.6\n",
              "7   2007  60.1  71.7  49.1       22.6\n",
              "8   2008  59.8  71.2  48.9       22.3\n",
              "9   2009  58.8  70.2  47.8       22.4\n",
              "10  2010  58.9  70.3  47.9       22.4\n",
              "11  2011  59.3  70.7  48.3       22.4\n",
              "12  2012  59.6  71.1  48.6       22.5\n",
              "13  2013  59.8  71.1  48.9       22.2\n",
              "14  2014  60.5  71.7  49.7       22.0\n",
              "15  2015  60.5  71.4  50.1       21.3\n",
              "16  2016  60.6  71.2  50.3       20.9\n",
              "17  2017  60.8  71.2  50.8       20.4\n",
              "18  2018  60.7  70.8  50.9       19.9\n",
              "19  2019  60.9  70.7  51.6       19.1\n",
              "20  2020  60.1  69.8  50.7       19.1"
            ]
          },
          "metadata": {
            "tags": []
          },
          "execution_count": 53
        }
      ]
    },
    {
      "cell_type": "code",
      "metadata": {
        "colab": {
          "base_uri": "https://localhost:8080/",
          "height": 308
        },
        "id": "_Cpc4HbHvaqq",
        "outputId": "545a616e-c754-4b59-8b93-61b8db7a649a"
      },
      "source": [
        "import numpy as np\n",
        "import matplotlib.pyplot as plt\n",
        "import warnings\n",
        "warnings.filterwarnings(action='ignore')\n",
        "plt.xlabel('연도')\n",
        "plt.ylabel('남녀 고용률 차이')\n",
        "plt.title('남녀 고용률 차이')\n",
        "plt.plot(df['연도'],df['남여 고용률 차이'],label='남녀 고용률 차이')\n",
        "plt.legend()\n",
        "plt.xticks(np.arange(2000, 2021, step=1), rotation=45)\n",
        "plt.show()"
      ],
      "execution_count": null,
      "outputs": [
        {
          "output_type": "display_data",
          "data": {
            "image/png": "[encoded data removed]",
            "text/plain": [
              "<Figure size 432x288 with 1 Axes>"
            ]
          },
          "metadata": {
            "tags": [],
            "needs_background": "light"
          }
        }
      ]
    },
    {
      "cell_type": "code",
      "metadata": {
        "colab": {
          "base_uri": "https://localhost:8080/",
          "height": 202
        },
        "id": "4KZnyqr9lrLw",
        "outputId": "e6c637de-bac6-4f9a-e3e6-5eab250f4645"
      },
      "source": [
        "#출처 : KOSIS 국가 통계포털\n",
        "import pandas as pd\n",
        "df = pd.read_csv('/content/drive/MyDrive/Colab Notebooks/수업 정리용/학생 공유/3주차_4팀/20210610/인구동태건수_및_동태율_추이_출생_사망_혼인_이혼__20210610154259.csv')\n",
        "df.head()"
      ],
      "execution_count": null,
      "outputs": [
        {
          "output_type": "execute_result",
          "data": {
            "text/html": [
              "<div>\n",
              "<style scoped>\n",
              "    .dataframe tbody tr th:only-of-type {\n",
              "        vertical-align: middle;\n",
              "    }\n",
              "\n",
              "    .dataframe tbody tr th {\n",
              "        vertical-align: top;\n",
              "    }\n",
              "\n",
              "    .dataframe thead th {\n",
              "        text-align: right;\n",
              "    }\n",
              "</style>\n",
              "<table border=\"1\" class=\"dataframe\">\n",
              "  <thead>\n",
              "    <tr style=\"text-align: right;\">\n",
              "      <th></th>\n",
              "      <th>시점</th>\n",
              "      <th>합계출산율</th>\n",
              "    </tr>\n",
              "  </thead>\n",
              "  <tbody>\n",
              "    <tr>\n",
              "      <th>0</th>\n",
              "      <td>2000</td>\n",
              "      <td>1.480</td>\n",
              "    </tr>\n",
              "    <tr>\n",
              "      <th>1</th>\n",
              "      <td>2001</td>\n",
              "      <td>1.309</td>\n",
              "    </tr>\n",
              "    <tr>\n",
              "      <th>2</th>\n",
              "      <td>2002</td>\n",
              "      <td>1.178</td>\n",
              "    </tr>\n",
              "    <tr>\n",
              "      <th>3</th>\n",
              "      <td>2003</td>\n",
              "      <td>1.191</td>\n",
              "    </tr>\n",
              "    <tr>\n",
              "      <th>4</th>\n",
              "      <td>2004</td>\n",
              "      <td>1.164</td>\n",
              "    </tr>\n",
              "  </tbody>\n",
              "</table>\n",
              "</div>"
            ],
            "text/plain": [
              "     시점  합계출산율\n",
              "0  2000  1.480\n",
              "1  2001  1.309\n",
              "2  2002  1.178\n",
              "3  2003  1.191\n",
              "4  2004  1.164"
            ]
          },
          "metadata": {
            "tags": []
          },
          "execution_count": 33
        }
      ]
    },
    {
      "cell_type": "code",
      "metadata": {
        "colab": {
          "base_uri": "https://localhost:8080/",
          "height": 877
        },
        "id": "I5GMH0Xyq7tm",
        "outputId": "963ec59b-e0bb-4200-85f7-e4e38a32c6c4"
      },
      "source": [
        "import matplotlib.pyplot as plt\n",
        "import warnings\n",
        "warnings.filterwarnings(action='ignore')\n",
        "plt.figure(figsize=(15,15))\n",
        "plt.xlabel('년')\n",
        "plt.ylabel('출산율')\n",
        "plt.plot(df['시점'],df['합계출산율'],label='합계출산율')\n",
        "plt.legend()\n",
        "plt.show()"
      ],
      "execution_count": null,
      "outputs": [
        {
          "output_type": "display_data",
          "data": {
            "image/png": "[encoded data removed]",
            "text/plain": [
              "<Figure size 1080x1080 with 1 Axes>"
            ]
          },
          "metadata": {
            "tags": [],
            "needs_background": "light"
          }
        }
      ]
    },
    {
      "cell_type": "code",
      "metadata": {
        "id": "m1Wy71mVrW7z"
      },
      "source": [
        ""
      ],
      "execution_count": null,
      "outputs": []
    }
  ]
}