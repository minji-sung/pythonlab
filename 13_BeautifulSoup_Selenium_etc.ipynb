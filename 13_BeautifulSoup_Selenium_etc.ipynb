{
  "nbformat": 4,
  "nbformat_minor": 0,
  "metadata": {
    "colab": {
      "name": "20210617_성민지_빌보드hot100.ipynb",
      "provenance": [],
      "authorship_tag": "ABX9TyNJ3zArfNmB4Rv6qdgf6qZv",
      "include_colab_link": true
    },
    "kernelspec": {
      "name": "python3",
      "display_name": "Python 3"
    },
    "language_info": {
      "name": "python"
    }
  },
  "cells": [
    {
      "cell_type": "markdown",
      "metadata": {
        "id": "view-in-github",
        "colab_type": "text"
      },
      "source": [
        "<a href=\"https://colab.research.google.com/github/minji-sung/pythonlab/blob/main/13_BeautifulSoup_Selenium_etc.ipynb\" target=\"_parent\"><img src=\"https://colab.research.google.com/assets/colab-badge.svg\" alt=\"Open In Colab\"/></a>"
      ]
    },
    {
      "cell_type": "code",
      "metadata": {
        "colab": {
          "base_uri": "https://localhost:8080/"
        },
        "id": "N3BzqWxvIz2x",
        "outputId": "5c796fcf-dd08-4100-f2a0-ce7e0e9fa738"
      },
      "source": [
        "from google.colab import drive\n",
        "drive.mount('/content/drive')"
      ],
      "execution_count": null,
      "outputs": [
        {
          "output_type": "stream",
          "text": [
            "Mounted at /content/drive\n"
          ],
          "name": "stdout"
        }
      ]
    },
    {
      "cell_type": "code",
      "metadata": {
        "colab": {
          "base_uri": "https://localhost:8080/"
        },
        "id": "AiN4ywdRMLow",
        "outputId": "8e72667f-d88f-4361-8701-7dd6a6e1f781"
      },
      "source": [
        "% cd /content/drive/MyDrive/Colab Notebooks"
      ],
      "execution_count": null,
      "outputs": [
        {
          "output_type": "stream",
          "text": [
            "/content/drive/MyDrive/Colab Notebooks\n"
          ],
          "name": "stdout"
        }
      ]
    },
    {
      "cell_type": "code",
      "metadata": {
        "id": "PiwsWE9UMEKm"
      },
      "source": [
        "f = open('새파일.txt', 'w')"
      ],
      "execution_count": null,
      "outputs": []
    },
    {
      "cell_type": "code",
      "metadata": {
        "id": "z4fOQdWgNhDb"
      },
      "source": [
        "#writedata.py\n",
        "\n",
        "f = open('새파일.txt', 'w')\n",
        "\n",
        "for i in range(1, 11):\n",
        "    data = '%d번째 줄입니다.\\n'%i\n",
        "    #%d & %i 두개가 매칭: f''랑 같은것\n",
        "    #\\n 은 밑줄로 내리기\n",
        "    f.write(data)\n",
        "\n",
        "f.close()"
      ],
      "execution_count": null,
      "outputs": []
    },
    {
      "cell_type": "code",
      "metadata": {
        "colab": {
          "base_uri": "https://localhost:8080/"
        },
        "id": "EJNbDMrmOi_V",
        "outputId": "5a1e87fe-105a-49fd-c8e4-aa680d3b7963"
      },
      "source": [
        "#파일 읽기\n",
        "\n",
        "f = open('새파일.txt', 'r')\n",
        "line = f.readline()\n",
        "#readline 은 한 줄 / Readlines 면 전부\n",
        "print(line)\n",
        "f.close()\n"
      ],
      "execution_count": null,
      "outputs": [
        {
          "output_type": "stream",
          "text": [
            "1번째 줄입니다.\n",
            "\n"
          ],
          "name": "stdout"
        }
      ]
    },
    {
      "cell_type": "code",
      "metadata": {
        "colab": {
          "base_uri": "https://localhost:8080/"
        },
        "id": "eOVUDimAPVaV",
        "outputId": "70ec2b62-be9c-40fe-aff2-2263d6c8597b"
      },
      "source": [
        "f = open('새파일.txt', 'r')\n",
        "while True:\n",
        "    line = f.readline()\n",
        "    if not line:\n",
        "        break\n",
        "    print(line)\n",
        "f.close()"
      ],
      "execution_count": null,
      "outputs": [
        {
          "output_type": "stream",
          "text": [
            "1번째 줄입니다.\n",
            "\n",
            "2번째 줄입니다.\n",
            "\n",
            "3번째 줄입니다.\n",
            "\n",
            "4번째 줄입니다.\n",
            "\n",
            "5번째 줄입니다.\n",
            "\n",
            "6번째 줄입니다.\n",
            "\n",
            "7번째 줄입니다.\n",
            "\n",
            "8번째 줄입니다.\n",
            "\n",
            "9번째 줄입니다.\n",
            "\n",
            "10번째 줄입니다.\n",
            "\n"
          ],
          "name": "stdout"
        }
      ]
    },
    {
      "cell_type": "code",
      "metadata": {
        "colab": {
          "base_uri": "https://localhost:8080/"
        },
        "id": "i8XtZVn-PwJR",
        "outputId": "7d71142d-9512-4fdd-e477-a0e32d2bb424"
      },
      "source": [
        "f = open('새파일.txt', 'r')\n",
        "lines = f.readlines()\n",
        "for line in lines:\n",
        "    print(line)\n",
        "f.close()"
      ],
      "execution_count": null,
      "outputs": [
        {
          "output_type": "stream",
          "text": [
            "1번째 줄입니다.\n",
            "\n",
            "2번째 줄입니다.\n",
            "\n",
            "3번째 줄입니다.\n",
            "\n",
            "4번째 줄입니다.\n",
            "\n",
            "5번째 줄입니다.\n",
            "\n",
            "6번째 줄입니다.\n",
            "\n",
            "7번째 줄입니다.\n",
            "\n",
            "8번째 줄입니다.\n",
            "\n",
            "9번째 줄입니다.\n",
            "\n",
            "10번째 줄입니다.\n",
            "\n"
          ],
          "name": "stdout"
        }
      ]
    },
    {
      "cell_type": "code",
      "metadata": {
        "colab": {
          "base_uri": "https://localhost:8080/"
        },
        "id": "IuXvs9BDP2bX",
        "outputId": "d5a147a4-d0ae-4d8f-92fe-98c302ef6277"
      },
      "source": [
        "f = open('새파일.txt', 'r')\n",
        "data = f.read()\n",
        "print(data)\n",
        "f.close()"
      ],
      "execution_count": null,
      "outputs": [
        {
          "output_type": "stream",
          "text": [
            "1번째 줄입니다.\n",
            "2번째 줄입니다.\n",
            "3번째 줄입니다.\n",
            "4번째 줄입니다.\n",
            "5번째 줄입니다.\n",
            "6번째 줄입니다.\n",
            "7번째 줄입니다.\n",
            "8번째 줄입니다.\n",
            "9번째 줄입니다.\n",
            "10번째 줄입니다.\n",
            "\n"
          ],
          "name": "stdout"
        }
      ]
    },
    {
      "cell_type": "code",
      "metadata": {
        "id": "x7GvAgO3Q4z_"
      },
      "source": [
        "f = open('새파일.txt', 'a') #append \n",
        "for i in range(11, 21):\n",
        "    data = '%d번째 줄입니다.\\n' % i\n",
        "    f.write(data)\n",
        "f.close()"
      ],
      "execution_count": null,
      "outputs": []
    },
    {
      "cell_type": "code",
      "metadata": {
        "colab": {
          "base_uri": "https://localhost:8080/"
        },
        "id": "DiNHL9k3RcPA",
        "outputId": "32204634-8dd9-4cb9-a566-a733070e7118"
      },
      "source": [
        "#파일 삭제\n",
        "\n",
        "import os\n",
        "file = '새파일.txt'\n",
        "if os.path.isfile(file):\n",
        "    os.remove(file)\n",
        "    print(f'{file}파일이 삭제되었습니다')"
      ],
      "execution_count": null,
      "outputs": [
        {
          "output_type": "stream",
          "text": [
            "새파일.txt파일이 삭제되었습니다\n"
          ],
          "name": "stdout"
        }
      ]
    },
    {
      "cell_type": "code",
      "metadata": {
        "id": "ID7x-0LWSEsI"
      },
      "source": [
        "import random\n",
        "f = open('sample.txt', 'w')\n",
        "for i in range(10):\n",
        "    num = str(random.randint(1, 100))\n",
        "    f.write(num + '\\n')\n",
        "f.close()"
      ],
      "execution_count": null,
      "outputs": []
    },
    {
      "cell_type": "code",
      "metadata": {
        "colab": {
          "base_uri": "https://localhost:8080/"
        },
        "id": "lptEvf5jSRRt",
        "outputId": "d47b9a64-cf17-4a74-dfcb-1fd326d2820f"
      },
      "source": [
        "f = open('sample.txt', 'r')\n",
        "data = f.read()\n",
        "print(data)\n",
        "f.close()"
      ],
      "execution_count": null,
      "outputs": [
        {
          "output_type": "stream",
          "text": [
            "83\n",
            "68\n",
            "6\n",
            "15\n",
            "16\n",
            "30\n",
            "88\n",
            "75\n",
            "48\n",
            "83\n",
            "\n"
          ],
          "name": "stdout"
        }
      ]
    },
    {
      "cell_type": "code",
      "metadata": {
        "colab": {
          "base_uri": "https://localhost:8080/"
        },
        "id": "Hn_k4sxQSwtH",
        "outputId": "eda884cf-291c-440e-8158-375af1daf41b"
      },
      "source": [
        "f = open('sample.txt', 'r')\n",
        "data = f.read()\n",
        "\n",
        "a = [83, 68, 6, 15, 16, 30, 88, 75, 48, 83]\n",
        "\n",
        "print(sum(a))\n",
        "print(sum(a)/10)\n",
        "\n"
      ],
      "execution_count": null,
      "outputs": [
        {
          "output_type": "stream",
          "text": [
            "512\n",
            "51.2\n"
          ],
          "name": "stdout"
        }
      ]
    },
    {
      "cell_type": "code",
      "metadata": {
        "id": "in6iatdhYTGc"
      },
      "source": [
        "f = open(\"sample.txt\", \"r\")\n",
        "lines = f.readlines()\n",
        "num_sum = 0 \n",
        "num_cnt = 0\n",
        "for line in lines:\n",
        "    num_sum += int(line)\n",
        "    num_cnt += 1\n",
        "f.close()\n",
        "if num_cnt == 0:\n",
        "    print('숫자가 없습니다')\n",
        "else:\n",
        "    print ('총계',num_sum, '평균', round((num_sum/num_cnt),2))\n",
        "    f = open(\"result.txt\", \"w\")\n",
        "    f.write(f'총합은 {num_sum}입니다\\n')\n",
        "    f.write(f'평균은 {round((num_sum/num_cnt),2)}입니다\\n')\n",
        "    f.close()"
      ],
      "execution_count": null,
      "outputs": []
    },
    {
      "cell_type": "markdown",
      "metadata": {
        "id": "6wWf2jz_WFUU"
      },
      "source": [
        "### OpenAPI\n",
        "Open Application Programming Interface "
      ]
    },
    {
      "cell_type": "code",
      "metadata": {
        "id": "U1kWPxn8WC5x"
      },
      "source": [
        "import urllib.request\n",
        "import json"
      ],
      "execution_count": null,
      "outputs": []
    },
    {
      "cell_type": "code",
      "metadata": {
        "id": "OkKZ0gXSWMHK"
      },
      "source": [
        "import urllib.request\n",
        "import json\n",
        "\n",
        "client_id = 'sRtbtDj2HsaexT5wdR69'\n",
        "client_secret = 'S9ICqov8hw'\n",
        "\n",
        "#도서검색 url\n",
        "#디폴트(json) https://openapi.naver.com/v1/search/book?query=python&display=3&sort=count\n",
        "#json 방식 https://openapi.naver.com/v1/search/book.json?query=python&display=3&sort=count\n",
        "#xml 방식  https://openapi.naver.com/v1/search/book.xml?query=python&display=3&sort=count\n",
        "\n",
        "# 도서검색 url 과 옵션 설정\n",
        "url = \"https://openapi.naver.com/v1/search/book.json\"\n",
        "option = \"&display=3&sort=count\"\n",
        "\n",
        "# 쿼리 문자열에 맞게 변환\n",
        "query = \"?query=\"+urllib.parse.quote(input(\"질의:\"))\n",
        "url_query = url + query + option\n",
        " \n",
        "#Open API 검색 요청 개체 설정\n",
        "request = urllib.request.Request(url_query)\n",
        "request.add_header(\"X-Naver-Client-Id\",client_id)\n",
        "request.add_header(\"X-Naver-Client-Secret\",client_secret)\n",
        " \n",
        "#검색 요청 및 처리\n",
        "response = urllib.request.urlopen(request)\n",
        "rescode = response.getcode()\n",
        "if(rescode == 200):\n",
        "    response_body = response.read()\n",
        "    print(response_body.decode('utf-8'))\n",
        "else:\n",
        "    print(\"Error code:\"+rescode)"
      ],
      "execution_count": null,
      "outputs": []
    },
    {
      "cell_type": "code",
      "metadata": {
        "colab": {
          "base_uri": "https://localhost:8080/"
        },
        "id": "Vp5lGkgrcLAC",
        "outputId": "998d1b6e-563b-4c95-da1a-4a74921b23aa"
      },
      "source": [
        "#제목: 네이버 검색 API 활용하기\n",
        "#import\n",
        "import urllib.request\n",
        "import json\n",
        "\n",
        "#애플리케이션 클라이언트 id 및 secret\n",
        "client_id = \"sRtbtDj2HsaexT5wdR69\"\n",
        "client_secret = \"S9ICqov8hw\"\n",
        "\n",
        "# 다음은 python을 질의로 count 정렬 방식의 3개의 결과를 검색 요청하는 예제 쿼리 문자열입니다.\n",
        "#디폴트(json) https://openapi.naver.com/v1/search/book?query=python&display=3&sort=count\n",
        "#json 방식 https://openapi.naver.com/v1/search/book.json?query=python&display=3&sort=count\n",
        "#xml 방식  https://openapi.naver.com/v1/search/book.xml?query=python&display=3&sort=count\n",
        "\n",
        "# 도서 검색 url과 옵션을 설정하세요.\n",
        "url = \"https://openapi.naver.com/v1/search/book.json\"\n",
        "option = \"&display=3&sort=count\"\n",
        "\n",
        "# 사용자로부터 입력받은 질의를 쿼리 문자열에 맞게 변환하세요.\n",
        "query = \"?query=\"+urllib.parse.quote(input(\"책이름:\"))\n",
        "\n",
        "# 이제 도서 검색 url과 검색 질의 및 옵션을 하나의 쿼리 문자열로 설정합니다.\n",
        "url_query = url + query + option\n",
        "\n",
        "# 실제 Open API에 검색 요청을 위한 개체를 설정\n",
        "# 쿼리 문자열을 입력 인자로 Request 개체를 생성\n",
        "# 클라이언트 id와 클라이언트 secret을 헤더에 추가합니다. \n",
        "# 헤더에 추가하는 것은 네이버 개발자센터의 정책\n",
        "\n",
        "#Open API 검색 요청 개체 설정: 이건 고정\n",
        "request = urllib.request.Request(url_query)\n",
        "request.add_header(\"X-Naver-Client-Id\",client_id)\n",
        "request.add_header(\"X-Naver-Client-Secret\",client_secret)\n",
        "\n",
        "#검색 요청 및 처리\n",
        "response = urllib.request.urlopen(request)\n",
        "rescode = response.getcode()\n",
        "\n",
        "# 만약 검색 요청한 결과가 200이면 정상적으로 성공\n",
        "if(rescode == 200):\n",
        "    response_body = response.read().decode('utf-8')\n",
        "    # print(response_body.decode('utf-8'))\n",
        "    print(response_body)\n",
        "else:\n",
        "    print(\"Error code:\"+rescode)\n",
        "\n",
        "# 검색결과 출력\n",
        "j_result = json.loads(response_body)\n",
        "if j_result == None:\n",
        "    print('json.load 실패')\n",
        "    exit()\n",
        "# j_result['items'] 내용은 딕셔너리\n",
        "\n",
        "for item in j_result['items']:\n",
        "    print('\\n제목: ' + item['title'])\n",
        "    print('저자: ' + item['author'])\n",
        "    print('설명: ' + item['description'])\n",
        "    print('url: ' + item['link'])\n",
        "    print('가격: ' + item['price'])\n",
        "    print('\\n')\n"
      ],
      "execution_count": null,
      "outputs": [
        {
          "output_type": "stream",
          "text": [
            "책이름:문과생을 위한 파이썬\n",
            "{\n",
            "\"lastBuildDate\": \"Thu, 17 Jun 2021 14:39:47 +0900\",\n",
            "\"total\": 1,\n",
            "\"start\": 1,\n",
            "\"display\": 1,\n",
            "\"items\": [\n",
            "{\n",
            "\"title\": \"<b>문과생을 위한 파이썬</b>\",\n",
            "\"link\": \"http://book.naver.com/bookdb/book_detail.php?bid=16395933\",\n",
            "\"image\": \"https://bookthumb-phinf.pstatic.net/cover/163/959/16395933.jpg?type=m1&udate=20201223\",\n",
            "\"author\": \"홍성인\",\n",
            "\"price\": \"18500\",\n",
            "\"discount\": \"16650\",\n",
            "\"publisher\": \"인디라이프\",\n",
            "\"pubdate\": \"20200701\",\n",
            "\"isbn\": \"1196411727 9791196411725\",\n",
            "\"description\": \"이를 통하여 이 책 한 권을 마무리하는 시점에는 누구나 자신의 업무를 직접 파이썬으로 컴퓨터화 할 수 있다는 자신감을 갖게 될 것이다. \\n‘<b>문과생을 위한 파이썬</b>’의 독자들은 이제 ‘인문학과 과학 기술의 교차점’에 자리잡고 새로운 세계를 경험하게 될 것이다.\"\n",
            "\n",
            "}\n",
            "]\n",
            "}\n",
            "\n",
            "\n",
            "제목: <b>문과생을 위한 파이썬</b>\n",
            "저자: 홍성인\n",
            "설명: 이를 통하여 이 책 한 권을 마무리하는 시점에는 누구나 자신의 업무를 직접 파이썬으로 컴퓨터화 할 수 있다는 자신감을 갖게 될 것이다. \n",
            "‘<b>문과생을 위한 파이썬</b>’의 독자들은 이제 ‘인문학과 과학 기술의 교차점’에 자리잡고 새로운 세계를 경험하게 될 것이다.\n",
            "url: http://book.naver.com/bookdb/book_detail.php?bid=16395933\n",
            "가격: 18500\n",
            "\n",
            "\n"
          ],
          "name": "stdout"
        }
      ]
    },
    {
      "cell_type": "markdown",
      "metadata": {
        "id": "uy0hB22GgyNv"
      },
      "source": [
        "## Selenium"
      ]
    },
    {
      "cell_type": "code",
      "metadata": {
        "id": "bdNN1PVtgxCg"
      },
      "source": [
        "!pip install Selenium\n",
        "\n",
        "!apt-get update # to update ubuntu to correctly run apt install\n",
        "\n",
        "!apt install chromium-chromedriver"
      ],
      "execution_count": null,
      "outputs": []
    },
    {
      "cell_type": "code",
      "metadata": {
        "colab": {
          "base_uri": "https://localhost:8080/"
        },
        "id": "Sb7K-7LagaCJ",
        "outputId": "e7f2e8f6-cf62-47d4-da36-53eae866da91"
      },
      "source": [
        "from selenium import webdriver\n",
        "\n",
        "chrome_options = webdriver.ChromeOptions()\n",
        "chrome_options.add_argument('--headless') #내부 창을 띄울 수 없으므로 설정\n",
        "chrome_options.add_argument('--no-sandbox')\n",
        "chrome_options.add_argument('--disable-dev-shm-usage')\n",
        "wd = webdriver.Chrome('chromedriver',chrome_options=chrome_options)\n",
        "\n",
        "wd.get('https://google.com')\n",
        "print(wd.current_url)"
      ],
      "execution_count": null,
      "outputs": [
        {
          "output_type": "stream",
          "text": [
            "/usr/local/lib/python3.7/dist-packages/ipykernel_launcher.py:7: DeprecationWarning: use options instead of chrome_options\n",
            "  import sys\n"
          ],
          "name": "stderr"
        },
        {
          "output_type": "stream",
          "text": [
            "https://www.google.com/\n"
          ],
          "name": "stdout"
        }
      ]
    },
    {
      "cell_type": "code",
      "metadata": {
        "colab": {
          "base_uri": "https://localhost:8080/"
        },
        "id": "nEyZhvN8gdh8",
        "outputId": "0a6e4422-5ed6-4538-918c-f8a2bb6a6983"
      },
      "source": [
        "import time\n",
        "\n",
        "time.sleep(2.5)\n",
        "keyword = 'BTS butter wiki'\n",
        "element = wd.find_element_by_name('q')      #검색어창 q\n",
        "element.send_keys(keyword)\n",
        "element.submit()\n",
        "print(wd.current_url)"
      ],
      "execution_count": null,
      "outputs": [
        {
          "output_type": "stream",
          "text": [
            "https://www.google.com/search?q=Butter+BTS+wikiBTS+butter+wiki&ei=vevKYJTuN8GHwbkPoJaXWA\n"
          ],
          "name": "stdout"
        }
      ]
    },
    {
      "cell_type": "code",
      "metadata": {
        "id": "wRiinAoVm9BA"
      },
      "source": [
        ""
      ],
      "execution_count": null,
      "outputs": []
    },
    {
      "cell_type": "code",
      "metadata": {
        "id": "w7Nk1KEjlkiY"
      },
      "source": [
        "from bs4 import BeautifulSoup\n",
        "import requests\n",
        "html = wd.page_source\n",
        "bs = BeautifulSoup(html, 'html.parser')\n",
        "#print(bs.find_all('a'))\n",
        "top_list = bs.find_all('a',href=True)"
      ],
      "execution_count": null,
      "outputs": []
    },
    {
      "cell_type": "code",
      "metadata": {
        "id": "Mzg96Yhol8DF"
      },
      "source": [
        "\n",
        "for top in top_list:\n",
        "#   print(top.attrs['href'])\n",
        "    if( 'en.wikipedia' in top.text ):\n",
        "        html1 = top.attrs['href']\n",
        "        response = requests.get(html1)\n",
        "        if response.status_code == 200:\n",
        "            html1 = response.text\n",
        "            bs1 = BeautifulSoup(html1, 'html.parser')\n",
        "        else : \n",
        "            print(response.status_code)\n",
        "        break\n",
        "\n",
        "print(\"//////////////////////////// \" + \"노래명, 가수 : \" + keyword)\n",
        "\n",
        "tr_list = bs1.find_all('tr')\n",
        "for i in tr_list:\n",
        "    print(i.get_text())\n",
        "wd.quit()"
      ],
      "execution_count": null,
      "outputs": []
    },
    {
      "cell_type": "markdown",
      "metadata": {
        "id": "vTlq8QyBnXLs"
      },
      "source": [
        "## 빌보드 hot 100\n",
        "1. 대상사이트\n",
        "https://www.billboard.com/charts/hot-100\n",
        "2. 크롤링 내용\n",
        "빌보드 차트 순위 100 사이트에서 순위, 곡, 아티스트 정보를 BeutifulSoup으로 크롤링하여 csv파일로 저장하기"
      ]
    },
    {
      "cell_type": "code",
      "metadata": {
        "id": "bmlcHIFcnWJS"
      },
      "source": [
        "from bs4 import BeautifulSoup\n",
        "import requests\n",
        "import csv\n",
        "\n",
        "csv_filename = \"./hot_chart100.csv\"\n",
        "csv_open = open(csv_filename, \"w+\", encoding='utf-8')\n",
        "csv_writer = csv.writer(csv_open)\n",
        "csv_writer.writerow( ('Rank', 'Song Title', 'Singer', ) )\n",
        "\n",
        "req = requests.get('https://www.billboard.com/charts/hot-100')\n",
        "html = req.text\n",
        "soup = BeautifulSoup(html, 'html.parser')\n",
        "\n",
        "rank_list = soup.select('.chart-element__rank__number')\n",
        "song_list = soup.select('.chart-element__information__song')\n",
        "singer_list = soup.select('.chart-element__information__artist')\n",
        "\n",
        "for i in range(0, 100):\n",
        "    csv_writer.writerow( (rank_list[i].text, song_list[i].text, singer_list[i].text, ) )\n",
        "    # print(rank_list[i].text, song_list[i].text, singer_list[i].text)\n",
        "\n",
        "csv_open.close()"
      ],
      "execution_count": null,
      "outputs": []
    },
    {
      "cell_type": "code",
      "metadata": {
        "id": "SHTJNNREoFc5"
      },
      "source": [
        "# 만들어진 파일에 항목 추가\n",
        "\n",
        "import pandas as pd\n",
        "csv_test = pd.read_csv('./hot_chart100.csv')\n",
        "csv_test.shape # number of rows, columns\n",
        "\n",
        "csv_test['SongWriter'] = ''\n",
        "csv_test['Producer'] = ''\n",
        "csv_test.to_csv('./hot_new100.csv')\n",
        "df = pd.read_csv('./hot_new100.csv')"
      ],
      "execution_count": null,
      "outputs": []
    },
    {
      "cell_type": "markdown",
      "metadata": {
        "id": "iK7BvUN0obFJ"
      },
      "source": [
        "데이터 1건 테스트"
      ]
    },
    {
      "cell_type": "code",
      "metadata": {
        "colab": {
          "base_uri": "https://localhost:8080/"
        },
        "id": "ODGnV0kuodtk",
        "outputId": "971f8faf-346d-4b81-afca-b787b80d4f69"
      },
      "source": [
        "from selenium import webdriver\n",
        "chrome_options = webdriver.ChromeOptions()\n",
        "chrome_options.add_argument('--headless') #내부 창을 띄울 수 없으므로 설정\n",
        "chrome_options.add_argument('--no-sandbox')\n",
        "chrome_options.add_argument('--disable-dev-shm-usage')\n",
        "wd = webdriver.Chrome('chromedriver',chrome_options=chrome_options)\n"
      ],
      "execution_count": null,
      "outputs": [
        {
          "output_type": "stream",
          "text": [
            "/usr/local/lib/python3.7/dist-packages/ipykernel_launcher.py:6: DeprecationWarning: use options instead of chrome_options\n",
            "  \n"
          ],
          "name": "stderr"
        }
      ]
    },
    {
      "cell_type": "markdown",
      "metadata": {
        "id": "xVUWzAbzD2aA"
      },
      "source": [
        "## 별에별 시도"
      ]
    },
    {
      "cell_type": "code",
      "metadata": {
        "colab": {
          "base_uri": "https://localhost:8080/"
        },
        "id": "cSITR5ViohIV",
        "outputId": "8f219c2a-9ba1-4419-f97d-a26dc5324ccc"
      },
      "source": [
        "import pandas as pd\n",
        "import time\n",
        "df = pd.read_csv('./hot_new100.csv')\n",
        "time.sleep(2.5) ## 0.5초\n",
        "wd.get(\"https://google.com\")\n",
        "print(wd.current_url)\n",
        "\n",
        "song = df['Song Title'][0]\n",
        "artist = df['Singer'][0]\n",
        "keyword = str(song) + ' ' + str(artist) + ' wiki'\n",
        "print(keyword)\n",
        "\n",
        "# driver.find_element_by_name(<element의 name>).send_keys(<검색어>) \n",
        "element = wd.find_element_by_name('q')\n",
        "element.send_keys(keyword)\n",
        "element.submit()\n",
        "print(wd.current_url)\n",
        "# elem = wd.find_element_by_css_seletor('div.yuRUbf') \n",
        "# elem.click()\n",
        "print(wd.current_url)\n",
        "print('-----------------')\n",
        "html = wd.page_source\n",
        "bs = BeautifulSoup(html, 'html.parser')\n",
        "print(bs.find_all('a'))\n",
        "\n",
        "top_list = bs.find_all('a',href=True)\n",
        "for top in top_list:\n",
        "   \n",
        "#   print(top.attrs['href'])\n",
        "    if( 'en.wikipedia' in top.text ):\n",
        "     \n",
        "        print('='*50)\n",
        "        html1 = top.attrs['href']\n",
        "        response = requests.get(html1)\n",
        "        if response.status_code == 200:\n",
        "            html1 = response.text\n",
        "            bs1 = BeautifulSoup(html1, 'html.parser')\n",
        "        else : \n",
        "            print(response.status_code)\n",
        "        \n",
        "        break\n",
        "\n",
        "##### 위키 곡정보 페이지  #####\n",
        "    # writer,producer \n",
        "\n",
        "print(\"//////////////////////////// \" + \"Songwriter, Producer : \" + keyword)\n",
        "\n",
        "top_list1 = bs1.find_all('tr')  \n",
        "atitle = soup.find('Songwriter(s)')\n",
        "ul = soup.select_one('ul.basic1')\n",
        "\n",
        "\n",
        "for top in top_list1:\n",
        "    if('en.wikipedia' in top.text):\n",
        "        response = requests.get(html1)\n",
        "        if response.status_code == 200:\n",
        "            html1 = response.text\n",
        "            bs1 = BeautifulSoup(html1, 'html.parser')\n",
        "            locate='#mw-content-text > div.mw-parser-output > table.infobox.vevent > tbody > tr:nth-child(9) > th > span > a'\n",
        "            for i in locate:\n",
        "                print(wd.find_element_by_css_selector(locate).text)\n",
        "\n",
        "        else : \n",
        "            print(response.status_code)\n",
        "        break\n",
        "\n",
        "#print(tag_names)\n",
        "# tr_list1 = bs1.find_all('tr')\n",
        "#for top in atitle:\n",
        "#    print(top.get_text())\n",
        "\n",
        "#df.head(10)\n",
        "#wd.quit()\n"
      ],
      "execution_count": null,
      "outputs": [
        {
          "output_type": "stream",
          "text": [
            "https://www.google.com/\n",
            "Butter BTS wiki\n",
            "https://www.google.com/search?q=Butter+BTS+wiki&source=hp&ei=EADLYLrCMpiawbkPxq-OuAg&iflsig=AINFCbYAAAAAYMsOIOZCmu1N472fw74XdcSncgCsn-w-\n",
            "https://www.google.com/search?q=Butter+BTS+wiki&source=hp&ei=EADLYLrCMpiawbkPxq-OuAg&iflsig=AINFCbYAAAAAYMsOIOZCmu1N472fw74XdcSncgCsn-w-\n",
            "-----------------\n",
            "[<a href=\"/search?q=Butter+BTS+wiki&amp;gbv=1&amp;sei=EQDLYMWTGbKbwbkP3ZSs2A4\">here</a>, <a class=\"gyPpGe\" data-ved=\"0ahUKEwiF4KbOmJ7xAhWyTTABHV0KC-sQ67oDCAU\" jsaction=\"i3viod\" jsname=\"BKxS1e\" role=\"link\" tabindex=\"0\">Skip to main content</a>, <a class=\"gyPpGe\" href=\"https://support.google.com/websearch/answer/181196?hl=en\" jsname=\"KI37ad\" onmousedown=\"return rwt(this,'','','','','AOvVaw3elFYWr3XjJhjNYthIzFcp','','0ahUKEwiF4KbOmJ7xAhWyTTABHV0KC-sQwcMDCAY','','',event)\">Accessibility help</a>, <a class=\"gyPpGe\" data-async-trigger=\"duf3-78\" jsaction=\"trigger.szjOR\" jsname=\"JUypV\" role=\"link\" tabindex=\"0\">Accessibility feedback</a>, <a data-hveid=\"8\" href=\"https://www.google.com/webhp?hl=en&amp;sa=X&amp;ved=0ahUKEwiF4KbOmJ7xAhWyTTABHV0KC-sQPAgI\" id=\"logo\" title=\"Go to Google Home\"><img alt=\"Google\" data-atf=\"1\" height=\"30\" src=\"/images/branding/googlelogo/2x/googlelogo_color_92x30dp.png\" width=\"92\"/></a>, <a class=\"oBa0Fe wrSo4 aciXEb\" data-async-trigger=\"duf3-46\" data-ved=\"0ahUKEwiF4KbOmJ7xAhWyTTABHV0KC-sQtw8IEA\" href=\"#\" id=\"sbfblt\" jsaction=\"trigger.szjOR\" role=\"button\">Report inappropriate predictions</a>, <a class=\"hide-focus-ring\" data-hveid=\"CAEQAw\" href=\"/search?q=Butter+BTS+wiki&amp;source=lnms&amp;tbm=vid&amp;sa=X&amp;ved=2ahUKEwiF4KbOmJ7xAhWyTTABHV0KC-sQ_AUoAXoECAEQAw\"><span class=\"bmaJhd iJddsb\" style=\"height:16px;width:16px\"><svg focusable=\"false\" viewbox=\"0 0 24 24\"><path d=\"M10 16.5l6-4.5-6-4.5v9zM5 20h14a1 1 0 0 0 1-1V5a1 1 0 0 0-1-1H5a1 1 0 0 0-1 1v14a1 1 0 0 0 1 1zm14.5 2H5a3 3 0 0 1-3-3V4.4A2.4 2.4 0 0 1 4.4 2h15.2A2.4 2.4 0 0 1 22 4.4v15.1a2.5 2.5 0 0 1-2.5 2.5\"></path></svg></span>Videos</a>, <a class=\"hide-focus-ring\" data-hveid=\"CAEQBA\" href=\"/search?q=Butter+BTS+wiki&amp;source=lnms&amp;tbm=isch&amp;sa=X&amp;ved=2ahUKEwiF4KbOmJ7xAhWyTTABHV0KC-sQ_AUoAnoECAEQBA\"><span class=\"bmaJhd iJddsb\" style=\"height:16px;width:16px\"><svg focusable=\"false\" viewbox=\"0 0 24 24\"><path d=\"M14 13l4 5H6l4-4 1.79 1.78L14 13zm-6.01-2.99A2 2 0 0 0 8 6a2 2 0 0 0-.01 4.01zM22 5v14a3 3 0 0 1-3 2.99H5c-1.64 0-3-1.36-3-3V5c0-1.64 1.36-3 3-3h14c1.65 0 3 1.36 3 3zm-2.01 0a1 1 0 0 0-1-1H5a1 1 0 0 0-1 1v14a1 1 0 0 0 1 1h7v-.01h7a1 1 0 0 0 1-1V5\"></path></svg></span>Images</a>, <a class=\"hide-focus-ring\" data-hveid=\"CAEQBQ\" href=\"/search?q=Butter+BTS+wiki&amp;source=lnms&amp;tbm=nws&amp;sa=X&amp;ved=2ahUKEwiF4KbOmJ7xAhWyTTABHV0KC-sQ_AUoA3oECAEQBQ\"><span class=\"bmaJhd iJddsb\" style=\"height:16px;width:16px\"><svg focusable=\"false\" viewbox=\"0 0 24 24\"><path d=\"M12 11h6v2h-6v-2zm-6 6h12v-2H6v2zm0-4h4V7H6v6zm16-7.22v12.44c0 1.54-1.34 2.78-3 2.78H5c-1.64 0-3-1.25-3-2.78V5.78C2 4.26 3.36 3 5 3h14c1.64 0 3 1.25 3 2.78zM19.99 12V5.78c0-.42-.46-.78-1-.78H5c-.54 0-1 .36-1 .78v12.44c0 .42.46.78 1 .78h14c.54 0 1-.36 1-.78V12zM12 9h6V7h-6v2\"></path></svg></span>News</a>, <a class=\"hide-focus-ring\" data-hveid=\"CAEQBg\" href=\"https://maps.google.com/maps?q=Butter+BTS+wiki&amp;iflsig=AINFCbYAAAAAYMsOIOZCmu1N472fw74XdcSncgCsn-w-&amp;um=1&amp;ie=UTF-8&amp;sa=X&amp;ved=2ahUKEwiF4KbOmJ7xAhWyTTABHV0KC-sQ_AUoBHoECAEQBg\"><span class=\"bmaJhd iJddsb\" style=\"height:16px;width:16px\"><svg focusable=\"false\" viewbox=\"0 0 16 16\"><path d=\"M7.503 0c3.09 0 5.502 2.487 5.502 5.427 0 2.337-1.13 3.694-2.26 5.05-.454.528-.906 1.13-1.358 1.734-.452.603-.754 1.508-.98 1.96-.226.452-.377.829-.904.829-.528 0-.678-.377-.905-.83-.226-.451-.527-1.356-.98-1.959-.452-.603-.904-1.206-1.356-1.734C3.132 9.121 2 7.764 2 5.427 2 2.487 4.412 0 7.503 0zm0 1.364c-2.283 0-4.14 1.822-4.14 4.063 0 1.843.86 2.873 1.946 4.177.468.547.942 1.178 1.4 1.79.34.452.596.99.794 1.444.198-.455.453-.992.793-1.445.459-.61.931-1.242 1.413-1.803 1.074-1.29 1.933-2.32 1.933-4.163 0-2.24-1.858-4.063-4.139-4.063zm0 2.734a1.33 1.33 0 11-.001 2.658 1.33 1.33 0 010-2.658\"></path></svg></span>Maps</a>, <a aria-haspopup=\"true\" class=\"hide-focus-ring GOE98c CaY96\" href=\"/preferences\" id=\"abar_button_opt\" jsaction=\"WFrRFb;keydown:uYT2Vb\" onmousedown=\"return rwt(this,'','','','','AOvVaw0OF5nJgUk6CtyQZljEZa3L','','2ahUKEwiF4KbOmJ7xAhWyTTABHV0KC-sQn_YBegQIARAP','','',event)\" role=\"button\">Settings</a>, <a data-ved=\"2ahUKEwiF4KbOmJ7xAhWyTTABHV0KC-sQFjAAegQIBRAD\" href=\"https://en.wikipedia.org/wiki/Butter_(song)\" onmousedown=\"return rwt(this,'','','','','AOvVaw0NonK0sb_CN231SzrHWjb7','','2ahUKEwiF4KbOmJ7xAhWyTTABHV0KC-sQFjAAegQIBRAD','','',event)\"><br/><h3 class=\"LC20lb DKV0Md\">Butter (song) - Wikipedia</h3><div class=\"TbwUpd NJjxre\"><cite class=\"iUh30 Zu0yb qLRx3b tjvcx\">https://en.wikipedia.org<span class=\"dyjrff qzEoUe\"> › wiki › Butter_(song)</span></cite></div></a>, <a href=\"https://en.wikipedia.org/wiki/Jenna_Andrews\" onmousedown=\"return rwt(this,'','','','','AOvVaw2EtJzzac0Aeu4nJ2D7JJZM','','2ahUKEwiF4KbOmJ7xAhWyTTABHV0KC-sQs2YoADAAegQIBRAS','','',event)\">Jenna Andrews</a>, <a href=\"https://en.wikipedia.org/wiki/Dance-pop\" onmousedown=\"return rwt(this,'','','','','AOvVaw0dxrgmowGCki4q2SRytLky','','2ahUKEwiF4KbOmJ7xAhWyTTABHV0KC-sQs2YoADAAegQIBRAV','','',event)\">Dance-pop</a>, <a href=\"https://en.wikipedia.org/wiki/Electronic_dance_music\" onmousedown=\"return rwt(this,'','','','','AOvVaw1C-73uaAbgMTS4ffBTBN92','','2ahUKEwiF4KbOmJ7xAhWyTTABHV0KC-sQs2YoATAAegQIBRAW','','',event)\">EDM</a>, <a href=\"https://en.wikipedia.org/wiki/Butter_(song)#Composition_and_lyrics\" onmousedown=\"return rwt(this,'','','','','AOvVaw0NonK0sb_CN231SzrHWjb7','','2ahUKEwiF4KbOmJ7xAhWyTTABHV0KC-sQ0gIoAHoECAIQAQ','','',event)\">Composition and lyrics</a>, <a href=\"https://en.wikipedia.org/wiki/Butter_(song)#Music_video\" onmousedown=\"return rwt(this,'','','','','AOvVaw0NonK0sb_CN231SzrHWjb7','','2ahUKEwiF4KbOmJ7xAhWyTTABHV0KC-sQ0gIoAXoECAIQAg','','',event)\">Music video</a>, <a href=\"https://en.wikipedia.org/wiki/Butter_(song)#Commercial_performance\" onmousedown=\"return rwt(this,'','','','','AOvVaw0NonK0sb_CN231SzrHWjb7','','2ahUKEwiF4KbOmJ7xAhWyTTABHV0KC-sQ0gIoAnoECAIQAw','','',event)\">Commercial performance</a>, <a href=\"https://en.wikipedia.org/wiki/Butter_(song)#Live_performances\" onmousedown=\"return rwt(this,'','','','','AOvVaw0NonK0sb_CN231SzrHWjb7','','2ahUKEwiF4KbOmJ7xAhWyTTABHV0KC-sQ0gIoA3oECAIQBA','','',event)\">Live performances</a>, <a data-ved=\"2ahUKEwiF4KbOmJ7xAhWyTTABHV0KC-sQFjABegQIBBAE\" href=\"https://en.wikipedia.org/wiki/BTS\" onmousedown=\"return rwt(this,'','','','','AOvVaw3o2sgk99LEIQfYOrkPkbcB','','2ahUKEwiF4KbOmJ7xAhWyTTABHV0KC-sQFjABegQIBBAE','','',event)\"><br/><h3 class=\"LC20lb DKV0Md\">BTS - Wikipedia</h3><div class=\"TbwUpd NJjxre\"><cite class=\"iUh30 Zu0yb qLRx3b tjvcx\">https://en.wikipedia.org<span class=\"dyjrff qzEoUe\"> › wiki › BTS</span></cite></div></a>, <a href=\"https://en.wikipedia.org/wiki/BTS_singles_discography\" onmousedown=\"return rwt(this,'','','','','AOvVaw1Cl5VjiWsjFxA_RY5BDWlA','','2ahUKEwiF4KbOmJ7xAhWyTTABHV0KC-sQ0gIoAHoECAMQAQ','','',event)\">BTS singles discography</a>, <a href=\"https://en.wikipedia.org/wiki/Be_(BTS_album)\" onmousedown=\"return rwt(this,'','','','','AOvVaw1G2tfk9jwnMrSOc8k9x1xw','','2ahUKEwiF4KbOmJ7xAhWyTTABHV0KC-sQ0gIoAXoECAMQAg','','',event)\">BTS album</a>, <a href=\"https://en.wikipedia.org/wiki/Dynamite_(BTS_song)\" onmousedown=\"return rwt(this,'','','','','AOvVaw15qzK9DGDUPiXZy0AhQ8ce','','2ahUKEwiF4KbOmJ7xAhWyTTABHV0KC-sQ0gIoAnoECAMQAw','','',event)\">Dynamite (BTS song)</a>, <a href=\"https://en.wikipedia.org/wiki/BTS_videography\" onmousedown=\"return rwt(this,'','','','','AOvVaw0pWZOsqLZig2bX5MLrH79W','','2ahUKEwiF4KbOmJ7xAhWyTTABHV0KC-sQ0gIoA3oECAMQBA','','',event)\">BTS videography</a>, <a data-ved=\"2ahUKEwiF4KbOmJ7xAhWyTTABHV0KC-sQFjACegQIHhAE\" href=\"https://bts.fandom.com/wiki/Butter\" onmousedown=\"return rwt(this,'','','','','AOvVaw1fZjwgcpcjA76so7eRwxJo','','2ahUKEwiF4KbOmJ7xAhWyTTABHV0KC-sQFjACegQIHhAE','','',event)\"><br/><h3 class=\"LC20lb DKV0Md\">Butter | BTS Wiki | Fandom</h3><div class=\"TbwUpd NJjxre\"><cite class=\"iUh30 Zu0yb qLRx3b tjvcx\">https://bts.fandom.com<span class=\"dyjrff qzEoUe\"> › wiki › Butter</span></cite></div></a>, <a href=\"https://bts.fandom.com/wiki/Butter#Tracklist\" onmousedown=\"return rwt(this,'','','','','AOvVaw1fZjwgcpcjA76so7eRwxJo','','2ahUKEwiF4KbOmJ7xAhWyTTABHV0KC-sQ0gIoAHoECBsQAQ','','',event)\">Tracklist</a>, <a href=\"https://bts.fandom.com/wiki/Butter#Lyrics\" onmousedown=\"return rwt(this,'','','','','AOvVaw1fZjwgcpcjA76so7eRwxJo','','2ahUKEwiF4KbOmJ7xAhWyTTABHV0KC-sQ0gIoAXoECBsQAg','','',event)\">Lyrics</a>, <a href=\"https://bts.fandom.com/wiki/Butter#Awards_and_Nominations\" onmousedown=\"return rwt(this,'','','','','AOvVaw1fZjwgcpcjA76so7eRwxJo','','2ahUKEwiF4KbOmJ7xAhWyTTABHV0KC-sQ0gIoAnoECBsQAw','','',event)\">Awards and Nominations</a>, <a data-ved=\"2ahUKEwiF4KbOmJ7xAhWyTTABHV0KC-sQFjADegQIGhAE\" href=\"https://bts.fandom.com/wiki/Butter_(Single_album)\" onmousedown=\"return rwt(this,'','','','','AOvVaw38yOx_I02IZ2oFMUo_Pe-2','','2ahUKEwiF4KbOmJ7xAhWyTTABHV0KC-sQFjADegQIGhAE','','',event)\"><br/><h3 class=\"LC20lb DKV0Md\">Butter | BTS Wiki | Fandom</h3><div class=\"TbwUpd NJjxre\"><cite class=\"iUh30 Zu0yb qLRx3b tjvcx\">https://bts.fandom.com<span class=\"dyjrff qzEoUe\"> › wiki › Butter_(Single_album)</span></cite></div></a>, <a class=\"oBa0Fe wrSo4\" data-async-trigger=\"duf3-44-4\" data-ved=\"2ahUKEwiF4KbOmJ7xAhWyTTABHV0KC-sQtw96BAgcEBo\" href=\"#\" jsaction=\"trigger.szjOR\" role=\"button\">Feedback</a>, <a data-ved=\"2ahUKEwiF4KbOmJ7xAhWyTTABHV0KC-sQFjAOegQICxAD\" href=\"https://variety.com/2021/music/news/bts-butter-columbia-records-ron-perry-songwriter-producer-1234977890/\" onmousedown=\"return rwt(this,'','','','','AOvVaw1x2HUXTVnRxTvhqjJ0todY','','2ahUKEwiF4KbOmJ7xAhWyTTABHV0KC-sQFjAOegQICxAD','','',event)\"><br/><h3 class=\"LC20lb DKV0Md\">BTS' 'Butter' Was Co-Written by Columbia Records Chairman ...</h3><div class=\"TbwUpd NJjxre\"><cite class=\"iUh30 Zu0yb qLRx3b tjvcx\">https://variety.com<span class=\"dyjrff qzEoUe\"> › music › news › bts-butter-columbi...</span></cite></div></a>, <a data-ved=\"2ahUKEwiF4KbOmJ7xAhWyTTABHV0KC-sQFjAPegQIIRAE\" href=\"https://www.bts-butter.com/\" onmousedown=\"return rwt(this,'','','','','AOvVaw1wlcYArAjUX2dNvx8ZGceX','','2ahUKEwiF4KbOmJ7xAhWyTTABHV0KC-sQFjAPegQIIRAE','','',event)\"><br/><h3 class=\"LC20lb DKV0Md\">BTS Butter</h3><div class=\"TbwUpd NJjxre\"><cite class=\"iUh30 Zu0yb tjvcx\">https://www.bts-butter.com</cite></div></a>, <a data-ved=\"2ahUKEwiF4KbOmJ7xAhWyTTABHV0KC-sQFjAQegQIKRAE\" href=\"https://bhutanforyou.com/jjagxug/butter-bts-wiki\" onmousedown=\"return rwt(this,'','','','','AOvVaw3Kw_4LblSa2Fp7OmKrvBH5','','2ahUKEwiF4KbOmJ7xAhWyTTABHV0KC-sQFjAQegQIKRAE','','',event)\"><br/><h3 class=\"LC20lb DKV0Md\">butter bts wiki - BhutanForYou.com</h3><div class=\"TbwUpd NJjxre\"><cite class=\"iUh30 Zu0yb qLRx3b tjvcx\">https://bhutanforyou.com<span class=\"dyjrff qzEoUe\"> › Nature › butter bts wiki</span></cite></div></a>, <a data-ved=\"2ahUKEwiF4KbOmJ7xAhWyTTABHV0KC-sQFjARegQIIxAD\" href=\"https://ibighit.com/bts/eng/discography/\" onmousedown=\"return rwt(this,'','','','','AOvVaw0ScIuOz0IIdzEtjcooQkam','','2ahUKEwiF4KbOmJ7xAhWyTTABHV0KC-sQFjARegQIIxAD','','',event)\"><br/><h3 class=\"LC20lb DKV0Md\">DISCOGRAPHY | BTS | Big Hit Entertainment</h3><div class=\"TbwUpd NJjxre\"><cite class=\"iUh30 Zu0yb qLRx3b tjvcx\">https://ibighit.com<span class=\"dyjrff qzEoUe\"> › bts › eng › discography</span></cite></div></a>, <a class=\"FHH8Re\" href=\"https://ibighit.com/bts/eng/discography/\" onmousedown=\"return rwt(this,'','','','','AOvVaw0ScIuOz0IIdzEtjcooQkam','','2ahUKEwiF4KbOmJ7xAhWyTTABHV0KC-sQ2vEDMBF6BAgjEBA','','',event)\">View full list</a>, <a data-ved=\"2ahUKEwiF4KbOmJ7xAhWyTTABHV0KC-sQFjASegQIChAE\" href=\"https://edsigorta.com/o4ige/bts-butter-producer\" onmousedown=\"return rwt(this,'','','','','AOvVaw2dtfusEdplfJVRe4_O1mWO','','2ahUKEwiF4KbOmJ7xAhWyTTABHV0KC-sQFjASegQIChAE','','',event)\"><br/><h3 class=\"LC20lb DKV0Md\">bts butter producer - ED Sigorta</h3><div class=\"TbwUpd NJjxre\"><cite class=\"iUh30 Zu0yb qLRx3b tjvcx\">https://edsigorta.com<span class=\"dyjrff qzEoUe\"> › bts-butter-producer</span></cite></div></a>, <a data-ved=\"2ahUKEwiF4KbOmJ7xAhWyTTABHV0KC-sQFjATegQIHxAE\" href=\"https://roerinternational.com/pkwzk/bts-song-with-most-english-lyrics\" onmousedown=\"return rwt(this,'','','','','AOvVaw2kUF96z_yn47f9Zi6Fql_t','','2ahUKEwiF4KbOmJ7xAhWyTTABHV0KC-sQFjATegQIHxAE','','',event)\"><br/><h3 class=\"LC20lb DKV0Md\">bts song with most english lyrics - Roer International</h3><div class=\"TbwUpd NJjxre\"><cite class=\"iUh30 Zu0yb qLRx3b tjvcx\">https://roerinternational.com<span class=\"dyjrff qzEoUe\"> › pkwzk › bts-song-with-...</span></cite></div></a>, <a class=\"EbH0bb\" href=\"/search?q=Butter+BTS+wiki&amp;stick=H4sIAAAAAAAAAOOQMeJKKilWSMxJKs0tjuJ3Ki0pSS1ScAoJVijPzM48xcirn65vaJhlmFVUYZqWC-OnmWbkJBvnVcD4yYYlScYlRQZw9ck55iUGFkUwfkZyRrxxeTlQPbd-rr6BoWFBclZxySlGLhCvMtmgLNkEJmWUnJydhjDY1DgrqcQ06xcjF8hNEGcuYkV35y02SQatqVVcZvGhT4QlTuTeNyo79d7o-7eQmL6nAAV0uz_jAAAA&amp;sa=X&amp;ved=2ahUKEwiF4KbOmJ7xAhWyTTABHV0KC-sQzTooADAUegQIEhAB\"><span class=\"rhsg3\">View 2+ more</span></a>, <a data-ved=\"2ahUKEwiF4KbOmJ7xAhWyTTABHV0KC-sQxA0wFHoECBIQBA\" href=\"/search?q=BTS+Map+of+the+Soul:+7&amp;stick=H4sIAAAAAAAAAOOQUeLVT9c3NMwyzCqqME3LNeJKKilWSMxJKs0tjuJ3Ki0pSS1ScAoJVijPzM48xYiqGMZPM83ISTbOq4Dxkw1LkoxLigzg6pNzzEsMLIpg_IzkjHjj8nKgem79XH0DQ8OC5KziklOMXCBeZbJBWbIJTMooOTk7DWGwqXFWUolp1i9GLpCbIM5cxCoG4vgmFijkpymUZKQqBOeX5lgpmN9ik2TQmlrFZRYf-kRY4kTufaOyU--Nvn8Liel7CgAlGSpF-QAAAA&amp;sa=X&amp;ved=2ahUKEwiF4KbOmJ7xAhWyTTABHV0KC-sQxA0wFHoECBIQBA\" title=\"Map of the Soul: 7\"><div class=\"XQ6p1d\"><g-img class=\"BA0A6c\" style=\"position:relative\"><img alt=\"Map of the Soul: 7\" class=\"rISBZc M4dUYb\" data-atf=\"4\" data-deferred=\"1\" height=\"82\" id=\"dimg_35\" src=\"data:image/gif;base64,R0lGODlhAQABAIAAAP///////yH5BAEKAAEALAAAAAABAAEAAAICTAEAOw==\" style=\"border-radius:8px 8px 8px 8px\" width=\"82\"/><div class=\"fWhgmd\" style=\"border-radius:8px 8px 8px 8px\"></div></g-img></div><div class=\"fl ellip oBrLN S1gFKb rOVRL\" data-original-name=\"Map of the Soul: 7\">Map of the Soul: 7</div></a>, <a data-ved=\"2ahUKEwiF4KbOmJ7xAhWyTTABHV0KC-sQxA0wFHoECBIQBg\" href=\"/search?q=BTS+Love+Yourself:+Tear&amp;stick=H4sIAAAAAAAAAOOQUeLVT9c3NEwzzchJNs6rMOJKKilWSMxJKs0tjuJ3Ki0pSS1ScAoJVijPzM48xQhRnGWYVVRhmpYL48M0w_jJhiVJxiVFBnD1yTnmJQYWRTB-RnJGvHF5OVA9t36uvoGhYUFyVnHJKUYuEK8y2aAs2QQmZZScnJ2GMNjUOCupxDTrFyMXyE0QZy5iFQdxfPLLUhUi80uLilNz0qwUQlITi26xSTJoTa3iMosPfSIscSL3vlHZqfdG37-FxPQ9BQAST63U-gAAAA&amp;sa=X&amp;ved=2ahUKEwiF4KbOmJ7xAhWyTTABHV0KC-sQxA0wFHoECBIQBg\" title=\"Love Yourself: Tear\"><div class=\"XQ6p1d\"><g-img class=\"BA0A6c\" style=\"position:relative\"><img alt=\"Love Yourself: Tear\" class=\"rISBZc M4dUYb\" data-atf=\"4\" data-deferred=\"1\" height=\"82\" id=\"dimg_41\" src=\"data:image/gif;base64,R0lGODlhAQABAIAAAP///////yH5BAEKAAEALAAAAAABAAEAAAICTAEAOw==\" style=\"border-radius:8px 8px 8px 8px\" width=\"82\"/><div class=\"fWhgmd\" style=\"border-radius:8px 8px 8px 8px\"></div></g-img></div><div class=\"fl ellip oBrLN S1gFKb rOVRL\" data-original-name=\"Love Yourself: Tear\">Love Yourself: Tear</div></a>, <a data-ved=\"2ahUKEwiF4KbOmJ7xAhWyTTABHV0KC-sQxA0wFHoECBIQCA\" href=\"/search?q=BTS+Wings&amp;stick=H4sIAAAAAAAAAOOQUeLVT9c3NEw2LEkyLikyMOJKKilWSMxJKs0tjuJ3Ki0pSS1ScAoJVijPzM48xQhRnGWYVVRhmpYL46eZZuQkG-dVwPgww-Dqk3PMSwwsimD8jOSMeOPycqB6bv1cfQNDw4LkrOKSU4xcIF5lskFZsglMyig5OTsNYbCpcVZSiWnWL0YukJsgzlzEygnihGfmpRffYpNk0JpaxWUWH_pEWOJE7n2jslPvjb5_C4npewoAv_WF0ewAAAA&amp;sa=X&amp;ved=2ahUKEwiF4KbOmJ7xAhWyTTABHV0KC-sQxA0wFHoECBIQCA\" title=\"Wings\"><div class=\"XQ6p1d\"><g-img class=\"BA0A6c\" style=\"position:relative\"><img alt=\"Wings\" class=\"rISBZc M4dUYb\" data-atf=\"4\" data-deferred=\"1\" height=\"82\" id=\"dimg_47\" src=\"data:image/gif;base64,R0lGODlhAQABAIAAAP///////yH5BAEKAAEALAAAAAABAAEAAAICTAEAOw==\" style=\"border-radius:8px 8px 8px 8px\" width=\"82\"/><div class=\"fWhgmd\" style=\"border-radius:8px 8px 8px 8px\"></div></g-img></div><div class=\"fl ellip oBrLN S1gFKb rOVRL\" data-original-name=\"Wings\">Wings</div></a>, <a data-ved=\"2ahUKEwiF4KbOmJ7xAhWyTTABHV0KC-sQxA0wFHoECBIQCg\" href=\"/search?q=BTS+Map+of+the+Soul:+7+~+The+Journey+~&amp;stick=H4sIAAAAAAAAAOOQUeLVT9c3NMxKzjEvMbAoMuJKKilWSMxJKs0tjuJ3Ki0pSS1ScAoJVijPzM48xQhVbJhVVGGalgvjp5lm5CQb51XA-MmGJUnGJUUGcPVQw2H8jOSMeOPycqB6bv1cfQNDw4LkrOKSU4xcIF5lskFZsglMyig5OTsNYbCpcVZSiWnWL0YukJsgzlzEqgbi-CYWKOSnKZRkpCoE55fmWCmYK9QphAB5XvmlRXmplQp1t9gkGbSmVnGZxYc-EZY4kXvfqOzUe6Pv30Ji-p4CAAtT_DQJAQAA&amp;sa=X&amp;ved=2ahUKEwiF4KbOmJ7xAhWyTTABHV0KC-sQxA0wFHoECBIQCg\" title=\"Map of the Soul: 7 ~ The Journey ~\"><div class=\"XQ6p1d\"><g-img class=\"BA0A6c\" style=\"position:relative\"><img alt=\"Map of the Soul: 7 ~ The Journey ~\" class=\"rISBZc M4dUYb\" data-atf=\"4\" data-deferred=\"1\" height=\"82\" id=\"dimg_53\" src=\"data:image/gif;base64,R0lGODlhAQABAIAAAP///////yH5BAEKAAEALAAAAAABAAEAAAICTAEAOw==\" style=\"border-radius:8px 8px 8px 8px\" width=\"82\"/><div class=\"fWhgmd\" style=\"border-radius:8px 8px 8px 8px\"></div></g-img></div><div class=\"fl ellip oBrLN S1gFKb rOVRL\" data-original-name=\"Map of the Soul: 7 ~ The Jour...\">Map of the Soul: 7 ~ The Jour...</div></a>, <a data-ved=\"2ahUKEwiF4KbOmJ7xAhWyTTABHV0KC-sQxA0wFHoECBIQDA\" href=\"/search?q=BTS+Face+Yourself&amp;stick=H4sIAAAAAAAAAOOQUeLVT9c3NMxIzog3Li-vMOJKKilWSMxJKs0tjuJ3Ki0pSS1ScAoJVijPzM48xQhRnGWYVVRhmpYL46eZZuQkG-dVwPjJhiVJxiVFBnD1yTnmJQYWRTA-zLJTjNz6ufoGhoYFyVnFJacYuUC8ymSDsmQTmJRRcnJ2GsJgU-OspBLTrF-MXCA3QZy5iFUQxHFLTE5ViMwvLSpOzUm7xSbJoDW1isssPvSJsMSJ3PtGZafeG33_FhLT9xQAJ-63RvQAAAA&amp;sa=X&amp;ved=2ahUKEwiF4KbOmJ7xAhWyTTABHV0KC-sQxA0wFHoECBIQDA\" title=\"Face Yourself\"><div class=\"XQ6p1d\"><g-img class=\"BA0A6c\" style=\"position:relative\"><img alt=\"Face Yourself\" class=\"rISBZc M4dUYb\" data-atf=\"4\" data-deferred=\"1\" height=\"82\" id=\"dimg_57\" src=\"data:image/gif;base64,R0lGODlhAQABAIAAAP///////yH5BAEKAAEALAAAAAABAAEAAAICTAEAOw==\" style=\"border-radius:8px 8px 8px 8px\" width=\"82\"/><div class=\"fWhgmd\" style=\"border-radius:8px 8px 8px 8px\"></div></g-img></div><div class=\"fl ellip oBrLN S1gFKb rOVRL\" data-original-name=\"Face Yourself\">Face Yourself</div></a>, <a data-ved=\"2ahUKEwiF4KbOmJ7xAhWyTTABHV0KC-sQxA0wFHoECBIQDg\" href=\"/search?q=BTS+Dark+and+Wild&amp;stick=H4sIAAAAAAAAAOOQUeLWz9U3MDQsSM4qLjHiSiopVkjMSSrNLY7idyotKUktUnAKCVYoz8zOPMXIq5-ub2iYZZhVVGGalgvjp5lm5CQb51XA-MmGJUnGJUUGcPXJOeYlBhZFMH5Gcka8cXk5UD2y1acYuUC8ymSDsmQTmJRRcnJ2GsJgU-OspBLTrF-MXCA3QZy5iFUQxHFJLMpWSMxLUQjPzEm5xSbJoDW1isssPvSJsMSJ3PtGZafeG33_FhLT9xQAYPv69PIAAAA&amp;sa=X&amp;ved=2ahUKEwiF4KbOmJ7xAhWyTTABHV0KC-sQxA0wFHoECBIQDg\" title=\"Dark &amp; Wild\"><div class=\"XQ6p1d\"><g-img class=\"BA0A6c\" style=\"position:relative\"><img alt=\"Dark &amp; Wild\" class=\"rISBZc M4dUYb\" data-atf=\"4\" data-deferred=\"1\" height=\"82\" id=\"dimg_64\" src=\"data:image/gif;base64,R0lGODlhAQABAIAAAP///////yH5BAEKAAEALAAAAAABAAEAAAICTAEAOw==\" style=\"border-radius:8px 8px 8px 8px\" width=\"82\"/><div class=\"fWhgmd\" style=\"border-radius:8px 8px 8px 8px\"></div></g-img></div><div class=\"fl ellip oBrLN S1gFKb rOVRL\" data-original-name=\"Dark &amp; Wild\">Dark &amp; Wild</div></a>, <a data-ved=\"2ahUKEwiF4KbOmJ7xAhWyTTABHV0KC-sQxA0wFHoECBIQEA\" href=\"/search?q=BTS+O!RUL8,2%3F&amp;stick=H4sIAAAAAAAAAOOQUeLSz9U3qEw2KEs2MeJKKilWSMxJKs0tjuJ3Ki0pSS1ScAoJVijPzM48xcirn65vaJhlmFVUYZqWC-OnmWbkJBvnVcD4yYYlScYlRQZw9ck55iUGFkUwfkZyRrxxeTlQPTfIZkPDguSs4pJTjEjugEkZJSdnpyEMNjXOSioxzfrFyAVyE8SZi1h5QRx_xaBQHwsdI_tbbJIMWlOruMziQ58IS5zIvW9Uduq90fdvITF9TwEvjipO7QAAAA&amp;sa=X&amp;ved=2ahUKEwiF4KbOmJ7xAhWyTTABHV0KC-sQxA0wFHoECBIQEA\" title=\"O!RUL8,2?\"><div class=\"XQ6p1d\"><g-img class=\"BA0A6c\" style=\"position:relative\"><img alt=\"O!RUL8,2?\" class=\"rISBZc M4dUYb\" data-atf=\"4\" data-deferred=\"1\" height=\"82\" id=\"dimg_75\" src=\"data:image/gif;base64,R0lGODlhAQABAIAAAP///////yH5BAEKAAEALAAAAAABAAEAAAICTAEAOw==\" style=\"border-radius:8px 8px 8px 8px\" width=\"82\"/><div class=\"fWhgmd\" style=\"border-radius:8px 8px 8px 8px\"></div></g-img></div><div class=\"fl ellip oBrLN S1gFKb rOVRL\" data-original-name=\"O!RUL8,2?\">O!RUL8,2?</div></a>, <a class=\"EbH0bb\" href=\"/search?q=Butter+BTS+wiki&amp;stick=H4sIAAAAAAAAAOOQMeJKKilWSCxPLEopjuJ3Ki0pSS1ScAoJVijPzM48xciln6tvUG5UaWJkfoqRVz9d39AwyTw5u8CgKhkhaVRcheAYZ1ScYuQEcYzSzA0roRLm8aaG2ckICfNKmHFpGVWGSZUVBr8YuUDWOoJdsogV3Sm32CQZtKZWcYX_0pnbED8l_rFpiKT15vzyt6ZPFQEl3ujFxgAAAA&amp;sa=X&amp;ved=2ahUKEwiF4KbOmJ7xAhWyTTABHV0KC-sQzTooADAVegQIDRAB\"><span class=\"rhsg3\">View 1+ more</span></a>, <a data-ved=\"2ahUKEwiF4KbOmJ7xAhWyTTABHV0KC-sQxA0wFXoECA0QBA\" href=\"/search?q=Daesang+Award&amp;stick=H4sIAAAAAAAAAOOQUeLSz9U3KDeqNDEyN-JKKilWSCxPLEopjuJ3Ki0pSS1ScAoJVijPzM48xYik8hQjr366vqFhknlydoFBVTJC0qi4CsExzqg4xcgJ4hilmRtWQiXM400Ns5MREuaVMOPSMqoMkyorDH4xcoGsdQS7ZBErr0tianFiXjpE4BabJIPW1Cqu8F86cxvip8Q_Ng2RtN6cX_7W9KkiAAlnQczQAAAA&amp;sa=X&amp;ved=2ahUKEwiF4KbOmJ7xAhWyTTABHV0KC-sQxA0wFXoECA0QBA\" title=\"Seoul Music Awards Daesang Award\"><div class=\"XQ6p1d\"><g-img class=\"BA0A6c\" style=\"position:relative\"><img alt=\"Seoul Music Awards Daesang Award\" class=\"rISBZc M4dUYb\" data-atf=\"4\" data-deferred=\"1\" height=\"82\" id=\"dimg_31\" src=\"data:image/gif;base64,R0lGODlhAQABAIAAAP///////yH5BAEKAAEALAAAAAABAAEAAAICTAEAOw==\" style=\"border-radius:8px 8px 8px 8px\" width=\"82\"/><div class=\"fWhgmd\" style=\"border-radius:8px 8px 8px 8px\"></div></g-img></div><div class=\"fl ellip oBrLN S1gFKb rOVRL\" data-original-name=\"Seoul Music Awards...\">Seoul Music Awards...</div></a>, <a data-ved=\"2ahUKEwiF4KbOmJ7xAhWyTTABHV0KC-sQxA0wFXoECA0QBg\" href=\"/search?q=Fan+Army&amp;stick=H4sIAAAAAAAAAOOQUeLVT9c3NEwyT84uMKhKNuJKKilWSCxPLEopjuJ3Ki0pSS1ScAoJVijPzM48xciln6tvUG5UaWJkfooRVSdC0qi4CsExzqg4xcgJ4hilmRtWQiXM400Ns5MREuaVMOPSMqoMkyorDH4xcoGsdQS7ZBErh1tinoJjUW7lLTZJBq2pVVzhv3TmNsRPiX9sGiJpvTm__K3pU0UAmwhEOM4AAAA&amp;sa=X&amp;ved=2ahUKEwiF4KbOmJ7xAhWyTTABHV0KC-sQxA0wFXoECA0QBg\" title=\"iHeartRadio Music Award for Best Fan Army\"><div class=\"XQ6p1d\"><g-img class=\"BA0A6c\" style=\"position:relative\"><img alt=\"iHeartRadio Music Award for Best Fan Army\" class=\"rISBZc M4dUYb\" data-atf=\"4\" data-deferred=\"1\" height=\"82\" id=\"dimg_33\" src=\"data:image/gif;base64,R0lGODlhAQABAIAAAP///////yH5BAEKAAEALAAAAAABAAEAAAICTAEAOw==\" style=\"border-radius:8px 8px 8px 8px\" width=\"82\"/><div class=\"fWhgmd\" style=\"border-radius:8px 8px 8px 8px\"></div></g-img></div><div class=\"fl ellip oBrLN S1gFKb rOVRL\" data-original-name=\"iHeartRadio Music Award fo...\">iHeartRadio Music Award fo...</div></a>, <a data-ved=\"2ahUKEwiF4KbOmJ7xAhWyTTABHV0KC-sQxA0wFXoECA0QCA\" href=\"/search?q=Bonsang+Awards&amp;stick=H4sIAAAAAAAAAOOQUeLSz9U3KDeqNCquMuJKKilWSCxPLEopjuJ3Ki0pSS1ScAoJVijPzM48xQhTaWJkfoqRVz9d39AwyTw5u8CgKhkhCTQGwTHOqDjFyAniGKWZG1ZCJczjTQ2zkxES5pUw49IyqgyTKisMfjFygax1BLtkESufU35ecWJeOlTgFpskg9bUKq7wXzpzG-KnxD82DZG03pxf_tb0qSIAe4AzndEAAAA&amp;sa=X&amp;ved=2ahUKEwiF4KbOmJ7xAhWyTTABHV0KC-sQxA0wFXoECA0QCA\" title=\"Seoul Music Awards Bonsang Awards\"><div class=\"XQ6p1d\"><g-img class=\"BA0A6c\" style=\"position:relative\"><img alt=\"Seoul Music Awards Bonsang Awards\" class=\"rISBZc M4dUYb\" data-atf=\"4\" data-deferred=\"1\" height=\"82\" id=\"dimg_38\" src=\"data:image/gif;base64,R0lGODlhAQABAIAAAP///////yH5BAEKAAEALAAAAAABAAEAAAICTAEAOw==\" style=\"border-radius:8px 8px 8px 8px\" width=\"82\"/><div class=\"fWhgmd\" style=\"border-radius:8px 8px 8px 8px\"></div></g-img></div><div class=\"fl ellip oBrLN S1gFKb rOVRL\" data-original-name=\"Seoul Music Awards...\">Seoul Music Awards...</div></a>, <a data-ved=\"2ahUKEwiF4KbOmJ7xAhWyTTABHV0KC-sQxA0wFXoECA0QCg\" href=\"/search?q=Golden+Disc+Award+Song+Division&amp;stick=H4sIAAAAAAAAAOOQUeLSz9U3KDeqNM6oMOJKKilWSCxPLEopjuJ3Ki0pSS1ScAoJVijPzM48xQhTaWJkfoqRVz9d39AwyTw5u8CgKhkhaVRcheAAzTzFyAniGKWZG1ZCJczjTQ2zkxES5pUw49IyqgyTKisMfjFygax1BLtkEau8e35OSmqegktmcTJEUCE4Py8dyC_LLM7Mz7vFJsmgNbWKK_yXztyG-Cnxj01DJK0355e_NX2qCADnkY8y4gAAAA&amp;sa=X&amp;ved=2ahUKEwiF4KbOmJ7xAhWyTTABHV0KC-sQxA0wFXoECA0QCg\" title=\"Golden Disc Award Song Division\"><div class=\"XQ6p1d\"><g-img class=\"BA0A6c\" style=\"position:relative\"><img alt=\"Golden Disc Award Song Division\" class=\"rISBZc M4dUYb\" data-atf=\"4\" data-deferred=\"1\" height=\"82\" id=\"dimg_45\" src=\"data:image/gif;base64,R0lGODlhAQABAIAAAP///////yH5BAEKAAEALAAAAAABAAEAAAICTAEAOw==\" style=\"border-radius:8px 8px 8px 8px\" width=\"82\"/><div class=\"fWhgmd\" style=\"border-radius:8px 8px 8px 8px\"></div></g-img></div><div class=\"fl ellip oBrLN S1gFKb rOVRL\" data-original-name=\"Golden Disc Award S...\">Golden Disc Award S...</div></a>, <a data-ved=\"2ahUKEwiF4KbOmJ7xAhWyTTABHV0KC-sQxA0wFXoECA0QDA\" href=\"/search?q=MTV+Video+Music+Award+for+Best+Choreography&amp;stick=H4sIAAAAAAAAAOOQUeLUz9U3MEozN6w04koqKVZILE8sSimO4ncqLSlJLVJwCglWKM_MzjzFyAVSWG5UaWJkfoqRVz9d39AwyTw5u8CgKhkhaVRcheAYZ1ScYkSYD5Uwjzc1zE5GSJhXwoxLy6gyTKqsMPjFyAWy1hHskkWs2r4hYQphmSmp-Qq-pcWZyRAJhbR8oOtSi0sUnDPyi1Lz04sSCzIqb7FJMmhNreIK_6UztyF-Svxj0xBJ68355W9NnyoCAGyEpAHtAAAA&amp;sa=X&amp;ved=2ahUKEwiF4KbOmJ7xAhWyTTABHV0KC-sQxA0wFXoECA0QDA\" title=\"MTV Video Music Award for Best Choreography\"><div class=\"XQ6p1d\"><g-img class=\"BA0A6c\" style=\"position:relative\"><img alt=\"MTV Video Music Award for Best Choreography\" class=\"rISBZc M4dUYb\" data-atf=\"4\" data-deferred=\"1\" height=\"82\" id=\"dimg_51\" src=\"data:image/gif;base64,R0lGODlhAQABAIAAAP///////yH5BAEKAAEALAAAAAABAAEAAAICTAEAOw==\" style=\"border-radius:8px 8px 8px 8px\" width=\"82\"/><div class=\"fWhgmd\" style=\"border-radius:8px 8px 8px 8px\"></div></g-img></div><div class=\"fl ellip oBrLN S1gFKb rOVRL\" data-original-name=\"MTV Video Music A...\">MTV Video Music A...</div></a>, <a data-ved=\"2ahUKEwiF4KbOmJ7xAhWyTTABHV0KC-sQxA0wFXoECA0QDg\" href=\"/search?q=MTV+Europe+Music+Award+for+Best+Song&amp;stick=H4sIAAAAAAAAAOOQUeLSz9U3MI83NcxONuJKKilWSCxPLEopjuJ3Ki0pSS1ScAoJVijPzM48xQhWWW5UaWJkfoqRVz9d39AwyTw5u8CgKhkhaVRcheAYZ1ScYuQEcYzSzA0roRIQyxAS5pUw49IyqgyTKisMfjFygax1BLtkEauKb0iYgmtpUX5BqoJvaXFmMkRGIS0f6LzU4hKF4Py89FtskgxaU6u4wn_pzG2InxL_2DRE0npzfvlb06eKAO9YQKHnAAAA&amp;sa=X&amp;ved=2ahUKEwiF4KbOmJ7xAhWyTTABHV0KC-sQxA0wFXoECA0QDg\" title=\"MTV Europe Music Award for Best Song\"><div class=\"XQ6p1d\"><g-img class=\"BA0A6c\" style=\"position:relative\"><img alt=\"MTV Europe Music Award for Best Song\" class=\"rISBZc M4dUYb\" data-atf=\"4\" data-deferred=\"1\" height=\"82\" id=\"dimg_55\" src=\"data:image/gif;base64,R0lGODlhAQABAIAAAP///////yH5BAEKAAEALAAAAAABAAEAAAICTAEAOw==\" style=\"border-radius:8px 8px 8px 8px\" width=\"82\"/><div class=\"fWhgmd\" style=\"border-radius:8px 8px 8px 8px\"></div></g-img></div><div class=\"fl ellip oBrLN S1gFKb rOVRL\" data-original-name=\"MTV Europe Music A...\">MTV Europe Music A...</div></a>, <a data-ved=\"2ahUKEwiF4KbOmJ7xAhWyTTABHV0KC-sQxA0wFXoECA0QEA\" href=\"/search?q=MTV+Video+Music+Award+for+Best+Pop+Video&amp;stick=H4sIAAAAAAAAAOOQUeLUz9U3MEozN6804koqKVZILE8sSimO4ncqLSlJLVJwCglWKM_MzjzFyAVSWG5UaWJkfoqRVz9d39AwyTw5u8CgKhkhaVRcheAYZ1ScYoSZb1gJlTCPNzXMTkZImFfCjEvLqDJMqqww-MXIBbLWEeySRawaviFhCmGZKan5Cr6lxZnJEAmFtHyg61KLSxQC8gsg0rfYJBm0plZxhf_SmdsQPyX-sWmIpPXm_PK3pk8VAaFehJXqAAAA&amp;sa=X&amp;ved=2ahUKEwiF4KbOmJ7xAhWyTTABHV0KC-sQxA0wFXoECA0QEA\" title=\"MTV Video Music Award for Best Pop Video\"><div class=\"XQ6p1d\"><g-img class=\"BA0A6c\" style=\"position:relative\"><img alt=\"MTV Video Music Award for Best Pop Video\" class=\"rISBZc M4dUYb\" data-atf=\"4\" data-deferred=\"1\" height=\"82\" id=\"dimg_60\" src=\"data:image/gif;base64,R0lGODlhAQABAIAAAP///////yH5BAEKAAEALAAAAAABAAEAAAICTAEAOw==\" style=\"border-radius:8px 8px 8px 8px\" width=\"82\"/><div class=\"fWhgmd\" style=\"border-radius:8px 8px 8px 8px\"></div></g-img></div><div class=\"fl ellip oBrLN S1gFKb rOVRL\" data-original-name=\"MTV Video Music A...\">MTV Video Music A...</div></a>, <a class=\"oBa0Fe wrSo4\" data-async-trigger=\"duf3-34-1\" data-ved=\"2ahUKEwiF4KbOmJ7xAhWyTTABHV0KC-sQtw8wFXoECA0QEg\" href=\"#\" jsaction=\"trigger.szjOR\" role=\"button\">Feedback</a>, <a class=\"oBa0Fe wrSo4\" data-async-trigger=\"duf3-95\" data-ved=\"2ahUKEwiF4KbOmJ7xAhWyTTABHV0KC-sQtw96BAgHEAg\" href=\"#\" jsaction=\"trigger.szjOR\" role=\"button\">Feedback</a>, <a class=\"k8XOCe\" href=\"/search?q=BTS+age&amp;sa=X&amp;ved=2ahUKEwiF4KbOmJ7xAhWyTTABHV0KC-sQ1QIwF3oECBUQAQ\"><div class=\"aXBZVd\"></div><div class=\"s75CSd OhScic AB4Wff\">bts <b>age</b></div></a>, <a class=\"k8XOCe\" href=\"/search?q=BTS+Profile&amp;sa=X&amp;ved=2ahUKEwiF4KbOmJ7xAhWyTTABHV0KC-sQ1QIwGHoECBQQAQ\"><div class=\"aXBZVd\"></div><div class=\"s75CSd OhScic AB4Wff\">bts <b>profile</b></div></a>, <a class=\"k8XOCe\" href=\"/search?q=BTS+ARMY&amp;sa=X&amp;ved=2ahUKEwiF4KbOmJ7xAhWyTTABHV0KC-sQ1QIwGXoECBMQAQ\"><div class=\"aXBZVd\"></div><div class=\"s75CSd OhScic AB4Wff\">bts <b>army</b></div></a>, <a class=\"k8XOCe\" href=\"/search?q=BTS+full+form&amp;sa=X&amp;ved=2ahUKEwiF4KbOmJ7xAhWyTTABHV0KC-sQ1QIwGnoECBEQAQ\"><div class=\"aXBZVd\"></div><div class=\"s75CSd OhScic AB4Wff\">bts <b>full form</b></div></a>, <a class=\"k8XOCe\" href=\"/search?q=BTS+McDonald%27s&amp;sa=X&amp;ved=2ahUKEwiF4KbOmJ7xAhWyTTABHV0KC-sQ1QIwG3oECA8QAQ\"><div class=\"aXBZVd\"></div><div class=\"s75CSd OhScic AB4Wff\">bts <b>mcdonald's</b></div></a>, <a class=\"k8XOCe\" href=\"/search?q=When+did+BTS+debut+exact+date&amp;sa=X&amp;ved=2ahUKEwiF4KbOmJ7xAhWyTTABHV0KC-sQ1QIwHHoECA4QAQ\"><div class=\"aXBZVd\"></div><div class=\"s75CSd OhScic AB4Wff\"><b>when did</b> bts <b>debut exact date</b></div></a>, <a class=\"k8XOCe\" href=\"/search?q=BTS+first+album&amp;sa=X&amp;ved=2ahUKEwiF4KbOmJ7xAhWyTTABHV0KC-sQ1QIwHXoECAwQAQ\"><div class=\"aXBZVd\"></div><div class=\"s75CSd OhScic AB4Wff\">bts <b>first album</b></div></a>, <a aria-label=\"Page 2\" class=\"fl\" href=\"/search?q=Butter+BTS+wiki&amp;ei=EQDLYMWTGbKbwbkP3ZSs2A4&amp;start=10&amp;sa=N&amp;ved=2ahUKEwiF4KbOmJ7xAhWyTTABHV0KC-sQ8tMDegQIARA2\"><span class=\"SJajHc NVbCr\" style=\"background:url(/images/nav_logo323.webp) no-repeat;background-position:-74px 0;width:20px\"></span>2</a>, <a aria-label=\"Page 3\" class=\"fl\" href=\"/search?q=Butter+BTS+wiki&amp;ei=EQDLYMWTGbKbwbkP3ZSs2A4&amp;start=20&amp;sa=N&amp;ved=2ahUKEwiF4KbOmJ7xAhWyTTABHV0KC-sQ8tMDegQIARA4\"><span class=\"SJajHc NVbCr\" style=\"background:url(/images/nav_logo323.webp) no-repeat;background-position:-74px 0;width:20px\"></span>3</a>, <a aria-label=\"Page 4\" class=\"fl\" href=\"/search?q=Butter+BTS+wiki&amp;ei=EQDLYMWTGbKbwbkP3ZSs2A4&amp;start=30&amp;sa=N&amp;ved=2ahUKEwiF4KbOmJ7xAhWyTTABHV0KC-sQ8tMDegQIARA6\"><span class=\"SJajHc NVbCr\" style=\"background:url(/images/nav_logo323.webp) no-repeat;background-position:-74px 0;width:20px\"></span>4</a>, <a aria-label=\"Page 5\" class=\"fl\" href=\"/search?q=Butter+BTS+wiki&amp;ei=EQDLYMWTGbKbwbkP3ZSs2A4&amp;start=40&amp;sa=N&amp;ved=2ahUKEwiF4KbOmJ7xAhWyTTABHV0KC-sQ8tMDegQIARA8\"><span class=\"SJajHc NVbCr\" style=\"background:url(/images/nav_logo323.webp) no-repeat;background-position:-74px 0;width:20px\"></span>5</a>, <a aria-label=\"Page 6\" class=\"fl\" href=\"/search?q=Butter+BTS+wiki&amp;ei=EQDLYMWTGbKbwbkP3ZSs2A4&amp;start=50&amp;sa=N&amp;ved=2ahUKEwiF4KbOmJ7xAhWyTTABHV0KC-sQ8tMDegQIARA-\"><span class=\"SJajHc NVbCr\" style=\"background:url(/images/nav_logo323.webp) no-repeat;background-position:-74px 0;width:20px\"></span>6</a>, <a aria-label=\"Page 7\" class=\"fl\" href=\"/search?q=Butter+BTS+wiki&amp;ei=EQDLYMWTGbKbwbkP3ZSs2A4&amp;start=60&amp;sa=N&amp;ved=2ahUKEwiF4KbOmJ7xAhWyTTABHV0KC-sQ8tMDegQIARBA\"><span class=\"SJajHc NVbCr\" style=\"background:url(/images/nav_logo323.webp) no-repeat;background-position:-74px 0;width:20px\"></span>7</a>, <a aria-label=\"Page 8\" class=\"fl\" href=\"/search?q=Butter+BTS+wiki&amp;ei=EQDLYMWTGbKbwbkP3ZSs2A4&amp;start=70&amp;sa=N&amp;ved=2ahUKEwiF4KbOmJ7xAhWyTTABHV0KC-sQ8tMDegQIARBC\"><span class=\"SJajHc NVbCr\" style=\"background:url(/images/nav_logo323.webp) no-repeat;background-position:-74px 0;width:20px\"></span>8</a>, <a aria-label=\"Page 9\" class=\"fl\" href=\"/search?q=Butter+BTS+wiki&amp;ei=EQDLYMWTGbKbwbkP3ZSs2A4&amp;start=80&amp;sa=N&amp;ved=2ahUKEwiF4KbOmJ7xAhWyTTABHV0KC-sQ8tMDegQIARBE\"><span class=\"SJajHc NVbCr\" style=\"background:url(/images/nav_logo323.webp) no-repeat;background-position:-74px 0;width:20px\"></span>9</a>, <a aria-label=\"Page 10\" class=\"fl\" href=\"/search?q=Butter+BTS+wiki&amp;ei=EQDLYMWTGbKbwbkP3ZSs2A4&amp;start=90&amp;sa=N&amp;ved=2ahUKEwiF4KbOmJ7xAhWyTTABHV0KC-sQ8tMDegQIARBG\"><span class=\"SJajHc NVbCr\" style=\"background:url(/images/nav_logo323.webp) no-repeat;background-position:-74px 0;width:20px\"></span>10</a>, <a href=\"/search?q=Butter+BTS+wiki&amp;ei=EQDLYMWTGbKbwbkP3ZSs2A4&amp;start=10&amp;sa=N&amp;ved=2ahUKEwiF4KbOmJ7xAhWyTTABHV0KC-sQ8NMDegQIARBI\" id=\"pnnext\" style=\"text-align:left\"><span class=\"SJajHc NVbCr\" style=\"background:url(/images/nav_logo323.webp) no-repeat;background-position:-96px 0;width:71px\"></span><span style=\"display:block;margin-left:53px\">Next</span></a>, <a class=\"EASEnb PZPZlf\" href=\"/search?q=Kim+Seok-jin&amp;stick=H4sIAAAAAAAAAOOQUeLSz9U3qEoyMc-uNOJOKilWyE3NTUotKo7idyotKUktUnAKCVYoz8zOPMWIpBSJU1F1ipFXP13f0DDJ3MzEyNy0AEmywAKJU5SHxMmBKas0qcwtM_jFyA2yCGr5IlYe78xcheDU_GzdrMy8W2ySDFpTq7g-M-2ZK2j6tMG_NnzJVXvRYz-3FawCAL1cU7zDAAAA&amp;sa=X&amp;ved=2ahUKEwiF4KbOmJ7xAhWyTTABHV0KC-sQs9oBKAAwHnoECBcQAw\" jsname=\"ZWuC2\" title=\"Jin\"><div class=\"JAC8bd Yyyymd\"><div class=\"vlVVv\"></div><img alt=\"\" aria-hidden=\"true\" class=\"LV5Kte\" data-atf=\"8\" data-deferred=\"1\" id=\"tsuid66\" jsname=\"lt6Uyb\" src=\"data:image/jpeg;base64,/9j/4AAQSkZJRgABAQAAAQABAAD/2wCEAAkGBwgHBgkIBwgKCgkLDRYPDQwMDRsUFRAWIB0iIiAdHx8kKDQsJCYxJx8fLT0tMTU3Ojo6Iys/RD84QzQ5OjcBCgoKDQwNGg8PGjclHyU3Nzc3Nzc3Nzc3Nzc3Nzc3Nzc3Nzc3Nzc3Nzc3Nzc3Nzc3Nzc3Nzc3Nzc3Nzc3Nzc3N//AABEIAE4ATgMBIgACEQEDEQH/xAAcAAACAgMBAQAAAAAAAAAAAAAEBQIHAwYIAQD/xAA1EAABAgQEAwYEBQUAAAAAAAABAgMABAURBhIhMRNBYQciUXGBwSMykaEUQnKCsTNiktHw/8QAGQEAAgMBAAAAAAAAAAAAAAAAAgQBAwUA/8QAHhEAAgICAgMAAAAAAAAAAAAAAAECEQMSITETQVH/2gAMAwEAAhEDEQA/ALZEYp94S0hMvq0DbSlH0EZhCzE9zQZpobvhLI/eQn3iwrKXxbdFRkpVXzS0i2FfqIuf5hQvZI20vDHFj4exRU137qF5Aeg09o1qYmVzToal0uKBG6RuIzsyc8jodwvXGhk6sZrXGgjEhWqz4CFDjhZWEd8lJ1So7GMIeOYK4hSomBWFsPyDw/N5ARjI19YGkppTqlIc1UPzeMEXuD5RW4uLphp2YzrGNz3jJzAiGUrVYeF4lHHUwhViJXdkWuS5kKPkkFXtDUQor39QKtoxKOueRNgPeNYzH0c7VybC6jMvLAUFzC15TsddPSISyZyeuc/DLhsFqNio7WAgCZfWt06D5lEaeJhth+Qm3MQyErPszEvxnbDjNqRcDU2vCNO7HV8LYwpgWkyUo09MMCam1JBW6/3rHoNgINq2F6VMsuIVIS/eTYlLYEG1RT7UjdpmcfCUkBiUWEKUbcyYjKszAp0ytK5hLuyQ6viZeouNbe0FSolWUPUqcukV52SuSlB7pPNP/aRM7fSG+LpZxmqMLcbmEqdbzKXMOBS1HTewsLX2GkJyf5ijJyw4qkQJN79IIkEFbyyOSYH5mDqUnuOL8TaBRLOmBCnEB4VIrU2rZqUy/QFRhsIRdozqJTs+rSyR8Voo9VWT7xqSdIQiraRzZIurlp6VfRk4jC0upz/KSkg2P0i4alOyVbpdLrdPs4tiaaICj3062WLdBe/6QYp5Es9NvNsSranH3FZUITuTFy4AwxWKXS3JWtNNJaK+I0W3Aotk7g9ftCVNq0PzqMqZvEiQtoHnEZ0uIAKUpKE7gry3+0CoeMioNvaDkrkYExBTF1NrOmbdbTlsUBwpT56Qe3AEYpy5dIrbtTmyHaWgISVhLijbkLpsI0YTIuMySIPxRN/iKutlCgpqUSJdBGxy7n63hQYpaTL0uApLyD+YQyklpRKiygSSSYQm1o9A0jtUdpZ1oDbXwivO2ipcLBshJg96ceSojxAOb2Eb7OuBmRfcJtkbUftGtTtOYqmMKamaZ4zFKkg4kH5Q6ogJJHM2CiOoh+StUZkJKMk2aV2eYKqcnNJqlQlOErL8JKnLKSDvcA8/AxbMk6ENkOJIPja4P0jxyXYQhTiwVW17xuPpAvFcVfhqCfIax0YqKpEzm5y2ZCuMNpZ4qgFMK0PSKJxxiFxypqk6ROTbUs0Ch1KH1BKlX2AvsP8AcXy5xHGXGpj4zLiSlxB0Nj4ERznimgO4drT8k4pTjZPEYeVu42dievI9R5RRkhq9hnDLZaihAypEekx9Hhigb6Po9vEecSjiUdRYgXlpLqL2LqkNf5KAicghsvzUwgDM45lKuidAP5gXEa9ac0dlzaSf2gq9oJoJKqVLuHdwFZ9ST7xoGN7CZz+gBsCrWB2kXO0EzgAZueShGNv4aA4vY6hKfeOCMyWbi9rdTtCPFOHaViKS/CVAOLKTmbcasFtn+0kHfYw6dJypU73r7JB0iR7jRNhm02GgiGiU2naKge7HlmZc4VZDTG7YdYzL8lEED1+0a+32Y4mcqi5IS7IbSCr8WXfglPjpc36WvF9gEkrvqdB0gqUQAlzxva/pAPFEuWeZRzfY7W1qATUqbuL3Lg05n5Y3endkmGpZgIm25medt3nHH1IBPQItb7xu6UDPfrBAJB0jlCKIeabXZ//Z\"/></div><div aria-hidden=\"true\" class=\"iggQde\"><div class=\"f3LoEf\" jsname=\"cuqikc\">Jin</div></div></a>, <a class=\"EASEnb PZPZlf\" href=\"/search?q=Kim+Taehyung&amp;stick=H4sIAAAAAAAAAOOQUeLSz9U3qEoyMa-oMuJOKilWyE3NTUotKo7idyotKUktUnAKCVYoz8zOPMUIV5pdicSpqDrFyKufrm9omGRuZmJkblqAJFlggcQpykPi5MCUVZpU5pYZ_GLkBlkEtXwRK493Zq5CSGJqRmVpXvotNkkGralVXJ-Z9swVNH3a4F8bvuSqveixn9sKVgEAB0UxF8MAAAA&amp;sa=X&amp;ved=2ahUKEwiF4KbOmJ7xAhWyTTABHV0KC-sQs9oBKAEwHnoECBcQBA\" jsname=\"ZWuC2\" title=\"V\"><div class=\"JAC8bd Yyyymd\"><div class=\"vlVVv\"></div><img alt=\"\" aria-hidden=\"true\" class=\"LV5Kte\" data-atf=\"8\" data-deferred=\"1\" id=\"tsuid68\" jsname=\"lt6Uyb\" src=\"data:image/jpeg;base64,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\"/></div><div aria-hidden=\"true\" class=\"iggQde\"><div class=\"f3LoEf\" jsname=\"cuqikc\">V</div></div></a>, <a class=\"EASEnb PZPZlf\" href=\"/search?q=Jungkook&amp;stick=H4sIAAAAAAAAAOOQUeLVT9c3NEwyNzMxMjctMOJOKilWyE3NTUotKo7idyotKUktUnAKCVYoz8zOPMXIpZ-rb1CVZGKeXYnEqag6xYhqDpJkgQUSpygPiZMDU1ZpUplbZvCLkRtkEdTyRawcXqV56dn5-dm32CQZtKZWcX1m2jNX0PRpg39t-JKr9qLHfm4rWAUALjsgXcIAAAA&amp;sa=X&amp;ved=2ahUKEwiF4KbOmJ7xAhWyTTABHV0KC-sQs9oBKAIwHnoECBcQBQ\" jsname=\"ZWuC2\" title=\"Jungkook\"><div class=\"JAC8bd Yyyymd\"><div class=\"vlVVv\"></div><img alt=\"\" aria-hidden=\"true\" class=\"LV5Kte\" data-atf=\"8\" data-deferred=\"1\" id=\"tsuid70\" jsname=\"lt6Uyb\" src=\"data:image/jpeg;base64,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\"/></div><div aria-hidden=\"true\" class=\"iggQde\"><div class=\"f3LoEf\" jsname=\"cuqikc\">Jungkook</div></div></a>, <a class=\"EASEnb PZPZlf\" href=\"/search?q=Kim+Namjoon&amp;stick=H4sIAAAAAAAAAOOQUeLSz9U3qEoyMS-wMOJOKilWyE3NTUotKo7idyotKUktUnAKCVYoz8zOPMUIV5pdicSpqDrFyKufrm9omGRuZmJkblqAJFlggcQpykPi5MCUVZpU5pYZ_GLkBlkEtXwRK7d3Zq6CX2JuVn5-3i02SQatqVVcn5n2zBU0fdrgXxu-5Kq96LGf2wpWAQDhKH34wgAAAA&amp;sa=X&amp;ved=2ahUKEwiF4KbOmJ7xAhWyTTABHV0KC-sQs9oBKAMwHnoECBcQBg\" jsname=\"ZWuC2\" title=\"RM\"><div class=\"JAC8bd Yyyymd\"><div class=\"vlVVv\"></div><img alt=\"\" aria-hidden=\"true\" class=\"LV5Kte\" data-atf=\"8\" data-deferred=\"1\" id=\"tsuid73\" jsname=\"lt6Uyb\" src=\"data:image/jpeg;base64,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\"/></div><div aria-hidden=\"true\" class=\"iggQde\"><div class=\"f3LoEf\" jsname=\"cuqikc\">RM</div></div></a>, <a href=\"/search?q=BTS+members&amp;stick=H4sIAAAAAAAAAOOQMeJOKilWyE3NTUotKo7idyotKUktUnAKCVYoz8zOPMXIpZ-rb1CVZGKeXYnEqag6xcirn65vaJhkbmZiZG5agCRZYIHEKcpD4uTAlFWaVOaWGfxi5AZZBLV8ESsy7xabJIPW1Cquz0x75gqaPm3wrw1fctVe9NjPbQWrAGXZxg62AAAA&amp;sa=X&amp;ved=2ahUKEwiF4KbOmJ7xAhWyTTABHV0KC-sQ4qYDMB56BAgXEAc\"><g-more-link class=\"hecFYc mIKy0c dGWpb tiS4rf\"><div class=\"MXl0lf mtqGb\"><span class=\"EZRelc z1asCe lYxQe\"><svg focusable=\"false\" viewbox=\"0 0 24 24\" xmlns=\"http://www.w3.org/2000/svg\"><path d=\"M12 4l-1.41 1.41L16.17 11H4v2h12.17l-5.58 5.59L12 20l8-8z\"></path></svg></span><span class=\"wUrVib\"><span>See more</span></span></div></g-more-link></a>, <a class=\"KSfJec F3dFTe AB4Wff u60jwe tzM4td\" href=\"/search?q=BTS+debut+date&amp;sa=X&amp;ved=2ahUKEwiF4KbOmJ7xAhWyTTABHV0KC-sQ1QIwIHoECAkQAQ\"><div class=\"aXBZVd\"></div><div class=\"s75CSd OhScic AB4Wff\">bts <b>debut date</b></div></a>, <a class=\"KSfJec F3dFTe AB4Wff u60jwe tzM4td\" href=\"/search?q=BTS+meaning&amp;sa=X&amp;ved=2ahUKEwiF4KbOmJ7xAhWyTTABHV0KC-sQ1QIwIXoECAgQAQ\"><div class=\"aXBZVd\"></div><div class=\"s75CSd OhScic AB4Wff\">bts <b>meaning</b></div></a>, <a class=\"oBa0Fe wrSo4\" data-async-trigger=\"duf3-95\" data-ved=\"2ahUKEwiF4KbOmJ7xAhWyTTABHV0KC-sQtw96BAgGEAI\" href=\"#\" jsaction=\"trigger.szjOR\" role=\"button\">Feedback</a>, <a id=\"BHDErf\"></a>, <a data-ved=\"2ahUKEwiF4KbOmJ7xAhWyTTABHV0KC-sQpLkCegQIARBM\" href=\"#\" id=\"eqQYZc\"></a>, <a href=\"https://support.google.com/websearch?p=ws_settings_location&amp;hl=en\" onmousedown=\"return rwt(this,'','','','','AOvVaw1RksNr8josGJkZOGdJzJEb','','2ahUKEwiF4KbOmJ7xAhWyTTABHV0KC-sQty56BAgBEE0','','',event)\">Learn more</a>, <a class=\"JWaTvb Fx4vi\" href=\"https://support.google.com/websearch/?p=ws_results_help&amp;hl=en&amp;fg=1\" onmousedown=\"return rwt(this,'','','','','AOvVaw3OMgCBLQR8XnB9gM70GF5s','','2ahUKEwiF4KbOmJ7xAhWyTTABHV0KC-sQ8KwCegQIARBO','','',event)\">Help</a>, <a class=\"Fx4vi\" data-bucket=\"websearch\" data-ved=\"2ahUKEwiF4KbOmJ7xAhWyTTABHV0KC-sQLnoECAEQTw\" href=\"#\" id=\"dk2qOd\" jsaction=\"trigger.YcfJ\" target=\"_blank\">Send feedback</a>, <a class=\"JWaTvb Fx4vi\" href=\"https://policies.google.com/privacy?hl=en&amp;fg=1\" onmousedown=\"return rwt(this,'','','','','AOvVaw25lN6TjyY2uszSImdhMejE','','2ahUKEwiF4KbOmJ7xAhWyTTABHV0KC-sQ8awCegQIARBQ','','',event)\">Privacy</a>, <a class=\"JWaTvb Fx4vi\" href=\"https://policies.google.com/terms?hl=en&amp;fg=1\" onmousedown=\"return rwt(this,'','','','','AOvVaw2d8Ahs2oc0jxVOgPfpr4Fe','','2ahUKEwiF4KbOmJ7xAhWyTTABHV0KC-sQ8qwCegQIARBR','','',event)\">Terms</a>]\n",
            "==================================================\n",
            "//////////////////////////// Songwriter, Producer : Butter BTS wiki\n"
          ],
          "name": "stdout"
        }
      ]
    },
    {
      "cell_type": "code",
      "metadata": {
        "colab": {
          "base_uri": "https://localhost:8080/"
        },
        "id": "B3j4fr-q-T9v",
        "outputId": "28296225-136b-4fa1-f6bb-a4c2b5be61d9"
      },
      "source": [
        "import pandas as pd\n",
        "import time\n",
        "df = pd.read_csv('./hot_new100.csv')\n",
        "time.sleep(2.5) ## 0.5초\n",
        "wd.get(\"https://google.com\")\n",
        "print(wd.current_url)\n",
        "\n",
        "song = df['Song Title'][0]\n",
        "artist = df['Singer'][0]\n",
        "keyword = str(song) + ' ' + str(artist) + ' wiki'\n",
        "print(keyword)\n",
        "\n",
        "# driver.find_element_by_name(<element의 name>).send_keys(<검색어>) \n",
        "element = wd.find_element_by_name('q')\n",
        "element.send_keys(keyword)\n",
        "element.submit()\n",
        "print(wd.current_url)\n",
        "# elem = wd.find_element_by_css_seletor('div.yuRUbf') \n",
        "# elem.click()\n",
        "print(wd.current_url)\n",
        "print('-----------------')\n",
        "html = wd.page_source\n",
        "bs = BeautifulSoup(html, 'html.parser')\n",
        "print(bs.find_all('a'))\n",
        "\n",
        "top_list = bs.find_all('a',href=True)\n",
        "for top in top_list:\n",
        "   \n",
        "#   print(top.attrs['href'])\n",
        "    if( 'en.wikipedia' in top.text ):\n",
        "     \n",
        "        print('='*50)\n",
        "        html1 = top.attrs['href']\n",
        "        response = requests.get(html1)\n",
        "        if response.status_code == 200:\n",
        "            html1 = response.text\n",
        "            bs1 = BeautifulSoup(html1, 'html.parser')\n",
        "        else : \n",
        "            print(response.status_code)\n",
        "        \n",
        "        break\n",
        "\n",
        "##### 위키 곡정보 페이지  #####\n",
        "    # writer,producer \n",
        "\n",
        "print(\"//////////////////////////// \" + \"Songwriter, Producer : \" + keyword)\n",
        "\n",
        "top_list1 = bs1.find_all('tr')  \n",
        "atitle = soup.find('Songwriter(s)')\n",
        "ul = soup.select_one('ul.basic1')\n",
        "\n",
        "\n",
        "for top in top_list1:\n",
        "    if('en.wikipedia' in top.text):\n",
        "        response = requests.get(html1)\n",
        "        if response.status_code == 200:\n",
        "            html1 = response.text\n",
        "            bs1 = BeautifulSoup(html1, 'html.parser')       \n",
        "            atitle = bs1.find('Songwriter(s)')\n",
        "            ul = bs1.select_one('ul.basic1')\n",
        "            alltext = bs1.select_one('#s_content > div.section > ul > li:nth-of-type(1) > dl > dt > a')\n",
        "        print('**',alltext.get_text())\n",
        "\n",
        "#df.head(10)\n",
        "#wd.quit()"
      ],
      "execution_count": null,
      "outputs": [
        {
          "output_type": "stream",
          "text": [
            "https://www.google.com/\n",
            "Butter BTS wiki\n",
            "https://www.google.com/search?q=Butter+BTS+wiki&source=hp&ei=CQPLYP7ICreWwbkPkoyN6A4&iflsig=AINFCbYAAAAAYMsRGZs9BDO0LH617pN0RKAsG__IU1du\n",
            "https://www.google.com/search?q=Butter+BTS+wiki&source=hp&ei=CQPLYP7ICreWwbkPkoyN6A4&iflsig=AINFCbYAAAAAYMsRGZs9BDO0LH617pN0RKAsG__IU1du\n",
            "-----------------\n",
            "[<a href=\"/search?q=Butter+BTS+wiki&amp;gbv=1&amp;sei=CQPLYJbhJtCcwbkPguitmAU\">here</a>, <a class=\"gyPpGe\" data-ved=\"0ahUKEwjWiee4m57xAhVQTjABHQJ0C1MQ67oDCAU\" jsaction=\"i3viod\" jsname=\"BKxS1e\" role=\"link\" tabindex=\"0\">Skip to main content</a>, <a class=\"gyPpGe\" href=\"https://support.google.com/websearch/answer/181196?hl=en\" jsname=\"KI37ad\" onmousedown=\"return rwt(this,'','','','','AOvVaw3elFYWr3XjJhjNYthIzFcp','','0ahUKEwjWiee4m57xAhVQTjABHQJ0C1MQwcMDCAY','','',event)\">Accessibility help</a>, <a class=\"gyPpGe\" data-async-trigger=\"duf3-78\" jsaction=\"trigger.szjOR\" jsname=\"JUypV\" role=\"link\" tabindex=\"0\">Accessibility feedback</a>, <a aria-expanded=\"false\" aria-label=\"Google apps\" class=\"gb_C\" data-eqid=\"0click\" href=\"https://www.google.com/intl/en/about/products?tab=wh\" role=\"button\" tabindex=\"0\"><svg class=\"gb_Ve\" focusable=\"false\" viewbox=\"0 0 24 24\"><path d=\"M6,8c1.1,0 2,-0.9 2,-2s-0.9,-2 -2,-2 -2,0.9 -2,2 0.9,2 2,2zM12,20c1.1,0 2,-0.9 2,-2s-0.9,-2 -2,-2 -2,0.9 -2,2 0.9,2 2,2zM6,20c1.1,0 2,-0.9 2,-2s-0.9,-2 -2,-2 -2,0.9 -2,2 0.9,2 2,2zM6,14c1.1,0 2,-0.9 2,-2s-0.9,-2 -2,-2 -2,0.9 -2,2 0.9,2 2,2zM12,14c1.1,0 2,-0.9 2,-2s-0.9,-2 -2,-2 -2,0.9 -2,2 0.9,2 2,2zM16,6c0,1.1 0.9,2 2,2s2,-0.9 2,-2 -0.9,-2 -2,-2 -2,0.9 -2,2zM12,8c1.1,0 2,-0.9 2,-2s-0.9,-2 -2,-2 -2,0.9 -2,2 0.9,2 2,2zM18,14c1.1,0 2,-0.9 2,-2s-0.9,-2 -2,-2 -2,0.9 -2,2 0.9,2 2,2zM18,20c1.1,0 2,-0.9 2,-2s-0.9,-2 -2,-2 -2,0.9 -2,2 0.9,2 2,2z\"></path></svg></a>, <a class=\"gb_3 gb_4 gb_9d gb_3c\" href=\"https://accounts.google.com/ServiceLogin?hl=en&amp;passive=true&amp;continue=https://www.google.com/search%3Fq%3DButter%2BBTS%2Bwiki%26source%3Dhp%26ei%3DCQPLYP7ICreWwbkPkoyN6A4%26iflsig%3DAINFCbYAAAAAYMsRGZs9BDO0LH617pN0RKAsG__IU1du&amp;ec=GAZAAQ\" target=\"_top\">Sign in</a>, <a data-hveid=\"8\" href=\"https://www.google.com/webhp?hl=en&amp;sa=X&amp;ved=0ahUKEwjWiee4m57xAhVQTjABHQJ0C1MQPAgI\" id=\"logo\" title=\"Go to Google Home\"><img alt=\"Google\" data-atf=\"1\" height=\"30\" src=\"/images/branding/googlelogo/2x/googlelogo_color_92x30dp.png\" width=\"92\"/></a>, <a class=\"oBa0Fe wrSo4 aciXEb\" data-async-trigger=\"duf3-46\" data-ved=\"0ahUKEwjWiee4m57xAhVQTjABHQJ0C1MQtw8IEA\" href=\"#\" id=\"sbfblt\" jsaction=\"trigger.szjOR\" role=\"button\">Report inappropriate predictions</a>, <a class=\"hide-focus-ring\" data-hveid=\"CAEQAw\" href=\"/search?q=Butter+BTS+wiki&amp;source=lnms&amp;tbm=vid&amp;sa=X&amp;ved=2ahUKEwjWiee4m57xAhVQTjABHQJ0C1MQ_AUoAXoECAEQAw\"><span class=\"bmaJhd iJddsb\" style=\"height:16px;width:16px\"><svg focusable=\"false\" viewbox=\"0 0 24 24\"><path d=\"M10 16.5l6-4.5-6-4.5v9zM5 20h14a1 1 0 0 0 1-1V5a1 1 0 0 0-1-1H5a1 1 0 0 0-1 1v14a1 1 0 0 0 1 1zm14.5 2H5a3 3 0 0 1-3-3V4.4A2.4 2.4 0 0 1 4.4 2h15.2A2.4 2.4 0 0 1 22 4.4v15.1a2.5 2.5 0 0 1-2.5 2.5\"></path></svg></span>Videos</a>, <a class=\"hide-focus-ring\" data-hveid=\"CAEQBA\" href=\"/search?q=Butter+BTS+wiki&amp;source=lnms&amp;tbm=isch&amp;sa=X&amp;ved=2ahUKEwjWiee4m57xAhVQTjABHQJ0C1MQ_AUoAnoECAEQBA\"><span class=\"bmaJhd iJddsb\" style=\"height:16px;width:16px\"><svg focusable=\"false\" viewbox=\"0 0 24 24\"><path d=\"M14 13l4 5H6l4-4 1.79 1.78L14 13zm-6.01-2.99A2 2 0 0 0 8 6a2 2 0 0 0-.01 4.01zM22 5v14a3 3 0 0 1-3 2.99H5c-1.64 0-3-1.36-3-3V5c0-1.64 1.36-3 3-3h14c1.65 0 3 1.36 3 3zm-2.01 0a1 1 0 0 0-1-1H5a1 1 0 0 0-1 1v14a1 1 0 0 0 1 1h7v-.01h7a1 1 0 0 0 1-1V5\"></path></svg></span>Images</a>, <a class=\"hide-focus-ring\" data-hveid=\"CAEQBQ\" href=\"/search?q=Butter+BTS+wiki&amp;source=lnms&amp;tbm=nws&amp;sa=X&amp;ved=2ahUKEwjWiee4m57xAhVQTjABHQJ0C1MQ_AUoA3oECAEQBQ\"><span class=\"bmaJhd iJddsb\" style=\"height:16px;width:16px\"><svg focusable=\"false\" viewbox=\"0 0 24 24\"><path d=\"M12 11h6v2h-6v-2zm-6 6h12v-2H6v2zm0-4h4V7H6v6zm16-7.22v12.44c0 1.54-1.34 2.78-3 2.78H5c-1.64 0-3-1.25-3-2.78V5.78C2 4.26 3.36 3 5 3h14c1.64 0 3 1.25 3 2.78zM19.99 12V5.78c0-.42-.46-.78-1-.78H5c-.54 0-1 .36-1 .78v12.44c0 .42.46.78 1 .78h14c.54 0 1-.36 1-.78V12zM12 9h6V7h-6v2\"></path></svg></span>News</a>, <a class=\"hide-focus-ring\" data-hveid=\"CAEQBg\" href=\"https://maps.google.com/maps?q=Butter+BTS+wiki&amp;iflsig=AINFCbYAAAAAYMsRGZs9BDO0LH617pN0RKAsG__IU1du&amp;um=1&amp;ie=UTF-8&amp;sa=X&amp;ved=2ahUKEwjWiee4m57xAhVQTjABHQJ0C1MQ_AUoBHoECAEQBg\"><span class=\"bmaJhd iJddsb\" style=\"height:16px;width:16px\"><svg focusable=\"false\" viewbox=\"0 0 16 16\"><path d=\"M7.503 0c3.09 0 5.502 2.487 5.502 5.427 0 2.337-1.13 3.694-2.26 5.05-.454.528-.906 1.13-1.358 1.734-.452.603-.754 1.508-.98 1.96-.226.452-.377.829-.904.829-.528 0-.678-.377-.905-.83-.226-.451-.527-1.356-.98-1.959-.452-.603-.904-1.206-1.356-1.734C3.132 9.121 2 7.764 2 5.427 2 2.487 4.412 0 7.503 0zm0 1.364c-2.283 0-4.14 1.822-4.14 4.063 0 1.843.86 2.873 1.946 4.177.468.547.942 1.178 1.4 1.79.34.452.596.99.794 1.444.198-.455.453-.992.793-1.445.459-.61.931-1.242 1.413-1.803 1.074-1.29 1.933-2.32 1.933-4.163 0-2.24-1.858-4.063-4.139-4.063zm0 2.734a1.33 1.33 0 11-.001 2.658 1.33 1.33 0 010-2.658\"></path></svg></span>Maps</a>, <a href=\"/search?q=Butter+BTS+wiki&amp;source=lnms&amp;tbm=shop&amp;sa=X&amp;ved=2ahUKEwjWiee4m57xAhVQTjABHQJ0C1MQ_AUoAHoECAEQCg\" role=\"menuitem\" tabindex=\"-1\"><span class=\"bmaJhd iJddsb\" style=\"height:16px;width:16px\"><svg focusable=\"false\" viewbox=\"0 0 24 24\"><path d=\"M21.11 2.89A3.02 3.02 0 0 0 18.95 2h-5.8c-.81 0-1.58.31-2.16.89L7.25 6.63 2.9 10.98a3.06 3.06 0 0 0 0 4.32l5.79 5.8a3.05 3.05 0 0 0 4.32.01l8.09-8.1c.58-.58.9-1.34.9-2.16v-5.8c0-.81-.32-1.59-.89-2.16zM20 10.85c0 .28-.12.54-.32.74l-3.73 3.74-4.36 4.36c-.41.41-1.08.41-1.49 0l-2.89-2.9-2.9-2.9a1.06 1.06 0 0 1 0-1.49l8.1-8.1c.2-.2.46-.3.74-.3l5.8-.01A1.05 1.05 0 0 1 20 5.05v5.8zM16 6c1.1 0 2 .9 2 2s-.9 2-2 2-2-.9-2-2 .9-2 2-2\"></path></svg></span>Shopping</a>, <a href=\"/search?q=Butter+BTS+wiki&amp;source=lnms&amp;tbm=bks&amp;sa=X&amp;ved=2ahUKEwjWiee4m57xAhVQTjABHQJ0C1MQ_AUoAXoECAEQCw\" role=\"menuitem\" tabindex=\"-1\"><span class=\"bmaJhd iJddsb\" style=\"height:16px;width:16px\"><svg focusable=\"false\" viewbox=\"0 0 24 24\"><path d=\"M18 2H6a2 2 0 0 0-2 2v16c0 1.1.9 2 2 2h12a2 2 0 0 0 2-2V4a2 2 0 0 0-2-2zm0 18H6V4h2v8l2.5-1.5L13 12V4h5v16\"></path></svg></span>Books</a>, <a href=\"https://www.google.com/flights?q=Butter+BTS+wiki&amp;source=lnms&amp;tbm=flm&amp;sa=X&amp;ved=2ahUKEwjWiee4m57xAhVQTjABHQJ0C1MQ_AUoAnoECAEQDA\" role=\"menuitem\" tabindex=\"-1\"><span class=\"bmaJhd iJddsb\" style=\"height:16px;width:16px\"><svg focusable=\"false\" viewbox=\"0 0 24 24\"><path d=\"M12.98 12.89l-4.03 4.03.42 2.95L8.24 21l-1.87-3.37L3 15.76l1.12-1.12 2.95.42 4.03-4.03L3 6.77l1.5-1.5 10.04 2.32 4.2-4.2a1.32 1.32 0 0 1 1.87 0c.52.52.52 1.36 0 1.87l-4.2 4.2 2.32 10.04-1.5 1.5-4.25-8.11\"></path></svg></span>Flights</a>, <a href=\"https://www.google.com/finance?sa=X&amp;ved=2ahUKEwjWiee4m57xAhVQTjABHQJ0C1MQ_AUoA3oECAEQDQ\" role=\"menuitem\" tabindex=\"-1\"><span class=\"bmaJhd iJddsb\" style=\"height:16px;width:16px\"><svg focusable=\"false\" viewbox=\"0 0 24 24\"><path d=\"M6 15.5l-3 2.94V10h3v5.5zm5-1.84l-1.57-1.34L8 13.64V6h3v7.66zM16 12l-3 3V2h3v10zm2.81-.19L17 10h5v5l-1.79-1.79L13 20.36l-3.47-3.02L5.75 21H3l6.47-6.34L13 17.64l5.81-5.83\"></path></svg></span>Finance</a>, <a aria-haspopup=\"true\" class=\"hide-focus-ring GOE98c CaY96\" href=\"/preferences\" id=\"abar_button_opt\" jsaction=\"WFrRFb;keydown:uYT2Vb\" onmousedown=\"return rwt(this,'','','','','AOvVaw0OF5nJgUk6CtyQZljEZa3L','','2ahUKEwjWiee4m57xAhVQTjABHQJ0C1MQn_YBegQIARAP','','',event)\" role=\"button\">Settings</a>, <a href=\"/preferences?hl=en&amp;prev=https://www.google.com/search?q%3DButter%2BBTS%2Bwiki%26source%3Dhp%26ei%3DCQPLYP7ICreWwbkPkoyN6A4%26iflsig%3DAINFCbYAAAAAYMsRGZs9BDO0LH617pN0RKAsG__IU1du&amp;sa=X&amp;ved=2ahUKEwjWiee4m57xAhVQTjABHQJ0C1MQo_oBKAF6BAgBEBI\" role=\"menuitem\" tabindex=\"-1\">Search settings</a>, <a href=\"/preferences?hl=en&amp;prev=https://www.google.com/search?q%3DButter%2BBTS%2Bwiki%26source%3Dhp%26ei%3DCQPLYP7ICreWwbkPkoyN6A4%26iflsig%3DAINFCbYAAAAAYMsRGZs9BDO0LH617pN0RKAsG__IU1du&amp;sa=X&amp;ved=2ahUKEwjWiee4m57xAhVQTjABHQJ0C1MQo_oBKAJ6BAgBEBM#languages\" role=\"menuitem\" tabindex=\"-1\"><span>Languages</span></a>, <a href=\"/setprefs?safeui=on&amp;sig=0_WIE32ntkLyMRVhhG1a3S-9C7YO4%3D&amp;prev=https://www.google.com/search?q%3DButter%2BBTS%2Bwiki%26source%3Dhp%26ei%3DCQPLYP7ICreWwbkPkoyN6A4%26iflsig%3DAINFCbYAAAAAYMsRGZs9BDO0LH617pN0RKAsG__IU1du&amp;sa=X&amp;ved=2ahUKEwjWiee4m57xAhVQTjABHQJ0C1MQo_oBKAN6BAgBEBQ\" id=\"safesearch\" jsaction=\"CojpKc\" jscontroller=\"mD3xrf\" role=\"menuitem\" tabindex=\"-1\"><div>Hide explicit results</div></a>, <a href=\"/advanced_search?q=Butter+BTS+wiki&amp;hl=en&amp;sa=X&amp;ved=2ahUKEwjWiee4m57xAhVQTjABHQJ0C1MQo_oBKAR6BAgBEBU\" role=\"menuitem\" tabindex=\"-1\">Advanced search</a>, <a href=\"/history/optout?hl=en&amp;sa=X&amp;ved=2ahUKEwjWiee4m57xAhVQTjABHQJ0C1MQo_oBKAV6BAgBEBY\" role=\"menuitem\" tabindex=\"-1\">Search history</a>, <a href=\"/history/privacyadvisor/search/unauth?utm_source=googlemenu&amp;sa=X&amp;ved=2ahUKEwjWiee4m57xAhVQTjABHQJ0C1MQo_oBKAZ6BAgBEBc\" role=\"menuitem\" tabindex=\"-1\">Your data in Search</a>, <a href=\"https://support.google.com/websearch/?source=g&amp;hl=en&amp;sa=X&amp;ved=2ahUKEwjWiee4m57xAhVQTjABHQJ0C1MQo_oBKAd6BAgBEBg\" role=\"menuitem\" tabindex=\"-1\">Search help</a>, <a href=\"/search?q=Butter+BTS+wiki&amp;source=lnt&amp;tbs=qdr:h&amp;sa=X&amp;ved=2ahUKEwjWiee4m57xAhVQTjABHQJ0C1MQpwV6BAgBECA\" role=\"menuitem\" tabindex=\"-1\">Past hour</a>, <a href=\"/search?q=Butter+BTS+wiki&amp;source=lnt&amp;tbs=qdr:d&amp;sa=X&amp;ved=2ahUKEwjWiee4m57xAhVQTjABHQJ0C1MQpwV6BAgBECE\" role=\"menuitem\" tabindex=\"-1\">Past 24 hours</a>, <a href=\"/search?q=Butter+BTS+wiki&amp;source=lnt&amp;tbs=qdr:w&amp;sa=X&amp;ved=2ahUKEwjWiee4m57xAhVQTjABHQJ0C1MQpwV6BAgBECI\" role=\"menuitem\" tabindex=\"-1\">Past week</a>, <a href=\"/search?q=Butter+BTS+wiki&amp;source=lnt&amp;tbs=qdr:m&amp;sa=X&amp;ved=2ahUKEwjWiee4m57xAhVQTjABHQJ0C1MQpwV6BAgBECM\" role=\"menuitem\" tabindex=\"-1\">Past month</a>, <a href=\"/search?q=Butter+BTS+wiki&amp;source=lnt&amp;tbs=qdr:y&amp;sa=X&amp;ved=2ahUKEwjWiee4m57xAhVQTjABHQJ0C1MQpwV6BAgBECQ\" role=\"menuitem\" tabindex=\"-1\">Past year</a>, <a href=\"/search?q=Butter+BTS+wiki&amp;source=lnt&amp;tbs=li:1&amp;sa=X&amp;ved=2ahUKEwjWiee4m57xAhVQTjABHQJ0C1MQpwV6BAgBECs\" role=\"menuitem\" tabindex=\"-1\">Verbatim</a>, <a data-ved=\"2ahUKEwjWiee4m57xAhVQTjABHQJ0C1MQFjAAegQIAhAD\" href=\"https://en.wikipedia.org/wiki/Butter_(song)\" onmousedown=\"return rwt(this,'','','','','AOvVaw0NonK0sb_CN231SzrHWjb7','','2ahUKEwjWiee4m57xAhVQTjABHQJ0C1MQFjAAegQIAhAD','','',event)\"><br/><h3 class=\"LC20lb DKV0Md\">Butter (song) - Wikipedia</h3><div class=\"TbwUpd NJjxre\"><cite class=\"iUh30 Zu0yb qLRx3b tjvcx\">https://en.wikipedia.org<span class=\"dyjrff qzEoUe\"> › wiki › Butter_(song)</span></cite></div></a>, <a href=\"https://en.wikipedia.org/wiki/Wikipedia\">Wikipedia</a>, <a href=\"https://en.wikipedia.org/wiki/Butter_(song)\" target=\"_blank\">https://en.wikipedia.org/wiki/Butter_(song)</a>, <a class=\"O0oZCe\" data-ved=\"2ahUKEwjWiee4m57xAhVQTjABHQJ0C1MQ0r4HMAB6BAgCEAo\" jsname=\"oyt78e\" role=\"link\" tabindex=\"0\">Send feedback on this info</a>, <a href=\"https://myactivity.google.com/privacyadvisor/search\" tabindex=\"0\" target=\"_blank\"><div class=\"gziGLd WGYX8\" id=\"qCA1yf\"><span class=\"cQkxXe\"><span class=\"mdUiPd S003Ke mtnwac z1asCe E9hVAb\" style=\"height:14px;line-height:14px;width:14px\"><svg focusable=\"false\" viewbox=\"0 0 24 24\" xmlns=\"http://www.w3.org/2000/svg\"><path d=\"M19.43 12.98c.04-.32.07-.64.07-.98s-.03-.66-.07-.98l2.11-1.65c.19-.15.24-.42.12-.64l-2-3.46c-.12-.22-.39-.3-.61-.22l-2.49 1c-.52-.4-1.08-.73-1.69-.98l-.38-2.65C14.46 2.18 14.25 2 14 2h-4c-.25 0-.46.18-.49.42l-.38 2.65c-.61.25-1.17.59-1.69.98l-2.49-1c-.23-.09-.49 0-.61.22l-2 3.46c-.13.22-.07.49.12.64l2.11 1.65c-.04.32-.07.65-.07.98s.03.66.07.98l-2.11 1.65c-.19.15-.24.42-.12.64l2 3.46c.12.22.39.3.61.22l2.49-1c.52.4 1.08.73 1.69.98l.38 2.65c.03.24.24.42.49.42h4c.25 0 .46-.18.49-.42l.38-2.65c.61-.25 1.17-.59 1.69-.98l2.49 1c.23.09.49 0 .61-.22l2-3.46c.12-.22.07-.49-.12-.64l-2.11-1.65zM12 15.5c-1.93 0-3.5-1.57-3.5-3.5s1.57-3.5 3.5-3.5 3.5 1.57 3.5 3.5-1.57 3.5-3.5 3.5z\"></path></svg></span> <span>Privacy settings</span></span></div></a>, <a href=\"https://www.google.com/search/howsearchworks/\" tabindex=\"0\" target=\"_blank\"><div class=\"gziGLd WGYX8\" id=\"fGmxxe\"><span class=\"cQkxXe\"><span class=\"mdUiPd S003Ke mtnwac z1asCe MZy1Rb\" style=\"height:14px;line-height:14px;width:14px\"><svg focusable=\"false\" viewbox=\"0 0 24 24\" xmlns=\"http://www.w3.org/2000/svg\"><path d=\"M15.5 14h-.79l-.28-.27A6.471 6.471 0 0 0 16 9.5 6.5 6.5 0 1 0 9.5 16c1.61 0 3.09-.59 4.23-1.57l.27.28v.79l5 4.99L20.49 19l-4.99-5zm-6 0C7.01 14 5 11.99 5 9.5S7.01 5 9.5 5 14 7.01 14 9.5 11.99 14 9.5 14z\"></path></svg></span><span>How Search works</span></span></div></a>, <a href=\"https://webcache.googleusercontent.com/search?q=cache:WTZbEjQbjb4J:https://en.wikipedia.org/wiki/Butter_(song)+&amp;cd=1&amp;hl=en&amp;ct=clnk&amp;gl=us\" onmousedown=\"return rwt(this,'','','','','AOvVaw3yLxXFwYTlbxlScci5pmll','','2ahUKEwjWiee4m57xAhVQTjABHQJ0C1MQIDAAegQIAhAO','','',event)\"><span>Cached</span></a>, <a href=\"https://en.wikipedia.org/wiki/Jenna_Andrews\" onmousedown=\"return rwt(this,'','','','','AOvVaw2EtJzzac0Aeu4nJ2D7JJZM','','2ahUKEwjWiee4m57xAhVQTjABHQJ0C1MQs2YoADAAegQIAhAS','','',event)\">Jenna Andrews</a>, <a href=\"https://en.wikipedia.org/wiki/Dance-pop\" onmousedown=\"return rwt(this,'','','','','AOvVaw0dxrgmowGCki4q2SRytLky','','2ahUKEwjWiee4m57xAhVQTjABHQJ0C1MQs2YoADAAegQIAhAV','','',event)\">Dance-pop</a>, <a href=\"https://en.wikipedia.org/wiki/Electronic_dance_music\" onmousedown=\"return rwt(this,'','','','','AOvVaw1C-73uaAbgMTS4ffBTBN92','','2ahUKEwjWiee4m57xAhVQTjABHQJ0C1MQs2YoATAAegQIAhAW','','',event)\">EDM</a>, <a href=\"https://en.wikipedia.org/wiki/Butter_(song)#Composition_and_lyrics\" onmousedown=\"return rwt(this,'','','','','AOvVaw0NonK0sb_CN231SzrHWjb7','','2ahUKEwjWiee4m57xAhVQTjABHQJ0C1MQ0gIoAHoECAMQAQ','','',event)\">Composition and lyrics</a>, <a href=\"https://en.wikipedia.org/wiki/Butter_(song)#Music_video\" onmousedown=\"return rwt(this,'','','','','AOvVaw0NonK0sb_CN231SzrHWjb7','','2ahUKEwjWiee4m57xAhVQTjABHQJ0C1MQ0gIoAXoECAMQAg','','',event)\">Music video</a>, <a href=\"https://en.wikipedia.org/wiki/Butter_(song)#Commercial_performance\" onmousedown=\"return rwt(this,'','','','','AOvVaw0NonK0sb_CN231SzrHWjb7','','2ahUKEwjWiee4m57xAhVQTjABHQJ0C1MQ0gIoAnoECAMQAw','','',event)\">Commercial performance</a>, <a href=\"https://en.wikipedia.org/wiki/Butter_(song)#Live_performances\" onmousedown=\"return rwt(this,'','','','','AOvVaw0NonK0sb_CN231SzrHWjb7','','2ahUKEwjWiee4m57xAhVQTjABHQJ0C1MQ0gIoA3oECAMQBA','','',event)\">Live performances</a>, <a data-ved=\"2ahUKEwjWiee4m57xAhVQTjABHQJ0C1MQFjABegQIBBAE\" href=\"https://en.wikipedia.org/wiki/BTS\" onmousedown=\"return rwt(this,'','','','','AOvVaw3o2sgk99LEIQfYOrkPkbcB','','2ahUKEwjWiee4m57xAhVQTjABHQJ0C1MQFjABegQIBBAE','','',event)\"><br/><h3 class=\"LC20lb DKV0Md\">BTS - Wikipedia</h3><div class=\"TbwUpd NJjxre\"><cite class=\"iUh30 Zu0yb qLRx3b tjvcx\">https://en.wikipedia.org<span class=\"dyjrff qzEoUe\"> › wiki › BTS</span></cite></div></a>, <a href=\"https://en.wikipedia.org/wiki/Wikipedia\">Wikipedia</a>, <a href=\"https://en.wikipedia.org/wiki/BTS\" target=\"_blank\">https://en.wikipedia.org/wiki/BTS</a>, <a class=\"O0oZCe\" data-ved=\"2ahUKEwjWiee4m57xAhVQTjABHQJ0C1MQ0r4HMAF6BAgEEAs\" jsname=\"oyt78e\" role=\"link\" tabindex=\"0\">Send feedback on this info</a>, <a href=\"https://myactivity.google.com/privacyadvisor/search\" tabindex=\"0\" target=\"_blank\"><div class=\"gziGLd WGYX8\" id=\"qCA1yf\"><span class=\"cQkxXe\"><span class=\"mdUiPd S003Ke mtnwac z1asCe E9hVAb\" style=\"height:14px;line-height:14px;width:14px\"><svg focusable=\"false\" viewbox=\"0 0 24 24\" xmlns=\"http://www.w3.org/2000/svg\"><path d=\"M19.43 12.98c.04-.32.07-.64.07-.98s-.03-.66-.07-.98l2.11-1.65c.19-.15.24-.42.12-.64l-2-3.46c-.12-.22-.39-.3-.61-.22l-2.49 1c-.52-.4-1.08-.73-1.69-.98l-.38-2.65C14.46 2.18 14.25 2 14 2h-4c-.25 0-.46.18-.49.42l-.38 2.65c-.61.25-1.17.59-1.69.98l-2.49-1c-.23-.09-.49 0-.61.22l-2 3.46c-.13.22-.07.49.12.64l2.11 1.65c-.04.32-.07.65-.07.98s.03.66.07.98l-2.11 1.65c-.19.15-.24.42-.12.64l2 3.46c.12.22.39.3.61.22l2.49-1c.52.4 1.08.73 1.69.98l.38 2.65c.03.24.24.42.49.42h4c.25 0 .46-.18.49-.42l.38-2.65c.61-.25 1.17-.59 1.69-.98l2.49 1c.23.09.49 0 .61-.22l2-3.46c.12-.22.07-.49-.12-.64l-2.11-1.65zM12 15.5c-1.93 0-3.5-1.57-3.5-3.5s1.57-3.5 3.5-3.5 3.5 1.57 3.5 3.5-1.57 3.5-3.5 3.5z\"></path></svg></span> <span>Privacy settings</span></span></div></a>, <a href=\"https://www.google.com/search/howsearchworks/\" tabindex=\"0\" target=\"_blank\"><div class=\"gziGLd WGYX8\" id=\"fGmxxe\"><span class=\"cQkxXe\"><span class=\"mdUiPd S003Ke mtnwac z1asCe MZy1Rb\" style=\"height:14px;line-height:14px;width:14px\"><svg focusable=\"false\" viewbox=\"0 0 24 24\" xmlns=\"http://www.w3.org/2000/svg\"><path d=\"M15.5 14h-.79l-.28-.27A6.471 6.471 0 0 0 16 9.5 6.5 6.5 0 1 0 9.5 16c1.61 0 3.09-.59 4.23-1.57l.27.28v.79l5 4.99L20.49 19l-4.99-5zm-6 0C7.01 14 5 11.99 5 9.5S7.01 5 9.5 5 14 7.01 14 9.5 11.99 14 9.5 14z\"></path></svg></span><span>How Search works</span></span></div></a>, <a href=\"/search?q=related:https://en.wikipedia.org/wiki/BTS+Butter+BTS+wiki&amp;sa=X&amp;ved=2ahUKEwjWiee4m57xAhVQTjABHQJ0C1MQHzABegQIBBAP\"><span>Similar</span></a>, <a href=\"https://en.wikipedia.org/wiki/BTS_singles_discography\" onmousedown=\"return rwt(this,'','','','','AOvVaw1Cl5VjiWsjFxA_RY5BDWlA','','2ahUKEwjWiee4m57xAhVQTjABHQJ0C1MQ0gIoAHoECAUQAQ','','',event)\">BTS singles discography</a>, <a href=\"https://en.wikipedia.org/wiki/Be_(BTS_album)\" onmousedown=\"return rwt(this,'','','','','AOvVaw1G2tfk9jwnMrSOc8k9x1xw','','2ahUKEwjWiee4m57xAhVQTjABHQJ0C1MQ0gIoAXoECAUQAg','','',event)\">BTS album</a>, <a href=\"https://en.wikipedia.org/wiki/Dynamite_(BTS_song)\" onmousedown=\"return rwt(this,'','','','','AOvVaw15qzK9DGDUPiXZy0AhQ8ce','','2ahUKEwjWiee4m57xAhVQTjABHQJ0C1MQ0gIoAnoECAUQAw','','',event)\">Dynamite (BTS song)</a>, <a href=\"https://en.wikipedia.org/wiki/BTS_videography\" onmousedown=\"return rwt(this,'','','','','AOvVaw0pWZOsqLZig2bX5MLrH79W','','2ahUKEwjWiee4m57xAhVQTjABHQJ0C1MQ0gIoA3oECAUQBA','','',event)\">BTS videography</a>, <a data-ved=\"2ahUKEwjWiee4m57xAhVQTjABHQJ0C1MQFjACegQIGxAE\" href=\"https://bts.fandom.com/wiki/Butter\" onmousedown=\"return rwt(this,'','','','','AOvVaw1fZjwgcpcjA76so7eRwxJo','','2ahUKEwjWiee4m57xAhVQTjABHQJ0C1MQFjACegQIGxAE','','',event)\"><br/><h3 class=\"LC20lb DKV0Md\">Butter | BTS Wiki | Fandom</h3><div class=\"TbwUpd NJjxre\"><cite class=\"iUh30 Zu0yb qLRx3b tjvcx\">https://bts.fandom.com<span class=\"dyjrff qzEoUe\"> › wiki › Butter</span></cite></div></a>, <a href=\"https://en.wikipedia.org/wiki/Fandom_(website)\">Wikipedia</a>, <a href=\"https://bts.fandom.com/wiki/Butter\" target=\"_blank\">https://bts.fandom.com/wiki/Butter</a>, <a class=\"O0oZCe\" data-ved=\"2ahUKEwjWiee4m57xAhVQTjABHQJ0C1MQ0r4HMAJ6BAgbEAs\" jsname=\"oyt78e\" role=\"link\" tabindex=\"0\">Send feedback on this info</a>, <a href=\"https://myactivity.google.com/privacyadvisor/search\" tabindex=\"0\" target=\"_blank\"><div class=\"gziGLd WGYX8\" id=\"qCA1yf\"><span class=\"cQkxXe\"><span class=\"mdUiPd S003Ke mtnwac z1asCe E9hVAb\" style=\"height:14px;line-height:14px;width:14px\"><svg focusable=\"false\" viewbox=\"0 0 24 24\" xmlns=\"http://www.w3.org/2000/svg\"><path d=\"M19.43 12.98c.04-.32.07-.64.07-.98s-.03-.66-.07-.98l2.11-1.65c.19-.15.24-.42.12-.64l-2-3.46c-.12-.22-.39-.3-.61-.22l-2.49 1c-.52-.4-1.08-.73-1.69-.98l-.38-2.65C14.46 2.18 14.25 2 14 2h-4c-.25 0-.46.18-.49.42l-.38 2.65c-.61.25-1.17.59-1.69.98l-2.49-1c-.23-.09-.49 0-.61.22l-2 3.46c-.13.22-.07.49.12.64l2.11 1.65c-.04.32-.07.65-.07.98s.03.66.07.98l-2.11 1.65c-.19.15-.24.42-.12.64l2 3.46c.12.22.39.3.61.22l2.49-1c.52.4 1.08.73 1.69.98l.38 2.65c.03.24.24.42.49.42h4c.25 0 .46-.18.49-.42l.38-2.65c.61-.25 1.17-.59 1.69-.98l2.49 1c.23.09.49 0 .61-.22l2-3.46c.12-.22.07-.49-.12-.64l-2.11-1.65zM12 15.5c-1.93 0-3.5-1.57-3.5-3.5s1.57-3.5 3.5-3.5 3.5 1.57 3.5 3.5-1.57 3.5-3.5 3.5z\"></path></svg></span> <span>Privacy settings</span></span></div></a>, <a href=\"https://www.google.com/search/howsearchworks/\" tabindex=\"0\" target=\"_blank\"><div class=\"gziGLd WGYX8\" id=\"fGmxxe\"><span class=\"cQkxXe\"><span class=\"mdUiPd S003Ke mtnwac z1asCe MZy1Rb\" style=\"height:14px;line-height:14px;width:14px\"><svg focusable=\"false\" viewbox=\"0 0 24 24\" xmlns=\"http://www.w3.org/2000/svg\"><path d=\"M15.5 14h-.79l-.28-.27A6.471 6.471 0 0 0 16 9.5 6.5 6.5 0 1 0 9.5 16c1.61 0 3.09-.59 4.23-1.57l.27.28v.79l5 4.99L20.49 19l-4.99-5zm-6 0C7.01 14 5 11.99 5 9.5S7.01 5 9.5 5 14 7.01 14 9.5 11.99 14 9.5 14z\"></path></svg></span><span>How Search works</span></span></div></a>, <a href=\"https://webcache.googleusercontent.com/search?q=cache:g-gkf6T2aWcJ:https://bts.fandom.com/wiki/Butter+&amp;cd=3&amp;hl=en&amp;ct=clnk&amp;gl=us\" onmousedown=\"return rwt(this,'','','','','AOvVaw1rZ4JJq5VYA-gn0F-iWjIa','','2ahUKEwjWiee4m57xAhVQTjABHQJ0C1MQIDACegQIGxAP','','',event)\"><span>Cached</span></a>, <a href=\"https://bts.fandom.com/wiki/Butter#Tracklist\" onmousedown=\"return rwt(this,'','','','','AOvVaw1fZjwgcpcjA76so7eRwxJo','','2ahUKEwjWiee4m57xAhVQTjABHQJ0C1MQ0gIoAHoECB0QAQ','','',event)\">Tracklist</a>, <a href=\"https://bts.fandom.com/wiki/Butter#Lyrics\" onmousedown=\"return rwt(this,'','','','','AOvVaw1fZjwgcpcjA76so7eRwxJo','','2ahUKEwjWiee4m57xAhVQTjABHQJ0C1MQ0gIoAXoECB0QAg','','',event)\">Lyrics</a>, <a href=\"https://bts.fandom.com/wiki/Butter#Awards_and_Nominations\" onmousedown=\"return rwt(this,'','','','','AOvVaw1fZjwgcpcjA76so7eRwxJo','','2ahUKEwjWiee4m57xAhVQTjABHQJ0C1MQ0gIoAnoECB0QAw','','',event)\">Awards and Nominations</a>, <a data-ved=\"2ahUKEwjWiee4m57xAhVQTjABHQJ0C1MQFjADegQIFxAE\" href=\"https://bts.fandom.com/wiki/Butter_(Single_album)\" onmousedown=\"return rwt(this,'','','','','AOvVaw38yOx_I02IZ2oFMUo_Pe-2','','2ahUKEwjWiee4m57xAhVQTjABHQJ0C1MQFjADegQIFxAE','','',event)\"><br/><h3 class=\"LC20lb DKV0Md\">Butter | BTS Wiki | Fandom</h3><div class=\"TbwUpd NJjxre\"><cite class=\"iUh30 Zu0yb qLRx3b tjvcx\">https://bts.fandom.com<span class=\"dyjrff qzEoUe\"> › wiki › Butter_(Single_album)</span></cite></div></a>, <a href=\"https://en.wikipedia.org/wiki/Fandom_(website)\">Wikipedia</a>, <a href=\"https://bts.fandom.com/wiki/Butter_(Single_album)\" target=\"_blank\">https://bts.fandom.com/wiki/Butter_(Single_album)</a>, <a class=\"O0oZCe\" data-ved=\"2ahUKEwjWiee4m57xAhVQTjABHQJ0C1MQ0r4HMAN6BAgXEAs\" jsname=\"oyt78e\" role=\"link\" tabindex=\"0\">Send feedback on this info</a>, <a href=\"https://myactivity.google.com/privacyadvisor/search\" tabindex=\"0\" target=\"_blank\"><div class=\"gziGLd WGYX8\" id=\"qCA1yf\"><span class=\"cQkxXe\"><span class=\"mdUiPd S003Ke mtnwac z1asCe E9hVAb\" style=\"height:14px;line-height:14px;width:14px\"><svg focusable=\"false\" viewbox=\"0 0 24 24\" xmlns=\"http://www.w3.org/2000/svg\"><path d=\"M19.43 12.98c.04-.32.07-.64.07-.98s-.03-.66-.07-.98l2.11-1.65c.19-.15.24-.42.12-.64l-2-3.46c-.12-.22-.39-.3-.61-.22l-2.49 1c-.52-.4-1.08-.73-1.69-.98l-.38-2.65C14.46 2.18 14.25 2 14 2h-4c-.25 0-.46.18-.49.42l-.38 2.65c-.61.25-1.17.59-1.69.98l-2.49-1c-.23-.09-.49 0-.61.22l-2 3.46c-.13.22-.07.49.12.64l2.11 1.65c-.04.32-.07.65-.07.98s.03.66.07.98l-2.11 1.65c-.19.15-.24.42-.12.64l2 3.46c.12.22.39.3.61.22l2.49-1c.52.4 1.08.73 1.69.98l.38 2.65c.03.24.24.42.49.42h4c.25 0 .46-.18.49-.42l.38-2.65c.61-.25 1.17-.59 1.69-.98l2.49 1c.23.09.49 0 .61-.22l2-3.46c.12-.22.07-.49-.12-.64l-2.11-1.65zM12 15.5c-1.93 0-3.5-1.57-3.5-3.5s1.57-3.5 3.5-3.5 3.5 1.57 3.5 3.5-1.57 3.5-3.5 3.5z\"></path></svg></span> <span>Privacy settings</span></span></div></a>, <a href=\"https://www.google.com/search/howsearchworks/\" tabindex=\"0\" target=\"_blank\"><div class=\"gziGLd WGYX8\" id=\"fGmxxe\"><span class=\"cQkxXe\"><span class=\"mdUiPd S003Ke mtnwac z1asCe MZy1Rb\" style=\"height:14px;line-height:14px;width:14px\"><svg focusable=\"false\" viewbox=\"0 0 24 24\" xmlns=\"http://www.w3.org/2000/svg\"><path d=\"M15.5 14h-.79l-.28-.27A6.471 6.471 0 0 0 16 9.5 6.5 6.5 0 1 0 9.5 16c1.61 0 3.09-.59 4.23-1.57l.27.28v.79l5 4.99L20.49 19l-4.99-5zm-6 0C7.01 14 5 11.99 5 9.5S7.01 5 9.5 5 14 7.01 14 9.5 11.99 14 9.5 14z\"></path></svg></span><span>How Search works</span></span></div></a>, <a href=\"https://webcache.googleusercontent.com/search?q=cache:uYmY7sYQ2dIJ:https://bts.fandom.com/wiki/Butter_(Single_album)+&amp;cd=4&amp;hl=en&amp;ct=clnk&amp;gl=us\" onmousedown=\"return rwt(this,'','','','','AOvVaw27M6bq9253I7XDNNeKLJ3w','','2ahUKEwjWiee4m57xAhVQTjABHQJ0C1MQIDADegQIFxAP','','',event)\"><span>Cached</span></a>, <a class=\"O0oZCe\" data-ved=\"2ahUKEwjWiee4m57xAhVQTjABHQJ0C1MQ0r4HegQIGRAE\" jsname=\"oyt78e\" role=\"link\" tabindex=\"0\">Send feedback on this info</a>, <a href=\"https://myactivity.google.com/privacyadvisor/search\" tabindex=\"0\" target=\"_blank\"><div class=\"gziGLd WGYX8\" id=\"qCA1yf\"><span class=\"cQkxXe\"><span class=\"mdUiPd S003Ke mtnwac z1asCe E9hVAb\" style=\"height:14px;line-height:14px;width:14px\"><svg focusable=\"false\" viewbox=\"0 0 24 24\" xmlns=\"http://www.w3.org/2000/svg\"><path d=\"M19.43 12.98c.04-.32.07-.64.07-.98s-.03-.66-.07-.98l2.11-1.65c.19-.15.24-.42.12-.64l-2-3.46c-.12-.22-.39-.3-.61-.22l-2.49 1c-.52-.4-1.08-.73-1.69-.98l-.38-2.65C14.46 2.18 14.25 2 14 2h-4c-.25 0-.46.18-.49.42l-.38 2.65c-.61.25-1.17.59-1.69.98l-2.49-1c-.23-.09-.49 0-.61.22l-2 3.46c-.13.22-.07.49.12.64l2.11 1.65c-.04.32-.07.65-.07.98s.03.66.07.98l-2.11 1.65c-.19.15-.24.42-.12.64l2 3.46c.12.22.39.3.61.22l2.49-1c.52.4 1.08.73 1.69.98l.38 2.65c.03.24.24.42.49.42h4c.25 0 .46-.18.49-.42l.38-2.65c.61-.25 1.17-.59 1.69-.98l2.49 1c.23.09.49 0 .61-.22l2-3.46c.12-.22.07-.49-.12-.64l-2.11-1.65zM12 15.5c-1.93 0-3.5-1.57-3.5-3.5s1.57-3.5 3.5-3.5 3.5 1.57 3.5 3.5-1.57 3.5-3.5 3.5z\"></path></svg></span> <span>Privacy settings</span></span></div></a>, <a href=\"https://www.google.com/search/howsearchworks/\" tabindex=\"0\" target=\"_blank\"><div class=\"gziGLd WGYX8\" id=\"fGmxxe\"><span class=\"cQkxXe\"><span class=\"mdUiPd S003Ke mtnwac z1asCe MZy1Rb\" style=\"height:14px;line-height:14px;width:14px\"><svg focusable=\"false\" viewbox=\"0 0 24 24\" xmlns=\"http://www.w3.org/2000/svg\"><path d=\"M15.5 14h-.79l-.28-.27A6.471 6.471 0 0 0 16 9.5 6.5 6.5 0 1 0 9.5 16c1.61 0 3.09-.59 4.23-1.57l.27.28v.79l5 4.99L20.49 19l-4.99-5zm-6 0C7.01 14 5 11.99 5 9.5S7.01 5 9.5 5 14 7.01 14 9.5 11.99 14 9.5 14z\"></path></svg></span><span>How Search works</span></span></div></a>, <a data-ved=\"2ahUKEwjWiee4m57xAhVQTjABHQJ0C1MQvBsoADAEegQIKxAC\" href=\"/search?q=Jenna+Andrews&amp;stick=H4sIAAAAAAAAAONgVuLSz9U3KDQrzDMoWMTK65Wal5eo4JiXUpRaXgwAexzN3B4AAAA&amp;sa=X&amp;ved=2ahUKEwjWiee4m57xAhVQTjABHQJ0C1MQvBsoADAEegQIKxAC\">Jenna Andrews</a>, <a data-ved=\"2ahUKEwjWiee4m57xAhVQTjABHQJ0C1MQvBsoATAEegQIKxAD\" href=\"/search?q=Ron+Perry&amp;stick=H4sIAAAAAAAAAONgVuLSz9U3qDIrKqgwXMTKGZSfpxCQWlRUCQCj_FEWGgAAAA&amp;sa=X&amp;ved=2ahUKEwjWiee4m57xAhVQTjABHQJ0C1MQvBsoATAEegQIKxAD\">Ron Perry</a>, <a href=\"/search?q=Who+wrote+butter+for+BTS%3F&amp;sa=X&amp;ved=2ahUKEwjWiee4m57xAhVQTjABHQJ0C1MQzmd6BAgZEAs\">Who wrote butter for BTS?</a>, <a data-ved=\"2ahUKEwjWiee4m57xAhVQTjABHQJ0C1MQFjAHegQIJhAD\" href=\"https://www.facebook.com/112761173795707/posts/philippines-is-the-most-hated-country-to-korea-right-now/121051109633380/\" onmousedown=\"return rwt(this,'','','','','AOvVaw3AOIZY5PybZTQ2INlB2X93','','2ahUKEwjWiee4m57xAhVQTjABHQJ0C1MQFjAHegQIJhAD','','',event)\"><br/><h3 class=\"LC20lb DKV0Md\">Army BTS - Philippines is the mOst hated country to Korea ...</h3><div class=\"TbwUpd NJjxre\"><cite class=\"iUh30 Zu0yb qLRx3b tjvcx\">https://www.facebook.com<span class=\"dyjrff qzEoUe\"> › posts › philippines-is-the-mo...</span></cite></div></a>, <a href=\"/search?q=What+is+BTS+mOst+hated+country%3F&amp;sa=X&amp;ved=2ahUKEwjWiee4m57xAhVQTjABHQJ0C1MQzmd6BAgZEA8\">What is BTS mOst hated country?</a>, <a data-ved=\"2ahUKEwjWiee4m57xAhVQTjABHQJ0C1MQFjAKegQIJRAD\" href=\"https://en.wikipedia.org/wiki/BTS_singles_discography\" onmousedown=\"return rwt(this,'','','','','AOvVaw1Cl5VjiWsjFxA_RY5BDWlA','','2ahUKEwjWiee4m57xAhVQTjABHQJ0C1MQFjAKegQIJRAD','','',event)\"><br/><h3 class=\"LC20lb DKV0Md\">BTS singles discography - Wikipedia</h3><div class=\"TbwUpd NJjxre\"><cite class=\"iUh30 Zu0yb qLRx3b tjvcx\">https://en.wikipedia.org<span class=\"dyjrff qzEoUe\"> › wiki › BTS_singles_discography</span></cite></div></a>, <a href=\"/search?q=What+is+BTS+biggest+hit%3F&amp;sa=X&amp;ved=2ahUKEwjWiee4m57xAhVQTjABHQJ0C1MQzmd6BAgZEBM\">What is BTS biggest hit?</a>, <a data-ved=\"2ahUKEwjWiee4m57xAhVQTjABHQJ0C1MQFjANegQIKRAD\" href=\"https://www.hypable.com/bts-song-album-list-complete-guide/\" onmousedown=\"return rwt(this,'','','','','AOvVaw1tTgDWxVIBTKsPQkSRKHHo','','2ahUKEwjWiee4m57xAhVQTjABHQJ0C1MQFjANegQIKRAD','','',event)\"><br/><h3 class=\"LC20lb DKV0Md\">BTS song, album list: A complete guide to every single tune, in order</h3><div class=\"TbwUpd NJjxre\"><cite class=\"iUh30 Zu0yb qLRx3b tjvcx\">https://www.hypable.com<span class=\"dyjrff qzEoUe\"> › bts-song-album-list-complete-...</span></cite></div></a>, <a href=\"/search?q=What+was+BTS+first+hit+song%3F&amp;sa=X&amp;ved=2ahUKEwjWiee4m57xAhVQTjABHQJ0C1MQzmd6BAgZEBc\">What was BTS first hit song?</a>, <a class=\"oBa0Fe wrSo4\" data-async-trigger=\"duf3-44-4\" data-ved=\"2ahUKEwjWiee4m57xAhVQTjABHQJ0C1MQtw96BAgZEBo\" href=\"#\" jsaction=\"trigger.szjOR\" role=\"button\">Feedback</a>, <a data-ved=\"2ahUKEwjWiee4m57xAhVQTjABHQJ0C1MQFjAOegQIIBAD\" href=\"https://variety.com/2021/music/news/bts-butter-columbia-records-ron-perry-songwriter-producer-1234977890/\" onmousedown=\"return rwt(this,'','','','','AOvVaw1x2HUXTVnRxTvhqjJ0todY','','2ahUKEwjWiee4m57xAhVQTjABHQJ0C1MQFjAOegQIIBAD','','',event)\"><br/><h3 class=\"LC20lb DKV0Md\">BTS' 'Butter' Was Co-Written by Columbia Records Chairman ...</h3><div class=\"TbwUpd NJjxre\"><cite class=\"iUh30 Zu0yb qLRx3b tjvcx\">https://variety.com<span class=\"dyjrff qzEoUe\"> › music › news › bts-butter-columbi...</span></cite></div></a>, <a href=\"https://en.wikipedia.org/wiki/Variety_(magazine)\">Wikipedia</a>, <a href=\"https://variety.com/2021/music/news/bts-butter-columbia-records-ron-perry-songwriter-producer-1234977890/\" target=\"_blank\">https://variety.com/2021/music/news/bts-butter-columbia-records-ron-perry-songwriter-producer-1234977890/</a>, <a class=\"O0oZCe\" data-ved=\"2ahUKEwjWiee4m57xAhVQTjABHQJ0C1MQ0r4HMA56BAggEAo\" jsname=\"oyt78e\" role=\"link\" tabindex=\"0\">Send feedback on this info</a>, <a href=\"https://myactivity.google.com/privacyadvisor/search\" tabindex=\"0\" target=\"_blank\"><div class=\"gziGLd WGYX8\" id=\"qCA1yf\"><span class=\"cQkxXe\"><span class=\"mdUiPd S003Ke mtnwac z1asCe E9hVAb\" style=\"height:14px;line-height:14px;width:14px\"><svg focusable=\"false\" viewbox=\"0 0 24 24\" xmlns=\"http://www.w3.org/2000/svg\"><path d=\"M19.43 12.98c.04-.32.07-.64.07-.98s-.03-.66-.07-.98l2.11-1.65c.19-.15.24-.42.12-.64l-2-3.46c-.12-.22-.39-.3-.61-.22l-2.49 1c-.52-.4-1.08-.73-1.69-.98l-.38-2.65C14.46 2.18 14.25 2 14 2h-4c-.25 0-.46.18-.49.42l-.38 2.65c-.61.25-1.17.59-1.69.98l-2.49-1c-.23-.09-.49 0-.61.22l-2 3.46c-.13.22-.07.49.12.64l2.11 1.65c-.04.32-.07.65-.07.98s.03.66.07.98l-2.11 1.65c-.19.15-.24.42-.12.64l2 3.46c.12.22.39.3.61.22l2.49-1c.52.4 1.08.73 1.69.98l.38 2.65c.03.24.24.42.49.42h4c.25 0 .46-.18.49-.42l.38-2.65c.61-.25 1.17-.59 1.69-.98l2.49 1c.23.09.49 0 .61-.22l2-3.46c.12-.22.07-.49-.12-.64l-2.11-1.65zM12 15.5c-1.93 0-3.5-1.57-3.5-3.5s1.57-3.5 3.5-3.5 3.5 1.57 3.5 3.5-1.57 3.5-3.5 3.5z\"></path></svg></span> <span>Privacy settings</span></span></div></a>, <a href=\"https://www.google.com/search/howsearchworks/\" tabindex=\"0\" target=\"_blank\"><div class=\"gziGLd WGYX8\" id=\"fGmxxe\"><span class=\"cQkxXe\"><span class=\"mdUiPd S003Ke mtnwac z1asCe MZy1Rb\" style=\"height:14px;line-height:14px;width:14px\"><svg focusable=\"false\" viewbox=\"0 0 24 24\" xmlns=\"http://www.w3.org/2000/svg\"><path d=\"M15.5 14h-.79l-.28-.27A6.471 6.471 0 0 0 16 9.5 6.5 6.5 0 1 0 9.5 16c1.61 0 3.09-.59 4.23-1.57l.27.28v.79l5 4.99L20.49 19l-4.99-5zm-6 0C7.01 14 5 11.99 5 9.5S7.01 5 9.5 5 14 7.01 14 9.5 11.99 14 9.5 14z\"></path></svg></span><span>How Search works</span></span></div></a>, <a href=\"https://webcache.googleusercontent.com/search?q=cache:xzqMxsItIngJ:https://variety.com/2021/music/news/bts-butter-columbia-records-ron-perry-songwriter-producer-1234977890/+&amp;cd=15&amp;hl=en&amp;ct=clnk&amp;gl=us\" onmousedown=\"return rwt(this,'','','','','AOvVaw38cW9vvZ3JqcOA7o-JTJJd','','2ahUKEwjWiee4m57xAhVQTjABHQJ0C1MQIDAOegQIIBAO','','',event)\"><span>Cached</span></a>, <a data-ved=\"2ahUKEwjWiee4m57xAhVQTjABHQJ0C1MQFjAPegQIHhAE\" href=\"https://www.bts-butter.com/\" onmousedown=\"return rwt(this,'','','','','AOvVaw1wlcYArAjUX2dNvx8ZGceX','','2ahUKEwjWiee4m57xAhVQTjABHQJ0C1MQFjAPegQIHhAE','','',event)\"><br/><h3 class=\"LC20lb DKV0Md\">BTS Butter</h3><div class=\"TbwUpd NJjxre\"><cite class=\"iUh30 Zu0yb tjvcx\">https://www.bts-butter.com</cite></div></a>, <a href=\"https://www.bts-butter.com/\" target=\"_blank\">https://www.bts-butter.com/</a>, <a class=\"O0oZCe\" data-ved=\"2ahUKEwjWiee4m57xAhVQTjABHQJ0C1MQ0r4HMA96BAgeEAk\" jsname=\"oyt78e\" role=\"link\" tabindex=\"0\">Send feedback on this info</a>, <a href=\"https://myactivity.google.com/privacyadvisor/search\" tabindex=\"0\" target=\"_blank\"><div class=\"gziGLd WGYX8\" id=\"qCA1yf\"><span class=\"cQkxXe\"><span class=\"mdUiPd S003Ke mtnwac z1asCe E9hVAb\" style=\"height:14px;line-height:14px;width:14px\"><svg focusable=\"false\" viewbox=\"0 0 24 24\" xmlns=\"http://www.w3.org/2000/svg\"><path d=\"M19.43 12.98c.04-.32.07-.64.07-.98s-.03-.66-.07-.98l2.11-1.65c.19-.15.24-.42.12-.64l-2-3.46c-.12-.22-.39-.3-.61-.22l-2.49 1c-.52-.4-1.08-.73-1.69-.98l-.38-2.65C14.46 2.18 14.25 2 14 2h-4c-.25 0-.46.18-.49.42l-.38 2.65c-.61.25-1.17.59-1.69.98l-2.49-1c-.23-.09-.49 0-.61.22l-2 3.46c-.13.22-.07.49.12.64l2.11 1.65c-.04.32-.07.65-.07.98s.03.66.07.98l-2.11 1.65c-.19.15-.24.42-.12.64l2 3.46c.12.22.39.3.61.22l2.49-1c.52.4 1.08.73 1.69.98l.38 2.65c.03.24.24.42.49.42h4c.25 0 .46-.18.49-.42l.38-2.65c.61-.25 1.17-.59 1.69-.98l2.49 1c.23.09.49 0 .61-.22l2-3.46c.12-.22.07-.49-.12-.64l-2.11-1.65zM12 15.5c-1.93 0-3.5-1.57-3.5-3.5s1.57-3.5 3.5-3.5 3.5 1.57 3.5 3.5-1.57 3.5-3.5 3.5z\"></path></svg></span> <span>Privacy settings</span></span></div></a>, <a href=\"https://www.google.com/search/howsearchworks/\" tabindex=\"0\" target=\"_blank\"><div class=\"gziGLd WGYX8\" id=\"fGmxxe\"><span class=\"cQkxXe\"><span class=\"mdUiPd S003Ke mtnwac z1asCe MZy1Rb\" style=\"height:14px;line-height:14px;width:14px\"><svg focusable=\"false\" viewbox=\"0 0 24 24\" xmlns=\"http://www.w3.org/2000/svg\"><path d=\"M15.5 14h-.79l-.28-.27A6.471 6.471 0 0 0 16 9.5 6.5 6.5 0 1 0 9.5 16c1.61 0 3.09-.59 4.23-1.57l.27.28v.79l5 4.99L20.49 19l-4.99-5zm-6 0C7.01 14 5 11.99 5 9.5S7.01 5 9.5 5 14 7.01 14 9.5 11.99 14 9.5 14z\"></path></svg></span><span>How Search works</span></span></div></a>, <a data-ved=\"2ahUKEwjWiee4m57xAhVQTjABHQJ0C1MQFjAQegQIHxAE\" href=\"https://bhutanforyou.com/jjagxug/butter-bts-wiki\" onmousedown=\"return rwt(this,'','','','','AOvVaw3Kw_4LblSa2Fp7OmKrvBH5','','2ahUKEwjWiee4m57xAhVQTjABHQJ0C1MQFjAQegQIHxAE','','',event)\"><br/><h3 class=\"LC20lb DKV0Md\">butter bts wiki - BhutanForYou.com</h3><div class=\"TbwUpd NJjxre\"><cite class=\"iUh30 Zu0yb qLRx3b tjvcx\">https://bhutanforyou.com<span class=\"dyjrff qzEoUe\"> › Nature › butter bts wiki</span></cite></div></a>, <a href=\"https://bhutanforyou.com/jjagxug/butter-bts-wiki\" target=\"_blank\">https://bhutanforyou.com/jjagxug/butter-bts-wiki</a>, <a class=\"O0oZCe\" data-ved=\"2ahUKEwjWiee4m57xAhVQTjABHQJ0C1MQ0r4HMBB6BAgfEAs\" jsname=\"oyt78e\" role=\"link\" tabindex=\"0\">Send feedback on this info</a>, <a href=\"https://myactivity.google.com/privacyadvisor/search\" tabindex=\"0\" target=\"_blank\"><div class=\"gziGLd WGYX8\" id=\"qCA1yf\"><span class=\"cQkxXe\"><span class=\"mdUiPd S003Ke mtnwac z1asCe E9hVAb\" style=\"height:14px;line-height:14px;width:14px\"><svg focusable=\"false\" viewbox=\"0 0 24 24\" xmlns=\"http://www.w3.org/2000/svg\"><path d=\"M19.43 12.98c.04-.32.07-.64.07-.98s-.03-.66-.07-.98l2.11-1.65c.19-.15.24-.42.12-.64l-2-3.46c-.12-.22-.39-.3-.61-.22l-2.49 1c-.52-.4-1.08-.73-1.69-.98l-.38-2.65C14.46 2.18 14.25 2 14 2h-4c-.25 0-.46.18-.49.42l-.38 2.65c-.61.25-1.17.59-1.69.98l-2.49-1c-.23-.09-.49 0-.61.22l-2 3.46c-.13.22-.07.49.12.64l2.11 1.65c-.04.32-.07.65-.07.98s.03.66.07.98l-2.11 1.65c-.19.15-.24.42-.12.64l2 3.46c.12.22.39.3.61.22l2.49-1c.52.4 1.08.73 1.69.98l.38 2.65c.03.24.24.42.49.42h4c.25 0 .46-.18.49-.42l.38-2.65c.61-.25 1.17-.59 1.69-.98l2.49 1c.23.09.49 0 .61-.22l2-3.46c.12-.22.07-.49-.12-.64l-2.11-1.65zM12 15.5c-1.93 0-3.5-1.57-3.5-3.5s1.57-3.5 3.5-3.5 3.5 1.57 3.5 3.5-1.57 3.5-3.5 3.5z\"></path></svg></span> <span>Privacy settings</span></span></div></a>, <a href=\"https://www.google.com/search/howsearchworks/\" tabindex=\"0\" target=\"_blank\"><div class=\"gziGLd WGYX8\" id=\"fGmxxe\"><span class=\"cQkxXe\"><span class=\"mdUiPd S003Ke mtnwac z1asCe MZy1Rb\" style=\"height:14px;line-height:14px;width:14px\"><svg focusable=\"false\" viewbox=\"0 0 24 24\" xmlns=\"http://www.w3.org/2000/svg\"><path d=\"M15.5 14h-.79l-.28-.27A6.471 6.471 0 0 0 16 9.5 6.5 6.5 0 1 0 9.5 16c1.61 0 3.09-.59 4.23-1.57l.27.28v.79l5 4.99L20.49 19l-4.99-5zm-6 0C7.01 14 5 11.99 5 9.5S7.01 5 9.5 5 14 7.01 14 9.5 11.99 14 9.5 14z\"></path></svg></span><span>How Search works</span></span></div></a>, <a href=\"https://webcache.googleusercontent.com/search?q=cache:ejlJeVlu15cJ:https://bhutanforyou.com/jjagxug/butter-bts-wiki+&amp;cd=17&amp;hl=en&amp;ct=clnk&amp;gl=us\" onmousedown=\"return rwt(this,'','','','','AOvVaw1Ff9uttf5iBOyg_W8vUrPA','','2ahUKEwjWiee4m57xAhVQTjABHQJ0C1MQIDAQegQIHxAP','','',event)\"><span>Cached</span></a>, <a data-ved=\"2ahUKEwjWiee4m57xAhVQTjABHQJ0C1MQFjARegQIKBAD\" href=\"https://ibighit.com/bts/eng/discography/\" onmousedown=\"return rwt(this,'','','','','AOvVaw0ScIuOz0IIdzEtjcooQkam','','2ahUKEwjWiee4m57xAhVQTjABHQJ0C1MQFjARegQIKBAD','','',event)\"><br/><h3 class=\"LC20lb DKV0Md\">DISCOGRAPHY | BTS | Big Hit Entertainment</h3><div class=\"TbwUpd NJjxre\"><cite class=\"iUh30 Zu0yb qLRx3b tjvcx\">https://ibighit.com<span class=\"dyjrff qzEoUe\"> › bts › eng › discography</span></cite></div></a>, <a href=\"https://en.wikipedia.org/wiki/Big_Hit_Music\">Wikipedia</a>, <a href=\"https://ibighit.com/bts/eng/discography/\" target=\"_blank\">https://ibighit.com/bts/eng/discography/</a>, <a class=\"O0oZCe\" data-ved=\"2ahUKEwjWiee4m57xAhVQTjABHQJ0C1MQ0r4HMBF6BAgoEAo\" jsname=\"oyt78e\" role=\"link\" tabindex=\"0\">Send feedback on this info</a>, <a href=\"https://myactivity.google.com/privacyadvisor/search\" tabindex=\"0\" target=\"_blank\"><div class=\"gziGLd WGYX8\" id=\"qCA1yf\"><span class=\"cQkxXe\"><span class=\"mdUiPd S003Ke mtnwac z1asCe E9hVAb\" style=\"height:14px;line-height:14px;width:14px\"><svg focusable=\"false\" viewbox=\"0 0 24 24\" xmlns=\"http://www.w3.org/2000/svg\"><path d=\"M19.43 12.98c.04-.32.07-.64.07-.98s-.03-.66-.07-.98l2.11-1.65c.19-.15.24-.42.12-.64l-2-3.46c-.12-.22-.39-.3-.61-.22l-2.49 1c-.52-.4-1.08-.73-1.69-.98l-.38-2.65C14.46 2.18 14.25 2 14 2h-4c-.25 0-.46.18-.49.42l-.38 2.65c-.61.25-1.17.59-1.69.98l-2.49-1c-.23-.09-.49 0-.61.22l-2 3.46c-.13.22-.07.49.12.64l2.11 1.65c-.04.32-.07.65-.07.98s.03.66.07.98l-2.11 1.65c-.19.15-.24.42-.12.64l2 3.46c.12.22.39.3.61.22l2.49-1c.52.4 1.08.73 1.69.98l.38 2.65c.03.24.24.42.49.42h4c.25 0 .46-.18.49-.42l.38-2.65c.61-.25 1.17-.59 1.69-.98l2.49 1c.23.09.49 0 .61-.22l2-3.46c.12-.22.07-.49-.12-.64l-2.11-1.65zM12 15.5c-1.93 0-3.5-1.57-3.5-3.5s1.57-3.5 3.5-3.5 3.5 1.57 3.5 3.5-1.57 3.5-3.5 3.5z\"></path></svg></span> <span>Privacy settings</span></span></div></a>, <a href=\"https://www.google.com/search/howsearchworks/\" tabindex=\"0\" target=\"_blank\"><div class=\"gziGLd WGYX8\" id=\"fGmxxe\"><span class=\"cQkxXe\"><span class=\"mdUiPd S003Ke mtnwac z1asCe MZy1Rb\" style=\"height:14px;line-height:14px;width:14px\"><svg focusable=\"false\" viewbox=\"0 0 24 24\" xmlns=\"http://www.w3.org/2000/svg\"><path d=\"M15.5 14h-.79l-.28-.27A6.471 6.471 0 0 0 16 9.5 6.5 6.5 0 1 0 9.5 16c1.61 0 3.09-.59 4.23-1.57l.27.28v.79l5 4.99L20.49 19l-4.99-5zm-6 0C7.01 14 5 11.99 5 9.5S7.01 5 9.5 5 14 7.01 14 9.5 11.99 14 9.5 14z\"></path></svg></span><span>How Search works</span></span></div></a>, <a href=\"https://webcache.googleusercontent.com/search?q=cache:1GRR4ZTASi8J:https://ibighit.com/bts/eng/discography/+&amp;cd=18&amp;hl=en&amp;ct=clnk&amp;gl=us\" onmousedown=\"return rwt(this,'','','','','AOvVaw3KevHcGZHj92om5mNxzmpH','','2ahUKEwjWiee4m57xAhVQTjABHQJ0C1MQIDARegQIKBAO','','',event)\"><span>Cached</span></a>, <a class=\"FHH8Re\" href=\"https://ibighit.com/bts/eng/discography/\" onmousedown=\"return rwt(this,'','','','','AOvVaw0ScIuOz0IIdzEtjcooQkam','','2ahUKEwjWiee4m57xAhVQTjABHQJ0C1MQ2vEDMBF6BAgoEBA','','',event)\">View full list</a>, <a data-ved=\"2ahUKEwjWiee4m57xAhVQTjABHQJ0C1MQFjASegQICBAE\" href=\"https://edsigorta.com/o4ige/bts-butter-producer\" onmousedown=\"return rwt(this,'','','','','AOvVaw2dtfusEdplfJVRe4_O1mWO','','2ahUKEwjWiee4m57xAhVQTjABHQJ0C1MQFjASegQICBAE','','',event)\"><br/><h3 class=\"LC20lb DKV0Md\">bts butter producer - ED Sigorta</h3><div class=\"TbwUpd NJjxre\"><cite class=\"iUh30 Zu0yb qLRx3b tjvcx\">https://edsigorta.com<span class=\"dyjrff qzEoUe\"> › bts-butter-producer</span></cite></div></a>, <a href=\"https://edsigorta.com/o4ige/bts-butter-producer\" target=\"_blank\">https://edsigorta.com/o4ige/bts-butter-producer</a>, <a class=\"O0oZCe\" data-ved=\"2ahUKEwjWiee4m57xAhVQTjABHQJ0C1MQ0r4HMBJ6BAgIEAs\" jsname=\"oyt78e\" role=\"link\" tabindex=\"0\">Send feedback on this info</a>, <a href=\"https://myactivity.google.com/privacyadvisor/search\" tabindex=\"0\" target=\"_blank\"><div class=\"gziGLd WGYX8\" id=\"qCA1yf\"><span class=\"cQkxXe\"><span class=\"mdUiPd S003Ke mtnwac z1asCe E9hVAb\" style=\"height:14px;line-height:14px;width:14px\"><svg focusable=\"false\" viewbox=\"0 0 24 24\" xmlns=\"http://www.w3.org/2000/svg\"><path d=\"M19.43 12.98c.04-.32.07-.64.07-.98s-.03-.66-.07-.98l2.11-1.65c.19-.15.24-.42.12-.64l-2-3.46c-.12-.22-.39-.3-.61-.22l-2.49 1c-.52-.4-1.08-.73-1.69-.98l-.38-2.65C14.46 2.18 14.25 2 14 2h-4c-.25 0-.46.18-.49.42l-.38 2.65c-.61.25-1.17.59-1.69.98l-2.49-1c-.23-.09-.49 0-.61.22l-2 3.46c-.13.22-.07.49.12.64l2.11 1.65c-.04.32-.07.65-.07.98s.03.66.07.98l-2.11 1.65c-.19.15-.24.42-.12.64l2 3.46c.12.22.39.3.61.22l2.49-1c.52.4 1.08.73 1.69.98l.38 2.65c.03.24.24.42.49.42h4c.25 0 .46-.18.49-.42l.38-2.65c.61-.25 1.17-.59 1.69-.98l2.49 1c.23.09.49 0 .61-.22l2-3.46c.12-.22.07-.49-.12-.64l-2.11-1.65zM12 15.5c-1.93 0-3.5-1.57-3.5-3.5s1.57-3.5 3.5-3.5 3.5 1.57 3.5 3.5-1.57 3.5-3.5 3.5z\"></path></svg></span> <span>Privacy settings</span></span></div></a>, <a href=\"https://www.google.com/search/howsearchworks/\" tabindex=\"0\" target=\"_blank\"><div class=\"gziGLd WGYX8\" id=\"fGmxxe\"><span class=\"cQkxXe\"><span class=\"mdUiPd S003Ke mtnwac z1asCe MZy1Rb\" style=\"height:14px;line-height:14px;width:14px\"><svg focusable=\"false\" viewbox=\"0 0 24 24\" xmlns=\"http://www.w3.org/2000/svg\"><path d=\"M15.5 14h-.79l-.28-.27A6.471 6.471 0 0 0 16 9.5 6.5 6.5 0 1 0 9.5 16c1.61 0 3.09-.59 4.23-1.57l.27.28v.79l5 4.99L20.49 19l-4.99-5zm-6 0C7.01 14 5 11.99 5 9.5S7.01 5 9.5 5 14 7.01 14 9.5 11.99 14 9.5 14z\"></path></svg></span><span>How Search works</span></span></div></a>, <a href=\"https://webcache.googleusercontent.com/search?q=cache:skrU9Swsb5AJ:https://edsigorta.com/o4ige/bts-butter-producer+&amp;cd=19&amp;hl=en&amp;ct=clnk&amp;gl=us\" onmousedown=\"return rwt(this,'','','','','AOvVaw0wzt4LuxcWsFdYXmxSOtoZ','','2ahUKEwjWiee4m57xAhVQTjABHQJ0C1MQIDASegQICBAP','','',event)\"><span>Cached</span></a>, <a data-ved=\"2ahUKEwjWiee4m57xAhVQTjABHQJ0C1MQFjATegQICRAE\" href=\"https://roerinternational.com/pkwzk/bts-song-with-most-english-lyrics\" onmousedown=\"return rwt(this,'','','','','AOvVaw2kUF96z_yn47f9Zi6Fql_t','','2ahUKEwjWiee4m57xAhVQTjABHQJ0C1MQFjATegQICRAE','','',event)\"><br/><h3 class=\"LC20lb DKV0Md\">bts song with most english lyrics - Roer International</h3><div class=\"TbwUpd NJjxre\"><cite class=\"iUh30 Zu0yb qLRx3b tjvcx\">https://roerinternational.com<span class=\"dyjrff qzEoUe\"> › pkwzk › bts-song-with-...</span></cite></div></a>, <a href=\"https://roerinternational.com/pkwzk/bts-song-with-most-english-lyrics\" target=\"_blank\">https://roerinternational.com/pkwzk/bts-song-with-most-english-lyrics</a>, <a class=\"O0oZCe\" data-ved=\"2ahUKEwjWiee4m57xAhVQTjABHQJ0C1MQ0r4HMBN6BAgJEAs\" jsname=\"oyt78e\" role=\"link\" tabindex=\"0\">Send feedback on this info</a>, <a href=\"https://myactivity.google.com/privacyadvisor/search\" tabindex=\"0\" target=\"_blank\"><div class=\"gziGLd WGYX8\" id=\"qCA1yf\"><span class=\"cQkxXe\"><span class=\"mdUiPd S003Ke mtnwac z1asCe E9hVAb\" style=\"height:14px;line-height:14px;width:14px\"><svg focusable=\"false\" viewbox=\"0 0 24 24\" xmlns=\"http://www.w3.org/2000/svg\"><path d=\"M19.43 12.98c.04-.32.07-.64.07-.98s-.03-.66-.07-.98l2.11-1.65c.19-.15.24-.42.12-.64l-2-3.46c-.12-.22-.39-.3-.61-.22l-2.49 1c-.52-.4-1.08-.73-1.69-.98l-.38-2.65C14.46 2.18 14.25 2 14 2h-4c-.25 0-.46.18-.49.42l-.38 2.65c-.61.25-1.17.59-1.69.98l-2.49-1c-.23-.09-.49 0-.61.22l-2 3.46c-.13.22-.07.49.12.64l2.11 1.65c-.04.32-.07.65-.07.98s.03.66.07.98l-2.11 1.65c-.19.15-.24.42-.12.64l2 3.46c.12.22.39.3.61.22l2.49-1c.52.4 1.08.73 1.69.98l.38 2.65c.03.24.24.42.49.42h4c.25 0 .46-.18.49-.42l.38-2.65c.61-.25 1.17-.59 1.69-.98l2.49 1c.23.09.49 0 .61-.22l2-3.46c.12-.22.07-.49-.12-.64l-2.11-1.65zM12 15.5c-1.93 0-3.5-1.57-3.5-3.5s1.57-3.5 3.5-3.5 3.5 1.57 3.5 3.5-1.57 3.5-3.5 3.5z\"></path></svg></span> <span>Privacy settings</span></span></div></a>, <a href=\"https://www.google.com/search/howsearchworks/\" tabindex=\"0\" target=\"_blank\"><div class=\"gziGLd WGYX8\" id=\"fGmxxe\"><span class=\"cQkxXe\"><span class=\"mdUiPd S003Ke mtnwac z1asCe MZy1Rb\" style=\"height:14px;line-height:14px;width:14px\"><svg focusable=\"false\" viewbox=\"0 0 24 24\" xmlns=\"http://www.w3.org/2000/svg\"><path d=\"M15.5 14h-.79l-.28-.27A6.471 6.471 0 0 0 16 9.5 6.5 6.5 0 1 0 9.5 16c1.61 0 3.09-.59 4.23-1.57l.27.28v.79l5 4.99L20.49 19l-4.99-5zm-6 0C7.01 14 5 11.99 5 9.5S7.01 5 9.5 5 14 7.01 14 9.5 11.99 14 9.5 14z\"></path></svg></span><span>How Search works</span></span></div></a>, <a href=\"https://webcache.googleusercontent.com/search?q=cache:_hw5l_e35qoJ:https://roerinternational.com/pkwzk/bts-song-with-most-english-lyrics+&amp;cd=20&amp;hl=en&amp;ct=clnk&amp;gl=us\" onmousedown=\"return rwt(this,'','','','','AOvVaw2GfOSrZPGcLC2udCQKkDfM','','2ahUKEwjWiee4m57xAhVQTjABHQJ0C1MQIDATegQICRAP','','',event)\"><span>Cached</span></a>, <a class=\"EbH0bb\" href=\"/search?q=Butter+BTS+wiki&amp;stick=H4sIAAAAAAAAAOOQMeJKKilWSMxJKs0tjuJ3Ki0pSS1ScAoJVijPzM48xcirn65vaJhlmFVUYZqWC-OnmWbkJBvnVcD4yYYlScYlRQZw9ck55iUGFkUwfkZyRrxxeTlQPbd-rr6BoWFBclZxySlGLhCvMtmgLNkEJmWUnJydhjDY1DgrqcQ06xcjF8hNEGcuYkV35y02SQatqVVcZvGhT4QlTuTeNyo79d7o-7eQmL6nAAV0uz_jAAAA&amp;sa=X&amp;ved=2ahUKEwjWiee4m57xAhVQTjABHQJ0C1MQzTooADAUegQIDBAB\"><span class=\"rhsg3\">View 2+ more</span></a>, <a data-ved=\"2ahUKEwjWiee4m57xAhVQTjABHQJ0C1MQxA0wFHoECAwQBA\" href=\"/search?q=BTS+Map+of+the+Soul:+7&amp;stick=H4sIAAAAAAAAAOOQUeLVT9c3NMwyzCqqME3LNeJKKilWSMxJKs0tjuJ3Ki0pSS1ScAoJVijPzM48xYiqGMZPM83ISTbOq4Dxkw1LkoxLigzg6pNzzEsMLIpg_IzkjHjj8nKgem79XH0DQ8OC5KziklOMXCBeZbJBWbIJTMooOTk7DWGwqXFWUolp1i9GLpCbIM5cxCoG4vgmFijkpymUZKQqBOeX5lgpmN9ik2TQmlrFZRYf-kRY4kTufaOyU--Nvn8Liel7CgAlGSpF-QAAAA&amp;sa=X&amp;ved=2ahUKEwjWiee4m57xAhVQTjABHQJ0C1MQxA0wFHoECAwQBA\" title=\"Map of the Soul: 7\"><div class=\"XQ6p1d\"><g-img class=\"BA0A6c\" style=\"position:relative\"><img alt=\"Map of the Soul: 7\" class=\"rISBZc M4dUYb\" data-atf=\"4\" data-deferred=\"1\" height=\"82\" id=\"dimg_31\" src=\"data:image/gif;base64,R0lGODlhAQABAIAAAP///////yH5BAEKAAEALAAAAAABAAEAAAICTAEAOw==\" style=\"border-radius:8px 8px 8px 8px\" width=\"82\"/><div class=\"fWhgmd\" style=\"border-radius:8px 8px 8px 8px\"></div></g-img></div><div class=\"fl ellip oBrLN S1gFKb rOVRL\" data-original-name=\"Map of the Soul: 7\">Map of the Soul: 7</div></a>, <a data-ved=\"2ahUKEwjWiee4m57xAhVQTjABHQJ0C1MQxA0wFHoECAwQBg\" href=\"/search?q=BTS+Love+Yourself:+Tear&amp;stick=H4sIAAAAAAAAAOOQUeLVT9c3NEwzzchJNs6rMOJKKilWSMxJKs0tjuJ3Ki0pSS1ScAoJVijPzM48xQhRnGWYVVRhmpYL48M0w_jJhiVJxiVFBnD1yTnmJQYWRTB-RnJGvHF5OVA9t36uvoGhYUFyVnHJKUYuEK8y2aAs2QQmZZScnJ2GMNjUOCupxDTrFyMXyE0QZy5iFQdxfPLLUhUi80uLilNz0qwUQlITi26xSTJoTa3iMosPfSIscSL3vlHZqfdG37-FxPQ9BQAST63U-gAAAA&amp;sa=X&amp;ved=2ahUKEwjWiee4m57xAhVQTjABHQJ0C1MQxA0wFHoECAwQBg\" title=\"Love Yourself: Tear\"><div class=\"XQ6p1d\"><g-img class=\"BA0A6c\" style=\"position:relative\"><img alt=\"Love Yourself: Tear\" class=\"rISBZc M4dUYb\" data-atf=\"4\" data-deferred=\"1\" height=\"82\" id=\"dimg_35\" src=\"data:image/gif;base64,R0lGODlhAQABAIAAAP///////yH5BAEKAAEALAAAAAABAAEAAAICTAEAOw==\" style=\"border-radius:8px 8px 8px 8px\" width=\"82\"/><div class=\"fWhgmd\" style=\"border-radius:8px 8px 8px 8px\"></div></g-img></div><div class=\"fl ellip oBrLN S1gFKb rOVRL\" data-original-name=\"Love Yourself: Tear\">Love Yourself: Tear</div></a>, <a data-ved=\"2ahUKEwjWiee4m57xAhVQTjABHQJ0C1MQxA0wFHoECAwQCA\" href=\"/search?q=BTS+Wings&amp;stick=H4sIAAAAAAAAAOOQUeLVT9c3NEw2LEkyLikyMOJKKilWSMxJKs0tjuJ3Ki0pSS1ScAoJVijPzM48xQhRnGWYVVRhmpYL46eZZuQkG-dVwPgww-Dqk3PMSwwsimD8jOSMeOPycqB6bv1cfQNDw4LkrOKSU4xcIF5lskFZsglMyig5OTsNYbCpcVZSiWnWL0YukJsgzlzEygnihGfmpRffYpNk0JpaxWUWH_pEWOJE7n2jslPvjb5_C4npewoAv_WF0ewAAAA&amp;sa=X&amp;ved=2ahUKEwjWiee4m57xAhVQTjABHQJ0C1MQxA0wFHoECAwQCA\" title=\"Wings\"><div class=\"XQ6p1d\"><g-img class=\"BA0A6c\" style=\"position:relative\"><img alt=\"Wings\" class=\"rISBZc M4dUYb\" data-atf=\"4\" data-deferred=\"1\" height=\"82\" id=\"dimg_37\" src=\"data:image/gif;base64,R0lGODlhAQABAIAAAP///////yH5BAEKAAEALAAAAAABAAEAAAICTAEAOw==\" style=\"border-radius:8px 8px 8px 8px\" width=\"82\"/><div class=\"fWhgmd\" style=\"border-radius:8px 8px 8px 8px\"></div></g-img></div><div class=\"fl ellip oBrLN S1gFKb rOVRL\" data-original-name=\"Wings\">Wings</div></a>, <a data-ved=\"2ahUKEwjWiee4m57xAhVQTjABHQJ0C1MQxA0wFHoECAwQCg\" href=\"/search?q=BTS+Map+of+the+Soul:+7+~+The+Journey+~&amp;stick=H4sIAAAAAAAAAOOQUeLVT9c3NMxKzjEvMbAoMuJKKilWSMxJKs0tjuJ3Ki0pSS1ScAoJVijPzM48xQhVbJhVVGGalgvjp5lm5CQb51XA-MmGJUnGJUUGcPVQw2H8jOSMeOPycqB6bv1cfQNDw4LkrOKSU4xcIF5lskFZsglMyig5OTsNYbCpcVZSiWnWL0YukJsgzlzEqgbi-CYWKOSnKZRkpCoE55fmWCmYK9QphAB5XvmlRXmplQp1t9gkGbSmVnGZxYc-EZY4kXvfqOzUe6Pv30Ji-p4CAAtT_DQJAQAA&amp;sa=X&amp;ved=2ahUKEwjWiee4m57xAhVQTjABHQJ0C1MQxA0wFHoECAwQCg\" title=\"Map of the Soul: 7 ~ The Journey ~\"><div class=\"XQ6p1d\"><g-img class=\"BA0A6c\" style=\"position:relative\"><img alt=\"Map of the Soul: 7 ~ The Journey ~\" class=\"rISBZc M4dUYb\" data-atf=\"4\" data-deferred=\"1\" height=\"82\" id=\"dimg_39\" src=\"data:image/gif;base64,R0lGODlhAQABAIAAAP///////yH5BAEKAAEALAAAAAABAAEAAAICTAEAOw==\" style=\"border-radius:8px 8px 8px 8px\" width=\"82\"/><div class=\"fWhgmd\" style=\"border-radius:8px 8px 8px 8px\"></div></g-img></div><div class=\"fl ellip oBrLN S1gFKb rOVRL\" data-original-name=\"Map of the Soul: 7 ~ The Jour...\">Map of the Soul: 7 ~ The Jour...</div></a>, <a data-ved=\"2ahUKEwjWiee4m57xAhVQTjABHQJ0C1MQxA0wFHoECAwQDA\" href=\"/search?q=BTS+Face+Yourself&amp;stick=H4sIAAAAAAAAAOOQUeLVT9c3NMxIzog3Li-vMOJKKilWSMxJKs0tjuJ3Ki0pSS1ScAoJVijPzM48xQhRnGWYVVRhmpYL46eZZuQkG-dVwPjJhiVJxiVFBnD1yTnmJQYWRTA-zLJTjNz6ufoGhoYFyVnFJacYuUC8ymSDsmQTmJRRcnJ2GsJgU-OspBLTrF-MXCA3QZy5iFUQxHFLTE5ViMwvLSpOzUm7xSbJoDW1isssPvSJsMSJ3PtGZafeG33_FhLT9xQAJ-63RvQAAAA&amp;sa=X&amp;ved=2ahUKEwjWiee4m57xAhVQTjABHQJ0C1MQxA0wFHoECAwQDA\" title=\"Face Yourself\"><div class=\"XQ6p1d\"><g-img class=\"BA0A6c\" style=\"position:relative\"><img alt=\"Face Yourself\" class=\"rISBZc M4dUYb\" data-atf=\"4\" data-deferred=\"1\" height=\"82\" id=\"dimg_43\" src=\"data:image/gif;base64,R0lGODlhAQABAIAAAP///////yH5BAEKAAEALAAAAAABAAEAAAICTAEAOw==\" style=\"border-radius:8px 8px 8px 8px\" width=\"82\"/><div class=\"fWhgmd\" style=\"border-radius:8px 8px 8px 8px\"></div></g-img></div><div class=\"fl ellip oBrLN S1gFKb rOVRL\" data-original-name=\"Face Yourself\">Face Yourself</div></a>, <a data-ved=\"2ahUKEwjWiee4m57xAhVQTjABHQJ0C1MQxA0wFHoECAwQDg\" href=\"/search?q=BTS+Dark+and+Wild&amp;stick=H4sIAAAAAAAAAOOQUeLWz9U3MDQsSM4qLjHiSiopVkjMSSrNLY7idyotKUktUnAKCVYoz8zOPMXIq5-ub2iYZZhVVGGalgvjp5lm5CQb51XA-MmGJUnGJUUGcPXJOeYlBhZFMH5Gcka8cXk5UD2y1acYuUC8ymSDsmQTmJRRcnJ2GsJgU-OspBLTrF-MXCA3QZy5iFUQxHFJLMpWSMxLUQjPzEm5xSbJoDW1isssPvSJsMSJ3PtGZafeG33_FhLT9xQAYPv69PIAAAA&amp;sa=X&amp;ved=2ahUKEwjWiee4m57xAhVQTjABHQJ0C1MQxA0wFHoECAwQDg\" title=\"Dark &amp; Wild\"><div class=\"XQ6p1d\"><g-img class=\"BA0A6c\" style=\"position:relative\"><img alt=\"Dark &amp; Wild\" class=\"rISBZc M4dUYb\" data-atf=\"4\" data-deferred=\"1\" height=\"82\" id=\"dimg_47\" src=\"data:image/gif;base64,R0lGODlhAQABAIAAAP///////yH5BAEKAAEALAAAAAABAAEAAAICTAEAOw==\" style=\"border-radius:8px 8px 8px 8px\" width=\"82\"/><div class=\"fWhgmd\" style=\"border-radius:8px 8px 8px 8px\"></div></g-img></div><div class=\"fl ellip oBrLN S1gFKb rOVRL\" data-original-name=\"Dark &amp; Wild\">Dark &amp; Wild</div></a>, <a data-ved=\"2ahUKEwjWiee4m57xAhVQTjABHQJ0C1MQxA0wFHoECAwQEA\" href=\"/search?q=BTS+O!RUL8,2%3F&amp;stick=H4sIAAAAAAAAAOOQUeLSz9U3qEw2KEs2MeJKKilWSMxJKs0tjuJ3Ki0pSS1ScAoJVijPzM48xcirn65vaJhlmFVUYZqWC-OnmWbkJBvnVcD4yYYlScYlRQZw9ck55iUGFkUwfkZyRrxxeTlQPTfIZkPDguSs4pJTjEjugEkZJSdnpyEMNjXOSioxzfrFyAVyE8SZi1h5QRx_xaBQHwsdI_tbbJIMWlOruMziQ58IS5zIvW9Uduq90fdvITF9TwEvjipO7QAAAA&amp;sa=X&amp;ved=2ahUKEwjWiee4m57xAhVQTjABHQJ0C1MQxA0wFHoECAwQEA\" title=\"O!RUL8,2?\"><div class=\"XQ6p1d\"><g-img class=\"BA0A6c\" style=\"position:relative\"><img alt=\"O!RUL8,2?\" class=\"rISBZc M4dUYb\" data-atf=\"4\" data-deferred=\"1\" height=\"82\" id=\"dimg_53\" src=\"data:image/gif;base64,R0lGODlhAQABAIAAAP///////yH5BAEKAAEALAAAAAABAAEAAAICTAEAOw==\" style=\"border-radius:8px 8px 8px 8px\" width=\"82\"/><div class=\"fWhgmd\" style=\"border-radius:8px 8px 8px 8px\"></div></g-img></div><div class=\"fl ellip oBrLN S1gFKb rOVRL\" data-original-name=\"O!RUL8,2?\">O!RUL8,2?</div></a>, <a class=\"EbH0bb\" href=\"/search?q=Butter+BTS+wiki&amp;stick=H4sIAAAAAAAAAOOQMeJKKilWSCxPLEopjuJ3Ki0pSS1ScAoJVijPzM48xciln6tvUG5UaWJkfoqRVz9d39AwyTw5u8CgKhkhaVRcheAYZ1ScYuQEcYzSzA0roRLm8aaG2ckICfNKmHFpGVWGSZUVBr8YuUDWOoJdsogV3Sm32CQZtKZWcYX_0pnbED8l_rFpiKT15vzyt6ZPFQEl3ujFxgAAAA&amp;sa=X&amp;ved=2ahUKEwjWiee4m57xAhVQTjABHQJ0C1MQzTooADAVegQIFRAB\"><span class=\"rhsg3\">View 1+ more</span></a>, <a data-ved=\"2ahUKEwjWiee4m57xAhVQTjABHQJ0C1MQxA0wFXoECBUQBA\" href=\"/search?q=Daesang+Award&amp;stick=H4sIAAAAAAAAAOOQUeLSz9U3KDeqNDEyN-JKKilWSCxPLEopjuJ3Ki0pSS1ScAoJVijPzM48xYik8hQjr366vqFhknlydoFBVTJC0qi4CsExzqg4xcgJ4hilmRtWQiXM400Ns5MREuaVMOPSMqoMkyorDH4xcoGsdQS7ZBErr0tianFiXjpE4BabJIPW1Cqu8F86cxvip8Q_Ng2RtN6cX_7W9KkiAAlnQczQAAAA&amp;sa=X&amp;ved=2ahUKEwjWiee4m57xAhVQTjABHQJ0C1MQxA0wFXoECBUQBA\" title=\"Seoul Music Awards Daesang Award\"><div class=\"XQ6p1d\"><g-img class=\"BA0A6c\" style=\"position:relative\"><img alt=\"Seoul Music Awards Daesang Award\" class=\"rISBZc M4dUYb\" data-atf=\"4\" data-deferred=\"1\" height=\"82\" id=\"dimg_41\" src=\"data:image/gif;base64,R0lGODlhAQABAIAAAP///////yH5BAEKAAEALAAAAAABAAEAAAICTAEAOw==\" style=\"border-radius:8px 8px 8px 8px\" width=\"82\"/><div class=\"fWhgmd\" style=\"border-radius:8px 8px 8px 8px\"></div></g-img></div><div class=\"fl ellip oBrLN S1gFKb rOVRL\" data-original-name=\"Seoul Music Awards...\">Seoul Music Awards...</div></a>, <a data-ved=\"2ahUKEwjWiee4m57xAhVQTjABHQJ0C1MQxA0wFXoECBUQBg\" href=\"/search?q=Fan+Army&amp;stick=H4sIAAAAAAAAAOOQUeLVT9c3NEwyT84uMKhKNuJKKilWSCxPLEopjuJ3Ki0pSS1ScAoJVijPzM48xciln6tvUG5UaWJkfooRVSdC0qi4CsExzqg4xcgJ4hilmRtWQiXM400Ns5MREuaVMOPSMqoMkyorDH4xcoGsdQS7ZBErh1tinoJjUW7lLTZJBq2pVVzhv3TmNsRPiX9sGiJpvTm__K3pU0UAmwhEOM4AAAA&amp;sa=X&amp;ved=2ahUKEwjWiee4m57xAhVQTjABHQJ0C1MQxA0wFXoECBUQBg\" title=\"iHeartRadio Music Award for Best Fan Army\"><div class=\"XQ6p1d\"><g-img class=\"BA0A6c\" style=\"position:relative\"><img alt=\"iHeartRadio Music Award for Best Fan Army\" class=\"rISBZc M4dUYb\" data-atf=\"4\" data-deferred=\"1\" height=\"82\" id=\"dimg_45\" src=\"data:image/gif;base64,R0lGODlhAQABAIAAAP///////yH5BAEKAAEALAAAAAABAAEAAAICTAEAOw==\" style=\"border-radius:8px 8px 8px 8px\" width=\"82\"/><div class=\"fWhgmd\" style=\"border-radius:8px 8px 8px 8px\"></div></g-img></div><div class=\"fl ellip oBrLN S1gFKb rOVRL\" data-original-name=\"iHeartRadio Music Award fo...\">iHeartRadio Music Award fo...</div></a>, <a data-ved=\"2ahUKEwjWiee4m57xAhVQTjABHQJ0C1MQxA0wFXoECBUQCA\" href=\"/search?q=Bonsang+Awards&amp;stick=H4sIAAAAAAAAAOOQUeLSz9U3KDeqNCquMuJKKilWSCxPLEopjuJ3Ki0pSS1ScAoJVijPzM48xQhTaWJkfoqRVz9d39AwyTw5u8CgKhkhCTQGwTHOqDjFyAniGKWZG1ZCJczjTQ2zkxES5pUw49IyqgyTKisMfjFygax1BLtkESufU35ecWJeOlTgFpskg9bUKq7wXzpzG-KnxD82DZG03pxf_tb0qSIAe4AzndEAAAA&amp;sa=X&amp;ved=2ahUKEwjWiee4m57xAhVQTjABHQJ0C1MQxA0wFXoECBUQCA\" title=\"Seoul Music Awards Bonsang Awards\"><div class=\"XQ6p1d\"><g-img class=\"BA0A6c\" style=\"position:relative\"><img alt=\"Seoul Music Awards Bonsang Awards\" class=\"rISBZc M4dUYb\" data-atf=\"4\" data-deferred=\"1\" height=\"82\" id=\"dimg_49\" src=\"data:image/gif;base64,R0lGODlhAQABAIAAAP///////yH5BAEKAAEALAAAAAABAAEAAAICTAEAOw==\" style=\"border-radius:8px 8px 8px 8px\" width=\"82\"/><div class=\"fWhgmd\" style=\"border-radius:8px 8px 8px 8px\"></div></g-img></div><div class=\"fl ellip oBrLN S1gFKb rOVRL\" data-original-name=\"Seoul Music Awards...\">Seoul Music Awards...</div></a>, <a data-ved=\"2ahUKEwjWiee4m57xAhVQTjABHQJ0C1MQxA0wFXoECBUQCg\" href=\"/search?q=Golden+Disc+Award+Song+Division&amp;stick=H4sIAAAAAAAAAOOQUeLSz9U3KDeqNM6oMOJKKilWSCxPLEopjuJ3Ki0pSS1ScAoJVijPzM48xQhTaWJkfoqRVz9d39AwyTw5u8CgKhkhaVRcheAAzTzFyAniGKWZG1ZCJczjTQ2zkxES5pUw49IyqgyTKisMfjFygax1BLtkEau8e35OSmqegktmcTJEUCE4Py8dyC_LLM7Mz7vFJsmgNbWKK_yXztyG-Cnxj01DJK0355e_NX2qCADnkY8y4gAAAA&amp;sa=X&amp;ved=2ahUKEwjWiee4m57xAhVQTjABHQJ0C1MQxA0wFXoECBUQCg\" title=\"Golden Disc Award Song Division\"><div class=\"XQ6p1d\"><g-img class=\"BA0A6c\" style=\"position:relative\"><img alt=\"Golden Disc Award Song Division\" class=\"rISBZc M4dUYb\" data-atf=\"4\" data-deferred=\"1\" height=\"82\" id=\"dimg_56\" src=\"data:image/gif;base64,R0lGODlhAQABAIAAAP///////yH5BAEKAAEALAAAAAABAAEAAAICTAEAOw==\" style=\"border-radius:8px 8px 8px 8px\" width=\"82\"/><div class=\"fWhgmd\" style=\"border-radius:8px 8px 8px 8px\"></div></g-img></div><div class=\"fl ellip oBrLN S1gFKb rOVRL\" data-original-name=\"Golden Disc Award S...\">Golden Disc Award S...</div></a>, <a data-ved=\"2ahUKEwjWiee4m57xAhVQTjABHQJ0C1MQxA0wFXoECBUQDA\" href=\"/search?q=MTV+Video+Music+Award+for+Best+Choreography&amp;stick=H4sIAAAAAAAAAOOQUeLUz9U3MEozN6w04koqKVZILE8sSimO4ncqLSlJLVJwCglWKM_MzjzFyAVSWG5UaWJkfoqRVz9d39AwyTw5u8CgKhkhaVRcheAYZ1ScYkSYD5Uwjzc1zE5GSJhXwoxLy6gyTKqsMPjFyAWy1hHskkWs2r4hYQphmSmp-Qq-pcWZyRAJhbR8oOtSi0sUnDPyi1Lz04sSCzIqb7FJMmhNreIK_6UztyF-Svxj0xBJ68355W9NnyoCAGyEpAHtAAAA&amp;sa=X&amp;ved=2ahUKEwjWiee4m57xAhVQTjABHQJ0C1MQxA0wFXoECBUQDA\" title=\"MTV Video Music Award for Best Choreography\"><div class=\"XQ6p1d\"><g-img class=\"BA0A6c\" style=\"position:relative\"><img alt=\"MTV Video Music Award for Best Choreography\" class=\"rISBZc M4dUYb\" data-atf=\"4\" data-deferred=\"1\" height=\"82\" id=\"dimg_66\" src=\"data:image/gif;base64,R0lGODlhAQABAIAAAP///////yH5BAEKAAEALAAAAAABAAEAAAICTAEAOw==\" style=\"border-radius:8px 8px 8px 8px\" width=\"82\"/><div class=\"fWhgmd\" style=\"border-radius:8px 8px 8px 8px\"></div></g-img></div><div class=\"fl ellip oBrLN S1gFKb rOVRL\" data-original-name=\"MTV Video Music A...\">MTV Video Music A...</div></a>, <a data-ved=\"2ahUKEwjWiee4m57xAhVQTjABHQJ0C1MQxA0wFXoECBUQDg\" href=\"/search?q=MTV+Europe+Music+Award+for+Best+Song&amp;stick=H4sIAAAAAAAAAOOQUeLSz9U3MI83NcxONuJKKilWSCxPLEopjuJ3Ki0pSS1ScAoJVijPzM48xQhWWW5UaWJkfoqRVz9d39AwyTw5u8CgKhkhaVRcheAYZ1ScYuQEcYzSzA0roRIQyxAS5pUw49IyqgyTKisMfjFygax1BLtkEauKb0iYgmtpUX5BqoJvaXFmMkRGIS0f6LzU4hKF4Py89FtskgxaU6u4wn_pzG2InxL_2DRE0npzfvlb06eKAO9YQKHnAAAA&amp;sa=X&amp;ved=2ahUKEwjWiee4m57xAhVQTjABHQJ0C1MQxA0wFXoECBUQDg\" title=\"MTV Europe Music Award for Best Song\"><div class=\"XQ6p1d\"><g-img class=\"BA0A6c\" style=\"position:relative\"><img alt=\"MTV Europe Music Award for Best Song\" class=\"rISBZc M4dUYb\" data-atf=\"4\" data-deferred=\"1\" height=\"82\" id=\"dimg_72\" src=\"data:image/gif;base64,R0lGODlhAQABAIAAAP///////yH5BAEKAAEALAAAAAABAAEAAAICTAEAOw==\" style=\"border-radius:8px 8px 8px 8px\" width=\"82\"/><div class=\"fWhgmd\" style=\"border-radius:8px 8px 8px 8px\"></div></g-img></div><div class=\"fl ellip oBrLN S1gFKb rOVRL\" data-original-name=\"MTV Europe Music A...\">MTV Europe Music A...</div></a>, <a data-ved=\"2ahUKEwjWiee4m57xAhVQTjABHQJ0C1MQxA0wFXoECBUQEA\" href=\"/search?q=MTV+Video+Music+Award+for+Best+Pop+Video&amp;stick=H4sIAAAAAAAAAOOQUeLUz9U3MEozN6804koqKVZILE8sSimO4ncqLSlJLVJwCglWKM_MzjzFyAVSWG5UaWJkfoqRVz9d39AwyTw5u8CgKhkhaVRcheAYZ1ScYoSZb1gJlTCPNzXMTkZImFfCjEvLqDJMqqww-MXIBbLWEeySRawaviFhCmGZKan5Cr6lxZnJEAmFtHyg61KLSxQC8gsg0rfYJBm0plZxhf_SmdsQPyX-sWmIpPXm_PK3pk8VAaFehJXqAAAA&amp;sa=X&amp;ved=2ahUKEwjWiee4m57xAhVQTjABHQJ0C1MQxA0wFXoECBUQEA\" title=\"MTV Video Music Award for Best Pop Video\"><div class=\"XQ6p1d\"><g-img class=\"BA0A6c\" style=\"position:relative\"><img alt=\"MTV Video Music Award for Best Pop Video\" class=\"rISBZc M4dUYb\" data-atf=\"4\" data-deferred=\"1\" height=\"82\" id=\"dimg_80\" src=\"data:image/gif;base64,R0lGODlhAQABAIAAAP///////yH5BAEKAAEALAAAAAABAAEAAAICTAEAOw==\" style=\"border-radius:8px 8px 8px 8px\" width=\"82\"/><div class=\"fWhgmd\" style=\"border-radius:8px 8px 8px 8px\"></div></g-img></div><div class=\"fl ellip oBrLN S1gFKb rOVRL\" data-original-name=\"MTV Video Music A...\">MTV Video Music A...</div></a>, <a class=\"oBa0Fe wrSo4\" data-async-trigger=\"duf3-34-1\" data-ved=\"2ahUKEwjWiee4m57xAhVQTjABHQJ0C1MQtw8wFXoECBUQEg\" href=\"#\" jsaction=\"trigger.szjOR\" role=\"button\">Feedback</a>, <a class=\"O0oZCe\" data-ved=\"2ahUKEwjWiee4m57xAhVQTjABHQJ0C1MQ0r4HegQIBxAE\" jsname=\"oyt78e\" role=\"link\" tabindex=\"0\">Send feedback on this info</a>, <a href=\"https://myactivity.google.com/privacyadvisor/search\" tabindex=\"0\" target=\"_blank\"><div class=\"gziGLd WGYX8\" id=\"qCA1yf\"><span class=\"cQkxXe\"><span class=\"mdUiPd S003Ke mtnwac z1asCe E9hVAb\" style=\"height:14px;line-height:14px;width:14px\"><svg focusable=\"false\" viewbox=\"0 0 24 24\" xmlns=\"http://www.w3.org/2000/svg\"><path d=\"M19.43 12.98c.04-.32.07-.64.07-.98s-.03-.66-.07-.98l2.11-1.65c.19-.15.24-.42.12-.64l-2-3.46c-.12-.22-.39-.3-.61-.22l-2.49 1c-.52-.4-1.08-.73-1.69-.98l-.38-2.65C14.46 2.18 14.25 2 14 2h-4c-.25 0-.46.18-.49.42l-.38 2.65c-.61.25-1.17.59-1.69.98l-2.49-1c-.23-.09-.49 0-.61.22l-2 3.46c-.13.22-.07.49.12.64l2.11 1.65c-.04.32-.07.65-.07.98s.03.66.07.98l-2.11 1.65c-.19.15-.24.42-.12.64l2 3.46c.12.22.39.3.61.22l2.49-1c.52.4 1.08.73 1.69.98l.38 2.65c.03.24.24.42.49.42h4c.25 0 .46-.18.49-.42l.38-2.65c.61-.25 1.17-.59 1.69-.98l2.49 1c.23.09.49 0 .61-.22l2-3.46c.12-.22.07-.49-.12-.64l-2.11-1.65zM12 15.5c-1.93 0-3.5-1.57-3.5-3.5s1.57-3.5 3.5-3.5 3.5 1.57 3.5 3.5-1.57 3.5-3.5 3.5z\"></path></svg></span> <span>Privacy settings</span></span></div></a>, <a href=\"https://www.google.com/search/howsearchworks/\" tabindex=\"0\" target=\"_blank\"><div class=\"gziGLd WGYX8\" id=\"fGmxxe\"><span class=\"cQkxXe\"><span class=\"mdUiPd S003Ke mtnwac z1asCe MZy1Rb\" style=\"height:14px;line-height:14px;width:14px\"><svg focusable=\"false\" viewbox=\"0 0 24 24\" xmlns=\"http://www.w3.org/2000/svg\"><path d=\"M15.5 14h-.79l-.28-.27A6.471 6.471 0 0 0 16 9.5 6.5 6.5 0 1 0 9.5 16c1.61 0 3.09-.59 4.23-1.57l.27.28v.79l5 4.99L20.49 19l-4.99-5zm-6 0C7.01 14 5 11.99 5 9.5S7.01 5 9.5 5 14 7.01 14 9.5 11.99 14 9.5 14z\"></path></svg></span><span>How Search works</span></span></div></a>, <a data-ved=\"2ahUKEwjWiee4m57xAhVQTjABHQJ0C1MQxfUDegQIFhAH\" href=\"/search?q=BTS+logo&amp;tbm=isch&amp;source=iu&amp;ictx=1&amp;fir=le62PAExDngtmM%252CDbuupvXnuczuNM%252C_&amp;vet=1&amp;usg=AI4_-kRapjAlfgINcD21I6pFBQmSmixtxg#imgrc=le62PAExDngtmM\" jsname=\"ODEtnf\" onmousedown=\"return rwt(this,'','','','','AOvVaw2ozWNBFLFrRaP2olmwehbk','','2ahUKEwjWiee4m57xAhVQTjABHQJ0C1MQxfUDegQIFhAH','','',event)\" role=\"button\" tabindex=\"0\"><div class=\"pogVc\"></div><g-img class=\"KbmNqc BA0A6c\" style=\"margin-left:-24px;margin-right:-24px;position:relative\"><img alt=\"Image of BTS logo\" class=\"rISBZc\" data-src=\"https://encrypted-tbn0.gstatic.com/images?q=tbn:ANd9GcSvi-HgQ_Aicme4xR_O39E-R-q7z_wiHHRMxL6AyFQ&amp;s=0\" height=\"144\" jsaction=\"load:K1e2pe;BUYwVb:eNYuKb;LsLGHf:KpWyKc;rcuQ6b:npT2md\" jscontroller=\"SvnKM\" width=\"240\"/><div class=\"fWhgmd\"></div></g-img></a>, <a data-ved=\"2ahUKEwjWiee4m57xAhVQTjABHQJ0C1MQxfUDegQIFhAI\" href=\"/search?q=BTS+logo&amp;tbm=isch&amp;source=iu&amp;ictx=1&amp;fir=KssWCFnyvRDZIM%252CrCRajct4p_GbIM%252C_&amp;vet=1&amp;usg=AI4_-kT9Ga--yRtisXejRajuEsJZygWItg#imgrc=KssWCFnyvRDZIM\" jsname=\"ODEtnf\" onmousedown=\"return rwt(this,'','','','','AOvVaw1izWJkpP14cYg1bOIoG3h1','','2ahUKEwjWiee4m57xAhVQTjABHQJ0C1MQxfUDegQIFhAI','','',event)\" role=\"button\" tabindex=\"0\"><div class=\"pogVc\"></div><g-img class=\"KbmNqc BA0A6c\" style=\"position:relative\"><img alt=\"Image of BTS logo\" class=\"rISBZc\" data-src=\"https://encrypted-tbn0.gstatic.com/images?q=tbn:ANd9GcSX8AQclB4KXZmKQun2h1s_6rMI0O1seyAMIe-NTks&amp;s=0\" height=\"144\" jsaction=\"load:K1e2pe;BUYwVb:eNYuKb;LsLGHf:KpWyKc;rcuQ6b:npT2md\" jscontroller=\"SvnKM\" width=\"144\"/><div class=\"fWhgmd\"></div></g-img></a>, <a data-ved=\"2ahUKEwjWiee4m57xAhVQTjABHQJ0C1MQxfUDegQIFhAJ\" href=\"/search?q=BTS+logo&amp;tbm=isch&amp;source=iu&amp;ictx=1&amp;fir=FFLPun_d-V9caM%252CrCRajct4p_GbIM%252C_&amp;vet=1&amp;usg=AI4_-kRnadplb1e9b6mKrJSXRnOi-3CHug#imgrc=FFLPun_d-V9caM\" jsname=\"ODEtnf\" onmousedown=\"return rwt(this,'','','','','AOvVaw1uCsfrYarTey5QdWuWgUcB','','2ahUKEwjWiee4m57xAhVQTjABHQJ0C1MQxfUDegQIFhAJ','','',event)\" role=\"button\" tabindex=\"0\"><div class=\"pogVc\"></div><g-img class=\"KbmNqc BA0A6c\" style=\"position:relative\"><img alt=\"Image of BTS logo\" class=\"rISBZc\" data-src=\"https://encrypted-tbn0.gstatic.com/images?q=tbn:ANd9GcRlwNlhSEUx9Jb1J3xMTZyNjr5_jBV6PVX7-CasMB4&amp;s=0\" height=\"144\" jsaction=\"load:K1e2pe;BUYwVb:eNYuKb;LsLGHf:KpWyKc;rcuQ6b:npT2md\" jscontroller=\"SvnKM\" width=\"144\"/><div class=\"fWhgmd\"></div></g-img></a>, <a class=\"tiS4rf Q2MMlc\" href=\"/search?q=BTS+logo&amp;sa=X&amp;ved=2ahUKEwjWiee4m57xAhVQTjABHQJ0C1MQ4qYDegQIFhAL\"><div class=\"MXl0lf mtqGb\"><span class=\"EZRelc z1asCe lYxQe\"><svg focusable=\"false\" viewbox=\"0 0 24 24\" xmlns=\"http://www.w3.org/2000/svg\"><path d=\"M12 4l-1.41 1.41L16.17 11H4v2h12.17l-5.58 5.59L12 20l8-8z\"></path></svg></span><span class=\"wUrVib\">See more</span></div></a>, <a class=\"oBa0Fe wrSo4\" data-async-trigger=\"duf3-95\" data-ved=\"2ahUKEwjWiee4m57xAhVQTjABHQJ0C1MQtw96BAgHEAg\" href=\"#\" jsaction=\"trigger.szjOR\" role=\"button\">Feedback</a>, <a class=\"k8XOCe\" href=\"/search?q=BTS+age&amp;sa=X&amp;ved=2ahUKEwjWiee4m57xAhVQTjABHQJ0C1MQ1QIwF3oECBQQAQ\"><div class=\"aXBZVd\"></div><div class=\"s75CSd OhScic AB4Wff\">bts <b>age</b></div></a>, <a class=\"k8XOCe\" href=\"/search?q=BTS+Profile&amp;sa=X&amp;ved=2ahUKEwjWiee4m57xAhVQTjABHQJ0C1MQ1QIwGHoECBMQAQ\"><div class=\"aXBZVd\"></div><div class=\"s75CSd OhScic AB4Wff\">bts <b>profile</b></div></a>, <a class=\"k8XOCe\" href=\"/search?q=BTS+ARMY&amp;sa=X&amp;ved=2ahUKEwjWiee4m57xAhVQTjABHQJ0C1MQ1QIwGXoECBIQAQ\"><div class=\"aXBZVd\"></div><div class=\"s75CSd OhScic AB4Wff\">bts <b>army</b></div></a>, <a class=\"k8XOCe\" href=\"/search?q=BTS+full+form&amp;sa=X&amp;ved=2ahUKEwjWiee4m57xAhVQTjABHQJ0C1MQ1QIwGnoECBAQAQ\"><div class=\"aXBZVd\"></div><div class=\"s75CSd OhScic AB4Wff\">bts <b>full form</b></div></a>, <a class=\"k8XOCe\" href=\"/search?q=BTS+McDonald%27s&amp;sa=X&amp;ved=2ahUKEwjWiee4m57xAhVQTjABHQJ0C1MQ1QIwG3oECA8QAQ\"><div class=\"aXBZVd\"></div><div class=\"s75CSd OhScic AB4Wff\">bts <b>mcdonald's</b></div></a>, <a class=\"k8XOCe\" href=\"/search?q=When+did+BTS+debut+exact+date&amp;sa=X&amp;ved=2ahUKEwjWiee4m57xAhVQTjABHQJ0C1MQ1QIwHHoECA4QAQ\"><div class=\"aXBZVd\"></div><div class=\"s75CSd OhScic AB4Wff\"><b>when did</b> bts <b>debut exact date</b></div></a>, <a class=\"k8XOCe\" href=\"/search?q=BTS+first+album&amp;sa=X&amp;ved=2ahUKEwjWiee4m57xAhVQTjABHQJ0C1MQ1QIwHXoECA0QAQ\"><div class=\"aXBZVd\"></div><div class=\"s75CSd OhScic AB4Wff\">bts <b>first album</b></div></a>, <a aria-label=\"Page 2\" class=\"fl\" href=\"/search?q=Butter+BTS+wiki&amp;ei=CQPLYJbhJtCcwbkPguitmAU&amp;start=10&amp;sa=N&amp;ved=2ahUKEwjWiee4m57xAhVQTjABHQJ0C1MQ8tMDegQIARA2\"><span class=\"SJajHc NVbCr\" style=\"background:url(/images/nav_logo323.webp) no-repeat;background-position:-74px 0;width:20px\"></span>2</a>, <a aria-label=\"Page 3\" class=\"fl\" href=\"/search?q=Butter+BTS+wiki&amp;ei=CQPLYJbhJtCcwbkPguitmAU&amp;start=20&amp;sa=N&amp;ved=2ahUKEwjWiee4m57xAhVQTjABHQJ0C1MQ8tMDegQIARA4\"><span class=\"SJajHc NVbCr\" style=\"background:url(/images/nav_logo323.webp) no-repeat;background-position:-74px 0;width:20px\"></span>3</a>, <a aria-label=\"Page 4\" class=\"fl\" href=\"/search?q=Butter+BTS+wiki&amp;ei=CQPLYJbhJtCcwbkPguitmAU&amp;start=30&amp;sa=N&amp;ved=2ahUKEwjWiee4m57xAhVQTjABHQJ0C1MQ8tMDegQIARA6\"><span class=\"SJajHc NVbCr\" style=\"background:url(/images/nav_logo323.webp) no-repeat;background-position:-74px 0;width:20px\"></span>4</a>, <a aria-label=\"Page 5\" class=\"fl\" href=\"/search?q=Butter+BTS+wiki&amp;ei=CQPLYJbhJtCcwbkPguitmAU&amp;start=40&amp;sa=N&amp;ved=2ahUKEwjWiee4m57xAhVQTjABHQJ0C1MQ8tMDegQIARA8\"><span class=\"SJajHc NVbCr\" style=\"background:url(/images/nav_logo323.webp) no-repeat;background-position:-74px 0;width:20px\"></span>5</a>, <a aria-label=\"Page 6\" class=\"fl\" href=\"/search?q=Butter+BTS+wiki&amp;ei=CQPLYJbhJtCcwbkPguitmAU&amp;start=50&amp;sa=N&amp;ved=2ahUKEwjWiee4m57xAhVQTjABHQJ0C1MQ8tMDegQIARA-\"><span class=\"SJajHc NVbCr\" style=\"background:url(/images/nav_logo323.webp) no-repeat;background-position:-74px 0;width:20px\"></span>6</a>, <a aria-label=\"Page 7\" class=\"fl\" href=\"/search?q=Butter+BTS+wiki&amp;ei=CQPLYJbhJtCcwbkPguitmAU&amp;start=60&amp;sa=N&amp;ved=2ahUKEwjWiee4m57xAhVQTjABHQJ0C1MQ8tMDegQIARBA\"><span class=\"SJajHc NVbCr\" style=\"background:url(/images/nav_logo323.webp) no-repeat;background-position:-74px 0;width:20px\"></span>7</a>, <a aria-label=\"Page 8\" class=\"fl\" href=\"/search?q=Butter+BTS+wiki&amp;ei=CQPLYJbhJtCcwbkPguitmAU&amp;start=70&amp;sa=N&amp;ved=2ahUKEwjWiee4m57xAhVQTjABHQJ0C1MQ8tMDegQIARBC\"><span class=\"SJajHc NVbCr\" style=\"background:url(/images/nav_logo323.webp) no-repeat;background-position:-74px 0;width:20px\"></span>8</a>, <a aria-label=\"Page 9\" class=\"fl\" href=\"/search?q=Butter+BTS+wiki&amp;ei=CQPLYJbhJtCcwbkPguitmAU&amp;start=80&amp;sa=N&amp;ved=2ahUKEwjWiee4m57xAhVQTjABHQJ0C1MQ8tMDegQIARBE\"><span class=\"SJajHc NVbCr\" style=\"background:url(/images/nav_logo323.webp) no-repeat;background-position:-74px 0;width:20px\"></span>9</a>, <a aria-label=\"Page 10\" class=\"fl\" href=\"/search?q=Butter+BTS+wiki&amp;ei=CQPLYJbhJtCcwbkPguitmAU&amp;start=90&amp;sa=N&amp;ved=2ahUKEwjWiee4m57xAhVQTjABHQJ0C1MQ8tMDegQIARBG\"><span class=\"SJajHc NVbCr\" style=\"background:url(/images/nav_logo323.webp) no-repeat;background-position:-74px 0;width:20px\"></span>10</a>, <a href=\"/search?q=Butter+BTS+wiki&amp;ei=CQPLYJbhJtCcwbkPguitmAU&amp;start=10&amp;sa=N&amp;ved=2ahUKEwjWiee4m57xAhVQTjABHQJ0C1MQ8NMDegQIARBI\" id=\"pnnext\" style=\"text-align:left\"><span class=\"SJajHc NVbCr\" style=\"background:url(/images/nav_logo323.webp) no-repeat;background-position:-96px 0;width:71px\"></span><span style=\"display:block;margin-left:53px\">Next</span></a>, <a class=\"EASEnb PZPZlf\" href=\"/search?q=Kim+Seok-jin&amp;stick=H4sIAAAAAAAAAOOQUeLSz9U3qEoyMc-uNOJOKilWyE3NTUotKo7idyotKUktUnAKCVYoz8zOPMWIpBSJU1F1ipFXP13f0DDJ3MzEyNy0AEmywAKJU5SHxMmBKas0qcwtM_jFyA2yCGr5IlYe78xcheDU_GzdrMy8W2ySDFpTq7g-M-2ZK2j6tMG_NnzJVXvRYz-3FawCAL1cU7zDAAAA&amp;sa=X&amp;ved=2ahUKEwjWiee4m57xAhVQTjABHQJ0C1MQs9oBKAAwHnoECBgQAw\" jsname=\"ZWuC2\" title=\"Jin\"><div class=\"JAC8bd Yyyymd\"><div class=\"vlVVv\"></div><img alt=\"\" aria-hidden=\"true\" class=\"LV5Kte\" data-atf=\"8\" data-deferred=\"1\" id=\"tsuid68\" jsname=\"lt6Uyb\" src=\"data:image/jpeg;base64,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\"/></div><div aria-hidden=\"true\" class=\"iggQde\"><div class=\"f3LoEf\" jsname=\"cuqikc\">Jin</div></div></a>, <a class=\"EASEnb PZPZlf\" href=\"/search?q=Kim+Taehyung&amp;stick=H4sIAAAAAAAAAOOQUeLSz9U3qEoyMa-oMuJOKilWyE3NTUotKo7idyotKUktUnAKCVYoz8zOPMUIV5pdicSpqDrFyKufrm9omGRuZmJkblqAJFlggcQpykPi5MCUVZpU5pYZ_GLkBlkEtXwRK493Zq5CSGJqRmVpXvotNkkGralVXJ-Z9swVNH3a4F8bvuSqveixn9sKVgEAB0UxF8MAAAA&amp;sa=X&amp;ved=2ahUKEwjWiee4m57xAhVQTjABHQJ0C1MQs9oBKAEwHnoECBgQBA\" jsname=\"ZWuC2\" title=\"V\"><div class=\"JAC8bd Yyyymd\"><div class=\"vlVVv\"></div><img alt=\"\" aria-hidden=\"true\" class=\"LV5Kte\" data-atf=\"8\" data-deferred=\"1\" id=\"tsuid74\" jsname=\"lt6Uyb\" src=\"data:image/jpeg;base64,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\"/></div><div aria-hidden=\"true\" class=\"iggQde\"><div class=\"f3LoEf\" jsname=\"cuqikc\">V</div></div></a>, <a class=\"EASEnb PZPZlf\" href=\"/search?q=Jungkook&amp;stick=H4sIAAAAAAAAAOOQUeLVT9c3NEwyNzMxMjctMOJOKilWyE3NTUotKo7idyotKUktUnAKCVYoz8zOPMXIpZ-rb1CVZGKeXYnEqag6xYhqDpJkgQUSpygPiZMDU1ZpUplbZvCLkRtkEdTyRawcXqV56dn5-dm32CQZtKZWcX1m2jNX0PRpg39t-JKr9qLHfm4rWAUALjsgXcIAAAA&amp;sa=X&amp;ved=2ahUKEwjWiee4m57xAhVQTjABHQJ0C1MQs9oBKAIwHnoECBgQBQ\" jsname=\"ZWuC2\" title=\"Jungkook\"><div class=\"JAC8bd Yyyymd\"><div class=\"vlVVv\"></div><img alt=\"\" aria-hidden=\"true\" class=\"LV5Kte\" data-atf=\"8\" data-deferred=\"1\" id=\"tsuid76\" jsname=\"lt6Uyb\" src=\"data:image/jpeg;base64,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\"/></div><div aria-hidden=\"true\" class=\"iggQde\"><div class=\"f3LoEf\" jsname=\"cuqikc\">Jungkook</div></div></a>, <a class=\"EASEnb PZPZlf\" href=\"/search?q=Kim+Namjoon&amp;stick=H4sIAAAAAAAAAOOQUeLSz9U3qEoyMS-wMOJOKilWyE3NTUotKo7idyotKUktUnAKCVYoz8zOPMUIV5pdicSpqDrFyKufrm9omGRuZmJkblqAJFlggcQpykPi5MCUVZpU5pYZ_GLkBlkEtXwRK7d3Zq6CX2JuVn5-3i02SQatqVVcn5n2zBU0fdrgXxu-5Kq96LGf2wpWAQDhKH34wgAAAA&amp;sa=X&amp;ved=2ahUKEwjWiee4m57xAhVQTjABHQJ0C1MQs9oBKAMwHnoECBgQBg\" jsname=\"ZWuC2\" title=\"RM\"><div class=\"JAC8bd Yyyymd\"><div class=\"vlVVv\"></div><img alt=\"\" aria-hidden=\"true\" class=\"LV5Kte\" data-atf=\"8\" data-deferred=\"1\" id=\"tsuid78\" jsname=\"lt6Uyb\" src=\"data:image/jpeg;base64,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\"/></div><div aria-hidden=\"true\" class=\"iggQde\"><div class=\"f3LoEf\" jsname=\"cuqikc\">RM</div></div></a>, <a href=\"/search?q=BTS+members&amp;stick=H4sIAAAAAAAAAOOQMeJOKilWyE3NTUotKo7idyotKUktUnAKCVYoz8zOPMXIpZ-rb1CVZGKeXYnEqag6xcirn65vaJhkbmZiZG5agCRZYIHEKcpD4uTAlFWaVOaWGfxi5AZZBLV8ESsy7xabJIPW1Cquz0x75gqaPm3wrw1fctVe9NjPbQWrAGXZxg62AAAA&amp;sa=X&amp;ved=2ahUKEwjWiee4m57xAhVQTjABHQJ0C1MQ4qYDMB56BAgYEAc\"><g-more-link class=\"hecFYc mIKy0c dGWpb tiS4rf\"><div class=\"MXl0lf mtqGb\"><span class=\"EZRelc z1asCe lYxQe\"><svg focusable=\"false\" viewbox=\"0 0 24 24\" xmlns=\"http://www.w3.org/2000/svg\"><path d=\"M12 4l-1.41 1.41L16.17 11H4v2h12.17l-5.58 5.59L12 20l8-8z\"></path></svg></span><span class=\"wUrVib\"><span>See more</span></span></div></g-more-link></a>, <a class=\"EASEnb PZPZlf\" href=\"/search?q=BTS+Dynamite&amp;stick=H4sIAAAAAAAAAOOQUeLVT9c3NMzOs0wvN62KN-JMKilWKM7PSy-O4ncqLSlJLVJwCglWKM_MzjzFiKoWxs_JLqq0NMpJgfHTsosNC-LjS-Dy6RVm8SnxxXB54yKzijwLhHozowLT3OJyON8yvcrcrNgSxs-oqDTPsUwxgvGTDQsNSoBKYPyUiiwDC8PilF-MnCCngh2_iJUHxHapzEvMzSxJvcUmyaA1tYrrUVT1Km4N7S2i86ec3aP2uZt1S-JhAHcelDYEAQAA&amp;sa=X&amp;ved=2ahUKEwjWiee4m57xAhVQTjABHQJ0C1MQs9oBKAAwH3oECBEQAw\" jsname=\"ZWuC2\" title=\"Dynamite\"><div class=\"JAC8bd Yyyymd\"><div class=\"vlVVv\"></div><img alt=\"\" aria-hidden=\"true\" class=\"LV5Kte Z8r1Ce\" data-src=\"//encrypted-tbn0.gstatic.com/images?q=tbn:ANd9GcQHi9PaCBNcCh82g81VpiSYll2M852nH7rmZOiWP3E682SahL6ZJAge&amp;s=0\" jsname=\"lt6Uyb\" src=\"//encrypted-tbn0.gstatic.com/images?q=tbn:ANd9GcQHi9PaCBNcCh82g81VpiSYll2M852nH7rmZOiWP3E682SahL6ZJAge&amp;s=0\" style=\"visibility: inherit;\"/></div><div aria-hidden=\"true\" class=\"iggQde\"><div class=\"f3LoEf\" jsname=\"cuqikc\">Dynamite</div></div></a>, <a class=\"EASEnb PZPZlf\" href=\"/search?q=BTS+ARMY%F0%9F%92%9C&amp;stick=H4sIAAAAAAAAAOOQUeLVT9c3NMzJLqq0NMpJMeJMKilWKM7PSy-O4ncqLSlJLVJwCglWKM_MzjzFCFGbnWeZXm5aFQ_jw_TC-GnZxYYF8fElcPn0CrP4lPhiuLxxkVlFngVCvZlRgWlucTmcb5leZW5WbAnjZ1RUmudYphjB-MmGhQYlQCUwfkpFloGFYXHKL0ZOkFPBjl_EygNiOwb5Rn6YP2nOLTZJBq2pVVyPoqpXcWtobxGdP-XsHrXP3axbEg8DAEbLytAEAQAA&amp;sa=X&amp;ved=2ahUKEwjWiee4m57xAhVQTjABHQJ0C1MQs9oBKAEwH3oECBEQBA\" jsname=\"ZWuC2\" title=\"ARMY💜\"><div class=\"JAC8bd Yyyymd\"><div class=\"vlVVv\"></div><img alt=\"\" aria-hidden=\"true\" class=\"LV5Kte Z8r1Ce\" data-src=\"//encrypted-tbn0.gstatic.com/images?q=tbn:ANd9GcRteW0Z86MQkxYcG83-ht9wTO3S_kdiXkQcwOER8-nDhtHePbwbWnM8&amp;s=0\" jsname=\"lt6Uyb\" src=\"//encrypted-tbn0.gstatic.com/images?q=tbn:ANd9GcRteW0Z86MQkxYcG83-ht9wTO3S_kdiXkQcwOER8-nDhtHePbwbWnM8&amp;s=0\" style=\"visibility: inherit;\"/></div><div aria-hidden=\"true\" class=\"iggQde\"><div class=\"f3LoEf\" jsname=\"cuqikc\">ARMY💜</div></div></a>, <a class=\"EASEnb PZPZlf\" href=\"/search?q=BTS+Boy+With+Luv&amp;stick=H4sIAAAAAAAAAOOQUeLVT9c3NEzLLjYsiI8vMeJMKilWKM7PSy-O4ncqLSlJLVJwCglWKM_MzjzFCFGbnWeZXm5aFQ_j52QXVVoa5aTA-DCz4PLpFWbxKfHFcHnjIrOKPAuEejOjAtPc4nI43zK9ytys2BLGz6ioNM-xTDGC8ZMNCw1KgEpg_JSKLAMLw-KUX4ycIKeCHb-IVQDEdsqvVAjPLMlQ8Cktu8UmyaA1tYrrUVT1Km4N7S2i86ec3aP2uZt1S-JhAGUW72IIAQAA&amp;sa=X&amp;ved=2ahUKEwjWiee4m57xAhVQTjABHQJ0C1MQs9oBKAIwH3oECBEQBQ\" jsname=\"ZWuC2\" title=\"Boy With Luv\"><div class=\"JAC8bd Yyyymd\"><div class=\"vlVVv\"></div><img alt=\"\" aria-hidden=\"true\" class=\"LV5Kte Z8r1Ce\" data-src=\"//encrypted-tbn0.gstatic.com/images?q=tbn:ANd9GcSntx7rXVMg462Bs23RC6ZK9ZAPVKVZj4yeVensMwohzB4f5WIvrIWM&amp;s=0\" jsname=\"lt6Uyb\" src=\"//encrypted-tbn0.gstatic.com/images?q=tbn:ANd9GcSntx7rXVMg462Bs23RC6ZK9ZAPVKVZj4yeVensMwohzB4f5WIvrIWM&amp;s=0\" style=\"visibility: inherit;\"/></div><div aria-hidden=\"true\" class=\"iggQde\"><div class=\"f3LoEf\" jsname=\"cuqikc\">Boy With Luv</div></div></a>, <a class=\"EASEnb PZPZlf\" href=\"/search?q=BTS+Life+Goes+On&amp;stick=H4sIAAAAAAAAAOOQUeLVT9c3NMxJrzCLT4kvNuJMKilWKM7PSy-O4ncqLSlJLVJwCglWKM_MzjzFCFGbnWeZXm5aFQ_j52QXVVoa5aTA-GnZxYYF8fElcHmo2XB54yKzijwLhHozowLT3OJyON8yvcrcrNgSxs-oqDTPsUwxgvGTDQsNSoBKYPyUiiwDC8PilF-MnCCngh2_iFUAxPbJTEtVcM9PLVbwz7vFJsmgNbWK61FU9SpuDe0tovOnnN2j9rmbdUviYQAHMjj_CAEAAA&amp;sa=X&amp;ved=2ahUKEwjWiee4m57xAhVQTjABHQJ0C1MQs9oBKAMwH3oECBEQBg\" jsname=\"ZWuC2\" title=\"Life Goes On\"><div class=\"JAC8bd Yyyymd\"><div class=\"vlVVv\"></div><img alt=\"\" aria-hidden=\"true\" class=\"LV5Kte Z8r1Ce\" data-src=\"//encrypted-tbn0.gstatic.com/images?q=tbn:ANd9GcSxkP6tPYLNL8iU-i_Ta7EZn4YDR1ef1hrure8Owikdim6f1D3CRxzQ&amp;s=0\" jsname=\"lt6Uyb\" src=\"//encrypted-tbn0.gstatic.com/images?q=tbn:ANd9GcSxkP6tPYLNL8iU-i_Ta7EZn4YDR1ef1hrure8Owikdim6f1D3CRxzQ&amp;s=0\" style=\"visibility: inherit;\"/></div><div aria-hidden=\"true\" class=\"iggQde\"><div class=\"f3LoEf\" jsname=\"cuqikc\">Life Goes On</div></div></a>, <a href=\"/search?q=BTS+songs&amp;stick=H4sIAAAAAAAAAOOQMeJMKilWKM7PSy-O4ncqLSlJLVJwCglWKM_MzjzFyKufrm9omJ1nmV5uWhUP4-dkF1VaGuWkwPhp2cWGBfHxJXD59Aqz-JT4Yri8cZFZRZ4FQr2ZUYFpbnE5nG-ZXmVuVmwJ42dUVJrnWKYYwfjJhoUGJUAlMH5KRZaBhWFxyi9GTpBTwY5fxIpg32KTZNCaWsX1KKp6FbeG9hbR-VPO7lH73M26JfEwAMxhWC_yAAAA&amp;sa=X&amp;ved=2ahUKEwjWiee4m57xAhVQTjABHQJ0C1MQ4qYDMB96BAgREAc\"><g-more-link class=\"hecFYc mIKy0c dGWpb tiS4rf\"><div class=\"MXl0lf mtqGb\"><span class=\"EZRelc z1asCe lYxQe\"><svg focusable=\"false\" viewbox=\"0 0 24 24\" xmlns=\"http://www.w3.org/2000/svg\"><path d=\"M12 4l-1.41 1.41L16.17 11H4v2h12.17l-5.58 5.59L12 20l8-8z\"></path></svg></span><span class=\"wUrVib\"><span>See more</span></span></div></g-more-link></a>, <a class=\"KSfJec F3dFTe AB4Wff u60jwe tzM4td\" href=\"/search?q=BTS+debut+date&amp;sa=X&amp;ved=2ahUKEwjWiee4m57xAhVQTjABHQJ0C1MQ1QIwIHoECAsQAQ\"><div class=\"aXBZVd\"></div><div class=\"s75CSd OhScic AB4Wff\">bts <b>debut date</b></div></a>, <a class=\"KSfJec F3dFTe AB4Wff u60jwe tzM4td\" href=\"/search?q=BTS+meaning&amp;sa=X&amp;ved=2ahUKEwjWiee4m57xAhVQTjABHQJ0C1MQ1QIwIXoECAoQAQ\"><div class=\"aXBZVd\"></div><div class=\"s75CSd OhScic AB4Wff\">bts <b>meaning</b></div></a>, <a class=\"oBa0Fe wrSo4\" data-async-trigger=\"duf3-95\" data-ved=\"2ahUKEwjWiee4m57xAhVQTjABHQJ0C1MQtw96BAgGEAI\" href=\"#\" jsaction=\"trigger.szjOR\" role=\"button\">Feedback</a>, <a id=\"BHDErf\" style=\"display: none;\"></a>, <a data-ved=\"2ahUKEwjWiee4m57xAhVQTjABHQJ0C1MQpLkCegQIARBM\" href=\"#\" id=\"eqQYZc\" style=\"\">Use precise location</a>, <a href=\"https://support.google.com/websearch?p=ws_settings_location&amp;hl=en\" onmousedown=\"return rwt(this,'','','','','AOvVaw1RksNr8josGJkZOGdJzJEb','','2ahUKEwjWiee4m57xAhVQTjABHQJ0C1MQty56BAgBEE0','','',event)\">Learn more</a>, <a class=\"JWaTvb Fx4vi\" href=\"https://support.google.com/websearch/?p=ws_results_help&amp;hl=en&amp;fg=1\" onmousedown=\"return rwt(this,'','','','','AOvVaw3OMgCBLQR8XnB9gM70GF5s','','2ahUKEwjWiee4m57xAhVQTjABHQJ0C1MQ8KwCegQIARBO','','',event)\">Help</a>, <a class=\"Fx4vi\" data-bucket=\"websearch\" data-ved=\"2ahUKEwjWiee4m57xAhVQTjABHQJ0C1MQLnoECAEQTw\" href=\"#\" id=\"dk2qOd\" jsaction=\"trigger.YcfJ\" target=\"_blank\">Send feedback</a>, <a class=\"JWaTvb Fx4vi\" href=\"https://policies.google.com/privacy?hl=en&amp;fg=1\" onmousedown=\"return rwt(this,'','','','','AOvVaw25lN6TjyY2uszSImdhMejE','','2ahUKEwjWiee4m57xAhVQTjABHQJ0C1MQ8awCegQIARBQ','','',event)\">Privacy</a>, <a class=\"JWaTvb Fx4vi\" href=\"https://policies.google.com/terms?hl=en&amp;fg=1\" onmousedown=\"return rwt(this,'','','','','AOvVaw2d8Ahs2oc0jxVOgPfpr4Fe','','2ahUKEwjWiee4m57xAhVQTjABHQJ0C1MQ8qwCegQIARBR','','',event)\">Terms</a>]\n",
            "==================================================\n",
            "//////////////////////////// Songwriter, Producer : Butter BTS wiki\n"
          ],
          "name": "stdout"
        }
      ]
    },
    {
      "cell_type": "code",
      "metadata": {
        "colab": {
          "base_uri": "https://localhost:8080/"
        },
        "id": "785sGfKq4qIB",
        "outputId": "2de8fd1a-f555-411d-c781-90a874c14e4f"
      },
      "source": [
        "import pandas as pd\n",
        "import time\n",
        "df = pd.read_csv('./hot_new100.csv')\n",
        "time.sleep(2.5) ## 0.5초\n",
        "wd.get(\"https://google.com\")\n",
        "print(wd.current_url)\n",
        "song = df['Song Title'][0]\n",
        "artist = df['Singer'][0]\n",
        "keyword = str(song) + ' ' + str(artist) + ' wiki'\n",
        "print(keyword)\n",
        "# driver.find_element_by_name(<element의 name>).send_keys(<검색어>)\n",
        "element = wd.find_element_by_name('q')\n",
        "element.send_keys(keyword)\n",
        "element.submit()\n",
        "print(wd.current_url)\n",
        "# elem = wd.find_element_by_css_seletor('div.yuRUbf')\n",
        "# elem.click()\n",
        "print(wd.current_url)\n",
        "print('-----------------')\n",
        "html = wd.page_source\n",
        "bs = BeautifulSoup(html, 'html.parser')\n",
        "print(bs.find_all('a'))\n",
        "top_list = bs.find_all('a',href=True)\n",
        "for top in top_list:\n",
        "#   print(top.attrs['href'])\n",
        "    if( 'en.wikipedia' in top.text ):\n",
        "        print('='*50)\n",
        "        html1 = top.attrs['href']\n",
        "        response = requests.get(html1)\n",
        "        if response.status_code == 200:\n",
        "            html1 = response.text\n",
        "            bs1 = BeautifulSoup(html1, 'html.parser')\n",
        "        else :\n",
        "            print(response.status_code)\n",
        "        break\n",
        "##### 위키 곡정보 페이지  #####\n",
        "    # writer,producer\n",
        "print(\"//////////////////////////// \" + \"Songwriter, Producer : \" + keyword)\n",
        "top_list1 = bs1.find_all('tr')\n",
        "for top in top_list1:\n",
        "    if('en.wikipedia' in top.text):\n",
        "        response = requests.get(html1)\n",
        "        if response.status_code == 200:\n",
        "            html1 = response.text\n",
        "            bs1 = BeautifulSoup(html1, 'html.parser')\n",
        "            atitle = soup.find('Songwriter(s)')\n",
        "            #ul = soup.select_one('ul.basic1')\n",
        "            tag_names = wd.find_element_by_class_name(\"nowrap\").find_elements_by_tag_name(\"li\")\n",
        "            for i in tag_names:\n",
        "                print(i.text.split(\"\\n\"))\n",
        "        else :\n",
        "            print(response.status_code)\n",
        "        break\n",
        "\n",
        "#tr_list1 = bs1.find_all('tr')\n",
        "#for top in top_list1:\n",
        "#    print(top.get_text())\n",
        "#df.head(10)\n",
        "#wd.quit()\n",
        "\n"
      ],
      "execution_count": null,
      "outputs": [
        {
          "output_type": "stream",
          "text": [
            "https://www.google.com/\n",
            "Butter BTS wiki\n",
            "https://www.google.com/search?q=Butter+BTS+wiki&source=hp&ei=6ADLYP6kMZCDwbkP2qCGyA8&iflsig=AINFCbYAAAAAYMsO-DgQTyvib61dXe-6gE_quFRPCRH8\n",
            "https://www.google.com/search?q=Butter+BTS+wiki&source=hp&ei=6ADLYP6kMZCDwbkP2qCGyA8&iflsig=AINFCbYAAAAAYMsO-DgQTyvib61dXe-6gE_quFRPCRH8\n",
            "-----------------\n",
            "[<a href=\"/search?q=Butter+BTS+wiki&amp;gbv=1&amp;sei=6QDLYIWEEJqOwbkPjraCsAk\">here</a>, <a class=\"gyPpGe\" data-ved=\"0ahUKEwjFnJ21mZ7xAhUaRzABHQ6bAJYQ67oDCAU\" jsaction=\"i3viod\" jsname=\"BKxS1e\" role=\"link\" tabindex=\"0\">Skip to main content</a>, <a class=\"gyPpGe\" href=\"https://support.google.com/websearch/answer/181196?hl=en\" jsname=\"KI37ad\" onmousedown=\"return rwt(this,'','','','','AOvVaw3elFYWr3XjJhjNYthIzFcp','','0ahUKEwjFnJ21mZ7xAhUaRzABHQ6bAJYQwcMDCAY','','',event)\">Accessibility help</a>, <a class=\"gyPpGe\" data-async-trigger=\"duf3-78\" jsaction=\"trigger.szjOR\" jsname=\"JUypV\" role=\"link\" tabindex=\"0\">Accessibility feedback</a>, <a aria-expanded=\"false\" aria-label=\"Google apps\" class=\"gb_C\" href=\"https://www.google.com/intl/en/about/products?tab=wh\" role=\"button\" tabindex=\"0\"><svg class=\"gb_Ve\" focusable=\"false\" viewbox=\"0 0 24 24\"><path d=\"M6,8c1.1,0 2,-0.9 2,-2s-0.9,-2 -2,-2 -2,0.9 -2,2 0.9,2 2,2zM12,20c1.1,0 2,-0.9 2,-2s-0.9,-2 -2,-2 -2,0.9 -2,2 0.9,2 2,2zM6,20c1.1,0 2,-0.9 2,-2s-0.9,-2 -2,-2 -2,0.9 -2,2 0.9,2 2,2zM6,14c1.1,0 2,-0.9 2,-2s-0.9,-2 -2,-2 -2,0.9 -2,2 0.9,2 2,2zM12,14c1.1,0 2,-0.9 2,-2s-0.9,-2 -2,-2 -2,0.9 -2,2 0.9,2 2,2zM16,6c0,1.1 0.9,2 2,2s2,-0.9 2,-2 -0.9,-2 -2,-2 -2,0.9 -2,2zM12,8c1.1,0 2,-0.9 2,-2s-0.9,-2 -2,-2 -2,0.9 -2,2 0.9,2 2,2zM18,14c1.1,0 2,-0.9 2,-2s-0.9,-2 -2,-2 -2,0.9 -2,2 0.9,2 2,2zM18,20c1.1,0 2,-0.9 2,-2s-0.9,-2 -2,-2 -2,0.9 -2,2 0.9,2 2,2z\"></path></svg></a>, <a class=\"gb_3 gb_4 gb_9d gb_3c\" href=\"https://accounts.google.com/ServiceLogin?hl=en&amp;passive=true&amp;continue=https://www.google.com/search%3Fq%3DButter%2BBTS%2Bwiki%26source%3Dhp%26ei%3D6ADLYP6kMZCDwbkP2qCGyA8%26iflsig%3DAINFCbYAAAAAYMsO-DgQTyvib61dXe-6gE_quFRPCRH8&amp;ec=GAZAAQ\" target=\"_top\">Sign in</a>, <a data-hveid=\"8\" href=\"https://www.google.com/webhp?hl=en&amp;sa=X&amp;ved=0ahUKEwjFnJ21mZ7xAhUaRzABHQ6bAJYQPAgI\" id=\"logo\" title=\"Go to Google Home\"><img alt=\"Google\" data-atf=\"1\" height=\"30\" src=\"/images/branding/googlelogo/2x/googlelogo_color_92x30dp.png\" width=\"92\"/></a>, <a class=\"oBa0Fe wrSo4 aciXEb\" data-async-trigger=\"duf3-46\" data-ved=\"0ahUKEwjFnJ21mZ7xAhUaRzABHQ6bAJYQtw8IEA\" href=\"#\" id=\"sbfblt\" jsaction=\"trigger.szjOR\" role=\"button\">Report inappropriate predictions</a>, <a class=\"hide-focus-ring\" data-hveid=\"CAEQAw\" href=\"/search?q=Butter+BTS+wiki&amp;source=lnms&amp;tbm=vid&amp;sa=X&amp;ved=2ahUKEwjFnJ21mZ7xAhUaRzABHQ6bAJYQ_AUoAXoECAEQAw\"><span class=\"bmaJhd iJddsb\" style=\"height:16px;width:16px\"><svg focusable=\"false\" viewbox=\"0 0 24 24\"><path d=\"M10 16.5l6-4.5-6-4.5v9zM5 20h14a1 1 0 0 0 1-1V5a1 1 0 0 0-1-1H5a1 1 0 0 0-1 1v14a1 1 0 0 0 1 1zm14.5 2H5a3 3 0 0 1-3-3V4.4A2.4 2.4 0 0 1 4.4 2h15.2A2.4 2.4 0 0 1 22 4.4v15.1a2.5 2.5 0 0 1-2.5 2.5\"></path></svg></span>Videos</a>, <a class=\"hide-focus-ring\" data-hveid=\"CAEQBA\" href=\"/search?q=Butter+BTS+wiki&amp;source=lnms&amp;tbm=isch&amp;sa=X&amp;ved=2ahUKEwjFnJ21mZ7xAhUaRzABHQ6bAJYQ_AUoAnoECAEQBA\"><span class=\"bmaJhd iJddsb\" style=\"height:16px;width:16px\"><svg focusable=\"false\" viewbox=\"0 0 24 24\"><path d=\"M14 13l4 5H6l4-4 1.79 1.78L14 13zm-6.01-2.99A2 2 0 0 0 8 6a2 2 0 0 0-.01 4.01zM22 5v14a3 3 0 0 1-3 2.99H5c-1.64 0-3-1.36-3-3V5c0-1.64 1.36-3 3-3h14c1.65 0 3 1.36 3 3zm-2.01 0a1 1 0 0 0-1-1H5a1 1 0 0 0-1 1v14a1 1 0 0 0 1 1h7v-.01h7a1 1 0 0 0 1-1V5\"></path></svg></span>Images</a>, <a class=\"hide-focus-ring\" data-hveid=\"CAEQBQ\" href=\"/search?q=Butter+BTS+wiki&amp;source=lnms&amp;tbm=nws&amp;sa=X&amp;ved=2ahUKEwjFnJ21mZ7xAhUaRzABHQ6bAJYQ_AUoA3oECAEQBQ\"><span class=\"bmaJhd iJddsb\" style=\"height:16px;width:16px\"><svg focusable=\"false\" viewbox=\"0 0 24 24\"><path d=\"M12 11h6v2h-6v-2zm-6 6h12v-2H6v2zm0-4h4V7H6v6zm16-7.22v12.44c0 1.54-1.34 2.78-3 2.78H5c-1.64 0-3-1.25-3-2.78V5.78C2 4.26 3.36 3 5 3h14c1.64 0 3 1.25 3 2.78zM19.99 12V5.78c0-.42-.46-.78-1-.78H5c-.54 0-1 .36-1 .78v12.44c0 .42.46.78 1 .78h14c.54 0 1-.36 1-.78V12zM12 9h6V7h-6v2\"></path></svg></span>News</a>, <a class=\"hide-focus-ring\" data-hveid=\"CAEQBg\" href=\"https://maps.google.com/maps?q=Butter+BTS+wiki&amp;iflsig=AINFCbYAAAAAYMsO-DgQTyvib61dXe-6gE_quFRPCRH8&amp;um=1&amp;ie=UTF-8&amp;sa=X&amp;ved=2ahUKEwjFnJ21mZ7xAhUaRzABHQ6bAJYQ_AUoBHoECAEQBg\"><span class=\"bmaJhd iJddsb\" style=\"height:16px;width:16px\"><svg focusable=\"false\" viewbox=\"0 0 16 16\"><path d=\"M7.503 0c3.09 0 5.502 2.487 5.502 5.427 0 2.337-1.13 3.694-2.26 5.05-.454.528-.906 1.13-1.358 1.734-.452.603-.754 1.508-.98 1.96-.226.452-.377.829-.904.829-.528 0-.678-.377-.905-.83-.226-.451-.527-1.356-.98-1.959-.452-.603-.904-1.206-1.356-1.734C3.132 9.121 2 7.764 2 5.427 2 2.487 4.412 0 7.503 0zm0 1.364c-2.283 0-4.14 1.822-4.14 4.063 0 1.843.86 2.873 1.946 4.177.468.547.942 1.178 1.4 1.79.34.452.596.99.794 1.444.198-.455.453-.992.793-1.445.459-.61.931-1.242 1.413-1.803 1.074-1.29 1.933-2.32 1.933-4.163 0-2.24-1.858-4.063-4.139-4.063zm0 2.734a1.33 1.33 0 11-.001 2.658 1.33 1.33 0 010-2.658\"></path></svg></span>Maps</a>, <a href=\"/search?q=Butter+BTS+wiki&amp;source=lnms&amp;tbm=shop&amp;sa=X&amp;ved=2ahUKEwjFnJ21mZ7xAhUaRzABHQ6bAJYQ_AUoAHoECAEQCg\" role=\"menuitem\" tabindex=\"-1\"><span class=\"bmaJhd iJddsb\" style=\"height:16px;width:16px\"><svg focusable=\"false\" viewbox=\"0 0 24 24\"><path d=\"M21.11 2.89A3.02 3.02 0 0 0 18.95 2h-5.8c-.81 0-1.58.31-2.16.89L7.25 6.63 2.9 10.98a3.06 3.06 0 0 0 0 4.32l5.79 5.8a3.05 3.05 0 0 0 4.32.01l8.09-8.1c.58-.58.9-1.34.9-2.16v-5.8c0-.81-.32-1.59-.89-2.16zM20 10.85c0 .28-.12.54-.32.74l-3.73 3.74-4.36 4.36c-.41.41-1.08.41-1.49 0l-2.89-2.9-2.9-2.9a1.06 1.06 0 0 1 0-1.49l8.1-8.1c.2-.2.46-.3.74-.3l5.8-.01A1.05 1.05 0 0 1 20 5.05v5.8zM16 6c1.1 0 2 .9 2 2s-.9 2-2 2-2-.9-2-2 .9-2 2-2\"></path></svg></span>Shopping</a>, <a href=\"/search?q=Butter+BTS+wiki&amp;source=lnms&amp;tbm=bks&amp;sa=X&amp;ved=2ahUKEwjFnJ21mZ7xAhUaRzABHQ6bAJYQ_AUoAXoECAEQCw\" role=\"menuitem\" tabindex=\"-1\"><span class=\"bmaJhd iJddsb\" style=\"height:16px;width:16px\"><svg focusable=\"false\" viewbox=\"0 0 24 24\"><path d=\"M18 2H6a2 2 0 0 0-2 2v16c0 1.1.9 2 2 2h12a2 2 0 0 0 2-2V4a2 2 0 0 0-2-2zm0 18H6V4h2v8l2.5-1.5L13 12V4h5v16\"></path></svg></span>Books</a>, <a href=\"https://www.google.com/flights?q=Butter+BTS+wiki&amp;source=lnms&amp;tbm=flm&amp;sa=X&amp;ved=2ahUKEwjFnJ21mZ7xAhUaRzABHQ6bAJYQ_AUoAnoECAEQDA\" role=\"menuitem\" tabindex=\"-1\"><span class=\"bmaJhd iJddsb\" style=\"height:16px;width:16px\"><svg focusable=\"false\" viewbox=\"0 0 24 24\"><path d=\"M12.98 12.89l-4.03 4.03.42 2.95L8.24 21l-1.87-3.37L3 15.76l1.12-1.12 2.95.42 4.03-4.03L3 6.77l1.5-1.5 10.04 2.32 4.2-4.2a1.32 1.32 0 0 1 1.87 0c.52.52.52 1.36 0 1.87l-4.2 4.2 2.32 10.04-1.5 1.5-4.25-8.11\"></path></svg></span>Flights</a>, <a href=\"https://www.google.com/finance?sa=X&amp;ved=2ahUKEwjFnJ21mZ7xAhUaRzABHQ6bAJYQ_AUoA3oECAEQDQ\" role=\"menuitem\" tabindex=\"-1\"><span class=\"bmaJhd iJddsb\" style=\"height:16px;width:16px\"><svg focusable=\"false\" viewbox=\"0 0 24 24\"><path d=\"M6 15.5l-3 2.94V10h3v5.5zm5-1.84l-1.57-1.34L8 13.64V6h3v7.66zM16 12l-3 3V2h3v10zm2.81-.19L17 10h5v5l-1.79-1.79L13 20.36l-3.47-3.02L5.75 21H3l6.47-6.34L13 17.64l5.81-5.83\"></path></svg></span>Finance</a>, <a aria-haspopup=\"true\" class=\"hide-focus-ring GOE98c CaY96\" href=\"/preferences\" id=\"abar_button_opt\" jsaction=\"WFrRFb;keydown:uYT2Vb\" onmousedown=\"return rwt(this,'','','','','AOvVaw0OF5nJgUk6CtyQZljEZa3L','','2ahUKEwjFnJ21mZ7xAhUaRzABHQ6bAJYQn_YBegQIARAP','','',event)\" role=\"button\">Settings</a>, <a href=\"/preferences?hl=en&amp;prev=https://www.google.com/search?q%3DButter%2BBTS%2Bwiki%26source%3Dhp%26ei%3D6ADLYP6kMZCDwbkP2qCGyA8%26iflsig%3DAINFCbYAAAAAYMsO-DgQTyvib61dXe-6gE_quFRPCRH8&amp;sa=X&amp;ved=2ahUKEwjFnJ21mZ7xAhUaRzABHQ6bAJYQo_oBKAF6BAgBEBI\" role=\"menuitem\" tabindex=\"-1\">Search settings</a>, <a href=\"/preferences?hl=en&amp;prev=https://www.google.com/search?q%3DButter%2BBTS%2Bwiki%26source%3Dhp%26ei%3D6ADLYP6kMZCDwbkP2qCGyA8%26iflsig%3DAINFCbYAAAAAYMsO-DgQTyvib61dXe-6gE_quFRPCRH8&amp;sa=X&amp;ved=2ahUKEwjFnJ21mZ7xAhUaRzABHQ6bAJYQo_oBKAJ6BAgBEBM#languages\" role=\"menuitem\" tabindex=\"-1\"><span>Languages</span></a>, <a href=\"/setprefs?safeui=on&amp;sig=0_WIE32ntkLyMRVhhG1a3S-9C7YO4%3D&amp;prev=https://www.google.com/search?q%3DButter%2BBTS%2Bwiki%26source%3Dhp%26ei%3D6ADLYP6kMZCDwbkP2qCGyA8%26iflsig%3DAINFCbYAAAAAYMsO-DgQTyvib61dXe-6gE_quFRPCRH8&amp;sa=X&amp;ved=2ahUKEwjFnJ21mZ7xAhUaRzABHQ6bAJYQo_oBKAN6BAgBEBQ\" id=\"safesearch\" jsaction=\"CojpKc\" jscontroller=\"mD3xrf\" role=\"menuitem\" tabindex=\"-1\"><div>Hide explicit results</div></a>, <a href=\"/advanced_search?q=Butter+BTS+wiki&amp;hl=en&amp;sa=X&amp;ved=2ahUKEwjFnJ21mZ7xAhUaRzABHQ6bAJYQo_oBKAR6BAgBEBU\" role=\"menuitem\" tabindex=\"-1\">Advanced search</a>, <a href=\"/history/optout?hl=en&amp;sa=X&amp;ved=2ahUKEwjFnJ21mZ7xAhUaRzABHQ6bAJYQo_oBKAV6BAgBEBY\" role=\"menuitem\" tabindex=\"-1\">Search history</a>, <a href=\"/history/privacyadvisor/search/unauth?utm_source=googlemenu&amp;sa=X&amp;ved=2ahUKEwjFnJ21mZ7xAhUaRzABHQ6bAJYQo_oBKAZ6BAgBEBc\" role=\"menuitem\" tabindex=\"-1\">Your data in Search</a>, <a href=\"https://support.google.com/websearch/?source=g&amp;hl=en&amp;sa=X&amp;ved=2ahUKEwjFnJ21mZ7xAhUaRzABHQ6bAJYQo_oBKAd6BAgBEBg\" role=\"menuitem\" tabindex=\"-1\">Search help</a>, <a href=\"/search?q=Butter+BTS+wiki&amp;source=lnt&amp;tbs=qdr:h&amp;sa=X&amp;ved=2ahUKEwjFnJ21mZ7xAhUaRzABHQ6bAJYQpwV6BAgBECA\" role=\"menuitem\" tabindex=\"-1\">Past hour</a>, <a href=\"/search?q=Butter+BTS+wiki&amp;source=lnt&amp;tbs=qdr:d&amp;sa=X&amp;ved=2ahUKEwjFnJ21mZ7xAhUaRzABHQ6bAJYQpwV6BAgBECE\" role=\"menuitem\" tabindex=\"-1\">Past 24 hours</a>, <a href=\"/search?q=Butter+BTS+wiki&amp;source=lnt&amp;tbs=qdr:w&amp;sa=X&amp;ved=2ahUKEwjFnJ21mZ7xAhUaRzABHQ6bAJYQpwV6BAgBECI\" role=\"menuitem\" tabindex=\"-1\">Past week</a>, <a href=\"/search?q=Butter+BTS+wiki&amp;source=lnt&amp;tbs=qdr:m&amp;sa=X&amp;ved=2ahUKEwjFnJ21mZ7xAhUaRzABHQ6bAJYQpwV6BAgBECM\" role=\"menuitem\" tabindex=\"-1\">Past month</a>, <a href=\"/search?q=Butter+BTS+wiki&amp;source=lnt&amp;tbs=qdr:y&amp;sa=X&amp;ved=2ahUKEwjFnJ21mZ7xAhUaRzABHQ6bAJYQpwV6BAgBECQ\" role=\"menuitem\" tabindex=\"-1\">Past year</a>, <a href=\"/search?q=Butter+BTS+wiki&amp;source=lnt&amp;tbs=li:1&amp;sa=X&amp;ved=2ahUKEwjFnJ21mZ7xAhUaRzABHQ6bAJYQpwV6BAgBECs\" role=\"menuitem\" tabindex=\"-1\">Verbatim</a>, <a data-ved=\"2ahUKEwjFnJ21mZ7xAhUaRzABHQ6bAJYQFjAAegQIBRAD\" href=\"https://en.wikipedia.org/wiki/Butter_(song)\" onmousedown=\"return rwt(this,'','','','','AOvVaw0NonK0sb_CN231SzrHWjb7','','2ahUKEwjFnJ21mZ7xAhUaRzABHQ6bAJYQFjAAegQIBRAD','','',event)\"><br/><h3 class=\"LC20lb DKV0Md\">Butter (song) - Wikipedia</h3><div class=\"TbwUpd NJjxre\"><cite class=\"iUh30 Zu0yb qLRx3b tjvcx\">https://en.wikipedia.org<span class=\"dyjrff qzEoUe\"> › wiki › Butter_(song)</span></cite></div></a>, <a href=\"https://en.wikipedia.org/wiki/Wikipedia\">Wikipedia</a>, <a href=\"https://en.wikipedia.org/wiki/Butter_(song)\" target=\"_blank\">https://en.wikipedia.org/wiki/Butter_(song)</a>, <a class=\"O0oZCe\" data-ved=\"2ahUKEwjFnJ21mZ7xAhUaRzABHQ6bAJYQ0r4HMAB6BAgFEAo\" jsname=\"oyt78e\" role=\"link\" tabindex=\"0\">Send feedback on this info</a>, <a href=\"https://myactivity.google.com/privacyadvisor/search\" tabindex=\"0\" target=\"_blank\"><div class=\"gziGLd WGYX8\" id=\"qCA1yf\"><span class=\"cQkxXe\"><span class=\"mdUiPd S003Ke mtnwac z1asCe E9hVAb\" style=\"height:14px;line-height:14px;width:14px\"><svg focusable=\"false\" viewbox=\"0 0 24 24\" xmlns=\"http://www.w3.org/2000/svg\"><path d=\"M19.43 12.98c.04-.32.07-.64.07-.98s-.03-.66-.07-.98l2.11-1.65c.19-.15.24-.42.12-.64l-2-3.46c-.12-.22-.39-.3-.61-.22l-2.49 1c-.52-.4-1.08-.73-1.69-.98l-.38-2.65C14.46 2.18 14.25 2 14 2h-4c-.25 0-.46.18-.49.42l-.38 2.65c-.61.25-1.17.59-1.69.98l-2.49-1c-.23-.09-.49 0-.61.22l-2 3.46c-.13.22-.07.49.12.64l2.11 1.65c-.04.32-.07.65-.07.98s.03.66.07.98l-2.11 1.65c-.19.15-.24.42-.12.64l2 3.46c.12.22.39.3.61.22l2.49-1c.52.4 1.08.73 1.69.98l.38 2.65c.03.24.24.42.49.42h4c.25 0 .46-.18.49-.42l.38-2.65c.61-.25 1.17-.59 1.69-.98l2.49 1c.23.09.49 0 .61-.22l2-3.46c.12-.22.07-.49-.12-.64l-2.11-1.65zM12 15.5c-1.93 0-3.5-1.57-3.5-3.5s1.57-3.5 3.5-3.5 3.5 1.57 3.5 3.5-1.57 3.5-3.5 3.5z\"></path></svg></span> <span>Privacy settings</span></span></div></a>, <a href=\"https://www.google.com/search/howsearchworks/\" tabindex=\"0\" target=\"_blank\"><div class=\"gziGLd WGYX8\" id=\"fGmxxe\"><span class=\"cQkxXe\"><span class=\"mdUiPd S003Ke mtnwac z1asCe MZy1Rb\" style=\"height:14px;line-height:14px;width:14px\"><svg focusable=\"false\" viewbox=\"0 0 24 24\" xmlns=\"http://www.w3.org/2000/svg\"><path d=\"M15.5 14h-.79l-.28-.27A6.471 6.471 0 0 0 16 9.5 6.5 6.5 0 1 0 9.5 16c1.61 0 3.09-.59 4.23-1.57l.27.28v.79l5 4.99L20.49 19l-4.99-5zm-6 0C7.01 14 5 11.99 5 9.5S7.01 5 9.5 5 14 7.01 14 9.5 11.99 14 9.5 14z\"></path></svg></span><span>How Search works</span></span></div></a>, <a href=\"https://webcache.googleusercontent.com/search?q=cache:WTZbEjQbjb4J:https://en.wikipedia.org/wiki/Butter_(song)+&amp;cd=1&amp;hl=en&amp;ct=clnk&amp;gl=us\" onmousedown=\"return rwt(this,'','','','','AOvVaw3yLxXFwYTlbxlScci5pmll','','2ahUKEwjFnJ21mZ7xAhUaRzABHQ6bAJYQIDAAegQIBRAO','','',event)\"><span>Cached</span></a>, <a href=\"https://en.wikipedia.org/wiki/Jenna_Andrews\" onmousedown=\"return rwt(this,'','','','','AOvVaw2EtJzzac0Aeu4nJ2D7JJZM','','2ahUKEwjFnJ21mZ7xAhUaRzABHQ6bAJYQs2YoADAAegQIBRAS','','',event)\">Jenna Andrews</a>, <a href=\"https://en.wikipedia.org/wiki/Dance-pop\" onmousedown=\"return rwt(this,'','','','','AOvVaw0dxrgmowGCki4q2SRytLky','','2ahUKEwjFnJ21mZ7xAhUaRzABHQ6bAJYQs2YoADAAegQIBRAV','','',event)\">Dance-pop</a>, <a href=\"https://en.wikipedia.org/wiki/Electronic_dance_music\" onmousedown=\"return rwt(this,'','','','','AOvVaw1C-73uaAbgMTS4ffBTBN92','','2ahUKEwjFnJ21mZ7xAhUaRzABHQ6bAJYQs2YoATAAegQIBRAW','','',event)\">EDM</a>, <a href=\"https://en.wikipedia.org/wiki/Butter_(song)#Composition_and_lyrics\" onmousedown=\"return rwt(this,'','','','','AOvVaw0NonK0sb_CN231SzrHWjb7','','2ahUKEwjFnJ21mZ7xAhUaRzABHQ6bAJYQ0gIoAHoECAIQAQ','','',event)\">Composition and lyrics</a>, <a href=\"https://en.wikipedia.org/wiki/Butter_(song)#Music_video\" onmousedown=\"return rwt(this,'','','','','AOvVaw0NonK0sb_CN231SzrHWjb7','','2ahUKEwjFnJ21mZ7xAhUaRzABHQ6bAJYQ0gIoAXoECAIQAg','','',event)\">Music video</a>, <a href=\"https://en.wikipedia.org/wiki/Butter_(song)#Commercial_performance\" onmousedown=\"return rwt(this,'','','','','AOvVaw0NonK0sb_CN231SzrHWjb7','','2ahUKEwjFnJ21mZ7xAhUaRzABHQ6bAJYQ0gIoAnoECAIQAw','','',event)\">Commercial performance</a>, <a href=\"https://en.wikipedia.org/wiki/Butter_(song)#Live_performances\" onmousedown=\"return rwt(this,'','','','','AOvVaw0NonK0sb_CN231SzrHWjb7','','2ahUKEwjFnJ21mZ7xAhUaRzABHQ6bAJYQ0gIoA3oECAIQBA','','',event)\">Live performances</a>, <a data-ved=\"2ahUKEwjFnJ21mZ7xAhUaRzABHQ6bAJYQFjABegQIBBAE\" href=\"https://en.wikipedia.org/wiki/BTS\" onmousedown=\"return rwt(this,'','','','','AOvVaw3o2sgk99LEIQfYOrkPkbcB','','2ahUKEwjFnJ21mZ7xAhUaRzABHQ6bAJYQFjABegQIBBAE','','',event)\"><br/><h3 class=\"LC20lb DKV0Md\">BTS - Wikipedia</h3><div class=\"TbwUpd NJjxre\"><cite class=\"iUh30 Zu0yb qLRx3b tjvcx\">https://en.wikipedia.org<span class=\"dyjrff qzEoUe\"> › wiki › BTS</span></cite></div></a>, <a href=\"https://en.wikipedia.org/wiki/Wikipedia\">Wikipedia</a>, <a href=\"https://en.wikipedia.org/wiki/BTS\" target=\"_blank\">https://en.wikipedia.org/wiki/BTS</a>, <a class=\"O0oZCe\" data-ved=\"2ahUKEwjFnJ21mZ7xAhUaRzABHQ6bAJYQ0r4HMAF6BAgEEAs\" jsname=\"oyt78e\" role=\"link\" tabindex=\"0\">Send feedback on this info</a>, <a href=\"https://myactivity.google.com/privacyadvisor/search\" tabindex=\"0\" target=\"_blank\"><div class=\"gziGLd WGYX8\" id=\"qCA1yf\"><span class=\"cQkxXe\"><span class=\"mdUiPd S003Ke mtnwac z1asCe E9hVAb\" style=\"height:14px;line-height:14px;width:14px\"><svg focusable=\"false\" viewbox=\"0 0 24 24\" xmlns=\"http://www.w3.org/2000/svg\"><path d=\"M19.43 12.98c.04-.32.07-.64.07-.98s-.03-.66-.07-.98l2.11-1.65c.19-.15.24-.42.12-.64l-2-3.46c-.12-.22-.39-.3-.61-.22l-2.49 1c-.52-.4-1.08-.73-1.69-.98l-.38-2.65C14.46 2.18 14.25 2 14 2h-4c-.25 0-.46.18-.49.42l-.38 2.65c-.61.25-1.17.59-1.69.98l-2.49-1c-.23-.09-.49 0-.61.22l-2 3.46c-.13.22-.07.49.12.64l2.11 1.65c-.04.32-.07.65-.07.98s.03.66.07.98l-2.11 1.65c-.19.15-.24.42-.12.64l2 3.46c.12.22.39.3.61.22l2.49-1c.52.4 1.08.73 1.69.98l.38 2.65c.03.24.24.42.49.42h4c.25 0 .46-.18.49-.42l.38-2.65c.61-.25 1.17-.59 1.69-.98l2.49 1c.23.09.49 0 .61-.22l2-3.46c.12-.22.07-.49-.12-.64l-2.11-1.65zM12 15.5c-1.93 0-3.5-1.57-3.5-3.5s1.57-3.5 3.5-3.5 3.5 1.57 3.5 3.5-1.57 3.5-3.5 3.5z\"></path></svg></span> <span>Privacy settings</span></span></div></a>, <a href=\"https://www.google.com/search/howsearchworks/\" tabindex=\"0\" target=\"_blank\"><div class=\"gziGLd WGYX8\" id=\"fGmxxe\"><span class=\"cQkxXe\"><span class=\"mdUiPd S003Ke mtnwac z1asCe MZy1Rb\" style=\"height:14px;line-height:14px;width:14px\"><svg focusable=\"false\" viewbox=\"0 0 24 24\" xmlns=\"http://www.w3.org/2000/svg\"><path d=\"M15.5 14h-.79l-.28-.27A6.471 6.471 0 0 0 16 9.5 6.5 6.5 0 1 0 9.5 16c1.61 0 3.09-.59 4.23-1.57l.27.28v.79l5 4.99L20.49 19l-4.99-5zm-6 0C7.01 14 5 11.99 5 9.5S7.01 5 9.5 5 14 7.01 14 9.5 11.99 14 9.5 14z\"></path></svg></span><span>How Search works</span></span></div></a>, <a href=\"/search?q=related:https://en.wikipedia.org/wiki/BTS+Butter+BTS+wiki&amp;sa=X&amp;ved=2ahUKEwjFnJ21mZ7xAhUaRzABHQ6bAJYQHzABegQIBBAP\"><span>Similar</span></a>, <a href=\"https://en.wikipedia.org/wiki/BTS_singles_discography\" onmousedown=\"return rwt(this,'','','','','AOvVaw1Cl5VjiWsjFxA_RY5BDWlA','','2ahUKEwjFnJ21mZ7xAhUaRzABHQ6bAJYQ0gIoAHoECAMQAQ','','',event)\">BTS singles discography</a>, <a href=\"https://en.wikipedia.org/wiki/Be_(BTS_album)\" onmousedown=\"return rwt(this,'','','','','AOvVaw1G2tfk9jwnMrSOc8k9x1xw','','2ahUKEwjFnJ21mZ7xAhUaRzABHQ6bAJYQ0gIoAXoECAMQAg','','',event)\">BTS album</a>, <a href=\"https://en.wikipedia.org/wiki/Dynamite_(BTS_song)\" onmousedown=\"return rwt(this,'','','','','AOvVaw15qzK9DGDUPiXZy0AhQ8ce','','2ahUKEwjFnJ21mZ7xAhUaRzABHQ6bAJYQ0gIoAnoECAMQAw','','',event)\">Dynamite (BTS song)</a>, <a href=\"https://en.wikipedia.org/wiki/BTS_videography\" onmousedown=\"return rwt(this,'','','','','AOvVaw0pWZOsqLZig2bX5MLrH79W','','2ahUKEwjFnJ21mZ7xAhUaRzABHQ6bAJYQ0gIoA3oECAMQBA','','',event)\">BTS videography</a>, <a data-ved=\"2ahUKEwjFnJ21mZ7xAhUaRzABHQ6bAJYQFjACegQICBAE\" href=\"https://bts.fandom.com/wiki/Butter\" onmousedown=\"return rwt(this,'','','','','AOvVaw1fZjwgcpcjA76so7eRwxJo','','2ahUKEwjFnJ21mZ7xAhUaRzABHQ6bAJYQFjACegQICBAE','','',event)\"><br/><h3 class=\"LC20lb DKV0Md\">Butter | BTS Wiki | Fandom</h3><div class=\"TbwUpd NJjxre\"><cite class=\"iUh30 Zu0yb qLRx3b tjvcx\">https://bts.fandom.com<span class=\"dyjrff qzEoUe\"> › wiki › Butter</span></cite></div></a>, <a href=\"https://en.wikipedia.org/wiki/Fandom_(website)\">Wikipedia</a>, <a href=\"https://bts.fandom.com/wiki/Butter\" target=\"_blank\">https://bts.fandom.com/wiki/Butter</a>, <a class=\"O0oZCe\" data-ved=\"2ahUKEwjFnJ21mZ7xAhUaRzABHQ6bAJYQ0r4HMAJ6BAgIEAs\" jsname=\"oyt78e\" role=\"link\" tabindex=\"0\">Send feedback on this info</a>, <a href=\"https://myactivity.google.com/privacyadvisor/search\" tabindex=\"0\" target=\"_blank\"><div class=\"gziGLd WGYX8\" id=\"qCA1yf\"><span class=\"cQkxXe\"><span class=\"mdUiPd S003Ke mtnwac z1asCe E9hVAb\" style=\"height:14px;line-height:14px;width:14px\"><svg focusable=\"false\" viewbox=\"0 0 24 24\" xmlns=\"http://www.w3.org/2000/svg\"><path d=\"M19.43 12.98c.04-.32.07-.64.07-.98s-.03-.66-.07-.98l2.11-1.65c.19-.15.24-.42.12-.64l-2-3.46c-.12-.22-.39-.3-.61-.22l-2.49 1c-.52-.4-1.08-.73-1.69-.98l-.38-2.65C14.46 2.18 14.25 2 14 2h-4c-.25 0-.46.18-.49.42l-.38 2.65c-.61.25-1.17.59-1.69.98l-2.49-1c-.23-.09-.49 0-.61.22l-2 3.46c-.13.22-.07.49.12.64l2.11 1.65c-.04.32-.07.65-.07.98s.03.66.07.98l-2.11 1.65c-.19.15-.24.42-.12.64l2 3.46c.12.22.39.3.61.22l2.49-1c.52.4 1.08.73 1.69.98l.38 2.65c.03.24.24.42.49.42h4c.25 0 .46-.18.49-.42l.38-2.65c.61-.25 1.17-.59 1.69-.98l2.49 1c.23.09.49 0 .61-.22l2-3.46c.12-.22.07-.49-.12-.64l-2.11-1.65zM12 15.5c-1.93 0-3.5-1.57-3.5-3.5s1.57-3.5 3.5-3.5 3.5 1.57 3.5 3.5-1.57 3.5-3.5 3.5z\"></path></svg></span> <span>Privacy settings</span></span></div></a>, <a href=\"https://www.google.com/search/howsearchworks/\" tabindex=\"0\" target=\"_blank\"><div class=\"gziGLd WGYX8\" id=\"fGmxxe\"><span class=\"cQkxXe\"><span class=\"mdUiPd S003Ke mtnwac z1asCe MZy1Rb\" style=\"height:14px;line-height:14px;width:14px\"><svg focusable=\"false\" viewbox=\"0 0 24 24\" xmlns=\"http://www.w3.org/2000/svg\"><path d=\"M15.5 14h-.79l-.28-.27A6.471 6.471 0 0 0 16 9.5 6.5 6.5 0 1 0 9.5 16c1.61 0 3.09-.59 4.23-1.57l.27.28v.79l5 4.99L20.49 19l-4.99-5zm-6 0C7.01 14 5 11.99 5 9.5S7.01 5 9.5 5 14 7.01 14 9.5 11.99 14 9.5 14z\"></path></svg></span><span>How Search works</span></span></div></a>, <a href=\"https://webcache.googleusercontent.com/search?q=cache:g-gkf6T2aWcJ:https://bts.fandom.com/wiki/Butter+&amp;cd=3&amp;hl=en&amp;ct=clnk&amp;gl=us\" onmousedown=\"return rwt(this,'','','','','AOvVaw1rZ4JJq5VYA-gn0F-iWjIa','','2ahUKEwjFnJ21mZ7xAhUaRzABHQ6bAJYQIDACegQICBAP','','',event)\"><span>Cached</span></a>, <a href=\"https://bts.fandom.com/wiki/Butter#Tracklist\" onmousedown=\"return rwt(this,'','','','','AOvVaw1fZjwgcpcjA76so7eRwxJo','','2ahUKEwjFnJ21mZ7xAhUaRzABHQ6bAJYQ0gIoAHoECBMQAQ','','',event)\">Tracklist</a>, <a href=\"https://bts.fandom.com/wiki/Butter#Lyrics\" onmousedown=\"return rwt(this,'','','','','AOvVaw1fZjwgcpcjA76so7eRwxJo','','2ahUKEwjFnJ21mZ7xAhUaRzABHQ6bAJYQ0gIoAXoECBMQAg','','',event)\">Lyrics</a>, <a href=\"https://bts.fandom.com/wiki/Butter#Awards_and_Nominations\" onmousedown=\"return rwt(this,'','','','','AOvVaw1fZjwgcpcjA76so7eRwxJo','','2ahUKEwjFnJ21mZ7xAhUaRzABHQ6bAJYQ0gIoAnoECBMQAw','','',event)\">Awards and Nominations</a>, <a data-ved=\"2ahUKEwjFnJ21mZ7xAhUaRzABHQ6bAJYQFjADegQIKxAE\" href=\"https://bts.fandom.com/wiki/Butter_(Single_album)\" onmousedown=\"return rwt(this,'','','','','AOvVaw38yOx_I02IZ2oFMUo_Pe-2','','2ahUKEwjFnJ21mZ7xAhUaRzABHQ6bAJYQFjADegQIKxAE','','',event)\"><br/><h3 class=\"LC20lb DKV0Md\">Butter | BTS Wiki | Fandom</h3><div class=\"TbwUpd NJjxre\"><cite class=\"iUh30 Zu0yb qLRx3b tjvcx\">https://bts.fandom.com<span class=\"dyjrff qzEoUe\"> › wiki › Butter_(Single_album)</span></cite></div></a>, <a href=\"https://en.wikipedia.org/wiki/Fandom_(website)\">Wikipedia</a>, <a href=\"https://bts.fandom.com/wiki/Butter_(Single_album)\" target=\"_blank\">https://bts.fandom.com/wiki/Butter_(Single_album)</a>, <a class=\"O0oZCe\" data-ved=\"2ahUKEwjFnJ21mZ7xAhUaRzABHQ6bAJYQ0r4HMAN6BAgrEAs\" jsname=\"oyt78e\" role=\"link\" tabindex=\"0\">Send feedback on this info</a>, <a href=\"https://myactivity.google.com/privacyadvisor/search\" tabindex=\"0\" target=\"_blank\"><div class=\"gziGLd WGYX8\" id=\"qCA1yf\"><span class=\"cQkxXe\"><span class=\"mdUiPd S003Ke mtnwac z1asCe E9hVAb\" style=\"height:14px;line-height:14px;width:14px\"><svg focusable=\"false\" viewbox=\"0 0 24 24\" xmlns=\"http://www.w3.org/2000/svg\"><path d=\"M19.43 12.98c.04-.32.07-.64.07-.98s-.03-.66-.07-.98l2.11-1.65c.19-.15.24-.42.12-.64l-2-3.46c-.12-.22-.39-.3-.61-.22l-2.49 1c-.52-.4-1.08-.73-1.69-.98l-.38-2.65C14.46 2.18 14.25 2 14 2h-4c-.25 0-.46.18-.49.42l-.38 2.65c-.61.25-1.17.59-1.69.98l-2.49-1c-.23-.09-.49 0-.61.22l-2 3.46c-.13.22-.07.49.12.64l2.11 1.65c-.04.32-.07.65-.07.98s.03.66.07.98l-2.11 1.65c-.19.15-.24.42-.12.64l2 3.46c.12.22.39.3.61.22l2.49-1c.52.4 1.08.73 1.69.98l.38 2.65c.03.24.24.42.49.42h4c.25 0 .46-.18.49-.42l.38-2.65c.61-.25 1.17-.59 1.69-.98l2.49 1c.23.09.49 0 .61-.22l2-3.46c.12-.22.07-.49-.12-.64l-2.11-1.65zM12 15.5c-1.93 0-3.5-1.57-3.5-3.5s1.57-3.5 3.5-3.5 3.5 1.57 3.5 3.5-1.57 3.5-3.5 3.5z\"></path></svg></span> <span>Privacy settings</span></span></div></a>, <a href=\"https://www.google.com/search/howsearchworks/\" tabindex=\"0\" target=\"_blank\"><div class=\"gziGLd WGYX8\" id=\"fGmxxe\"><span class=\"cQkxXe\"><span class=\"mdUiPd S003Ke mtnwac z1asCe MZy1Rb\" style=\"height:14px;line-height:14px;width:14px\"><svg focusable=\"false\" viewbox=\"0 0 24 24\" xmlns=\"http://www.w3.org/2000/svg\"><path d=\"M15.5 14h-.79l-.28-.27A6.471 6.471 0 0 0 16 9.5 6.5 6.5 0 1 0 9.5 16c1.61 0 3.09-.59 4.23-1.57l.27.28v.79l5 4.99L20.49 19l-4.99-5zm-6 0C7.01 14 5 11.99 5 9.5S7.01 5 9.5 5 14 7.01 14 9.5 11.99 14 9.5 14z\"></path></svg></span><span>How Search works</span></span></div></a>, <a href=\"https://webcache.googleusercontent.com/search?q=cache:uYmY7sYQ2dIJ:https://bts.fandom.com/wiki/Butter_(Single_album)+&amp;cd=4&amp;hl=en&amp;ct=clnk&amp;gl=us\" onmousedown=\"return rwt(this,'','','','','AOvVaw27M6bq9253I7XDNNeKLJ3w','','2ahUKEwjFnJ21mZ7xAhUaRzABHQ6bAJYQIDADegQIKxAP','','',event)\"><span>Cached</span></a>, <a class=\"O0oZCe\" data-ved=\"2ahUKEwjFnJ21mZ7xAhUaRzABHQ6bAJYQ0r4HegQIFhAE\" jsname=\"oyt78e\" role=\"link\" tabindex=\"0\">Send feedback on this info</a>, <a href=\"https://myactivity.google.com/privacyadvisor/search\" tabindex=\"0\" target=\"_blank\"><div class=\"gziGLd WGYX8\" id=\"qCA1yf\"><span class=\"cQkxXe\"><span class=\"mdUiPd S003Ke mtnwac z1asCe E9hVAb\" style=\"height:14px;line-height:14px;width:14px\"><svg focusable=\"false\" viewbox=\"0 0 24 24\" xmlns=\"http://www.w3.org/2000/svg\"><path d=\"M19.43 12.98c.04-.32.07-.64.07-.98s-.03-.66-.07-.98l2.11-1.65c.19-.15.24-.42.12-.64l-2-3.46c-.12-.22-.39-.3-.61-.22l-2.49 1c-.52-.4-1.08-.73-1.69-.98l-.38-2.65C14.46 2.18 14.25 2 14 2h-4c-.25 0-.46.18-.49.42l-.38 2.65c-.61.25-1.17.59-1.69.98l-2.49-1c-.23-.09-.49 0-.61.22l-2 3.46c-.13.22-.07.49.12.64l2.11 1.65c-.04.32-.07.65-.07.98s.03.66.07.98l-2.11 1.65c-.19.15-.24.42-.12.64l2 3.46c.12.22.39.3.61.22l2.49-1c.52.4 1.08.73 1.69.98l.38 2.65c.03.24.24.42.49.42h4c.25 0 .46-.18.49-.42l.38-2.65c.61-.25 1.17-.59 1.69-.98l2.49 1c.23.09.49 0 .61-.22l2-3.46c.12-.22.07-.49-.12-.64l-2.11-1.65zM12 15.5c-1.93 0-3.5-1.57-3.5-3.5s1.57-3.5 3.5-3.5 3.5 1.57 3.5 3.5-1.57 3.5-3.5 3.5z\"></path></svg></span> <span>Privacy settings</span></span></div></a>, <a href=\"https://www.google.com/search/howsearchworks/\" tabindex=\"0\" target=\"_blank\"><div class=\"gziGLd WGYX8\" id=\"fGmxxe\"><span class=\"cQkxXe\"><span class=\"mdUiPd S003Ke mtnwac z1asCe MZy1Rb\" style=\"height:14px;line-height:14px;width:14px\"><svg focusable=\"false\" viewbox=\"0 0 24 24\" xmlns=\"http://www.w3.org/2000/svg\"><path d=\"M15.5 14h-.79l-.28-.27A6.471 6.471 0 0 0 16 9.5 6.5 6.5 0 1 0 9.5 16c1.61 0 3.09-.59 4.23-1.57l.27.28v.79l5 4.99L20.49 19l-4.99-5zm-6 0C7.01 14 5 11.99 5 9.5S7.01 5 9.5 5 14 7.01 14 9.5 11.99 14 9.5 14z\"></path></svg></span><span>How Search works</span></span></div></a>, <a data-ved=\"2ahUKEwjFnJ21mZ7xAhUaRzABHQ6bAJYQvBsoADAEegQIJhAC\" href=\"/search?q=Jenna+Andrews&amp;stick=H4sIAAAAAAAAAONgVuLSz9U3KDQrzDMoWMTK65Wal5eo4JiXUpRaXgwAexzN3B4AAAA&amp;sa=X&amp;ved=2ahUKEwjFnJ21mZ7xAhUaRzABHQ6bAJYQvBsoADAEegQIJhAC\">Jenna Andrews</a>, <a data-ved=\"2ahUKEwjFnJ21mZ7xAhUaRzABHQ6bAJYQvBsoATAEegQIJhAD\" href=\"/search?q=Ron+Perry&amp;stick=H4sIAAAAAAAAAONgVuLSz9U3qDIrKqgwXMTKGZSfpxCQWlRUCQCj_FEWGgAAAA&amp;sa=X&amp;ved=2ahUKEwjFnJ21mZ7xAhUaRzABHQ6bAJYQvBsoATAEegQIJhAD\">Ron Perry</a>, <a href=\"/search?q=Who+wrote+butter+for+BTS%3F&amp;sa=X&amp;ved=2ahUKEwjFnJ21mZ7xAhUaRzABHQ6bAJYQzmd6BAgWEAs\">Who wrote butter for BTS?</a>, <a data-ved=\"2ahUKEwjFnJ21mZ7xAhUaRzABHQ6bAJYQFjAHegQIJBAD\" href=\"https://www.facebook.com/112761173795707/posts/philippines-is-the-most-hated-country-to-korea-right-now/121051109633380/\" onmousedown=\"return rwt(this,'','','','','AOvVaw3AOIZY5PybZTQ2INlB2X93','','2ahUKEwjFnJ21mZ7xAhUaRzABHQ6bAJYQFjAHegQIJBAD','','',event)\"><br/><h3 class=\"LC20lb DKV0Md\">Army BTS - Philippines is the mOst hated country to Korea ...</h3><div class=\"TbwUpd NJjxre\"><cite class=\"iUh30 Zu0yb qLRx3b tjvcx\">https://www.facebook.com<span class=\"dyjrff qzEoUe\"> › posts › philippines-is-the-mo...</span></cite></div></a>, <a href=\"/search?q=What+is+BTS+mOst+hated+country%3F&amp;sa=X&amp;ved=2ahUKEwjFnJ21mZ7xAhUaRzABHQ6bAJYQzmd6BAgWEA8\">What is BTS mOst hated country?</a>, <a data-ved=\"2ahUKEwjFnJ21mZ7xAhUaRzABHQ6bAJYQFjAKegQIKBAD\" href=\"https://en.wikipedia.org/wiki/BTS_singles_discography\" onmousedown=\"return rwt(this,'','','','','AOvVaw1Cl5VjiWsjFxA_RY5BDWlA','','2ahUKEwjFnJ21mZ7xAhUaRzABHQ6bAJYQFjAKegQIKBAD','','',event)\"><br/><h3 class=\"LC20lb DKV0Md\">BTS singles discography - Wikipedia</h3><div class=\"TbwUpd NJjxre\"><cite class=\"iUh30 Zu0yb qLRx3b tjvcx\">https://en.wikipedia.org<span class=\"dyjrff qzEoUe\"> › wiki › BTS_singles_discography</span></cite></div></a>, <a href=\"/search?q=What+is+BTS+biggest+hit%3F&amp;sa=X&amp;ved=2ahUKEwjFnJ21mZ7xAhUaRzABHQ6bAJYQzmd6BAgWEBM\">What is BTS biggest hit?</a>, <a data-ved=\"2ahUKEwjFnJ21mZ7xAhUaRzABHQ6bAJYQFjANegQIKRAD\" href=\"https://www.hypable.com/bts-song-album-list-complete-guide/\" onmousedown=\"return rwt(this,'','','','','AOvVaw1tTgDWxVIBTKsPQkSRKHHo','','2ahUKEwjFnJ21mZ7xAhUaRzABHQ6bAJYQFjANegQIKRAD','','',event)\"><br/><h3 class=\"LC20lb DKV0Md\">BTS song, album list: A complete guide to every single tune, in order</h3><div class=\"TbwUpd NJjxre\"><cite class=\"iUh30 Zu0yb qLRx3b tjvcx\">https://www.hypable.com<span class=\"dyjrff qzEoUe\"> › bts-song-album-list-complete-...</span></cite></div></a>, <a href=\"/search?q=What+was+BTS+first+hit+song%3F&amp;sa=X&amp;ved=2ahUKEwjFnJ21mZ7xAhUaRzABHQ6bAJYQzmd6BAgWEBc\">What was BTS first hit song?</a>, <a class=\"oBa0Fe wrSo4\" data-async-trigger=\"duf3-44-4\" data-ved=\"2ahUKEwjFnJ21mZ7xAhUaRzABHQ6bAJYQtw96BAgWEBo\" href=\"#\" jsaction=\"trigger.szjOR\" role=\"button\">Feedback</a>, <a data-ved=\"2ahUKEwjFnJ21mZ7xAhUaRzABHQ6bAJYQFjAOegQIJRAD\" href=\"https://variety.com/2021/music/news/bts-butter-columbia-records-ron-perry-songwriter-producer-1234977890/\" onmousedown=\"return rwt(this,'','','','','AOvVaw1x2HUXTVnRxTvhqjJ0todY','','2ahUKEwjFnJ21mZ7xAhUaRzABHQ6bAJYQFjAOegQIJRAD','','',event)\"><br/><h3 class=\"LC20lb DKV0Md\">BTS' 'Butter' Was Co-Written by Columbia Records Chairman ...</h3><div class=\"TbwUpd NJjxre\"><cite class=\"iUh30 Zu0yb qLRx3b tjvcx\">https://variety.com<span class=\"dyjrff qzEoUe\"> › music › news › bts-butter-columbi...</span></cite></div></a>, <a href=\"https://en.wikipedia.org/wiki/Variety_(magazine)\">Wikipedia</a>, <a href=\"https://variety.com/2021/music/news/bts-butter-columbia-records-ron-perry-songwriter-producer-1234977890/\" target=\"_blank\">https://variety.com/2021/music/news/bts-butter-columbia-records-ron-perry-songwriter-producer-1234977890/</a>, <a class=\"O0oZCe\" data-ved=\"2ahUKEwjFnJ21mZ7xAhUaRzABHQ6bAJYQ0r4HMA56BAglEAo\" jsname=\"oyt78e\" role=\"link\" tabindex=\"0\">Send feedback on this info</a>, <a href=\"https://myactivity.google.com/privacyadvisor/search\" tabindex=\"0\" target=\"_blank\"><div class=\"gziGLd WGYX8\" id=\"qCA1yf\"><span class=\"cQkxXe\"><span class=\"mdUiPd S003Ke mtnwac z1asCe E9hVAb\" style=\"height:14px;line-height:14px;width:14px\"><svg focusable=\"false\" viewbox=\"0 0 24 24\" xmlns=\"http://www.w3.org/2000/svg\"><path d=\"M19.43 12.98c.04-.32.07-.64.07-.98s-.03-.66-.07-.98l2.11-1.65c.19-.15.24-.42.12-.64l-2-3.46c-.12-.22-.39-.3-.61-.22l-2.49 1c-.52-.4-1.08-.73-1.69-.98l-.38-2.65C14.46 2.18 14.25 2 14 2h-4c-.25 0-.46.18-.49.42l-.38 2.65c-.61.25-1.17.59-1.69.98l-2.49-1c-.23-.09-.49 0-.61.22l-2 3.46c-.13.22-.07.49.12.64l2.11 1.65c-.04.32-.07.65-.07.98s.03.66.07.98l-2.11 1.65c-.19.15-.24.42-.12.64l2 3.46c.12.22.39.3.61.22l2.49-1c.52.4 1.08.73 1.69.98l.38 2.65c.03.24.24.42.49.42h4c.25 0 .46-.18.49-.42l.38-2.65c.61-.25 1.17-.59 1.69-.98l2.49 1c.23.09.49 0 .61-.22l2-3.46c.12-.22.07-.49-.12-.64l-2.11-1.65zM12 15.5c-1.93 0-3.5-1.57-3.5-3.5s1.57-3.5 3.5-3.5 3.5 1.57 3.5 3.5-1.57 3.5-3.5 3.5z\"></path></svg></span> <span>Privacy settings</span></span></div></a>, <a href=\"https://www.google.com/search/howsearchworks/\" tabindex=\"0\" target=\"_blank\"><div class=\"gziGLd WGYX8\" id=\"fGmxxe\"><span class=\"cQkxXe\"><span class=\"mdUiPd S003Ke mtnwac z1asCe MZy1Rb\" style=\"height:14px;line-height:14px;width:14px\"><svg focusable=\"false\" viewbox=\"0 0 24 24\" xmlns=\"http://www.w3.org/2000/svg\"><path d=\"M15.5 14h-.79l-.28-.27A6.471 6.471 0 0 0 16 9.5 6.5 6.5 0 1 0 9.5 16c1.61 0 3.09-.59 4.23-1.57l.27.28v.79l5 4.99L20.49 19l-4.99-5zm-6 0C7.01 14 5 11.99 5 9.5S7.01 5 9.5 5 14 7.01 14 9.5 11.99 14 9.5 14z\"></path></svg></span><span>How Search works</span></span></div></a>, <a href=\"https://webcache.googleusercontent.com/search?q=cache:xzqMxsItIngJ:https://variety.com/2021/music/news/bts-butter-columbia-records-ron-perry-songwriter-producer-1234977890/+&amp;cd=15&amp;hl=en&amp;ct=clnk&amp;gl=us\" onmousedown=\"return rwt(this,'','','','','AOvVaw38cW9vvZ3JqcOA7o-JTJJd','','2ahUKEwjFnJ21mZ7xAhUaRzABHQ6bAJYQIDAOegQIJRAO','','',event)\"><span>Cached</span></a>, <a data-ved=\"2ahUKEwjFnJ21mZ7xAhUaRzABHQ6bAJYQFjAPegQIBhAE\" href=\"https://www.bts-butter.com/\" onmousedown=\"return rwt(this,'','','','','AOvVaw1wlcYArAjUX2dNvx8ZGceX','','2ahUKEwjFnJ21mZ7xAhUaRzABHQ6bAJYQFjAPegQIBhAE','','',event)\"><br/><h3 class=\"LC20lb DKV0Md\">BTS Butter</h3><div class=\"TbwUpd NJjxre\"><cite class=\"iUh30 Zu0yb tjvcx\">https://www.bts-butter.com</cite></div></a>, <a href=\"https://www.bts-butter.com/\" target=\"_blank\">https://www.bts-butter.com/</a>, <a class=\"O0oZCe\" data-ved=\"2ahUKEwjFnJ21mZ7xAhUaRzABHQ6bAJYQ0r4HMA96BAgGEAk\" jsname=\"oyt78e\" role=\"link\" tabindex=\"0\">Send feedback on this info</a>, <a href=\"https://myactivity.google.com/privacyadvisor/search\" tabindex=\"0\" target=\"_blank\"><div class=\"gziGLd WGYX8\" id=\"qCA1yf\"><span class=\"cQkxXe\"><span class=\"mdUiPd S003Ke mtnwac z1asCe E9hVAb\" style=\"height:14px;line-height:14px;width:14px\"><svg focusable=\"false\" viewbox=\"0 0 24 24\" xmlns=\"http://www.w3.org/2000/svg\"><path d=\"M19.43 12.98c.04-.32.07-.64.07-.98s-.03-.66-.07-.98l2.11-1.65c.19-.15.24-.42.12-.64l-2-3.46c-.12-.22-.39-.3-.61-.22l-2.49 1c-.52-.4-1.08-.73-1.69-.98l-.38-2.65C14.46 2.18 14.25 2 14 2h-4c-.25 0-.46.18-.49.42l-.38 2.65c-.61.25-1.17.59-1.69.98l-2.49-1c-.23-.09-.49 0-.61.22l-2 3.46c-.13.22-.07.49.12.64l2.11 1.65c-.04.32-.07.65-.07.98s.03.66.07.98l-2.11 1.65c-.19.15-.24.42-.12.64l2 3.46c.12.22.39.3.61.22l2.49-1c.52.4 1.08.73 1.69.98l.38 2.65c.03.24.24.42.49.42h4c.25 0 .46-.18.49-.42l.38-2.65c.61-.25 1.17-.59 1.69-.98l2.49 1c.23.09.49 0 .61-.22l2-3.46c.12-.22.07-.49-.12-.64l-2.11-1.65zM12 15.5c-1.93 0-3.5-1.57-3.5-3.5s1.57-3.5 3.5-3.5 3.5 1.57 3.5 3.5-1.57 3.5-3.5 3.5z\"></path></svg></span> <span>Privacy settings</span></span></div></a>, <a href=\"https://www.google.com/search/howsearchworks/\" tabindex=\"0\" target=\"_blank\"><div class=\"gziGLd WGYX8\" id=\"fGmxxe\"><span class=\"cQkxXe\"><span class=\"mdUiPd S003Ke mtnwac z1asCe MZy1Rb\" style=\"height:14px;line-height:14px;width:14px\"><svg focusable=\"false\" viewbox=\"0 0 24 24\" xmlns=\"http://www.w3.org/2000/svg\"><path d=\"M15.5 14h-.79l-.28-.27A6.471 6.471 0 0 0 16 9.5 6.5 6.5 0 1 0 9.5 16c1.61 0 3.09-.59 4.23-1.57l.27.28v.79l5 4.99L20.49 19l-4.99-5zm-6 0C7.01 14 5 11.99 5 9.5S7.01 5 9.5 5 14 7.01 14 9.5 11.99 14 9.5 14z\"></path></svg></span><span>How Search works</span></span></div></a>, <a data-ved=\"2ahUKEwjFnJ21mZ7xAhUaRzABHQ6bAJYQFjAQegQIHxAE\" href=\"https://bhutanforyou.com/jjagxug/butter-bts-wiki\" onmousedown=\"return rwt(this,'','','','','AOvVaw3Kw_4LblSa2Fp7OmKrvBH5','','2ahUKEwjFnJ21mZ7xAhUaRzABHQ6bAJYQFjAQegQIHxAE','','',event)\"><br/><h3 class=\"LC20lb DKV0Md\">butter bts wiki - BhutanForYou.com</h3><div class=\"TbwUpd NJjxre\"><cite class=\"iUh30 Zu0yb qLRx3b tjvcx\">https://bhutanforyou.com<span class=\"dyjrff qzEoUe\"> › Nature › butter bts wiki</span></cite></div></a>, <a href=\"https://bhutanforyou.com/jjagxug/butter-bts-wiki\" target=\"_blank\">https://bhutanforyou.com/jjagxug/butter-bts-wiki</a>, <a class=\"O0oZCe\" data-ved=\"2ahUKEwjFnJ21mZ7xAhUaRzABHQ6bAJYQ0r4HMBB6BAgfEAs\" jsname=\"oyt78e\" role=\"link\" tabindex=\"0\">Send feedback on this info</a>, <a href=\"https://myactivity.google.com/privacyadvisor/search\" tabindex=\"0\" target=\"_blank\"><div class=\"gziGLd WGYX8\" id=\"qCA1yf\"><span class=\"cQkxXe\"><span class=\"mdUiPd S003Ke mtnwac z1asCe E9hVAb\" style=\"height:14px;line-height:14px;width:14px\"><svg focusable=\"false\" viewbox=\"0 0 24 24\" xmlns=\"http://www.w3.org/2000/svg\"><path d=\"M19.43 12.98c.04-.32.07-.64.07-.98s-.03-.66-.07-.98l2.11-1.65c.19-.15.24-.42.12-.64l-2-3.46c-.12-.22-.39-.3-.61-.22l-2.49 1c-.52-.4-1.08-.73-1.69-.98l-.38-2.65C14.46 2.18 14.25 2 14 2h-4c-.25 0-.46.18-.49.42l-.38 2.65c-.61.25-1.17.59-1.69.98l-2.49-1c-.23-.09-.49 0-.61.22l-2 3.46c-.13.22-.07.49.12.64l2.11 1.65c-.04.32-.07.65-.07.98s.03.66.07.98l-2.11 1.65c-.19.15-.24.42-.12.64l2 3.46c.12.22.39.3.61.22l2.49-1c.52.4 1.08.73 1.69.98l.38 2.65c.03.24.24.42.49.42h4c.25 0 .46-.18.49-.42l.38-2.65c.61-.25 1.17-.59 1.69-.98l2.49 1c.23.09.49 0 .61-.22l2-3.46c.12-.22.07-.49-.12-.64l-2.11-1.65zM12 15.5c-1.93 0-3.5-1.57-3.5-3.5s1.57-3.5 3.5-3.5 3.5 1.57 3.5 3.5-1.57 3.5-3.5 3.5z\"></path></svg></span> <span>Privacy settings</span></span></div></a>, <a href=\"https://www.google.com/search/howsearchworks/\" tabindex=\"0\" target=\"_blank\"><div class=\"gziGLd WGYX8\" id=\"fGmxxe\"><span class=\"cQkxXe\"><span class=\"mdUiPd S003Ke mtnwac z1asCe MZy1Rb\" style=\"height:14px;line-height:14px;width:14px\"><svg focusable=\"false\" viewbox=\"0 0 24 24\" xmlns=\"http://www.w3.org/2000/svg\"><path d=\"M15.5 14h-.79l-.28-.27A6.471 6.471 0 0 0 16 9.5 6.5 6.5 0 1 0 9.5 16c1.61 0 3.09-.59 4.23-1.57l.27.28v.79l5 4.99L20.49 19l-4.99-5zm-6 0C7.01 14 5 11.99 5 9.5S7.01 5 9.5 5 14 7.01 14 9.5 11.99 14 9.5 14z\"></path></svg></span><span>How Search works</span></span></div></a>, <a href=\"https://webcache.googleusercontent.com/search?q=cache:ejlJeVlu15cJ:https://bhutanforyou.com/jjagxug/butter-bts-wiki+&amp;cd=17&amp;hl=en&amp;ct=clnk&amp;gl=us\" onmousedown=\"return rwt(this,'','','','','AOvVaw1Ff9uttf5iBOyg_W8vUrPA','','2ahUKEwjFnJ21mZ7xAhUaRzABHQ6bAJYQIDAQegQIHxAP','','',event)\"><span>Cached</span></a>, <a data-ved=\"2ahUKEwjFnJ21mZ7xAhUaRzABHQ6bAJYQFjARegQIGRAD\" href=\"https://ibighit.com/bts/eng/discography/\" onmousedown=\"return rwt(this,'','','','','AOvVaw0ScIuOz0IIdzEtjcooQkam','','2ahUKEwjFnJ21mZ7xAhUaRzABHQ6bAJYQFjARegQIGRAD','','',event)\"><br/><h3 class=\"LC20lb DKV0Md\">DISCOGRAPHY | BTS | Big Hit Entertainment</h3><div class=\"TbwUpd NJjxre\"><cite class=\"iUh30 Zu0yb qLRx3b tjvcx\">https://ibighit.com<span class=\"dyjrff qzEoUe\"> › bts › eng › discography</span></cite></div></a>, <a href=\"https://en.wikipedia.org/wiki/Big_Hit_Music\">Wikipedia</a>, <a href=\"https://ibighit.com/bts/eng/discography/\" target=\"_blank\">https://ibighit.com/bts/eng/discography/</a>, <a class=\"O0oZCe\" data-ved=\"2ahUKEwjFnJ21mZ7xAhUaRzABHQ6bAJYQ0r4HMBF6BAgZEAo\" jsname=\"oyt78e\" role=\"link\" tabindex=\"0\">Send feedback on this info</a>, <a href=\"https://myactivity.google.com/privacyadvisor/search\" tabindex=\"0\" target=\"_blank\"><div class=\"gziGLd WGYX8\" id=\"qCA1yf\"><span class=\"cQkxXe\"><span class=\"mdUiPd S003Ke mtnwac z1asCe E9hVAb\" style=\"height:14px;line-height:14px;width:14px\"><svg focusable=\"false\" viewbox=\"0 0 24 24\" xmlns=\"http://www.w3.org/2000/svg\"><path d=\"M19.43 12.98c.04-.32.07-.64.07-.98s-.03-.66-.07-.98l2.11-1.65c.19-.15.24-.42.12-.64l-2-3.46c-.12-.22-.39-.3-.61-.22l-2.49 1c-.52-.4-1.08-.73-1.69-.98l-.38-2.65C14.46 2.18 14.25 2 14 2h-4c-.25 0-.46.18-.49.42l-.38 2.65c-.61.25-1.17.59-1.69.98l-2.49-1c-.23-.09-.49 0-.61.22l-2 3.46c-.13.22-.07.49.12.64l2.11 1.65c-.04.32-.07.65-.07.98s.03.66.07.98l-2.11 1.65c-.19.15-.24.42-.12.64l2 3.46c.12.22.39.3.61.22l2.49-1c.52.4 1.08.73 1.69.98l.38 2.65c.03.24.24.42.49.42h4c.25 0 .46-.18.49-.42l.38-2.65c.61-.25 1.17-.59 1.69-.98l2.49 1c.23.09.49 0 .61-.22l2-3.46c.12-.22.07-.49-.12-.64l-2.11-1.65zM12 15.5c-1.93 0-3.5-1.57-3.5-3.5s1.57-3.5 3.5-3.5 3.5 1.57 3.5 3.5-1.57 3.5-3.5 3.5z\"></path></svg></span> <span>Privacy settings</span></span></div></a>, <a href=\"https://www.google.com/search/howsearchworks/\" tabindex=\"0\" target=\"_blank\"><div class=\"gziGLd WGYX8\" id=\"fGmxxe\"><span class=\"cQkxXe\"><span class=\"mdUiPd S003Ke mtnwac z1asCe MZy1Rb\" style=\"height:14px;line-height:14px;width:14px\"><svg focusable=\"false\" viewbox=\"0 0 24 24\" xmlns=\"http://www.w3.org/2000/svg\"><path d=\"M15.5 14h-.79l-.28-.27A6.471 6.471 0 0 0 16 9.5 6.5 6.5 0 1 0 9.5 16c1.61 0 3.09-.59 4.23-1.57l.27.28v.79l5 4.99L20.49 19l-4.99-5zm-6 0C7.01 14 5 11.99 5 9.5S7.01 5 9.5 5 14 7.01 14 9.5 11.99 14 9.5 14z\"></path></svg></span><span>How Search works</span></span></div></a>, <a href=\"https://webcache.googleusercontent.com/search?q=cache:1GRR4ZTASi8J:https://ibighit.com/bts/eng/discography/+&amp;cd=18&amp;hl=en&amp;ct=clnk&amp;gl=us\" onmousedown=\"return rwt(this,'','','','','AOvVaw3KevHcGZHj92om5mNxzmpH','','2ahUKEwjFnJ21mZ7xAhUaRzABHQ6bAJYQIDARegQIGRAO','','',event)\"><span>Cached</span></a>, <a class=\"FHH8Re\" href=\"https://ibighit.com/bts/eng/discography/\" onmousedown=\"return rwt(this,'','','','','AOvVaw0ScIuOz0IIdzEtjcooQkam','','2ahUKEwjFnJ21mZ7xAhUaRzABHQ6bAJYQ2vEDMBF6BAgZEBA','','',event)\">View full list</a>, <a data-ved=\"2ahUKEwjFnJ21mZ7xAhUaRzABHQ6bAJYQFjASegQIIhAE\" href=\"https://edsigorta.com/o4ige/bts-butter-producer\" onmousedown=\"return rwt(this,'','','','','AOvVaw2dtfusEdplfJVRe4_O1mWO','','2ahUKEwjFnJ21mZ7xAhUaRzABHQ6bAJYQFjASegQIIhAE','','',event)\"><br/><h3 class=\"LC20lb DKV0Md\">bts butter producer - ED Sigorta</h3><div class=\"TbwUpd NJjxre\"><cite class=\"iUh30 Zu0yb qLRx3b tjvcx\">https://edsigorta.com<span class=\"dyjrff qzEoUe\"> › bts-butter-producer</span></cite></div></a>, <a href=\"https://edsigorta.com/o4ige/bts-butter-producer\" target=\"_blank\">https://edsigorta.com/o4ige/bts-butter-producer</a>, <a class=\"O0oZCe\" data-ved=\"2ahUKEwjFnJ21mZ7xAhUaRzABHQ6bAJYQ0r4HMBJ6BAgiEAs\" jsname=\"oyt78e\" role=\"link\" tabindex=\"0\">Send feedback on this info</a>, <a href=\"https://myactivity.google.com/privacyadvisor/search\" tabindex=\"0\" target=\"_blank\"><div class=\"gziGLd WGYX8\" id=\"qCA1yf\"><span class=\"cQkxXe\"><span class=\"mdUiPd S003Ke mtnwac z1asCe E9hVAb\" style=\"height:14px;line-height:14px;width:14px\"><svg focusable=\"false\" viewbox=\"0 0 24 24\" xmlns=\"http://www.w3.org/2000/svg\"><path d=\"M19.43 12.98c.04-.32.07-.64.07-.98s-.03-.66-.07-.98l2.11-1.65c.19-.15.24-.42.12-.64l-2-3.46c-.12-.22-.39-.3-.61-.22l-2.49 1c-.52-.4-1.08-.73-1.69-.98l-.38-2.65C14.46 2.18 14.25 2 14 2h-4c-.25 0-.46.18-.49.42l-.38 2.65c-.61.25-1.17.59-1.69.98l-2.49-1c-.23-.09-.49 0-.61.22l-2 3.46c-.13.22-.07.49.12.64l2.11 1.65c-.04.32-.07.65-.07.98s.03.66.07.98l-2.11 1.65c-.19.15-.24.42-.12.64l2 3.46c.12.22.39.3.61.22l2.49-1c.52.4 1.08.73 1.69.98l.38 2.65c.03.24.24.42.49.42h4c.25 0 .46-.18.49-.42l.38-2.65c.61-.25 1.17-.59 1.69-.98l2.49 1c.23.09.49 0 .61-.22l2-3.46c.12-.22.07-.49-.12-.64l-2.11-1.65zM12 15.5c-1.93 0-3.5-1.57-3.5-3.5s1.57-3.5 3.5-3.5 3.5 1.57 3.5 3.5-1.57 3.5-3.5 3.5z\"></path></svg></span> <span>Privacy settings</span></span></div></a>, <a href=\"https://www.google.com/search/howsearchworks/\" tabindex=\"0\" target=\"_blank\"><div class=\"gziGLd WGYX8\" id=\"fGmxxe\"><span class=\"cQkxXe\"><span class=\"mdUiPd S003Ke mtnwac z1asCe MZy1Rb\" style=\"height:14px;line-height:14px;width:14px\"><svg focusable=\"false\" viewbox=\"0 0 24 24\" xmlns=\"http://www.w3.org/2000/svg\"><path d=\"M15.5 14h-.79l-.28-.27A6.471 6.471 0 0 0 16 9.5 6.5 6.5 0 1 0 9.5 16c1.61 0 3.09-.59 4.23-1.57l.27.28v.79l5 4.99L20.49 19l-4.99-5zm-6 0C7.01 14 5 11.99 5 9.5S7.01 5 9.5 5 14 7.01 14 9.5 11.99 14 9.5 14z\"></path></svg></span><span>How Search works</span></span></div></a>, <a href=\"https://webcache.googleusercontent.com/search?q=cache:skrU9Swsb5AJ:https://edsigorta.com/o4ige/bts-butter-producer+&amp;cd=19&amp;hl=en&amp;ct=clnk&amp;gl=us\" onmousedown=\"return rwt(this,'','','','','AOvVaw0wzt4LuxcWsFdYXmxSOtoZ','','2ahUKEwjFnJ21mZ7xAhUaRzABHQ6bAJYQIDASegQIIhAP','','',event)\"><span>Cached</span></a>, <a data-ved=\"2ahUKEwjFnJ21mZ7xAhUaRzABHQ6bAJYQFjATegQIHRAE\" href=\"https://roerinternational.com/pkwzk/bts-song-with-most-english-lyrics\" onmousedown=\"return rwt(this,'','','','','AOvVaw2kUF96z_yn47f9Zi6Fql_t','','2ahUKEwjFnJ21mZ7xAhUaRzABHQ6bAJYQFjATegQIHRAE','','',event)\"><br/><h3 class=\"LC20lb DKV0Md\">bts song with most english lyrics - Roer International</h3><div class=\"TbwUpd NJjxre\"><cite class=\"iUh30 Zu0yb qLRx3b tjvcx\">https://roerinternational.com<span class=\"dyjrff qzEoUe\"> › pkwzk › bts-song-with-...</span></cite></div></a>, <a href=\"https://roerinternational.com/pkwzk/bts-song-with-most-english-lyrics\" target=\"_blank\">https://roerinternational.com/pkwzk/bts-song-with-most-english-lyrics</a>, <a class=\"O0oZCe\" data-ved=\"2ahUKEwjFnJ21mZ7xAhUaRzABHQ6bAJYQ0r4HMBN6BAgdEAs\" jsname=\"oyt78e\" role=\"link\" tabindex=\"0\">Send feedback on this info</a>, <a href=\"https://myactivity.google.com/privacyadvisor/search\" tabindex=\"0\" target=\"_blank\"><div class=\"gziGLd WGYX8\" id=\"qCA1yf\"><span class=\"cQkxXe\"><span class=\"mdUiPd S003Ke mtnwac z1asCe E9hVAb\" style=\"height:14px;line-height:14px;width:14px\"><svg focusable=\"false\" viewbox=\"0 0 24 24\" xmlns=\"http://www.w3.org/2000/svg\"><path d=\"M19.43 12.98c.04-.32.07-.64.07-.98s-.03-.66-.07-.98l2.11-1.65c.19-.15.24-.42.12-.64l-2-3.46c-.12-.22-.39-.3-.61-.22l-2.49 1c-.52-.4-1.08-.73-1.69-.98l-.38-2.65C14.46 2.18 14.25 2 14 2h-4c-.25 0-.46.18-.49.42l-.38 2.65c-.61.25-1.17.59-1.69.98l-2.49-1c-.23-.09-.49 0-.61.22l-2 3.46c-.13.22-.07.49.12.64l2.11 1.65c-.04.32-.07.65-.07.98s.03.66.07.98l-2.11 1.65c-.19.15-.24.42-.12.64l2 3.46c.12.22.39.3.61.22l2.49-1c.52.4 1.08.73 1.69.98l.38 2.65c.03.24.24.42.49.42h4c.25 0 .46-.18.49-.42l.38-2.65c.61-.25 1.17-.59 1.69-.98l2.49 1c.23.09.49 0 .61-.22l2-3.46c.12-.22.07-.49-.12-.64l-2.11-1.65zM12 15.5c-1.93 0-3.5-1.57-3.5-3.5s1.57-3.5 3.5-3.5 3.5 1.57 3.5 3.5-1.57 3.5-3.5 3.5z\"></path></svg></span> <span>Privacy settings</span></span></div></a>, <a href=\"https://www.google.com/search/howsearchworks/\" tabindex=\"0\" target=\"_blank\"><div class=\"gziGLd WGYX8\" id=\"fGmxxe\"><span class=\"cQkxXe\"><span class=\"mdUiPd S003Ke mtnwac z1asCe MZy1Rb\" style=\"height:14px;line-height:14px;width:14px\"><svg focusable=\"false\" viewbox=\"0 0 24 24\" xmlns=\"http://www.w3.org/2000/svg\"><path d=\"M15.5 14h-.79l-.28-.27A6.471 6.471 0 0 0 16 9.5 6.5 6.5 0 1 0 9.5 16c1.61 0 3.09-.59 4.23-1.57l.27.28v.79l5 4.99L20.49 19l-4.99-5zm-6 0C7.01 14 5 11.99 5 9.5S7.01 5 9.5 5 14 7.01 14 9.5 11.99 14 9.5 14z\"></path></svg></span><span>How Search works</span></span></div></a>, <a href=\"https://webcache.googleusercontent.com/search?q=cache:_hw5l_e35qoJ:https://roerinternational.com/pkwzk/bts-song-with-most-english-lyrics+&amp;cd=20&amp;hl=en&amp;ct=clnk&amp;gl=us\" onmousedown=\"return rwt(this,'','','','','AOvVaw2GfOSrZPGcLC2udCQKkDfM','','2ahUKEwjFnJ21mZ7xAhUaRzABHQ6bAJYQIDATegQIHRAP','','',event)\"><span>Cached</span></a>, <a class=\"EbH0bb\" href=\"/search?q=Butter+BTS+wiki&amp;stick=H4sIAAAAAAAAAOOQMeJKKilWSMxJKs0tjuJ3Ki0pSS1ScAoJVijPzM48xcirn65vaJhlmFVUYZqWC-OnmWbkJBvnVcD4yYYlScYlRQZw9ck55iUGFkUwfkZyRrxxeTlQPbd-rr6BoWFBclZxySlGLhCvMtmgLNkEJmWUnJydhjDY1DgrqcQ06xcjF8hNEGcuYkV35y02SQatqVVcZvGhT4QlTuTeNyo79d7o-7eQmL6nAAV0uz_jAAAA&amp;sa=X&amp;ved=2ahUKEwjFnJ21mZ7xAhUaRzABHQ6bAJYQzTooADAUegQIChAB\"><span class=\"rhsg3\">View 2+ more</span></a>, <a data-ved=\"2ahUKEwjFnJ21mZ7xAhUaRzABHQ6bAJYQxA0wFHoECAoQBA\" href=\"/search?q=BTS+Map+of+the+Soul:+7&amp;stick=H4sIAAAAAAAAAOOQUeLVT9c3NMwyzCqqME3LNeJKKilWSCxPLEopjuJ3Ki0pSS1ScAoJVijPzM48xciln6tvUG5UaWJkfooRojPJPDm7wKAqGSFpVFyF4BhnVJxi5ARxjNLMDSuhEubxpobZyQgJ80qYcWkZVYZJlRUGvxi5QNY6gl2yiFUMxPFNLFDIT1MoyUhVCM4vzbFSML_FJsmgNbWKK_yXztyG-Cnxj01DJK0355e_NX2qCABsLm9p3AAAAA&amp;sa=X&amp;ved=2ahUKEwjFnJ21mZ7xAhUaRzABHQ6bAJYQxA0wFHoECAoQBA\" title=\"Map of the Soul: 7\"><div class=\"XQ6p1d\"><g-img class=\"BA0A6c\" style=\"position:relative\"><img alt=\"Map of the Soul: 7\" class=\"rISBZc M4dUYb\" data-atf=\"4\" height=\"82\" id=\"dimg_42\" src=\"https://encrypted-tbn0.gstatic.com/images?q=tbn:ANd9GcQTkWCy7RgsHRcSeH4laxE93wyDlikmsd13gXZQ&amp;s=0\" style=\"border-radius:8px 8px 8px 8px\" width=\"82\"/><div class=\"fWhgmd\" style=\"border-radius:8px 8px 8px 8px\"></div></g-img></div><div class=\"fl ellip oBrLN S1gFKb rOVRL\" data-original-name=\"Map of the Soul: 7\">Map of the Soul: 7</div></a>, <a data-ved=\"2ahUKEwjFnJ21mZ7xAhUaRzABHQ6bAJYQxA0wFHoECAoQBg\" href=\"/search?q=BTS+Love+Yourself:+Tear&amp;stick=H4sIAAAAAAAAAOOQUeLVT9c3NEwzzchJNs6rMOJKKilWSCxPLEopjuJ3Ki0pSS1ScAoJVijPzM48xciln6tvUG5UaWJkfooRojPJPDm7wKAqGSFpVFyF4BhnVJxi5ARxjNLMDSuhEubxpobZyQgJ80qYcWkZVYZJlRUGvxi5QNY6gl2yiFUcxPHJL0tViMwvLSpOzUmzUghJTSy6xSbJoDW1iiv8l87chvgp8Y9NQyStN-eXvzV9qggA636sVd0AAAA&amp;sa=X&amp;ved=2ahUKEwjFnJ21mZ7xAhUaRzABHQ6bAJYQxA0wFHoECAoQBg\" title=\"Love Yourself: Tear\"><div class=\"XQ6p1d\"><g-img class=\"BA0A6c\" style=\"position:relative\"><img alt=\"Love Yourself: Tear\" class=\"rISBZc M4dUYb\" data-atf=\"4\" height=\"82\" id=\"dimg_49\" src=\"https://encrypted-tbn0.gstatic.com/images?q=tbn:ANd9GcTS6kHdjTysk9sBroypRdLmuZWB_B9jGnq7fF4l&amp;s=0\" style=\"border-radius:8px 8px 8px 8px\" width=\"82\"/><div class=\"fWhgmd\" style=\"border-radius:8px 8px 8px 8px\"></div></g-img></div><div class=\"fl ellip oBrLN S1gFKb rOVRL\" data-original-name=\"Love Yourself: Tear\">Love Yourself: Tear</div></a>, <a data-ved=\"2ahUKEwjFnJ21mZ7xAhUaRzABHQ6bAJYQxA0wFHoECAoQCA\" href=\"/search?q=BTS+Wings&amp;stick=H4sIAAAAAAAAAOOQUeLVT9c3NEw2LEkyLikyMOJKKilWSCxPLEopjuJ3Ki0pSS1ScAoJVijPzM48xciln6tvUG5UaWJkfooRojPJPDm7wKAqGSFpVFyF4BhnVJxi5ARxjNLMDSuhEubxpobZyQgJ80qYcWkZVYZJlRUGvxi5QNY6gl2yiJUTxAnPzEsvvsUmyaA1tYor_JfO3Ib4KfGPTUMkrTfnl781faoIAD42i57PAAAA&amp;sa=X&amp;ved=2ahUKEwjFnJ21mZ7xAhUaRzABHQ6bAJYQxA0wFHoECAoQCA\" title=\"Wings\"><div class=\"XQ6p1d\"><g-img class=\"BA0A6c\" style=\"position:relative\"><img alt=\"Wings\" class=\"rISBZc M4dUYb\" data-atf=\"4\" height=\"82\" id=\"dimg_53\" src=\"https://encrypted-tbn0.gstatic.com/images?q=tbn:ANd9GcQ2qm1WmGd4K9VVfmmyHrwTSA_XcBG089DidLJ9&amp;s=0\" style=\"border-radius:8px 8px 8px 8px\" width=\"82\"/><div class=\"fWhgmd\" style=\"border-radius:8px 8px 8px 8px\"></div></g-img></div><div class=\"fl ellip oBrLN S1gFKb rOVRL\" data-original-name=\"Wings\">Wings</div></a>, <a data-ved=\"2ahUKEwjFnJ21mZ7xAhUaRzABHQ6bAJYQxA0wFHoECAoQCg\" href=\"/search?q=BTS+Map+of+the+Soul:+7+~+The+Journey+~&amp;stick=H4sIAAAAAAAAAOOQUeLVT9c3NMxKzjEvMbAoMuJKKilWSCxPLEopjuJ3Ki0pSS1ScAoJVijPzM48xciln6tvUG5UaWJkfooRojPJPDm7wKAqGSFpVFyF4BhnVJxi5ARxjNLMDSuhEubxpobZyQgJ80qYcWkZVYZJlRUGvxi5QNY6gl2yiFUNxPFNLFDIT1MoyUhVCM4vzbFSMFeoUwgB8rzyS4vyUisV6m6xSTJoTa3iCv-lM7chfkr8Y9MQSevN-eVvTZ8qAgDrxfV27AAAAA&amp;sa=X&amp;ved=2ahUKEwjFnJ21mZ7xAhUaRzABHQ6bAJYQxA0wFHoECAoQCg\" title=\"Map of the Soul: 7 ~ The Journey ~\"><div class=\"XQ6p1d\"><g-img class=\"BA0A6c\" style=\"position:relative\"><img alt=\"Map of the Soul: 7 ~ The Journey ~\" class=\"rISBZc M4dUYb\" data-atf=\"4\" height=\"82\" id=\"dimg_58\" src=\"https://encrypted-tbn0.gstatic.com/images?q=tbn:ANd9GcRQZiwCQVeiqbqN3Vc22kQRK8ObfbL3C-gGmFf7&amp;s=0\" style=\"border-radius:8px 8px 8px 8px\" width=\"82\"/><div class=\"fWhgmd\" style=\"border-radius:8px 8px 8px 8px\"></div></g-img></div><div class=\"fl ellip oBrLN S1gFKb rOVRL\" data-original-name=\"Map of the Soul: 7 ~ The Jour...\">Map of the Soul: 7 ~ The Jour...</div></a>, <a data-ved=\"2ahUKEwjFnJ21mZ7xAhUaRzABHQ6bAJYQxA0wFHoECAoQDA\" href=\"/search?q=BTS+Face+Yourself&amp;stick=H4sIAAAAAAAAAOOQUeLVT9c3NMxIzog3Li-vMOJKKilWSCxPLEopjuJ3Ki0pSS1ScAoJVijPzM48xciln6tvUG5UaWJkfooRojPJPDm7wKAqGSFpVFyF4BhnVJxi5ARxjNLMDSuhEubxpobZyQgJ80qYcWkZVYZJlRUGvxi5QNY6gl2yiFUQxHFLTE5ViMwvLSpOzUm7xSbJoDW1iiv8l87chvgp8Y9NQyStN-eXvzV9qggAg9tgKtcAAAA&amp;sa=X&amp;ved=2ahUKEwjFnJ21mZ7xAhUaRzABHQ6bAJYQxA0wFHoECAoQDA\" title=\"Face Yourself\"><div class=\"XQ6p1d\"><g-img class=\"BA0A6c\" style=\"position:relative\"><img alt=\"Face Yourself\" class=\"rISBZc M4dUYb\" data-atf=\"4\" height=\"82\" id=\"dimg_67\" src=\"https://encrypted-tbn0.gstatic.com/images?q=tbn:ANd9GcRn3oiBjwnFmVt-ZdpTQNwbfgx6bsGuj9kr9MsY&amp;s=0\" style=\"border-radius:8px 8px 8px 8px\" width=\"82\"/><div class=\"fWhgmd\" style=\"border-radius:8px 8px 8px 8px\"></div></g-img></div><div class=\"fl ellip oBrLN S1gFKb rOVRL\" data-original-name=\"Face Yourself\">Face Yourself</div></a>, <a data-ved=\"2ahUKEwjFnJ21mZ7xAhUaRzABHQ6bAJYQxA0wFHoECAoQDg\" href=\"/search?q=BTS+Dark+and+Wild&amp;stick=H4sIAAAAAAAAAOOQUeLWz9U3MDQsSM4qLjHiSiopVkgsTyxKKY7idyotKUktUnAKCVYoz8zOPMXIBVJablRpYmR-ipFXP13f0DDJPDm7wKAqGSFpVFyF4BhnVJxi5ARxjNLMDSuhEubxpobZyQgJ80qYcWkZVYZJlRUGvxi5QNY6gl2yiFUQxHFJLMpWSMxLUQjPzEm5xSbJoDW1iiv8l87chvgp8Y9NQyStN-eXvzV9qggANa0CjNUAAAA&amp;sa=X&amp;ved=2ahUKEwjFnJ21mZ7xAhUaRzABHQ6bAJYQxA0wFHoECAoQDg\" title=\"Dark &amp; Wild\"><div class=\"XQ6p1d\"><g-img class=\"BA0A6c\" style=\"position:relative\"><img alt=\"Dark &amp; Wild\" class=\"rISBZc M4dUYb\" data-atf=\"4\" height=\"82\" id=\"dimg_74\" src=\"https://encrypted-tbn0.gstatic.com/images?q=tbn:ANd9GcT68whbNG8AeNUOxVLAkTWh-GdcHtxTFEfo0JvR&amp;s=0\" style=\"border-radius:8px 8px 8px 8px\" width=\"82\"/><div class=\"fWhgmd\" style=\"border-radius:8px 8px 8px 8px\"></div></g-img></div><div class=\"fl ellip oBrLN S1gFKb rOVRL\" data-original-name=\"Dark &amp; Wild\">Dark &amp; Wild</div></a>, <a data-ved=\"2ahUKEwjFnJ21mZ7xAhUaRzABHQ6bAJYQxA0wFHoECAoQEA\" href=\"/search?q=BTS+O!RUL8,2%3F&amp;stick=H4sIAAAAAAAAAOOQUeLSz9U3qEw2KEs2MeJKKilWSCxPLEopjuJ3Ki0pSS1ScAoJVijPzM48xQhWWW5UaWJkfoqRVz9d39AwyTw5u8CgKhkhaVRcheAYZ1ScYuQEcYzSzA0roRLm8aaG2ckICfNKmHFpGVWGSZUVBr8YuUDWOoJdsoiVF8TxVwwK9bHQMbK_xSbJoDW1iiv8l87chvgp8Y9NQyStN-eXvzV9qggAysR_z9AAAAA&amp;sa=X&amp;ved=2ahUKEwjFnJ21mZ7xAhUaRzABHQ6bAJYQxA0wFHoECAoQEA\" title=\"O!RUL8,2?\"><div class=\"XQ6p1d\"><g-img class=\"BA0A6c\" style=\"position:relative\"><img alt=\"O!RUL8,2?\" class=\"rISBZc M4dUYb\" data-atf=\"4\" height=\"82\" id=\"dimg_83\" src=\"https://encrypted-tbn0.gstatic.com/images?q=tbn:ANd9GcQfMk-kVcN74y1gIhve_CN7NEaEkklIIwaxu00f&amp;s=0\" style=\"border-radius:8px 8px 8px 8px\" width=\"82\"/><div class=\"fWhgmd\" style=\"border-radius:8px 8px 8px 8px\"></div></g-img></div><div class=\"fl ellip oBrLN S1gFKb rOVRL\" data-original-name=\"O!RUL8,2?\">O!RUL8,2?</div></a>, <a class=\"EbH0bb\" href=\"/search?q=Butter+BTS+wiki&amp;stick=H4sIAAAAAAAAAOOQMeJKKilWSCxPLEopjuJ3Ki0pSS1ScAoJVijPzM48xciln6tvUG5UaWJkfoqRVz9d39AwyTw5u8CgKhkhaVRcheAYZ1ScYuQEcYzSzA0roRLm8aaG2ckICfNKmHFpGVWGSZUVBr8YuUDWOoJdsogV3Sm32CQZtKZWcYX_0pnbED8l_rFpiKT15vzyt6ZPFQEl3ujFxgAAAA&amp;sa=X&amp;ved=2ahUKEwjFnJ21mZ7xAhUaRzABHQ6bAJYQzTooADAVegQICxAB\"><span class=\"rhsg3\">View 1+ more</span></a>, <a data-ved=\"2ahUKEwjFnJ21mZ7xAhUaRzABHQ6bAJYQxA0wFXoECAsQBA\" href=\"/search?q=Daesang+Award&amp;stick=H4sIAAAAAAAAAOOQUeLSz9U3KDeqNDEyN-JKKilWSCxPLEopjuJ3Ki0pSS1ScAoJVijPzM48xYik8hQjr366vqFhknlydoFBVTJC0qi4CsExzqg4xcgJ4hilmRtWQiXM400Ns5MREuaVMOPSMqoMkyorDH4xcoGsdQS7ZBErr0tianFiXjpE4BabJIPW1Cqu8F86cxvip8Q_Ng2RtN6cX_7W9KkiAAlnQczQAAAA&amp;sa=X&amp;ved=2ahUKEwjFnJ21mZ7xAhUaRzABHQ6bAJYQxA0wFXoECAsQBA\" title=\"Seoul Music Awards Daesang Award\"><div class=\"XQ6p1d\"><g-img class=\"BA0A6c\" style=\"position:relative\"><img alt=\"Seoul Music Awards Daesang Award\" class=\"rISBZc M4dUYb\" data-atf=\"4\" height=\"82\" id=\"dimg_44\" src=\"https://encrypted-tbn0.gstatic.com/images?q=tbn:ANd9GcSgWgqPCMCp4loKfE3WCYM_jCBUPtgidbXFWbzVBBrcSc7QPrWEVAri&amp;s=0\" style=\"border-radius:8px 8px 8px 8px\" width=\"82\"/><div class=\"fWhgmd\" style=\"border-radius:8px 8px 8px 8px\"></div></g-img></div><div class=\"fl ellip oBrLN S1gFKb rOVRL\" data-original-name=\"Seoul Music Awards...\">Seoul Music Awards...</div></a>, <a data-ved=\"2ahUKEwjFnJ21mZ7xAhUaRzABHQ6bAJYQxA0wFXoECAsQBg\" href=\"/search?q=Fan+Army&amp;stick=H4sIAAAAAAAAAOOQUeLVT9c3NEwyT84uMKhKNuJKKilWSCxPLEopjuJ3Ki0pSS1ScAoJVijPzM48xciln6tvUG5UaWJkfooRVSdC0qi4CsExzqg4xcgJ4hilmRtWQiXM400Ns5MREuaVMOPSMqoMkyorDH4xcoGsdQS7ZBErh1tinoJjUW7lLTZJBq2pVVzhv3TmNsRPiX9sGiJpvTm__K3pU0UAmwhEOM4AAAA&amp;sa=X&amp;ved=2ahUKEwjFnJ21mZ7xAhUaRzABHQ6bAJYQxA0wFXoECAsQBg\" title=\"iHeartRadio Music Award for Best Fan Army\"><div class=\"XQ6p1d\"><g-img class=\"BA0A6c\" style=\"position:relative\"><img alt=\"iHeartRadio Music Award for Best Fan Army\" class=\"rISBZc M4dUYb\" data-atf=\"4\" height=\"82\" id=\"dimg_47\" src=\"https://encrypted-tbn0.gstatic.com/images?q=tbn:ANd9GcR2kSpZ-M9cgCmAihbLCXT0VgEf4fwEy6bHewuvgSBYBCGxh44wl5oP&amp;s=0\" style=\"border-radius:8px 8px 8px 8px\" width=\"82\"/><div class=\"fWhgmd\" style=\"border-radius:8px 8px 8px 8px\"></div></g-img></div><div class=\"fl ellip oBrLN S1gFKb rOVRL\" data-original-name=\"iHeartRadio Music Award fo...\">iHeartRadio Music Award fo...</div></a>, <a data-ved=\"2ahUKEwjFnJ21mZ7xAhUaRzABHQ6bAJYQxA0wFXoECAsQCA\" href=\"/search?q=Bonsang+Awards&amp;stick=H4sIAAAAAAAAAOOQUeLSz9U3KDeqNCquMuJKKilWSCxPLEopjuJ3Ki0pSS1ScAoJVijPzM48xQhTaWJkfoqRVz9d39AwyTw5u8CgKhkhCTQGwTHOqDjFyAniGKWZG1ZCJczjTQ2zkxES5pUw49IyqgyTKisMfjFygax1BLtkESufU35ecWJeOlTgFpskg9bUKq7wXzpzG-KnxD82DZG03pxf_tb0qSIAe4AzndEAAAA&amp;sa=X&amp;ved=2ahUKEwjFnJ21mZ7xAhUaRzABHQ6bAJYQxA0wFXoECAsQCA\" title=\"Seoul Music Awards Bonsang Awards\"><div class=\"XQ6p1d\"><g-img class=\"BA0A6c\" style=\"position:relative\"><img alt=\"Seoul Music Awards Bonsang Awards\" class=\"rISBZc M4dUYb\" data-atf=\"4\" height=\"82\" id=\"dimg_51\" src=\"https://encrypted-tbn0.gstatic.com/images?q=tbn:ANd9GcR3aA80tr8tIAAblHZ1Ab1MVCQElLenuW6rkUaYyMTSLPzD7j-CGPYo&amp;s=0\" style=\"border-radius:8px 8px 8px 8px\" width=\"82\"/><div class=\"fWhgmd\" style=\"border-radius:8px 8px 8px 8px\"></div></g-img></div><div class=\"fl ellip oBrLN S1gFKb rOVRL\" data-original-name=\"Seoul Music Awards...\">Seoul Music Awards...</div></a>, <a data-ved=\"2ahUKEwjFnJ21mZ7xAhUaRzABHQ6bAJYQxA0wFXoECAsQCg\" href=\"/search?q=Golden+Disc+Award+Song+Division&amp;stick=H4sIAAAAAAAAAOOQUeLSz9U3KDeqNM6oMOJKKilWSCxPLEopjuJ3Ki0pSS1ScAoJVijPzM48xQhTaWJkfoqRVz9d39AwyTw5u8CgKhkhaVRcheAAzTzFyAniGKWZG1ZCJczjTQ2zkxES5pUw49IyqgyTKisMfjFygax1BLtkEau8e35OSmqegktmcTJEUCE4Py8dyC_LLM7Mz7vFJsmgNbWKK_yXztyG-Cnxj01DJK0355e_NX2qCADnkY8y4gAAAA&amp;sa=X&amp;ved=2ahUKEwjFnJ21mZ7xAhUaRzABHQ6bAJYQxA0wFXoECAsQCg\" title=\"Golden Disc Award Song Division\"><div class=\"XQ6p1d\"><g-img class=\"BA0A6c\" style=\"position:relative\"><img alt=\"Golden Disc Award Song Division\" class=\"rISBZc M4dUYb\" data-atf=\"4\" height=\"82\" id=\"dimg_56\" src=\"https://encrypted-tbn0.gstatic.com/images?q=tbn:ANd9GcSNzyQ4N_bdKGDV-T1mM-TU4j4AoGp35NqhMJQD&amp;s=0\" style=\"border-radius:8px 8px 8px 8px\" width=\"82\"/><div class=\"fWhgmd\" style=\"border-radius:8px 8px 8px 8px\"></div></g-img></div><div class=\"fl ellip oBrLN S1gFKb rOVRL\" data-original-name=\"Golden Disc Award S...\">Golden Disc Award S...</div></a>, <a data-ved=\"2ahUKEwjFnJ21mZ7xAhUaRzABHQ6bAJYQxA0wFXoECAsQDA\" href=\"/search?q=MTV+Video+Music+Award+for+Best+Choreography&amp;stick=H4sIAAAAAAAAAOOQUeLUz9U3MEozN6w04koqKVZILE8sSimO4ncqLSlJLVJwCglWKM_MzjzFyAVSWG5UaWJkfoqRVz9d39AwyTw5u8CgKhkhaVRcheAYZ1ScYkSYD5Uwjzc1zE5GSJhXwoxLy6gyTKqsMPjFyAWy1hHskkWs2r4hYQphmSmp-Qq-pcWZyRAJhbR8oOtSi0sUnDPyi1Lz04sSCzIqb7FJMmhNreIK_6UztyF-Svxj0xBJ68355W9NnyoCAGyEpAHtAAAA&amp;sa=X&amp;ved=2ahUKEwjFnJ21mZ7xAhUaRzABHQ6bAJYQxA0wFXoECAsQDA\" title=\"MTV Video Music Award for Best Choreography\"><div class=\"XQ6p1d\"><g-img class=\"BA0A6c\" style=\"position:relative\"><img alt=\"MTV Video Music Award for Best Choreography\" class=\"rISBZc M4dUYb\" data-atf=\"4\" height=\"82\" id=\"dimg_64\" src=\"https://encrypted-tbn0.gstatic.com/images?q=tbn:ANd9GcRA4tNhgg4siFV-_OT0MUO8lCA1cKgExcfrXTNA8kAiYxXC0EEOxX58&amp;s=0\" style=\"border-radius:8px 8px 8px 8px\" width=\"82\"/><div class=\"fWhgmd\" style=\"border-radius:8px 8px 8px 8px\"></div></g-img></div><div class=\"fl ellip oBrLN S1gFKb rOVRL\" data-original-name=\"MTV Video Music A...\">MTV Video Music A...</div></a>, <a data-ved=\"2ahUKEwjFnJ21mZ7xAhUaRzABHQ6bAJYQxA0wFXoECAsQDg\" href=\"/search?q=MTV+Europe+Music+Award+for+Best+Song&amp;stick=H4sIAAAAAAAAAOOQUeLSz9U3MI83NcxONuJKKilWSCxPLEopjuJ3Ki0pSS1ScAoJVijPzM48xQhWWW5UaWJkfoqRVz9d39AwyTw5u8CgKhkhaVRcheAYZ1ScYuQEcYzSzA0roRIQyxAS5pUw49IyqgyTKisMfjFygax1BLtkEauKb0iYgmtpUX5BqoJvaXFmMkRGIS0f6LzU4hKF4Py89FtskgxaU6u4wn_pzG2InxL_2DRE0npzfvlb06eKAO9YQKHnAAAA&amp;sa=X&amp;ved=2ahUKEwjFnJ21mZ7xAhUaRzABHQ6bAJYQxA0wFXoECAsQDg\" title=\"MTV Europe Music Award for Best Song\"><div class=\"XQ6p1d\"><g-img class=\"BA0A6c\" style=\"position:relative\"><img alt=\"MTV Europe Music Award for Best Song\" class=\"rISBZc M4dUYb\" data-atf=\"4\" height=\"82\" id=\"dimg_72\" src=\"https://encrypted-tbn0.gstatic.com/images?q=tbn:ANd9GcRpXMV_0ZRps5fk4xHno5Apm8hm4QGsu6YfBbzy_LNH7IAcCNONAj7X&amp;s=0\" style=\"border-radius:8px 8px 8px 8px\" width=\"82\"/><div class=\"fWhgmd\" style=\"border-radius:8px 8px 8px 8px\"></div></g-img></div><div class=\"fl ellip oBrLN S1gFKb rOVRL\" data-original-name=\"MTV Europe Music A...\">MTV Europe Music A...</div></a>, <a data-ved=\"2ahUKEwjFnJ21mZ7xAhUaRzABHQ6bAJYQxA0wFXoECAsQEA\" href=\"/search?q=MTV+Video+Music+Award+for+Best+Pop+Video&amp;stick=H4sIAAAAAAAAAOOQUeLUz9U3MEozN6804koqKVZILE8sSimO4ncqLSlJLVJwCglWKM_MzjzFyAVSWG5UaWJkfoqRVz9d39AwyTw5u8CgKhkhaVRcheAYZ1ScYoSZb1gJlTCPNzXMTkZImFfCjEvLqDJMqqww-MXIBbLWEeySRawaviFhCmGZKan5Cr6lxZnJEAmFtHyg61KLSxQC8gsg0rfYJBm0plZxhf_SmdsQPyX-sWmIpPXm_PK3pk8VAaFehJXqAAAA&amp;sa=X&amp;ved=2ahUKEwjFnJ21mZ7xAhUaRzABHQ6bAJYQxA0wFXoECAsQEA\" title=\"MTV Video Music Award for Best Pop Video\"><div class=\"XQ6p1d\"><g-img class=\"BA0A6c\" style=\"position:relative\"><img alt=\"MTV Video Music Award for Best Pop Video\" class=\"rISBZc M4dUYb\" data-atf=\"4\" height=\"82\" id=\"dimg_81\" src=\"https://encrypted-tbn0.gstatic.com/images?q=tbn:ANd9GcRwaFUAkcMSSnC7QG9FSNzWwmNKZA0zzNpbA02Q0pPX7FTJorX75ygg&amp;s=0\" style=\"border-radius:8px 8px 8px 8px\" width=\"82\"/><div class=\"fWhgmd\" style=\"border-radius:8px 8px 8px 8px\"></div></g-img></div><div class=\"fl ellip oBrLN S1gFKb rOVRL\" data-original-name=\"MTV Video Music A...\">MTV Video Music A...</div></a>, <a class=\"oBa0Fe wrSo4\" data-async-trigger=\"duf3-34-1\" data-ved=\"2ahUKEwjFnJ21mZ7xAhUaRzABHQ6bAJYQtw8wFXoECAsQEg\" href=\"#\" jsaction=\"trigger.szjOR\" role=\"button\">Feedback</a>, <a class=\"O0oZCe\" data-ved=\"2ahUKEwjFnJ21mZ7xAhUaRzABHQ6bAJYQ0r4HegQIFxAE\" jsname=\"oyt78e\" role=\"link\" tabindex=\"0\">Send feedback on this info</a>, <a href=\"https://myactivity.google.com/privacyadvisor/search\" tabindex=\"0\" target=\"_blank\"><div class=\"gziGLd WGYX8\" id=\"qCA1yf\"><span class=\"cQkxXe\"><span class=\"mdUiPd S003Ke mtnwac z1asCe E9hVAb\" style=\"height:14px;line-height:14px;width:14px\"><svg focusable=\"false\" viewbox=\"0 0 24 24\" xmlns=\"http://www.w3.org/2000/svg\"><path d=\"M19.43 12.98c.04-.32.07-.64.07-.98s-.03-.66-.07-.98l2.11-1.65c.19-.15.24-.42.12-.64l-2-3.46c-.12-.22-.39-.3-.61-.22l-2.49 1c-.52-.4-1.08-.73-1.69-.98l-.38-2.65C14.46 2.18 14.25 2 14 2h-4c-.25 0-.46.18-.49.42l-.38 2.65c-.61.25-1.17.59-1.69.98l-2.49-1c-.23-.09-.49 0-.61.22l-2 3.46c-.13.22-.07.49.12.64l2.11 1.65c-.04.32-.07.65-.07.98s.03.66.07.98l-2.11 1.65c-.19.15-.24.42-.12.64l2 3.46c.12.22.39.3.61.22l2.49-1c.52.4 1.08.73 1.69.98l.38 2.65c.03.24.24.42.49.42h4c.25 0 .46-.18.49-.42l.38-2.65c.61-.25 1.17-.59 1.69-.98l2.49 1c.23.09.49 0 .61-.22l2-3.46c.12-.22.07-.49-.12-.64l-2.11-1.65zM12 15.5c-1.93 0-3.5-1.57-3.5-3.5s1.57-3.5 3.5-3.5 3.5 1.57 3.5 3.5-1.57 3.5-3.5 3.5z\"></path></svg></span> <span>Privacy settings</span></span></div></a>, <a href=\"https://www.google.com/search/howsearchworks/\" tabindex=\"0\" target=\"_blank\"><div class=\"gziGLd WGYX8\" id=\"fGmxxe\"><span class=\"cQkxXe\"><span class=\"mdUiPd S003Ke mtnwac z1asCe MZy1Rb\" style=\"height:14px;line-height:14px;width:14px\"><svg focusable=\"false\" viewbox=\"0 0 24 24\" xmlns=\"http://www.w3.org/2000/svg\"><path d=\"M15.5 14h-.79l-.28-.27A6.471 6.471 0 0 0 16 9.5 6.5 6.5 0 1 0 9.5 16c1.61 0 3.09-.59 4.23-1.57l.27.28v.79l5 4.99L20.49 19l-4.99-5zm-6 0C7.01 14 5 11.99 5 9.5S7.01 5 9.5 5 14 7.01 14 9.5 11.99 14 9.5 14z\"></path></svg></span><span>How Search works</span></span></div></a>, <a data-ved=\"2ahUKEwjFnJ21mZ7xAhUaRzABHQ6bAJYQxfUDegQIBxAH\" href=\"/search?q=BTS+logo&amp;tbm=isch&amp;source=iu&amp;ictx=1&amp;fir=le62PAExDngtmM%252CDbuupvXnuczuNM%252C_&amp;vet=1&amp;usg=AI4_-kRapjAlfgINcD21I6pFBQmSmixtxg#imgrc=le62PAExDngtmM\" jsname=\"ODEtnf\" onmousedown=\"return rwt(this,'','','','','AOvVaw2ozWNBFLFrRaP2olmwehbk','','2ahUKEwjFnJ21mZ7xAhUaRzABHQ6bAJYQxfUDegQIBxAH','','',event)\" role=\"button\" tabindex=\"0\"><div class=\"pogVc\"></div><g-img class=\"KbmNqc BA0A6c\" style=\"margin-left:-24px;margin-right:-24px;position:relative\"><img alt=\"Image of BTS logo\" class=\"rISBZc\" data-src=\"https://encrypted-tbn0.gstatic.com/images?q=tbn:ANd9GcSvi-HgQ_Aicme4xR_O39E-R-q7z_wiHHRMxL6AyFQ&amp;s=0\" height=\"144\" jsaction=\"load:K1e2pe;BUYwVb:eNYuKb;LsLGHf:KpWyKc;rcuQ6b:npT2md\" jscontroller=\"SvnKM\" width=\"240\"/><div class=\"fWhgmd\"></div></g-img></a>, <a data-ved=\"2ahUKEwjFnJ21mZ7xAhUaRzABHQ6bAJYQxfUDegQIBxAI\" href=\"/search?q=BTS+logo&amp;tbm=isch&amp;source=iu&amp;ictx=1&amp;fir=KssWCFnyvRDZIM%252CrCRajct4p_GbIM%252C_&amp;vet=1&amp;usg=AI4_-kT9Ga--yRtisXejRajuEsJZygWItg#imgrc=KssWCFnyvRDZIM\" jsname=\"ODEtnf\" onmousedown=\"return rwt(this,'','','','','AOvVaw1izWJkpP14cYg1bOIoG3h1','','2ahUKEwjFnJ21mZ7xAhUaRzABHQ6bAJYQxfUDegQIBxAI','','',event)\" role=\"button\" tabindex=\"0\"><div class=\"pogVc\"></div><g-img class=\"KbmNqc BA0A6c\" style=\"position:relative\"><img alt=\"Image of BTS logo\" class=\"rISBZc\" data-src=\"https://encrypted-tbn0.gstatic.com/images?q=tbn:ANd9GcSX8AQclB4KXZmKQun2h1s_6rMI0O1seyAMIe-NTks&amp;s=0\" height=\"144\" jsaction=\"load:K1e2pe;BUYwVb:eNYuKb;LsLGHf:KpWyKc;rcuQ6b:npT2md\" jscontroller=\"SvnKM\" width=\"144\"/><div class=\"fWhgmd\"></div></g-img></a>, <a data-ved=\"2ahUKEwjFnJ21mZ7xAhUaRzABHQ6bAJYQxfUDegQIBxAJ\" href=\"/search?q=BTS+logo&amp;tbm=isch&amp;source=iu&amp;ictx=1&amp;fir=FFLPun_d-V9caM%252CrCRajct4p_GbIM%252C_&amp;vet=1&amp;usg=AI4_-kRnadplb1e9b6mKrJSXRnOi-3CHug#imgrc=FFLPun_d-V9caM\" jsname=\"ODEtnf\" onmousedown=\"return rwt(this,'','','','','AOvVaw1uCsfrYarTey5QdWuWgUcB','','2ahUKEwjFnJ21mZ7xAhUaRzABHQ6bAJYQxfUDegQIBxAJ','','',event)\" role=\"button\" tabindex=\"0\"><div class=\"pogVc\"></div><g-img class=\"KbmNqc BA0A6c\" style=\"position:relative\"><img alt=\"Image of BTS logo\" class=\"rISBZc\" data-src=\"https://encrypted-tbn0.gstatic.com/images?q=tbn:ANd9GcRlwNlhSEUx9Jb1J3xMTZyNjr5_jBV6PVX7-CasMB4&amp;s=0\" height=\"144\" jsaction=\"load:K1e2pe;BUYwVb:eNYuKb;LsLGHf:KpWyKc;rcuQ6b:npT2md\" jscontroller=\"SvnKM\" width=\"144\"/><div class=\"fWhgmd\"></div></g-img></a>, <a class=\"tiS4rf Q2MMlc\" href=\"/search?q=BTS+logo&amp;sa=X&amp;ved=2ahUKEwjFnJ21mZ7xAhUaRzABHQ6bAJYQ4qYDegQIBxAL\"><div class=\"MXl0lf mtqGb\"><span class=\"EZRelc z1asCe lYxQe\"><svg focusable=\"false\" viewbox=\"0 0 24 24\" xmlns=\"http://www.w3.org/2000/svg\"><path d=\"M12 4l-1.41 1.41L16.17 11H4v2h12.17l-5.58 5.59L12 20l8-8z\"></path></svg></span><span class=\"wUrVib\">See more</span></div></a>, <a class=\"oBa0Fe wrSo4\" data-async-trigger=\"duf3-95\" data-ved=\"2ahUKEwjFnJ21mZ7xAhUaRzABHQ6bAJYQtw96BAgXEAg\" href=\"#\" jsaction=\"trigger.szjOR\" role=\"button\">Feedback</a>, <a class=\"k8XOCe\" href=\"/search?q=BTS+age&amp;sa=X&amp;ved=2ahUKEwjFnJ21mZ7xAhUaRzABHQ6bAJYQ1QIwF3oECBUQAQ\"><div class=\"aXBZVd\"></div><div class=\"s75CSd OhScic AB4Wff\">bts <b>age</b></div></a>, <a class=\"k8XOCe\" href=\"/search?q=BTS+Profile&amp;sa=X&amp;ved=2ahUKEwjFnJ21mZ7xAhUaRzABHQ6bAJYQ1QIwGHoECA4QAQ\"><div class=\"aXBZVd\"></div><div class=\"s75CSd OhScic AB4Wff\">bts <b>profile</b></div></a>, <a class=\"k8XOCe\" href=\"/search?q=BTS+ARMY&amp;sa=X&amp;ved=2ahUKEwjFnJ21mZ7xAhUaRzABHQ6bAJYQ1QIwGXoECBIQAQ\"><div class=\"aXBZVd\"></div><div class=\"s75CSd OhScic AB4Wff\">bts <b>army</b></div></a>, <a class=\"k8XOCe\" href=\"/search?q=BTS+full+form&amp;sa=X&amp;ved=2ahUKEwjFnJ21mZ7xAhUaRzABHQ6bAJYQ1QIwGnoECBEQAQ\"><div class=\"aXBZVd\"></div><div class=\"s75CSd OhScic AB4Wff\">bts <b>full form</b></div></a>, <a class=\"k8XOCe\" href=\"/search?q=BTS+McDonald%27s&amp;sa=X&amp;ved=2ahUKEwjFnJ21mZ7xAhUaRzABHQ6bAJYQ1QIwG3oECBAQAQ\"><div class=\"aXBZVd\"></div><div class=\"s75CSd OhScic AB4Wff\">bts <b>mcdonald's</b></div></a>, <a class=\"k8XOCe\" href=\"/search?q=When+did+BTS+debut+exact+date&amp;sa=X&amp;ved=2ahUKEwjFnJ21mZ7xAhUaRzABHQ6bAJYQ1QIwHHoECBQQAQ\"><div class=\"aXBZVd\"></div><div class=\"s75CSd OhScic AB4Wff\"><b>when did</b> bts <b>debut exact date</b></div></a>, <a class=\"k8XOCe\" href=\"/search?q=BTS+first+album&amp;sa=X&amp;ved=2ahUKEwjFnJ21mZ7xAhUaRzABHQ6bAJYQ1QIwHXoECAwQAQ\"><div class=\"aXBZVd\"></div><div class=\"s75CSd OhScic AB4Wff\">bts <b>first album</b></div></a>, <a aria-label=\"Page 2\" class=\"fl\" href=\"/search?q=Butter+BTS+wiki&amp;ei=6QDLYIWEEJqOwbkPjraCsAk&amp;start=10&amp;sa=N&amp;ved=2ahUKEwjFnJ21mZ7xAhUaRzABHQ6bAJYQ8tMDegQIARA2\"><span class=\"SJajHc NVbCr\" style=\"background:url(/images/nav_logo323.webp) no-repeat;background-position:-74px 0;width:20px\"></span>2</a>, <a aria-label=\"Page 3\" class=\"fl\" href=\"/search?q=Butter+BTS+wiki&amp;ei=6QDLYIWEEJqOwbkPjraCsAk&amp;start=20&amp;sa=N&amp;ved=2ahUKEwjFnJ21mZ7xAhUaRzABHQ6bAJYQ8tMDegQIARA4\"><span class=\"SJajHc NVbCr\" style=\"background:url(/images/nav_logo323.webp) no-repeat;background-position:-74px 0;width:20px\"></span>3</a>, <a aria-label=\"Page 4\" class=\"fl\" href=\"/search?q=Butter+BTS+wiki&amp;ei=6QDLYIWEEJqOwbkPjraCsAk&amp;start=30&amp;sa=N&amp;ved=2ahUKEwjFnJ21mZ7xAhUaRzABHQ6bAJYQ8tMDegQIARA6\"><span class=\"SJajHc NVbCr\" style=\"background:url(/images/nav_logo323.webp) no-repeat;background-position:-74px 0;width:20px\"></span>4</a>, <a aria-label=\"Page 5\" class=\"fl\" href=\"/search?q=Butter+BTS+wiki&amp;ei=6QDLYIWEEJqOwbkPjraCsAk&amp;start=40&amp;sa=N&amp;ved=2ahUKEwjFnJ21mZ7xAhUaRzABHQ6bAJYQ8tMDegQIARA8\"><span class=\"SJajHc NVbCr\" style=\"background:url(/images/nav_logo323.webp) no-repeat;background-position:-74px 0;width:20px\"></span>5</a>, <a aria-label=\"Page 6\" class=\"fl\" href=\"/search?q=Butter+BTS+wiki&amp;ei=6QDLYIWEEJqOwbkPjraCsAk&amp;start=50&amp;sa=N&amp;ved=2ahUKEwjFnJ21mZ7xAhUaRzABHQ6bAJYQ8tMDegQIARA-\"><span class=\"SJajHc NVbCr\" style=\"background:url(/images/nav_logo323.webp) no-repeat;background-position:-74px 0;width:20px\"></span>6</a>, <a aria-label=\"Page 7\" class=\"fl\" href=\"/search?q=Butter+BTS+wiki&amp;ei=6QDLYIWEEJqOwbkPjraCsAk&amp;start=60&amp;sa=N&amp;ved=2ahUKEwjFnJ21mZ7xAhUaRzABHQ6bAJYQ8tMDegQIARBA\"><span class=\"SJajHc NVbCr\" style=\"background:url(/images/nav_logo323.webp) no-repeat;background-position:-74px 0;width:20px\"></span>7</a>, <a aria-label=\"Page 8\" class=\"fl\" href=\"/search?q=Butter+BTS+wiki&amp;ei=6QDLYIWEEJqOwbkPjraCsAk&amp;start=70&amp;sa=N&amp;ved=2ahUKEwjFnJ21mZ7xAhUaRzABHQ6bAJYQ8tMDegQIARBC\"><span class=\"SJajHc NVbCr\" style=\"background:url(/images/nav_logo323.webp) no-repeat;background-position:-74px 0;width:20px\"></span>8</a>, <a aria-label=\"Page 9\" class=\"fl\" href=\"/search?q=Butter+BTS+wiki&amp;ei=6QDLYIWEEJqOwbkPjraCsAk&amp;start=80&amp;sa=N&amp;ved=2ahUKEwjFnJ21mZ7xAhUaRzABHQ6bAJYQ8tMDegQIARBE\"><span class=\"SJajHc NVbCr\" style=\"background:url(/images/nav_logo323.webp) no-repeat;background-position:-74px 0;width:20px\"></span>9</a>, <a aria-label=\"Page 10\" class=\"fl\" href=\"/search?q=Butter+BTS+wiki&amp;ei=6QDLYIWEEJqOwbkPjraCsAk&amp;start=90&amp;sa=N&amp;ved=2ahUKEwjFnJ21mZ7xAhUaRzABHQ6bAJYQ8tMDegQIARBG\"><span class=\"SJajHc NVbCr\" style=\"background:url(/images/nav_logo323.webp) no-repeat;background-position:-74px 0;width:20px\"></span>10</a>, <a href=\"/search?q=Butter+BTS+wiki&amp;ei=6QDLYIWEEJqOwbkPjraCsAk&amp;start=10&amp;sa=N&amp;ved=2ahUKEwjFnJ21mZ7xAhUaRzABHQ6bAJYQ8NMDegQIARBI\" id=\"pnnext\" style=\"text-align:left\"><span class=\"SJajHc NVbCr\" style=\"background:url(/images/nav_logo323.webp) no-repeat;background-position:-96px 0;width:71px\"></span><span style=\"display:block;margin-left:53px\">Next</span></a>, <a class=\"EASEnb PZPZlf\" href=\"/search?q=Kim+Seok-jin&amp;stick=H4sIAAAAAAAAAOOQUeLSz9U3qEoyMc-uNOJOKilWyE3NTUotKo7idyotKUktUnAKCVYoz8zOPMWIpBSJU1F1ipFXP13f0DDJ3MzEyNy0AEmywAKJU5SHxMmBKas0qcwtM_jFyA2yCGr5IlYe78xcheDU_GzdrMy8W2ySDFpTq7g-M-2ZK2j6tMG_NnzJVXvRYz-3FawCAL1cU7zDAAAA&amp;sa=X&amp;ved=2ahUKEwjFnJ21mZ7xAhUaRzABHQ6bAJYQs9oBKAAwHnoECAkQAw\" jsname=\"ZWuC2\" title=\"Jin\"><div class=\"JAC8bd Yyyymd\"><div class=\"vlVVv\"></div><img alt=\"\" aria-hidden=\"true\" class=\"LV5Kte\" data-atf=\"8\" id=\"tsuid34\" jsname=\"lt6Uyb\" src=\"data:image/jpeg;base64,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\"/></div><div aria-hidden=\"true\" class=\"iggQde\"><div class=\"f3LoEf\" jsname=\"cuqikc\">Jin</div></div></a>, <a class=\"EASEnb PZPZlf\" href=\"/search?q=Kim+Taehyung&amp;stick=H4sIAAAAAAAAAOOQUeLSz9U3qEoyMa-oMuJOKilWyE3NTUotKo7idyotKUktUnAKCVYoz8zOPMUIV5pdicSpqDrFyKufrm9omGRuZmJkblqAJFlggcQpykPi5MCUVZpU5pYZ_GLkBlkEtXwRK493Zq5CSGJqRmVpXvotNkkGralVXJ-Z9swVNH3a4F8bvuSqveixn9sKVgEAB0UxF8MAAAA&amp;sa=X&amp;ved=2ahUKEwjFnJ21mZ7xAhUaRzABHQ6bAJYQs9oBKAEwHnoECAkQBA\" jsname=\"ZWuC2\" title=\"V\"><div class=\"JAC8bd Yyyymd\"><div class=\"vlVVv\"></div><img alt=\"\" aria-hidden=\"true\" class=\"LV5Kte\" data-atf=\"8\" id=\"tsuid36\" jsname=\"lt6Uyb\" src=\"data:image/jpeg;base64,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\"/></div><div aria-hidden=\"true\" class=\"iggQde\"><div class=\"f3LoEf\" jsname=\"cuqikc\">V</div></div></a>, <a class=\"EASEnb PZPZlf\" href=\"/search?q=Jungkook&amp;stick=H4sIAAAAAAAAAOOQUeLVT9c3NEwyNzMxMjctMOJOKilWyE3NTUotKo7idyotKUktUnAKCVYoz8zOPMXIpZ-rb1CVZGKeXYnEqag6xYhqDpJkgQUSpygPiZMDU1ZpUplbZvCLkRtkEdTyRawcXqV56dn5-dm32CQZtKZWcX1m2jNX0PRpg39t-JKr9qLHfm4rWAUALjsgXcIAAAA&amp;sa=X&amp;ved=2ahUKEwjFnJ21mZ7xAhUaRzABHQ6bAJYQs9oBKAIwHnoECAkQBQ\" jsname=\"ZWuC2\" title=\"Jungkook\"><div class=\"JAC8bd Yyyymd\"><div class=\"vlVVv\"></div><img alt=\"\" aria-hidden=\"true\" class=\"LV5Kte\" data-atf=\"8\" id=\"tsuid38\" jsname=\"lt6Uyb\" src=\"data:image/jpeg;base64,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\"/></div><div aria-hidden=\"true\" class=\"iggQde\"><div class=\"f3LoEf\" jsname=\"cuqikc\">Jungkook</div></div></a>, <a class=\"EASEnb PZPZlf\" href=\"/search?q=Kim+Namjoon&amp;stick=H4sIAAAAAAAAAOOQUeLSz9U3qEoyMS-wMOJOKilWyE3NTUotKo7idyotKUktUnAKCVYoz8zOPMUIV5pdicSpqDrFyKufrm9omGRuZmJkblqAJFlggcQpykPi5MCUVZpU5pYZ_GLkBlkEtXwRK7d3Zq6CX2JuVn5-3i02SQatqVVcn5n2zBU0fdrgXxu-5Kq96LGf2wpWAQDhKH34wgAAAA&amp;sa=X&amp;ved=2ahUKEwjFnJ21mZ7xAhUaRzABHQ6bAJYQs9oBKAMwHnoECAkQBg\" jsname=\"ZWuC2\" title=\"RM\"><div class=\"JAC8bd Yyyymd\"><div class=\"vlVVv\"></div><img alt=\"\" aria-hidden=\"true\" class=\"LV5Kte\" data-atf=\"8\" id=\"tsuid40\" jsname=\"lt6Uyb\" src=\"data:image/jpeg;base64,/9j/4AAQSkZJRgABAQAAAQABAAD/2wCEAAkGBwgHBgkIBwgKCgkLDRYPDQwMDRsUFRAWIB0iIiAdHx8kKDQsJCYxJx8fLT0tMTU3Ojo6Iys/RD84QzQ5OjcBCgoKDQwNGg8PGjclHyU3Nzc3Nzc3Nzc3Nzc3Nzc3Nzc3Nzc3Nzc3Nzc3Nzc3Nzc3Nzc3Nzc3Nzc3Nzc3Nzc3N//AABEIAE4ATgMBIgACEQEDEQH/xAAcAAABBQEBAQAAAAAAAAAAAAAHAgMEBQYIAQD/xAA5EAABAwIDBgMGAwgDAAAAAAABAgMEABEFEiEGEzFBUWEHInEUMoGRofBCcsEjUpKisbLC8TNEU//EABkBAAMBAQEAAAAAAAAAAAAAAAIDBAAFAf/EACARAAIDAAIBBQAAAAAAAAAAAAABAgMREiExBBMiQVH/2gAMAwEAAhEDEQA/ABn7MLcKQqNpVpu/KflSgyFEDqa5nNl/EpVRbcqbVGUOtaFUYFY00q/2RwBmdPbXLZ3jQvZBGh6n/dHGTbw84GLhYFi0xvfQ4T62v/UJIT8+fwpLrmK4Y6EOOPtK4jzHWj+5Piw0gFQZQgWSA6QAPT3ay85WG4viSQuAy8hK8ylKTcE9h98BT2kHGmT8A1jbY4ywbe1lfZWtW0bxClpsJEdCu6TaiFOwDCcThqiSILbQKf2am0AWI/dIGhHTnQVnYeqJKejr1U0spvwvbnWfxEyr/Ubhrb6K5/yJcbPzre+F2Jx8YnTnmV7wMMpSbjhmJt/aa5/U0RRv8AI242dxSWpOr00Ng24hKAf6qNMrbb8iJxSXgHIF7D4042PPe3CkJ4+gpxvn61zmWi1L3KS5kCwm1we5ogYBiLLccAFsOvWabTbROl+Gmg4n1AoeSFpTGUF38/StFsPFUrF2DKVlbS6dyVghLtzqEk6E2tpTang6tRafIsMcwnaHFJG5gw3wwE5i+5lSFDsOtvSmdmcJntypbstK0Ftoqy/uqBt9+lF1qyD5qwuLY8uLMeLLeZBUsKKLHgogf0+tOcVF62HVfKzY4WMjEIjUEPZU76yC4jgDw+R40KtvYrTeNbxn3Xmwu9uPT6WHwq0xrFJamnN8jJvMqkG3Ii/6/SsziM9eIFhTmu6bDabdBQ2T1YDbUoRKdxsa0f8AwghmPsFBuLKfceeP8ZA+gFAZ3Qa+tdLbFxTD2TwaOsWWiC1m/MUgn60fpu2zn39Iy+NeHGFSjfClqgLzXVxdSR6E6fA27VTyPDJ+OypbOLNvLAOVCoxTmPIXzGiYQcxA60xLcQyG94rLmVlT3PH9DTbKa8bwXCybaWglc8PcekRyEpipVbQLdP6A1r8I2aVDw5liYVJORG+SF3QVgG9uxv05CtW4hxYBDmUHpUGU043dIcUc34hxB61PwUSuLbETMPGIRI2+Sh8JANnBe/eoTWDrQd5MYgBKEmymo+RRGvc8rfelTYszI8tC3AlttRSFE6Ekk5R31B+PyqttMcTCwt05spKSB1PpWfHAo8twoMYfhR4UzHZTSHEtHdw2lDRxy9r/AHyzUK2iSk1Ik4i/MShl5111DabNpWrRscSAOVN2ABtSpB2PX5EhhUl9uOj3nVBseqjb9a6qbbDSQ2jRKAEgdgK5t2NiibthgzB4GY2v4IOc/wBtdKDn61V6ZdNkV77SKSRgInIWMTnyn834GFmOhJ6pCDm/iUainZZSWi0zjuMJQeTr6XfTVSSdD31rRjnXoGtUcUJ1oyMWfieGo3ePRQEjT2uPdbR7ke8j46d6g4wxjUt1MnBMdi+zPeUo3SfIg8VJXc66aac+1bdUdClHMVEHlew+lUmM4MkBleDwYgkly3nWW0JTqSqyQbkHlpfrSZ1v6Hwt77KbCW0gCNES8Ex0ZWhKbUkvLOq1Emx0Nxm7ntdiXs8zOxWO/Jircj679t1wLSrS1k3PDXnVqqLKwhp1t3EnMRdcT+zaCEpeznjl82unAcrHU8lwWWZ7Lb0d9e6aSG0FB8tx73fjofy0jhjKOeoCG0OzkvZ/F3mnW1+yFZ3DquCk8gT1HA+lVyvd+NdCy4Tc2M5AxFhLzaha51uPjresc74YYbJjuoiy5DEhJORaiFo9CLX09a3tuT6Ac1FdmX8Iook7dxFn/rMuv/y5P86Po4D0oX+FWymKYDtBij2Kx20hMcNMPtrCkuBSrm3Me6niKKNU1RcY4ya2SlLoSK9GlfV9ypos8UQBc022CpRdVxIskdBXhO9dLf4UgE9/u1O86xiixXCprk0yoao7+Yg7qScu7sB7igknW2oPz5VCRJxKGnKMAfKcxJVGW2pF+ZHmB+laq16Zji6FdlkfWlutboxWySwziZsmS+hqUyuCVe4h8ALd/Jra/XW/arNi6UgZQkCrF9hqQ0W3m0uNnilQuKgtx3GngyV52yCW1KJzAC1wevEWPz6koRUQJzciZDHlWrqQKkUhpAQgJHWlGiPD/9k=\"/></div><div aria-hidden=\"true\" class=\"iggQde\"><div class=\"f3LoEf\" jsname=\"cuqikc\">RM</div></div></a>, <a href=\"/search?q=BTS+members&amp;stick=H4sIAAAAAAAAAOOQMeJOKilWyE3NTUotKo7idyotKUktUnAKCVYoz8zOPMXIpZ-rb1CVZGKeXYnEqag6xcirn65vaJhkbmZiZG5agCRZYIHEKcpD4uTAlFWaVOaWGfxi5AZZBLV8ESsy7xabJIPW1Cquz0x75gqaPm3wrw1fctVe9NjPbQWrAGXZxg62AAAA&amp;sa=X&amp;ved=2ahUKEwjFnJ21mZ7xAhUaRzABHQ6bAJYQ4qYDMB56BAgJEAc\"><g-more-link class=\"hecFYc mIKy0c dGWpb tiS4rf\"><div class=\"MXl0lf mtqGb\"><span class=\"EZRelc z1asCe lYxQe\"><svg focusable=\"false\" viewbox=\"0 0 24 24\" xmlns=\"http://www.w3.org/2000/svg\"><path d=\"M12 4l-1.41 1.41L16.17 11H4v2h12.17l-5.58 5.59L12 20l8-8z\"></path></svg></span><span class=\"wUrVib\"><span>See more</span></span></div></g-more-link></a>, <a class=\"EASEnb PZPZlf\" href=\"/search?q=BTS+Dynamite&amp;stick=H4sIAAAAAAAAAOOQUeLVT9c3NMzOs0wvN62KN-JMKilWKM7PSy-O4ncqLSlJLVJwCglWKM_MzjzFiKoWxs_JLqq0NMpJgfHTsosNC-LjS-Dy6RVm8SnxxXB54yKzijwLhHozowLT3OJyON8yvcrcrNgSxs-oqDTPsUwxgvGTDQsNSoBKYPyUiiwDC8PilF-MnCCngh2_iJUHxHapzEvMzSxJvcUmyaA1tYrrUVT1Km4N7S2i86ec3aP2uZt1S-JhAHcelDYEAQAA&amp;sa=X&amp;ved=2ahUKEwjFnJ21mZ7xAhUaRzABHQ6bAJYQs9oBKAAwH3oECBgQAw\" jsname=\"ZWuC2\" title=\"Dynamite\"><div class=\"JAC8bd Yyyymd\"><div class=\"vlVVv\"></div><img alt=\"\" aria-hidden=\"true\" class=\"LV5Kte Z8r1Ce\" data-src=\"//encrypted-tbn0.gstatic.com/images?q=tbn:ANd9GcQHi9PaCBNcCh82g81VpiSYll2M852nH7rmZOiWP3E682SahL6ZJAge&amp;s=0\" jsname=\"lt6Uyb\" src=\"//encrypted-tbn0.gstatic.com/images?q=tbn:ANd9GcQHi9PaCBNcCh82g81VpiSYll2M852nH7rmZOiWP3E682SahL6ZJAge&amp;s=0\" style=\"visibility: inherit;\"/></div><div aria-hidden=\"true\" class=\"iggQde\"><div class=\"f3LoEf\" jsname=\"cuqikc\">Dynamite</div></div></a>, <a class=\"EASEnb PZPZlf\" href=\"/search?q=BTS+ARMY%F0%9F%92%9C&amp;stick=H4sIAAAAAAAAAOOQUeLVT9c3NMzJLqq0NMpJMeJMKilWKM7PSy-O4ncqLSlJLVJwCglWKM_MzjzFCFGbnWeZXm5aFQ_jw_TC-GnZxYYF8fElcPn0CrP4lPhiuLxxkVlFngVCvZlRgWlucTmcb5leZW5WbAnjZ1RUmudYphjB-MmGhQYlQCUwfkpFloGFYXHKL0ZOkFPBjl_EygNiOwb5Rn6YP2nOLTZJBq2pVVyPoqpXcWtobxGdP-XsHrXP3axbEg8DAEbLytAEAQAA&amp;sa=X&amp;ved=2ahUKEwjFnJ21mZ7xAhUaRzABHQ6bAJYQs9oBKAEwH3oECBgQBA\" jsname=\"ZWuC2\" title=\"ARMY💜\"><div class=\"JAC8bd Yyyymd\"><div class=\"vlVVv\"></div><img alt=\"\" aria-hidden=\"true\" class=\"LV5Kte Z8r1Ce\" data-src=\"//encrypted-tbn0.gstatic.com/images?q=tbn:ANd9GcRteW0Z86MQkxYcG83-ht9wTO3S_kdiXkQcwOER8-nDhtHePbwbWnM8&amp;s=0\" jsname=\"lt6Uyb\" src=\"//encrypted-tbn0.gstatic.com/images?q=tbn:ANd9GcRteW0Z86MQkxYcG83-ht9wTO3S_kdiXkQcwOER8-nDhtHePbwbWnM8&amp;s=0\" style=\"visibility: inherit;\"/></div><div aria-hidden=\"true\" class=\"iggQde\"><div class=\"f3LoEf\" jsname=\"cuqikc\">ARMY💜</div></div></a>, <a class=\"EASEnb PZPZlf\" href=\"/search?q=BTS+Boy+With+Luv&amp;stick=H4sIAAAAAAAAAOOQUeLVT9c3NEzLLjYsiI8vMeJMKilWKM7PSy-O4ncqLSlJLVJwCglWKM_MzjzFCFGbnWeZXm5aFQ_j52QXVVoa5aTA-DCz4PLpFWbxKfHFcHnjIrOKPAuEejOjAtPc4nI43zK9ytys2BLGz6ioNM-xTDGC8ZMNCw1KgEpg_JSKLAMLw-KUX4ycIKeCHb-IVQDEdsqvVAjPLMlQ8Cktu8UmyaA1tYrrUVT1Km4N7S2i86ec3aP2uZt1S-JhAGUW72IIAQAA&amp;sa=X&amp;ved=2ahUKEwjFnJ21mZ7xAhUaRzABHQ6bAJYQs9oBKAIwH3oECBgQBQ\" jsname=\"ZWuC2\" title=\"Boy With Luv\"><div class=\"JAC8bd Yyyymd\"><div class=\"vlVVv\"></div><img alt=\"\" aria-hidden=\"true\" class=\"LV5Kte Z8r1Ce\" data-src=\"//encrypted-tbn0.gstatic.com/images?q=tbn:ANd9GcSntx7rXVMg462Bs23RC6ZK9ZAPVKVZj4yeVensMwohzB4f5WIvrIWM&amp;s=0\" jsname=\"lt6Uyb\" src=\"//encrypted-tbn0.gstatic.com/images?q=tbn:ANd9GcSntx7rXVMg462Bs23RC6ZK9ZAPVKVZj4yeVensMwohzB4f5WIvrIWM&amp;s=0\" style=\"visibility: inherit;\"/></div><div aria-hidden=\"true\" class=\"iggQde\"><div class=\"f3LoEf\" jsname=\"cuqikc\">Boy With Luv</div></div></a>, <a class=\"EASEnb PZPZlf\" href=\"/search?q=BTS+Life+Goes+On&amp;stick=H4sIAAAAAAAAAOOQUeLVT9c3NMxJrzCLT4kvNuJMKilWKM7PSy-O4ncqLSlJLVJwCglWKM_MzjzFCFGbnWeZXm5aFQ_j52QXVVoa5aTA-GnZxYYF8fElcHmo2XB54yKzijwLhHozowLT3OJyON8yvcrcrNgSxs-oqDTPsUwxgvGTDQsNSoBKYPyUiiwDC8PilF-MnCCngh2_iFUAxPbJTEtVcM9PLVbwz7vFJsmgNbWK61FU9SpuDe0tovOnnN2j9rmbdUviYQAHMjj_CAEAAA&amp;sa=X&amp;ved=2ahUKEwjFnJ21mZ7xAhUaRzABHQ6bAJYQs9oBKAMwH3oECBgQBg\" jsname=\"ZWuC2\" title=\"Life Goes On\"><div class=\"JAC8bd Yyyymd\"><div class=\"vlVVv\"></div><img alt=\"\" aria-hidden=\"true\" class=\"LV5Kte Z8r1Ce\" data-src=\"//encrypted-tbn0.gstatic.com/images?q=tbn:ANd9GcSxkP6tPYLNL8iU-i_Ta7EZn4YDR1ef1hrure8Owikdim6f1D3CRxzQ&amp;s=0\" jsname=\"lt6Uyb\" src=\"//encrypted-tbn0.gstatic.com/images?q=tbn:ANd9GcSxkP6tPYLNL8iU-i_Ta7EZn4YDR1ef1hrure8Owikdim6f1D3CRxzQ&amp;s=0\" style=\"visibility: inherit;\"/></div><div aria-hidden=\"true\" class=\"iggQde\"><div class=\"f3LoEf\" jsname=\"cuqikc\">Life Goes On</div></div></a>, <a href=\"/search?q=BTS+songs&amp;stick=H4sIAAAAAAAAAOOQMeJMKilWKM7PSy-O4ncqLSlJLVJwCglWKM_MzjzFyKufrm9omJ1nmV5uWhUP4-dkF1VaGuWkwPhp2cWGBfHxJXD59Aqz-JT4Yri8cZFZRZ4FQr2ZUYFpbnE5nG-ZXmVuVmwJ42dUVJrnWKYYwfjJhoUGJUAlMH5KRZaBhWFxyi9GTpBTwY5fxIpg32KTZNCaWsX1KKp6FbeG9hbR-VPO7lH73M26JfEwAMxhWC_yAAAA&amp;sa=X&amp;ved=2ahUKEwjFnJ21mZ7xAhUaRzABHQ6bAJYQ4qYDMB96BAgYEAc\"><g-more-link class=\"hecFYc mIKy0c dGWpb tiS4rf\"><div class=\"MXl0lf mtqGb\"><span class=\"EZRelc z1asCe lYxQe\"><svg focusable=\"false\" viewbox=\"0 0 24 24\" xmlns=\"http://www.w3.org/2000/svg\"><path d=\"M12 4l-1.41 1.41L16.17 11H4v2h12.17l-5.58 5.59L12 20l8-8z\"></path></svg></span><span class=\"wUrVib\"><span>See more</span></span></div></g-more-link></a>, <a class=\"KSfJec F3dFTe AB4Wff u60jwe tzM4td\" href=\"/search?q=BTS+debut+date&amp;sa=X&amp;ved=2ahUKEwjFnJ21mZ7xAhUaRzABHQ6bAJYQ1QIwIHoECA8QAQ\"><div class=\"aXBZVd\"></div><div class=\"s75CSd OhScic AB4Wff\">bts <b>debut date</b></div></a>, <a class=\"KSfJec F3dFTe AB4Wff u60jwe tzM4td\" href=\"/search?q=BTS+meaning&amp;sa=X&amp;ved=2ahUKEwjFnJ21mZ7xAhUaRzABHQ6bAJYQ1QIwIXoECA0QAQ\"><div class=\"aXBZVd\"></div><div class=\"s75CSd OhScic AB4Wff\">bts <b>meaning</b></div></a>, <a class=\"oBa0Fe wrSo4\" data-async-trigger=\"duf3-95\" data-ved=\"2ahUKEwjFnJ21mZ7xAhUaRzABHQ6bAJYQtw96BAgaEAI\" href=\"#\" jsaction=\"trigger.szjOR\" role=\"button\">Feedback</a>, <a id=\"BHDErf\" style=\"display: none;\"></a>, <a data-ved=\"2ahUKEwjFnJ21mZ7xAhUaRzABHQ6bAJYQpLkCegQIARBM\" href=\"#\" id=\"eqQYZc\" style=\"\">Use precise location</a>, <a href=\"https://support.google.com/websearch?p=ws_settings_location&amp;hl=en\" onmousedown=\"return rwt(this,'','','','','AOvVaw1RksNr8josGJkZOGdJzJEb','','2ahUKEwjFnJ21mZ7xAhUaRzABHQ6bAJYQty56BAgBEE0','','',event)\">Learn more</a>, <a class=\"JWaTvb Fx4vi\" href=\"https://support.google.com/websearch/?p=ws_results_help&amp;hl=en&amp;fg=1\" onmousedown=\"return rwt(this,'','','','','AOvVaw3OMgCBLQR8XnB9gM70GF5s','','2ahUKEwjFnJ21mZ7xAhUaRzABHQ6bAJYQ8KwCegQIARBO','','',event)\">Help</a>, <a class=\"Fx4vi\" data-bucket=\"websearch\" data-ved=\"2ahUKEwjFnJ21mZ7xAhUaRzABHQ6bAJYQLnoECAEQTw\" href=\"#\" id=\"dk2qOd\" jsaction=\"trigger.YcfJ\" target=\"_blank\">Send feedback</a>, <a class=\"JWaTvb Fx4vi\" href=\"https://policies.google.com/privacy?hl=en&amp;fg=1\" onmousedown=\"return rwt(this,'','','','','AOvVaw25lN6TjyY2uszSImdhMejE','','2ahUKEwjFnJ21mZ7xAhUaRzABHQ6bAJYQ8awCegQIARBQ','','',event)\">Privacy</a>, <a class=\"JWaTvb Fx4vi\" href=\"https://policies.google.com/terms?hl=en&amp;fg=1\" onmousedown=\"return rwt(this,'','','','','AOvVaw2d8Ahs2oc0jxVOgPfpr4Fe','','2ahUKEwjFnJ21mZ7xAhUaRzABHQ6bAJYQ8qwCegQIARBR','','',event)\">Terms</a>]\n",
            "==================================================\n",
            "//////////////////////////// Songwriter, Producer : Butter BTS wiki\n"
          ],
          "name": "stdout"
        }
      ]
    },
    {
      "cell_type": "markdown",
      "metadata": {
        "id": "A7jHroYbDzAj"
      },
      "source": [
        "## 코드메이트님 "
      ]
    },
    {
      "cell_type": "code",
      "metadata": {
        "colab": {
          "base_uri": "https://localhost:8080/",
          "height": 130
        },
        "id": "67XF8-WdCWtd",
        "outputId": "e4c36969-15f1-487e-8b33-0965fc11667e"
      },
      "source": [
        "from selenium import webdriver\n",
        "\n",
        "chrome_options = webdriver.ChromeOptions()\n",
        "chrome_options.add_argument('--headless') #내부 창을 띄울 수 없으므로 설정\n",
        "chrome_options.add_argument('--no-sandbox')\n",
        "chrome_options.add_argument('--disable-dev-shm-usage')\n",
        "wd = webdriver.Chrome('chromedriver',chrome_options=chrome_options)\n",
        "\n",
        "\n",
        "import pandas as pd\n",
        "import time\n",
        "df = pd.read_csv('/content/drive/MyDrive/Colab Notebooks/hot_new100.csv')\n",
        "# time.sleep(2.5) ## 0.5초\n",
        "\n",
        "df[\"SongWriter\"] = \"None\"\n",
        "df['Producer'] = \"None\"\n",
        "for i in range(len(df)):\n",
        "    wd.get(\"https://google.com\")\n",
        "    song = df['Song Title'][i]\n",
        "    artist = df['Singer'][i]\n",
        "    keyword = str(song) + ' ' + str(artist) + ' wiki'\n",
        "\n",
        "    # driver.find_element_by_name(<element의 name>).send_keys(<검색어>) \n",
        "    element = wd.find_element_by_name('q')\n",
        "    element.send_keys(keyword)\n",
        "    element.submit()\n",
        "    # elem = wd.find_element_by_css_seletor('div.yuRUbf') \n",
        "    # elem.click()\n",
        "    html = wd.page_source\n",
        "    bs = BeautifulSoup(html, 'html.parser')\n",
        "    top_list = bs.find_all('a',href=True)\n",
        "    \n",
        "    for top in top_list:\n",
        "    #   print(top.attrs['href'])\n",
        "        if ( 'en.wikipedia' in top.text ):\n",
        "            html1 = top.attrs['href']\n",
        "            response = requests.get(html1)\n",
        "\n",
        "            if response.status_code == 200:\n",
        "                html1 = response.text\n",
        "                bs1 = BeautifulSoup(html1, 'html.parser')\n",
        "                top_list1 = bs1.select(\"#mw-content-text > div.mw-parser-output > table.infobox.vevent > tbody > tr\")\n",
        "\n",
        "            else : \n",
        "                print(response.status_code)            \n",
        "            break\n",
        "\n",
        "    for top in top_list1:\n",
        "        if \"Songwriter(s)\" in top.get_text():\n",
        "            # print(list(top.get_text().split(\"\\n\"))[1:-1])\n",
        "            df.iloc[i, 3]=(\" | \").join(list(top.get_text().split(\"\\n\"))[1:-1])\n",
        "        elif \"Producer(s)\" in top.get_text():\n",
        "            # print(list(top.get_text().split(\"\\n\"))[1:-1])\n",
        "            df.iloc[i, 4]=(\" | \").join(list(top.get_text().split(\"\\n\"))[1:-1])\n",
        "\n",
        "wd.quit()\n",
        "\n",
        "df.head()"
      ],
      "execution_count": null,
      "outputs": [
        {
          "output_type": "error",
          "ename": "SyntaxError",
          "evalue": "ignored",
          "traceback": [
            "\u001b[0;36m  File \u001b[0;32m\"<ipython-input-116-07ac5f8c664a>\"\u001b[0;36m, line \u001b[0;32m9\u001b[0m\n\u001b[0;31m    ​\u001b[0m\n\u001b[0m    ^\u001b[0m\n\u001b[0;31mSyntaxError\u001b[0m\u001b[0;31m:\u001b[0m invalid character in identifier\n"
          ]
        }
      ]
    },
    {
      "cell_type": "markdown",
      "metadata": {
        "id": "C0JqgHWkDu2b"
      },
      "source": [
        "## 파이널 정답"
      ]
    },
    {
      "cell_type": "code",
      "metadata": {
        "colab": {
          "base_uri": "https://localhost:8080/"
        },
        "id": "zEU491DqFfpC",
        "outputId": "10d6e979-0fda-4b5a-f665-01aa30cf01d0"
      },
      "source": [
        "from selenium import webdriver\n",
        "chrome_options = webdriver.ChromeOptions()\n",
        "chrome_options.add_argument('--headless') #내부 창을 띄울 수 없으므로 설정\n",
        "chrome_options.add_argument('--no-sandbox')\n",
        "chrome_options.add_argument('--disable-dev-shm-usage')\n",
        "wd = webdriver.Chrome('chromedriver',chrome_options=chrome_options)"
      ],
      "execution_count": null,
      "outputs": [
        {
          "output_type": "stream",
          "text": [
            "/usr/local/lib/python3.7/dist-packages/ipykernel_launcher.py:6: DeprecationWarning: use options instead of chrome_options\n",
            "  \n"
          ],
          "name": "stderr"
        }
      ]
    },
    {
      "cell_type": "code",
      "metadata": {
        "colab": {
          "base_uri": "https://localhost:8080/",
          "height": 1000
        },
        "id": "NntNNEEqDND-",
        "outputId": "0cd7dc5d-eafd-4d04-e058-92696a685566"
      },
      "source": [
        "import pandas as pd\n",
        "import time\n",
        "df = pd.read_csv('/content/drive/MyDrive/Colab Notebooks/hot_new100.csv')\n",
        "time.sleep(2.5) ## 0.5초\n",
        "wd.get(\"https://google.com\")\n",
        "print(wd.current_url)\n",
        "song = df['Song Title'][0]\n",
        "artist = df['Singer'][0]\n",
        "keyword = str(song) + ' ' + str(artist) + ' wiki'\n",
        "print(keyword)\n",
        "\n",
        "# driver.find_element_by_name(<element의 name>).send_keys(<검색어>) \n",
        "element = wd.find_element_by_name('q')\n",
        "element.send_keys(keyword)\n",
        "element.submit()\n",
        "print(wd.current_url)\n",
        "# elem = wd.find_element_by_css_seletor('div.yuRUbf') \n",
        "# elem.click()\n",
        "print(wd.current_url)\n",
        "print('-----------------')\n",
        "html = wd.page_source\n",
        "bs = BeautifulSoup(html, 'html.parser')\n",
        "print(bs.find_all('a'))\n",
        "top_list = bs.find_all('a',href=True)\n",
        "for top in top_list:\n",
        "   \n",
        "#   print(top.attrs['href'])\n",
        "    if( 'en.wikipedia' in top.text ):\n",
        "     \n",
        "        print('='*50)\n",
        "        html1 = top.attrs['href']\n",
        "\n",
        "        response = requests.get(html1)\n",
        "\n",
        "        if response.status_code == 200:\n",
        "            html1 = response.text\n",
        "            bs1 = BeautifulSoup(html1, 'html.parser')\n",
        "   \n",
        "\n",
        "        else : \n",
        "            print(response.status_code)\n",
        "        \n",
        "        break\n",
        "\n",
        "##### 위키 곡정보 페이지  #####\n",
        "    # writer,producer \n",
        "\n",
        "print(\"//////////////////////////// \" + \"노래명, 가수 : \" + keyword)\n",
        "\n",
        "\n",
        "top_list1 = bs1.find_all('tr')      #tr 태그만 가져와서\n",
        "\n",
        "\n",
        "for top in top_list1:\n",
        "\n",
        "    if \"Songwriter\" in top.text:\n",
        "        list1 = []\n",
        "        titles = top.select('li')       #리스트 가져와서\n",
        " \n",
        "        for title in titles:\n",
        "            #print('*****',title.text)\n",
        "            print(list1)\n",
        "            list1.append(title.text)\n",
        "           \n",
        "        df['SongWriter'][0] =    ','.join(list1)\n",
        "           \n",
        "    \n",
        "    if \"Producer\" in top.text:\n",
        "        list1 = []\n",
        "\n",
        "        titles = top.select('li')\n",
        "        for title in titles:\n",
        "            print(list1)\n",
        "            list1.append(title.text)\n",
        "        df['Producer'][0] =    ','.join(list1)\n",
        "\n",
        "df.head(10)\n",
        "wd.quit()\n"
      ],
      "execution_count": null,
      "outputs": [
        {
          "output_type": "stream",
          "text": [
            "https://www.google.com/\n",
            "Butter BTS wiki\n",
            "https://www.google.com/search?q=Butter+BTS+wiki&source=hp&ei=7AfLYMDhNYerwbkPu4-lsA0&iflsig=AINFCbYAAAAAYMsV_JCTI4tVLwzHzEjHiDV_6YQ12NKi\n",
            "https://www.google.com/search?q=Butter+BTS+wiki&source=hp&ei=7AfLYMDhNYerwbkPu4-lsA0&iflsig=AINFCbYAAAAAYMsV_JCTI4tVLwzHzEjHiDV_6YQ12NKi\n",
            "-----------------\n",
            "[<a href=\"/search?q=Butter+BTS+wiki&amp;gbv=1&amp;sei=7QfLYP60HaiMwbkPjd6G8AI\">here</a>, <a class=\"gyPpGe\" data-ved=\"0ahUKEwi-392NoJ7xAhUoRjABHQ2vAS4Q67oDCAU\" jsaction=\"i3viod\" jsname=\"BKxS1e\" role=\"link\" tabindex=\"0\">Skip to main content</a>, <a class=\"gyPpGe\" href=\"https://support.google.com/websearch/answer/181196?hl=en\" jsname=\"KI37ad\" onmousedown=\"return rwt(this,'','','','','AOvVaw3elFYWr3XjJhjNYthIzFcp','','0ahUKEwi-392NoJ7xAhUoRjABHQ2vAS4QwcMDCAY','','',event)\">Accessibility help</a>, <a class=\"gyPpGe\" data-async-trigger=\"duf3-78\" jsaction=\"trigger.szjOR\" jsname=\"JUypV\" role=\"link\" tabindex=\"0\">Accessibility feedback</a>, <a data-hveid=\"8\" href=\"https://www.google.com/webhp?hl=en&amp;sa=X&amp;ved=0ahUKEwi-392NoJ7xAhUoRjABHQ2vAS4QPAgI\" id=\"logo\" title=\"Go to Google Home\"><img alt=\"Google\" data-atf=\"1\" height=\"30\" src=\"/images/branding/googlelogo/2x/googlelogo_color_92x30dp.png\" width=\"92\"/></a>, <a class=\"oBa0Fe wrSo4 aciXEb\" data-async-trigger=\"duf3-46\" data-ved=\"0ahUKEwi-392NoJ7xAhUoRjABHQ2vAS4Qtw8IEA\" href=\"#\" id=\"sbfblt\" jsaction=\"trigger.szjOR\" role=\"button\">Report inappropriate predictions</a>, <a class=\"hide-focus-ring\" data-hveid=\"CAEQAw\" href=\"/search?q=Butter+BTS+wiki&amp;source=lnms&amp;tbm=shop&amp;sa=X&amp;ved=2ahUKEwi-392NoJ7xAhUoRjABHQ2vAS4Q_AUoAXoECAEQAw\"><span class=\"bmaJhd iJddsb\" style=\"height:16px;width:16px\"><svg focusable=\"false\" viewbox=\"0 0 24 24\"><path d=\"M21.11 2.89A3.02 3.02 0 0 0 18.95 2h-5.8c-.81 0-1.58.31-2.16.89L7.25 6.63 2.9 10.98a3.06 3.06 0 0 0 0 4.32l5.79 5.8a3.05 3.05 0 0 0 4.32.01l8.09-8.1c.58-.58.9-1.34.9-2.16v-5.8c0-.81-.32-1.59-.89-2.16zM20 10.85c0 .28-.12.54-.32.74l-3.73 3.74-4.36 4.36c-.41.41-1.08.41-1.49 0l-2.89-2.9-2.9-2.9a1.06 1.06 0 0 1 0-1.49l8.1-8.1c.2-.2.46-.3.74-.3l5.8-.01A1.05 1.05 0 0 1 20 5.05v5.8zM16 6c1.1 0 2 .9 2 2s-.9 2-2 2-2-.9-2-2 .9-2 2-2\"></path></svg></span>Shopping</a>, <a class=\"hide-focus-ring\" data-hveid=\"CAEQBA\" href=\"/search?q=Butter+BTS+wiki&amp;source=lnms&amp;tbm=nws&amp;sa=X&amp;ved=2ahUKEwi-392NoJ7xAhUoRjABHQ2vAS4Q_AUoAnoECAEQBA\"><span class=\"bmaJhd iJddsb\" style=\"height:16px;width:16px\"><svg focusable=\"false\" viewbox=\"0 0 24 24\"><path d=\"M12 11h6v2h-6v-2zm-6 6h12v-2H6v2zm0-4h4V7H6v6zm16-7.22v12.44c0 1.54-1.34 2.78-3 2.78H5c-1.64 0-3-1.25-3-2.78V5.78C2 4.26 3.36 3 5 3h14c1.64 0 3 1.25 3 2.78zM19.99 12V5.78c0-.42-.46-.78-1-.78H5c-.54 0-1 .36-1 .78v12.44c0 .42.46.78 1 .78h14c.54 0 1-.36 1-.78V12zM12 9h6V7h-6v2\"></path></svg></span>News</a>, <a class=\"hide-focus-ring\" data-hveid=\"CAEQBQ\" href=\"/search?q=Butter+BTS+wiki&amp;source=lnms&amp;tbm=vid&amp;sa=X&amp;ved=2ahUKEwi-392NoJ7xAhUoRjABHQ2vAS4Q_AUoA3oECAEQBQ\"><span class=\"bmaJhd iJddsb\" style=\"height:16px;width:16px\"><svg focusable=\"false\" viewbox=\"0 0 24 24\"><path d=\"M10 16.5l6-4.5-6-4.5v9zM5 20h14a1 1 0 0 0 1-1V5a1 1 0 0 0-1-1H5a1 1 0 0 0-1 1v14a1 1 0 0 0 1 1zm14.5 2H5a3 3 0 0 1-3-3V4.4A2.4 2.4 0 0 1 4.4 2h15.2A2.4 2.4 0 0 1 22 4.4v15.1a2.5 2.5 0 0 1-2.5 2.5\"></path></svg></span>Videos</a>, <a class=\"hide-focus-ring\" data-hveid=\"CAEQBg\" href=\"/search?q=Butter+BTS+wiki&amp;source=lnms&amp;tbm=isch&amp;sa=X&amp;ved=2ahUKEwi-392NoJ7xAhUoRjABHQ2vAS4Q_AUoBHoECAEQBg\"><span class=\"bmaJhd iJddsb\" style=\"height:16px;width:16px\"><svg focusable=\"false\" viewbox=\"0 0 24 24\"><path d=\"M14 13l4 5H6l4-4 1.79 1.78L14 13zm-6.01-2.99A2 2 0 0 0 8 6a2 2 0 0 0-.01 4.01zM22 5v14a3 3 0 0 1-3 2.99H5c-1.64 0-3-1.36-3-3V5c0-1.64 1.36-3 3-3h14c1.65 0 3 1.36 3 3zm-2.01 0a1 1 0 0 0-1-1H5a1 1 0 0 0-1 1v14a1 1 0 0 0 1 1h7v-.01h7a1 1 0 0 0 1-1V5\"></path></svg></span>Images</a>, <a aria-haspopup=\"true\" class=\"hide-focus-ring GOE98c CaY96\" href=\"/preferences\" id=\"abar_button_opt\" jsaction=\"WFrRFb;keydown:uYT2Vb\" onmousedown=\"return rwt(this,'','','','','AOvVaw0OF5nJgUk6CtyQZljEZa3L','','2ahUKEwi-392NoJ7xAhUoRjABHQ2vAS4Qn_YBegQIARAP','','',event)\" role=\"button\">Settings</a>, <a data-ved=\"2ahUKEwi-392NoJ7xAhUoRjABHQ2vAS4QFjAAegQIBRAD\" href=\"https://en.wikipedia.org/wiki/Butter_(song)\" onmousedown=\"return rwt(this,'','','','','AOvVaw0NonK0sb_CN231SzrHWjb7','','2ahUKEwi-392NoJ7xAhUoRjABHQ2vAS4QFjAAegQIBRAD','','',event)\"><br/><h3 class=\"LC20lb DKV0Md\">Butter (song) - Wikipedia</h3><div class=\"TbwUpd NJjxre\"><cite class=\"iUh30 Zu0yb qLRx3b tjvcx\">https://en.wikipedia.org<span class=\"dyjrff qzEoUe\"> › wiki › Butter_(song)</span></cite></div></a>, <a href=\"https://en.wikipedia.org/wiki/Jenna_Andrews\" onmousedown=\"return rwt(this,'','','','','AOvVaw2EtJzzac0Aeu4nJ2D7JJZM','','2ahUKEwi-392NoJ7xAhUoRjABHQ2vAS4Qs2YoADAAegQIBRAS','','',event)\">Jenna Andrews</a>, <a href=\"https://en.wikipedia.org/wiki/Dance-pop\" onmousedown=\"return rwt(this,'','','','','AOvVaw0dxrgmowGCki4q2SRytLky','','2ahUKEwi-392NoJ7xAhUoRjABHQ2vAS4Qs2YoADAAegQIBRAV','','',event)\">Dance-pop</a>, <a href=\"https://en.wikipedia.org/wiki/Electronic_dance_music\" onmousedown=\"return rwt(this,'','','','','AOvVaw1C-73uaAbgMTS4ffBTBN92','','2ahUKEwi-392NoJ7xAhUoRjABHQ2vAS4Qs2YoATAAegQIBRAW','','',event)\">EDM</a>, <a href=\"https://en.wikipedia.org/wiki/Butter_(song)#Composition_and_lyrics\" onmousedown=\"return rwt(this,'','','','','AOvVaw0NonK0sb_CN231SzrHWjb7','','2ahUKEwi-392NoJ7xAhUoRjABHQ2vAS4Q0gIoAHoECAQQAQ','','',event)\">Composition and lyrics</a>, <a href=\"https://en.wikipedia.org/wiki/Butter_(song)#Music_video\" onmousedown=\"return rwt(this,'','','','','AOvVaw0NonK0sb_CN231SzrHWjb7','','2ahUKEwi-392NoJ7xAhUoRjABHQ2vAS4Q0gIoAXoECAQQAg','','',event)\">Music video</a>, <a href=\"https://en.wikipedia.org/wiki/Butter_(song)#Commercial_performance\" onmousedown=\"return rwt(this,'','','','','AOvVaw0NonK0sb_CN231SzrHWjb7','','2ahUKEwi-392NoJ7xAhUoRjABHQ2vAS4Q0gIoAnoECAQQAw','','',event)\">Commercial performance</a>, <a href=\"https://en.wikipedia.org/wiki/Butter_(song)#Live_performances\" onmousedown=\"return rwt(this,'','','','','AOvVaw0NonK0sb_CN231SzrHWjb7','','2ahUKEwi-392NoJ7xAhUoRjABHQ2vAS4Q0gIoA3oECAQQBA','','',event)\">Live performances</a>, <a data-ved=\"2ahUKEwi-392NoJ7xAhUoRjABHQ2vAS4QFjABegQIAxAE\" href=\"https://en.wikipedia.org/wiki/BTS\" onmousedown=\"return rwt(this,'','','','','AOvVaw3o2sgk99LEIQfYOrkPkbcB','','2ahUKEwi-392NoJ7xAhUoRjABHQ2vAS4QFjABegQIAxAE','','',event)\"><br/><h3 class=\"LC20lb DKV0Md\">BTS - Wikipedia</h3><div class=\"TbwUpd NJjxre\"><cite class=\"iUh30 Zu0yb qLRx3b tjvcx\">https://en.wikipedia.org<span class=\"dyjrff qzEoUe\"> › wiki › BTS</span></cite></div></a>, <a href=\"https://en.wikipedia.org/wiki/BTS_singles_discography\" onmousedown=\"return rwt(this,'','','','','AOvVaw1Cl5VjiWsjFxA_RY5BDWlA','','2ahUKEwi-392NoJ7xAhUoRjABHQ2vAS4Q0gIoAHoECAIQAQ','','',event)\">BTS singles discography</a>, <a href=\"https://en.wikipedia.org/wiki/Be_(BTS_album)\" onmousedown=\"return rwt(this,'','','','','AOvVaw1G2tfk9jwnMrSOc8k9x1xw','','2ahUKEwi-392NoJ7xAhUoRjABHQ2vAS4Q0gIoAXoECAIQAg','','',event)\">BTS album</a>, <a href=\"https://en.wikipedia.org/wiki/Dynamite_(BTS_song)\" onmousedown=\"return rwt(this,'','','','','AOvVaw15qzK9DGDUPiXZy0AhQ8ce','','2ahUKEwi-392NoJ7xAhUoRjABHQ2vAS4Q0gIoAnoECAIQAw','','',event)\">Dynamite (BTS song)</a>, <a href=\"https://en.wikipedia.org/wiki/BTS_videography\" onmousedown=\"return rwt(this,'','','','','AOvVaw0pWZOsqLZig2bX5MLrH79W','','2ahUKEwi-392NoJ7xAhUoRjABHQ2vAS4Q0gIoA3oECAIQBA','','',event)\">BTS videography</a>, <a data-ved=\"2ahUKEwi-392NoJ7xAhUoRjABHQ2vAS4QFjACegQIJRAE\" href=\"https://bts.fandom.com/wiki/Butter\" onmousedown=\"return rwt(this,'','','','','AOvVaw1fZjwgcpcjA76so7eRwxJo','','2ahUKEwi-392NoJ7xAhUoRjABHQ2vAS4QFjACegQIJRAE','','',event)\"><br/><h3 class=\"LC20lb DKV0Md\">Butter | BTS Wiki | Fandom</h3><div class=\"TbwUpd NJjxre\"><cite class=\"iUh30 Zu0yb qLRx3b tjvcx\">https://bts.fandom.com<span class=\"dyjrff qzEoUe\"> › wiki › Butter</span></cite></div></a>, <a href=\"https://bts.fandom.com/wiki/Butter#Tracklist\" onmousedown=\"return rwt(this,'','','','','AOvVaw1fZjwgcpcjA76so7eRwxJo','','2ahUKEwi-392NoJ7xAhUoRjABHQ2vAS4Q0gIoAHoECCQQAQ','','',event)\">Tracklist</a>, <a href=\"https://bts.fandom.com/wiki/Butter#Lyrics\" onmousedown=\"return rwt(this,'','','','','AOvVaw1fZjwgcpcjA76so7eRwxJo','','2ahUKEwi-392NoJ7xAhUoRjABHQ2vAS4Q0gIoAXoECCQQAg','','',event)\">Lyrics</a>, <a href=\"https://bts.fandom.com/wiki/Butter#Awards_and_Nominations\" onmousedown=\"return rwt(this,'','','','','AOvVaw1fZjwgcpcjA76so7eRwxJo','','2ahUKEwi-392NoJ7xAhUoRjABHQ2vAS4Q0gIoAnoECCQQAw','','',event)\">Awards and Nominations</a>, <a data-ved=\"2ahUKEwi-392NoJ7xAhUoRjABHQ2vAS4QFjADegQICBAE\" href=\"https://bts.fandom.com/wiki/Butter_(Single_album)\" onmousedown=\"return rwt(this,'','','','','AOvVaw38yOx_I02IZ2oFMUo_Pe-2','','2ahUKEwi-392NoJ7xAhUoRjABHQ2vAS4QFjADegQICBAE','','',event)\"><br/><h3 class=\"LC20lb DKV0Md\">Butter | BTS Wiki | Fandom</h3><div class=\"TbwUpd NJjxre\"><cite class=\"iUh30 Zu0yb qLRx3b tjvcx\">https://bts.fandom.com<span class=\"dyjrff qzEoUe\"> › wiki › Butter_(Single_album)</span></cite></div></a>, <a class=\"oBa0Fe wrSo4\" data-async-trigger=\"duf3-44-4\" data-ved=\"2ahUKEwi-392NoJ7xAhUoRjABHQ2vAS4Qtw96BAgaEBo\" href=\"#\" jsaction=\"trigger.szjOR\" role=\"button\">Feedback</a>, <a data-ved=\"2ahUKEwi-392NoJ7xAhUoRjABHQ2vAS4QFjAOegQIGBAD\" href=\"https://variety.com/2021/music/news/bts-butter-columbia-records-ron-perry-songwriter-producer-1234977890/\" onmousedown=\"return rwt(this,'','','','','AOvVaw1x2HUXTVnRxTvhqjJ0todY','','2ahUKEwi-392NoJ7xAhUoRjABHQ2vAS4QFjAOegQIGBAD','','',event)\"><br/><h3 class=\"LC20lb DKV0Md\">BTS' 'Butter' Was Co-Written by Columbia Records Chairman ...</h3><div class=\"TbwUpd NJjxre\"><cite class=\"iUh30 Zu0yb qLRx3b tjvcx\">https://variety.com<span class=\"dyjrff qzEoUe\"> › music › news › bts-butter-columbi...</span></cite></div></a>, <a data-ved=\"2ahUKEwi-392NoJ7xAhUoRjABHQ2vAS4QFjAPegQIEhAE\" href=\"https://www.bts-butter.com/\" onmousedown=\"return rwt(this,'','','','','AOvVaw1wlcYArAjUX2dNvx8ZGceX','','2ahUKEwi-392NoJ7xAhUoRjABHQ2vAS4QFjAPegQIEhAE','','',event)\"><br/><h3 class=\"LC20lb DKV0Md\">BTS Butter</h3><div class=\"TbwUpd NJjxre\"><cite class=\"iUh30 Zu0yb tjvcx\">https://www.bts-butter.com</cite></div></a>, <a data-ved=\"2ahUKEwi-392NoJ7xAhUoRjABHQ2vAS4QFjAQegQIFhAE\" href=\"https://bhutanforyou.com/jjagxug/butter-bts-wiki\" onmousedown=\"return rwt(this,'','','','','AOvVaw3Kw_4LblSa2Fp7OmKrvBH5','','2ahUKEwi-392NoJ7xAhUoRjABHQ2vAS4QFjAQegQIFhAE','','',event)\"><br/><h3 class=\"LC20lb DKV0Md\">butter bts wiki - BhutanForYou.com</h3><div class=\"TbwUpd NJjxre\"><cite class=\"iUh30 Zu0yb qLRx3b tjvcx\">https://bhutanforyou.com<span class=\"dyjrff qzEoUe\"> › Nature › butter bts wiki</span></cite></div></a>, <a data-ved=\"2ahUKEwi-392NoJ7xAhUoRjABHQ2vAS4QFjARegQIJhAD\" href=\"https://ibighit.com/bts/eng/discography/\" onmousedown=\"return rwt(this,'','','','','AOvVaw0ScIuOz0IIdzEtjcooQkam','','2ahUKEwi-392NoJ7xAhUoRjABHQ2vAS4QFjARegQIJhAD','','',event)\"><br/><h3 class=\"LC20lb DKV0Md\">DISCOGRAPHY | BTS | Big Hit Entertainment</h3><div class=\"TbwUpd NJjxre\"><cite class=\"iUh30 Zu0yb qLRx3b tjvcx\">https://ibighit.com<span class=\"dyjrff qzEoUe\"> › bts › eng › discography</span></cite></div></a>, <a class=\"FHH8Re\" href=\"https://ibighit.com/bts/eng/discography/\" onmousedown=\"return rwt(this,'','','','','AOvVaw0ScIuOz0IIdzEtjcooQkam','','2ahUKEwi-392NoJ7xAhUoRjABHQ2vAS4Q2vEDMBF6BAgmEBA','','',event)\">View full list</a>, <a data-ved=\"2ahUKEwi-392NoJ7xAhUoRjABHQ2vAS4QFjASegQIBhAE\" href=\"https://roerinternational.com/pkwzk/bts-song-with-most-english-lyrics\" onmousedown=\"return rwt(this,'','','','','AOvVaw2kUF96z_yn47f9Zi6Fql_t','','2ahUKEwi-392NoJ7xAhUoRjABHQ2vAS4QFjASegQIBhAE','','',event)\"><br/><h3 class=\"LC20lb DKV0Md\">bts song with most english lyrics - Roer International</h3><div class=\"TbwUpd NJjxre\"><cite class=\"iUh30 Zu0yb qLRx3b tjvcx\">https://roerinternational.com<span class=\"dyjrff qzEoUe\"> › pkwzk › bts-song-with-...</span></cite></div></a>, <a data-ved=\"2ahUKEwi-392NoJ7xAhUoRjABHQ2vAS4QFjATegQIBxAE\" href=\"https://hendersonjubilee.com/xqtj/bts-butter-producer\" onmousedown=\"return rwt(this,'','','','','AOvVaw2UuWja_UlQoUssP0V1w6m7','','2ahUKEwi-392NoJ7xAhUoRjABHQ2vAS4QFjATegQIBxAE','','',event)\"><br/><h3 class=\"LC20lb DKV0Md\">bts butter producer</h3><div class=\"TbwUpd NJjxre\"><cite class=\"iUh30 Zu0yb qLRx3b tjvcx\">https://hendersonjubilee.com<span class=\"dyjrff qzEoUe\"> › xqtj › bts-butter-producer</span></cite></div></a>, <a data-ved=\"2ahUKEwi-392NoJ7xAhUoRjABHQ2vAS4QxA0wFHoECAoQAw\" href=\"/search?q=Kim+Seok-jin&amp;stick=H4sIAAAAAAAAAOOQUeLSz9U3qEoyMc-uNOJMKilWKM7PSy-O4ncqLSlJLVJwCglWKM_MzjzFyKufrm9omJ1nmV5uWhUP4-dkF1VaGuWkwPhp2cWGBfHxJXD59Aqz-JT4Yri8cZFZRZ4FQr2ZUYFpbnE5nG-ZXmVuVmwJ42dUVJrnWKYYwfjJhoUGJUAlMH5KRZaBhWFxyi9GTpBTwY5fxMrjnZmrEJyan62blZl3i02SQWtqFdejqOpV3BraW0TnTzm7R-1zN-uWxMMAE2SQEgEBAAA&amp;sa=X&amp;ved=2ahUKEwi-392NoJ7xAhUoRjABHQ2vAS4QxA0wFHoECAoQAw\" title=\"Jin\"><div class=\"XQ6p1d\"><g-img class=\"BA0A6c\" style=\"position:relative\"><img alt=\"Jin\" class=\"rISBZc M4dUYb\" data-atf=\"4\" data-deferred=\"1\" height=\"82\" id=\"dimg_33\" src=\"data:image/gif;base64,R0lGODlhAQABAIAAAP///////yH5BAEKAAEALAAAAAABAAEAAAICTAEAOw==\" style=\"border-radius:8px 8px 8px 8px\" width=\"82\"/><div class=\"fWhgmd\" style=\"border-radius:8px 8px 8px 8px\"></div></g-img></div><div class=\"fl ellip oBrLN S1gFKb rOVRL\" data-original-name=\"Jin\">Jin</div></a>, <a data-ved=\"2ahUKEwi-392NoJ7xAhUoRjABHQ2vAS4QxA0wFHoECAoQBQ\" href=\"/search?q=Kim+Taehyung&amp;stick=H4sIAAAAAAAAAOOQUeLSz9U3qEoyMa-oMuJMKilWKM7PSy-O4ncqLSlJLVJwCglWKM_MzjzFyKufrm9omJ1nmV5uWhUP4-dkF1VaGuWkwPhp2cWGBfHxJXD59Aqz-JT4Yri8cZFZRZ4FQr2ZUYFpbnE5nG-ZXmVuVmwJ42dUVJrnWKYYwfjJhoUGJUAlMH5KRZaBhWFxyi9GTpBTwY5fxMrjnZmrEJKYmlFZmpd-i02SQWtqFdejqOpV3BraW0TnTzm7R-1zN-uWxMMA1FzDewEBAAA&amp;sa=X&amp;ved=2ahUKEwi-392NoJ7xAhUoRjABHQ2vAS4QxA0wFHoECAoQBQ\" title=\"V\"><div class=\"XQ6p1d\"><g-img class=\"BA0A6c\" style=\"position:relative\"><img alt=\"V\" class=\"rISBZc M4dUYb\" data-atf=\"4\" data-deferred=\"1\" height=\"82\" id=\"dimg_35\" src=\"data:image/gif;base64,R0lGODlhAQABAIAAAP///////yH5BAEKAAEALAAAAAABAAEAAAICTAEAOw==\" style=\"border-radius:8px 8px 8px 8px\" width=\"82\"/><div class=\"fWhgmd\" style=\"border-radius:8px 8px 8px 8px\"></div></g-img></div><div class=\"fl ellip oBrLN S1gFKb rOVRL\" data-original-name=\"V\">V</div></a>, <a data-ved=\"2ahUKEwi-392NoJ7xAhUoRjABHQ2vAS4QxA0wFHoECAoQBw\" href=\"/search?q=Jungkook&amp;stick=H4sIAAAAAAAAAOOQUeLVT9c3NEwyNzMxMjctMOJMKilWKM7PSy-O4ncqLSlJLVJwCglWKM_MzjzFCFGbnWeZXm5aFQ_j52QXVVoa5aTA-GnZxYYF8fElcPn0CrP4lPhiuLxxkVlFngVCvZlRgWlucTmcb5leZW5WbAnjZ1RUmudYphjB-MmGhQYlQCUwfkpFloGFYXHKL0ZOkFPBjl_EyuFVmpeenZ-ffYtNkkFrahXXo6jqVdwa2ltE5085u0ftczfrlsTDACN88FQAAQAA&amp;sa=X&amp;ved=2ahUKEwi-392NoJ7xAhUoRjABHQ2vAS4QxA0wFHoECAoQBw\" title=\"Jungkook\"><div class=\"XQ6p1d\"><g-img class=\"BA0A6c\" style=\"position:relative\"><img alt=\"Jungkook\" class=\"rISBZc M4dUYb\" data-atf=\"4\" data-deferred=\"1\" height=\"82\" id=\"dimg_42\" src=\"data:image/gif;base64,R0lGODlhAQABAIAAAP///////yH5BAEKAAEALAAAAAABAAEAAAICTAEAOw==\" style=\"border-radius:8px 8px 8px 8px\" width=\"82\"/><div class=\"fWhgmd\" style=\"border-radius:8px 8px 8px 8px\"></div></g-img></div><div class=\"fl ellip oBrLN S1gFKb rOVRL\" data-original-name=\"Jungkook\">Jungkook</div></a>, <a data-ved=\"2ahUKEwi-392NoJ7xAhUoRjABHQ2vAS4QxA0wFHoECAoQCQ\" href=\"/search?q=Kim+Namjoon&amp;stick=H4sIAAAAAAAAAOOQUeLSz9U3qEoyMS-wMOJMKilWKM7PSy-O4ncqLSlJLVJwCglWKM_MzjzFyKufrm9omJ1nmV5uWhUP4-dkF1VaGuWkwPhp2cWGBfHxJXD59Aqz-JT4Yri8cZFZRZ4FQr2ZUYFpbnE5nG-ZXmVuVmwJ42dUVJrnWKYYwfjJhoUGJUAlMH5KRZaBhWFxyi9GTpBTwY5fxMrtnZmr4JeYm5Wfn3eLTZJBa2oV16Oo6lXcGtpbROdPObtH7XM365bEwwBydGlTAAEAAA&amp;sa=X&amp;ved=2ahUKEwi-392NoJ7xAhUoRjABHQ2vAS4QxA0wFHoECAoQCQ\" title=\"RM\"><div class=\"XQ6p1d\"><g-img class=\"BA0A6c\" style=\"position:relative\"><img alt=\"RM\" class=\"rISBZc M4dUYb\" data-atf=\"4\" data-deferred=\"1\" height=\"82\" id=\"dimg_46\" src=\"data:image/gif;base64,R0lGODlhAQABAIAAAP///////yH5BAEKAAEALAAAAAABAAEAAAICTAEAOw==\" style=\"border-radius:8px 8px 8px 8px\" width=\"82\"/><div class=\"fWhgmd\" style=\"border-radius:8px 8px 8px 8px\"></div></g-img></div><div class=\"fl ellip oBrLN S1gFKb rOVRL\" data-original-name=\"RM\">RM</div></a>, <a data-ved=\"2ahUKEwi-392NoJ7xAhUoRjABHQ2vAS4QxA0wFHoECAoQCw\" href=\"/search?q=Jimin&amp;stick=H4sIAAAAAAAAAOOQUeLSz9U3qEoyMS_KM-JMKilWKM7PSy-O4ncqLSlJLVJwCglWKM_MzjzFyKufrm9omJ1nmV5uWhUP4-dkF1VaGuWkwPhp2cWGBfHxJXD59Aqz-JT4Yri8cZFZRZ4FQr2ZUYFpbnE5nG-ZXmVuVmwJ42dUVJrnWKYYwfjJhoUGJUAlMH5KRZaBhWFxyi9GTpBTwY5fxMrqlZmbmXeLTZJBa2oV16Oo6lXcGtpbROdPObtH7XM365bEwwAHCyJU-gAAAA&amp;sa=X&amp;ved=2ahUKEwi-392NoJ7xAhUoRjABHQ2vAS4QxA0wFHoECAoQCw\" title=\"Jimin\"><div class=\"XQ6p1d\"><g-img class=\"BA0A6c\" style=\"position:relative\"><img alt=\"Jimin\" class=\"rISBZc M4dUYb\" data-atf=\"4\" data-deferred=\"1\" height=\"82\" id=\"dimg_50\" src=\"data:image/gif;base64,R0lGODlhAQABAIAAAP///////yH5BAEKAAEALAAAAAABAAEAAAICTAEAOw==\" style=\"border-radius:8px 8px 8px 8px\" width=\"82\"/><div class=\"fWhgmd\" style=\"border-radius:8px 8px 8px 8px\"></div></g-img></div><div class=\"fl ellip oBrLN S1gFKb rOVRL\" data-original-name=\"Jimin\">Jimin</div></a>, <a data-ved=\"2ahUKEwi-392NoJ7xAhUoRjABHQ2vAS4QxA0wFHoECAoQDQ\" href=\"/search?q=Min+Yoongi&amp;stick=H4sIAAAAAAAAAOOQUeLSz9U3qEoyMc8pMOJMKilWKM7PSy-O4ncqLSlJLVJwCglWKM_MzjzFyKufrm9omJ1nmV5uWhUP4-dkF1VaGuWkwPhp2cWGBfHxJXD59Aqz-JT4Yri8cZFZRZ4FQr2ZUYFpbnE5nG-ZXmVuVmwJ42dUVJrnWKYYwfjJhoUGJUAlMH5KRZaBhWFxyi9GTpBTwY5fxMrlm5mnEJkP5GTeYpNk0JpaxfUoqnoVt4b2FtH5U87uUfvczbol8TAAlQP5sv8AAAA&amp;sa=X&amp;ved=2ahUKEwi-392NoJ7xAhUoRjABHQ2vAS4QxA0wFHoECAoQDQ\" title=\"Suga\"><div class=\"XQ6p1d\"><g-img class=\"BA0A6c\" style=\"position:relative\"><img alt=\"Suga\" class=\"rISBZc M4dUYb\" data-atf=\"4\" data-deferred=\"1\" height=\"82\" id=\"dimg_54\" src=\"data:image/gif;base64,R0lGODlhAQABAIAAAP///////yH5BAEKAAEALAAAAAABAAEAAAICTAEAOw==\" style=\"border-radius:8px 8px 8px 8px\" width=\"82\"/><div class=\"fWhgmd\" style=\"border-radius:8px 8px 8px 8px\"></div></g-img></div><div class=\"fl ellip oBrLN S1gFKb rOVRL\" data-original-name=\"Suga\">Suga</div></a>, <a data-ved=\"2ahUKEwi-392NoJ7xAhUoRjABHQ2vAS4QxA0wFHoECAoQDw\" href=\"/search?q=Jung+Hoseok&amp;stick=H4sIAAAAAAAAAOOQUeLSz9U3qDSpzC0zMOJMKilWKM7PSy-O4ncqLSlJLVJwCglWKM_MzjzFyKufrm9omJ1nmV5uWhUP4-dkF1VaGuWkwPhp2cWGBfHxJXD59Aqz-JT4Yri8cZFZRZ4FQr2ZUYFpbnE5nG-ZXmVuVmwJ42dUVJrnWKYYwfjJhoUGJUAlMH5KRZaBhWFxyi9GTpBTwY5fxMrtVZqXruCRX5yan32LTZJBa2oV16Oo6lXcGtpbROdPObtH7XM365bEwwC3Y2xxAAEAAA&amp;sa=X&amp;ved=2ahUKEwi-392NoJ7xAhUoRjABHQ2vAS4QxA0wFHoECAoQDw\" title=\"J-Hope\"><div class=\"XQ6p1d\"><g-img class=\"BA0A6c\" style=\"position:relative\"><img alt=\"J-Hope\" class=\"rISBZc M4dUYb\" data-atf=\"4\" data-deferred=\"1\" height=\"82\" id=\"dimg_58\" src=\"data:image/gif;base64,R0lGODlhAQABAIAAAP///////yH5BAEKAAEALAAAAAABAAEAAAICTAEAOw==\" style=\"border-radius:8px 8px 8px 8px\" width=\"82\"/><div class=\"fWhgmd\" style=\"border-radius:8px 8px 8px 8px\"></div></g-img></div><div class=\"fl ellip oBrLN S1gFKb rOVRL\" data-original-name=\"J‑Hope\">J‑Hope</div></a>, <a class=\"EbH0bb\" href=\"/search?q=Butter+BTS+wiki&amp;stick=H4sIAAAAAAAAAOOQMeJMKilWKM7PSy-O4ncqLSlJLVJwCglWKM_MzjzFyKufrm9omJ1nmV5uWhUP4-dkF1VaGuWkwPhp2cWGBfHxJXD59Aqz-JT4Yri8cZFZRZ4FQr2ZUYFpbnE5nG-ZXmVuVmwJ42dUVJrnWKYYwfjJhoUGJUAlMH5KRZaBhWFxyi9GTpBTwY5fxIru-ltskgxaU6u4HkVVr-LW0N4iOn_K2T1qn7tZtyQeBgDrjVw9-AAAAA&amp;sa=X&amp;ved=2ahUKEwi-392NoJ7xAhUoRjABHQ2vAS4QzTooADAVegQICxAB\"><span class=\"rhsg3\">View 3+ more</span></a>, <a data-ved=\"2ahUKEwi-392NoJ7xAhUoRjABHQ2vAS4QxA0wFXoECAsQBA\" href=\"/search?q=BTS+Dynamite&amp;stick=H4sIAAAAAAAAAOOQUeLVT9c3NMzOs0wvN62KN-JMKilWKM7PSy-O4ncqLSlJLVJwCglWKM_MzjzFiKoWxs_JLqq0NMpJgfHTsosNC-LjS-Dy6RVm8SnxxXB54yKzijwLhHozowLT3OJyON8yvcrcrNgSxs-oqDTPsUwxgvGTDQsNSoBKYPyUiiwDC8PilF-MnCCngh2_iJUHxHapzEvMzSxJvcUmyaA1tYrrUVT1Km4N7S2i86ec3aP2uZt1S-JhAHcelDYEAQAA&amp;sa=X&amp;ved=2ahUKEwi-392NoJ7xAhUoRjABHQ2vAS4QxA0wFXoECAsQBA\" title=\"Dynamite\"><div class=\"XQ6p1d\"><g-img class=\"BA0A6c\" style=\"position:relative\"><img alt=\"Dynamite\" class=\"rISBZc M4dUYb\" data-atf=\"4\" data-deferred=\"1\" height=\"82\" id=\"dimg_39\" src=\"data:image/gif;base64,R0lGODlhAQABAIAAAP///////yH5BAEKAAEALAAAAAABAAEAAAICTAEAOw==\" style=\"border-radius:8px 8px 8px 8px\" width=\"82\"/><div class=\"fWhgmd\" style=\"border-radius:8px 8px 8px 8px\"></div></g-img></div><div class=\"fl ellip oBrLN S1gFKb rOVRL\" data-original-name=\"Dynamite\">Dynamite</div></a>, <a data-ved=\"2ahUKEwi-392NoJ7xAhUoRjABHQ2vAS4QxA0wFXoECAsQBg\" href=\"/search?q=BTS+ARMY%F0%9F%92%9C&amp;stick=H4sIAAAAAAAAAOOQUeLVT9c3NMzJLqq0NMpJMeJMKilWKM7PSy-O4ncqLSlJLVJwCglWKM_MzjzFCFGbnWeZXm5aFQ_jw_TC-GnZxYYF8fElcPn0CrP4lPhiuLxxkVlFngVCvZlRgWlucTmcb5leZW5WbAnjZ1RUmudYphjB-MmGhQYlQCUwfkpFloGFYXHKL0ZOkFPBjl_EygNiOwb5Rn6YP2nOLTZJBq2pVVyPoqpXcWtobxGdP-XsHrXP3axbEg8DAEbLytAEAQAA&amp;sa=X&amp;ved=2ahUKEwi-392NoJ7xAhUoRjABHQ2vAS4QxA0wFXoECAsQBg\" title=\"ARMY💜\"><div class=\"XQ6p1d\"><g-img class=\"BA0A6c\" style=\"position:relative\"><img alt=\"ARMY💜\" class=\"rISBZc M4dUYb\" data-atf=\"4\" data-deferred=\"1\" height=\"82\" id=\"dimg_44\" src=\"data:image/gif;base64,R0lGODlhAQABAIAAAP///////yH5BAEKAAEALAAAAAABAAEAAAICTAEAOw==\" style=\"border-radius:8px 8px 8px 8px\" width=\"82\"/><div class=\"fWhgmd\" style=\"border-radius:8px 8px 8px 8px\"></div></g-img></div><div class=\"fl ellip oBrLN S1gFKb rOVRL\" data-original-name=\"ARMY💜\">ARMY💜</div></a>, <a data-ved=\"2ahUKEwi-392NoJ7xAhUoRjABHQ2vAS4QxA0wFXoECAsQCA\" href=\"/search?q=BTS+Boy+With+Luv&amp;stick=H4sIAAAAAAAAAOOQUeLVT9c3NEzLLjYsiI8vMeJMKilWKM7PSy-O4ncqLSlJLVJwCglWKM_MzjzFCFGbnWeZXm5aFQ_j52QXVVoa5aTA-DCz4PLpFWbxKfHFcHnjIrOKPAuEejOjAtPc4nI43zK9ytys2BLGz6ioNM-xTDGC8ZMNCw1KgEpg_JSKLAMLw-KUX4ycIKeCHb-IVQDEdsqvVAjPLMlQ8Cktu8UmyaA1tYrrUVT1Km4N7S2i86ec3aP2uZt1S-JhAGUW72IIAQAA&amp;sa=X&amp;ved=2ahUKEwi-392NoJ7xAhUoRjABHQ2vAS4QxA0wFXoECAsQCA\" title=\"Boy With Luv\"><div class=\"XQ6p1d\"><g-img class=\"BA0A6c\" style=\"position:relative\"><img alt=\"Boy With Luv\" class=\"rISBZc M4dUYb\" data-atf=\"4\" data-deferred=\"1\" height=\"82\" id=\"dimg_48\" src=\"data:image/gif;base64,R0lGODlhAQABAIAAAP///////yH5BAEKAAEALAAAAAABAAEAAAICTAEAOw==\" style=\"border-radius:8px 8px 8px 8px\" width=\"82\"/><div class=\"fWhgmd\" style=\"border-radius:8px 8px 8px 8px\"></div></g-img></div><div class=\"fl ellip oBrLN S1gFKb rOVRL\" data-original-name=\"Boy With Luv\">Boy With Luv</div></a>, <a data-ved=\"2ahUKEwi-392NoJ7xAhUoRjABHQ2vAS4QxA0wFXoECAsQCg\" href=\"/search?q=BTS+Life+Goes+On&amp;stick=H4sIAAAAAAAAAOOQUeLVT9c3NMxJrzCLT4kvNuJMKilWKM7PSy-O4ncqLSlJLVJwCglWKM_MzjzFCFGbnWeZXm5aFQ_j52QXVVoa5aTA-GnZxYYF8fElcHmo2XB54yKzijwLhHozowLT3OJyON8yvcrcrNgSxs-oqDTPsUwxgvGTDQsNSoBKYPyUiiwDC8PilF-MnCCngh2_iFUAxPbJTEtVcM9PLVbwz7vFJsmgNbWK61FU9SpuDe0tovOnnN2j9rmbdUviYQAHMjj_CAEAAA&amp;sa=X&amp;ved=2ahUKEwi-392NoJ7xAhUoRjABHQ2vAS4QxA0wFXoECAsQCg\" title=\"Life Goes On\"><div class=\"XQ6p1d\"><g-img class=\"BA0A6c\" style=\"position:relative\"><img alt=\"Life Goes On\" class=\"rISBZc M4dUYb\" data-atf=\"4\" data-deferred=\"1\" height=\"82\" id=\"dimg_52\" src=\"data:image/gif;base64,R0lGODlhAQABAIAAAP///////yH5BAEKAAEALAAAAAABAAEAAAICTAEAOw==\" style=\"border-radius:8px 8px 8px 8px\" width=\"82\"/><div class=\"fWhgmd\" style=\"border-radius:8px 8px 8px 8px\"></div></g-img></div><div class=\"fl ellip oBrLN S1gFKb rOVRL\" data-original-name=\"Life Goes On\">Life Goes On</div></a>, <a data-ved=\"2ahUKEwi-392NoJ7xAhUoRjABHQ2vAS4QxA0wFXoECAsQDA\" href=\"/search?q=BTS+MIC+Drop+-+Japanese+Version&amp;stick=H4sIAAAAAAAAAOOQUeLVT9c3NEwzLjKryLNIMeJMKilWKM7PSy-O4ncqLSlJLVJwCglWKM_MzjzFCFGbnWeZXm5aFQ_j52QXVVoa5aTA-GnZxYYF8fElcPn0CrP4lPhiuDzULjjfzKjANLe4HM63TK8yNyu2hPEzKirNcyxTjGD8ZMNCgxKgEhg_pSLLwMKwOOUXIyfIqWDHL2KVB7F9PZ0VXIryCxR0FbwSCxLzUotTFcJSi4oz8_NusUkyaE2t4noUVb2KW0N7i-j8KWf3qH3uZt2SeBgAERqjDxcBAAA&amp;sa=X&amp;ved=2ahUKEwi-392NoJ7xAhUoRjABHQ2vAS4QxA0wFXoECAsQDA\" title=\"MIC Drop - Japanese Version\"><div class=\"XQ6p1d\"><g-img class=\"BA0A6c\" style=\"position:relative\"><img alt=\"MIC Drop - Japanese Version\" class=\"rISBZc M4dUYb\" data-atf=\"4\" data-deferred=\"1\" height=\"82\" id=\"dimg_56\" src=\"data:image/gif;base64,R0lGODlhAQABAIAAAP///////yH5BAEKAAEALAAAAAABAAEAAAICTAEAOw==\" style=\"border-radius:8px 8px 8px 8px\" width=\"82\"/><div class=\"fWhgmd\" style=\"border-radius:8px 8px 8px 8px\"></div></g-img></div><div class=\"fl ellip oBrLN S1gFKb rOVRL\" data-original-name=\"MIC Drop ‑ Japanes...\">MIC Drop ‑ Japanes...</div></a>, <a data-ved=\"2ahUKEwi-392NoJ7xAhUoRjABHQ2vAS4QxA0wFXoECAsQDg\" href=\"/search?q=BTS+FAKE+LOVE&amp;stick=H4sIAAAAAAAAAOOQUeLVT9c3NEwzMyowzS0uN-JMKilWKM7PSy-O4ncqLSlJLVJwCglWKM_MzjzFCFGbnWeZXm5aFQ_j52QXVVoa5aTA-GnZxYYF8fElcPn0CrP4lPhiuLxxkVlFngVCPdRuON8yvcrcrNgSxs-oqDTPsUwxgvGTDQsNSoBKYPyUiiwDC8PilF-MnCCngh2_iJUXxHZz9HZV8PEPc73FJsmgNbWK61FU9SpuDe0tovOnnN2j9rmbdUviYQBzPTh4BQEAAA&amp;sa=X&amp;ved=2ahUKEwi-392NoJ7xAhUoRjABHQ2vAS4QxA0wFXoECAsQDg\" title=\"FAKE LOVE\"><div class=\"XQ6p1d\"><g-img class=\"BA0A6c\" style=\"position:relative\"><img alt=\"FAKE LOVE\" class=\"rISBZc M4dUYb\" data-atf=\"4\" data-deferred=\"1\" height=\"82\" id=\"dimg_60\" src=\"data:image/gif;base64,R0lGODlhAQABAIAAAP///////yH5BAEKAAEALAAAAAABAAEAAAICTAEAOw==\" style=\"border-radius:8px 8px 8px 8px\" width=\"82\"/><div class=\"fWhgmd\" style=\"border-radius:8px 8px 8px 8px\"></div></g-img></div><div class=\"fl ellip oBrLN S1gFKb rOVRL\" data-original-name=\"FAKE LOVE\">FAKE LOVE</div></a>, <a data-ved=\"2ahUKEwi-392NoJ7xAhUoRjABHQ2vAS4QxA0wFXoECAsQEA\" href=\"/search?q=BTS+IDOL&amp;stick=H4sIAAAAAAAAAOOQUeLVT9c3NEyzTK8yNyu2NOJMKilWKM7PSy-O4ncqLSlJLVJwCglWKM_MzjzFCFGbnWeZXm5aFQ_j52QXVVoa5aTA-GnZxYYF8fElcPn0CrP4lPhiuLxxkVlFngVCvZlRgWlucTmcD3ULjJ9RUWmeY5liBOMnGxYalACVwPgpFVkGFobFKb8YOUFOBTt-ESsHiO3p4u9zi02SQWtqFdejqOpV3BraW0TnTzm7R-1zN-uWxMMAO4TGHwABAAA&amp;sa=X&amp;ved=2ahUKEwi-392NoJ7xAhUoRjABHQ2vAS4QxA0wFXoECAsQEA\" title=\"IDOL\"><div class=\"XQ6p1d\"><g-img class=\"BA0A6c\" style=\"position:relative\"><img alt=\"IDOL\" class=\"rISBZc M4dUYb\" data-atf=\"4\" data-deferred=\"1\" height=\"82\" id=\"dimg_64\" src=\"data:image/gif;base64,R0lGODlhAQABAIAAAP///////yH5BAEKAAEALAAAAAABAAEAAAICTAEAOw==\" style=\"border-radius:8px 8px 8px 8px\" width=\"82\"/><div class=\"fWhgmd\" style=\"border-radius:8px 8px 8px 8px\"></div></g-img></div><div class=\"fl ellip oBrLN S1gFKb rOVRL\" data-original-name=\"IDOL\">IDOL</div></a>, <a class=\"oBa0Fe wrSo4\" data-async-trigger=\"duf3-34-1\" data-ved=\"2ahUKEwi-392NoJ7xAhUoRjABHQ2vAS4Qtw8wFXoECAsQEg\" href=\"#\" jsaction=\"trigger.szjOR\" role=\"button\">Feedback</a>, <a class=\"oBa0Fe wrSo4\" data-async-trigger=\"duf3-95\" data-ved=\"2ahUKEwi-392NoJ7xAhUoRjABHQ2vAS4Qtw96BAgVEAg\" href=\"#\" jsaction=\"trigger.szjOR\" role=\"button\">Feedback</a>, <a class=\"k8XOCe\" href=\"/search?q=BTS+debut+date&amp;sa=X&amp;ved=2ahUKEwi-392NoJ7xAhUoRjABHQ2vAS4Q1QIwF3oECBMQAQ\"><div class=\"aXBZVd\"></div><div class=\"s75CSd OhScic AB4Wff\">bts <b>debut date</b></div></a>, <a class=\"k8XOCe\" href=\"/search?q=BTS+meaning&amp;sa=X&amp;ved=2ahUKEwi-392NoJ7xAhUoRjABHQ2vAS4Q1QIwGHoECA0QAQ\"><div class=\"aXBZVd\"></div><div class=\"s75CSd OhScic AB4Wff\">bts <b>meaning</b></div></a>, <a class=\"k8XOCe\" href=\"/search?q=BTS+age&amp;sa=X&amp;ved=2ahUKEwi-392NoJ7xAhUoRjABHQ2vAS4Q1QIwGXoECBAQAQ\"><div class=\"aXBZVd\"></div><div class=\"s75CSd OhScic AB4Wff\">bts <b>age</b></div></a>, <a class=\"k8XOCe\" href=\"/search?q=BTS+Profile&amp;sa=X&amp;ved=2ahUKEwi-392NoJ7xAhUoRjABHQ2vAS4Q1QIwGnoECA8QAQ\"><div class=\"aXBZVd\"></div><div class=\"s75CSd OhScic AB4Wff\">bts <b>profile</b></div></a>, <a class=\"k8XOCe\" href=\"/search?q=BTS+ARMY&amp;sa=X&amp;ved=2ahUKEwi-392NoJ7xAhUoRjABHQ2vAS4Q1QIwG3oECA4QAQ\"><div class=\"aXBZVd\"></div><div class=\"s75CSd OhScic AB4Wff\">bts <b>army</b></div></a>, <a class=\"k8XOCe\" href=\"/search?q=BTS+full+form&amp;sa=X&amp;ved=2ahUKEwi-392NoJ7xAhUoRjABHQ2vAS4Q1QIwHHoECBEQAQ\"><div class=\"aXBZVd\"></div><div class=\"s75CSd OhScic AB4Wff\">bts <b>full form</b></div></a>, <a class=\"k8XOCe\" href=\"/search?q=BTS+McDonald%27s&amp;sa=X&amp;ved=2ahUKEwi-392NoJ7xAhUoRjABHQ2vAS4Q1QIwHXoECAwQAQ\"><div class=\"aXBZVd\"></div><div class=\"s75CSd OhScic AB4Wff\">bts <b>mcdonald's</b></div></a>, <a aria-label=\"Page 2\" class=\"fl\" href=\"/search?q=Butter+BTS+wiki&amp;ei=7QfLYP60HaiMwbkPjd6G8AI&amp;start=10&amp;sa=N&amp;ved=2ahUKEwi-392NoJ7xAhUoRjABHQ2vAS4Q8tMDegQIARA2\"><span class=\"SJajHc NVbCr\" style=\"background:url(/images/nav_logo323.webp) no-repeat;background-position:-74px 0;width:20px\"></span>2</a>, <a aria-label=\"Page 3\" class=\"fl\" href=\"/search?q=Butter+BTS+wiki&amp;ei=7QfLYP60HaiMwbkPjd6G8AI&amp;start=20&amp;sa=N&amp;ved=2ahUKEwi-392NoJ7xAhUoRjABHQ2vAS4Q8tMDegQIARA4\"><span class=\"SJajHc NVbCr\" style=\"background:url(/images/nav_logo323.webp) no-repeat;background-position:-74px 0;width:20px\"></span>3</a>, <a aria-label=\"Page 4\" class=\"fl\" href=\"/search?q=Butter+BTS+wiki&amp;ei=7QfLYP60HaiMwbkPjd6G8AI&amp;start=30&amp;sa=N&amp;ved=2ahUKEwi-392NoJ7xAhUoRjABHQ2vAS4Q8tMDegQIARA6\"><span class=\"SJajHc NVbCr\" style=\"background:url(/images/nav_logo323.webp) no-repeat;background-position:-74px 0;width:20px\"></span>4</a>, <a aria-label=\"Page 5\" class=\"fl\" href=\"/search?q=Butter+BTS+wiki&amp;ei=7QfLYP60HaiMwbkPjd6G8AI&amp;start=40&amp;sa=N&amp;ved=2ahUKEwi-392NoJ7xAhUoRjABHQ2vAS4Q8tMDegQIARA8\"><span class=\"SJajHc NVbCr\" style=\"background:url(/images/nav_logo323.webp) no-repeat;background-position:-74px 0;width:20px\"></span>5</a>, <a aria-label=\"Page 6\" class=\"fl\" href=\"/search?q=Butter+BTS+wiki&amp;ei=7QfLYP60HaiMwbkPjd6G8AI&amp;start=50&amp;sa=N&amp;ved=2ahUKEwi-392NoJ7xAhUoRjABHQ2vAS4Q8tMDegQIARA-\"><span class=\"SJajHc NVbCr\" style=\"background:url(/images/nav_logo323.webp) no-repeat;background-position:-74px 0;width:20px\"></span>6</a>, <a aria-label=\"Page 7\" class=\"fl\" href=\"/search?q=Butter+BTS+wiki&amp;ei=7QfLYP60HaiMwbkPjd6G8AI&amp;start=60&amp;sa=N&amp;ved=2ahUKEwi-392NoJ7xAhUoRjABHQ2vAS4Q8tMDegQIARBA\"><span class=\"SJajHc NVbCr\" style=\"background:url(/images/nav_logo323.webp) no-repeat;background-position:-74px 0;width:20px\"></span>7</a>, <a aria-label=\"Page 8\" class=\"fl\" href=\"/search?q=Butter+BTS+wiki&amp;ei=7QfLYP60HaiMwbkPjd6G8AI&amp;start=70&amp;sa=N&amp;ved=2ahUKEwi-392NoJ7xAhUoRjABHQ2vAS4Q8tMDegQIARBC\"><span class=\"SJajHc NVbCr\" style=\"background:url(/images/nav_logo323.webp) no-repeat;background-position:-74px 0;width:20px\"></span>8</a>, <a aria-label=\"Page 9\" class=\"fl\" href=\"/search?q=Butter+BTS+wiki&amp;ei=7QfLYP60HaiMwbkPjd6G8AI&amp;start=80&amp;sa=N&amp;ved=2ahUKEwi-392NoJ7xAhUoRjABHQ2vAS4Q8tMDegQIARBE\"><span class=\"SJajHc NVbCr\" style=\"background:url(/images/nav_logo323.webp) no-repeat;background-position:-74px 0;width:20px\"></span>9</a>, <a aria-label=\"Page 10\" class=\"fl\" href=\"/search?q=Butter+BTS+wiki&amp;ei=7QfLYP60HaiMwbkPjd6G8AI&amp;start=90&amp;sa=N&amp;ved=2ahUKEwi-392NoJ7xAhUoRjABHQ2vAS4Q8tMDegQIARBG\"><span class=\"SJajHc NVbCr\" style=\"background:url(/images/nav_logo323.webp) no-repeat;background-position:-74px 0;width:20px\"></span>10</a>, <a href=\"/search?q=Butter+BTS+wiki&amp;ei=7QfLYP60HaiMwbkPjd6G8AI&amp;start=10&amp;sa=N&amp;ved=2ahUKEwi-392NoJ7xAhUoRjABHQ2vAS4Q8NMDegQIARBI\" id=\"pnnext\" style=\"text-align:left\"><span class=\"SJajHc NVbCr\" style=\"background:url(/images/nav_logo323.webp) no-repeat;background-position:-96px 0;width:71px\"></span><span style=\"display:block;margin-left:53px\">Next</span></a>, <a id=\"BHDErf\"></a>, <a data-ved=\"2ahUKEwi-392NoJ7xAhUoRjABHQ2vAS4QpLkCegQIARBK\" href=\"#\" id=\"eqQYZc\"></a>, <a href=\"https://support.google.com/websearch?p=ws_settings_location&amp;hl=en\" onmousedown=\"return rwt(this,'','','','','AOvVaw1RksNr8josGJkZOGdJzJEb','','2ahUKEwi-392NoJ7xAhUoRjABHQ2vAS4Qty56BAgBEEs','','',event)\">Learn more</a>, <a class=\"JWaTvb Fx4vi\" href=\"https://support.google.com/websearch/?p=ws_results_help&amp;hl=en&amp;fg=1\" onmousedown=\"return rwt(this,'','','','','AOvVaw3OMgCBLQR8XnB9gM70GF5s','','2ahUKEwi-392NoJ7xAhUoRjABHQ2vAS4Q8KwCegQIARBM','','',event)\">Help</a>, <a class=\"Fx4vi\" data-bucket=\"websearch\" data-ved=\"2ahUKEwi-392NoJ7xAhUoRjABHQ2vAS4QLnoECAEQTQ\" href=\"#\" id=\"dk2qOd\" jsaction=\"trigger.YcfJ\" target=\"_blank\">Send feedback</a>, <a class=\"JWaTvb Fx4vi\" href=\"https://policies.google.com/privacy?hl=en&amp;fg=1\" onmousedown=\"return rwt(this,'','','','','AOvVaw25lN6TjyY2uszSImdhMejE','','2ahUKEwi-392NoJ7xAhUoRjABHQ2vAS4Q8awCegQIARBO','','',event)\">Privacy</a>, <a class=\"JWaTvb Fx4vi\" href=\"https://policies.google.com/terms?hl=en&amp;fg=1\" onmousedown=\"return rwt(this,'','','','','AOvVaw2d8Ahs2oc0jxVOgPfpr4Fe','','2ahUKEwi-392NoJ7xAhUoRjABHQ2vAS4Q8qwCegQIARBP','','',event)\">Terms</a>]\n",
            "==================================================\n",
            "//////////////////////////// 노래명, 가수 : Butter BTS wiki\n",
            "[]\n",
            "['Jenna Andrews']\n",
            "['Jenna Andrews', 'Rob Grimaldi']\n",
            "['Jenna Andrews', 'Rob Grimaldi', 'Stephen Kirk']\n",
            "['Jenna Andrews', 'Rob Grimaldi', 'Stephen Kirk', 'RM']\n",
            "['Jenna Andrews', 'Rob Grimaldi', 'Stephen Kirk', 'RM', 'Alex Bilowitz']\n",
            "['Jenna Andrews', 'Rob Grimaldi', 'Stephen Kirk', 'RM', 'Alex Bilowitz', 'Sebastian Garcia']\n",
            "[]\n",
            "['Grimaldi']\n",
            "['Grimaldi', 'Kirk']\n"
          ],
          "name": "stdout"
        },
        {
          "output_type": "stream",
          "text": [
            "/usr/local/lib/python3.7/dist-packages/ipykernel_launcher.py:65: SettingWithCopyWarning: \n",
            "A value is trying to be set on a copy of a slice from a DataFrame\n",
            "\n",
            "See the caveats in the documentation: https://pandas.pydata.org/pandas-docs/stable/user_guide/indexing.html#returning-a-view-versus-a-copy\n",
            "/usr/local/lib/python3.7/dist-packages/pandas/core/indexing.py:670: SettingWithCopyWarning: \n",
            "A value is trying to be set on a copy of a slice from a DataFrame\n",
            "\n",
            "See the caveats in the documentation: https://pandas.pydata.org/pandas-docs/stable/user_guide/indexing.html#returning-a-view-versus-a-copy\n",
            "  iloc._setitem_with_indexer(indexer, value)\n",
            "/usr/local/lib/python3.7/dist-packages/ipykernel_launcher.py:75: SettingWithCopyWarning: \n",
            "A value is trying to be set on a copy of a slice from a DataFrame\n",
            "\n",
            "See the caveats in the documentation: https://pandas.pydata.org/pandas-docs/stable/user_guide/indexing.html#returning-a-view-versus-a-copy\n"
          ],
          "name": "stderr"
        },
        {
          "output_type": "execute_result",
          "data": {
            "text/html": [
              "<div>\n",
              "<style scoped>\n",
              "    .dataframe tbody tr th:only-of-type {\n",
              "        vertical-align: middle;\n",
              "    }\n",
              "\n",
              "    .dataframe tbody tr th {\n",
              "        vertical-align: top;\n",
              "    }\n",
              "\n",
              "    .dataframe thead th {\n",
              "        text-align: right;\n",
              "    }\n",
              "</style>\n",
              "<table border=\"1\" class=\"dataframe\">\n",
              "  <thead>\n",
              "    <tr style=\"text-align: right;\">\n",
              "      <th></th>\n",
              "      <th>Unnamed: 0</th>\n",
              "      <th>Rank</th>\n",
              "      <th>Song Title</th>\n",
              "      <th>Singer</th>\n",
              "      <th>SongWriter</th>\n",
              "      <th>Producer</th>\n",
              "    </tr>\n",
              "  </thead>\n",
              "  <tbody>\n",
              "    <tr>\n",
              "      <th>0</th>\n",
              "      <td>0</td>\n",
              "      <td>1</td>\n",
              "      <td>Butter</td>\n",
              "      <td>BTS</td>\n",
              "      <td>Jenna Andrews,Rob Grimaldi,Stephen Kirk,RM,Ale...</td>\n",
              "      <td>Grimaldi,Kirk,Perry</td>\n",
              "    </tr>\n",
              "    <tr>\n",
              "      <th>1</th>\n",
              "      <td>1</td>\n",
              "      <td>2</td>\n",
              "      <td>Good 4 U</td>\n",
              "      <td>Olivia Rodrigo</td>\n",
              "      <td>NaN</td>\n",
              "      <td>NaN</td>\n",
              "    </tr>\n",
              "    <tr>\n",
              "      <th>2</th>\n",
              "      <td>2</td>\n",
              "      <td>3</td>\n",
              "      <td>Levitating</td>\n",
              "      <td>Dua Lipa Featuring DaBaby</td>\n",
              "      <td>NaN</td>\n",
              "      <td>NaN</td>\n",
              "    </tr>\n",
              "    <tr>\n",
              "      <th>3</th>\n",
              "      <td>3</td>\n",
              "      <td>4</td>\n",
              "      <td>Peaches</td>\n",
              "      <td>Justin Bieber Featuring Daniel Caesar &amp; Giveon</td>\n",
              "      <td>NaN</td>\n",
              "      <td>NaN</td>\n",
              "    </tr>\n",
              "    <tr>\n",
              "      <th>4</th>\n",
              "      <td>4</td>\n",
              "      <td>5</td>\n",
              "      <td>Leave The Door Open</td>\n",
              "      <td>Silk Sonic (Bruno Mars &amp; Anderson .Paak)</td>\n",
              "      <td>NaN</td>\n",
              "      <td>NaN</td>\n",
              "    </tr>\n",
              "    <tr>\n",
              "      <th>5</th>\n",
              "      <td>5</td>\n",
              "      <td>6</td>\n",
              "      <td>Save Your Tears</td>\n",
              "      <td>The Weeknd &amp; Ariana Grande</td>\n",
              "      <td>NaN</td>\n",
              "      <td>NaN</td>\n",
              "    </tr>\n",
              "    <tr>\n",
              "      <th>6</th>\n",
              "      <td>6</td>\n",
              "      <td>7</td>\n",
              "      <td>Kiss Me More</td>\n",
              "      <td>Doja Cat Featuring SZA</td>\n",
              "      <td>NaN</td>\n",
              "      <td>NaN</td>\n",
              "    </tr>\n",
              "    <tr>\n",
              "      <th>7</th>\n",
              "      <td>7</td>\n",
              "      <td>8</td>\n",
              "      <td>Astronaut In The Ocean</td>\n",
              "      <td>Masked Wolf</td>\n",
              "      <td>NaN</td>\n",
              "      <td>NaN</td>\n",
              "    </tr>\n",
              "    <tr>\n",
              "      <th>8</th>\n",
              "      <td>8</td>\n",
              "      <td>9</td>\n",
              "      <td>Deja Vu</td>\n",
              "      <td>Olivia Rodrigo</td>\n",
              "      <td>NaN</td>\n",
              "      <td>NaN</td>\n",
              "    </tr>\n",
              "    <tr>\n",
              "      <th>9</th>\n",
              "      <td>9</td>\n",
              "      <td>10</td>\n",
              "      <td>Yonaguni</td>\n",
              "      <td>Bad Bunny</td>\n",
              "      <td>NaN</td>\n",
              "      <td>NaN</td>\n",
              "    </tr>\n",
              "  </tbody>\n",
              "</table>\n",
              "</div>"
            ],
            "text/plain": [
              "   Unnamed: 0  ...             Producer\n",
              "0           0  ...  Grimaldi,Kirk,Perry\n",
              "1           1  ...                  NaN\n",
              "2           2  ...                  NaN\n",
              "3           3  ...                  NaN\n",
              "4           4  ...                  NaN\n",
              "5           5  ...                  NaN\n",
              "6           6  ...                  NaN\n",
              "7           7  ...                  NaN\n",
              "8           8  ...                  NaN\n",
              "9           9  ...                  NaN\n",
              "\n",
              "[10 rows x 6 columns]"
            ]
          },
          "metadata": {
            "tags": []
          },
          "execution_count": 124
        }
      ]
    },
    {
      "cell_type": "code",
      "metadata": {
        "id": "Ub-D5bEWo2H8"
      },
      "source": [
        "from selenium import webdriver\n",
        "chrome_options = webdriver.ChromeOptions()\n",
        "chrome_options.add_argument('--headless') #내부 창을 띄울 수 없으므로 설정\n",
        "chrome_options.add_argument('--no-sandbox')\n",
        "chrome_options.add_argument('--disable-dev-shm-usage')\n",
        "wd = webdriver.Chrome('chromedriver',chrome_options=chrome_options)\n",
        "\n",
        "for i in df.index:\n",
        "    time.sleep(2.5) ## 0.5초\n",
        "    wd.get(\"https://google.com\")\n",
        "    print(wd.current_url)\n",
        "    song = df['Song Title'][i]\n",
        "    artist = df['Singer'][i]\n",
        "    keyword = str(song) + ' ' + str(artist) + ' wiki'\n",
        "    print('key',keyword)\n",
        "\n",
        "    # driver.find_element_by_name(<element의 name>).send_keys(<검색어>) \n",
        "    element = wd.find_element_by_name('q')\n",
        "    element.send_keys(keyword)\n",
        "    element.submit()\n",
        "  \n",
        "\n",
        "    html = wd.page_source\n",
        "    bs = BeautifulSoup(html, 'html.parser')\n",
        "    \n",
        "    top_list = bs.find_all('a',href=True)\n",
        "    for top in top_list:\n",
        "   \n",
        "#       print(top.attrs['href'])\n",
        "        if( 'en.wikipedia' in top.text ):\n",
        "     \n",
        "            print('='*50)\n",
        "            html1 = top.attrs['href']\n",
        "\n",
        "            response = requests.get(html1)\n",
        "\n",
        "            if response.status_code == 200:\n",
        "                html1 = response.text\n",
        "                bs1 = BeautifulSoup(html1, 'html.parser')\n",
        "   \n",
        "\n",
        "            else : \n",
        "                print(response.status_code)\n",
        "        \n",
        "            break\n",
        "##### 위키 곡정보 페이지  #####\n",
        "    # writer,producer \n",
        "\n",
        "    print(\"//////////////////////////// \" + \"노래명, 가수 : \" + keyword)\n",
        "\n",
        "\n",
        "    top_list1 = bs1.find_all('tr')  \n",
        "\n",
        "\n",
        "    for top in top_list1:\n",
        "\n",
        "        if \"Songwriter\" in top.text:\n",
        "            list1 = []\n",
        "            titles = top.select('li')\n",
        "\n",
        "            for title in titles:\n",
        "                print('*****',title.text)\n",
        "                list1.append(title.text)\n",
        "           \n",
        "            df['SongWriter'][i] =    ','.join(list1)\n",
        "    \n",
        "        if \"Producer\" in top.text:\n",
        "            list1 = []\n",
        "            titles = top.select('li')\n",
        "            for title in titles:\n",
        "                list1.append(title.text)\n",
        "           \n",
        "            df['Producer'][i] =    ','.join(list1)\n",
        "\n",
        "  \n",
        "df.to_csv(\"/content/drive/MyDrive/Colab Notebooks/hot_search100.csv\")\n",
        "df.head(20)  \n",
        "wd.quit()  "
      ],
      "execution_count": null,
      "outputs": []
    },
    {
      "cell_type": "code",
      "metadata": {
        "id": "9CwzZFDpK4tx"
      },
      "source": [
        ""
      ],
      "execution_count": null,
      "outputs": []
    },
    {
      "cell_type": "code",
      "metadata": {
        "id": "njbC0BpmBADQ"
      },
      "source": [
        ""
      ],
      "execution_count": null,
      "outputs": []
    }
  ]
}