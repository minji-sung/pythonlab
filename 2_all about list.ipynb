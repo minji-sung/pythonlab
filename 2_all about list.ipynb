{
  "nbformat": 4,
  "nbformat_minor": 0,
  "metadata": {
    "colab": {
      "name": "20210526_4팀_노애정.ipynb",
      "provenance": [],
      "collapsed_sections": [],
      "include_colab_link": true
    },
    "kernelspec": {
      "display_name": "Python 3",
      "name": "python3"
    },
    "language_info": {
      "name": "python"
    }
  },
  "cells": [
    {
      "cell_type": "markdown",
      "metadata": {
        "id": "view-in-github",
        "colab_type": "text"
      },
      "source": [
        "<a href=\"https://colab.research.google.com/github/minji-sung/pythonlab/blob/main/2_all%20about%20list.ipynb\" target=\"_parent\"><img src=\"https://colab.research.google.com/assets/colab-badge.svg\" alt=\"Open In Colab\"/></a>"
      ]
    },
    {
      "cell_type": "markdown",
      "metadata": {
        "id": "cycDmqSg8yhQ"
      },
      "source": [
        "# **리스트란?**\n",
        "\n",
        "- 여러 개의 데이터 값을 하나의 변수에 담을 수 있는 자료구조\n",
        "\n",
        "- 리스트 안의 각 데이터를 '항목' 또는 '요소' 또는 'item'이라고 한다.\n",
        "\n",
        "- 대괄호[]안에 각 요소를 쉼표(,)로 구분하여 표현한다.\n",
        "\n",
        "- 각 요소에는 인덱스라는 고유 호가 지정된다. (인덱스는 0부터 시작)\n",
        "\n",
        "- 리스트의 크기 = 리스트 요소의 개수\n"
      ]
    },
    {
      "cell_type": "code",
      "metadata": {
        "colab": {
          "base_uri": "https://localhost:8080/"
        },
        "id": "wUgrmwL56bjR",
        "outputId": "a4f31ac9-4b89-41db-e4fe-a86efd15f39d"
      },
      "source": [
        "#리스트 예시: 과일 이름을 담는 리스트\n",
        "fruits = ['사과','오렌지','포도','수박','바나나'] \n",
        "print(fruits[0]) # 인덱스 0: 사과\n",
        "print(fruits[4]) # 인덱스 4: 바나나, 바나나의 인덱스 값: 4\n",
        "print(len(fruits)) # len -> 리스트의 크기(개수) = 5 "
      ],
      "execution_count": null,
      "outputs": [
        {
          "output_type": "stream",
          "text": [
            "사과\n",
            "바나나\n",
            "5\n"
          ],
          "name": "stdout"
        }
      ]
    },
    {
      "cell_type": "markdown",
      "metadata": {
        "id": "qias2NeoX3ND"
      },
      "source": [
        "\n",
        "\n",
        "- 리스트 안에는 어떠한 자료형도 포함시킬 수 있다.\n",
        "\n",
        "- 숫자, 문자열 뿐 아니라 변수, 다른 리스트도 저장할 수 있다.\n",
        "\n",
        "- 하나의 리스트 안에 다양한 자료형을 혼합하여 포함시킬 수 있다.\n"
      ]
    },
    {
      "cell_type": "code",
      "metadata": {
        "colab": {
          "base_uri": "https://localhost:8080/"
        },
        "id": "fmZGDpqA8Gy9",
        "outputId": "8042e084-5f15-4b43-96e8-139677ca1fcb"
      },
      "source": [
        "n1 = 100\n",
        "fruits = ['사과','오렌지','포도','수박','바나나'] \n",
        "mylist = [n1, fruits, 20, 30, '슈퍼맨', True, [1,2,3]]\n",
        "mylist\n"
      ],
      "execution_count": null,
      "outputs": [
        {
          "output_type": "execute_result",
          "data": {
            "text/plain": [
              "[100, ['사과', '오렌지', '포도', '수박', '바나나'], 20, 30, '슈퍼맨', True, [1, 2, 3]]"
            ]
          },
          "metadata": {
            "tags": []
          },
          "execution_count": 4
        }
      ]
    },
    {
      "cell_type": "markdown",
      "metadata": {
        "id": "W1cH3IbcYFQ3"
      },
      "source": [
        "# **리스트 생성하기**\n",
        "\n",
        "1. 초기값이 있는 리스트 생성하기\n",
        "- 리스트명 = [요소1, 요소2, ..., 요소N]\n",
        "- 리스트명 = list(range(시작값,끝값,간격))\n",
        "\n",
        "2. 빈 리스트 생성하기\n",
        "- 리스트명 = []\n",
        "- 리스트명 = list()"
      ]
    },
    {
      "cell_type": "code",
      "metadata": {
        "colab": {
          "base_uri": "https://localhost:8080/"
        },
        "id": "bJX4Bnz88HSj",
        "outputId": "fae2bd2b-8840-4977-fa32-3b3193278dfc"
      },
      "source": [
        "#1. 초기값이 있는 리스트 생성하기 예제\n",
        "l1 = [1,2,3,4,5]\n",
        "print(l1)\n",
        "l2 = list(range(1,6))\n",
        "print(l2)\n",
        "\n",
        "#2. 빈 리스트 생성하기 예제\n",
        "l3 = []\n",
        "print(l3)\n",
        "l4 = list()\n",
        "print(l4)"
      ],
      "execution_count": null,
      "outputs": [
        {
          "output_type": "stream",
          "text": [
            "[1, 2, 3, 4, 5]\n",
            "[1, 2, 3, 4, 5]\n",
            "[]\n",
            "[]\n"
          ],
          "name": "stdout"
        }
      ]
    },
    {
      "cell_type": "markdown",
      "metadata": {
        "id": "KXfrBDEidHSh"
      },
      "source": [
        "# **리스트 출력하기**"
      ]
    },
    {
      "cell_type": "markdown",
      "metadata": {
        "id": "c1Z4osgUcpeI"
      },
      "source": [
        "***for 문을 이용하여 리스트 요소 출력***"
      ]
    },
    {
      "cell_type": "code",
      "metadata": {
        "colab": {
          "base_uri": "https://localhost:8080/"
        },
        "id": "Ksr1agIX9qfm",
        "outputId": "934c7fb2-ca02-47e4-c8b0-18a4b25eba6f"
      },
      "source": [
        "#for문을 이용하여 리스트의 요소 출력하기 - 1\n",
        "\n",
        "fruits = ['사과','오렌지','포도','수박','바나나']\n",
        "for x in fruits:\n",
        "    print(x)\n",
        "\n",
        "#for문을 이용하여 리스트의 요소 출력하기 - 2 \n",
        "\n",
        "fruits = ['사과','오렌지','포도','수박','바나나']\n",
        "for fruit in fruits:\n",
        "    print(fruit, end=' ')\n"
      ],
      "execution_count": null,
      "outputs": [
        {
          "output_type": "stream",
          "text": [
            "사과\n",
            "오렌지\n",
            "포도\n",
            "수박\n",
            "바나나\n",
            "사과 오렌지 포도 수박 바나나 "
          ],
          "name": "stdout"
        }
      ]
    },
    {
      "cell_type": "markdown",
      "metadata": {
        "id": "jwpSoRHOc2PR"
      },
      "source": [
        "***인덱싱을 이용하여 리스트 요소 출력***\n",
        "\n",
        "- 리스트 요소 추출> 인덱싱\n",
        "- 리스트명[index]\n",
        "- 인덱스 값 0 부터 시작\n",
        "\n",
        "\n"
      ]
    },
    {
      "cell_type": "code",
      "metadata": {
        "colab": {
          "base_uri": "https://localhost:8080/",
          "height": 35
        },
        "id": "_rpM_GUO-t_h",
        "outputId": "f483d3a7-14a7-45a1-af63-0631775527d3"
      },
      "source": [
        "fruits = ['사과','오렌지','포도','수박','바나나']\n",
        "fruits[0] # 음수 인덱스 사용하면, fruits[-5]가 같은 항목 값을 가져옴"
      ],
      "execution_count": null,
      "outputs": [
        {
          "output_type": "execute_result",
          "data": {
            "application/vnd.google.colaboratory.intrinsic+json": {
              "type": "string"
            },
            "text/plain": [
              "'사과'"
            ]
          },
          "metadata": {
            "tags": []
          },
          "execution_count": 21
        }
      ]
    },
    {
      "cell_type": "markdown",
      "metadata": {
        "id": "hYlCwMzmdVTP"
      },
      "source": [
        "***대괄호를 사용하여 여러 항목 묶어 나타내기 가능***"
      ]
    },
    {
      "cell_type": "code",
      "metadata": {
        "colab": {
          "base_uri": "https://localhost:8080/"
        },
        "id": "MqkzaScpDvRz",
        "outputId": "f6354cd6-a76b-4e69-cd0e-6829c6a9fd48"
      },
      "source": [
        "fruits = [['사과','오렌지'],'포도',['수박','바나나']]\n",
        "fruits[-3]"
      ],
      "execution_count": null,
      "outputs": [
        {
          "output_type": "execute_result",
          "data": {
            "text/plain": [
              "['사과', '오렌지']"
            ]
          },
          "metadata": {
            "tags": []
          },
          "execution_count": 23
        }
      ]
    },
    {
      "cell_type": "markdown",
      "metadata": {
        "id": "SXDYlXHhdexm"
      },
      "source": [
        "***리스트 생성 및 출력 예제***"
      ]
    },
    {
      "cell_type": "code",
      "metadata": {
        "colab": {
          "base_uri": "https://localhost:8080/"
        },
        "id": "ZVmo7KP0Ewo3",
        "outputId": "b8f62ee3-2d9c-48b9-e86b-31393e783ec8"
      },
      "source": [
        "#인덱싱 추가 예제\n",
        "a = [1,2,3,4,5]\n",
        "print(a[2]+a[4])\n",
        "\n",
        "#인덱싱 추가 예제\n",
        "a = [1,2,3,4,5]\n",
        "print(a[-2]+a[-3])"
      ],
      "execution_count": null,
      "outputs": [
        {
          "output_type": "stream",
          "text": [
            "8\n",
            "7\n"
          ],
          "name": "stdout"
        }
      ]
    },
    {
      "cell_type": "markdown",
      "metadata": {
        "id": "mQ2Xg_74dvJk"
      },
      "source": [
        "***두 번 이상 인덱싱 사용 출력 예제***"
      ]
    },
    {
      "cell_type": "code",
      "metadata": {
        "colab": {
          "base_uri": "https://localhost:8080/",
          "height": 35
        },
        "id": "2j9xyrcKFO40",
        "outputId": "1c6affed-617e-4def-a87a-098443f79e00"
      },
      "source": [
        "#두 번 이상 인덱싱 예제\n",
        "fruits = ['사과','오렌지',['포도','수박','바나나']]\n",
        "fruits[2] \n",
        "fruits[2][-1] #바나나"
      ],
      "execution_count": null,
      "outputs": [
        {
          "output_type": "execute_result",
          "data": {
            "application/vnd.google.colaboratory.intrinsic+json": {
              "type": "string"
            },
            "text/plain": [
              "'바나나'"
            ]
          },
          "metadata": {
            "tags": []
          },
          "execution_count": 32
        }
      ]
    },
    {
      "cell_type": "code",
      "metadata": {
        "colab": {
          "base_uri": "https://localhost:8080/"
        },
        "id": "0TCb1IOKFklk",
        "outputId": "24e9f283-ce60-4a57-ddda-943e0efa4f09"
      },
      "source": [
        "#두 번 이상 인덱싱 예제\n",
        "a = [1,2,['a','b', ['Life','is']]]\n",
        "print(a[2][2][1]) # 'is'\n",
        "print(a[2][2][0]) # 'Life'"
      ],
      "execution_count": null,
      "outputs": [
        {
          "output_type": "stream",
          "text": [
            "is\n",
            "Life\n"
          ],
          "name": "stdout"
        }
      ]
    },
    {
      "cell_type": "markdown",
      "metadata": {
        "id": "gIEfgMEsd-IA"
      },
      "source": [
        "***슬라이싱 기법으로 한 번에 여러 개의 요소들을 추출할 수 있다.***\n",
        "- 리스트명[시작인덱스:끝인덱스]\n",
        "- 단, 끝인덱스 요소는 포함하지 않음. "
      ]
    },
    {
      "cell_type": "code",
      "metadata": {
        "colab": {
          "base_uri": "https://localhost:8080/"
        },
        "id": "u5f1Qwv2GT9m",
        "outputId": "3da230b1-81a7-498f-a9f5-5623911e36fb"
      },
      "source": [
        "nums = [1,2,3,4,5,6,7,8,9,10]\n",
        "print(nums[3:8]) #3번 인덱스부터 7번 인덱스까지 추출\n",
        "print(nums[-7:-2]) #-7번 인덱스부터 -3번 인덱스까지 추출"
      ],
      "execution_count": null,
      "outputs": [
        {
          "output_type": "stream",
          "text": [
            "[4, 5, 6, 7, 8]\n",
            "[4, 5, 6, 7, 8]\n"
          ],
          "name": "stdout"
        }
      ]
    },
    {
      "cell_type": "code",
      "metadata": {
        "colab": {
          "base_uri": "https://localhost:8080/"
        },
        "id": "Hb9DnhMhQ3Qz",
        "outputId": "1273a364-45f4-4605-e05c-ac7dde1ef810"
      },
      "source": [
        "#시작 인덱스 생략 -> 리스트 처음부터라고 가정\n",
        "nums = [1,2,3,4,5,6,7,8,9,10]\n",
        "print(nums[:3]) #처음부터 인덱스 2값까지 출력\n",
        "print(nums[0:3])"
      ],
      "execution_count": null,
      "outputs": [
        {
          "output_type": "stream",
          "text": [
            "[1, 2, 3]\n",
            "[1, 2, 3]\n",
            "[4, 5, 6, 7, 8, 9, 10]\n",
            "[4, 5, 6, 7, 8, 9, 10]\n",
            "[4, 5, 6, 7, 8, 9, 10]\n",
            "[1, 2, 3, 4, 5, 6, 7, 8, 9, 10]\n"
          ],
          "name": "stdout"
        }
      ]
    },
    {
      "cell_type": "code",
      "metadata": {
        "id": "vQUAa-6kePup",
        "colab": {
          "base_uri": "https://localhost:8080/"
        },
        "outputId": "1aece926-56ea-4e6c-8db4-8a5d2eab1bb7"
      },
      "source": [
        "#끝 인덱스 생략 -> 리스트 마지막까지라고 가정 \n",
        "nums = [1,2,3,4,5,6,7,8,9,10]\n",
        "print(nums[3:]) #처음부터 인덱스 3값까지 출력\n",
        "print(nums[3:10])\n",
        "print(nums[3:len(nums)])"
      ],
      "execution_count": null,
      "outputs": [
        {
          "output_type": "stream",
          "text": [
            "[4, 5, 6, 7, 8, 9, 10]\n",
            "[4, 5, 6, 7, 8, 9, 10]\n",
            "[4, 5, 6, 7, 8, 9, 10]\n"
          ],
          "name": "stdout"
        }
      ]
    },
    {
      "cell_type": "code",
      "metadata": {
        "id": "-TZD9PBpeThz"
      },
      "source": [
        "#시작, 끝 인덱스 모두 생략 -> 리스트 전체라고 가정\n",
        "nums = [1,2,3,4,5,6,7,8,9,10]\n",
        "print(nums[:])"
      ],
      "execution_count": null,
      "outputs": []
    },
    {
      "cell_type": "code",
      "metadata": {
        "colab": {
          "base_uri": "https://localhost:8080/"
        },
        "id": "IOiDlG58SSht",
        "outputId": "d29069a4-c73a-448e-f2fb-4eac3d56fbd8"
      },
      "source": [
        "#특정 간격으로 슬라이싱-> 리스트명[시작인덱스:끝인덱스:간격]\n",
        "nums = [1,2,3,4,5,6,7,8,9,10]\n",
        "print(nums[3:8:2]) # 인덱스 3값부터 인덱스 7값까지 2 간격으로 추출 \n",
        "print(nums[-7:-2:2]) # -7번 인덱스부터 -3번 인덱스까지 2 간격으로 추출"
      ],
      "execution_count": null,
      "outputs": [
        {
          "output_type": "stream",
          "text": [
            "[4, 6, 8]\n",
            "[4, 6, 8]\n"
          ],
          "name": "stdout"
        }
      ]
    },
    {
      "cell_type": "code",
      "metadata": {
        "colab": {
          "base_uri": "https://localhost:8080/"
        },
        "id": "pvZSqkdRSVjj",
        "outputId": "3d21a79e-035e-451d-9a32-7719bdf26774"
      },
      "source": [
        "#음수 이용 인덱싱 (음수 간격: 거꾸로)\n",
        "nums = [1,2,3,4,5,6,7,8,9,10]\n",
        "\n",
        "print(nums[8:3:-1])\n",
        "print(nums[-2:-7:-1])\n",
        "\n",
        "print(nums[::-1])\n",
        "\n",
        "print(nums[-3:-8:-2])\n",
        "print(nums[7:2:-2])\n",
        "print(nums[-2:-7])\n",
        "print(nums[8:3])"
      ],
      "execution_count": null,
      "outputs": [
        {
          "output_type": "stream",
          "text": [
            "[9, 8, 7, 6, 5]\n",
            "[9, 8, 7, 6, 5]\n",
            "[10, 9, 8, 7, 6, 5, 4, 3, 2, 1]\n",
            "[8, 6, 4]\n",
            "[8, 6, 4]\n",
            "[]\n",
            "[]\n"
          ],
          "name": "stdout"
        }
      ]
    },
    {
      "cell_type": "code",
      "metadata": {
        "id": "KsXybsFcMvoj"
      },
      "source": [
        ""
      ],
      "execution_count": null,
      "outputs": []
    },
    {
      "cell_type": "markdown",
      "metadata": {
        "id": "TgXziJ3ue2K6"
      },
      "source": [
        "***슬라이싱 추가 예제***"
      ]
    },
    {
      "cell_type": "code",
      "metadata": {
        "colab": {
          "base_uri": "https://localhost:8080/"
        },
        "id": "WxWG9vmoHnjq",
        "outputId": "10eb9b7e-bb1f-4d63-ad05-b3f229081291"
      },
      "source": [
        "a = [1,2,3,['a','b','c'],4,5]\n",
        "print(a[2:5])\n",
        "print(a[-5:-3])"
      ],
      "execution_count": null,
      "outputs": [
        {
          "output_type": "stream",
          "text": [
            "[3, ['a', 'b', 'c'], 4]\n",
            "[2, 3]\n"
          ],
          "name": "stdout"
        }
      ]
    },
    {
      "cell_type": "markdown",
      "metadata": {
        "id": "o9AVLRLufIDu"
      },
      "source": [
        "# **리스트 기타 코드**"
      ]
    },
    {
      "cell_type": "markdown",
      "metadata": {
        "id": "aocwR8rte8zm"
      },
      "source": [
        "***리스트 더하기 및 곱하기***"
      ]
    },
    {
      "cell_type": "code",
      "metadata": {
        "colab": {
          "base_uri": "https://localhost:8080/"
        },
        "id": "j5m3C65cLlCB",
        "outputId": "e33b60b4-ebf6-4df5-b791-34e2cf3fd646"
      },
      "source": [
        "#리스트 더하기\n",
        "a = [1,2,3]\n",
        "b = [4,5,6]\n",
        "print(a+b)\n",
        "\n",
        "#리스트 곱하기\n",
        "a = [1,2,3]\n",
        "b = a*3\n",
        "print(b)"
      ],
      "execution_count": null,
      "outputs": [
        {
          "output_type": "stream",
          "text": [
            "[1, 2, 3, 4, 5, 6]\n",
            "[1, 2, 3, 1, 2, 3, 1, 2, 3]\n"
          ],
          "name": "stdout"
        }
      ]
    },
    {
      "cell_type": "code",
      "metadata": {
        "colab": {
          "base_uri": "https://localhost:8080/"
        },
        "id": "nOgY3FAZMwtf",
        "outputId": "fd78acf3-e909-400a-f84d-5c6e8f05fa23"
      },
      "source": [
        ""
      ],
      "execution_count": null,
      "outputs": [
        {
          "output_type": "execute_result",
          "data": {
            "text/plain": [
              "[1, 2, 1, 2, 1, 2]"
            ]
          },
          "metadata": {
            "tags": []
          },
          "execution_count": 15
        }
      ]
    },
    {
      "cell_type": "markdown",
      "metadata": {
        "id": "0DGgslCnfAZ7"
      },
      "source": [
        "***리스트 크기(길이) 구하기***"
      ]
    },
    {
      "cell_type": "code",
      "metadata": {
        "colab": {
          "base_uri": "https://localhost:8080/"
        },
        "id": "CePhZTdjMIzP",
        "outputId": "804a2864-3bb9-4e27-ee99-a3e8b646c54e"
      },
      "source": [
        "#리스트 크기(길이) 구하기 -> len(리스트명)\n",
        "\n",
        "a = [1,2,3,4,5,6,7,8,9,10]\n",
        "print(len(a))\n",
        "fruits = ['사과','오렌지','포도','수박','바나나']\n",
        "print(len(fruits))"
      ],
      "execution_count": null,
      "outputs": [
        {
          "output_type": "stream",
          "text": [
            "10\n",
            "5\n"
          ],
          "name": "stdout"
        }
      ]
    },
    {
      "cell_type": "markdown",
      "metadata": {
        "id": "eAZIpHnOWlLI"
      },
      "source": [
        "# **리스트 요소값 변경하기**\n",
        "\n",
        "지정한 인덱스의 요소값을 변경한다.\n",
        "리스트명[index] = item\n"
      ]
    },
    {
      "cell_type": "code",
      "metadata": {
        "colab": {
          "base_uri": "https://localhost:8080/"
        },
        "id": "He85QXIkNKnj",
        "outputId": "dfe78af6-6353-4403-cf65-417cd37fd6ed"
      },
      "source": [
        "fruits = ['사과','오렌지','포도','수박','바나나']\n",
        "fruits[1] = '망고'\n",
        "print(fruits)\n",
        "\n",
        "fruits[3] = '메론'\n",
        "print(fruits)\n",
        "\n",
        "k=1\n",
        "fruits[k+1] = '망고스틴'\n",
        "print(fruits)\n"
      ],
      "execution_count": null,
      "outputs": [
        {
          "output_type": "stream",
          "text": [
            "['사과', '망고', '포도', '수박', '바나나']\n",
            "['사과', '망고', '포도', '메론', '바나나']\n",
            "['사과', '망고', '망고스틴', '메론', '바나나']\n"
          ],
          "name": "stdout"
        }
      ]
    },
    {
      "cell_type": "markdown",
      "metadata": {
        "id": "mOeCXbhdcRSx"
      },
      "source": [
        "리스트 요소값 변경 시 인덱스 범위 벗어나면 오류남"
      ]
    },
    {
      "cell_type": "code",
      "metadata": {
        "colab": {
          "base_uri": "https://localhost:8080/",
          "height": 215
        },
        "id": "Cz1WfPTzNl1I",
        "outputId": "57ffe6e4-e321-4dd9-9661-8badcd3046aa"
      },
      "source": [
        "fruits = ['사과','오렌지','포도','수박','바나나']\n",
        "fruits[5] = '망고'\n",
        "print(fruits)"
      ],
      "execution_count": null,
      "outputs": [
        {
          "output_type": "error",
          "ename": "IndexError",
          "evalue": "ignored",
          "traceback": [
            "\u001b[0;31m---------------------------------------------------------------------------\u001b[0m",
            "\u001b[0;31mIndexError\u001b[0m                                Traceback (most recent call last)",
            "\u001b[0;32m<ipython-input-70-11a0360103b0>\u001b[0m in \u001b[0;36m<module>\u001b[0;34m()\u001b[0m\n\u001b[1;32m      2\u001b[0m \u001b[0;34m\u001b[0m\u001b[0m\n\u001b[1;32m      3\u001b[0m \u001b[0mfruits\u001b[0m \u001b[0;34m=\u001b[0m \u001b[0;34m[\u001b[0m\u001b[0;34m'사과'\u001b[0m\u001b[0;34m,\u001b[0m\u001b[0;34m'오렌지'\u001b[0m\u001b[0;34m,\u001b[0m\u001b[0;34m'포도'\u001b[0m\u001b[0;34m,\u001b[0m\u001b[0;34m'수박'\u001b[0m\u001b[0;34m,\u001b[0m\u001b[0;34m'바나나'\u001b[0m\u001b[0;34m]\u001b[0m\u001b[0;34m\u001b[0m\u001b[0;34m\u001b[0m\u001b[0m\n\u001b[0;32m----> 4\u001b[0;31m \u001b[0mfruits\u001b[0m\u001b[0;34m[\u001b[0m\u001b[0;36m5\u001b[0m\u001b[0;34m]\u001b[0m \u001b[0;34m=\u001b[0m \u001b[0;34m'망고'\u001b[0m\u001b[0;34m\u001b[0m\u001b[0;34m\u001b[0m\u001b[0m\n\u001b[0m\u001b[1;32m      5\u001b[0m \u001b[0mprint\u001b[0m\u001b[0;34m(\u001b[0m\u001b[0mfruits\u001b[0m\u001b[0;34m)\u001b[0m\u001b[0;34m\u001b[0m\u001b[0;34m\u001b[0m\u001b[0m\n",
            "\u001b[0;31mIndexError\u001b[0m: list assignment index out of range"
          ]
        }
      ]
    },
    {
      "cell_type": "markdown",
      "metadata": {
        "id": "3-qjawAvcZt7"
      },
      "source": [
        "리스트 요소값 여러 개의 항목 변경하기  \n",
        "\n",
        "- 슬라이싱으로 여러 개의 항목을 한 번에 변경하기\n",
        "\n",
        "- 리스트명[시작인덱스:끝인덱스] = [item1, item2, ..., itemN]\n"
      ]
    },
    {
      "cell_type": "code",
      "metadata": {
        "colab": {
          "base_uri": "https://localhost:8080/"
        },
        "id": "2wv0Od23RgvU",
        "outputId": "0f1fc89e-b567-4be7-fe0a-73d2d41cd257"
      },
      "source": [
        "fruits = ['사과','오렌지','포도','수박','바나나']\n",
        "fruits[1:3] = ['수박','망고','키위']\n",
        "print(fruits)\n",
        "\n",
        "fruits = ['사과','오렌지','포도','수박','바나나']\n",
        "fruits[1] = ['망고','키위','자두']\n",
        "print(fruits)\n",
        "fruits[4] = ['메론','체리']\n",
        "print(fruits)"
      ],
      "execution_count": null,
      "outputs": [
        {
          "output_type": "stream",
          "text": [
            "['사과', '수박', '망고', '키위', '수박', '바나나']\n",
            "['사과', ['망고', '키위', '자두'], '포도', '수박', '바나나']\n",
            "['사과', ['망고', '키위', '자두'], '포도', '수박', ['메론', '체리']]\n"
          ],
          "name": "stdout"
        }
      ]
    },
    {
      "cell_type": "markdown",
      "metadata": {
        "id": "pJ7hzs_uV6Iz"
      },
      "source": [
        "# **리스트 요소 삭제하기**\n",
        "\n",
        "1) del 리스트명[index]\n",
        "    -> 지정한 인덱스의 항목을 삭제한다.\n",
        "\n",
        "2) 리스트명.pop()\n",
        "    -> 리스트 마지막 요소를 반환하고 삭제한다.\n",
        "\n",
        "3) 리스트명.remove(요소)\n",
        "    -> 요소값을 이용하여 삭제한다. 삭제하고자 하는 요소의 인덱스를 알 필요가 있다. \n"
      ]
    },
    {
      "cell_type": "code",
      "metadata": {
        "id": "DYPEk9WNRxAM",
        "colab": {
          "base_uri": "https://localhost:8080/"
        },
        "outputId": "22308deb-abf2-46a5-dde7-02bd91a29049"
      },
      "source": [
        "#1) del: 인덱스 값으로 추출\n",
        "fruits = ['사과','딸기','바나나', '복숭아','파인애플']\n",
        "del fruits[3]\n",
        "print(fruits)\n",
        "\n",
        "fruits = ['사과','딸기','바나나', '복숭아','파인애플']\n",
        "del fruits[3:5]\n",
        "print(fruits)"
      ],
      "execution_count": null,
      "outputs": [
        {
          "output_type": "stream",
          "text": [
            "['사과', '딸기', '바나나', '파인애플']\n",
            "['사과', '딸기', '바나나']\n"
          ],
          "name": "stdout"
        }
      ]
    },
    {
      "cell_type": "code",
      "metadata": {
        "colab": {
          "base_uri": "https://localhost:8080/"
        },
        "id": "HsBYYUmEEgxZ",
        "outputId": "cf6db6a5-8785-4feb-acd7-35024b6f98d5"
      },
      "source": [
        "list1 = ['가','나','다']\n",
        "del list1[1:2]\n",
        "list1"
      ],
      "execution_count": null,
      "outputs": [
        {
          "output_type": "execute_result",
          "data": {
            "text/plain": [
              "['가', '다']"
            ]
          },
          "metadata": {
            "tags": []
          },
          "execution_count": 2
        }
      ]
    },
    {
      "cell_type": "code",
      "metadata": {
        "colab": {
          "base_uri": "https://localhost:8080/"
        },
        "id": "tzUC8WSuVFmC",
        "outputId": "7a437830-aa43-4825-f480-93f25270a10c"
      },
      "source": [
        "#2) 리스트명.pop(): 인덱스 값으로 추출, 마지막 값 리턴, 리스트는 마지막 값 제외.\n",
        "fruits = ['사과','딸기','바나나', '복숭아','파인애플']\n",
        "last_fruit = fruits.pop()\n",
        "print(last_fruit)\n",
        "print(fruits)\n",
        "\n",
        "\n",
        "fruits = ['사과','딸기','바나나', ['복숭아','파인애플']]\n",
        "last_fruit = fruits.pop()\n",
        "print(last_fruit)\n",
        "print(fruits)\n",
        "print(fruits, last_fruit)"
      ],
      "execution_count": null,
      "outputs": [
        {
          "output_type": "stream",
          "text": [
            "파인애플\n",
            "['사과', '딸기', '바나나', '복숭아']\n",
            "['복숭아', '파인애플']\n",
            "['사과', '딸기', '바나나']\n",
            "['사과', '딸기', '바나나'] ['복숭아', '파인애플']\n"
          ],
          "name": "stdout"
        }
      ]
    },
    {
      "cell_type": "code",
      "metadata": {
        "id": "EbhtdXc-Vtqg",
        "colab": {
          "base_uri": "https://localhost:8080/"
        },
        "outputId": "0cab9b59-186d-4735-bee8-0edd9296d639"
      },
      "source": [
        "#3) 리스트명.remove(요소): 요소 값으로 추출\n",
        "fruits = ['사과','딸기','바나나', '복숭아','파인애플']\n",
        "fruits.remove('바나나')\n",
        "print(fruits)\n",
        "\n",
        "#해당하는 요소가 2개 이상인 경우, 첫번째 요소만 삭제한다. \n",
        "fruits = ['사과','딸기','바나나', '복숭아','파인애플','바나나']\n",
        "fruits.remove('바나나')\n",
        "print(fruits)"
      ],
      "execution_count": null,
      "outputs": [
        {
          "output_type": "stream",
          "text": [
            "['사과', '딸기', '복숭아', '파인애플']\n",
            "['사과', '딸기', '복숭아', '파인애플', '바나나']\n"
          ],
          "name": "stdout"
        }
      ]
    },
    {
      "cell_type": "markdown",
      "metadata": {
        "id": "d2bky1zbbsRu"
      },
      "source": [
        "***리스트 요소 삭제 추가 예제***"
      ]
    },
    {
      "cell_type": "code",
      "metadata": {
        "colab": {
          "base_uri": "https://localhost:8080/"
        },
        "id": "JBhbWXU-YZQS",
        "outputId": "0bc996e4-f379-459f-840b-bfcb7955f99b"
      },
      "source": [
        "days = ['월','화','수','목','금','토','일']\n",
        "\n",
        "#수요일 지우기 - 1. del 사용: 인덱스 값 사용(o), 요소 값 사용(x) \n",
        "del days[2]\n",
        "print(days)\n",
        "\n",
        "#수요일 지우기 - 2. pop 사용: 인덱스 값 사용(o), 요소 값 사용(x)\n",
        "days = ['월','화','수','목','금','토','일']\n",
        "last_days = days.pop(2)\n",
        "print(last_days)\n",
        "print(days)\n",
        "\n",
        "#수요일 지우기 - 3.remove 사용: 요소 값 사용(o), 인덱스 값 사용(x)\n",
        "days = ['월','화','수','목','금','토','일']\n",
        "days.remove('수')\n",
        "print(days)\n"
      ],
      "execution_count": null,
      "outputs": [
        {
          "output_type": "stream",
          "text": [
            "['월', '화', '목', '금', '토', '일']\n",
            "수\n",
            "['월', '화', '목', '금', '토', '일']\n",
            "['월', '화', '목', '금', '토', '일']\n"
          ],
          "name": "stdout"
        }
      ]
    },
    {
      "cell_type": "markdown",
      "metadata": {
        "id": "bJDm8F5EhKyK"
      },
      "source": [
        "***해당 요소가 리스트에 있는지 확인한 후 지우기***"
      ]
    },
    {
      "cell_type": "code",
      "metadata": {
        "colab": {
          "base_uri": "https://localhost:8080/",
          "height": 198
        },
        "id": "iHiDUAa2hpKM",
        "outputId": "e008c431-842a-42ce-c600-1a6112260014"
      },
      "source": [
        "#해당 요소가 리스트에 없는 경우 에러가 남\n",
        "fruits = ['사과','딸기','바나나', '복숭아','파인애플']\n",
        "fruits.remove('망고')\n",
        "fruits"
      ],
      "execution_count": null,
      "outputs": [
        {
          "output_type": "error",
          "ename": "ValueError",
          "evalue": "ignored",
          "traceback": [
            "\u001b[0;31m---------------------------------------------------------------------------\u001b[0m",
            "\u001b[0;31mValueError\u001b[0m                                Traceback (most recent call last)",
            "\u001b[0;32m<ipython-input-108-7b62f8ac295a>\u001b[0m in \u001b[0;36m<module>\u001b[0;34m()\u001b[0m\n\u001b[1;32m      1\u001b[0m \u001b[0mfruits\u001b[0m \u001b[0;34m=\u001b[0m \u001b[0;34m[\u001b[0m\u001b[0;34m'사과'\u001b[0m\u001b[0;34m,\u001b[0m\u001b[0;34m'딸기'\u001b[0m\u001b[0;34m,\u001b[0m\u001b[0;34m'바나나'\u001b[0m\u001b[0;34m,\u001b[0m \u001b[0;34m'복숭아'\u001b[0m\u001b[0;34m,\u001b[0m\u001b[0;34m'파인애플'\u001b[0m\u001b[0;34m]\u001b[0m\u001b[0;34m\u001b[0m\u001b[0;34m\u001b[0m\u001b[0m\n\u001b[0;32m----> 2\u001b[0;31m \u001b[0mfruits\u001b[0m\u001b[0;34m.\u001b[0m\u001b[0mremove\u001b[0m\u001b[0;34m(\u001b[0m\u001b[0;34m'망고'\u001b[0m\u001b[0;34m)\u001b[0m\u001b[0;34m\u001b[0m\u001b[0;34m\u001b[0m\u001b[0m\n\u001b[0m\u001b[1;32m      3\u001b[0m \u001b[0mfruits\u001b[0m\u001b[0;34m\u001b[0m\u001b[0;34m\u001b[0m\u001b[0m\n",
            "\u001b[0;31mValueError\u001b[0m: list.remove(x): x not in list"
          ]
        }
      ]
    },
    {
      "cell_type": "code",
      "metadata": {
        "colab": {
          "base_uri": "https://localhost:8080/"
        },
        "id": "4Xl04Kg_aGIb",
        "outputId": "03e5c30a-66b6-42a3-d452-a7af3e72c0c7"
      },
      "source": [
        "#해당 요소가 리스트에 있는지 확인하고 삭제하기\n",
        "fruits = ['사과','딸기','바나나', '복숭아','파인애플']\n",
        "if '망고' in fruits:\n",
        "    fruits.remove('망고')\n",
        "fruits"
      ],
      "execution_count": null,
      "outputs": [
        {
          "output_type": "execute_result",
          "data": {
            "text/plain": [
              "['사과', '딸기', '바나나', '복숭아', '파인애플']"
            ]
          },
          "metadata": {
            "tags": []
          },
          "execution_count": 109
        }
      ]
    },
    {
      "cell_type": "code",
      "metadata": {
        "colab": {
          "base_uri": "https://localhost:8080/"
        },
        "id": "WC7Ig9S5GU7v",
        "outputId": "a7a3161c-7da1-4e42-86f2-2f43c66fd039"
      },
      "source": [
        "fruits = ['사과','딸기','바나나', '복숭아','파인애플']\n",
        "\n",
        "if '복숭아' in fruits:\n",
        "    fruits.remove('딸기')\n",
        "fruits"
      ],
      "execution_count": null,
      "outputs": [
        {
          "output_type": "execute_result",
          "data": {
            "text/plain": [
              "['사과', '바나나', '복숭아', '파인애플']"
            ]
          },
          "metadata": {
            "tags": []
          },
          "execution_count": 10
        }
      ]
    },
    {
      "cell_type": "markdown",
      "metadata": {
        "id": "DK-fU41qijlU"
      },
      "source": [
        "# **리스트에 요소 추가 (append)**\n",
        "\n",
        "- 리스트의 맨 마지막에 요소를 추가한다.\n",
        "- 리스트명.append(요소)"
      ]
    },
    {
      "cell_type": "code",
      "metadata": {
        "colab": {
          "base_uri": "https://localhost:8080/"
        },
        "id": "xydg1W5Qhckz",
        "outputId": "6bd5544e-a251-408d-a819-1f435156a6fc"
      },
      "source": [
        "fruits = ['사과','딸기','바나나', '복숭아','파인애플']\n",
        "fruits.append('오렌지') #하나씩만 입력 가능\n",
        "fruits.append('망고')\n",
        "fruits"
      ],
      "execution_count": null,
      "outputs": [
        {
          "output_type": "execute_result",
          "data": {
            "text/plain": [
              "['사과', '딸기', '바나나', '복숭아', '파인애플', '오렌지', '망고']"
            ]
          },
          "metadata": {
            "tags": []
          },
          "execution_count": 110
        }
      ]
    },
    {
      "cell_type": "code",
      "metadata": {
        "colab": {
          "base_uri": "https://localhost:8080/"
        },
        "id": "9Os4ZdG9G40h",
        "outputId": "521a04ce-e6ec-4f37-8ec9-a2c0e701f77a"
      },
      "source": [
        "list6 = ['가','나','다','라']\n",
        "list6.append('마')\n",
        "list6\n",
        "\n",
        "list7 = ['바','사','아','자']\n",
        "list8 = list6 + list7\n",
        "list8"
      ],
      "execution_count": null,
      "outputs": [
        {
          "output_type": "execute_result",
          "data": {
            "text/plain": [
              "['가', '나', '다', '라', '마', '바', '사', '아', '자']"
            ]
          },
          "metadata": {
            "tags": []
          },
          "execution_count": 13
        }
      ]
    },
    {
      "cell_type": "markdown",
      "metadata": {
        "id": "I5HjL7NejZN1"
      },
      "source": [
        "# **리스트에 요소 삽입 (insert)**\n",
        "\n",
        "- 지정한 인덱스에 요소를 삽입한다.\n",
        "- 리스트명.insert(인덱스, 요소)"
      ]
    },
    {
      "cell_type": "code",
      "metadata": {
        "colab": {
          "base_uri": "https://localhost:8080/"
        },
        "id": "ntHUcJaqjgjL",
        "outputId": "911a8f91-e4a7-421b-ee2a-48acef40b1bd"
      },
      "source": [
        "fruits = ['사과','딸기','바나나', '복숭아','파인애플']\n",
        "fruits.insert(2,'오렌지') #'오렌지'를 '바나나' 전에 삽입\n",
        "fruits"
      ],
      "execution_count": null,
      "outputs": [
        {
          "output_type": "execute_result",
          "data": {
            "text/plain": [
              "['사과', '딸기', '오렌지', '바나나', '복숭아', '파인애플']"
            ]
          },
          "metadata": {
            "tags": []
          },
          "execution_count": 15
        }
      ]
    },
    {
      "cell_type": "code",
      "metadata": {
        "colab": {
          "base_uri": "https://localhost:8080/"
        },
        "id": "23w65Ks5HX8C",
        "outputId": "1d761714-837e-4b18-ade6-016c3bc86228"
      },
      "source": [
        "fruits.insert(2,'망고')\n",
        "fruits"
      ],
      "execution_count": null,
      "outputs": [
        {
          "output_type": "execute_result",
          "data": {
            "text/plain": [
              "['사과', '딸기', '망고', '오렌지', '바나나', '복숭아', '파인애플']"
            ]
          },
          "metadata": {
            "tags": []
          },
          "execution_count": 16
        }
      ]
    },
    {
      "cell_type": "markdown",
      "metadata": {
        "id": "Sns8HlUmkQ_R"
      },
      "source": [
        "# **리스트에 여러 요소 추가 (extend)**\n",
        "\n",
        "- 리스트 마지막에 여러 요소를 한 번에 추가한다. (요소 두 개 이상)\n",
        "- 리스트명.extend(리스트)"
      ]
    },
    {
      "cell_type": "code",
      "metadata": {
        "colab": {
          "base_uri": "https://localhost:8080/"
        },
        "id": "_Hht9ZMki4iZ",
        "outputId": "121514f3-173c-4f19-f195-864917dfdbd2"
      },
      "source": [
        "fruits = ['사과','딸기','바나나', '복숭아','파인애플']\n",
        "fruits.extend(['망고','포도'])\n",
        "print(fruits)\n",
        "\n",
        "fruits = ['사과','딸기','바나나', '복숭아','파인애플']\n",
        "fruits.extend(('망고','포도')) #소괄호 대신 사용 가능\n",
        "print(fruits)"
      ],
      "execution_count": null,
      "outputs": [
        {
          "output_type": "stream",
          "text": [
            "['사과', '딸기', '바나나', '복숭아', '파인애플', '망고', '포도']\n",
            "['사과', '딸기', '바나나', '복숭아', '파인애플', '망고', '포도']\n"
          ],
          "name": "stdout"
        }
      ]
    },
    {
      "cell_type": "code",
      "metadata": {
        "colab": {
          "base_uri": "https://localhost:8080/"
        },
        "id": "NNVs3QPsHwJU",
        "outputId": "7e66e4fe-e84a-418c-a71e-b41878a9ebe4"
      },
      "source": [
        "list10 = ['가','나','다','라']\n",
        "list10.extend(['마','바','사'])\n",
        "list10"
      ],
      "execution_count": null,
      "outputs": [
        {
          "output_type": "execute_result",
          "data": {
            "text/plain": [
              "['가', '나', '다', '라', '마', '바', '사']"
            ]
          },
          "metadata": {
            "tags": []
          },
          "execution_count": 18
        }
      ]
    },
    {
      "cell_type": "markdown",
      "metadata": {
        "id": "y5kgAkXCnH6f"
      },
      "source": [
        "***요소의 위치 찾기***\n",
        "\n",
        "- 리스트에서 특정 요소의 인덱스 찾기\n",
        "- 리스트명.index(요소)"
      ]
    },
    {
      "cell_type": "code",
      "metadata": {
        "colab": {
          "base_uri": "https://localhost:8080/"
        },
        "id": "oiuqdUsnmLCl",
        "outputId": "54c09261-fa8c-40d4-b7d6-621526e288d0"
      },
      "source": [
        "fruits = ['사과','딸기','바나나', '복숭아','파인애플']\n",
        "print(fruits.index('딸기'))\n",
        "\n",
        "fruits = ['사과','딸기','바나나', '복숭아','파인애플','딸기']\n",
        "print(fruits.index('딸기')) #첫번째 인덱스 값만 반환\n",
        "\n",
        "fruits.index('바나나')"
      ],
      "execution_count": null,
      "outputs": [
        {
          "output_type": "stream",
          "text": [
            "1\n",
            "1\n"
          ],
          "name": "stdout"
        },
        {
          "output_type": "execute_result",
          "data": {
            "text/plain": [
              "2"
            ]
          },
          "metadata": {
            "tags": []
          },
          "execution_count": 19
        }
      ]
    },
    {
      "cell_type": "code",
      "metadata": {
        "colab": {
          "base_uri": "https://localhost:8080/"
        },
        "id": "Ep_VF7f9mZNw",
        "outputId": "5455ef05-c82b-43c0-f39c-0fbc5f460eff"
      },
      "source": [
        "#리스트에 요소가 존재하는지 검사 후 찾기\n",
        "if '망고' in fruits:\n",
        "    print(fruits.index('망고'))\n",
        "else:\n",
        "    print('해당 요소가 존재하지 않음')"
      ],
      "execution_count": null,
      "outputs": [
        {
          "output_type": "stream",
          "text": [
            "해당 요소가 존재하지 않음\n"
          ],
          "name": "stdout"
        }
      ]
    },
    {
      "cell_type": "code",
      "metadata": {
        "colab": {
          "base_uri": "https://localhost:8080/"
        },
        "id": "7eUxLyUJJDvn",
        "outputId": "6537bf8f-2b74-401e-98e8-6a993eba96ac"
      },
      "source": [
        "if '망고스틴' in fruits:\n",
        "    print('망고스틴')\n",
        "else:\n",
        "    fruits.append('망고스틴')\n",
        "fruits"
      ],
      "execution_count": null,
      "outputs": [
        {
          "output_type": "execute_result",
          "data": {
            "text/plain": [
              "['사과', '딸기', '바나나', '복숭아', '파인애플', '딸기', '망고스틴']"
            ]
          },
          "metadata": {
            "tags": []
          },
          "execution_count": 21
        }
      ]
    },
    {
      "cell_type": "markdown",
      "metadata": {
        "id": "BzG9WxXMnnKQ"
      },
      "source": [
        "# **멤버 연산자 in, not in**\n",
        "\n",
        "여러 데이터 중 원하는 데이터가 존재하는지 여부를 검사하는 연산자 \n",
        "\n",
        "in\n",
        "\n",
        "- 데이터들 중 원하는 데이터가 존재하면 True 반환\n",
        "- 예:\n",
        "    - 1 in (1,2,3,4) # True\n",
        "    - 5 in [1,2,3,4] # False\n",
        "    - 'p' in 'python' # True\n",
        "    - 'a' in 'python' # False\n",
        "\n",
        "not in\n",
        "\n",
        "- 데이터들 중 원하는 데이터가 존재하지 않으면 True 반환\n",
        "- 예:\n",
        "    - 1 not in (1,2,3,4) # False\n",
        "    - 5 not in [1,2,3,4] # True\n",
        "    - 'p' not in 'python' # False\n",
        "    - 'a' not in 'python' # True"
      ]
    },
    {
      "cell_type": "markdown",
      "metadata": {
        "id": "KgtidraRoOo0"
      },
      "source": [
        "# **요소의 위치 찾기**\n",
        "\n",
        "과일 이름을 입력받아 리스트에 과일 이름이 존재하는지 확인 후 존재한다면 인덱스 위치를 출력하고 존재하지 않는다면 '해당 요소가 존재하지 않음'를 출력하는 프로그램을 작성하세요. "
      ]
    },
    {
      "cell_type": "code",
      "metadata": {
        "colab": {
          "base_uri": "https://localhost:8080/"
        },
        "id": "XAy0pl6lnA6Z",
        "outputId": "2ce29402-4831-4077-e2d5-96b5df07812b"
      },
      "source": [
        "#리스트에 요소가 존재하는지 검사 후 인덱스 찾기\n",
        "fruits = ['사과','딸기','바나나', '복숭아','파인애플']\n",
        "fruit_name = input('과일이름: ')\n",
        "if fruit_name in fruits:\n",
        "    print(fruits.index(fruit_name))\n",
        "else:\n",
        "    print('해당 요소가 존재하지 않음')\n"
      ],
      "execution_count": null,
      "outputs": [
        {
          "output_type": "stream",
          "text": [
            "과일이름:망고\n",
            "해당 요소가 존재하지 않음\n"
          ],
          "name": "stdout"
        }
      ]
    },
    {
      "cell_type": "code",
      "metadata": {
        "colab": {
          "base_uri": "https://localhost:8080/"
        },
        "id": "kyd7kFxqJm_7",
        "outputId": "4d1d18fb-8370-46da-a5d9-0181a3597885"
      },
      "source": [
        "list11 = ['가','나','다']\n",
        "find = input('find: ')\n",
        "if find in list11:\n",
        "    print(list11.index(find))\n",
        "else:\n",
        "    print('해당 요소 없음')"
      ],
      "execution_count": null,
      "outputs": [
        {
          "output_type": "stream",
          "text": [
            "find: 라\n",
            "해당 요소 없음\n"
          ],
          "name": "stdout"
        }
      ]
    },
    {
      "cell_type": "markdown",
      "metadata": {
        "id": "qvYTqiRvpWFU"
      },
      "source": [
        "# **특정 요소의 개수 추출 (count)**\n",
        "\n",
        "- 리스트에서 지정한 요소의 개수를 반환한다.\n",
        "- 리스트명.count(요소)"
      ]
    },
    {
      "cell_type": "code",
      "metadata": {
        "colab": {
          "base_uri": "https://localhost:8080/"
        },
        "id": "SWb3QxAyorCt",
        "outputId": "270dd59d-3d48-41dd-a320-a690d727b8c0"
      },
      "source": [
        "fruits = ['사과','딸기','사과','바나나', '복숭아','파인애플','파인애플','파인애플']\n",
        "print(fruits.count('사과')) #리스트에 '사과' 개수 카운트 \n",
        "print(fruits.count('파인애플'))"
      ],
      "execution_count": null,
      "outputs": [
        {
          "output_type": "stream",
          "text": [
            "2\n",
            "3\n"
          ],
          "name": "stdout"
        }
      ]
    },
    {
      "cell_type": "markdown",
      "metadata": {
        "id": "G8FacwZhtRUI"
      },
      "source": [
        "# **리스트 정렬**\n",
        "\n",
        "- 리스트 원본을 정렬한다.\n",
        "    - 오름차순 정렬: 리스트명.sort() \n",
        "    - 내림차순 정렬: 리스트명.sort(reverse=True)\n",
        "\n",
        "- 리스트 원본은 건드리지 않고 정렬된 새로운 리스트를 반환한다.\n",
        "    - 오름차순 정렬: sorted(리스트명)\n",
        "    - 내림차순 정렬: sorted(리스트명, reverse=True)"
      ]
    },
    {
      "cell_type": "code",
      "metadata": {
        "colab": {
          "base_uri": "https://localhost:8080/"
        },
        "id": "0I_1e6C4t7ad",
        "outputId": "5fa7ac3e-8e60-4dc7-a70e-7d38b00c3637"
      },
      "source": [
        "#sort \n",
        "fruits = ['사과','딸기','사과','바나나', '복숭아','파인애플']\n",
        "fruits.sort() #오름차순\n",
        "print(fruits)\n",
        "fruits.sort(reverse=True) #내림차순\n",
        "print(fruits)"
      ],
      "execution_count": null,
      "outputs": [
        {
          "output_type": "stream",
          "text": [
            "['딸기', '바나나', '복숭아', '사과', '사과', '파인애플']\n",
            "['파인애플', '사과', '사과', '복숭아', '바나나', '딸기']\n",
            "원본:  ['파인애플', '사과', '사과', '복숭아', '바나나', '딸기']\n",
            "정렬:  ['딸기', '바나나', '복숭아', '사과', '사과', '파인애플']\n",
            "원본:  ['파인애플', '사과', '사과', '복숭아', '바나나', '딸기']\n",
            "정렬:  ['파인애플', '사과', '사과', '복숭아', '바나나', '딸기']\n"
          ],
          "name": "stdout"
        }
      ]
    },
    {
      "cell_type": "code",
      "metadata": {
        "colab": {
          "base_uri": "https://localhost:8080/"
        },
        "id": "OBLl5LMWKwNf",
        "outputId": "9527aec7-8381-427a-8221-8314cbdda4d6"
      },
      "source": [
        "list12 = ['라','가','바','히','오']\n",
        "list12.sort()\n",
        "print(list12)\n",
        "list12.sort(reverse = True)\n",
        "print(list12)"
      ],
      "execution_count": null,
      "outputs": [
        {
          "output_type": "stream",
          "text": [
            "['가', '라', '바', '오', '히']\n",
            "['히', '오', '바', '라', '가']\n"
          ],
          "name": "stdout"
        }
      ]
    },
    {
      "cell_type": "code",
      "metadata": {
        "id": "nJPh1oBvpk3Z"
      },
      "source": [
        "#sorted\n",
        "fruits = ['사과','딸기','사과','바나나', '복숭아','파인애플']\n",
        "sorted_fruits = sorted(fruits) #원본 안건들임. 오름차순\n",
        "print(\"원본: \", fruits)\n",
        "print(\"정렬: \", sorted_fruits)\n",
        "\n",
        "sorted_fruits = sorted(fruits, reverse=True) #원본 안건드림. 내림차순\n",
        "print(\"원본: \", fruits)\n",
        "print(\"정렬: \", sorted_fruits)"
      ],
      "execution_count": null,
      "outputs": []
    },
    {
      "cell_type": "code",
      "metadata": {
        "colab": {
          "base_uri": "https://localhost:8080/"
        },
        "id": "Xxg0MKVYLffR",
        "outputId": "a127feb1-ec9d-4f02-c84c-e4dbc21ad806"
      },
      "source": [
        "list12\n",
        "print('정렬',sorted(list12))\n",
        "print('원본',list12)"
      ],
      "execution_count": null,
      "outputs": [
        {
          "output_type": "stream",
          "text": [
            "정렬 ['가', '라', '바', '오', '히']\n",
            "원본 ['히', '오', '바', '라', '가']\n"
          ],
          "name": "stdout"
        }
      ]
    },
    {
      "cell_type": "markdown",
      "metadata": {
        "id": "BnyjPMO_vPft"
      },
      "source": [
        "***리스트 뒤집기 (reverse)***\n",
        "\n",
        "- 원본 파일 수정"
      ]
    },
    {
      "cell_type": "code",
      "metadata": {
        "colab": {
          "base_uri": "https://localhost:8080/"
        },
        "id": "OgQeT-oUut4q",
        "outputId": "a671775e-29e4-44e6-9bb8-c1a18a825ee4"
      },
      "source": [
        "#reverse \n",
        "fruits = ['사과','딸기','사과','바나나', '복숭아','파인애플']\n",
        "fruits.reverse()\n",
        "fruits\n"
      ],
      "execution_count": null,
      "outputs": [
        {
          "output_type": "stream",
          "text": [
            "<list_reverseiterator object at 0x7fadcd90d1d0>\n",
            "['파인애플', '복숭아', '바나나', '사과', '딸기', '사과']\n"
          ],
          "name": "stdout"
        }
      ]
    },
    {
      "cell_type": "code",
      "metadata": {
        "id": "Xn3bsk_luyaM",
        "colab": {
          "base_uri": "https://localhost:8080/"
        },
        "outputId": "56553fbc-0bd6-4adf-e97a-bbda80acd359"
      },
      "source": [
        "print(list12)\n",
        "list12.reverse()\n",
        "list12"
      ],
      "execution_count": null,
      "outputs": [
        {
          "output_type": "stream",
          "text": [
            "['히', '오', '바', '라', '가']\n"
          ],
          "name": "stdout"
        },
        {
          "output_type": "execute_result",
          "data": {
            "text/plain": [
              "['가', '라', '바', '오', '히']"
            ]
          },
          "metadata": {
            "tags": []
          },
          "execution_count": 37
        }
      ]
    },
    {
      "cell_type": "markdown",
      "metadata": {
        "id": "F9x5Hy5AwT9o"
      },
      "source": [
        "# **리스트에서 랜덤 항목 추출하기**\n",
        "\n",
        "- 리스트에서 랜덤 항목을 추출한다.\n",
        "- random.choice(리스트명)\n",
        "\n"
      ]
    },
    {
      "cell_type": "code",
      "metadata": {
        "colab": {
          "base_uri": "https://localhost:8080/"
        },
        "id": "4GapgL8jwQcU",
        "outputId": "6b2aef6d-5bf7-448c-fb82-3d08e7466c67"
      },
      "source": [
        "import random # import random -> random 함수 정의 (반드시 해야함)\n",
        "wise_saying = []\n",
        "wise_saying.append('미래는 현재 우리가 무엇을 하고 있는가에 달려있다. - 마히트마 간디')\n",
        "wise_saying.append('교육은 세상을 바꿀 수 있는 가장 강력힌 무기다 - 넬슨 만델리')\n",
        "wise_saying.append('성공하기 위한 가장 확실한 방법은 한번 더 시도해 보는 것이다 - 토마스에디슨')\n",
        "wise_saying.append('가장 불만에 가득찬 고객은 가장 위대한 배움의 원천이다 _ 빌 게이츠')\n",
        "wise_saying.append('영원히 살 것처럼 꿈꾸고 오늘 죽을 것처럼 살아라 - 제임스딘')\n",
        "wise_saying.append('경쟁우위거 없다면 경쟁하지 마라 - 잭윌치')\n",
        "wise_saying.append('삶에 실수는 없고, 배움만이 있을 뿐이다. - 지아드 압델 누어')\n",
        "wise_saying.append('어제와 똑같은 삶을 살면서 다른 미래를 기대하는 것은 정신병의 초기증세이다 -아인슈타인')\n",
        "wise_saying.append('문제점을 찾지 말고 해결책을 찾으라 - 헨리포드')\n",
        "wise_saying.append('실수를 해보지 않은 사람은 한번도 새로운 일을 시도해보지 않았던 사람이다 -아인슈타인')\n",
        "print(random.choice(wise_saying))\n",
        "print(random.sample(wise_saying,3))\n",
        "print(random.sample(wise_saying,1))"
      ],
      "execution_count": null,
      "outputs": [
        {
          "output_type": "stream",
          "text": [
            "실수를 해보지 않은 사람은 한번도 새로운 일을 시도해보지 않았던 사람이다 -아인슈타인\n",
            "['어제와 똑같은 삶을 살면서 다른 미래를 기대하는 것은 정신병의 초기증세이다 -아인슈타인', '성공하기 위한 가장 확실한 방법은 한번 더 시도해 보는 것이다 - 토마스에디슨', '영원히 살 것처럼 꿈꾸고 오늘 죽을 것처럼 살아라 - 제임스딘']\n",
            "['가장 불만에 가득찬 고객은 가장 위대한 배움의 원천이다 _ 빌 게이츠']\n"
          ],
          "name": "stdout"
        }
      ]
    },
    {
      "cell_type": "markdown",
      "metadata": {
        "id": "7-Aw_4fTx5CZ"
      },
      "source": [
        "# **리스트 합계, 최대값, 최소값 구하기**\n",
        "\n",
        "- 합계: sum(리스트명)\n",
        "- 최대값: max(리스트명)\n",
        "- 최소값: min(리스트명)"
      ]
    },
    {
      "cell_type": "code",
      "metadata": {
        "colab": {
          "base_uri": "https://localhost:8080/"
        },
        "id": "w1W5jyIvwlKu",
        "outputId": "3d56f8a2-2d2c-462a-c74c-bff6f97d3ee0"
      },
      "source": [
        "a = [1,2,3,4,5]\n",
        "b = ['a','b','c','d','e']\n",
        "c = ['상추','가지','배추','오이','당근']\n",
        "print(sum(a))\n",
        "print(max(b))\n",
        "print(min(c)) #ㄱ,ㄴ,ㄷ 순 기준 최소값 "
      ],
      "execution_count": null,
      "outputs": [
        {
          "output_type": "stream",
          "text": [
            "15\n",
            "e\n",
            "가지\n"
          ],
          "name": "stdout"
        }
      ]
    },
    {
      "cell_type": "markdown",
      "metadata": {
        "id": "qO41uk1Uyofe"
      },
      "source": [
        "# **Random 모듈**\n",
        "\n",
        "- randint(시작값,끝값): 시작값, 끝값 사이의 랜덤한 정수 반환 (끝값 포함)\n",
        "- randrange(시작값,끝값): 시작값, 끝값 사이의 랜덤한 정수 반환 (끝값 미포함), 인자가 1개인 경우 0~끝값 사이의 랜덤한 정수 반환 (끝값 미포함)\n",
        "- random(): 0.0~1.0 사이의 실수를 반환 (1.0 미포함)\n",
        "- uniform(시작값, 끝값): 시작값~끝값 사이의 실수를 반환(끝값 미포함)\n",
        "- choice(sequence): 시퀀스 데이터 내에서 무작위로 하나의 원소 추출\n",
        "- 두 개 더 있었는데 못 적음 \n"
      ]
    },
    {
      "cell_type": "code",
      "metadata": {
        "colab": {
          "base_uri": "https://localhost:8080/"
        },
        "id": "5GNkLYJANTTN",
        "outputId": "c240fb3b-0ae7-414a-d345-aafdc4cc66f8"
      },
      "source": [
        "import random\n",
        "random.randrange(1,6)\n",
        "random.choice(list12)\n",
        "random.random()"
      ],
      "execution_count": null,
      "outputs": [
        {
          "output_type": "execute_result",
          "data": {
            "text/plain": [
              "0.851423194617465"
            ]
          },
          "metadata": {
            "tags": []
          },
          "execution_count": 54
        }
      ]
    },
    {
      "cell_type": "markdown",
      "metadata": {
        "id": "3siZbpKMzPz1"
      },
      "source": [
        "예제1> 숫자들의 합계와 평균 계산하기\n",
        "\n",
        "- 사용자로부터 5개의 숫자를 입력받아 리스트에 저장하고,\n",
        "    - for 문으로 5번 반복\n",
        "    - 리스트에 요소를 추가하는 함수를 사용\n",
        "- 숫자들의 합계와 평균을 계산하여 출력하는 프로그램을 작성해보자\n",
        "    - 리스트 합계를 구하는 함수 사용\n",
        "    - 리스트 평균을 구하는 함수는 없음."
      ]
    },
    {
      "cell_type": "code",
      "metadata": {
        "id": "KSMUZtEweuQg"
      },
      "source": [
        "num_list = []\n",
        "\n",
        "for i in range(5):\n",
        "    number = int(input('숫자: '))\n",
        "    num_list.append(number)\n",
        "\n",
        "if len(num_list) != 0:\n",
        "    average = sum(num_list)/len(num_list)\n",
        "else:\n",
        "    average = 0 \n",
        "\n",
        "print(f'합계: {sum(num_list)}, 평균: {average}')"
      ],
      "execution_count": null,
      "outputs": []
    },
    {
      "cell_type": "code",
      "metadata": {
        "id": "FxDr8xbEg4zU"
      },
      "source": [
        "num_list = []\n",
        "\n",
        "for i in range(5):\n",
        "    number = int(input('숫자: '))\n",
        "    num_list.append(number)\n",
        "\n",
        "if len(num_list) != 0:\n",
        "    average = sum(num_list)/len(num_list)\n",
        "else:\n",
        "    average = 0\n",
        "\n",
        "print(f'합계 : {sum(num_list)}, 평균: {average}')"
      ],
      "execution_count": null,
      "outputs": []
    },
    {
      "cell_type": "code",
      "metadata": {
        "id": "nPz7InPh1QRS"
      },
      "source": [
        "#빈 리스트 생성\n",
        "num_list =[]\n",
        "\n",
        "#숫자 5개를 입력받아 리스트에 추가\n",
        "for i in range(5):\n",
        "    number = int(input('숫자: '))\n",
        "    num_list.append(number)\n",
        "\n",
        "#리스트의 평균 계산\n",
        "if len(num_list) != 0:\n",
        "    average = sum(num_list)/len(num_list)\n",
        "else:\n",
        "    average = 0\n",
        "\n",
        "#합계, 평균 출력\n",
        "    print(f'합계:{sum(num_list)},평균: {average}')"
      ],
      "execution_count": null,
      "outputs": []
    },
    {
      "cell_type": "code",
      "metadata": {
        "id": "jjOmSSH74MS0",
        "colab": {
          "base_uri": "https://localhost:8080/"
        },
        "outputId": "770e6fdc-d7e5-4cd4-d349-495cf6966aaf"
      },
      "source": [
        ""
      ],
      "execution_count": null,
      "outputs": [
        {
          "output_type": "stream",
          "text": [
            "h-e-l-l-o\n",
            "['hi', 'all']\n"
          ],
          "name": "stdout"
        }
      ]
    },
    {
      "cell_type": "markdown",
      "metadata": {
        "id": "Z3P6qzREHqzk"
      },
      "source": [
        ""
      ]
    }
  ]
}