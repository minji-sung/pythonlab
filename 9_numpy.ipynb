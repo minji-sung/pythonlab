{
  "nbformat": 4,
  "nbformat_minor": 0,
  "metadata": {
    "colab": {
      "name": "20210610_4팀_노애정.ipynb",
      "private_outputs": true,
      "provenance": [],
      "collapsed_sections": []
    },
    "kernelspec": {
      "name": "python3",
      "display_name": "Python 3"
    },
    "language_info": {
      "name": "python"
    }
  },
  "cells": [
    {
      "cell_type": "markdown",
      "metadata": {
        "id": "wrE9eKKjQBh9"
      },
      "source": [
        "# Numpy \n",
        "* 넘파이는 수치해석용 파이썬 패키지입니다.   \n",
        "* 다차원의 배열 자료구조 클래스인 ndarray 클래스를 지원하며 벡터와 행렬을 사용하는 선형대수 계산에 주로 사용됩니다. "
      ]
    },
    {
      "cell_type": "markdown",
      "metadata": {
        "id": "rpT0ncL8REiz"
      },
      "source": [
        "## numpy 배열생성"
      ]
    },
    {
      "cell_type": "code",
      "metadata": {
        "id": "f8D0aMzKP23V"
      },
      "source": [
        "import numpy as np  \n",
        "list_data = [1,2,3]\n",
        "array = np.array(list_data)\n",
        "print(array)"
      ],
      "execution_count": null,
      "outputs": []
    },
    {
      "cell_type": "code",
      "metadata": {
        "id": "yzJgTTrbIBrb"
      },
      "source": [
        "list1 = range(1,10)\n",
        "print(list1)\n",
        "arr1 = np.zeros(10)\n",
        "print(arr1)"
      ],
      "execution_count": null,
      "outputs": []
    },
    {
      "cell_type": "markdown",
      "metadata": {
        "id": "UuHPjNQSR0Rr"
      },
      "source": [
        "특정범위로 배열생성"
      ]
    },
    {
      "cell_type": "code",
      "metadata": {
        "id": "hPiCNrNmRLwP"
      },
      "source": [
        "a1 = np.arange(10)\n",
        "print(a1)\n",
        "a2 = np.arange(10,20)\n",
        "print(a2)\n",
        "a3 = np.arange(1,20,2)\n",
        "print(a3)\n",
        "a4 = np.arange(1,2,0.1)\n",
        "print(a4)"
      ],
      "execution_count": null,
      "outputs": []
    },
    {
      "cell_type": "markdown",
      "metadata": {
        "id": "pyYz8o1oR_wy"
      },
      "source": [
        "특정값의 배열 생성"
      ]
    },
    {
      "cell_type": "code",
      "metadata": {
        "id": "hZBEjAJUSTkS"
      },
      "source": [
        "a1 = np.zeros(10)\n",
        "print(a1)\n",
        "a2 = np.ones(10)\n",
        "print(a2)\n",
        "a1 = np.zeros(10)\n",
        "print(a1)\n",
        "x = [1,2,3]\n",
        "a2 = np.zeros_like(x)\n",
        "print(a2)"
      ],
      "execution_count": null,
      "outputs": []
    },
    {
      "cell_type": "code",
      "metadata": {
        "id": "lLu1w9HfMILD"
      },
      "source": [
        "'''\n",
        "import numpy as np \n",
        "arr = np.array([[1,2,3],[4,5,6],[7,8,9]],\n",
        "               [[1,2,3],[4,5,6],[7,8,9]],\n",
        "               [[1,2,3],[4,5,6],[7,8,9]]])\n",
        "print(arr)\n",
        "'''"
      ],
      "execution_count": null,
      "outputs": []
    },
    {
      "cell_type": "markdown",
      "metadata": {
        "id": "tkQwfT-QSqSf"
      },
      "source": [
        "numpy 데이터 타입 통일"
      ]
    },
    {
      "cell_type": "code",
      "metadata": {
        "id": "6lugl1ahSy08"
      },
      "source": [
        "# str이나 uniode등으로 문자열을 지정할 경우의 dtype은 <U1\n",
        "a1 = np.array([1,'2',3])\n",
        "print(a1,a1.dtype)\n",
        "a2 = np.array([1,2.0,3])\n",
        "print(a2,a2.dtype)"
      ],
      "execution_count": null,
      "outputs": []
    },
    {
      "cell_type": "markdown",
      "metadata": {
        "id": "zsKq-72sba4W"
      },
      "source": [
        "넘파이 문자수 주의"
      ]
    },
    {
      "cell_type": "code",
      "metadata": {
        "id": "drnmf82obilH"
      },
      "source": [
        "# <u1 문자열 자릿수 한자리\n",
        "a_str = np.array([1, 2, 3], dtype=str) \n",
        "print(a_str) \n",
        "print(a_str.dtype)\n",
        "a_str[0] = 'asdf'\n",
        "print(a_str) \n",
        "print(a_str.dtype)"
      ],
      "execution_count": null,
      "outputs": []
    },
    {
      "cell_type": "code",
      "metadata": {
        "id": "nW36o0OIcnbj"
      },
      "source": [
        "a_str10 = np.array([1, 2, 3], dtype='U10') \n",
        "print(a_str10.dtype) # <U10 \n",
        "a_str10[0] = 'abcdeertyuioo' \n",
        "print(a_str10) # ['abcde' '2' '3']\n"
      ],
      "execution_count": null,
      "outputs": []
    },
    {
      "cell_type": "code",
      "metadata": {
        "id": "3akAE9i6ddHA"
      },
      "source": [
        "import numpy as np \n",
        "x = np.arange(1, 10001)\n",
        "y = np.arange(10001, 20001)"
      ],
      "execution_count": null,
      "outputs": []
    },
    {
      "cell_type": "markdown",
      "metadata": {
        "id": "IPo-g2GMeRIz"
      },
      "source": [
        "%%time(셀단위 측정)\t%를 두개 적으면, Cell 전체에 적용이 됩니다.  \n",
        "즉, Cell 코드를 모두 수행한 후 시간을 측정하여 반환합니다."
      ]
    },
    {
      "cell_type": "code",
      "metadata": {
        "id": "ed5O2hqleHo-"
      },
      "source": [
        "%%time\n",
        "z = np.zeros_like(x)\n",
        "for i in range(10000):\n",
        "    z[i] = x[i] + y[i]"
      ],
      "execution_count": null,
      "outputs": []
    },
    {
      "cell_type": "code",
      "metadata": {
        "id": "PwwslmNUejV9"
      },
      "source": [
        "z[:10]"
      ],
      "execution_count": null,
      "outputs": []
    },
    {
      "cell_type": "markdown",
      "metadata": {
        "id": "-OeQpjdwfP3x"
      },
      "source": [
        "벡터 연산"
      ]
    },
    {
      "cell_type": "code",
      "metadata": {
        "id": "AKgxDT_ufSGi"
      },
      "source": [
        "%%time\n",
        "z = x + y"
      ],
      "execution_count": null,
      "outputs": []
    },
    {
      "cell_type": "code",
      "metadata": {
        "id": "AdORx-7kfZgL"
      },
      "source": [
        "z[:10]"
      ],
      "execution_count": null,
      "outputs": []
    },
    {
      "cell_type": "markdown",
      "metadata": {
        "id": "9LOn313DplTm"
      },
      "source": [
        "## 2차원 배열"
      ]
    },
    {
      "cell_type": "code",
      "metadata": {
        "id": "H3qPd38PpjgO"
      },
      "source": [
        "a1 = np.array([[1,2,3,4],[5,6,7,8],[9,10,11,12]])\n",
        "print(a1)"
      ],
      "execution_count": null,
      "outputs": []
    },
    {
      "cell_type": "markdown",
      "metadata": {
        "id": "Z7PHciXNrPRL"
      },
      "source": [
        "## 3차원 배열"
      ]
    },
    {
      "cell_type": "code",
      "metadata": {
        "id": "EhFeBJs_qzaC"
      },
      "source": [
        "a2 = np.array([[[1,2,3,4],[5,6,7,8],[9,10,11,12]],[[1,2,3,4],[5,6,7,8],[9,10,11,12]],[[1,2,3,4],[5,6,7,8],[9,10,11,12]]])\n",
        "print(a2)"
      ],
      "execution_count": null,
      "outputs": []
    },
    {
      "cell_type": "markdown",
      "metadata": {
        "id": "8eIpNkL3saGq"
      },
      "source": [
        "## 배열 구조 확인 - 차원,크기"
      ]
    },
    {
      "cell_type": "code",
      "metadata": {
        "id": "tix1jBWEshnX"
      },
      "source": [
        "a1 = np.array([1,2,3,4])\n",
        "print(a1,a1.ndim,a1.shape)\n"
      ],
      "execution_count": null,
      "outputs": []
    },
    {
      "cell_type": "code",
      "metadata": {
        "id": "GhUhdaYKs4TV"
      },
      "source": [
        "a1 = np.array([[1,2,3,4],[5,6,7,8],[9,10,11,12]])\n",
        "print(a1,a1.ndim,a1.shape)"
      ],
      "execution_count": null,
      "outputs": []
    },
    {
      "cell_type": "markdown",
      "metadata": {
        "id": "FIDkB0a1tYhm"
      },
      "source": [
        "차원 변경 reshape"
      ]
    },
    {
      "cell_type": "code",
      "metadata": {
        "id": "UcGJfkRUtXmF"
      },
      "source": [
        "a1 = np.array([1,2,3,4,5,6,7,8,9,10])\n",
        "print(a1.reshape(5,2))\n",
        "print(a1.reshape(2,5))"
      ],
      "execution_count": null,
      "outputs": []
    },
    {
      "cell_type": "code",
      "metadata": {
        "id": "kYAC_ieiuTIr"
      },
      "source": [
        "a1 = np.array([1,2,3,4,5,6,7,8,9,10])\n",
        "print(a1.reshape(-1,5)) #-1은 행열 바꾸는 것을 지정하지 않을 때 (생략x)\n",
        "print(a1.reshape(2,-1))"
      ],
      "execution_count": null,
      "outputs": []
    },
    {
      "cell_type": "code",
      "metadata": {
        "id": "MdaC40BUua2Q"
      },
      "source": [
        "print(a1.reshape(-1,3))"
      ],
      "execution_count": null,
      "outputs": []
    },
    {
      "cell_type": "markdown",
      "metadata": {
        "id": "yoLHRAh6vh-u"
      },
      "source": [
        "### 열 추가로 배열 만들기"
      ]
    },
    {
      "cell_type": "code",
      "metadata": {
        "id": "22H7HOzANsjU"
      },
      "source": [
        "l1 = [1,2,3]\n",
        "l2 = [1,2,3]\n",
        "l3 = [1,2,3]\n",
        "a1 = np.column_stack((l1,l2,l3)) # 열 방향으로 합치는 함수\n",
        "print(a1)"
      ],
      "execution_count": null,
      "outputs": []
    },
    {
      "cell_type": "code",
      "metadata": {
        "id": "I5jq5UQzuQKt"
      },
      "source": [
        "l1 = [1,2,3]\n",
        "l2 = [1,2,3]\n",
        "l3 = [1,2,3]\n",
        "a1 = np.column_stack((l1,l2,l3))\n",
        "print(a1)\n",
        "a2 = np.array([1,2,3])\n",
        "a3 = np.array([4,5,6])\n",
        "a4 = np.array([7,8,9])\n",
        "a1 = np.column_stack((a2,a3,a4))\n",
        "print(a1)\n",
        "a2 = np.array([1,2,3])\n",
        "a3 = np.array([4,5,6])\n",
        "a4 = np.array([7,8,9])\n",
        "a1 = np.column_stack((a2,a4,a3))\n",
        "print(a1)"
      ],
      "execution_count": null,
      "outputs": []
    },
    {
      "cell_type": "code",
      "metadata": {
        "id": "rAuUlwgMzfaw"
      },
      "source": [
        "a = np.array([1,2,3])\n",
        "b = np.array([4,5,6])\n",
        "np.column_stack((a,b)) # shape=(3, 2)"
      ],
      "execution_count": null,
      "outputs": []
    },
    {
      "cell_type": "code",
      "metadata": {
        "id": "YJakEmnb0CIL"
      },
      "source": [
        "a = np.array([[1,2,3],[4, 5, 6]])\n",
        "b = np.array([[7,8,9], [10, 11, 12]])\n",
        "\n",
        "np.column_stack((a,b)) # shape=(2, 6)"
      ],
      "execution_count": null,
      "outputs": []
    },
    {
      "cell_type": "markdown",
      "metadata": {
        "id": "1QvwQsBAidIF"
      },
      "source": [
        "배열 합치기"
      ]
    },
    {
      "cell_type": "code",
      "metadata": {
        "id": "fkEosFRsigVm"
      },
      "source": [
        "a2 = np.array([1,2,3])\n",
        "a3 = np.array([4,5,6])\n",
        "a4 = np.array([7,8,9])\n",
        "a1 = np.concatenate([a2,a4,a3])\n",
        "print(a1)\n",
        "a1 = np.concatenate((a2,a4,a3))\n",
        "print(a1)"
      ],
      "execution_count": null,
      "outputs": []
    },
    {
      "cell_type": "markdown",
      "metadata": {
        "id": "MHZlaMKukFhN"
      },
      "source": [
        "## 평균 구하기"
      ]
    },
    {
      "cell_type": "code",
      "metadata": {
        "id": "rBgFriLdkJd-"
      },
      "source": [
        "l1 = [1,2,3]\n",
        "l2 = [4,5,6] \n",
        "l3 = [7,8,9]\n",
        "a1 = np.column_stack((l1,l2,l3))\n",
        "print(a1.mean()) #전평균\n",
        "print(a1.mean(axis=0)) #열평균\n",
        "print(a1.mean(axis=1)) #행평균"
      ],
      "execution_count": null,
      "outputs": []
    },
    {
      "cell_type": "code",
      "metadata": {
        "id": "vHXV1d6WOnxU"
      },
      "source": [
        "from google.colab import drive\n",
        "drive.mount('/content/drive')"
      ],
      "execution_count": null,
      "outputs": []
    },
    {
      "cell_type": "code",
      "metadata": {
        "id": "5HTU0y7EV8Fk"
      },
      "source": [
        "% cd /content/drive/MyDrive/Colab Notebooks\n",
        "import pandas as pd\n",
        "df = pd.read_csv('/content/drive/MyDrive/Colab Notebooks/seoul_temp.csv')\n",
        "df"
      ],
      "execution_count": null,
      "outputs": []
    },
    {
      "cell_type": "code",
      "metadata": {
        "id": "aOjF1sgDWLBN"
      },
      "source": [
        "df.head()"
      ],
      "execution_count": null,
      "outputs": []
    },
    {
      "cell_type": "code",
      "metadata": {
        "id": "t8ZCJY6LWUvf"
      },
      "source": [
        "df[['년','최고기온']]"
      ],
      "execution_count": null,
      "outputs": []
    },
    {
      "cell_type": "code",
      "metadata": {
        "id": "xCkAyS4NWmSh"
      },
      "source": [
        "df.head(10)"
      ],
      "execution_count": null,
      "outputs": []
    },
    {
      "cell_type": "code",
      "metadata": {
        "id": "DVtY2IQgWqDg"
      },
      "source": [
        "df.describe()"
      ],
      "execution_count": null,
      "outputs": []
    },
    {
      "cell_type": "code",
      "metadata": {
        "id": "wPXalRYgW3fG"
      },
      "source": [
        "df.평균기온"
      ],
      "execution_count": null,
      "outputs": []
    },
    {
      "cell_type": "code",
      "metadata": {
        "id": "NMudZJdyXLdp"
      },
      "source": [
        "df[(df['년']>1970)&(df['년']<1980)].count()"
      ],
      "execution_count": null,
      "outputs": []
    },
    {
      "cell_type": "code",
      "metadata": {
        "id": "OklzCh9JXXV7"
      },
      "source": [
        "df[(df['년']>1970)&(df['년']<2020)].count()"
      ],
      "execution_count": null,
      "outputs": []
    },
    {
      "cell_type": "code",
      "metadata": {
        "id": "fwKNquAQX4a5"
      },
      "source": [
        "df.isnull().count()"
      ],
      "execution_count": null,
      "outputs": []
    },
    {
      "cell_type": "code",
      "metadata": {
        "id": "PQsF9R8vYYTV"
      },
      "source": [
        ""
      ],
      "execution_count": null,
      "outputs": []
    },
    {
      "cell_type": "code",
      "metadata": {
        "id": "oTUes_nGX84U"
      },
      "source": [
        "df.notnull().count()"
      ],
      "execution_count": null,
      "outputs": []
    },
    {
      "cell_type": "code",
      "metadata": {
        "id": "vKjvL_iqYBtD"
      },
      "source": [
        "df.isnull().sum()"
      ],
      "execution_count": null,
      "outputs": []
    },
    {
      "cell_type": "code",
      "metadata": {
        "id": "MdNDt9C9Z9cI"
      },
      "source": [
        "df.info()"
      ],
      "execution_count": null,
      "outputs": []
    },
    {
      "cell_type": "code",
      "metadata": {
        "id": "8A817qGnYEoY"
      },
      "source": [
        "df.notnull().sum()"
      ],
      "execution_count": null,
      "outputs": []
    },
    {
      "cell_type": "code",
      "metadata": {
        "id": "-23IQXFcZhw-"
      },
      "source": [
        "df = df.fillna(df.mean())\n",
        "df"
      ],
      "execution_count": null,
      "outputs": []
    },
    {
      "cell_type": "code",
      "metadata": {
        "id": "Mncrq15YYHtg"
      },
      "source": [
        "df.describe()"
      ],
      "execution_count": null,
      "outputs": []
    },
    {
      "cell_type": "code",
      "metadata": {
        "id": "CX-GVv2bZsCp"
      },
      "source": [
        "df.info()"
      ],
      "execution_count": null,
      "outputs": []
    },
    {
      "cell_type": "code",
      "metadata": {
        "id": "HwcUKUv1Z7nM"
      },
      "source": [
        "df.isnull().sum()"
      ],
      "execution_count": null,
      "outputs": []
    },
    {
      "cell_type": "code",
      "metadata": {
        "id": "qvxW0_N1aEJC"
      },
      "source": [
        "df['기온차'] = df['최고기온'] - df['최저기온']\n",
        "df"
      ],
      "execution_count": null,
      "outputs": []
    },
    {
      "cell_type": "code",
      "metadata": {
        "id": "zpu6-Jfxa6Jn"
      },
      "source": [
        "df.info()"
      ],
      "execution_count": null,
      "outputs": []
    },
    {
      "cell_type": "code",
      "metadata": {
        "id": "hXXM1r1AbFdf"
      },
      "source": [
        "import matplotlib as mpl\n",
        "import matplotlib.pyplot as plt\n",
        " \n",
        "%config InlineBackend.figure_format = 'retina'\n",
        " \n",
        "!apt -qq -y install fonts-nanum\n",
        " \n",
        "import matplotlib.font_manager as fm\n",
        "fontpath = '/usr/share/fonts/truetype/nanum/NanumBarunGothic.ttf'\n",
        "font = fm.FontProperties(fname=fontpath, size=9)\n",
        "plt.rc('font', family='NanumBarunGothic') \n",
        "mpl.font_manager._rebuild()\n"
      ],
      "execution_count": null,
      "outputs": []
    },
    {
      "cell_type": "code",
      "metadata": {
        "id": "6R3gqMqZbWqT"
      },
      "source": [
        "plt.plot(df['최저기온']), df['최고기온']) "
      ],
      "execution_count": null,
      "outputs": []
    },
    {
      "cell_type": "code",
      "metadata": {
        "id": "gyIO0doSdpD2"
      },
      "source": [
        ""
      ],
      "execution_count": null,
      "outputs": []
    }
  ]
}