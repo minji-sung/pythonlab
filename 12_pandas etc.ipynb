{
  "nbformat": 4,
  "nbformat_minor": 0,
  "metadata": {
    "colab": {
      "name": "20210615_4팀_성민지.ipynb",
      "provenance": [],
      "include_colab_link": true
    },
    "kernelspec": {
      "name": "python3",
      "display_name": "Python 3"
    },
    "language_info": {
      "name": "python"
    }
  },
  "cells": [
    {
      "cell_type": "markdown",
      "metadata": {
        "id": "view-in-github",
        "colab_type": "text"
      },
      "source": [
        "<a href=\"https://colab.research.google.com/github/minji-sung/pythonlab/blob/main/12_pandas%20etc.ipynb\" target=\"_parent\"><img src=\"https://colab.research.google.com/assets/colab-badge.svg\" alt=\"Open In Colab\"/></a>"
      ]
    },
    {
      "cell_type": "code",
      "metadata": {
        "colab": {
          "base_uri": "https://localhost:8080/"
        },
        "id": "3eyQ_TBi1fyf",
        "outputId": "2ffd130a-68ae-4877-b4a1-a07c74baf295"
      },
      "source": [
        "from google.colab import drive\n",
        "drive.mount('/content/drive')"
      ],
      "execution_count": null,
      "outputs": [
        {
          "output_type": "stream",
          "text": [
            "Mounted at /content/drive\n"
          ],
          "name": "stdout"
        }
      ]
    },
    {
      "cell_type": "code",
      "metadata": {
        "colab": {
          "base_uri": "https://localhost:8080/"
        },
        "id": "SfNQKq8u5OoV",
        "outputId": "96331731-e7ca-48f7-cf90-ecc8fc058e53"
      },
      "source": [
        "% cd /content/drive/MyDrive/Colab Notebooks"
      ],
      "execution_count": null,
      "outputs": [
        {
          "output_type": "stream",
          "text": [
            "/content/drive/MyDrive/Colab Notebooks\n"
          ],
          "name": "stdout"
        }
      ]
    },
    {
      "cell_type": "code",
      "metadata": {
        "colab": {
          "base_uri": "https://localhost:8080/"
        },
        "id": "qa3Be3Mj5V8q",
        "outputId": "d5bc8b1b-8601-4f54-856e-fbd5fe90aa3a"
      },
      "source": [
        "!pwd        #working directory"
      ],
      "execution_count": null,
      "outputs": [
        {
          "output_type": "stream",
          "text": [
            "/content/drive/MyDrive/Colab Notebooks\n"
          ],
          "name": "stdout"
        }
      ]
    },
    {
      "cell_type": "code",
      "metadata": {
        "colab": {
          "base_uri": "https://localhost:8080/",
          "height": 142
        },
        "id": "t0XCIxlg5X3z",
        "outputId": "ff65c2bd-5678-43d6-834e-075d9ba9ebc1"
      },
      "source": [
        "import pandas as pd\n",
        "file1 = pd.read_excel('/content/drive/MyDrive/Colab Notebooks/상반기_제품_판매량_김민영(1_6).xlsx')\n",
        "file1"
      ],
      "execution_count": null,
      "outputs": [
        {
          "output_type": "execute_result",
          "data": {
            "text/html": [
              "<div>\n",
              "<style scoped>\n",
              "    .dataframe tbody tr th:only-of-type {\n",
              "        vertical-align: middle;\n",
              "    }\n",
              "\n",
              "    .dataframe tbody tr th {\n",
              "        vertical-align: top;\n",
              "    }\n",
              "\n",
              "    .dataframe thead th {\n",
              "        text-align: right;\n",
              "    }\n",
              "</style>\n",
              "<table border=\"1\" class=\"dataframe\">\n",
              "  <thead>\n",
              "    <tr style=\"text-align: right;\">\n",
              "      <th></th>\n",
              "      <th>제품명</th>\n",
              "      <th>담당자</th>\n",
              "      <th>지역</th>\n",
              "      <th>1월</th>\n",
              "      <th>2월</th>\n",
              "      <th>3월</th>\n",
              "      <th>4월</th>\n",
              "      <th>5월</th>\n",
              "      <th>6월</th>\n",
              "    </tr>\n",
              "  </thead>\n",
              "  <tbody>\n",
              "    <tr>\n",
              "      <th>0</th>\n",
              "      <td>스마트폰</td>\n",
              "      <td>김민영</td>\n",
              "      <td>나</td>\n",
              "      <td>110</td>\n",
              "      <td>104</td>\n",
              "      <td>110</td>\n",
              "      <td>106</td>\n",
              "      <td>106</td>\n",
              "      <td>106</td>\n",
              "    </tr>\n",
              "    <tr>\n",
              "      <th>1</th>\n",
              "      <td>TV</td>\n",
              "      <td>김민영</td>\n",
              "      <td>나</td>\n",
              "      <td>60</td>\n",
              "      <td>65</td>\n",
              "      <td>62</td>\n",
              "      <td>68</td>\n",
              "      <td>66</td>\n",
              "      <td>60</td>\n",
              "    </tr>\n",
              "    <tr>\n",
              "      <th>2</th>\n",
              "      <td>냉장고</td>\n",
              "      <td>김민영</td>\n",
              "      <td>나</td>\n",
              "      <td>44</td>\n",
              "      <td>40</td>\n",
              "      <td>47</td>\n",
              "      <td>46</td>\n",
              "      <td>47</td>\n",
              "      <td>41</td>\n",
              "    </tr>\n",
              "  </tbody>\n",
              "</table>\n",
              "</div>"
            ],
            "text/plain": [
              "    제품명  담당자 지역   1월   2월   3월   4월   5월   6월\n",
              "0  스마트폰  김민영  나  110  104  110  106  106  106\n",
              "1    TV  김민영  나   60   65   62   68   66   60\n",
              "2   냉장고  김민영  나   44   40   47   46   47   41"
            ]
          },
          "metadata": {
            "tags": []
          },
          "execution_count": 4
        }
      ]
    },
    {
      "cell_type": "code",
      "metadata": {
        "colab": {
          "base_uri": "https://localhost:8080/",
          "height": 142
        },
        "id": "_m0D7vUf6dpq",
        "outputId": "56629329-a912-4479-db86-7f506c102d1d"
      },
      "source": [
        "file1.head()"
      ],
      "execution_count": null,
      "outputs": [
        {
          "output_type": "execute_result",
          "data": {
            "text/html": [
              "<div>\n",
              "<style scoped>\n",
              "    .dataframe tbody tr th:only-of-type {\n",
              "        vertical-align: middle;\n",
              "    }\n",
              "\n",
              "    .dataframe tbody tr th {\n",
              "        vertical-align: top;\n",
              "    }\n",
              "\n",
              "    .dataframe thead th {\n",
              "        text-align: right;\n",
              "    }\n",
              "</style>\n",
              "<table border=\"1\" class=\"dataframe\">\n",
              "  <thead>\n",
              "    <tr style=\"text-align: right;\">\n",
              "      <th></th>\n",
              "      <th>제품명</th>\n",
              "      <th>담당자</th>\n",
              "      <th>지역</th>\n",
              "      <th>1월</th>\n",
              "      <th>2월</th>\n",
              "      <th>3월</th>\n",
              "      <th>4월</th>\n",
              "      <th>5월</th>\n",
              "      <th>6월</th>\n",
              "    </tr>\n",
              "  </thead>\n",
              "  <tbody>\n",
              "    <tr>\n",
              "      <th>0</th>\n",
              "      <td>스마트폰</td>\n",
              "      <td>김민영</td>\n",
              "      <td>나</td>\n",
              "      <td>110</td>\n",
              "      <td>104</td>\n",
              "      <td>110</td>\n",
              "      <td>106</td>\n",
              "      <td>106</td>\n",
              "      <td>106</td>\n",
              "    </tr>\n",
              "    <tr>\n",
              "      <th>1</th>\n",
              "      <td>TV</td>\n",
              "      <td>김민영</td>\n",
              "      <td>나</td>\n",
              "      <td>60</td>\n",
              "      <td>65</td>\n",
              "      <td>62</td>\n",
              "      <td>68</td>\n",
              "      <td>66</td>\n",
              "      <td>60</td>\n",
              "    </tr>\n",
              "    <tr>\n",
              "      <th>2</th>\n",
              "      <td>냉장고</td>\n",
              "      <td>김민영</td>\n",
              "      <td>나</td>\n",
              "      <td>44</td>\n",
              "      <td>40</td>\n",
              "      <td>47</td>\n",
              "      <td>46</td>\n",
              "      <td>47</td>\n",
              "      <td>41</td>\n",
              "    </tr>\n",
              "  </tbody>\n",
              "</table>\n",
              "</div>"
            ],
            "text/plain": [
              "    제품명  담당자 지역   1월   2월   3월   4월   5월   6월\n",
              "0  스마트폰  김민영  나  110  104  110  106  106  106\n",
              "1    TV  김민영  나   60   65   62   68   66   60\n",
              "2   냉장고  김민영  나   44   40   47   46   47   41"
            ]
          },
          "metadata": {
            "tags": []
          },
          "execution_count": 5
        }
      ]
    },
    {
      "cell_type": "code",
      "metadata": {
        "colab": {
          "base_uri": "https://localhost:8080/",
          "height": 80
        },
        "id": "lQ8ZBFOT6gEO",
        "outputId": "67f79f53-cba9-4902-98e9-1a32629e0792"
      },
      "source": [
        "file1.tail(1)"
      ],
      "execution_count": null,
      "outputs": [
        {
          "output_type": "execute_result",
          "data": {
            "text/html": [
              "<div>\n",
              "<style scoped>\n",
              "    .dataframe tbody tr th:only-of-type {\n",
              "        vertical-align: middle;\n",
              "    }\n",
              "\n",
              "    .dataframe tbody tr th {\n",
              "        vertical-align: top;\n",
              "    }\n",
              "\n",
              "    .dataframe thead th {\n",
              "        text-align: right;\n",
              "    }\n",
              "</style>\n",
              "<table border=\"1\" class=\"dataframe\">\n",
              "  <thead>\n",
              "    <tr style=\"text-align: right;\">\n",
              "      <th></th>\n",
              "      <th>제품명</th>\n",
              "      <th>담당자</th>\n",
              "      <th>지역</th>\n",
              "      <th>1월</th>\n",
              "      <th>2월</th>\n",
              "      <th>3월</th>\n",
              "      <th>4월</th>\n",
              "      <th>5월</th>\n",
              "      <th>6월</th>\n",
              "    </tr>\n",
              "  </thead>\n",
              "  <tbody>\n",
              "    <tr>\n",
              "      <th>2</th>\n",
              "      <td>냉장고</td>\n",
              "      <td>김민영</td>\n",
              "      <td>나</td>\n",
              "      <td>44</td>\n",
              "      <td>40</td>\n",
              "      <td>47</td>\n",
              "      <td>46</td>\n",
              "      <td>47</td>\n",
              "      <td>41</td>\n",
              "    </tr>\n",
              "  </tbody>\n",
              "</table>\n",
              "</div>"
            ],
            "text/plain": [
              "   제품명  담당자 지역  1월  2월  3월  4월  5월  6월\n",
              "2  냉장고  김민영  나  44  40  47  46  47  41"
            ]
          },
          "metadata": {
            "tags": []
          },
          "execution_count": 6
        }
      ]
    },
    {
      "cell_type": "code",
      "metadata": {
        "colab": {
          "base_uri": "https://localhost:8080/"
        },
        "id": "yTDCI-fN6h27",
        "outputId": "db7e5b5a-13bc-4c42-ccf9-c7891821173c"
      },
      "source": [
        "file1.shape"
      ],
      "execution_count": null,
      "outputs": [
        {
          "output_type": "execute_result",
          "data": {
            "text/plain": [
              "(3, 9)"
            ]
          },
          "metadata": {
            "tags": []
          },
          "execution_count": 7
        }
      ]
    },
    {
      "cell_type": "code",
      "metadata": {
        "colab": {
          "base_uri": "https://localhost:8080/",
          "height": 297
        },
        "id": "m3os88ep6lKf",
        "outputId": "b1af4988-5d88-4f5b-80ed-e333e4c0e410"
      },
      "source": [
        "file1.describe()"
      ],
      "execution_count": null,
      "outputs": [
        {
          "output_type": "execute_result",
          "data": {
            "text/html": [
              "<div>\n",
              "<style scoped>\n",
              "    .dataframe tbody tr th:only-of-type {\n",
              "        vertical-align: middle;\n",
              "    }\n",
              "\n",
              "    .dataframe tbody tr th {\n",
              "        vertical-align: top;\n",
              "    }\n",
              "\n",
              "    .dataframe thead th {\n",
              "        text-align: right;\n",
              "    }\n",
              "</style>\n",
              "<table border=\"1\" class=\"dataframe\">\n",
              "  <thead>\n",
              "    <tr style=\"text-align: right;\">\n",
              "      <th></th>\n",
              "      <th>1월</th>\n",
              "      <th>2월</th>\n",
              "      <th>3월</th>\n",
              "      <th>4월</th>\n",
              "      <th>5월</th>\n",
              "      <th>6월</th>\n",
              "    </tr>\n",
              "  </thead>\n",
              "  <tbody>\n",
              "    <tr>\n",
              "      <th>count</th>\n",
              "      <td>3.000000</td>\n",
              "      <td>3.000000</td>\n",
              "      <td>3.000000</td>\n",
              "      <td>3.000000</td>\n",
              "      <td>3.000000</td>\n",
              "      <td>3.00000</td>\n",
              "    </tr>\n",
              "    <tr>\n",
              "      <th>mean</th>\n",
              "      <td>71.333333</td>\n",
              "      <td>69.666667</td>\n",
              "      <td>73.000000</td>\n",
              "      <td>73.333333</td>\n",
              "      <td>73.000000</td>\n",
              "      <td>69.00000</td>\n",
              "    </tr>\n",
              "    <tr>\n",
              "      <th>std</th>\n",
              "      <td>34.428670</td>\n",
              "      <td>32.254199</td>\n",
              "      <td>32.908965</td>\n",
              "      <td>30.353473</td>\n",
              "      <td>30.116441</td>\n",
              "      <td>33.42155</td>\n",
              "    </tr>\n",
              "    <tr>\n",
              "      <th>min</th>\n",
              "      <td>44.000000</td>\n",
              "      <td>40.000000</td>\n",
              "      <td>47.000000</td>\n",
              "      <td>46.000000</td>\n",
              "      <td>47.000000</td>\n",
              "      <td>41.00000</td>\n",
              "    </tr>\n",
              "    <tr>\n",
              "      <th>25%</th>\n",
              "      <td>52.000000</td>\n",
              "      <td>52.500000</td>\n",
              "      <td>54.500000</td>\n",
              "      <td>57.000000</td>\n",
              "      <td>56.500000</td>\n",
              "      <td>50.50000</td>\n",
              "    </tr>\n",
              "    <tr>\n",
              "      <th>50%</th>\n",
              "      <td>60.000000</td>\n",
              "      <td>65.000000</td>\n",
              "      <td>62.000000</td>\n",
              "      <td>68.000000</td>\n",
              "      <td>66.000000</td>\n",
              "      <td>60.00000</td>\n",
              "    </tr>\n",
              "    <tr>\n",
              "      <th>75%</th>\n",
              "      <td>85.000000</td>\n",
              "      <td>84.500000</td>\n",
              "      <td>86.000000</td>\n",
              "      <td>87.000000</td>\n",
              "      <td>86.000000</td>\n",
              "      <td>83.00000</td>\n",
              "    </tr>\n",
              "    <tr>\n",
              "      <th>max</th>\n",
              "      <td>110.000000</td>\n",
              "      <td>104.000000</td>\n",
              "      <td>110.000000</td>\n",
              "      <td>106.000000</td>\n",
              "      <td>106.000000</td>\n",
              "      <td>106.00000</td>\n",
              "    </tr>\n",
              "  </tbody>\n",
              "</table>\n",
              "</div>"
            ],
            "text/plain": [
              "               1월          2월          3월          4월          5월         6월\n",
              "count    3.000000    3.000000    3.000000    3.000000    3.000000    3.00000\n",
              "mean    71.333333   69.666667   73.000000   73.333333   73.000000   69.00000\n",
              "std     34.428670   32.254199   32.908965   30.353473   30.116441   33.42155\n",
              "min     44.000000   40.000000   47.000000   46.000000   47.000000   41.00000\n",
              "25%     52.000000   52.500000   54.500000   57.000000   56.500000   50.50000\n",
              "50%     60.000000   65.000000   62.000000   68.000000   66.000000   60.00000\n",
              "75%     85.000000   84.500000   86.000000   87.000000   86.000000   83.00000\n",
              "max    110.000000  104.000000  110.000000  106.000000  106.000000  106.00000"
            ]
          },
          "metadata": {
            "tags": []
          },
          "execution_count": 8
        }
      ]
    },
    {
      "cell_type": "code",
      "metadata": {
        "colab": {
          "base_uri": "https://localhost:8080/"
        },
        "id": "gasTtyF-6xi9",
        "outputId": "aea7f9d4-b4ec-40aa-e034-63d5dd85b8d1"
      },
      "source": [
        "file1.info()"
      ],
      "execution_count": null,
      "outputs": [
        {
          "output_type": "stream",
          "text": [
            "<class 'pandas.core.frame.DataFrame'>\n",
            "RangeIndex: 3 entries, 0 to 2\n",
            "Data columns (total 9 columns):\n",
            " #   Column  Non-Null Count  Dtype \n",
            "---  ------  --------------  ----- \n",
            " 0   제품명     3 non-null      object\n",
            " 1   담당자     3 non-null      object\n",
            " 2   지역      3 non-null      object\n",
            " 3   1월      3 non-null      int64 \n",
            " 4   2월      3 non-null      int64 \n",
            " 5   3월      3 non-null      int64 \n",
            " 6   4월      3 non-null      int64 \n",
            " 7   5월      3 non-null      int64 \n",
            " 8   6월      3 non-null      int64 \n",
            "dtypes: int64(6), object(3)\n",
            "memory usage: 344.0+ bytes\n"
          ],
          "name": "stdout"
        }
      ]
    },
    {
      "cell_type": "code",
      "metadata": {
        "colab": {
          "base_uri": "https://localhost:8080/"
        },
        "id": "TiA9CHku6zv4",
        "outputId": "ab8fa28f-c7ae-4502-ec98-5a906e9ec068"
      },
      "source": [
        "# importing multiple excel files \n",
        "\n",
        "from pathlib import Path\n",
        "from glob import glob\n",
        "\n",
        "input_folder = '/content/drive/MyDrive/Colab Notebooks'\n",
        "raw_data_dir = Path(input_folder)\n",
        "excel_files = raw_data_dir.glob('*.xlsx')\n",
        "\n",
        "for i in excel_files:\n",
        "    print(i)"
      ],
      "execution_count": null,
      "outputs": [
        {
          "output_type": "stream",
          "text": [
            "/content/drive/MyDrive/Colab Notebooks/상반기_제품_판매량_김민영(1_6).xlsx\n",
            "/content/drive/MyDrive/Colab Notebooks/상반기_제품_판매량_이재정(1_6).xlsx\n",
            "/content/drive/MyDrive/Colab Notebooks/상반기_제품_판매량_박준서(1_6).xlsx\n"
          ],
          "name": "stdout"
        }
      ]
    },
    {
      "cell_type": "code",
      "metadata": {
        "colab": {
          "base_uri": "https://localhost:8080/",
          "height": 328
        },
        "id": "dVW2taeU_M-W",
        "outputId": "4f0c1a74-7f61-4b64-bd6d-67687de763d8"
      },
      "source": [
        "# 통합 프레임 생성\n",
        "\n",
        "from pathlib import Path\n",
        "from glob import glob\n",
        "\n",
        "input_folder = '/content/drive/MyDrive/Colab Notebooks'\n",
        "raw_data_dir = Path(input_folder)\n",
        "excel_files = raw_data_dir.glob('*.xlsx')\n",
        "\n",
        "total_df = pd.DataFrame() #empty data frame\n",
        "\n",
        "for i in excel_files:\n",
        "    df = pd.read_excel(i)\n",
        "    total_df = total_df.append(df, ignore_index = True)\n",
        "\n",
        "#df.append(): 행방향 통합\n",
        "\n",
        "# 각 엑셀파일 데이터 가져와서\n",
        "# 세로 방향으로 연결, 순차적으로 인덱스 증가 (기존 인덱스 무시)\n",
        "\n",
        "total_df"
      ],
      "execution_count": null,
      "outputs": [
        {
          "output_type": "execute_result",
          "data": {
            "text/html": [
              "<div>\n",
              "<style scoped>\n",
              "    .dataframe tbody tr th:only-of-type {\n",
              "        vertical-align: middle;\n",
              "    }\n",
              "\n",
              "    .dataframe tbody tr th {\n",
              "        vertical-align: top;\n",
              "    }\n",
              "\n",
              "    .dataframe thead th {\n",
              "        text-align: right;\n",
              "    }\n",
              "</style>\n",
              "<table border=\"1\" class=\"dataframe\">\n",
              "  <thead>\n",
              "    <tr style=\"text-align: right;\">\n",
              "      <th></th>\n",
              "      <th>제품명</th>\n",
              "      <th>담당자</th>\n",
              "      <th>지역</th>\n",
              "      <th>1월</th>\n",
              "      <th>2월</th>\n",
              "      <th>3월</th>\n",
              "      <th>4월</th>\n",
              "      <th>5월</th>\n",
              "      <th>6월</th>\n",
              "    </tr>\n",
              "  </thead>\n",
              "  <tbody>\n",
              "    <tr>\n",
              "      <th>0</th>\n",
              "      <td>스마트폰</td>\n",
              "      <td>김민영</td>\n",
              "      <td>나</td>\n",
              "      <td>110</td>\n",
              "      <td>104</td>\n",
              "      <td>110</td>\n",
              "      <td>106</td>\n",
              "      <td>106</td>\n",
              "      <td>106</td>\n",
              "    </tr>\n",
              "    <tr>\n",
              "      <th>1</th>\n",
              "      <td>TV</td>\n",
              "      <td>김민영</td>\n",
              "      <td>나</td>\n",
              "      <td>60</td>\n",
              "      <td>65</td>\n",
              "      <td>62</td>\n",
              "      <td>68</td>\n",
              "      <td>66</td>\n",
              "      <td>60</td>\n",
              "    </tr>\n",
              "    <tr>\n",
              "      <th>2</th>\n",
              "      <td>냉장고</td>\n",
              "      <td>김민영</td>\n",
              "      <td>나</td>\n",
              "      <td>44</td>\n",
              "      <td>40</td>\n",
              "      <td>47</td>\n",
              "      <td>46</td>\n",
              "      <td>47</td>\n",
              "      <td>41</td>\n",
              "    </tr>\n",
              "    <tr>\n",
              "      <th>3</th>\n",
              "      <td>스마트폰</td>\n",
              "      <td>이재정</td>\n",
              "      <td>가</td>\n",
              "      <td>118</td>\n",
              "      <td>101</td>\n",
              "      <td>104</td>\n",
              "      <td>116</td>\n",
              "      <td>100</td>\n",
              "      <td>105</td>\n",
              "    </tr>\n",
              "    <tr>\n",
              "      <th>4</th>\n",
              "      <td>TV</td>\n",
              "      <td>이재정</td>\n",
              "      <td>가</td>\n",
              "      <td>62</td>\n",
              "      <td>61</td>\n",
              "      <td>60</td>\n",
              "      <td>66</td>\n",
              "      <td>61</td>\n",
              "      <td>66</td>\n",
              "    </tr>\n",
              "    <tr>\n",
              "      <th>5</th>\n",
              "      <td>냉장고</td>\n",
              "      <td>이재정</td>\n",
              "      <td>가</td>\n",
              "      <td>45</td>\n",
              "      <td>42</td>\n",
              "      <td>41</td>\n",
              "      <td>45</td>\n",
              "      <td>41</td>\n",
              "      <td>41</td>\n",
              "    </tr>\n",
              "    <tr>\n",
              "      <th>6</th>\n",
              "      <td>스마트폰</td>\n",
              "      <td>박준서</td>\n",
              "      <td>다</td>\n",
              "      <td>107</td>\n",
              "      <td>100</td>\n",
              "      <td>109</td>\n",
              "      <td>117</td>\n",
              "      <td>107</td>\n",
              "      <td>112</td>\n",
              "    </tr>\n",
              "    <tr>\n",
              "      <th>7</th>\n",
              "      <td>TV</td>\n",
              "      <td>박준서</td>\n",
              "      <td>다</td>\n",
              "      <td>65</td>\n",
              "      <td>65</td>\n",
              "      <td>60</td>\n",
              "      <td>69</td>\n",
              "      <td>65</td>\n",
              "      <td>66</td>\n",
              "    </tr>\n",
              "    <tr>\n",
              "      <th>8</th>\n",
              "      <td>냉장고</td>\n",
              "      <td>박준서</td>\n",
              "      <td>다</td>\n",
              "      <td>47</td>\n",
              "      <td>43</td>\n",
              "      <td>47</td>\n",
              "      <td>45</td>\n",
              "      <td>40</td>\n",
              "      <td>49</td>\n",
              "    </tr>\n",
              "  </tbody>\n",
              "</table>\n",
              "</div>"
            ],
            "text/plain": [
              "    제품명  담당자 지역   1월   2월   3월   4월   5월   6월\n",
              "0  스마트폰  김민영  나  110  104  110  106  106  106\n",
              "1    TV  김민영  나   60   65   62   68   66   60\n",
              "2   냉장고  김민영  나   44   40   47   46   47   41\n",
              "3  스마트폰  이재정  가  118  101  104  116  100  105\n",
              "4    TV  이재정  가   62   61   60   66   61   66\n",
              "5   냉장고  이재정  가   45   42   41   45   41   41\n",
              "6  스마트폰  박준서  다  107  100  109  117  107  112\n",
              "7    TV  박준서  다   65   65   60   69   65   66\n",
              "8   냉장고  박준서  다   47   43   47   45   40   49"
            ]
          },
          "metadata": {
            "tags": []
          },
          "execution_count": 13
        }
      ]
    },
    {
      "cell_type": "code",
      "metadata": {
        "colab": {
          "base_uri": "https://localhost:8080/"
        },
        "id": "oYpLyeIDEN7j",
        "outputId": "4bfe66d8-d488-44a1-b536-799511347268"
      },
      "source": [
        "# export excel files to working directory\n",
        "\n",
        "folder = '/content/drive/MyDrive/Colab Notebooks/'\n",
        "merged_excel_file = folder + '상반기_제품_판매량_통합.xlsx'\n",
        "\n",
        "total_df.to_excel(merged_excel_file,\n",
        "                  sheet_name = '상반기_제품_판매량_통합',\n",
        "                  index = False)\n",
        "\n",
        "print(\"생성파일:\", merged_excel_file)"
      ],
      "execution_count": null,
      "outputs": [
        {
          "output_type": "stream",
          "text": [
            "생성파일: /content/drive/MyDrive/Colab Notebooks/상반기_제품_판매량_통합.xlsx\n"
          ],
          "name": "stdout"
        }
      ]
    },
    {
      "cell_type": "code",
      "metadata": {
        "colab": {
          "base_uri": "https://localhost:8080/",
          "height": 328
        },
        "id": "JjKBMnIZI7QN",
        "outputId": "cc263cde-6504-4c30-d6cb-3edac16851a2"
      },
      "source": [
        "import pandas as pd\n",
        "\n",
        "excel_file = './상반기_제품_판매량_통합.xlsx'\n",
        "\n",
        "df = pd.read_excel(excel_file)\n",
        "df"
      ],
      "execution_count": null,
      "outputs": [
        {
          "output_type": "execute_result",
          "data": {
            "text/html": [
              "<div>\n",
              "<style scoped>\n",
              "    .dataframe tbody tr th:only-of-type {\n",
              "        vertical-align: middle;\n",
              "    }\n",
              "\n",
              "    .dataframe tbody tr th {\n",
              "        vertical-align: top;\n",
              "    }\n",
              "\n",
              "    .dataframe thead th {\n",
              "        text-align: right;\n",
              "    }\n",
              "</style>\n",
              "<table border=\"1\" class=\"dataframe\">\n",
              "  <thead>\n",
              "    <tr style=\"text-align: right;\">\n",
              "      <th></th>\n",
              "      <th>제품명</th>\n",
              "      <th>담당자</th>\n",
              "      <th>지역</th>\n",
              "      <th>1월</th>\n",
              "      <th>2월</th>\n",
              "      <th>3월</th>\n",
              "      <th>4월</th>\n",
              "      <th>5월</th>\n",
              "      <th>6월</th>\n",
              "    </tr>\n",
              "  </thead>\n",
              "  <tbody>\n",
              "    <tr>\n",
              "      <th>0</th>\n",
              "      <td>스마트폰</td>\n",
              "      <td>김민영</td>\n",
              "      <td>나</td>\n",
              "      <td>110</td>\n",
              "      <td>104</td>\n",
              "      <td>110</td>\n",
              "      <td>106</td>\n",
              "      <td>106</td>\n",
              "      <td>106</td>\n",
              "    </tr>\n",
              "    <tr>\n",
              "      <th>1</th>\n",
              "      <td>TV</td>\n",
              "      <td>김민영</td>\n",
              "      <td>나</td>\n",
              "      <td>60</td>\n",
              "      <td>65</td>\n",
              "      <td>62</td>\n",
              "      <td>68</td>\n",
              "      <td>66</td>\n",
              "      <td>60</td>\n",
              "    </tr>\n",
              "    <tr>\n",
              "      <th>2</th>\n",
              "      <td>냉장고</td>\n",
              "      <td>김민영</td>\n",
              "      <td>나</td>\n",
              "      <td>44</td>\n",
              "      <td>40</td>\n",
              "      <td>47</td>\n",
              "      <td>46</td>\n",
              "      <td>47</td>\n",
              "      <td>41</td>\n",
              "    </tr>\n",
              "    <tr>\n",
              "      <th>3</th>\n",
              "      <td>스마트폰</td>\n",
              "      <td>이재정</td>\n",
              "      <td>가</td>\n",
              "      <td>118</td>\n",
              "      <td>101</td>\n",
              "      <td>104</td>\n",
              "      <td>116</td>\n",
              "      <td>100</td>\n",
              "      <td>105</td>\n",
              "    </tr>\n",
              "    <tr>\n",
              "      <th>4</th>\n",
              "      <td>TV</td>\n",
              "      <td>이재정</td>\n",
              "      <td>가</td>\n",
              "      <td>62</td>\n",
              "      <td>61</td>\n",
              "      <td>60</td>\n",
              "      <td>66</td>\n",
              "      <td>61</td>\n",
              "      <td>66</td>\n",
              "    </tr>\n",
              "    <tr>\n",
              "      <th>5</th>\n",
              "      <td>냉장고</td>\n",
              "      <td>이재정</td>\n",
              "      <td>가</td>\n",
              "      <td>45</td>\n",
              "      <td>42</td>\n",
              "      <td>41</td>\n",
              "      <td>45</td>\n",
              "      <td>41</td>\n",
              "      <td>41</td>\n",
              "    </tr>\n",
              "    <tr>\n",
              "      <th>6</th>\n",
              "      <td>스마트폰</td>\n",
              "      <td>박준서</td>\n",
              "      <td>다</td>\n",
              "      <td>107</td>\n",
              "      <td>100</td>\n",
              "      <td>109</td>\n",
              "      <td>117</td>\n",
              "      <td>107</td>\n",
              "      <td>112</td>\n",
              "    </tr>\n",
              "    <tr>\n",
              "      <th>7</th>\n",
              "      <td>TV</td>\n",
              "      <td>박준서</td>\n",
              "      <td>다</td>\n",
              "      <td>65</td>\n",
              "      <td>65</td>\n",
              "      <td>60</td>\n",
              "      <td>69</td>\n",
              "      <td>65</td>\n",
              "      <td>66</td>\n",
              "    </tr>\n",
              "    <tr>\n",
              "      <th>8</th>\n",
              "      <td>냉장고</td>\n",
              "      <td>박준서</td>\n",
              "      <td>다</td>\n",
              "      <td>47</td>\n",
              "      <td>43</td>\n",
              "      <td>47</td>\n",
              "      <td>45</td>\n",
              "      <td>40</td>\n",
              "      <td>49</td>\n",
              "    </tr>\n",
              "  </tbody>\n",
              "</table>\n",
              "</div>"
            ],
            "text/plain": [
              "    제품명  담당자 지역   1월   2월   3월   4월   5월   6월\n",
              "0  스마트폰  김민영  나  110  104  110  106  106  106\n",
              "1    TV  김민영  나   60   65   62   68   66   60\n",
              "2   냉장고  김민영  나   44   40   47   46   47   41\n",
              "3  스마트폰  이재정  가  118  101  104  116  100  105\n",
              "4    TV  이재정  가   62   61   60   66   61   66\n",
              "5   냉장고  이재정  가   45   42   41   45   41   41\n",
              "6  스마트폰  박준서  다  107  100  109  117  107  112\n",
              "7    TV  박준서  다   65   65   60   69   65   66\n",
              "8   냉장고  박준서  다   47   43   47   45   40   49"
            ]
          },
          "metadata": {
            "tags": []
          },
          "execution_count": 18
        }
      ]
    },
    {
      "cell_type": "code",
      "metadata": {
        "colab": {
          "base_uri": "https://localhost:8080/",
          "height": 80
        },
        "id": "W8p20F6ZEmuy",
        "outputId": "794e1708-23bb-4861-ab61-9274a98c15c9"
      },
      "source": [
        "\n",
        "df[ df['제품명'] == '스마트폰']"
      ],
      "execution_count": null,
      "outputs": [
        {
          "output_type": "execute_result",
          "data": {
            "text/html": [
              "<div>\n",
              "<style scoped>\n",
              "    .dataframe tbody tr th:only-of-type {\n",
              "        vertical-align: middle;\n",
              "    }\n",
              "\n",
              "    .dataframe tbody tr th {\n",
              "        vertical-align: top;\n",
              "    }\n",
              "\n",
              "    .dataframe thead th {\n",
              "        text-align: right;\n",
              "    }\n",
              "</style>\n",
              "<table border=\"1\" class=\"dataframe\">\n",
              "  <thead>\n",
              "    <tr style=\"text-align: right;\">\n",
              "      <th></th>\n",
              "      <th>제품명</th>\n",
              "      <th>담당자</th>\n",
              "      <th>지역</th>\n",
              "      <th>1월</th>\n",
              "      <th>2월</th>\n",
              "      <th>3월</th>\n",
              "      <th>4월</th>\n",
              "      <th>5월</th>\n",
              "      <th>6월</th>\n",
              "    </tr>\n",
              "  </thead>\n",
              "  <tbody>\n",
              "    <tr>\n",
              "      <th>0</th>\n",
              "      <td>스마트폰</td>\n",
              "      <td>박준서</td>\n",
              "      <td>다</td>\n",
              "      <td>107</td>\n",
              "      <td>100</td>\n",
              "      <td>109</td>\n",
              "      <td>117</td>\n",
              "      <td>107</td>\n",
              "      <td>112</td>\n",
              "    </tr>\n",
              "  </tbody>\n",
              "</table>\n",
              "</div>"
            ],
            "text/plain": [
              "    제품명  담당자 지역   1월   2월   3월   4월   5월   6월\n",
              "0  스마트폰  박준서  다  107  100  109  117  107  112"
            ]
          },
          "metadata": {
            "tags": []
          },
          "execution_count": 17
        }
      ]
    },
    {
      "cell_type": "code",
      "metadata": {
        "colab": {
          "base_uri": "https://localhost:8080/",
          "height": 235
        },
        "id": "OcYgFPI1I3-s",
        "outputId": "4dc5cb01-5e28-4b90-bc94-09b59a92a1df"
      },
      "source": [
        "df[df['제품명'].isin(['스마트폰', 'TV'])]"
      ],
      "execution_count": null,
      "outputs": [
        {
          "output_type": "execute_result",
          "data": {
            "text/html": [
              "<div>\n",
              "<style scoped>\n",
              "    .dataframe tbody tr th:only-of-type {\n",
              "        vertical-align: middle;\n",
              "    }\n",
              "\n",
              "    .dataframe tbody tr th {\n",
              "        vertical-align: top;\n",
              "    }\n",
              "\n",
              "    .dataframe thead th {\n",
              "        text-align: right;\n",
              "    }\n",
              "</style>\n",
              "<table border=\"1\" class=\"dataframe\">\n",
              "  <thead>\n",
              "    <tr style=\"text-align: right;\">\n",
              "      <th></th>\n",
              "      <th>제품명</th>\n",
              "      <th>담당자</th>\n",
              "      <th>지역</th>\n",
              "      <th>1월</th>\n",
              "      <th>2월</th>\n",
              "      <th>3월</th>\n",
              "      <th>4월</th>\n",
              "      <th>5월</th>\n",
              "      <th>6월</th>\n",
              "    </tr>\n",
              "  </thead>\n",
              "  <tbody>\n",
              "    <tr>\n",
              "      <th>0</th>\n",
              "      <td>스마트폰</td>\n",
              "      <td>김민영</td>\n",
              "      <td>나</td>\n",
              "      <td>110</td>\n",
              "      <td>104</td>\n",
              "      <td>110</td>\n",
              "      <td>106</td>\n",
              "      <td>106</td>\n",
              "      <td>106</td>\n",
              "    </tr>\n",
              "    <tr>\n",
              "      <th>1</th>\n",
              "      <td>TV</td>\n",
              "      <td>김민영</td>\n",
              "      <td>나</td>\n",
              "      <td>60</td>\n",
              "      <td>65</td>\n",
              "      <td>62</td>\n",
              "      <td>68</td>\n",
              "      <td>66</td>\n",
              "      <td>60</td>\n",
              "    </tr>\n",
              "    <tr>\n",
              "      <th>3</th>\n",
              "      <td>스마트폰</td>\n",
              "      <td>이재정</td>\n",
              "      <td>가</td>\n",
              "      <td>118</td>\n",
              "      <td>101</td>\n",
              "      <td>104</td>\n",
              "      <td>116</td>\n",
              "      <td>100</td>\n",
              "      <td>105</td>\n",
              "    </tr>\n",
              "    <tr>\n",
              "      <th>4</th>\n",
              "      <td>TV</td>\n",
              "      <td>이재정</td>\n",
              "      <td>가</td>\n",
              "      <td>62</td>\n",
              "      <td>61</td>\n",
              "      <td>60</td>\n",
              "      <td>66</td>\n",
              "      <td>61</td>\n",
              "      <td>66</td>\n",
              "    </tr>\n",
              "    <tr>\n",
              "      <th>6</th>\n",
              "      <td>스마트폰</td>\n",
              "      <td>박준서</td>\n",
              "      <td>다</td>\n",
              "      <td>107</td>\n",
              "      <td>100</td>\n",
              "      <td>109</td>\n",
              "      <td>117</td>\n",
              "      <td>107</td>\n",
              "      <td>112</td>\n",
              "    </tr>\n",
              "    <tr>\n",
              "      <th>7</th>\n",
              "      <td>TV</td>\n",
              "      <td>박준서</td>\n",
              "      <td>다</td>\n",
              "      <td>65</td>\n",
              "      <td>65</td>\n",
              "      <td>60</td>\n",
              "      <td>69</td>\n",
              "      <td>65</td>\n",
              "      <td>66</td>\n",
              "    </tr>\n",
              "  </tbody>\n",
              "</table>\n",
              "</div>"
            ],
            "text/plain": [
              "    제품명  담당자 지역   1월   2월   3월   4월   5월   6월\n",
              "0  스마트폰  김민영  나  110  104  110  106  106  106\n",
              "1    TV  김민영  나   60   65   62   68   66   60\n",
              "3  스마트폰  이재정  가  118  101  104  116  100  105\n",
              "4    TV  이재정  가   62   61   60   66   61   66\n",
              "6  스마트폰  박준서  다  107  100  109  117  107  112\n",
              "7    TV  박준서  다   65   65   60   69   65   66"
            ]
          },
          "metadata": {
            "tags": []
          },
          "execution_count": 19
        }
      ]
    },
    {
      "cell_type": "code",
      "metadata": {
        "colab": {
          "base_uri": "https://localhost:8080/"
        },
        "id": "fiuaIFaGJ268",
        "outputId": "8c114b9b-7809-46ff-cac2-71bf6eb1a152"
      },
      "source": [
        "#연산\n",
        "#axis=1 == columns \n",
        "df_sum = df.sum(axis = 1)\n",
        "df_sum"
      ],
      "execution_count": null,
      "outputs": [
        {
          "output_type": "execute_result",
          "data": {
            "text/plain": [
              "0    642\n",
              "1    381\n",
              "2    265\n",
              "3    644\n",
              "4    376\n",
              "5    255\n",
              "6    652\n",
              "7    390\n",
              "8    271\n",
              "dtype: int64"
            ]
          },
          "metadata": {
            "tags": []
          },
          "execution_count": 22
        }
      ]
    },
    {
      "cell_type": "code",
      "metadata": {
        "colab": {
          "base_uri": "https://localhost:8080/"
        },
        "id": "yEL1amTBKAf8",
        "outputId": "e4640299-5e88-4936-c77a-6971dc5767f8"
      },
      "source": [
        "#axis = 0 == row \n",
        "df_sum1 = df.sum(axis=0)\n",
        "df_sum1"
      ],
      "execution_count": null,
      "outputs": [
        {
          "output_type": "execute_result",
          "data": {
            "text/plain": [
              "제품명    스마트폰TV냉장고스마트폰TV냉장고스마트폰TV냉장고\n",
              "담당자    김민영김민영김민영이재정이재정이재정박준서박준서박준서\n",
              "지역                       나나나가가가다다다\n",
              "1월                             658\n",
              "2월                             621\n",
              "3월                             640\n",
              "4월                             678\n",
              "5월                             633\n",
              "6월                             646\n",
              "dtype: object"
            ]
          },
          "metadata": {
            "tags": []
          },
          "execution_count": 21
        }
      ]
    },
    {
      "cell_type": "code",
      "metadata": {
        "colab": {
          "base_uri": "https://localhost:8080/",
          "height": 328
        },
        "id": "RmtrwLryL7N0",
        "outputId": "9e478fc9-d797-4ad4-b44e-9ace26955bea"
      },
      "source": [
        "df['상반기 합계'] = df_sum\n",
        "df['상반기합계'] = df_sum\n",
        "df = df.drop('상반기 합계', axis = 1)\n",
        "df"
      ],
      "execution_count": null,
      "outputs": [
        {
          "output_type": "execute_result",
          "data": {
            "text/html": [
              "<div>\n",
              "<style scoped>\n",
              "    .dataframe tbody tr th:only-of-type {\n",
              "        vertical-align: middle;\n",
              "    }\n",
              "\n",
              "    .dataframe tbody tr th {\n",
              "        vertical-align: top;\n",
              "    }\n",
              "\n",
              "    .dataframe thead th {\n",
              "        text-align: right;\n",
              "    }\n",
              "</style>\n",
              "<table border=\"1\" class=\"dataframe\">\n",
              "  <thead>\n",
              "    <tr style=\"text-align: right;\">\n",
              "      <th></th>\n",
              "      <th>제품명</th>\n",
              "      <th>담당자</th>\n",
              "      <th>지역</th>\n",
              "      <th>1월</th>\n",
              "      <th>2월</th>\n",
              "      <th>3월</th>\n",
              "      <th>4월</th>\n",
              "      <th>5월</th>\n",
              "      <th>6월</th>\n",
              "      <th>상반기합계</th>\n",
              "    </tr>\n",
              "  </thead>\n",
              "  <tbody>\n",
              "    <tr>\n",
              "      <th>0</th>\n",
              "      <td>스마트폰</td>\n",
              "      <td>김민영</td>\n",
              "      <td>나</td>\n",
              "      <td>110</td>\n",
              "      <td>104</td>\n",
              "      <td>110</td>\n",
              "      <td>106</td>\n",
              "      <td>106</td>\n",
              "      <td>106</td>\n",
              "      <td>642</td>\n",
              "    </tr>\n",
              "    <tr>\n",
              "      <th>1</th>\n",
              "      <td>TV</td>\n",
              "      <td>김민영</td>\n",
              "      <td>나</td>\n",
              "      <td>60</td>\n",
              "      <td>65</td>\n",
              "      <td>62</td>\n",
              "      <td>68</td>\n",
              "      <td>66</td>\n",
              "      <td>60</td>\n",
              "      <td>381</td>\n",
              "    </tr>\n",
              "    <tr>\n",
              "      <th>2</th>\n",
              "      <td>냉장고</td>\n",
              "      <td>김민영</td>\n",
              "      <td>나</td>\n",
              "      <td>44</td>\n",
              "      <td>40</td>\n",
              "      <td>47</td>\n",
              "      <td>46</td>\n",
              "      <td>47</td>\n",
              "      <td>41</td>\n",
              "      <td>265</td>\n",
              "    </tr>\n",
              "    <tr>\n",
              "      <th>3</th>\n",
              "      <td>스마트폰</td>\n",
              "      <td>이재정</td>\n",
              "      <td>가</td>\n",
              "      <td>118</td>\n",
              "      <td>101</td>\n",
              "      <td>104</td>\n",
              "      <td>116</td>\n",
              "      <td>100</td>\n",
              "      <td>105</td>\n",
              "      <td>644</td>\n",
              "    </tr>\n",
              "    <tr>\n",
              "      <th>4</th>\n",
              "      <td>TV</td>\n",
              "      <td>이재정</td>\n",
              "      <td>가</td>\n",
              "      <td>62</td>\n",
              "      <td>61</td>\n",
              "      <td>60</td>\n",
              "      <td>66</td>\n",
              "      <td>61</td>\n",
              "      <td>66</td>\n",
              "      <td>376</td>\n",
              "    </tr>\n",
              "    <tr>\n",
              "      <th>5</th>\n",
              "      <td>냉장고</td>\n",
              "      <td>이재정</td>\n",
              "      <td>가</td>\n",
              "      <td>45</td>\n",
              "      <td>42</td>\n",
              "      <td>41</td>\n",
              "      <td>45</td>\n",
              "      <td>41</td>\n",
              "      <td>41</td>\n",
              "      <td>255</td>\n",
              "    </tr>\n",
              "    <tr>\n",
              "      <th>6</th>\n",
              "      <td>스마트폰</td>\n",
              "      <td>박준서</td>\n",
              "      <td>다</td>\n",
              "      <td>107</td>\n",
              "      <td>100</td>\n",
              "      <td>109</td>\n",
              "      <td>117</td>\n",
              "      <td>107</td>\n",
              "      <td>112</td>\n",
              "      <td>652</td>\n",
              "    </tr>\n",
              "    <tr>\n",
              "      <th>7</th>\n",
              "      <td>TV</td>\n",
              "      <td>박준서</td>\n",
              "      <td>다</td>\n",
              "      <td>65</td>\n",
              "      <td>65</td>\n",
              "      <td>60</td>\n",
              "      <td>69</td>\n",
              "      <td>65</td>\n",
              "      <td>66</td>\n",
              "      <td>390</td>\n",
              "    </tr>\n",
              "    <tr>\n",
              "      <th>8</th>\n",
              "      <td>냉장고</td>\n",
              "      <td>박준서</td>\n",
              "      <td>다</td>\n",
              "      <td>47</td>\n",
              "      <td>43</td>\n",
              "      <td>47</td>\n",
              "      <td>45</td>\n",
              "      <td>40</td>\n",
              "      <td>49</td>\n",
              "      <td>271</td>\n",
              "    </tr>\n",
              "  </tbody>\n",
              "</table>\n",
              "</div>"
            ],
            "text/plain": [
              "    제품명  담당자 지역   1월   2월   3월   4월   5월   6월  상반기합계\n",
              "0  스마트폰  김민영  나  110  104  110  106  106  106    642\n",
              "1    TV  김민영  나   60   65   62   68   66   60    381\n",
              "2   냉장고  김민영  나   44   40   47   46   47   41    265\n",
              "3  스마트폰  이재정  가  118  101  104  116  100  105    644\n",
              "4    TV  이재정  가   62   61   60   66   61   66    376\n",
              "5   냉장고  이재정  가   45   42   41   45   41   41    255\n",
              "6  스마트폰  박준서  다  107  100  109  117  107  112    652\n",
              "7    TV  박준서  다   65   65   60   69   65   66    390\n",
              "8   냉장고  박준서  다   47   43   47   45   40   49    271"
            ]
          },
          "metadata": {
            "tags": []
          },
          "execution_count": 34
        }
      ]
    },
    {
      "cell_type": "code",
      "metadata": {
        "id": "2Y_6Skv5DBlC"
      },
      "source": [
        "#데이터 연산 = 제품별 합계 구하기\n",
        "\n",
        "excel_file = './data/상반기_제품_판매량_통합.xlsx'\n",
        "\n",
        "df_prod = pd.read_excel(excel_file)\n",
        "\n",
        "product_names = ['스마트폰', 'TV', '냉장고']\n",
        "\n",
        "for product_names in product_names:\n",
        "    df_prod_sum = product_sum(df_prod, product_name)\n",
        "    print(df_prod_sum)\n"
      ],
      "execution_count": null,
      "outputs": []
    },
    {
      "cell_type": "code",
      "metadata": {
        "colab": {
          "base_uri": "https://localhost:8080/",
          "height": 142
        },
        "id": "m1YJB2inMZrB",
        "outputId": "49c5f618-c172-4abb-d0c1-b1031fa4c3f9"
      },
      "source": [
        "df_filter = df[df['제품명']=='스마트폰']\n",
        "df_filter"
      ],
      "execution_count": null,
      "outputs": [
        {
          "output_type": "execute_result",
          "data": {
            "text/html": [
              "<div>\n",
              "<style scoped>\n",
              "    .dataframe tbody tr th:only-of-type {\n",
              "        vertical-align: middle;\n",
              "    }\n",
              "\n",
              "    .dataframe tbody tr th {\n",
              "        vertical-align: top;\n",
              "    }\n",
              "\n",
              "    .dataframe thead th {\n",
              "        text-align: right;\n",
              "    }\n",
              "</style>\n",
              "<table border=\"1\" class=\"dataframe\">\n",
              "  <thead>\n",
              "    <tr style=\"text-align: right;\">\n",
              "      <th></th>\n",
              "      <th>제품명</th>\n",
              "      <th>담당자</th>\n",
              "      <th>지역</th>\n",
              "      <th>1월</th>\n",
              "      <th>2월</th>\n",
              "      <th>3월</th>\n",
              "      <th>4월</th>\n",
              "      <th>5월</th>\n",
              "      <th>6월</th>\n",
              "      <th>상반기합계</th>\n",
              "    </tr>\n",
              "  </thead>\n",
              "  <tbody>\n",
              "    <tr>\n",
              "      <th>0</th>\n",
              "      <td>스마트폰</td>\n",
              "      <td>김민영</td>\n",
              "      <td>나</td>\n",
              "      <td>110</td>\n",
              "      <td>104</td>\n",
              "      <td>110</td>\n",
              "      <td>106</td>\n",
              "      <td>106</td>\n",
              "      <td>106</td>\n",
              "      <td>642</td>\n",
              "    </tr>\n",
              "    <tr>\n",
              "      <th>3</th>\n",
              "      <td>스마트폰</td>\n",
              "      <td>이재정</td>\n",
              "      <td>가</td>\n",
              "      <td>118</td>\n",
              "      <td>101</td>\n",
              "      <td>104</td>\n",
              "      <td>116</td>\n",
              "      <td>100</td>\n",
              "      <td>105</td>\n",
              "      <td>644</td>\n",
              "    </tr>\n",
              "    <tr>\n",
              "      <th>6</th>\n",
              "      <td>스마트폰</td>\n",
              "      <td>박준서</td>\n",
              "      <td>다</td>\n",
              "      <td>107</td>\n",
              "      <td>100</td>\n",
              "      <td>109</td>\n",
              "      <td>117</td>\n",
              "      <td>107</td>\n",
              "      <td>112</td>\n",
              "      <td>652</td>\n",
              "    </tr>\n",
              "  </tbody>\n",
              "</table>\n",
              "</div>"
            ],
            "text/plain": [
              "    제품명  담당자 지역   1월   2월   3월   4월   5월   6월  상반기합계\n",
              "0  스마트폰  김민영  나  110  104  110  106  106  106    642\n",
              "3  스마트폰  이재정  가  118  101  104  116  100  105    644\n",
              "6  스마트폰  박준서  다  107  100  109  117  107  112    652"
            ]
          },
          "metadata": {
            "tags": []
          },
          "execution_count": 36
        }
      ]
    },
    {
      "cell_type": "code",
      "metadata": {
        "colab": {
          "base_uri": "https://localhost:8080/"
        },
        "id": "l9rOXImRNBYI",
        "outputId": "bd0aae58-202f-4630-e5ee-f815bd4226b2"
      },
      "source": [
        "df_filter_sum = df_filter.sum() #axis = 0 방향의 합\n",
        "df_filter_sum"
      ],
      "execution_count": null,
      "outputs": [
        {
          "output_type": "execute_result",
          "data": {
            "text/plain": [
              "제품명      스마트폰스마트폰스마트폰\n",
              "담당자         김민영이재정박준서\n",
              "지역                나가다\n",
              "1월                335\n",
              "2월                305\n",
              "3월                323\n",
              "4월                339\n",
              "5월                313\n",
              "6월                323\n",
              "상반기합계            1938\n",
              "dtype: object"
            ]
          },
          "metadata": {
            "tags": []
          },
          "execution_count": 37
        }
      ]
    },
    {
      "cell_type": "code",
      "metadata": {
        "colab": {
          "base_uri": "https://localhost:8080/"
        },
        "id": "sF-nYJ52OgWa",
        "outputId": "401098f8-22b2-40f9-a084-10fb6fd9c3f2"
      },
      "source": [
        "df_filter_sum['제품명'] = '스마트폰'\n",
        "df_filter_sum['담당자'] = '전체'\n",
        "df_filter_sum['지역'] = '전체'\n",
        "df_filter_sum"
      ],
      "execution_count": null,
      "outputs": [
        {
          "output_type": "execute_result",
          "data": {
            "text/plain": [
              "제품명      스마트폰\n",
              "담당자        전체\n",
              "지역         전체\n",
              "1월        335\n",
              "2월        305\n",
              "3월        323\n",
              "4월        339\n",
              "5월        313\n",
              "6월        323\n",
              "상반기합계    1938\n",
              "dtype: object"
            ]
          },
          "metadata": {
            "tags": []
          },
          "execution_count": 38
        }
      ]
    },
    {
      "cell_type": "code",
      "metadata": {
        "colab": {
          "base_uri": "https://localhost:8080/"
        },
        "id": "PD23eCoeRRLl",
        "outputId": "9538ce8a-243c-44af-f745-d86f48d524b8"
      },
      "source": [
        "import time\n",
        "import random\n",
        "def delay_print():\n",
        "    time.sleep(0.5)\n",
        "    print('    * ')\n",
        "# 기본데이터\n",
        "a =['성민지','노애정','이승은','김선민','박지원', '박지호', \n",
        "    '장민준', '남가연', '서윤선', '정진아', '노현정', '신동열',\n",
        "    '한슬기', '이영이', '박정선', '김승아', '제경민', '최찬민', \n",
        "    '허윤희', '이동빈', '김혜원', '윤지선', '이지현', '이창익', \n",
        "    '전승혜', '강다솔', '김보연'] \n",
        "b=[]\n",
        "i_text = 'y'\n",
        "# 반복 처리 input\n",
        "while i_text == 'y':\n",
        "    if i_text != 'y':\n",
        "        break\n",
        "    i_text =input( '공정을 위해서 팀을 바꿔볼까요? (y/n) : ')\n",
        "    time.sleep(1)\n",
        "    random.shuffle(a)\n",
        "    print(a)\n",
        "# 사용자에게 보여주는 메세지 처리\n",
        "print('그러면 팀 정하겠습니다. random.choice를 이용합니다!!! ')\n",
        "for i in range(4):\n",
        "    delay_print()\n",
        "time.sleep(3)\n",
        "print('진짜로 정합니다~')\n",
        "delay_print()\n",
        "\n",
        "# 순서 list 작성\n",
        "for i in range(27):\n",
        "    c = a.pop(a.index(random.choice(a)))\n",
        "    b.append(c)\n",
        "    n = random.randint(1,6)\n",
        "    print(f'random.choice 결과 {c}님은 {n}팀의 팀원입니다')\n",
        "    #time.sleep(2)\n",
        "    # print(b,i)\n",
        "# 결과 출력\n",
        "print('*'* 50) \n",
        "print(b)"
      ],
      "execution_count": null,
      "outputs": [
        {
          "output_type": "stream",
          "text": [
            "공정을 위해서 팀을 바꿔볼까요? (y/n) : n\n",
            "['박지호', '전승혜', '성민지', '남가연', '이창익', '윤지선', '박정선', '이동빈', '최찬민', '서윤선', '노애정', '노현정', '허윤희', '신동열', '제경민', '박지원', '김선민', '이영이', '김보연', '이지현', '김승아', '강다솔', '한슬기', '이승은', '정진아', '장민준', '김혜원']\n",
            "그러면 팀 정하겠습니다. random.choice를 이용합니다!!! \n",
            "    * \n",
            "    * \n",
            "    * \n",
            "    * \n",
            "진짜로 정합니다~\n",
            "    * \n",
            "random.choice 결과 이지현님은 4팀의 팀원입니다\n",
            "random.choice 결과 이창익님은 3팀의 팀원입니다\n",
            "random.choice 결과 박지호님은 6팀의 팀원입니다\n",
            "random.choice 결과 남가연님은 1팀의 팀원입니다\n",
            "random.choice 결과 김보연님은 1팀의 팀원입니다\n",
            "random.choice 결과 김선민님은 5팀의 팀원입니다\n",
            "random.choice 결과 김혜원님은 4팀의 팀원입니다\n",
            "random.choice 결과 제경민님은 6팀의 팀원입니다\n",
            "random.choice 결과 윤지선님은 6팀의 팀원입니다\n",
            "random.choice 결과 박정선님은 6팀의 팀원입니다\n",
            "random.choice 결과 최찬민님은 2팀의 팀원입니다\n",
            "random.choice 결과 전승혜님은 5팀의 팀원입니다\n",
            "random.choice 결과 이승은님은 6팀의 팀원입니다\n",
            "random.choice 결과 김승아님은 3팀의 팀원입니다\n",
            "random.choice 결과 이동빈님은 2팀의 팀원입니다\n",
            "random.choice 결과 박지원님은 2팀의 팀원입니다\n",
            "random.choice 결과 신동열님은 6팀의 팀원입니다\n",
            "random.choice 결과 한슬기님은 3팀의 팀원입니다\n",
            "random.choice 결과 노현정님은 3팀의 팀원입니다\n",
            "random.choice 결과 허윤희님은 1팀의 팀원입니다\n",
            "random.choice 결과 장민준님은 1팀의 팀원입니다\n",
            "random.choice 결과 성민지님은 6팀의 팀원입니다\n",
            "random.choice 결과 강다솔님은 5팀의 팀원입니다\n",
            "random.choice 결과 노애정님은 5팀의 팀원입니다\n",
            "random.choice 결과 이영이님은 4팀의 팀원입니다\n",
            "random.choice 결과 정진아님은 5팀의 팀원입니다\n",
            "random.choice 결과 서윤선님은 5팀의 팀원입니다\n",
            "**************************************************\n",
            "['이지현', '이창익', '박지호', '남가연', '김보연', '김선민', '김혜원', '제경민', '윤지선', '박정선', '최찬민', '전승혜', '이승은', '김승아', '이동빈', '박지원', '신동열', '한슬기', '노현정', '허윤희', '장민준', '성민지', '강다솔', '노애정', '이영이', '정진아', '서윤선']\n"
          ],
          "name": "stdout"
        }
      ]
    },
    {
      "cell_type": "code",
      "metadata": {
        "colab": {
          "base_uri": "https://localhost:8080/"
        },
        "id": "GN7HYOFfSnxU",
        "outputId": "4d702047-db96-47ce-b3c3-9582b50cc390"
      },
      "source": [
        "import time\n",
        "import random\n",
        "def delay_print():\n",
        "    time.sleep(0.5)\n",
        "    print('    * ')\n",
        "# 기본데이터\n",
        "a =['성민지','노애정','이승은','김선민','박지원', '박지호', \n",
        "    '장민준', '남가연', '서윤선', '정진아', '노현정', '신동열',\n",
        "    '한슬기', '이영이', '박정선', '김승아', '제경민', '최찬민', \n",
        "    '허윤희', '이동빈', '김혜원', '윤지선', '이지현', '이창익', \n",
        "    '전승혜', '강다솔', '김보연'] \n",
        "b=[]\n",
        "i_text = 'y'\n",
        "# 반복 처리 input\n",
        "while i_text == 'y':\n",
        "    if i_text != 'y':\n",
        "        break\n",
        "    i_text =input( '공정을 위해서 팀을 바꿔볼까요? (y/n) : ')\n",
        "    time.sleep(1)\n",
        "    random.shuffle(a)\n",
        "    print(a)\n",
        "# 사용자에게 보여주는 메세지 처리\n",
        "print('그러면 팀 정하겠습니다. random.choice를 이용합니다!!! ')\n",
        "for i in range(4):\n",
        "    delay_print()\n",
        "time.sleep(3)\n",
        "print('진짜로 정합니다~')\n",
        "delay_print()\n",
        "\n",
        "# 순서 list 작성\n",
        "for i in range(27):\n",
        "    c = a.pop(a.index(random.choice(a)))\n",
        "    b.append(c)\n",
        "    n = random.randint(1,6)\n",
        "    print(f'random.choice 결과 {c}님은 {n}팀의 팀원입니다')\n",
        "    #time.sleep(2)\n",
        "    # print(b,i)\n",
        "# 결과 출력\n",
        "print('*'* 50) \n",
        "print(b)"
      ],
      "execution_count": null,
      "outputs": [
        {
          "output_type": "stream",
          "text": [
            "공정을 위해서 팀을 바꿔볼까요? (y/n) : n\n",
            "['이승은', '노현정', '제경민', '노애정', '김승아', '전승혜', '성민지', '신동열', '이창익', '윤지선', '박지호', '최찬민', '강다솔', '김선민', '이지현', '박정선', '장민준', '이영이', '정진아', '한슬기', '남가연', '허윤희', '김보연', '박지원', '김혜원', '이동빈', '서윤선']\n",
            "그러면 팀 정하겠습니다. random.choice를 이용합니다!!! \n",
            "    * \n",
            "    * \n",
            "    * \n",
            "    * \n",
            "진짜로 정합니다~\n",
            "    * \n",
            "random.choice 결과 장민준님은 1팀의 팀원입니다\n",
            "random.choice 결과 노현정님은 5팀의 팀원입니다\n",
            "random.choice 결과 성민지님은 1팀의 팀원입니다\n",
            "random.choice 결과 정진아님은 3팀의 팀원입니다\n",
            "random.choice 결과 박지원님은 3팀의 팀원입니다\n",
            "random.choice 결과 한슬기님은 6팀의 팀원입니다\n",
            "random.choice 결과 이영이님은 5팀의 팀원입니다\n",
            "random.choice 결과 이동빈님은 2팀의 팀원입니다\n",
            "random.choice 결과 김혜원님은 3팀의 팀원입니다\n",
            "random.choice 결과 이지현님은 4팀의 팀원입니다\n",
            "random.choice 결과 김승아님은 3팀의 팀원입니다\n",
            "random.choice 결과 박정선님은 6팀의 팀원입니다\n",
            "random.choice 결과 이승은님은 5팀의 팀원입니다\n",
            "random.choice 결과 김보연님은 1팀의 팀원입니다\n",
            "random.choice 결과 박지호님은 4팀의 팀원입니다\n",
            "random.choice 결과 최찬민님은 4팀의 팀원입니다\n",
            "random.choice 결과 이창익님은 1팀의 팀원입니다\n",
            "random.choice 결과 노애정님은 1팀의 팀원입니다\n",
            "random.choice 결과 허윤희님은 6팀의 팀원입니다\n",
            "random.choice 결과 남가연님은 1팀의 팀원입니다\n",
            "random.choice 결과 강다솔님은 2팀의 팀원입니다\n",
            "random.choice 결과 제경민님은 2팀의 팀원입니다\n",
            "random.choice 결과 전승혜님은 3팀의 팀원입니다\n",
            "random.choice 결과 서윤선님은 1팀의 팀원입니다\n",
            "random.choice 결과 김선민님은 6팀의 팀원입니다\n",
            "random.choice 결과 윤지선님은 4팀의 팀원입니다\n",
            "random.choice 결과 신동열님은 6팀의 팀원입니다\n",
            "**************************************************\n",
            "['장민준', '노현정', '성민지', '정진아', '박지원', '한슬기', '이영이', '이동빈', '김혜원', '이지현', '김승아', '박정선', '이승은', '김보연', '박지호', '최찬민', '이창익', '노애정', '허윤희', '남가연', '강다솔', '제경민', '전승혜', '서윤선', '김선민', '윤지선', '신동열']\n"
          ],
          "name": "stdout"
        }
      ]
    },
    {
      "cell_type": "code",
      "metadata": {
        "colab": {
          "base_uri": "https://localhost:8080/"
        },
        "id": "0ABPvNbPZCF2",
        "outputId": "3e151849-cd25-43ff-d604-218d75aae894"
      },
      "source": [
        "import random\n",
        "from collections import defaultdict\n",
        "from math import ceil\n",
        "\n",
        "# parameters\n",
        "num_players = 27\n",
        "groupsize = 5\n",
        "max_group = ceil(num_players / groupsize)\n",
        "\n",
        "# Setting up test data\n",
        "#player = list(range(num_players)) # player represented by id\n",
        "player = ['성민지','노애정','이승은','김선민','박지원', '박지호', \n",
        "    '장민준', '남가연', '서윤선', '정진아', '노현정', '신동열',\n",
        "    '한슬기', '이영이', '박정선', '김승아', '제경민', '최찬민', \n",
        "    '허윤희', '이동빈', '김혜원', '윤지선', '이지현', '이창익', \n",
        "    '전승혜', '강다솔', '김보연'] \n",
        "random.shuffle(player)\n",
        "d = defaultdict(list)\n",
        "\n",
        "for i,e in enumerate(player):\n",
        "    d[i % max_group].append(e)\n",
        "\n",
        "print(list(d.values())) "
      ],
      "execution_count": null,
      "outputs": [
        {
          "output_type": "stream",
          "text": [
            "[['허윤희', '박지원', '김승아', '강다솔', '이동빈'], ['전승혜', '김혜원', '박지호', '김선민', '정진아'], ['남가연', '노현정', '서윤선', '신동열', '윤지선'], ['박정선', '최찬민', '이영이', '성민지'], ['이승은', '장민준', '제경민', '노애정'], ['이창익', '한슬기', '이지현', '김보연']]\n"
          ],
          "name": "stdout"
        }
      ]
    },
    {
      "cell_type": "code",
      "metadata": {
        "colab": {
          "base_uri": "https://localhost:8080/",
          "height": 572
        },
        "id": "OTJf0tbQgvbI",
        "outputId": "cdd18f87-d01c-443a-9ca2-e6fa24c1c75b"
      },
      "source": [
        "import time\n",
        "import random\n",
        "\n",
        "members = ['박지호', '장민준', '남가연', '서윤선', '정진아',\n",
        "           '김선민', '노애정', '박지원', '성민지', '이승은',\n",
        "           '김승아', '제경민', '최찬민', '허윤희', '이동빈',\n",
        "           '김혜원', '윤지선', '이지현', '이창익', '전승혜',\n",
        "           '노현정', '신동열', '한슬기', '이영이', '박정선',\n",
        "           '강다솔', '김보연']\n",
        "text = input('팀 섞?(y/n) : ')\n",
        "if text == 'y':\n",
        "    print(\"random.choice를 이용하여 순서정하기\")\n",
        "    team_list = []\n",
        "    for i in range(6):\n",
        "        print(f'{i+1}팀 뽑겠습니다.')\n",
        "        if i != 5:    \n",
        "            for j in range(5):    \n",
        "                name = members.pop(members.index(random.choice(members)))\n",
        "                team_list.append(name)\n",
        "        else:\n",
        "            for j in range(3):    \n",
        "                name = members.pop(members.index(random.choice(members)))\n",
        "                team_list.append(name)\n",
        "        print(f'{i+1}팀은 {team_list}입니다.')\n",
        "        team_list = []"
      ],
      "execution_count": null,
      "outputs": [
        {
          "output_type": "stream",
          "text": [
            "팀 섞?(y/n) : y\n",
            "random.choice를 이용하여 순서정하기\n",
            "1팀 뽑겠습니다.\n",
            "1팀은 ['이동빈', '윤지선', '강다솔', '허윤희', '김승아']입니다.\n",
            "2팀 뽑겠습니다.\n",
            "2팀은 ['이승은', '박정선', '정진아', '전승혜', '김혜원']입니다.\n",
            "3팀 뽑겠습니다.\n",
            "3팀은 ['김선민', '서윤선', '노현정', '이지현', '박지호']입니다.\n",
            "4팀 뽑겠습니다.\n",
            "4팀은 ['김보연', '제경민', '남가연', '이창익', '이영이']입니다.\n",
            "5팀 뽑겠습니다.\n",
            "5팀은 ['성민지', '한슬기', '최찬민', '박지원', '장민준']입니다.\n",
            "6팀 뽑겠습니다.\n"
          ],
          "name": "stdout"
        },
        {
          "output_type": "error",
          "ename": "IndexError",
          "evalue": "ignored",
          "traceback": [
            "\u001b[0;31m---------------------------------------------------------------------------\u001b[0m",
            "\u001b[0;31mIndexError\u001b[0m                                Traceback (most recent call last)",
            "\u001b[0;32m<ipython-input-62-87fbd1d9b7e7>\u001b[0m in \u001b[0;36m<module>\u001b[0;34m()\u001b[0m\n\u001b[1;32m     20\u001b[0m         \u001b[0;32melse\u001b[0m\u001b[0;34m:\u001b[0m\u001b[0;34m\u001b[0m\u001b[0;34m\u001b[0m\u001b[0m\n\u001b[1;32m     21\u001b[0m             \u001b[0;32mfor\u001b[0m \u001b[0mj\u001b[0m \u001b[0;32min\u001b[0m \u001b[0mrange\u001b[0m\u001b[0;34m(\u001b[0m\u001b[0;36m3\u001b[0m\u001b[0;34m)\u001b[0m\u001b[0;34m:\u001b[0m\u001b[0;34m\u001b[0m\u001b[0;34m\u001b[0m\u001b[0m\n\u001b[0;32m---> 22\u001b[0;31m                 \u001b[0mname\u001b[0m \u001b[0;34m=\u001b[0m \u001b[0mmembers\u001b[0m\u001b[0;34m.\u001b[0m\u001b[0mpop\u001b[0m\u001b[0;34m(\u001b[0m\u001b[0mmembers\u001b[0m\u001b[0;34m.\u001b[0m\u001b[0mindex\u001b[0m\u001b[0;34m(\u001b[0m\u001b[0mrandom\u001b[0m\u001b[0;34m.\u001b[0m\u001b[0mchoice\u001b[0m\u001b[0;34m(\u001b[0m\u001b[0mmembers\u001b[0m\u001b[0;34m)\u001b[0m\u001b[0;34m)\u001b[0m\u001b[0;34m)\u001b[0m\u001b[0;34m\u001b[0m\u001b[0;34m\u001b[0m\u001b[0m\n\u001b[0m\u001b[1;32m     23\u001b[0m                 \u001b[0mteam_list\u001b[0m\u001b[0;34m.\u001b[0m\u001b[0mappend\u001b[0m\u001b[0;34m(\u001b[0m\u001b[0mname\u001b[0m\u001b[0;34m)\u001b[0m\u001b[0;34m\u001b[0m\u001b[0;34m\u001b[0m\u001b[0m\n\u001b[1;32m     24\u001b[0m         \u001b[0mprint\u001b[0m\u001b[0;34m(\u001b[0m\u001b[0;34mf'{i+1}팀은 {team_list}입니다.'\u001b[0m\u001b[0;34m)\u001b[0m\u001b[0;34m\u001b[0m\u001b[0;34m\u001b[0m\u001b[0m\n",
            "\u001b[0;32m/usr/lib/python3.7/random.py\u001b[0m in \u001b[0;36mchoice\u001b[0;34m(self, seq)\u001b[0m\n\u001b[1;32m    259\u001b[0m             \u001b[0mi\u001b[0m \u001b[0;34m=\u001b[0m \u001b[0mself\u001b[0m\u001b[0;34m.\u001b[0m\u001b[0m_randbelow\u001b[0m\u001b[0;34m(\u001b[0m\u001b[0mlen\u001b[0m\u001b[0;34m(\u001b[0m\u001b[0mseq\u001b[0m\u001b[0;34m)\u001b[0m\u001b[0;34m)\u001b[0m\u001b[0;34m\u001b[0m\u001b[0;34m\u001b[0m\u001b[0m\n\u001b[1;32m    260\u001b[0m         \u001b[0;32mexcept\u001b[0m \u001b[0mValueError\u001b[0m\u001b[0;34m:\u001b[0m\u001b[0;34m\u001b[0m\u001b[0;34m\u001b[0m\u001b[0m\n\u001b[0;32m--> 261\u001b[0;31m             \u001b[0;32mraise\u001b[0m \u001b[0mIndexError\u001b[0m\u001b[0;34m(\u001b[0m\u001b[0;34m'Cannot choose from an empty sequence'\u001b[0m\u001b[0;34m)\u001b[0m \u001b[0;32mfrom\u001b[0m \u001b[0;32mNone\u001b[0m\u001b[0;34m\u001b[0m\u001b[0;34m\u001b[0m\u001b[0m\n\u001b[0m\u001b[1;32m    262\u001b[0m         \u001b[0;32mreturn\u001b[0m \u001b[0mseq\u001b[0m\u001b[0;34m[\u001b[0m\u001b[0mi\u001b[0m\u001b[0;34m]\u001b[0m\u001b[0;34m\u001b[0m\u001b[0;34m\u001b[0m\u001b[0m\n\u001b[1;32m    263\u001b[0m \u001b[0;34m\u001b[0m\u001b[0m\n",
            "\u001b[0;31mIndexError\u001b[0m: Cannot choose from an empty sequence"
          ]
        }
      ]
    },
    {
      "cell_type": "code",
      "metadata": {
        "colab": {
          "base_uri": "https://localhost:8080/"
        },
        "id": "-dxynz7LfMq4",
        "outputId": "8c977c47-db3f-40ae-bc74-1bf1eb15b62e"
      },
      "source": [
        "## 웹에서 테이블 가져오기\n",
        "import pandas as pd\n",
        "\n",
        "url = 'https://search.naver.com/search.naver?where=nexearch&sm=top_hty&fbm=1&ie=utf8&query=%ED%99%98%EC%9C%A8'\n",
        "\n",
        "dfs = pd.read_html(url)\n",
        "len(dfs)    #dataframe length"
      ],
      "execution_count": null,
      "outputs": [
        {
          "output_type": "execute_result",
          "data": {
            "text/plain": [
              "1"
            ]
          },
          "metadata": {
            "tags": []
          },
          "execution_count": 65
        }
      ]
    },
    {
      "cell_type": "code",
      "metadata": {
        "colab": {
          "base_uri": "https://localhost:8080/",
          "height": 297
        },
        "id": "j7EcnvX5mepy",
        "outputId": "23f80993-0e5b-4659-b0de-8647966e1402"
      },
      "source": [
        "dfs[0]"
      ],
      "execution_count": null,
      "outputs": [
        {
          "output_type": "execute_result",
          "data": {
            "text/html": [
              "<div>\n",
              "<style scoped>\n",
              "    .dataframe tbody tr th:only-of-type {\n",
              "        vertical-align: middle;\n",
              "    }\n",
              "\n",
              "    .dataframe tbody tr th {\n",
              "        vertical-align: top;\n",
              "    }\n",
              "\n",
              "    .dataframe thead th {\n",
              "        text-align: right;\n",
              "    }\n",
              "</style>\n",
              "<table border=\"1\" class=\"dataframe\">\n",
              "  <thead>\n",
              "    <tr style=\"text-align: right;\">\n",
              "      <th></th>\n",
              "      <th>통화명</th>\n",
              "      <th>매매기준율</th>\n",
              "      <th>전일대비</th>\n",
              "      <th>등락률</th>\n",
              "    </tr>\n",
              "  </thead>\n",
              "  <tbody>\n",
              "    <tr>\n",
              "      <th>0</th>\n",
              "      <td>미국 USD</td>\n",
              "      <td>1117.50</td>\n",
              "      <td>전일대비하락1.50</td>\n",
              "      <td>-0.13%</td>\n",
              "    </tr>\n",
              "    <tr>\n",
              "      <th>1</th>\n",
              "      <td>일본 JPY 100</td>\n",
              "      <td>1015.77</td>\n",
              "      <td>전일대비하락4.52</td>\n",
              "      <td>-0.44%</td>\n",
              "    </tr>\n",
              "    <tr>\n",
              "      <th>2</th>\n",
              "      <td>유럽연합 EUR</td>\n",
              "      <td>1356.98</td>\n",
              "      <td>전일대비상승0.64</td>\n",
              "      <td>+0.05%</td>\n",
              "    </tr>\n",
              "    <tr>\n",
              "      <th>3</th>\n",
              "      <td>중국 CNY</td>\n",
              "      <td>174.56</td>\n",
              "      <td>전일대비상승0.05</td>\n",
              "      <td>+0.03%</td>\n",
              "    </tr>\n",
              "    <tr>\n",
              "      <th>4</th>\n",
              "      <td>영국 GBP</td>\n",
              "      <td>1576.79</td>\n",
              "      <td>전일대비하락1.84</td>\n",
              "      <td>-0.12%</td>\n",
              "    </tr>\n",
              "    <tr>\n",
              "      <th>5</th>\n",
              "      <td>호주 AUD</td>\n",
              "      <td>860.92</td>\n",
              "      <td>전일대비하락3.00</td>\n",
              "      <td>-0.35%</td>\n",
              "    </tr>\n",
              "    <tr>\n",
              "      <th>6</th>\n",
              "      <td>캐나다 CAD</td>\n",
              "      <td>921.04</td>\n",
              "      <td>전일대비상승0.54</td>\n",
              "      <td>+0.06%</td>\n",
              "    </tr>\n",
              "    <tr>\n",
              "      <th>7</th>\n",
              "      <td>뉴질랜드 NZD</td>\n",
              "      <td>799.01</td>\n",
              "      <td>전일대비하락1.02</td>\n",
              "      <td>-0.13%</td>\n",
              "    </tr>\n",
              "  </tbody>\n",
              "</table>\n",
              "</div>"
            ],
            "text/plain": [
              "          통화명    매매기준율        전일대비     등락률\n",
              "0      미국 USD  1117.50  전일대비하락1.50  -0.13%\n",
              "1  일본 JPY 100  1015.77  전일대비하락4.52  -0.44%\n",
              "2    유럽연합 EUR  1356.98  전일대비상승0.64  +0.05%\n",
              "3      중국 CNY   174.56  전일대비상승0.05  +0.03%\n",
              "4      영국 GBP  1576.79  전일대비하락1.84  -0.12%\n",
              "5      호주 AUD   860.92  전일대비하락3.00  -0.35%\n",
              "6     캐나다 CAD   921.04  전일대비상승0.54  +0.06%\n",
              "7    뉴질랜드 NZD   799.01  전일대비하락1.02  -0.13%"
            ]
          },
          "metadata": {
            "tags": []
          },
          "execution_count": 72
        }
      ]
    },
    {
      "cell_type": "code",
      "metadata": {
        "colab": {
          "base_uri": "https://localhost:8080/",
          "height": 297
        },
        "id": "2p6xPBabmoW3",
        "outputId": "e7486905-7384-4fb4-dc2f-4ec2b59868e1"
      },
      "source": [
        "exchange_rate_df = dfs[0].replace({'전일대비하락': '▼',\n",
        "                                    '전일대비상승':'🔺'}, regex = True)\n",
        "\n",
        "exchange_rate_df"
      ],
      "execution_count": null,
      "outputs": [
        {
          "output_type": "execute_result",
          "data": {
            "text/html": [
              "<div>\n",
              "<style scoped>\n",
              "    .dataframe tbody tr th:only-of-type {\n",
              "        vertical-align: middle;\n",
              "    }\n",
              "\n",
              "    .dataframe tbody tr th {\n",
              "        vertical-align: top;\n",
              "    }\n",
              "\n",
              "    .dataframe thead th {\n",
              "        text-align: right;\n",
              "    }\n",
              "</style>\n",
              "<table border=\"1\" class=\"dataframe\">\n",
              "  <thead>\n",
              "    <tr style=\"text-align: right;\">\n",
              "      <th></th>\n",
              "      <th>통화명</th>\n",
              "      <th>매매기준율</th>\n",
              "      <th>전일대비</th>\n",
              "      <th>등락률</th>\n",
              "    </tr>\n",
              "  </thead>\n",
              "  <tbody>\n",
              "    <tr>\n",
              "      <th>0</th>\n",
              "      <td>미국 USD</td>\n",
              "      <td>1117.50</td>\n",
              "      <td>▼1.50</td>\n",
              "      <td>-0.13%</td>\n",
              "    </tr>\n",
              "    <tr>\n",
              "      <th>1</th>\n",
              "      <td>일본 JPY 100</td>\n",
              "      <td>1015.77</td>\n",
              "      <td>▼4.52</td>\n",
              "      <td>-0.44%</td>\n",
              "    </tr>\n",
              "    <tr>\n",
              "      <th>2</th>\n",
              "      <td>유럽연합 EUR</td>\n",
              "      <td>1356.98</td>\n",
              "      <td>🔺0.64</td>\n",
              "      <td>+0.05%</td>\n",
              "    </tr>\n",
              "    <tr>\n",
              "      <th>3</th>\n",
              "      <td>중국 CNY</td>\n",
              "      <td>174.56</td>\n",
              "      <td>🔺0.05</td>\n",
              "      <td>+0.03%</td>\n",
              "    </tr>\n",
              "    <tr>\n",
              "      <th>4</th>\n",
              "      <td>영국 GBP</td>\n",
              "      <td>1576.79</td>\n",
              "      <td>▼1.84</td>\n",
              "      <td>-0.12%</td>\n",
              "    </tr>\n",
              "    <tr>\n",
              "      <th>5</th>\n",
              "      <td>호주 AUD</td>\n",
              "      <td>860.92</td>\n",
              "      <td>▼3.00</td>\n",
              "      <td>-0.35%</td>\n",
              "    </tr>\n",
              "    <tr>\n",
              "      <th>6</th>\n",
              "      <td>캐나다 CAD</td>\n",
              "      <td>921.04</td>\n",
              "      <td>🔺0.54</td>\n",
              "      <td>+0.06%</td>\n",
              "    </tr>\n",
              "    <tr>\n",
              "      <th>7</th>\n",
              "      <td>뉴질랜드 NZD</td>\n",
              "      <td>799.01</td>\n",
              "      <td>▼1.02</td>\n",
              "      <td>-0.13%</td>\n",
              "    </tr>\n",
              "  </tbody>\n",
              "</table>\n",
              "</div>"
            ],
            "text/plain": [
              "          통화명    매매기준율   전일대비     등락률\n",
              "0      미국 USD  1117.50  ▼1.50  -0.13%\n",
              "1  일본 JPY 100  1015.77  ▼4.52  -0.44%\n",
              "2    유럽연합 EUR  1356.98  🔺0.64  +0.05%\n",
              "3      중국 CNY   174.56  🔺0.05  +0.03%\n",
              "4      영국 GBP  1576.79  ▼1.84  -0.12%\n",
              "5      호주 AUD   860.92  ▼3.00  -0.35%\n",
              "6     캐나다 CAD   921.04  🔺0.54  +0.06%\n",
              "7    뉴질랜드 NZD   799.01  ▼1.02  -0.13%"
            ]
          },
          "metadata": {
            "tags": []
          },
          "execution_count": 76
        }
      ]
    },
    {
      "cell_type": "code",
      "metadata": {
        "colab": {
          "base_uri": "https://localhost:8080/",
          "height": 595
        },
        "id": "Vlfo6VFYsPvW",
        "outputId": "cd82c50a-483e-4839-d370-309091772812"
      },
      "source": [
        "## 웹에서 테이블 가져오기\n",
        "import pandas as pd\n",
        "\n",
        "base_url = 'https://music.bugs.co.kr/chart/track/week/total?'\n",
        "url = base_url + 'chartdate=20210614'\n",
        "print(url)\n",
        "\n",
        "dfs = pd.read_html(url)\n",
        "len(dfs)    #dataframe length\n",
        "\n",
        "dfs[0].head(5)"
      ],
      "execution_count": null,
      "outputs": [
        {
          "output_type": "stream",
          "text": [
            "https://music.bugs.co.kr/chart/track/week/total?chartdate=20210614\n"
          ],
          "name": "stdout"
        },
        {
          "output_type": "execute_result",
          "data": {
            "text/html": [
              "<div>\n",
              "<style scoped>\n",
              "    .dataframe tbody tr th:only-of-type {\n",
              "        vertical-align: middle;\n",
              "    }\n",
              "\n",
              "    .dataframe tbody tr th {\n",
              "        vertical-align: top;\n",
              "    }\n",
              "\n",
              "    .dataframe thead th {\n",
              "        text-align: right;\n",
              "    }\n",
              "</style>\n",
              "<table border=\"1\" class=\"dataframe\">\n",
              "  <thead>\n",
              "    <tr style=\"text-align: right;\">\n",
              "      <th></th>\n",
              "      <th>Unnamed: 0</th>\n",
              "      <th>순위</th>\n",
              "      <th>Unnamed: 2</th>\n",
              "      <th>Unnamed: 3</th>\n",
              "      <th>곡</th>\n",
              "      <th>아티스트</th>\n",
              "      <th>앨범</th>\n",
              "      <th>듣기</th>\n",
              "      <th>재생목록</th>\n",
              "      <th>내앨범</th>\n",
              "      <th>다운</th>\n",
              "      <th>영상</th>\n",
              "      <th>기타</th>\n",
              "    </tr>\n",
              "  </thead>\n",
              "  <tbody>\n",
              "    <tr>\n",
              "      <th>0</th>\n",
              "      <td>NaN</td>\n",
              "      <td>1  1 계단 상승</td>\n",
              "      <td>NaN</td>\n",
              "      <td>곡정보</td>\n",
              "      <td>Next Level</td>\n",
              "      <td>aespa</td>\n",
              "      <td>Next Level</td>\n",
              "      <td>듣기</td>\n",
              "      <td>재생목록에 추가</td>\n",
              "      <td>내 앨범에 담기</td>\n",
              "      <td>flac 다운로드</td>\n",
              "      <td>영상 재생</td>\n",
              "      <td>기타 기능</td>\n",
              "    </tr>\n",
              "    <tr>\n",
              "      <th>1</th>\n",
              "      <td>NaN</td>\n",
              "      <td>2  1 계단 하락</td>\n",
              "      <td>NaN</td>\n",
              "      <td>곡정보</td>\n",
              "      <td>Butter</td>\n",
              "      <td>방탄소년단</td>\n",
              "      <td>Butter</td>\n",
              "      <td>듣기</td>\n",
              "      <td>재생목록에 추가</td>\n",
              "      <td>내 앨범에 담기</td>\n",
              "      <td>flac 다운로드</td>\n",
              "      <td>영상 재생</td>\n",
              "      <td>기타 기능</td>\n",
              "    </tr>\n",
              "    <tr>\n",
              "      <th>2</th>\n",
              "      <td>NaN</td>\n",
              "      <td>3 HOT</td>\n",
              "      <td>NaN</td>\n",
              "      <td>곡정보</td>\n",
              "      <td>Alcohol-Free</td>\n",
              "      <td>TWICE (트와이스)</td>\n",
              "      <td>Taste of Love</td>\n",
              "      <td>듣기</td>\n",
              "      <td>재생목록에 추가</td>\n",
              "      <td>내 앨범에 담기</td>\n",
              "      <td>flac 다운로드</td>\n",
              "      <td>영상 재생</td>\n",
              "      <td>기타 기능</td>\n",
              "    </tr>\n",
              "    <tr>\n",
              "      <th>3</th>\n",
              "      <td>NaN</td>\n",
              "      <td>4  1 계단 하락</td>\n",
              "      <td>NaN</td>\n",
              "      <td>곡정보</td>\n",
              "      <td>안녕 (Hello)</td>\n",
              "      <td>조이 (JOY)</td>\n",
              "      <td>안녕 (Hello) - Special Album</td>\n",
              "      <td>듣기</td>\n",
              "      <td>재생목록에 추가</td>\n",
              "      <td>내 앨범에 담기</td>\n",
              "      <td>flac 다운로드</td>\n",
              "      <td>영상 재생</td>\n",
              "      <td>기타 기능</td>\n",
              "    </tr>\n",
              "    <tr>\n",
              "      <th>4</th>\n",
              "      <td>NaN</td>\n",
              "      <td>5  1 계단 하락</td>\n",
              "      <td>NaN</td>\n",
              "      <td>곡정보</td>\n",
              "      <td>Dun Dun Dance</td>\n",
              "      <td>오마이걸(OH MY GIRL)</td>\n",
              "      <td>Dear OHMYGIRL</td>\n",
              "      <td>듣기</td>\n",
              "      <td>재생목록에 추가</td>\n",
              "      <td>내 앨범에 담기</td>\n",
              "      <td>flac 다운로드</td>\n",
              "      <td>영상 재생</td>\n",
              "      <td>기타 기능</td>\n",
              "    </tr>\n",
              "  </tbody>\n",
              "</table>\n",
              "</div>"
            ],
            "text/plain": [
              "   Unnamed: 0          순위  Unnamed: 2  ...         다운     영상     기타\n",
              "0         NaN  1  1 계단 상승         NaN  ...  flac 다운로드  영상 재생  기타 기능\n",
              "1         NaN  2  1 계단 하락         NaN  ...  flac 다운로드  영상 재생  기타 기능\n",
              "2         NaN       3 HOT         NaN  ...  flac 다운로드  영상 재생  기타 기능\n",
              "3         NaN  4  1 계단 하락         NaN  ...  flac 다운로드  영상 재생  기타 기능\n",
              "4         NaN  5  1 계단 하락         NaN  ...  flac 다운로드  영상 재생  기타 기능\n",
              "\n",
              "[5 rows x 13 columns]"
            ]
          },
          "metadata": {
            "tags": []
          },
          "execution_count": 79
        }
      ]
    },
    {
      "cell_type": "code",
      "metadata": {
        "colab": {
          "base_uri": "https://localhost:8080/",
          "height": 204
        },
        "id": "7E5MKFo4tY9r",
        "outputId": "6ef70c91-0d0c-4053-ec09-5594092bdb7c"
      },
      "source": [
        "dfs[0]['순위'] = range(1, 101)\n",
        "\n",
        "df_top100 = dfs[0][['순위', '곡', '아티스트']]\n",
        "df_top100.head(5)"
      ],
      "execution_count": null,
      "outputs": [
        {
          "output_type": "execute_result",
          "data": {
            "text/html": [
              "<div>\n",
              "<style scoped>\n",
              "    .dataframe tbody tr th:only-of-type {\n",
              "        vertical-align: middle;\n",
              "    }\n",
              "\n",
              "    .dataframe tbody tr th {\n",
              "        vertical-align: top;\n",
              "    }\n",
              "\n",
              "    .dataframe thead th {\n",
              "        text-align: right;\n",
              "    }\n",
              "</style>\n",
              "<table border=\"1\" class=\"dataframe\">\n",
              "  <thead>\n",
              "    <tr style=\"text-align: right;\">\n",
              "      <th></th>\n",
              "      <th>순위</th>\n",
              "      <th>곡</th>\n",
              "      <th>아티스트</th>\n",
              "    </tr>\n",
              "  </thead>\n",
              "  <tbody>\n",
              "    <tr>\n",
              "      <th>0</th>\n",
              "      <td>1</td>\n",
              "      <td>Next Level</td>\n",
              "      <td>aespa</td>\n",
              "    </tr>\n",
              "    <tr>\n",
              "      <th>1</th>\n",
              "      <td>2</td>\n",
              "      <td>Butter</td>\n",
              "      <td>방탄소년단</td>\n",
              "    </tr>\n",
              "    <tr>\n",
              "      <th>2</th>\n",
              "      <td>3</td>\n",
              "      <td>Alcohol-Free</td>\n",
              "      <td>TWICE (트와이스)</td>\n",
              "    </tr>\n",
              "    <tr>\n",
              "      <th>3</th>\n",
              "      <td>4</td>\n",
              "      <td>안녕 (Hello)</td>\n",
              "      <td>조이 (JOY)</td>\n",
              "    </tr>\n",
              "    <tr>\n",
              "      <th>4</th>\n",
              "      <td>5</td>\n",
              "      <td>Dun Dun Dance</td>\n",
              "      <td>오마이걸(OH MY GIRL)</td>\n",
              "    </tr>\n",
              "  </tbody>\n",
              "</table>\n",
              "</div>"
            ],
            "text/plain": [
              "   순위              곡              아티스트\n",
              "0   1     Next Level             aespa\n",
              "1   2         Butter             방탄소년단\n",
              "2   3   Alcohol-Free      TWICE (트와이스)\n",
              "3   4     안녕 (Hello)          조이 (JOY)\n",
              "4   5  Dun Dun Dance  오마이걸(OH MY GIRL)"
            ]
          },
          "metadata": {
            "tags": []
          },
          "execution_count": 80
        }
      ]
    },
    {
      "cell_type": "code",
      "metadata": {
        "id": "zR5ZYeVrCljd"
      },
      "source": [
        "def bugs_chart_week_top100(year, month, day):\n",
        "    \n",
        "    #월과 일의 경우는 항상 두 자리로 맞춤\n",
        "    \n",
        "    month = \"{0:02d}\".format(month)\n",
        "    day = \"{0:02d}\".format(day)\n",
        "    base_url = 'https://music.bugs.co.kr/chart/track/week/total?'\n",
        "    url = base_url + 'chartdate={0}{1}{2}'.format(year, month, day)\n",
        "    \n",
        "    #웹 사이트의 표 데이터를 DataFrame 데이터 리스트로 반환\n",
        "    \n",
        "    dfs = pd.read_hhtml(url)\n",
        "\n",
        "    #내장 함수 range()를 이용해 순위 열에 1에서 100까지 할당\n",
        "    \n",
        "    dfs[0]['순위'] = range(1,101)\n",
        "    \n",
        "    #웹 사이트 표 데이터 중 원하는 열만 선택해 다른 변수에 지정\n",
        "    \n",
        "    df_top100 = dfs[0][['순위','곡','아티스트']]\n",
        "    s_name = 'chartdate = {0}{1}{2}'.format(year, month, day)\n",
        "    print(s_name)\n",
        "    return df_top100,s_name\n"
      ],
      "execution_count": null,
      "outputs": []
    },
    {
      "cell_type": "code",
      "metadata": {
        "id": "e0Ps7rIsoKL6"
      },
      "source": [
        "import pandas as pd\n",
        "\n",
        "# 벅스차트에서 연도, 월, 일을 지정해 주간 뮤직 차트(Top100)를 추출하는 함수\n",
        "# 반환 결과: DataFrame 데이터\n",
        "def bugs_chart_week_top100(year, month, day):\n",
        "    # 월과 일의 경우는 항상 두 자리로 맞춤\n",
        "    month = \"{0:02d}\".format(month) \n",
        "    day = \"{0:02d}\".format(day) \n",
        "    base_url = 'https://music.bugs.co.kr/chart/track/week/total?'        \n",
        "    url = base_url + 'chartdate={0}{1}{2}'.format(year, month, day)\n",
        "    # 웹 사이트의 표 데이터를 DataFrame 데이터 리스트로 반환\n",
        "    dfs = pd.read_html(url) \n",
        "    # 내장 함수 range()를 이용해 순위 열에 1에서 100까지 할당\n",
        "    dfs[0]['순위'] = range(1,101)\n",
        "\n",
        "    # 웹 사이트 표 데이터 중 원하는 열만 선택해 다른 변수에 지정\n",
        "    df_top100 = dfs[0][['순위', '곡', '아티스트']] \n",
        "    s_name = 'chartdate={0}{1}{2}'.format(year, month, day)\n",
        "    print(s_name)\n",
        "    return df_top100,s_name"
      ],
      "execution_count": null,
      "outputs": []
    },
    {
      "cell_type": "code",
      "metadata": {
        "id": "WYj9-PHlCqcG"
      },
      "source": [
        "\n",
        "sheet_name1 = ' '\n",
        "df,sheet_name1 =  bugs_chart_week_top100(2021,6,14)\n",
        "df.head(10)\n",
        "excel_file = \"./data/벅스_차트_주간_Top100.xlsx\"\n",
        "df.to_excel(excel_file, sheet_name = sheet_name1, index= False)\n",
        "print(\"생성파일: \", excel_file)"
      ],
      "execution_count": null,
      "outputs": []
    }
  ]
}