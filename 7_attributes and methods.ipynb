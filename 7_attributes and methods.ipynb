{
  "nbformat": 4,
  "nbformat_minor": 0,
  "metadata": {
    "colab": {
      "name": "20210608_4팀_성민지.ipynb",
      "provenance": [],
      "mount_file_id": "1LT5r2ZqmUtINllP_Ytlqaj2CKgo10_wZ",
      "authorship_tag": "ABX9TyNl8vLZKYgElbPcyCGQomhI",
      "include_colab_link": true
    },
    "kernelspec": {
      "name": "python3",
      "display_name": "Python 3"
    },
    "language_info": {
      "name": "python"
    }
  },
  "cells": [
    {
      "cell_type": "markdown",
      "metadata": {
        "id": "view-in-github",
        "colab_type": "text"
      },
      "source": [
        "<a href=\"https://colab.research.google.com/github/minji-sung/pythonlab/blob/main/6_attributes%20and%20methods.ipynb\" target=\"_parent\"><img src=\"https://colab.research.google.com/assets/colab-badge.svg\" alt=\"Open In Colab\"/></a>"
      ]
    },
    {
      "cell_type": "markdown",
      "metadata": {
        "id": "PfeqTsPJO3a_"
      },
      "source": [
        "모듈과 패키지\n",
        "\n",
        "*   모듈: 각종 편수, 함수, 클래스를 담은 .py 파일 \n",
        "*   패키지: 여러 모듈을 섞은 것\n",
        "*   클래스: 함수의 집합너낌\n",
        "\n"
      ]
    },
    {
      "cell_type": "code",
      "metadata": {
        "colab": {
          "base_uri": "https://localhost:8080/"
        },
        "id": "rt7TxSq5O5qo",
        "outputId": "7ea5a057-d932-4750-9c85-d060a87bda54"
      },
      "source": [
        "import mycalc\n",
        "p = mycalc.get_plus(2, 2)\n",
        "q = mycalc.get_minus(4, 2)\n",
        "print(p, q)"
      ],
      "execution_count": null,
      "outputs": [
        {
          "output_type": "stream",
          "text": [
            "4 2\n"
          ],
          "name": "stdout"
        }
      ]
    },
    {
      "cell_type": "code",
      "metadata": {
        "colab": {
          "base_uri": "https://localhost:8080/"
        },
        "id": "zSqftcuxWF2x",
        "outputId": "f6483fdc-bcbb-489c-aab8-c7567f8e1bd2"
      },
      "source": [
        "import mycalc as cal\n",
        "p = cal.get_plus(2, 2)\n",
        "print(p)"
      ],
      "execution_count": null,
      "outputs": [
        {
          "output_type": "stream",
          "text": [
            "4\n"
          ],
          "name": "stdout"
        }
      ]
    },
    {
      "cell_type": "code",
      "metadata": {
        "colab": {
          "base_uri": "https://localhost:8080/"
        },
        "id": "3lw76XYtWSRf",
        "outputId": "c3f32435-e61c-4602-8c33-710e691db467"
      },
      "source": [
        "# 모듈 함수명만 사용\n",
        "from mycalc import get_plus\n",
        "p = get_plus(2,2)\n",
        "m = cal.get_minus(3,2)\n",
        "print(p,m)"
      ],
      "execution_count": null,
      "outputs": [
        {
          "output_type": "stream",
          "text": [
            "4 1\n"
          ],
          "name": "stdout"
        }
      ]
    },
    {
      "cell_type": "code",
      "metadata": {
        "colab": {
          "base_uri": "https://localhost:8080/"
        },
        "id": "DEnvSfIZcxUI",
        "outputId": "050b8f17-1020-4dc8-97d3-c01a0cab4489"
      },
      "source": [
        "from mycalc import *\n",
        "p = get_plus(1, 2)\n",
        "q = get_minus(2, 3)\n",
        "print(p,q)"
      ],
      "execution_count": null,
      "outputs": [
        {
          "output_type": "stream",
          "text": [
            "3 -1\n"
          ],
          "name": "stdout"
        }
      ]
    },
    {
      "cell_type": "code",
      "metadata": {
        "colab": {
          "base_uri": "https://localhost:8080/"
        },
        "id": "3HE-yAnwebjA",
        "outputId": "50c8cc48-71c4-46fb-f508-c27d036f874a"
      },
      "source": [
        "# 클래스 사용법\n",
        "# 2대의 계산기가 필요한 경우\n",
        "result1 = 0\n",
        "result2 = 0\n",
        "\n",
        "def add1(num):\n",
        "    global result1\n",
        "    result1 += num\n",
        "    return result1\n",
        "\n",
        "def add2(num):\n",
        "    global result2\n",
        "    result2 += num\n",
        "    return result2\n",
        "\n",
        "print(add1(3))\n",
        "print(add1(4))\n",
        "print(add2(3))\n",
        "print(add2(7))"
      ],
      "execution_count": null,
      "outputs": [
        {
          "output_type": "stream",
          "text": [
            "3\n",
            "7\n",
            "3\n",
            "10\n"
          ],
          "name": "stdout"
        }
      ]
    },
    {
      "cell_type": "code",
      "metadata": {
        "colab": {
          "base_uri": "https://localhost:8080/"
        },
        "id": "GwImg9GNgcI-",
        "outputId": "53d5c4c5-095e-4ab0-91e0-0738c4d823fd"
      },
      "source": [
        "# 계산기를 class로 정의\n",
        "# 하나의 설계도, 클래스를 통해서 한 번만 선언하도록\n",
        "\n",
        "class Calculator:\n",
        "    def __init__(self):     #초기값부여 처음 실행되어지는 함수\n",
        "        self.result = 0\n",
        "\n",
        "    def add(self, num):     #add(self, num) 클래스에는 셀프를 정해줘야해\n",
        "        self.result += num\n",
        "        return self.result\n",
        "\n",
        "cal1 = Calculator()\n",
        "cal2 = Calculator()\n",
        "\n",
        "print(cal1.add(3))\n",
        "print(cal1.add(4))\n",
        "print(cal2.add(3))\n",
        "print(cal2.add(7))"
      ],
      "execution_count": null,
      "outputs": [
        {
          "output_type": "stream",
          "text": [
            "3\n",
            "7\n",
            "3\n",
            "10\n"
          ],
          "name": "stdout"
        }
      ]
    },
    {
      "cell_type": "code",
      "metadata": {
        "colab": {
          "base_uri": "https://localhost:8080/"
        },
        "id": "ld9_LKc5iAii",
        "outputId": "b6fcc885-8080-44a6-e10e-d74c57d9b6a2"
      },
      "source": [
        "# 계산기를 class로 정의\n",
        "class Calculator:\n",
        "    def __init__(self):\n",
        "        self.result = 0\n",
        "\n",
        "    def add(self, num):\n",
        "        self.result += num\n",
        "        return self.result\n",
        "    def sub(self, num):\n",
        "        self.result -= num\n",
        "        return self.result\n",
        "\n",
        "cal1 = Calculator()\n",
        "cal2 = Calculator()\n",
        "cal3 = Calculator()\n",
        "\n",
        "print(cal1.add(3))\n",
        "print(cal2.add(4))\n",
        "print(cal3.sub(3))\n"
      ],
      "execution_count": null,
      "outputs": [
        {
          "output_type": "stream",
          "text": [
            "3\n",
            "4\n",
            "-3\n"
          ],
          "name": "stdout"
        }
      ]
    },
    {
      "cell_type": "markdown",
      "metadata": {
        "id": "I5pBgOX1jUEY"
      },
      "source": [
        "**Why must ‘self’ be used explicitly in method definitions and calls?**\n",
        "\n",
        "The idea was borrowed from Modula-3. It turns out to be very useful, for a variety of reasons.\n",
        "\n",
        "First, it’s more obvious that you are using a method or instance attribute instead of a local variable. Reading self.x or self.meth() makes it absolutely clear that an instance variable or method is used even if you don’t know the class definition by heart. In C++, you can sort of tell by the lack of a local variable declaration (assuming globals are rare or easily recognizable) – but in Python, there are no local variable declarations, so you’d have to look up the class definition to be sure. Some C++ and Java coding standards call for instance attributes to have an m_ prefix, so this explicitness is still useful in those languages, too.\n",
        "\n",
        "Second, it means that no special syntax is necessary if you want to explicitly reference or call the method from a particular class. In C++, if you want to use a method from a base class which is overridden in a derived class, you have to use the :: operator – in Python you can write baseclass.methodname(self, <argument list>). This is particularly useful for __init__() methods, and in general in cases where a derived class method wants to extend the base class method of the same name and thus has to call the base class method somehow.\n",
        "\n",
        "Finally, for instance variables it solves a syntactic problem with assignment: since local variables in Python are (by definition!) those variables to which a value is assigned in a function body (and that aren’t explicitly declared global), there has to be some way to tell the interpreter that an assignment was meant to assign to an instance variable instead of to a local variable, and it should preferably be syntactic (for efficiency reasons). C++ does this through declarations, but Python doesn’t have declarations and it would be a pity having to introduce them just for this purpose. Using the explicit self.var solves this nicely. Similarly, for using instance variables, having to write self.var means that references to unqualified names inside a method don’t have to search the instance’s directories. To put it another way, local variables and instance variables live in two different namespaces, and you need to tell Python which namespace to use."
      ]
    },
    {
      "cell_type": "markdown",
      "metadata": {
        "id": "u7vZYPLjjier"
      },
      "source": [
        "That's the key difference between a function and a class method. A function is floating free, unencumbered. A class (instance) method has to be aware of it's parent (and parent properties) so you need to pass the method a reference to the parent class (as self). It's just one less implicit rule that you have to internalize before understanding OOP. Other languages choose syntactic sugar over semantic simplicity, python isn't other languages."
      ]
    },
    {
      "cell_type": "markdown",
      "metadata": {
        "id": "k6YVUbLCkaF_"
      },
      "source": [
        "object = attribute + method = variable + function"
      ]
    },
    {
      "cell_type": "code",
      "metadata": {
        "id": "xKhon04ijaOT"
      },
      "source": [
        "# 자동차 객체의 틀\n",
        "class Car:\n",
        "    brand =  ''\n",
        "    model = ''\n",
        "    color = ''\n",
        "    def turn_on(self):\n",
        "        print('시동을 겁니다')\n",
        "    def turn_off(self):\n",
        "        print('시동을 끕니다')\n",
        "    def drive(self):\n",
        "        print('주행중입니다')"
      ],
      "execution_count": null,
      "outputs": []
    },
    {
      "cell_type": "code",
      "metadata": {
        "id": "M4DGpgJ4ljmQ"
      },
      "source": [
        "# 두대의 자동차 객체 생성\n",
        "car1 = Car()\n",
        "car2 = Car()\n",
        "\n",
        "#car1 - 흰색 BMT 3 \n",
        "car1.brand = 'BMW'\n",
        "car1.model = '3'\n",
        "car1.color = 'white'\n",
        "#car2 - 블랙 audi A5 \n",
        "car2.brand = 'audi'\n",
        "car2.model = 'A5'\n",
        "car2.color = 'black'\n"
      ],
      "execution_count": null,
      "outputs": []
    },
    {
      "cell_type": "code",
      "metadata": {
        "colab": {
          "base_uri": "https://localhost:8080/"
        },
        "id": "H4pPyhKAlmzH",
        "outputId": "e06809a7-7bbe-45eb-c29b-da013717d7d1"
      },
      "source": [
        "car1.turn_on()\n",
        "car2.turn_on()"
      ],
      "execution_count": null,
      "outputs": [
        {
          "output_type": "stream",
          "text": [
            "시동을 겁니다\n",
            "시동을 겁니다\n"
          ],
          "name": "stdout"
        }
      ]
    },
    {
      "cell_type": "code",
      "metadata": {
        "id": "aArht79ql6kI"
      },
      "source": [
        "# 객체 생성시 속성 초기화\n",
        "\n",
        "class Car:\n",
        "    def __init__(self,brand,model,color):\n",
        "        self.brand = brand\n",
        "        self.model = model\n",
        "        self.color = color\n",
        "        print(brand,model,color,'생성')\n",
        "\n",
        "    def turn_on(self):\n",
        "        print('시동을 겁니다')\n",
        "    def turn_off(self):\n",
        "        print('시동을 끕니다')\n",
        "    def drive(self):\n",
        "        print('주행중입니다')"
      ],
      "execution_count": null,
      "outputs": []
    },
    {
      "cell_type": "code",
      "metadata": {
        "colab": {
          "base_uri": "https://localhost:8080/"
        },
        "id": "zyV5sJMHmE2Y",
        "outputId": "777f4d5d-a9d9-4364-d562-a9bd459882af"
      },
      "source": [
        "car1 = Car('BMT','3','white')\n",
        "car2 = Car('audi','A5','black')"
      ],
      "execution_count": null,
      "outputs": [
        {
          "output_type": "stream",
          "text": [
            "BMT 3 white 생성\n",
            "audi A5 black 생성\n"
          ],
          "name": "stdout"
        }
      ]
    },
    {
      "cell_type": "code",
      "metadata": {
        "id": "qs9xkXMnmIN_"
      },
      "source": [
        "# method 에서 attribute 사용하기\n",
        "\n",
        "class Car:\n",
        "    def __init__(self,brand,model,color):\n",
        "        self.brand = brand\n",
        "        self.model = model\n",
        "        self.color = color\n",
        "        print(brand,model,color,'생성')\n",
        "\n",
        "    def turn_on(self):\n",
        "        print(f'{self.brand} {self.model} 시동을 겁니다')\n",
        "    def turn_off(self):\n",
        "        print(f'{self.brand} {self.model} 시동을 끕니다')\n",
        "    def drive(self):\n",
        "        print(f'{self.brand} {self.model} 주행중입니다')\n"
      ],
      "execution_count": null,
      "outputs": []
    },
    {
      "cell_type": "code",
      "metadata": {
        "colab": {
          "base_uri": "https://localhost:8080/"
        },
        "id": "62Y1hTFvmYhH",
        "outputId": "3da18dc2-a1bb-4fb8-e77a-0cfd6d76e02c"
      },
      "source": [
        "car1 = Car('BMT','3','white')\n",
        "car2 = Car('audi','A5','black')\n",
        "\n",
        "# car1,car2 기능 수행\n",
        "car1.turn_on()\n",
        "car1.drive()\n",
        "car1.turn_off()\n",
        "\n",
        "car2.turn_on()\n",
        "car2.drive()\n",
        "car2.turn_off()"
      ],
      "execution_count": null,
      "outputs": [
        {
          "output_type": "stream",
          "text": [
            "BMT 3 white 생성\n",
            "audi A5 black 생성\n",
            "BMT 3 시동을 겁니다\n",
            "BMT 3 주행중입니다\n",
            "BMT 3 시동을 끕니다\n",
            "audi A5 시동을 겁니다\n",
            "audi A5 주행중입니다\n",
            "audi A5 시동을 끕니다\n"
          ],
          "name": "stdout"
        }
      ]
    },
    {
      "cell_type": "code",
      "metadata": {
        "colab": {
          "base_uri": "https://localhost:8080/"
        },
        "id": "LU2CX6t6phVD",
        "outputId": "c4895e08-60b4-43dd-a5e9-0fa60091b2b2"
      },
      "source": [
        "class Person:\n",
        "    def __init__(self, name, age, address):\n",
        "        self.hello = 'Hi,'\n",
        "        self.name = name\n",
        "        self.age = age\n",
        "        self.address = address\n",
        "    \n",
        "    def greeting(self):\n",
        "        print(f'{self.hello} I am {self.name}')\n",
        "\n",
        "p1 = Person('Jack', 20, 'New York')\n",
        "p1.greeting()\n",
        "\n",
        "print('Name:', p1.name)\n",
        "print('Age:', p1.age)\n",
        "print('Address:', p1.address)"
      ],
      "execution_count": null,
      "outputs": [
        {
          "output_type": "stream",
          "text": [
            "Hi, I am Jack\n",
            "Name: Jack\n",
            "Age: 20\n",
            "Address: New York\n"
          ],
          "name": "stdout"
        }
      ]
    },
    {
      "cell_type": "code",
      "metadata": {
        "colab": {
          "base_uri": "https://localhost:8080/"
        },
        "id": "ziODE0e6q01K",
        "outputId": "6c64fa2e-2720-4575-b7f1-a8513208b15b"
      },
      "source": [
        "class Book:\n",
        "    def __init__(self, bookName):\n",
        "        self.name = bookName\n",
        "        print('The object is created. The name of the book is ' + bookName)\n",
        "    def __del__(self):\n",
        "        print(self.name + \" is now removed\")\n",
        "\n",
        "book1 = Book(\"DT Python\")\n",
        "del book1"
      ],
      "execution_count": null,
      "outputs": [
        {
          "output_type": "stream",
          "text": [
            "The object is created. The name of the book is DT Python\n",
            "DT Python is now removed\n"
          ],
          "name": "stdout"
        }
      ]
    },
    {
      "cell_type": "code",
      "metadata": {
        "id": "V2KaPyqQvMmD"
      },
      "source": [
        "# 주사위게임\n",
        "\n",
        "import random\n",
        "pl_pos = 1\n",
        "com_pos = 1\n",
        "\n",
        "def board():\n",
        "    print(\"-\" * (pl_pos - 1) + \"Ｐ\" + \"-\" * (30 - pl_pos) + \"Goal\")\n",
        "    print(\"-\" * (com_pos - 1) + \"Ｃ\" + \"-\" * (30 - com_pos) + \"Goal\")\n",
        "\n",
        "board()\n",
        "print(\"주사위 게임, 스타트!\")\n",
        "\n",
        "while True:\n",
        "    input(\"Enter를 누르면 여러분의 말이 움직입니다\")\n",
        "    pl_pos = pl_pos + random.randint(1, 6)\n",
        "    if pl_pos > 30:\n",
        "        pl_pos = 30\n",
        "    board()\n",
        "    if pl_pos == 30:\n",
        "        print(\"당신이 승리했습니다！\")\n",
        "        break\n",
        "    input(\"Enter를 누르면 컴퓨터의 말이 움직입니다\")\n",
        "    com_pos = com_pos + random.randint(1, 6)\n",
        "    if com_pos > 30:\n",
        "        com_pos = 30\n",
        "    board()\n",
        "    if com_pos == 30:\n",
        "        print(\"컴퓨터가 승리했습니다!\")\n",
        "        break\n",
        "\n",
        "        "
      ],
      "execution_count": null,
      "outputs": []
    },
    {
      "cell_type": "code",
      "metadata": {
        "colab": {
          "base_uri": "https://localhost:8080/",
          "height": 834
        },
        "id": "7LUbPwMKvbYF",
        "outputId": "ca201684-3e93-401c-9a5d-a0cbc6f9df29"
      },
      "source": [
        "# 주사위 문제 응용\n",
        "\n",
        "# 주사위게임\n",
        "\n",
        "import random\n",
        "pl_pos = 1\n",
        "com_pos = 1\n",
        "r1 = random.randint(1, 6)\n",
        "r2 = random.randint(1, 6)\n",
        "\n",
        "def board():\n",
        "    print(\"-\" * (pl_pos - 1) + \"Ｐ\" + \"-\" * (30 - pl_pos) + \"Goal\")\n",
        "    print(\"-\" * (com_pos - 1) + \"Ｃ\" + \"-\" * (30 - com_pos) + \"Goal\")\n",
        "\n",
        "board()\n",
        "print(\"주사위 게임, 스타트!\")\n",
        "\n",
        "while True:\n",
        "    input(\"Enter를 누르면 여러분의 말이 움직입니다\")\n",
        "    if r1 %2 == 0:\n",
        "        pl_pos = pl_pos + r1\n",
        "        if pl_pos > 30:\n",
        "            pl_pos = 30\n",
        "        board()\n",
        "        if pl_pos == 30:\n",
        "            print(\"당신이 승리했습니다！\")\n",
        "            break\n",
        "    else: \n",
        "        print('이런, 홀수입니다. 다시 던져 주세요.')\n",
        "        input(\"Enter를 누르면 여러분의 말이 움직입니다\")\n",
        "        board()\n",
        "        #break\n",
        "\n",
        "    input(\"Enter를 누르면 컴퓨터의 말이 움직입니다\")\n",
        "    if r2 %2 == 0:\n",
        "        com_pos = com_pos + r2\n",
        "        if com_pos > 30:\n",
        "            com_pos = 30\n",
        "        board()\n",
        "        if com_pos == 30:\n",
        "            print(\"컴퓨터 승리했습니다！\")\n",
        "            break\n",
        "    else: \n",
        "        print('이런, 홀수입니다. 다시 던집니다..')\n",
        "        input(\"Enter를 누르면 컴퓨터의 말이 움직입니다\")\n",
        "        board()\n",
        "        #break\n",
        "\n",
        "\n"
      ],
      "execution_count": null,
      "outputs": [
        {
          "output_type": "stream",
          "text": [
            "Ｐ-----------------------------Goal\n",
            "Ｃ-----------------------------Goal\n",
            "주사위 게임, 스타트!\n",
            "Enter를 누르면 여러분의 말이 움직입니다\n",
            "이런, 홀수입니다. 다시 던져 주세요.\n",
            "Enter를 누르면 여러분의 말이 움직입니다\n",
            "Ｐ-----------------------------Goal\n",
            "Ｃ-----------------------------Goal\n",
            "Enter를 누르면 컴퓨터의 말이 움직입니다\n",
            "이런, 홀수입니다. 다시 던집니다..\n",
            "Enter를 누르면 컴퓨터의 말이 움직입니다\n",
            "Ｐ-----------------------------Goal\n",
            "Ｃ-----------------------------Goal\n",
            "Enter를 누르면 여러분의 말이 움직입니다\n",
            "이런, 홀수입니다. 다시 던져 주세요.\n",
            "Enter를 누르면 여러분의 말이 움직입니다\n",
            "Ｐ-----------------------------Goal\n",
            "Ｃ-----------------------------Goal\n"
          ],
          "name": "stdout"
        },
        {
          "output_type": "error",
          "ename": "KeyboardInterrupt",
          "evalue": "ignored",
          "traceback": [
            "\u001b[0;31m---------------------------------------------------------------------------\u001b[0m",
            "\u001b[0;31mKeyboardInterrupt\u001b[0m                         Traceback (most recent call last)",
            "\u001b[0;32m/usr/local/lib/python3.7/dist-packages/ipykernel/kernelbase.py\u001b[0m in \u001b[0;36m_input_request\u001b[0;34m(self, prompt, ident, parent, password)\u001b[0m\n\u001b[1;32m    728\u001b[0m             \u001b[0;32mtry\u001b[0m\u001b[0;34m:\u001b[0m\u001b[0;34m\u001b[0m\u001b[0;34m\u001b[0m\u001b[0m\n\u001b[0;32m--> 729\u001b[0;31m                 \u001b[0mident\u001b[0m\u001b[0;34m,\u001b[0m \u001b[0mreply\u001b[0m \u001b[0;34m=\u001b[0m \u001b[0mself\u001b[0m\u001b[0;34m.\u001b[0m\u001b[0msession\u001b[0m\u001b[0;34m.\u001b[0m\u001b[0mrecv\u001b[0m\u001b[0;34m(\u001b[0m\u001b[0mself\u001b[0m\u001b[0;34m.\u001b[0m\u001b[0mstdin_socket\u001b[0m\u001b[0;34m,\u001b[0m \u001b[0;36m0\u001b[0m\u001b[0;34m)\u001b[0m\u001b[0;34m\u001b[0m\u001b[0;34m\u001b[0m\u001b[0m\n\u001b[0m\u001b[1;32m    730\u001b[0m             \u001b[0;32mexcept\u001b[0m \u001b[0mException\u001b[0m\u001b[0;34m:\u001b[0m\u001b[0;34m\u001b[0m\u001b[0;34m\u001b[0m\u001b[0m\n",
            "\u001b[0;32m/usr/local/lib/python3.7/dist-packages/jupyter_client/session.py\u001b[0m in \u001b[0;36mrecv\u001b[0;34m(self, socket, mode, content, copy)\u001b[0m\n\u001b[1;32m    802\u001b[0m         \u001b[0;32mtry\u001b[0m\u001b[0;34m:\u001b[0m\u001b[0;34m\u001b[0m\u001b[0;34m\u001b[0m\u001b[0m\n\u001b[0;32m--> 803\u001b[0;31m             \u001b[0mmsg_list\u001b[0m \u001b[0;34m=\u001b[0m \u001b[0msocket\u001b[0m\u001b[0;34m.\u001b[0m\u001b[0mrecv_multipart\u001b[0m\u001b[0;34m(\u001b[0m\u001b[0mmode\u001b[0m\u001b[0;34m,\u001b[0m \u001b[0mcopy\u001b[0m\u001b[0;34m=\u001b[0m\u001b[0mcopy\u001b[0m\u001b[0;34m)\u001b[0m\u001b[0;34m\u001b[0m\u001b[0;34m\u001b[0m\u001b[0m\n\u001b[0m\u001b[1;32m    804\u001b[0m         \u001b[0;32mexcept\u001b[0m \u001b[0mzmq\u001b[0m\u001b[0;34m.\u001b[0m\u001b[0mZMQError\u001b[0m \u001b[0;32mas\u001b[0m \u001b[0me\u001b[0m\u001b[0;34m:\u001b[0m\u001b[0;34m\u001b[0m\u001b[0;34m\u001b[0m\u001b[0m\n",
            "\u001b[0;32m/usr/local/lib/python3.7/dist-packages/zmq/sugar/socket.py\u001b[0m in \u001b[0;36mrecv_multipart\u001b[0;34m(self, flags, copy, track)\u001b[0m\n\u001b[1;32m    582\u001b[0m         \"\"\"\n\u001b[0;32m--> 583\u001b[0;31m         \u001b[0mparts\u001b[0m \u001b[0;34m=\u001b[0m \u001b[0;34m[\u001b[0m\u001b[0mself\u001b[0m\u001b[0;34m.\u001b[0m\u001b[0mrecv\u001b[0m\u001b[0;34m(\u001b[0m\u001b[0mflags\u001b[0m\u001b[0;34m,\u001b[0m \u001b[0mcopy\u001b[0m\u001b[0;34m=\u001b[0m\u001b[0mcopy\u001b[0m\u001b[0;34m,\u001b[0m \u001b[0mtrack\u001b[0m\u001b[0;34m=\u001b[0m\u001b[0mtrack\u001b[0m\u001b[0;34m)\u001b[0m\u001b[0;34m]\u001b[0m\u001b[0;34m\u001b[0m\u001b[0;34m\u001b[0m\u001b[0m\n\u001b[0m\u001b[1;32m    584\u001b[0m         \u001b[0;31m# have first part already, only loop while more to receive\u001b[0m\u001b[0;34m\u001b[0m\u001b[0;34m\u001b[0m\u001b[0;34m\u001b[0m\u001b[0m\n",
            "\u001b[0;32mzmq/backend/cython/socket.pyx\u001b[0m in \u001b[0;36mzmq.backend.cython.socket.Socket.recv\u001b[0;34m()\u001b[0m\n",
            "\u001b[0;32mzmq/backend/cython/socket.pyx\u001b[0m in \u001b[0;36mzmq.backend.cython.socket.Socket.recv\u001b[0;34m()\u001b[0m\n",
            "\u001b[0;32mzmq/backend/cython/socket.pyx\u001b[0m in \u001b[0;36mzmq.backend.cython.socket._recv_copy\u001b[0;34m()\u001b[0m\n",
            "\u001b[0;32m/usr/local/lib/python3.7/dist-packages/zmq/backend/cython/checkrc.pxd\u001b[0m in \u001b[0;36mzmq.backend.cython.checkrc._check_rc\u001b[0;34m()\u001b[0m\n",
            "\u001b[0;31mKeyboardInterrupt\u001b[0m: ",
            "\nDuring handling of the above exception, another exception occurred:\n",
            "\u001b[0;31mKeyboardInterrupt\u001b[0m                         Traceback (most recent call last)",
            "\u001b[0;32m<ipython-input-67-7f04c42a94fd>\u001b[0m in \u001b[0;36m<module>\u001b[0;34m()\u001b[0m\n\u001b[1;32m     31\u001b[0m         \u001b[0mboard\u001b[0m\u001b[0;34m(\u001b[0m\u001b[0;34m)\u001b[0m\u001b[0;34m\u001b[0m\u001b[0;34m\u001b[0m\u001b[0m\n\u001b[1;32m     32\u001b[0m \u001b[0;34m\u001b[0m\u001b[0m\n\u001b[0;32m---> 33\u001b[0;31m     \u001b[0minput\u001b[0m\u001b[0;34m(\u001b[0m\u001b[0;34m\"Enter를 누르면 컴퓨터의 말이 움직입니다\"\u001b[0m\u001b[0;34m)\u001b[0m\u001b[0;34m\u001b[0m\u001b[0;34m\u001b[0m\u001b[0m\n\u001b[0m\u001b[1;32m     34\u001b[0m     \u001b[0;32mif\u001b[0m \u001b[0mr2\u001b[0m \u001b[0;34m%\u001b[0m\u001b[0;36m2\u001b[0m \u001b[0;34m==\u001b[0m \u001b[0;36m0\u001b[0m\u001b[0;34m:\u001b[0m\u001b[0;34m\u001b[0m\u001b[0;34m\u001b[0m\u001b[0m\n\u001b[1;32m     35\u001b[0m         \u001b[0mcom_pos\u001b[0m \u001b[0;34m=\u001b[0m \u001b[0mcom_pos\u001b[0m \u001b[0;34m+\u001b[0m \u001b[0mr2\u001b[0m\u001b[0;34m\u001b[0m\u001b[0;34m\u001b[0m\u001b[0m\n",
            "\u001b[0;32m/usr/local/lib/python3.7/dist-packages/ipykernel/kernelbase.py\u001b[0m in \u001b[0;36mraw_input\u001b[0;34m(self, prompt)\u001b[0m\n\u001b[1;32m    702\u001b[0m             \u001b[0mself\u001b[0m\u001b[0;34m.\u001b[0m\u001b[0m_parent_ident\u001b[0m\u001b[0;34m,\u001b[0m\u001b[0;34m\u001b[0m\u001b[0;34m\u001b[0m\u001b[0m\n\u001b[1;32m    703\u001b[0m             \u001b[0mself\u001b[0m\u001b[0;34m.\u001b[0m\u001b[0m_parent_header\u001b[0m\u001b[0;34m,\u001b[0m\u001b[0;34m\u001b[0m\u001b[0;34m\u001b[0m\u001b[0m\n\u001b[0;32m--> 704\u001b[0;31m             \u001b[0mpassword\u001b[0m\u001b[0;34m=\u001b[0m\u001b[0;32mFalse\u001b[0m\u001b[0;34m,\u001b[0m\u001b[0;34m\u001b[0m\u001b[0;34m\u001b[0m\u001b[0m\n\u001b[0m\u001b[1;32m    705\u001b[0m         )\n\u001b[1;32m    706\u001b[0m \u001b[0;34m\u001b[0m\u001b[0m\n",
            "\u001b[0;32m/usr/local/lib/python3.7/dist-packages/ipykernel/kernelbase.py\u001b[0m in \u001b[0;36m_input_request\u001b[0;34m(self, prompt, ident, parent, password)\u001b[0m\n\u001b[1;32m    732\u001b[0m             \u001b[0;32mexcept\u001b[0m \u001b[0mKeyboardInterrupt\u001b[0m\u001b[0;34m:\u001b[0m\u001b[0;34m\u001b[0m\u001b[0;34m\u001b[0m\u001b[0m\n\u001b[1;32m    733\u001b[0m                 \u001b[0;31m# re-raise KeyboardInterrupt, to truncate traceback\u001b[0m\u001b[0;34m\u001b[0m\u001b[0;34m\u001b[0m\u001b[0;34m\u001b[0m\u001b[0m\n\u001b[0;32m--> 734\u001b[0;31m                 \u001b[0;32mraise\u001b[0m \u001b[0mKeyboardInterrupt\u001b[0m\u001b[0;34m\u001b[0m\u001b[0;34m\u001b[0m\u001b[0m\n\u001b[0m\u001b[1;32m    735\u001b[0m             \u001b[0;32melse\u001b[0m\u001b[0;34m:\u001b[0m\u001b[0;34m\u001b[0m\u001b[0;34m\u001b[0m\u001b[0m\n\u001b[1;32m    736\u001b[0m                 \u001b[0;32mbreak\u001b[0m\u001b[0;34m\u001b[0m\u001b[0;34m\u001b[0m\u001b[0m\n",
            "\u001b[0;31mKeyboardInterrupt\u001b[0m: "
          ]
        }
      ]
    }
  ]
}
